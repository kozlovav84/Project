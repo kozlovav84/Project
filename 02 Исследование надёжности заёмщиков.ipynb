{
 "cells": [
  {
   "cell_type": "markdown",
   "metadata": {},
   "source": [
    "# Исследование надежности заемщиков. "
   ]
  },
  {
   "cell_type": "markdown",
   "metadata": {},
   "source": [
    "## Описание проекта\n",
    "Заказчик — кредитный отдел банка. Нужно разобраться, влияет ли семейное положение и количество детей клиента на факт погашения кредита в срок. Входные данные от банка — статистика о платёжеспособности клиентов.\n",
    "Результаты исследования будут учтены при построении модели кредитного скоринга — специальной системы, которая оценивает способность потенциального заёмщика вернуть кредит банку."
   ]
  },
  {
   "cell_type": "markdown",
   "metadata": {},
   "source": [
    "### Шаг 1. Обзор данных\n"
   ]
  },
  {
   "cell_type": "code",
   "execution_count": 1,
   "metadata": {},
   "outputs": [
    {
     "name": "stdout",
     "output_type": "stream",
     "text": [
      "<class 'pandas.core.frame.DataFrame'>\n",
      "RangeIndex: 21525 entries, 0 to 21524\n",
      "Data columns (total 12 columns):\n",
      " #   Column            Non-Null Count  Dtype  \n",
      "---  ------            --------------  -----  \n",
      " 0   children          21525 non-null  int64  \n",
      " 1   days_employed     19351 non-null  float64\n",
      " 2   dob_years         21525 non-null  int64  \n",
      " 3   education         21525 non-null  object \n",
      " 4   education_id      21525 non-null  int64  \n",
      " 5   family_status     21525 non-null  object \n",
      " 6   family_status_id  21525 non-null  int64  \n",
      " 7   gender            21525 non-null  object \n",
      " 8   income_type       21525 non-null  object \n",
      " 9   debt              21525 non-null  int64  \n",
      " 10  total_income      19351 non-null  float64\n",
      " 11  purpose           21525 non-null  object \n",
      "dtypes: float64(2), int64(5), object(5)\n",
      "memory usage: 2.0+ MB\n"
     ]
    },
    {
     "data": {
      "text/html": [
       "<div>\n",
       "<style scoped>\n",
       "    .dataframe tbody tr th:only-of-type {\n",
       "        vertical-align: middle;\n",
       "    }\n",
       "\n",
       "    .dataframe tbody tr th {\n",
       "        vertical-align: top;\n",
       "    }\n",
       "\n",
       "    .dataframe thead th {\n",
       "        text-align: right;\n",
       "    }\n",
       "</style>\n",
       "<table border=\"1\" class=\"dataframe\">\n",
       "  <thead>\n",
       "    <tr style=\"text-align: right;\">\n",
       "      <th></th>\n",
       "      <th>children</th>\n",
       "      <th>days_employed</th>\n",
       "      <th>dob_years</th>\n",
       "      <th>education</th>\n",
       "      <th>education_id</th>\n",
       "      <th>family_status</th>\n",
       "      <th>family_status_id</th>\n",
       "      <th>gender</th>\n",
       "      <th>income_type</th>\n",
       "      <th>debt</th>\n",
       "      <th>total_income</th>\n",
       "      <th>purpose</th>\n",
       "    </tr>\n",
       "  </thead>\n",
       "  <tbody>\n",
       "    <tr>\n",
       "      <th>0</th>\n",
       "      <td>1</td>\n",
       "      <td>-8437.673028</td>\n",
       "      <td>42</td>\n",
       "      <td>высшее</td>\n",
       "      <td>0</td>\n",
       "      <td>женат / замужем</td>\n",
       "      <td>0</td>\n",
       "      <td>F</td>\n",
       "      <td>сотрудник</td>\n",
       "      <td>0</td>\n",
       "      <td>253875.639453</td>\n",
       "      <td>покупка жилья</td>\n",
       "    </tr>\n",
       "    <tr>\n",
       "      <th>1</th>\n",
       "      <td>1</td>\n",
       "      <td>-4024.803754</td>\n",
       "      <td>36</td>\n",
       "      <td>среднее</td>\n",
       "      <td>1</td>\n",
       "      <td>женат / замужем</td>\n",
       "      <td>0</td>\n",
       "      <td>F</td>\n",
       "      <td>сотрудник</td>\n",
       "      <td>0</td>\n",
       "      <td>112080.014102</td>\n",
       "      <td>приобретение автомобиля</td>\n",
       "    </tr>\n",
       "    <tr>\n",
       "      <th>2</th>\n",
       "      <td>0</td>\n",
       "      <td>-5623.422610</td>\n",
       "      <td>33</td>\n",
       "      <td>Среднее</td>\n",
       "      <td>1</td>\n",
       "      <td>женат / замужем</td>\n",
       "      <td>0</td>\n",
       "      <td>M</td>\n",
       "      <td>сотрудник</td>\n",
       "      <td>0</td>\n",
       "      <td>145885.952297</td>\n",
       "      <td>покупка жилья</td>\n",
       "    </tr>\n",
       "    <tr>\n",
       "      <th>3</th>\n",
       "      <td>3</td>\n",
       "      <td>-4124.747207</td>\n",
       "      <td>32</td>\n",
       "      <td>среднее</td>\n",
       "      <td>1</td>\n",
       "      <td>женат / замужем</td>\n",
       "      <td>0</td>\n",
       "      <td>M</td>\n",
       "      <td>сотрудник</td>\n",
       "      <td>0</td>\n",
       "      <td>267628.550329</td>\n",
       "      <td>дополнительное образование</td>\n",
       "    </tr>\n",
       "    <tr>\n",
       "      <th>4</th>\n",
       "      <td>0</td>\n",
       "      <td>340266.072047</td>\n",
       "      <td>53</td>\n",
       "      <td>среднее</td>\n",
       "      <td>1</td>\n",
       "      <td>гражданский брак</td>\n",
       "      <td>1</td>\n",
       "      <td>F</td>\n",
       "      <td>пенсионер</td>\n",
       "      <td>0</td>\n",
       "      <td>158616.077870</td>\n",
       "      <td>сыграть свадьбу</td>\n",
       "    </tr>\n",
       "  </tbody>\n",
       "</table>\n",
       "</div>"
      ],
      "text/plain": [
       "   children  days_employed  dob_years education  education_id  \\\n",
       "0         1   -8437.673028         42    высшее             0   \n",
       "1         1   -4024.803754         36   среднее             1   \n",
       "2         0   -5623.422610         33   Среднее             1   \n",
       "3         3   -4124.747207         32   среднее             1   \n",
       "4         0  340266.072047         53   среднее             1   \n",
       "\n",
       "      family_status  family_status_id gender income_type  debt   total_income  \\\n",
       "0   женат / замужем                 0      F   сотрудник     0  253875.639453   \n",
       "1   женат / замужем                 0      F   сотрудник     0  112080.014102   \n",
       "2   женат / замужем                 0      M   сотрудник     0  145885.952297   \n",
       "3   женат / замужем                 0      M   сотрудник     0  267628.550329   \n",
       "4  гражданский брак                 1      F   пенсионер     0  158616.077870   \n",
       "\n",
       "                      purpose  \n",
       "0               покупка жилья  \n",
       "1     приобретение автомобиля  \n",
       "2               покупка жилья  \n",
       "3  дополнительное образование  \n",
       "4             сыграть свадьбу  "
      ]
     },
     "execution_count": 1,
     "metadata": {},
     "output_type": "execute_result"
    }
   ],
   "source": [
    "import pandas as pd # импортирую библиотеку pandas\n",
    "try:\n",
    "    df = pd.read_csv('/datasets/data.csv') #загружаю данные \n",
    "except: \n",
    "    df = pd.read_csv('data.csv')\n",
    "df.info() \n",
    "df.head() #знакомлюсь с данными"
   ]
  },
  {
   "cell_type": "markdown",
   "metadata": {},
   "source": [
    "### Шаг 2.1 Заполнение пропусков"
   ]
  },
  {
   "cell_type": "markdown",
   "metadata": {},
   "source": [
    "После вызова df.info() видно, что общее количество значений в таблице 21525. В двух столбцах df['total_income'] и df['days_employed'] количество  значений 19351, значит в этих столбцах есть пропуски. Доля пропущенных значений составляет 10%."
   ]
  },
  {
   "cell_type": "code",
   "execution_count": 2,
   "metadata": {
    "scrolled": true
   },
   "outputs": [
    {
     "name": "stdout",
     "output_type": "stream",
     "text": [
      "Доля пропущенных значений составляет: 10\n"
     ]
    }
   ],
   "source": [
    "print ('Доля пропущенных значений составляет:',round((len(df[df['total_income'].isna()])) * 100 / len(df['total_income']))) # Доля пропущенных значений составляет 10%."
   ]
  },
  {
   "cell_type": "code",
   "execution_count": 3,
   "metadata": {
    "scrolled": false
   },
   "outputs": [
    {
     "name": "stdout",
     "output_type": "stream",
     "text": [
      "<class 'pandas.core.frame.DataFrame'>\n",
      "RangeIndex: 21525 entries, 0 to 21524\n",
      "Data columns (total 12 columns):\n",
      " #   Column            Non-Null Count  Dtype  \n",
      "---  ------            --------------  -----  \n",
      " 0   children          21525 non-null  int64  \n",
      " 1   days_employed     21525 non-null  float64\n",
      " 2   dob_years         21525 non-null  int64  \n",
      " 3   education         21525 non-null  object \n",
      " 4   education_id      21525 non-null  int64  \n",
      " 5   family_status     21525 non-null  object \n",
      " 6   family_status_id  21525 non-null  int64  \n",
      " 7   gender            21525 non-null  object \n",
      " 8   income_type       21525 non-null  object \n",
      " 9   debt              21525 non-null  int64  \n",
      " 10  total_income      21525 non-null  float64\n",
      " 11  purpose           21525 non-null  object \n",
      "dtypes: float64(2), int64(5), object(5)\n",
      "memory usage: 2.0+ MB\n"
     ]
    }
   ],
   "source": [
    "df['days_employed'] = df['days_employed'].abs() #поскольку в столбце df['days_employed'] есть отрицательные значения, применяю метод abs()\n",
    "df['days_employed'] = df['days_employed'].fillna(value=df['days_employed'].median()) # заполняю пропускии в столбце df['days_employed'] медианным значением\n",
    "df['total_income'] = df['total_income'].fillna(value=df['total_income'].median()) # тоже самое для столбца df['total_income']\n",
    "df.info() # пропусков больше нет"
   ]
  },
  {
   "cell_type": "markdown",
   "metadata": {},
   "source": [
    "Поскольку данные могут содержать аномалии, то пропуски в количественных переменных лучше заполнять медианным значением, так данные будут более корректны. \n",
    "Причины появления пропусков могут быть различны. Приведу приведу самые очевидные:\n",
    "- ошибка оператора, который заполнял данные;\n",
    "- ошибка при выгрузке данных.\n"
   ]
  },
  {
   "cell_type": "markdown",
   "metadata": {},
   "source": [
    "### Шаг 2.2 Проверка данных на аномалии и исправления."
   ]
  },
  {
   "cell_type": "markdown",
   "metadata": {},
   "source": [
    "В процессе обработки данных встретились значения, которые скорее всего не отражают действительность и появились по какой-то ошибке. Например:\n",
    "- возраст 0 лет в столбце df['\tdob_years'];\n",
    "- отрицательное значение трудового стажа в столбце df['days_employed'];\n",
    "- отрицательное значение количества детей в столбце df['children'];\n",
    "- большое значение количества детей в столбце df['children'].\n",
    "Поскольку параметр \"Возраст заёмщика\", обозначенный в столбце df['\tdob_years'] в исследовании не участвует, то оставим его без внимания.\n",
    "С отрицательным значением трудового стажа мы разобрались в шаге 2.1, приведя значения в положительные, использовоав метод abs().\n",
    "Полскольку отрицательное значение количества детей в столбце df['children'] я считаю опечаткой, то приведём это значение к положительному методом abs().\n",
    "20 детей вероятнее всего быть не может, тк это слишком сильно выбивается из средних показателей. Скорее всего детей 2. Для исправления этой аномалии использую метод индексмации с оператором loc.\n"
   ]
  },
  {
   "cell_type": "code",
   "execution_count": 4,
   "metadata": {},
   "outputs": [
    {
     "data": {
      "text/plain": [
       "0    14149\n",
       "1     4865\n",
       "2     2131\n",
       "3      330\n",
       "4       41\n",
       "5        9\n",
       "Name: children, dtype: int64"
      ]
     },
     "execution_count": 4,
     "metadata": {},
     "output_type": "execute_result"
    }
   ],
   "source": [
    "df['children'] = df['children'].abs() # привожу отрицательное значение к положительному.\n",
    "df.loc[df['children'] == 20 , 'children'] = 2 # заменяю значение \"20\" на значение \"2\"\n",
    "df['children'].value_counts()"
   ]
  },
  {
   "cell_type": "markdown",
   "metadata": {},
   "source": [
    "### Шаг 2.3. Изменение типов данных."
   ]
  },
  {
   "cell_type": "markdown",
   "metadata": {},
   "source": [
    "Для изменения вещественного типа данных в столбце df['total_income'] на целочисленный выполню с помощью метода astype():"
   ]
  },
  {
   "cell_type": "code",
   "execution_count": 5,
   "metadata": {
    "scrolled": true
   },
   "outputs": [
    {
     "name": "stdout",
     "output_type": "stream",
     "text": [
      "<class 'pandas.core.frame.DataFrame'>\n",
      "RangeIndex: 21525 entries, 0 to 21524\n",
      "Data columns (total 12 columns):\n",
      " #   Column            Non-Null Count  Dtype  \n",
      "---  ------            --------------  -----  \n",
      " 0   children          21525 non-null  int64  \n",
      " 1   days_employed     21525 non-null  float64\n",
      " 2   dob_years         21525 non-null  int64  \n",
      " 3   education         21525 non-null  object \n",
      " 4   education_id      21525 non-null  int64  \n",
      " 5   family_status     21525 non-null  object \n",
      " 6   family_status_id  21525 non-null  int64  \n",
      " 7   gender            21525 non-null  object \n",
      " 8   income_type       21525 non-null  object \n",
      " 9   debt              21525 non-null  int64  \n",
      " 10  total_income      21525 non-null  int64  \n",
      " 11  purpose           21525 non-null  object \n",
      "dtypes: float64(1), int64(6), object(5)\n",
      "memory usage: 2.0+ MB\n"
     ]
    }
   ],
   "source": [
    "df['total_income'] = df['total_income'].astype('int') #Изменяю тип данных в столбце df['total_income'] методом astype()\n",
    "df.info() # проверяю: тип данных был \"float64\", стал \"int64\" "
   ]
  },
  {
   "cell_type": "markdown",
   "metadata": {},
   "source": [
    "### Шаг 2.4. Удаление дубликатов."
   ]
  },
  {
   "cell_type": "markdown",
   "metadata": {},
   "source": [
    "Для проверки явных дубликатов применю метод duplicated() с функцией sum() чтобы посмотреть количество возможных дубликатов:"
   ]
  },
  {
   "cell_type": "code",
   "execution_count": 6,
   "metadata": {},
   "outputs": [
    {
     "data": {
      "text/plain": [
       "54"
      ]
     },
     "execution_count": 6,
     "metadata": {},
     "output_type": "execute_result"
    }
   ],
   "source": [
    "df.duplicated().sum()"
   ]
  },
  {
   "cell_type": "markdown",
   "metadata": {},
   "source": [
    "Всего 54 дубля из 21525 строк, очень немного. Посмотрю на эти строки:"
   ]
  },
  {
   "cell_type": "code",
   "execution_count": 7,
   "metadata": {},
   "outputs": [
    {
     "data": {
      "text/html": [
       "<div>\n",
       "<style scoped>\n",
       "    .dataframe tbody tr th:only-of-type {\n",
       "        vertical-align: middle;\n",
       "    }\n",
       "\n",
       "    .dataframe tbody tr th {\n",
       "        vertical-align: top;\n",
       "    }\n",
       "\n",
       "    .dataframe thead th {\n",
       "        text-align: right;\n",
       "    }\n",
       "</style>\n",
       "<table border=\"1\" class=\"dataframe\">\n",
       "  <thead>\n",
       "    <tr style=\"text-align: right;\">\n",
       "      <th></th>\n",
       "      <th>children</th>\n",
       "      <th>days_employed</th>\n",
       "      <th>dob_years</th>\n",
       "      <th>education</th>\n",
       "      <th>education_id</th>\n",
       "      <th>family_status</th>\n",
       "      <th>family_status_id</th>\n",
       "      <th>gender</th>\n",
       "      <th>income_type</th>\n",
       "      <th>debt</th>\n",
       "      <th>total_income</th>\n",
       "      <th>purpose</th>\n",
       "    </tr>\n",
       "  </thead>\n",
       "  <tbody>\n",
       "    <tr>\n",
       "      <th>2849</th>\n",
       "      <td>0</td>\n",
       "      <td>2194.220567</td>\n",
       "      <td>41</td>\n",
       "      <td>среднее</td>\n",
       "      <td>1</td>\n",
       "      <td>женат / замужем</td>\n",
       "      <td>0</td>\n",
       "      <td>F</td>\n",
       "      <td>сотрудник</td>\n",
       "      <td>0</td>\n",
       "      <td>145017</td>\n",
       "      <td>покупка жилья для семьи</td>\n",
       "    </tr>\n",
       "    <tr>\n",
       "      <th>4182</th>\n",
       "      <td>1</td>\n",
       "      <td>2194.220567</td>\n",
       "      <td>34</td>\n",
       "      <td>ВЫСШЕЕ</td>\n",
       "      <td>0</td>\n",
       "      <td>гражданский брак</td>\n",
       "      <td>1</td>\n",
       "      <td>F</td>\n",
       "      <td>сотрудник</td>\n",
       "      <td>0</td>\n",
       "      <td>145017</td>\n",
       "      <td>свадьба</td>\n",
       "    </tr>\n",
       "    <tr>\n",
       "      <th>4851</th>\n",
       "      <td>0</td>\n",
       "      <td>2194.220567</td>\n",
       "      <td>60</td>\n",
       "      <td>среднее</td>\n",
       "      <td>1</td>\n",
       "      <td>гражданский брак</td>\n",
       "      <td>1</td>\n",
       "      <td>F</td>\n",
       "      <td>пенсионер</td>\n",
       "      <td>0</td>\n",
       "      <td>145017</td>\n",
       "      <td>свадьба</td>\n",
       "    </tr>\n",
       "    <tr>\n",
       "      <th>5557</th>\n",
       "      <td>0</td>\n",
       "      <td>2194.220567</td>\n",
       "      <td>58</td>\n",
       "      <td>среднее</td>\n",
       "      <td>1</td>\n",
       "      <td>гражданский брак</td>\n",
       "      <td>1</td>\n",
       "      <td>F</td>\n",
       "      <td>пенсионер</td>\n",
       "      <td>0</td>\n",
       "      <td>145017</td>\n",
       "      <td>сыграть свадьбу</td>\n",
       "    </tr>\n",
       "    <tr>\n",
       "      <th>7808</th>\n",
       "      <td>0</td>\n",
       "      <td>2194.220567</td>\n",
       "      <td>57</td>\n",
       "      <td>среднее</td>\n",
       "      <td>1</td>\n",
       "      <td>гражданский брак</td>\n",
       "      <td>1</td>\n",
       "      <td>F</td>\n",
       "      <td>пенсионер</td>\n",
       "      <td>0</td>\n",
       "      <td>145017</td>\n",
       "      <td>на проведение свадьбы</td>\n",
       "    </tr>\n",
       "    <tr>\n",
       "      <th>8583</th>\n",
       "      <td>0</td>\n",
       "      <td>2194.220567</td>\n",
       "      <td>58</td>\n",
       "      <td>высшее</td>\n",
       "      <td>0</td>\n",
       "      <td>Не женат / не замужем</td>\n",
       "      <td>4</td>\n",
       "      <td>F</td>\n",
       "      <td>пенсионер</td>\n",
       "      <td>0</td>\n",
       "      <td>145017</td>\n",
       "      <td>дополнительное образование</td>\n",
       "    </tr>\n",
       "    <tr>\n",
       "      <th>9238</th>\n",
       "      <td>2</td>\n",
       "      <td>2194.220567</td>\n",
       "      <td>34</td>\n",
       "      <td>среднее</td>\n",
       "      <td>1</td>\n",
       "      <td>женат / замужем</td>\n",
       "      <td>0</td>\n",
       "      <td>F</td>\n",
       "      <td>сотрудник</td>\n",
       "      <td>0</td>\n",
       "      <td>145017</td>\n",
       "      <td>покупка жилья для сдачи</td>\n",
       "    </tr>\n",
       "    <tr>\n",
       "      <th>9528</th>\n",
       "      <td>0</td>\n",
       "      <td>2194.220567</td>\n",
       "      <td>66</td>\n",
       "      <td>среднее</td>\n",
       "      <td>1</td>\n",
       "      <td>вдовец / вдова</td>\n",
       "      <td>2</td>\n",
       "      <td>F</td>\n",
       "      <td>пенсионер</td>\n",
       "      <td>0</td>\n",
       "      <td>145017</td>\n",
       "      <td>операции со своей недвижимостью</td>\n",
       "    </tr>\n",
       "    <tr>\n",
       "      <th>9627</th>\n",
       "      <td>0</td>\n",
       "      <td>2194.220567</td>\n",
       "      <td>56</td>\n",
       "      <td>среднее</td>\n",
       "      <td>1</td>\n",
       "      <td>женат / замужем</td>\n",
       "      <td>0</td>\n",
       "      <td>F</td>\n",
       "      <td>пенсионер</td>\n",
       "      <td>0</td>\n",
       "      <td>145017</td>\n",
       "      <td>операции со своей недвижимостью</td>\n",
       "    </tr>\n",
       "    <tr>\n",
       "      <th>10462</th>\n",
       "      <td>0</td>\n",
       "      <td>2194.220567</td>\n",
       "      <td>62</td>\n",
       "      <td>среднее</td>\n",
       "      <td>1</td>\n",
       "      <td>женат / замужем</td>\n",
       "      <td>0</td>\n",
       "      <td>F</td>\n",
       "      <td>пенсионер</td>\n",
       "      <td>0</td>\n",
       "      <td>145017</td>\n",
       "      <td>покупка коммерческой недвижимости</td>\n",
       "    </tr>\n",
       "  </tbody>\n",
       "</table>\n",
       "</div>"
      ],
      "text/plain": [
       "       children  days_employed  dob_years education  education_id  \\\n",
       "2849          0    2194.220567         41   среднее             1   \n",
       "4182          1    2194.220567         34    ВЫСШЕЕ             0   \n",
       "4851          0    2194.220567         60   среднее             1   \n",
       "5557          0    2194.220567         58   среднее             1   \n",
       "7808          0    2194.220567         57   среднее             1   \n",
       "8583          0    2194.220567         58    высшее             0   \n",
       "9238          2    2194.220567         34   среднее             1   \n",
       "9528          0    2194.220567         66   среднее             1   \n",
       "9627          0    2194.220567         56   среднее             1   \n",
       "10462         0    2194.220567         62   среднее             1   \n",
       "\n",
       "               family_status  family_status_id gender income_type  debt  \\\n",
       "2849         женат / замужем                 0      F   сотрудник     0   \n",
       "4182        гражданский брак                 1      F   сотрудник     0   \n",
       "4851        гражданский брак                 1      F   пенсионер     0   \n",
       "5557        гражданский брак                 1      F   пенсионер     0   \n",
       "7808        гражданский брак                 1      F   пенсионер     0   \n",
       "8583   Не женат / не замужем                 4      F   пенсионер     0   \n",
       "9238         женат / замужем                 0      F   сотрудник     0   \n",
       "9528          вдовец / вдова                 2      F   пенсионер     0   \n",
       "9627         женат / замужем                 0      F   пенсионер     0   \n",
       "10462        женат / замужем                 0      F   пенсионер     0   \n",
       "\n",
       "       total_income                            purpose  \n",
       "2849         145017            покупка жилья для семьи  \n",
       "4182         145017                            свадьба  \n",
       "4851         145017                            свадьба  \n",
       "5557         145017                    сыграть свадьбу  \n",
       "7808         145017              на проведение свадьбы  \n",
       "8583         145017         дополнительное образование  \n",
       "9238         145017            покупка жилья для сдачи  \n",
       "9528         145017    операции со своей недвижимостью  \n",
       "9627         145017    операции со своей недвижимостью  \n",
       "10462        145017  покупка коммерческой недвижимости  "
      ]
     },
     "execution_count": 7,
     "metadata": {},
     "output_type": "execute_result"
    }
   ],
   "source": [
    "df[df.duplicated()].head(10)"
   ]
  },
  {
   "cell_type": "markdown",
   "metadata": {},
   "source": [
    "Метод принял за дубликаты медианные значения по столбцам df['total_income'] и df['days_employed']. Однако же остальные данные таблицы отличаются. Соответственно дубликатами такие строки считать недопустимо. "
   ]
  },
  {
   "cell_type": "markdown",
   "metadata": {},
   "source": [
    "Медотом value_counts() проверим таблицу на наличие неявных дубликатов:"
   ]
  },
  {
   "cell_type": "code",
   "execution_count": 8,
   "metadata": {},
   "outputs": [
    {
     "data": {
      "text/plain": [
       "среднее                13750\n",
       "высшее                  4718\n",
       "СРЕДНЕЕ                  772\n",
       "Среднее                  711\n",
       "неоконченное высшее      668\n",
       "ВЫСШЕЕ                   274\n",
       "Высшее                   268\n",
       "начальное                250\n",
       "Неоконченное высшее       47\n",
       "НЕОКОНЧЕННОЕ ВЫСШЕЕ       29\n",
       "НАЧАЛЬНОЕ                 17\n",
       "Начальное                 15\n",
       "ученая степень             4\n",
       "УЧЕНАЯ СТЕПЕНЬ             1\n",
       "Ученая степень             1\n",
       "Name: education, dtype: int64"
      ]
     },
     "execution_count": 8,
     "metadata": {},
     "output_type": "execute_result"
    }
   ],
   "source": [
    "df['education'].value_counts()"
   ]
  },
  {
   "cell_type": "markdown",
   "metadata": {},
   "source": [
    "D столбце df['education'] есть одни и те же значения, но записанные по-разному: с использованием заглавных и строчных букв. Привожу их к отдному регистру используя метод str.lower():"
   ]
  },
  {
   "cell_type": "code",
   "execution_count": 9,
   "metadata": {},
   "outputs": [
    {
     "data": {
      "text/plain": [
       "среднее                15233\n",
       "высшее                  5260\n",
       "неоконченное высшее      744\n",
       "начальное                282\n",
       "ученая степень             6\n",
       "Name: education, dtype: int64"
      ]
     },
     "execution_count": 9,
     "metadata": {},
     "output_type": "execute_result"
    }
   ],
   "source": [
    "df['education'] = df['education'].str.lower()\n",
    "df['education'].value_counts() #проверяю, изменились ли значения. Теперь они записаны одинаково. "
   ]
  },
  {
   "cell_type": "code",
   "execution_count": 10,
   "metadata": {
    "scrolled": true
   },
   "outputs": [
    {
     "data": {
      "text/plain": [
       "свадьба                                   797\n",
       "на проведение свадьбы                     777\n",
       "сыграть свадьбу                           774\n",
       "операции с недвижимостью                  676\n",
       "покупка коммерческой недвижимости         664\n",
       "покупка жилья для сдачи                   653\n",
       "операции с жильем                         653\n",
       "операции с коммерческой недвижимостью     651\n",
       "жилье                                     647\n",
       "покупка жилья                             647\n",
       "покупка жилья для семьи                   641\n",
       "строительство собственной недвижимости    635\n",
       "недвижимость                              634\n",
       "операции со своей недвижимостью           630\n",
       "строительство жилой недвижимости          626\n",
       "покупка недвижимости                      624\n",
       "строительство недвижимости                620\n",
       "покупка своего жилья                      620\n",
       "ремонт жилью                              612\n",
       "покупка жилой недвижимости                607\n",
       "на покупку своего автомобиля              505\n",
       "заняться высшим образованием              496\n",
       "автомобиль                                495\n",
       "сделка с подержанным автомобилем          489\n",
       "свой автомобиль                           480\n",
       "на покупку подержанного автомобиля        479\n",
       "автомобили                                478\n",
       "на покупку автомобиля                     472\n",
       "приобретение автомобиля                   462\n",
       "дополнительное образование                462\n",
       "сделка с автомобилем                      455\n",
       "высшее образование                        453\n",
       "образование                               447\n",
       "получение дополнительного образования     447\n",
       "получение образования                     443\n",
       "профильное образование                    436\n",
       "получение высшего образования             426\n",
       "заняться образованием                     412\n",
       "Name: purpose, dtype: int64"
      ]
     },
     "execution_count": 10,
     "metadata": {},
     "output_type": "execute_result"
    }
   ],
   "source": [
    "df['purpose'].value_counts()"
   ]
  },
  {
   "cell_type": "markdown",
   "metadata": {},
   "source": [
    "В столбце df['purpose'] встречаются значения с одинаковым смыслом, но записанные по разному. Эти значения смело можно признать дубликатами.\n",
    "Поскольку я уже устранил бардак в данных и создал новые категории в этом шаге до того, как дошёл до шага 2.7, объединяю это задание с шагом 2.7 \"Категоризации целей кредита\". Для этого создам столбец df[purpose_category], операции буду проводить для него.\n",
    "Избавляюсь от дубликатов вызвав метод replace(), а чтобы не повторять его много много раз создам специальную собственную функцию, отдельно для каждой категории:"
   ]
  },
  {
   "cell_type": "code",
   "execution_count": 11,
   "metadata": {},
   "outputs": [],
   "source": [
    "df['purpose_category'] = df['purpose']"
   ]
  },
  {
   "cell_type": "markdown",
   "metadata": {},
   "source": [
    "Начну со значения \"свадьба\" одной из самых неблагодарных процедур на планете. У меня было три свадьбы, и ниодна не окупилась. Никому не порекомендую тратить на это событие много денег, особенно, брать на него кредит. Так что если ты, дорогой мой проверяющий, в ближайшем будущем планируешь свадьбу, то прими мой совет: трать на это событие как можно меньше денег (Минутка юмора на АналитикFM). "
   ]
  },
  {
   "cell_type": "code",
   "execution_count": 12,
   "metadata": {
    "scrolled": true
   },
   "outputs": [
    {
     "data": {
      "text/plain": [
       "проведение свадьбы                        2348\n",
       "операции с недвижимостью                   676\n",
       "покупка коммерческой недвижимости          664\n",
       "операции с жильем                          653\n",
       "покупка жилья для сдачи                    653\n",
       "операции с коммерческой недвижимостью      651\n",
       "покупка жилья                              647\n",
       "жилье                                      647\n",
       "покупка жилья для семьи                    641\n",
       "строительство собственной недвижимости     635\n",
       "недвижимость                               634\n",
       "операции со своей недвижимостью            630\n",
       "строительство жилой недвижимости           626\n",
       "покупка недвижимости                       624\n",
       "покупка своего жилья                       620\n",
       "строительство недвижимости                 620\n",
       "ремонт жилью                               612\n",
       "покупка жилой недвижимости                 607\n",
       "на покупку своего автомобиля               505\n",
       "заняться высшим образованием               496\n",
       "автомобиль                                 495\n",
       "сделка с подержанным автомобилем           489\n",
       "свой автомобиль                            480\n",
       "на покупку подержанного автомобиля         479\n",
       "автомобили                                 478\n",
       "на покупку автомобиля                      472\n",
       "дополнительное образование                 462\n",
       "приобретение автомобиля                    462\n",
       "сделка с автомобилем                       455\n",
       "высшее образование                         453\n",
       "образование                                447\n",
       "получение дополнительного образования      447\n",
       "получение образования                      443\n",
       "профильное образование                     436\n",
       "получение высшего образования              426\n",
       "заняться образованием                      412\n",
       "Name: purpose_category, dtype: int64"
      ]
     },
     "execution_count": 12,
     "metadata": {},
     "output_type": "execute_result"
    }
   ],
   "source": [
    "def replace_wrong_values(wrong_values, correct_value): # на вход функции подаются список неправильных значений и строка с правильным значением\n",
    "    for wrong_value in wrong_values: # перебираем неправильные значения\n",
    "        df['purpose_category'] = df['purpose_category'].replace(wrong_value, correct_value) # и для каждого неправильного значения вызываем метод replace()\n",
    "\n",
    "duplicates = ['на проведение свадьбы', 'сыграть свадьбу', 'свадьба'] # список неправильных значений\n",
    "name = 'проведение свадьбы' # правильное значение\n",
    "replace_wrong_values(duplicates, name) # вызов функции, replace() внутри будет вызван нужное количество раз\n",
    "df['purpose_category'].value_counts() # проверяю изменения, неявные дубликаты устранены"
   ]
  },
  {
   "cell_type": "markdown",
   "metadata": {},
   "source": [
    "Продолжу со значением \"операции с недвижимостью\". В таблице есть разделение на коммерческую и жилую. Так же есть значение просто недвижимость, без указания назначения. Поэтому я объединяю коммерческую, жилую и любуые иные процедуры с недвижимостью в одну категорию \"операции с недвижимостью\":"
   ]
  },
  {
   "cell_type": "code",
   "execution_count": 13,
   "metadata": {
    "scrolled": true
   },
   "outputs": [
    {
     "data": {
      "text/plain": [
       "операции с недвижимостью                 10840\n",
       "проведение свадьбы                        2348\n",
       "на покупку своего автомобиля               505\n",
       "заняться высшим образованием               496\n",
       "автомобиль                                 495\n",
       "сделка с подержанным автомобилем           489\n",
       "свой автомобиль                            480\n",
       "на покупку подержанного автомобиля         479\n",
       "автомобили                                 478\n",
       "на покупку автомобиля                      472\n",
       "приобретение автомобиля                    462\n",
       "дополнительное образование                 462\n",
       "сделка с автомобилем                       455\n",
       "высшее образование                         453\n",
       "получение дополнительного образования      447\n",
       "образование                                447\n",
       "получение образования                      443\n",
       "профильное образование                     436\n",
       "получение высшего образования              426\n",
       "заняться образованием                      412\n",
       "Name: purpose_category, dtype: int64"
      ]
     },
     "execution_count": 13,
     "metadata": {},
     "output_type": "execute_result"
    }
   ],
   "source": [
    "def replace_wrong_values(wrong_values, correct_value): # на вход функции подаются список неправильных значений и строка с правильным значением\n",
    "    for wrong_value in wrong_values: # перебираем неправильные значения\n",
    "        df['purpose_category'] = df['purpose_category'].replace(wrong_value, correct_value) # и для каждого неправильного значения вызываем метод replace()\n",
    "\n",
    "duplicates = [\n",
    "    'покупка коммерческой недвижимости',\n",
    "    'покупка жилья для сдачи',\n",
    "    'операции с жильем',\n",
    "    'операции с коммерческой недвижимостью',\n",
    "    'жилье',\n",
    "    'покупка жилья',\n",
    "    'покупка жилья для семьи',\n",
    "    'строительство собственной недвижимости',\n",
    "    'недвижимость',\n",
    "    'операции со своей недвижимостью',\n",
    "    'строительство жилой недвижимости',\n",
    "    'покупка недвижимости',\n",
    "    'покупка своего жилья',\n",
    "    'строительство недвижимости',\n",
    "    'ремонт жилью',\n",
    "    'покупка жилой недвижимости'\n",
    "    \n",
    "             ] # список неправильных значений, мать его\n",
    "name = 'операции с недвижимостью' # правильное значение\n",
    "replace_wrong_values(duplicates, name) # вызов функции, replace() внутри будет вызван нужное количество раз\n",
    "df['purpose_category'].value_counts() # проверяю изменения, бардак в недвижимости уничтожен"
   ]
  },
  {
   "cell_type": "markdown",
   "metadata": {},
   "source": [
    "Аналогичным образом поступаем со значением \"автомобиль\":"
   ]
  },
  {
   "cell_type": "code",
   "execution_count": 14,
   "metadata": {},
   "outputs": [
    {
     "data": {
      "text/plain": [
       "операции с недвижимостью                 10840\n",
       "операции с автомобилем                    4315\n",
       "проведение свадьбы                        2348\n",
       "заняться высшим образованием               496\n",
       "дополнительное образование                 462\n",
       "высшее образование                         453\n",
       "получение дополнительного образования      447\n",
       "образование                                447\n",
       "получение образования                      443\n",
       "профильное образование                     436\n",
       "получение высшего образования              426\n",
       "заняться образованием                      412\n",
       "Name: purpose_category, dtype: int64"
      ]
     },
     "execution_count": 14,
     "metadata": {},
     "output_type": "execute_result"
    }
   ],
   "source": [
    "def replace_wrong_values(wrong_values, correct_value): # на вход функции подаются список неправильных значений и строка с правильным значением\n",
    "    for wrong_value in wrong_values: # перебираем неправильные значения\n",
    "        df['purpose_category'] = df['purpose_category'].replace(wrong_value, correct_value) # и для каждого неправильного значения вызываем метод replace()\n",
    "\n",
    "duplicates = [\n",
    "    'на покупку своего автомобиля',\n",
    "    'сделка с подержанным автомобилем',\n",
    "    'свой автомобиль',\n",
    "    'на покупку подержанного автомобиля',\n",
    "    'автомобили',\n",
    "    'на покупку автомобиля',\n",
    "    'приобретение автомобиля',\n",
    "    'сделка с автомобилем',\n",
    "    'автомобиль'\n",
    "             ] # список неправильных значений\n",
    "name = 'операции с автомобилем' # правильное значение\n",
    "replace_wrong_values(duplicates, name) # вызов функции, replace() внутри будет вызван нужное количество раз\n",
    "df['purpose_category'].value_counts() # проверяю изменения, автомобили на местах, навёл порядок в гараже"
   ]
  },
  {
   "cell_type": "markdown",
   "metadata": {},
   "source": [
    "И последнюю очередь (но ни в коем случае ни по важности) работаем со значением \"образование\". "
   ]
  },
  {
   "cell_type": "code",
   "execution_count": 15,
   "metadata": {},
   "outputs": [
    {
     "data": {
      "text/plain": [
       "операции с недвижимостью    10840\n",
       "операции с автомобилем       4315\n",
       "получение образования        4022\n",
       "проведение свадьбы           2348\n",
       "Name: purpose_category, dtype: int64"
      ]
     },
     "execution_count": 15,
     "metadata": {},
     "output_type": "execute_result"
    }
   ],
   "source": [
    "def replace_wrong_values(wrong_values, correct_value): # на вход функции подаются список неправильных значений и строка с правильным значением\n",
    "    for wrong_value in wrong_values: # перебираем неправильные значения\n",
    "        df['purpose_category'] = df['purpose_category'].replace(wrong_value, correct_value) # и для каждого неправильного значения вызываем метод replace()\n",
    "\n",
    "duplicates = [\n",
    "    'заняться высшим образованием',\n",
    "    'дополнительное образование',\n",
    "    'высшее образование',\n",
    "    'получение дополнительного образования',\n",
    "    'образование',\n",
    "    'профильное образование',\n",
    "    'получение высшего образования',\n",
    "    'заняться образованием'    \n",
    "             ] # список неправильных значений\n",
    "name = 'получение образования' # правильное значение\n",
    "replace_wrong_values(duplicates, name) # вызов функции, replace() внутри будет вызван нужное количество раз\n",
    "df['purpose_category'].value_counts() # проверяю изменения, конец неявным дублиуатам, позорящим наши датафреймы"
   ]
  },
  {
   "cell_type": "code",
   "execution_count": 16,
   "metadata": {
    "scrolled": true
   },
   "outputs": [
    {
     "data": {
      "text/html": [
       "<div>\n",
       "<style scoped>\n",
       "    .dataframe tbody tr th:only-of-type {\n",
       "        vertical-align: middle;\n",
       "    }\n",
       "\n",
       "    .dataframe tbody tr th {\n",
       "        vertical-align: top;\n",
       "    }\n",
       "\n",
       "    .dataframe thead th {\n",
       "        text-align: right;\n",
       "    }\n",
       "</style>\n",
       "<table border=\"1\" class=\"dataframe\">\n",
       "  <thead>\n",
       "    <tr style=\"text-align: right;\">\n",
       "      <th></th>\n",
       "      <th>children</th>\n",
       "      <th>days_employed</th>\n",
       "      <th>dob_years</th>\n",
       "      <th>education</th>\n",
       "      <th>education_id</th>\n",
       "      <th>family_status</th>\n",
       "      <th>family_status_id</th>\n",
       "      <th>gender</th>\n",
       "      <th>income_type</th>\n",
       "      <th>debt</th>\n",
       "      <th>total_income</th>\n",
       "      <th>purpose</th>\n",
       "      <th>purpose_category</th>\n",
       "    </tr>\n",
       "  </thead>\n",
       "  <tbody>\n",
       "    <tr>\n",
       "      <th>0</th>\n",
       "      <td>1</td>\n",
       "      <td>8437.673028</td>\n",
       "      <td>42</td>\n",
       "      <td>высшее</td>\n",
       "      <td>0</td>\n",
       "      <td>женат / замужем</td>\n",
       "      <td>0</td>\n",
       "      <td>F</td>\n",
       "      <td>сотрудник</td>\n",
       "      <td>0</td>\n",
       "      <td>253875</td>\n",
       "      <td>покупка жилья</td>\n",
       "      <td>операции с недвижимостью</td>\n",
       "    </tr>\n",
       "    <tr>\n",
       "      <th>1</th>\n",
       "      <td>1</td>\n",
       "      <td>4024.803754</td>\n",
       "      <td>36</td>\n",
       "      <td>среднее</td>\n",
       "      <td>1</td>\n",
       "      <td>женат / замужем</td>\n",
       "      <td>0</td>\n",
       "      <td>F</td>\n",
       "      <td>сотрудник</td>\n",
       "      <td>0</td>\n",
       "      <td>112080</td>\n",
       "      <td>приобретение автомобиля</td>\n",
       "      <td>операции с автомобилем</td>\n",
       "    </tr>\n",
       "    <tr>\n",
       "      <th>2</th>\n",
       "      <td>0</td>\n",
       "      <td>5623.422610</td>\n",
       "      <td>33</td>\n",
       "      <td>среднее</td>\n",
       "      <td>1</td>\n",
       "      <td>женат / замужем</td>\n",
       "      <td>0</td>\n",
       "      <td>M</td>\n",
       "      <td>сотрудник</td>\n",
       "      <td>0</td>\n",
       "      <td>145885</td>\n",
       "      <td>покупка жилья</td>\n",
       "      <td>операции с недвижимостью</td>\n",
       "    </tr>\n",
       "    <tr>\n",
       "      <th>3</th>\n",
       "      <td>3</td>\n",
       "      <td>4124.747207</td>\n",
       "      <td>32</td>\n",
       "      <td>среднее</td>\n",
       "      <td>1</td>\n",
       "      <td>женат / замужем</td>\n",
       "      <td>0</td>\n",
       "      <td>M</td>\n",
       "      <td>сотрудник</td>\n",
       "      <td>0</td>\n",
       "      <td>267628</td>\n",
       "      <td>дополнительное образование</td>\n",
       "      <td>получение образования</td>\n",
       "    </tr>\n",
       "    <tr>\n",
       "      <th>4</th>\n",
       "      <td>0</td>\n",
       "      <td>340266.072047</td>\n",
       "      <td>53</td>\n",
       "      <td>среднее</td>\n",
       "      <td>1</td>\n",
       "      <td>гражданский брак</td>\n",
       "      <td>1</td>\n",
       "      <td>F</td>\n",
       "      <td>пенсионер</td>\n",
       "      <td>0</td>\n",
       "      <td>158616</td>\n",
       "      <td>сыграть свадьбу</td>\n",
       "      <td>проведение свадьбы</td>\n",
       "    </tr>\n",
       "    <tr>\n",
       "      <th>5</th>\n",
       "      <td>0</td>\n",
       "      <td>926.185831</td>\n",
       "      <td>27</td>\n",
       "      <td>высшее</td>\n",
       "      <td>0</td>\n",
       "      <td>гражданский брак</td>\n",
       "      <td>1</td>\n",
       "      <td>M</td>\n",
       "      <td>компаньон</td>\n",
       "      <td>0</td>\n",
       "      <td>255763</td>\n",
       "      <td>покупка жилья</td>\n",
       "      <td>операции с недвижимостью</td>\n",
       "    </tr>\n",
       "    <tr>\n",
       "      <th>6</th>\n",
       "      <td>0</td>\n",
       "      <td>2879.202052</td>\n",
       "      <td>43</td>\n",
       "      <td>высшее</td>\n",
       "      <td>0</td>\n",
       "      <td>женат / замужем</td>\n",
       "      <td>0</td>\n",
       "      <td>F</td>\n",
       "      <td>компаньон</td>\n",
       "      <td>0</td>\n",
       "      <td>240525</td>\n",
       "      <td>операции с жильем</td>\n",
       "      <td>операции с недвижимостью</td>\n",
       "    </tr>\n",
       "    <tr>\n",
       "      <th>7</th>\n",
       "      <td>0</td>\n",
       "      <td>152.779569</td>\n",
       "      <td>50</td>\n",
       "      <td>среднее</td>\n",
       "      <td>1</td>\n",
       "      <td>женат / замужем</td>\n",
       "      <td>0</td>\n",
       "      <td>M</td>\n",
       "      <td>сотрудник</td>\n",
       "      <td>0</td>\n",
       "      <td>135823</td>\n",
       "      <td>образование</td>\n",
       "      <td>получение образования</td>\n",
       "    </tr>\n",
       "    <tr>\n",
       "      <th>8</th>\n",
       "      <td>2</td>\n",
       "      <td>6929.865299</td>\n",
       "      <td>35</td>\n",
       "      <td>высшее</td>\n",
       "      <td>0</td>\n",
       "      <td>гражданский брак</td>\n",
       "      <td>1</td>\n",
       "      <td>F</td>\n",
       "      <td>сотрудник</td>\n",
       "      <td>0</td>\n",
       "      <td>95856</td>\n",
       "      <td>на проведение свадьбы</td>\n",
       "      <td>проведение свадьбы</td>\n",
       "    </tr>\n",
       "    <tr>\n",
       "      <th>9</th>\n",
       "      <td>0</td>\n",
       "      <td>2188.756445</td>\n",
       "      <td>41</td>\n",
       "      <td>среднее</td>\n",
       "      <td>1</td>\n",
       "      <td>женат / замужем</td>\n",
       "      <td>0</td>\n",
       "      <td>M</td>\n",
       "      <td>сотрудник</td>\n",
       "      <td>0</td>\n",
       "      <td>144425</td>\n",
       "      <td>покупка жилья для семьи</td>\n",
       "      <td>операции с недвижимостью</td>\n",
       "    </tr>\n",
       "    <tr>\n",
       "      <th>10</th>\n",
       "      <td>2</td>\n",
       "      <td>4171.483647</td>\n",
       "      <td>36</td>\n",
       "      <td>высшее</td>\n",
       "      <td>0</td>\n",
       "      <td>женат / замужем</td>\n",
       "      <td>0</td>\n",
       "      <td>M</td>\n",
       "      <td>компаньон</td>\n",
       "      <td>0</td>\n",
       "      <td>113943</td>\n",
       "      <td>покупка недвижимости</td>\n",
       "      <td>операции с недвижимостью</td>\n",
       "    </tr>\n",
       "    <tr>\n",
       "      <th>11</th>\n",
       "      <td>0</td>\n",
       "      <td>792.701887</td>\n",
       "      <td>40</td>\n",
       "      <td>среднее</td>\n",
       "      <td>1</td>\n",
       "      <td>женат / замужем</td>\n",
       "      <td>0</td>\n",
       "      <td>F</td>\n",
       "      <td>сотрудник</td>\n",
       "      <td>0</td>\n",
       "      <td>77069</td>\n",
       "      <td>покупка коммерческой недвижимости</td>\n",
       "      <td>операции с недвижимостью</td>\n",
       "    </tr>\n",
       "    <tr>\n",
       "      <th>12</th>\n",
       "      <td>0</td>\n",
       "      <td>2194.220567</td>\n",
       "      <td>65</td>\n",
       "      <td>среднее</td>\n",
       "      <td>1</td>\n",
       "      <td>гражданский брак</td>\n",
       "      <td>1</td>\n",
       "      <td>M</td>\n",
       "      <td>пенсионер</td>\n",
       "      <td>0</td>\n",
       "      <td>145017</td>\n",
       "      <td>сыграть свадьбу</td>\n",
       "      <td>проведение свадьбы</td>\n",
       "    </tr>\n",
       "    <tr>\n",
       "      <th>13</th>\n",
       "      <td>0</td>\n",
       "      <td>1846.641941</td>\n",
       "      <td>54</td>\n",
       "      <td>неоконченное высшее</td>\n",
       "      <td>2</td>\n",
       "      <td>женат / замужем</td>\n",
       "      <td>0</td>\n",
       "      <td>F</td>\n",
       "      <td>сотрудник</td>\n",
       "      <td>0</td>\n",
       "      <td>130458</td>\n",
       "      <td>приобретение автомобиля</td>\n",
       "      <td>операции с автомобилем</td>\n",
       "    </tr>\n",
       "    <tr>\n",
       "      <th>14</th>\n",
       "      <td>0</td>\n",
       "      <td>1844.956182</td>\n",
       "      <td>56</td>\n",
       "      <td>высшее</td>\n",
       "      <td>0</td>\n",
       "      <td>гражданский брак</td>\n",
       "      <td>1</td>\n",
       "      <td>F</td>\n",
       "      <td>компаньон</td>\n",
       "      <td>1</td>\n",
       "      <td>165127</td>\n",
       "      <td>покупка жилой недвижимости</td>\n",
       "      <td>операции с недвижимостью</td>\n",
       "    </tr>\n",
       "    <tr>\n",
       "      <th>15</th>\n",
       "      <td>1</td>\n",
       "      <td>972.364419</td>\n",
       "      <td>26</td>\n",
       "      <td>среднее</td>\n",
       "      <td>1</td>\n",
       "      <td>женат / замужем</td>\n",
       "      <td>0</td>\n",
       "      <td>F</td>\n",
       "      <td>сотрудник</td>\n",
       "      <td>0</td>\n",
       "      <td>116820</td>\n",
       "      <td>строительство собственной недвижимости</td>\n",
       "      <td>операции с недвижимостью</td>\n",
       "    </tr>\n",
       "    <tr>\n",
       "      <th>16</th>\n",
       "      <td>0</td>\n",
       "      <td>1719.934226</td>\n",
       "      <td>35</td>\n",
       "      <td>среднее</td>\n",
       "      <td>1</td>\n",
       "      <td>женат / замужем</td>\n",
       "      <td>0</td>\n",
       "      <td>F</td>\n",
       "      <td>сотрудник</td>\n",
       "      <td>0</td>\n",
       "      <td>289202</td>\n",
       "      <td>недвижимость</td>\n",
       "      <td>операции с недвижимостью</td>\n",
       "    </tr>\n",
       "    <tr>\n",
       "      <th>17</th>\n",
       "      <td>0</td>\n",
       "      <td>2369.999720</td>\n",
       "      <td>33</td>\n",
       "      <td>высшее</td>\n",
       "      <td>0</td>\n",
       "      <td>гражданский брак</td>\n",
       "      <td>1</td>\n",
       "      <td>M</td>\n",
       "      <td>сотрудник</td>\n",
       "      <td>0</td>\n",
       "      <td>90410</td>\n",
       "      <td>строительство недвижимости</td>\n",
       "      <td>операции с недвижимостью</td>\n",
       "    </tr>\n",
       "    <tr>\n",
       "      <th>18</th>\n",
       "      <td>0</td>\n",
       "      <td>400281.136913</td>\n",
       "      <td>53</td>\n",
       "      <td>среднее</td>\n",
       "      <td>1</td>\n",
       "      <td>вдовец / вдова</td>\n",
       "      <td>2</td>\n",
       "      <td>F</td>\n",
       "      <td>пенсионер</td>\n",
       "      <td>0</td>\n",
       "      <td>56823</td>\n",
       "      <td>на покупку подержанного автомобиля</td>\n",
       "      <td>операции с автомобилем</td>\n",
       "    </tr>\n",
       "    <tr>\n",
       "      <th>19</th>\n",
       "      <td>0</td>\n",
       "      <td>10038.818549</td>\n",
       "      <td>48</td>\n",
       "      <td>среднее</td>\n",
       "      <td>1</td>\n",
       "      <td>в разводе</td>\n",
       "      <td>3</td>\n",
       "      <td>F</td>\n",
       "      <td>сотрудник</td>\n",
       "      <td>0</td>\n",
       "      <td>242831</td>\n",
       "      <td>на покупку своего автомобиля</td>\n",
       "      <td>операции с автомобилем</td>\n",
       "    </tr>\n",
       "  </tbody>\n",
       "</table>\n",
       "</div>"
      ],
      "text/plain": [
       "    children  days_employed  dob_years            education  education_id  \\\n",
       "0          1    8437.673028         42               высшее             0   \n",
       "1          1    4024.803754         36              среднее             1   \n",
       "2          0    5623.422610         33              среднее             1   \n",
       "3          3    4124.747207         32              среднее             1   \n",
       "4          0  340266.072047         53              среднее             1   \n",
       "5          0     926.185831         27               высшее             0   \n",
       "6          0    2879.202052         43               высшее             0   \n",
       "7          0     152.779569         50              среднее             1   \n",
       "8          2    6929.865299         35               высшее             0   \n",
       "9          0    2188.756445         41              среднее             1   \n",
       "10         2    4171.483647         36               высшее             0   \n",
       "11         0     792.701887         40              среднее             1   \n",
       "12         0    2194.220567         65              среднее             1   \n",
       "13         0    1846.641941         54  неоконченное высшее             2   \n",
       "14         0    1844.956182         56               высшее             0   \n",
       "15         1     972.364419         26              среднее             1   \n",
       "16         0    1719.934226         35              среднее             1   \n",
       "17         0    2369.999720         33               высшее             0   \n",
       "18         0  400281.136913         53              среднее             1   \n",
       "19         0   10038.818549         48              среднее             1   \n",
       "\n",
       "       family_status  family_status_id gender income_type  debt  total_income  \\\n",
       "0    женат / замужем                 0      F   сотрудник     0        253875   \n",
       "1    женат / замужем                 0      F   сотрудник     0        112080   \n",
       "2    женат / замужем                 0      M   сотрудник     0        145885   \n",
       "3    женат / замужем                 0      M   сотрудник     0        267628   \n",
       "4   гражданский брак                 1      F   пенсионер     0        158616   \n",
       "5   гражданский брак                 1      M   компаньон     0        255763   \n",
       "6    женат / замужем                 0      F   компаньон     0        240525   \n",
       "7    женат / замужем                 0      M   сотрудник     0        135823   \n",
       "8   гражданский брак                 1      F   сотрудник     0         95856   \n",
       "9    женат / замужем                 0      M   сотрудник     0        144425   \n",
       "10   женат / замужем                 0      M   компаньон     0        113943   \n",
       "11   женат / замужем                 0      F   сотрудник     0         77069   \n",
       "12  гражданский брак                 1      M   пенсионер     0        145017   \n",
       "13   женат / замужем                 0      F   сотрудник     0        130458   \n",
       "14  гражданский брак                 1      F   компаньон     1        165127   \n",
       "15   женат / замужем                 0      F   сотрудник     0        116820   \n",
       "16   женат / замужем                 0      F   сотрудник     0        289202   \n",
       "17  гражданский брак                 1      M   сотрудник     0         90410   \n",
       "18    вдовец / вдова                 2      F   пенсионер     0         56823   \n",
       "19         в разводе                 3      F   сотрудник     0        242831   \n",
       "\n",
       "                                   purpose          purpose_category  \n",
       "0                            покупка жилья  операции с недвижимостью  \n",
       "1                  приобретение автомобиля    операции с автомобилем  \n",
       "2                            покупка жилья  операции с недвижимостью  \n",
       "3               дополнительное образование     получение образования  \n",
       "4                          сыграть свадьбу        проведение свадьбы  \n",
       "5                            покупка жилья  операции с недвижимостью  \n",
       "6                        операции с жильем  операции с недвижимостью  \n",
       "7                              образование     получение образования  \n",
       "8                    на проведение свадьбы        проведение свадьбы  \n",
       "9                  покупка жилья для семьи  операции с недвижимостью  \n",
       "10                    покупка недвижимости  операции с недвижимостью  \n",
       "11       покупка коммерческой недвижимости  операции с недвижимостью  \n",
       "12                         сыграть свадьбу        проведение свадьбы  \n",
       "13                 приобретение автомобиля    операции с автомобилем  \n",
       "14              покупка жилой недвижимости  операции с недвижимостью  \n",
       "15  строительство собственной недвижимости  операции с недвижимостью  \n",
       "16                            недвижимость  операции с недвижимостью  \n",
       "17              строительство недвижимости  операции с недвижимостью  \n",
       "18      на покупку подержанного автомобиля    операции с автомобилем  \n",
       "19            на покупку своего автомобиля    операции с автомобилем  "
      ]
     },
     "execution_count": 16,
     "metadata": {},
     "output_type": "execute_result"
    }
   ],
   "source": [
    "df.head(20) #с превиликим удовольствием смотрю на таблицу с новым столюцом df['purpose_category'] и значениями в нём"
   ]
  },
  {
   "cell_type": "markdown",
   "metadata": {},
   "source": [
    "Когда неявные дубликаты устранены, воцарила красота и эстетика, можно порассуждать о причинах их дубликатов. \n",
    "В столбце df['education'] вероятнее всего причина техническая, дубликаты могли возникнуть при форматировании или обработке данных.\n",
    "В столбце df['purpose'] вероятнее всего причины иные, а именно:\n",
    "- разгильдяйство: в организации не определён единый эталон записи данных. А поскольку строк с данными 21525, то верорятно данные заполняли разные сотрудники. Соответственно, каждый сотрудник записывал так, как ему больше нравится, что могло привести к появлению дубликатов;\n",
    "- диверсия: кто-то умышленно изменил данные. Например, человек, который готовил данные для Анализа мог умышленно \"подпортить\" значения. Мог он сделать это из-за чувств личной неприязни или же из хулиганских побуждений. \n",
    "- комплексная причина: комбинация вышеописанных причин в разной пропорции."
   ]
  },
  {
   "cell_type": "markdown",
   "metadata": {},
   "source": [
    "### Шаг 2.5. Формирование дополнительных датафреймов словарей, декомпозиция исходного датафрейма."
   ]
  },
  {
   "cell_type": "markdown",
   "metadata": {},
   "source": [
    "Создаю два новых датафрейма:"
   ]
  },
  {
   "cell_type": "code",
   "execution_count": 17,
   "metadata": {},
   "outputs": [
    {
     "data": {
      "text/html": [
       "<div>\n",
       "<style scoped>\n",
       "    .dataframe tbody tr th:only-of-type {\n",
       "        vertical-align: middle;\n",
       "    }\n",
       "\n",
       "    .dataframe tbody tr th {\n",
       "        vertical-align: top;\n",
       "    }\n",
       "\n",
       "    .dataframe thead th {\n",
       "        text-align: right;\n",
       "    }\n",
       "</style>\n",
       "<table border=\"1\" class=\"dataframe\">\n",
       "  <thead>\n",
       "    <tr style=\"text-align: right;\">\n",
       "      <th></th>\n",
       "      <th>education</th>\n",
       "      <th>education_id</th>\n",
       "    </tr>\n",
       "  </thead>\n",
       "  <tbody>\n",
       "    <tr>\n",
       "      <th>0</th>\n",
       "      <td>высшее</td>\n",
       "      <td>0</td>\n",
       "    </tr>\n",
       "    <tr>\n",
       "      <th>1</th>\n",
       "      <td>среднее</td>\n",
       "      <td>1</td>\n",
       "    </tr>\n",
       "    <tr>\n",
       "      <th>2</th>\n",
       "      <td>среднее</td>\n",
       "      <td>1</td>\n",
       "    </tr>\n",
       "    <tr>\n",
       "      <th>3</th>\n",
       "      <td>среднее</td>\n",
       "      <td>1</td>\n",
       "    </tr>\n",
       "    <tr>\n",
       "      <th>4</th>\n",
       "      <td>среднее</td>\n",
       "      <td>1</td>\n",
       "    </tr>\n",
       "  </tbody>\n",
       "</table>\n",
       "</div>"
      ],
      "text/plain": [
       "  education  education_id\n",
       "0    высшее             0\n",
       "1   среднее             1\n",
       "2   среднее             1\n",
       "3   среднее             1\n",
       "4   среднее             1"
      ]
     },
     "execution_count": 17,
     "metadata": {},
     "output_type": "execute_result"
    }
   ],
   "source": [
    "df_education = df[['education', 'education_id']] #рад бы в комментариях что-то умное написать, но писать тут нечего\n",
    "df_education.head()"
   ]
  },
  {
   "cell_type": "code",
   "execution_count": 18,
   "metadata": {},
   "outputs": [
    {
     "data": {
      "text/html": [
       "<div>\n",
       "<style scoped>\n",
       "    .dataframe tbody tr th:only-of-type {\n",
       "        vertical-align: middle;\n",
       "    }\n",
       "\n",
       "    .dataframe tbody tr th {\n",
       "        vertical-align: top;\n",
       "    }\n",
       "\n",
       "    .dataframe thead th {\n",
       "        text-align: right;\n",
       "    }\n",
       "</style>\n",
       "<table border=\"1\" class=\"dataframe\">\n",
       "  <thead>\n",
       "    <tr style=\"text-align: right;\">\n",
       "      <th></th>\n",
       "      <th>family_status</th>\n",
       "      <th>family_status_id</th>\n",
       "    </tr>\n",
       "  </thead>\n",
       "  <tbody>\n",
       "    <tr>\n",
       "      <th>0</th>\n",
       "      <td>женат / замужем</td>\n",
       "      <td>0</td>\n",
       "    </tr>\n",
       "    <tr>\n",
       "      <th>1</th>\n",
       "      <td>женат / замужем</td>\n",
       "      <td>0</td>\n",
       "    </tr>\n",
       "    <tr>\n",
       "      <th>2</th>\n",
       "      <td>женат / замужем</td>\n",
       "      <td>0</td>\n",
       "    </tr>\n",
       "    <tr>\n",
       "      <th>3</th>\n",
       "      <td>женат / замужем</td>\n",
       "      <td>0</td>\n",
       "    </tr>\n",
       "    <tr>\n",
       "      <th>4</th>\n",
       "      <td>гражданский брак</td>\n",
       "      <td>1</td>\n",
       "    </tr>\n",
       "  </tbody>\n",
       "</table>\n",
       "</div>"
      ],
      "text/plain": [
       "      family_status  family_status_id\n",
       "0   женат / замужем                 0\n",
       "1   женат / замужем                 0\n",
       "2   женат / замужем                 0\n",
       "3   женат / замужем                 0\n",
       "4  гражданский брак                 1"
      ]
     },
     "execution_count": 18,
     "metadata": {},
     "output_type": "execute_result"
    }
   ],
   "source": [
    "df_family_status = df[['family_status', 'family_status_id']] # такая же история, как и пунктом выше\n",
    "df_family_status.head()"
   ]
  },
  {
   "cell_type": "markdown",
   "metadata": {},
   "source": [
    "Удаляю из исходного датафрейма столбцы df['education'] и df['family_status'] применяя метод pop():"
   ]
  },
  {
   "cell_type": "code",
   "execution_count": 19,
   "metadata": {},
   "outputs": [
    {
     "data": {
      "text/html": [
       "<div>\n",
       "<style scoped>\n",
       "    .dataframe tbody tr th:only-of-type {\n",
       "        vertical-align: middle;\n",
       "    }\n",
       "\n",
       "    .dataframe tbody tr th {\n",
       "        vertical-align: top;\n",
       "    }\n",
       "\n",
       "    .dataframe thead th {\n",
       "        text-align: right;\n",
       "    }\n",
       "</style>\n",
       "<table border=\"1\" class=\"dataframe\">\n",
       "  <thead>\n",
       "    <tr style=\"text-align: right;\">\n",
       "      <th></th>\n",
       "      <th>children</th>\n",
       "      <th>days_employed</th>\n",
       "      <th>dob_years</th>\n",
       "      <th>education_id</th>\n",
       "      <th>family_status_id</th>\n",
       "      <th>gender</th>\n",
       "      <th>income_type</th>\n",
       "      <th>debt</th>\n",
       "      <th>total_income</th>\n",
       "      <th>purpose</th>\n",
       "      <th>purpose_category</th>\n",
       "    </tr>\n",
       "  </thead>\n",
       "  <tbody>\n",
       "    <tr>\n",
       "      <th>0</th>\n",
       "      <td>1</td>\n",
       "      <td>8437.673028</td>\n",
       "      <td>42</td>\n",
       "      <td>0</td>\n",
       "      <td>0</td>\n",
       "      <td>F</td>\n",
       "      <td>сотрудник</td>\n",
       "      <td>0</td>\n",
       "      <td>253875</td>\n",
       "      <td>покупка жилья</td>\n",
       "      <td>операции с недвижимостью</td>\n",
       "    </tr>\n",
       "    <tr>\n",
       "      <th>1</th>\n",
       "      <td>1</td>\n",
       "      <td>4024.803754</td>\n",
       "      <td>36</td>\n",
       "      <td>1</td>\n",
       "      <td>0</td>\n",
       "      <td>F</td>\n",
       "      <td>сотрудник</td>\n",
       "      <td>0</td>\n",
       "      <td>112080</td>\n",
       "      <td>приобретение автомобиля</td>\n",
       "      <td>операции с автомобилем</td>\n",
       "    </tr>\n",
       "    <tr>\n",
       "      <th>2</th>\n",
       "      <td>0</td>\n",
       "      <td>5623.422610</td>\n",
       "      <td>33</td>\n",
       "      <td>1</td>\n",
       "      <td>0</td>\n",
       "      <td>M</td>\n",
       "      <td>сотрудник</td>\n",
       "      <td>0</td>\n",
       "      <td>145885</td>\n",
       "      <td>покупка жилья</td>\n",
       "      <td>операции с недвижимостью</td>\n",
       "    </tr>\n",
       "    <tr>\n",
       "      <th>3</th>\n",
       "      <td>3</td>\n",
       "      <td>4124.747207</td>\n",
       "      <td>32</td>\n",
       "      <td>1</td>\n",
       "      <td>0</td>\n",
       "      <td>M</td>\n",
       "      <td>сотрудник</td>\n",
       "      <td>0</td>\n",
       "      <td>267628</td>\n",
       "      <td>дополнительное образование</td>\n",
       "      <td>получение образования</td>\n",
       "    </tr>\n",
       "    <tr>\n",
       "      <th>4</th>\n",
       "      <td>0</td>\n",
       "      <td>340266.072047</td>\n",
       "      <td>53</td>\n",
       "      <td>1</td>\n",
       "      <td>1</td>\n",
       "      <td>F</td>\n",
       "      <td>пенсионер</td>\n",
       "      <td>0</td>\n",
       "      <td>158616</td>\n",
       "      <td>сыграть свадьбу</td>\n",
       "      <td>проведение свадьбы</td>\n",
       "    </tr>\n",
       "  </tbody>\n",
       "</table>\n",
       "</div>"
      ],
      "text/plain": [
       "   children  days_employed  dob_years  education_id  family_status_id gender  \\\n",
       "0         1    8437.673028         42             0                 0      F   \n",
       "1         1    4024.803754         36             1                 0      F   \n",
       "2         0    5623.422610         33             1                 0      M   \n",
       "3         3    4124.747207         32             1                 0      M   \n",
       "4         0  340266.072047         53             1                 1      F   \n",
       "\n",
       "  income_type  debt  total_income                     purpose  \\\n",
       "0   сотрудник     0        253875               покупка жилья   \n",
       "1   сотрудник     0        112080     приобретение автомобиля   \n",
       "2   сотрудник     0        145885               покупка жилья   \n",
       "3   сотрудник     0        267628  дополнительное образование   \n",
       "4   пенсионер     0        158616             сыграть свадьбу   \n",
       "\n",
       "           purpose_category  \n",
       "0  операции с недвижимостью  \n",
       "1    операции с автомобилем  \n",
       "2  операции с недвижимостью  \n",
       "3     получение образования  \n",
       "4        проведение свадьбы  "
      ]
     },
     "execution_count": 19,
     "metadata": {},
     "output_type": "execute_result"
    }
   ],
   "source": [
    "df.pop('education')\n",
    "df.pop('family_status')\n",
    "df.head()"
   ]
  },
  {
   "cell_type": "markdown",
   "metadata": {},
   "source": [
    "### Шаг 2.6. Категоризация дохода."
   ]
  },
  {
   "cell_type": "markdown",
   "metadata": {},
   "source": [
    "Для категоризации уровня дохода заёмщиков, создаю новый столбец df[total_income_category]:"
   ]
  },
  {
   "cell_type": "code",
   "execution_count": 20,
   "metadata": {
    "scrolled": true
   },
   "outputs": [
    {
     "name": "stdout",
     "output_type": "stream",
     "text": [
      "C    16087\n",
      "B     5041\n",
      "D      350\n",
      "A       25\n",
      "E       22\n",
      "Name: total_income_group, dtype: int64\n"
     ]
    },
    {
     "data": {
      "text/html": [
       "<div>\n",
       "<style scoped>\n",
       "    .dataframe tbody tr th:only-of-type {\n",
       "        vertical-align: middle;\n",
       "    }\n",
       "\n",
       "    .dataframe tbody tr th {\n",
       "        vertical-align: top;\n",
       "    }\n",
       "\n",
       "    .dataframe thead th {\n",
       "        text-align: right;\n",
       "    }\n",
       "</style>\n",
       "<table border=\"1\" class=\"dataframe\">\n",
       "  <thead>\n",
       "    <tr style=\"text-align: right;\">\n",
       "      <th></th>\n",
       "      <th>children</th>\n",
       "      <th>days_employed</th>\n",
       "      <th>dob_years</th>\n",
       "      <th>education_id</th>\n",
       "      <th>family_status_id</th>\n",
       "      <th>gender</th>\n",
       "      <th>income_type</th>\n",
       "      <th>debt</th>\n",
       "      <th>total_income</th>\n",
       "      <th>purpose</th>\n",
       "      <th>purpose_category</th>\n",
       "      <th>total_income_group</th>\n",
       "    </tr>\n",
       "  </thead>\n",
       "  <tbody>\n",
       "    <tr>\n",
       "      <th>0</th>\n",
       "      <td>1</td>\n",
       "      <td>8437.673028</td>\n",
       "      <td>42</td>\n",
       "      <td>0</td>\n",
       "      <td>0</td>\n",
       "      <td>F</td>\n",
       "      <td>сотрудник</td>\n",
       "      <td>0</td>\n",
       "      <td>253875</td>\n",
       "      <td>покупка жилья</td>\n",
       "      <td>операции с недвижимостью</td>\n",
       "      <td>B</td>\n",
       "    </tr>\n",
       "    <tr>\n",
       "      <th>1</th>\n",
       "      <td>1</td>\n",
       "      <td>4024.803754</td>\n",
       "      <td>36</td>\n",
       "      <td>1</td>\n",
       "      <td>0</td>\n",
       "      <td>F</td>\n",
       "      <td>сотрудник</td>\n",
       "      <td>0</td>\n",
       "      <td>112080</td>\n",
       "      <td>приобретение автомобиля</td>\n",
       "      <td>операции с автомобилем</td>\n",
       "      <td>C</td>\n",
       "    </tr>\n",
       "    <tr>\n",
       "      <th>2</th>\n",
       "      <td>0</td>\n",
       "      <td>5623.422610</td>\n",
       "      <td>33</td>\n",
       "      <td>1</td>\n",
       "      <td>0</td>\n",
       "      <td>M</td>\n",
       "      <td>сотрудник</td>\n",
       "      <td>0</td>\n",
       "      <td>145885</td>\n",
       "      <td>покупка жилья</td>\n",
       "      <td>операции с недвижимостью</td>\n",
       "      <td>C</td>\n",
       "    </tr>\n",
       "    <tr>\n",
       "      <th>3</th>\n",
       "      <td>3</td>\n",
       "      <td>4124.747207</td>\n",
       "      <td>32</td>\n",
       "      <td>1</td>\n",
       "      <td>0</td>\n",
       "      <td>M</td>\n",
       "      <td>сотрудник</td>\n",
       "      <td>0</td>\n",
       "      <td>267628</td>\n",
       "      <td>дополнительное образование</td>\n",
       "      <td>получение образования</td>\n",
       "      <td>B</td>\n",
       "    </tr>\n",
       "    <tr>\n",
       "      <th>4</th>\n",
       "      <td>0</td>\n",
       "      <td>340266.072047</td>\n",
       "      <td>53</td>\n",
       "      <td>1</td>\n",
       "      <td>1</td>\n",
       "      <td>F</td>\n",
       "      <td>пенсионер</td>\n",
       "      <td>0</td>\n",
       "      <td>158616</td>\n",
       "      <td>сыграть свадьбу</td>\n",
       "      <td>проведение свадьбы</td>\n",
       "      <td>C</td>\n",
       "    </tr>\n",
       "    <tr>\n",
       "      <th>5</th>\n",
       "      <td>0</td>\n",
       "      <td>926.185831</td>\n",
       "      <td>27</td>\n",
       "      <td>0</td>\n",
       "      <td>1</td>\n",
       "      <td>M</td>\n",
       "      <td>компаньон</td>\n",
       "      <td>0</td>\n",
       "      <td>255763</td>\n",
       "      <td>покупка жилья</td>\n",
       "      <td>операции с недвижимостью</td>\n",
       "      <td>B</td>\n",
       "    </tr>\n",
       "    <tr>\n",
       "      <th>6</th>\n",
       "      <td>0</td>\n",
       "      <td>2879.202052</td>\n",
       "      <td>43</td>\n",
       "      <td>0</td>\n",
       "      <td>0</td>\n",
       "      <td>F</td>\n",
       "      <td>компаньон</td>\n",
       "      <td>0</td>\n",
       "      <td>240525</td>\n",
       "      <td>операции с жильем</td>\n",
       "      <td>операции с недвижимостью</td>\n",
       "      <td>B</td>\n",
       "    </tr>\n",
       "    <tr>\n",
       "      <th>7</th>\n",
       "      <td>0</td>\n",
       "      <td>152.779569</td>\n",
       "      <td>50</td>\n",
       "      <td>1</td>\n",
       "      <td>0</td>\n",
       "      <td>M</td>\n",
       "      <td>сотрудник</td>\n",
       "      <td>0</td>\n",
       "      <td>135823</td>\n",
       "      <td>образование</td>\n",
       "      <td>получение образования</td>\n",
       "      <td>C</td>\n",
       "    </tr>\n",
       "    <tr>\n",
       "      <th>8</th>\n",
       "      <td>2</td>\n",
       "      <td>6929.865299</td>\n",
       "      <td>35</td>\n",
       "      <td>0</td>\n",
       "      <td>1</td>\n",
       "      <td>F</td>\n",
       "      <td>сотрудник</td>\n",
       "      <td>0</td>\n",
       "      <td>95856</td>\n",
       "      <td>на проведение свадьбы</td>\n",
       "      <td>проведение свадьбы</td>\n",
       "      <td>C</td>\n",
       "    </tr>\n",
       "    <tr>\n",
       "      <th>9</th>\n",
       "      <td>0</td>\n",
       "      <td>2188.756445</td>\n",
       "      <td>41</td>\n",
       "      <td>1</td>\n",
       "      <td>0</td>\n",
       "      <td>M</td>\n",
       "      <td>сотрудник</td>\n",
       "      <td>0</td>\n",
       "      <td>144425</td>\n",
       "      <td>покупка жилья для семьи</td>\n",
       "      <td>операции с недвижимостью</td>\n",
       "      <td>C</td>\n",
       "    </tr>\n",
       "  </tbody>\n",
       "</table>\n",
       "</div>"
      ],
      "text/plain": [
       "   children  days_employed  dob_years  education_id  family_status_id gender  \\\n",
       "0         1    8437.673028         42             0                 0      F   \n",
       "1         1    4024.803754         36             1                 0      F   \n",
       "2         0    5623.422610         33             1                 0      M   \n",
       "3         3    4124.747207         32             1                 0      M   \n",
       "4         0  340266.072047         53             1                 1      F   \n",
       "5         0     926.185831         27             0                 1      M   \n",
       "6         0    2879.202052         43             0                 0      F   \n",
       "7         0     152.779569         50             1                 0      M   \n",
       "8         2    6929.865299         35             0                 1      F   \n",
       "9         0    2188.756445         41             1                 0      M   \n",
       "\n",
       "  income_type  debt  total_income                     purpose  \\\n",
       "0   сотрудник     0        253875               покупка жилья   \n",
       "1   сотрудник     0        112080     приобретение автомобиля   \n",
       "2   сотрудник     0        145885               покупка жилья   \n",
       "3   сотрудник     0        267628  дополнительное образование   \n",
       "4   пенсионер     0        158616             сыграть свадьбу   \n",
       "5   компаньон     0        255763               покупка жилья   \n",
       "6   компаньон     0        240525           операции с жильем   \n",
       "7   сотрудник     0        135823                 образование   \n",
       "8   сотрудник     0         95856       на проведение свадьбы   \n",
       "9   сотрудник     0        144425     покупка жилья для семьи   \n",
       "\n",
       "           purpose_category total_income_group  \n",
       "0  операции с недвижимостью                  B  \n",
       "1    операции с автомобилем                  C  \n",
       "2  операции с недвижимостью                  C  \n",
       "3     получение образования                  B  \n",
       "4        проведение свадьбы                  C  \n",
       "5  операции с недвижимостью                  B  \n",
       "6  операции с недвижимостью                  B  \n",
       "7     получение образования                  C  \n",
       "8        проведение свадьбы                  C  \n",
       "9  операции с недвижимостью                  C  "
      ]
     },
     "execution_count": 20,
     "metadata": {},
     "output_type": "execute_result"
    }
   ],
   "source": [
    "def income_category (row): #создаю функцию, которая возвращает категорию, в зависимости от дохода.\n",
    "    total_income = row['total_income']\n",
    "    if total_income <= 30000:\n",
    "        return 'E'\n",
    "    if total_income <= 50000:\n",
    "        return 'D'\n",
    "    if total_income <= 200000:\n",
    "        return 'C'\n",
    "    if total_income <= 1000000:\n",
    "        return 'B'\n",
    "    return 'A'\n",
    "df['total_income_group'] = df.apply(income_category, axis = 1) #создаю столбец, используя метод apply(). \n",
    "print (df['total_income_group'].value_counts())\n",
    "df.head(10) "
   ]
  },
  {
   "cell_type": "markdown",
   "metadata": {},
   "source": [
    "### Шаг 2.7. Категоризация целей кредита."
   ]
  },
  {
   "cell_type": "markdown",
   "metadata": {},
   "source": [
    "Выполнил в шаге 2.4. "
   ]
  },
  {
   "cell_type": "markdown",
   "metadata": {},
   "source": [
    "### Ответы на вопросы."
   ]
  },
  {
   "cell_type": "markdown",
   "metadata": {},
   "source": [
    "##### Вопрос 1: Есть ли зависимость между количеством детей и возвратом кредита в срок?"
   ]
  },
  {
   "cell_type": "markdown",
   "metadata": {},
   "source": [
    "Для того, чтобы ответ на этот вопрос было проще дать, создам сводную таблицу df_children методом pivot_table():"
   ]
  },
  {
   "cell_type": "code",
   "execution_count": 21,
   "metadata": {},
   "outputs": [
    {
     "name": "stdout",
     "output_type": "stream",
     "text": [
      "<class 'pandas.core.frame.DataFrame'>\n",
      "Int64Index: 6 entries, 0 to 5\n",
      "Data columns (total 2 columns):\n",
      " #   Column  Non-Null Count  Dtype  \n",
      "---  ------  --------------  -----  \n",
      " 0   0       6 non-null      float64\n",
      " 1   1       5 non-null      float64\n",
      "dtypes: float64(2)\n",
      "memory usage: 144.0 bytes\n"
     ]
    }
   ],
   "source": [
    "df_children = df.pivot_table(\n",
    "    index = ['children'],\n",
    "    columns = 'debt',\n",
    "    values = 'dob_years',\n",
    "    aggfunc = 'count') #создаю новую таблицу, использую перенос для наглядности и удобства проверки. \n",
    "df_children.info()"
   ]
  },
  {
   "cell_type": "code",
   "execution_count": 22,
   "metadata": {},
   "outputs": [
    {
     "name": "stdout",
     "output_type": "stream",
     "text": [
      "<class 'pandas.core.frame.DataFrame'>\n",
      "Int64Index: 6 entries, 0 to 5\n",
      "Data columns (total 2 columns):\n",
      " #   Column              Non-Null Count  Dtype\n",
      "---  ------              --------------  -----\n",
      " 0   Нет задолженности   6 non-null      int64\n",
      " 1   Есть задолженность  6 non-null      int64\n",
      "dtypes: int64(2)\n",
      "memory usage: 144.0 bytes\n"
     ]
    }
   ],
   "source": [
    "df_children.columns = ['Нет задолженности', 'Есть задолженность'] #присваиваю столбцам новые значения\n",
    "df_children = df_children.fillna(0) #появился пропуск, заполняю его\n",
    "df_children['Нет задолженности'] = df_children['Нет задолженности'].astype('int')# видимо при создании df_children значениям присвоился тип \"float64\", меняю его на int\n",
    "df_children['Есть задолженность'] = df_children['Есть задолженность'].astype('int')# аналогично предыдущему пункту\n",
    "df_children.info() #проверял типы данных и отсутствие пропусков"
   ]
  },
  {
   "cell_type": "code",
   "execution_count": 23,
   "metadata": {},
   "outputs": [
    {
     "data": {
      "text/html": [
       "<div>\n",
       "<style scoped>\n",
       "    .dataframe tbody tr th:only-of-type {\n",
       "        vertical-align: middle;\n",
       "    }\n",
       "\n",
       "    .dataframe tbody tr th {\n",
       "        vertical-align: top;\n",
       "    }\n",
       "\n",
       "    .dataframe thead th {\n",
       "        text-align: right;\n",
       "    }\n",
       "</style>\n",
       "<table border=\"1\" class=\"dataframe\">\n",
       "  <thead>\n",
       "    <tr style=\"text-align: right;\">\n",
       "      <th></th>\n",
       "      <th>Нет задолженности</th>\n",
       "      <th>Есть задолженность</th>\n",
       "      <th>Доля возврата</th>\n",
       "      <th>Процент возврата</th>\n",
       "    </tr>\n",
       "    <tr>\n",
       "      <th>children</th>\n",
       "      <th></th>\n",
       "      <th></th>\n",
       "      <th></th>\n",
       "      <th></th>\n",
       "    </tr>\n",
       "  </thead>\n",
       "  <tbody>\n",
       "    <tr>\n",
       "      <th>0</th>\n",
       "      <td>13086</td>\n",
       "      <td>1063</td>\n",
       "      <td>0.924871</td>\n",
       "      <td>92.487102</td>\n",
       "    </tr>\n",
       "    <tr>\n",
       "      <th>1</th>\n",
       "      <td>4420</td>\n",
       "      <td>445</td>\n",
       "      <td>0.908530</td>\n",
       "      <td>90.853032</td>\n",
       "    </tr>\n",
       "    <tr>\n",
       "      <th>2</th>\n",
       "      <td>1929</td>\n",
       "      <td>202</td>\n",
       "      <td>0.905209</td>\n",
       "      <td>90.520882</td>\n",
       "    </tr>\n",
       "    <tr>\n",
       "      <th>3</th>\n",
       "      <td>303</td>\n",
       "      <td>27</td>\n",
       "      <td>0.918182</td>\n",
       "      <td>91.818182</td>\n",
       "    </tr>\n",
       "    <tr>\n",
       "      <th>4</th>\n",
       "      <td>37</td>\n",
       "      <td>4</td>\n",
       "      <td>0.902439</td>\n",
       "      <td>90.243902</td>\n",
       "    </tr>\n",
       "    <tr>\n",
       "      <th>5</th>\n",
       "      <td>9</td>\n",
       "      <td>0</td>\n",
       "      <td>1.000000</td>\n",
       "      <td>100.000000</td>\n",
       "    </tr>\n",
       "  </tbody>\n",
       "</table>\n",
       "</div>"
      ],
      "text/plain": [
       "          Нет задолженности  Есть задолженность  Доля возврата  \\\n",
       "children                                                         \n",
       "0                     13086                1063       0.924871   \n",
       "1                      4420                 445       0.908530   \n",
       "2                      1929                 202       0.905209   \n",
       "3                       303                  27       0.918182   \n",
       "4                        37                   4       0.902439   \n",
       "5                         9                   0       1.000000   \n",
       "\n",
       "          Процент возврата  \n",
       "children                    \n",
       "0                92.487102  \n",
       "1                90.853032  \n",
       "2                90.520882  \n",
       "3                91.818182  \n",
       "4                90.243902  \n",
       "5               100.000000  "
      ]
     },
     "execution_count": 23,
     "metadata": {},
     "output_type": "execute_result"
    }
   ],
   "source": [
    "df_children['Доля возврата'] = (\n",
    "    df_children['Нет задолженности'] / \n",
    "    (df_children['Нет задолженности'] + df_children['Есть задолженность'])\n",
    "                                ) #создаю новый столбец, в котором считаю долю возврата\n",
    "df_children['Процент возврата'] = df_children['Доля возврата'] * 100 # создаю столбец, в котором считаю процент возврата\n",
    "df_children # любуюсь замечательной красивой таблией и говорящими данными в ней"
   ]
  },
  {
   "cell_type": "code",
   "execution_count": 24,
   "metadata": {},
   "outputs": [
    {
     "data": {
      "text/plain": [
       "9.756097560975604"
      ]
     },
     "execution_count": 24,
     "metadata": {},
     "output_type": "execute_result"
    }
   ],
   "source": [
    "df_children['Процент возврата'].max() - df_children['Процент возврата'].min()\n",
    "# считаю разницу между ссамыми надёжными и ненадёжными заёмщиками"
   ]
  },
  {
   "cell_type": "markdown",
   "metadata": {},
   "source": [
    "##### Вывод 1:  \n",
    "У людей, которые не имеют детей процент возврата кредитов выше, хотя не на много, на 2,24%. Однако, семьи, имеющие 5 детей вовсе не имеют задолженности. Но количество семей с пятью детьми несравнимо мало по отношению к общей массе заёмщиков. \n",
    "Зависимость между количеством детей и возвратом кредита в срок есть, но она незначительна."
   ]
  },
  {
   "cell_type": "markdown",
   "metadata": {},
   "source": [
    "##### Вопрос 2: Есть ли зависимость между семейным положением и возвратом кредита в срок?"
   ]
  },
  {
   "cell_type": "markdown",
   "metadata": {},
   "source": [
    "Для ответа на этот вопрос, применяю такой же метод, как и в предыдущем задании:"
   ]
  },
  {
   "cell_type": "code",
   "execution_count": 25,
   "metadata": {},
   "outputs": [
    {
     "name": "stdout",
     "output_type": "stream",
     "text": [
      "<class 'pandas.core.frame.DataFrame'>\n",
      "Int64Index: 5 entries, 0 to 4\n",
      "Data columns (total 2 columns):\n",
      " #   Column  Non-Null Count  Dtype\n",
      "---  ------  --------------  -----\n",
      " 0   0       5 non-null      int64\n",
      " 1   1       5 non-null      int64\n",
      "dtypes: int64(2)\n",
      "memory usage: 120.0 bytes\n"
     ]
    }
   ],
   "source": [
    "df_status_family = df.pivot_table(\n",
    "    index = ['family_status_id'],\n",
    "    columns = 'debt',\n",
    "    values = 'dob_years',\n",
    "    aggfunc = 'count') #создаю новую таблицу, использую перенос для наглядности и удобства проверки. \n",
    "df_status_family.info()"
   ]
  },
  {
   "cell_type": "code",
   "execution_count": 26,
   "metadata": {},
   "outputs": [
    {
     "name": "stdout",
     "output_type": "stream",
     "text": [
      "<class 'pandas.core.frame.DataFrame'>\n",
      "Int64Index: 5 entries, 0 to 4\n",
      "Data columns (total 2 columns):\n",
      " #   Column              Non-Null Count  Dtype\n",
      "---  ------              --------------  -----\n",
      " 0   Нет задолженности   5 non-null      int64\n",
      " 1   Есть задолженность  5 non-null      int64\n",
      "dtypes: int64(2)\n",
      "memory usage: 120.0 bytes\n"
     ]
    }
   ],
   "source": [
    "df_status_family.columns = ['Нет задолженности', 'Есть задолженность'] #присваиваю столбцам новые значения\n",
    "#пропусков тут не образовалось, тип данных \"int64\", шаг игнорирую\n",
    "df_status_family.info() #проверял типы данных и отсутствие пропусков"
   ]
  },
  {
   "cell_type": "code",
   "execution_count": 27,
   "metadata": {},
   "outputs": [
    {
     "data": {
      "text/html": [
       "<div>\n",
       "<style scoped>\n",
       "    .dataframe tbody tr th:only-of-type {\n",
       "        vertical-align: middle;\n",
       "    }\n",
       "\n",
       "    .dataframe tbody tr th {\n",
       "        vertical-align: top;\n",
       "    }\n",
       "\n",
       "    .dataframe thead th {\n",
       "        text-align: right;\n",
       "    }\n",
       "</style>\n",
       "<table border=\"1\" class=\"dataframe\">\n",
       "  <thead>\n",
       "    <tr style=\"text-align: right;\">\n",
       "      <th></th>\n",
       "      <th>Нет задолженности</th>\n",
       "      <th>Есть задолженность</th>\n",
       "      <th>Доля возврата</th>\n",
       "      <th>Процент возврата</th>\n",
       "    </tr>\n",
       "    <tr>\n",
       "      <th>family_status_id</th>\n",
       "      <th></th>\n",
       "      <th></th>\n",
       "      <th></th>\n",
       "      <th></th>\n",
       "    </tr>\n",
       "  </thead>\n",
       "  <tbody>\n",
       "    <tr>\n",
       "      <th>0</th>\n",
       "      <td>11449</td>\n",
       "      <td>931</td>\n",
       "      <td>0.924798</td>\n",
       "      <td>92.479806</td>\n",
       "    </tr>\n",
       "    <tr>\n",
       "      <th>1</th>\n",
       "      <td>3789</td>\n",
       "      <td>388</td>\n",
       "      <td>0.907110</td>\n",
       "      <td>90.711037</td>\n",
       "    </tr>\n",
       "    <tr>\n",
       "      <th>2</th>\n",
       "      <td>897</td>\n",
       "      <td>63</td>\n",
       "      <td>0.934375</td>\n",
       "      <td>93.437500</td>\n",
       "    </tr>\n",
       "    <tr>\n",
       "      <th>3</th>\n",
       "      <td>1110</td>\n",
       "      <td>85</td>\n",
       "      <td>0.928870</td>\n",
       "      <td>92.887029</td>\n",
       "    </tr>\n",
       "    <tr>\n",
       "      <th>4</th>\n",
       "      <td>2539</td>\n",
       "      <td>274</td>\n",
       "      <td>0.902595</td>\n",
       "      <td>90.259509</td>\n",
       "    </tr>\n",
       "  </tbody>\n",
       "</table>\n",
       "</div>"
      ],
      "text/plain": [
       "                  Нет задолженности  Есть задолженность  Доля возврата  \\\n",
       "family_status_id                                                         \n",
       "0                             11449                 931       0.924798   \n",
       "1                              3789                 388       0.907110   \n",
       "2                               897                  63       0.934375   \n",
       "3                              1110                  85       0.928870   \n",
       "4                              2539                 274       0.902595   \n",
       "\n",
       "                  Процент возврата  \n",
       "family_status_id                    \n",
       "0                        92.479806  \n",
       "1                        90.711037  \n",
       "2                        93.437500  \n",
       "3                        92.887029  \n",
       "4                        90.259509  "
      ]
     },
     "execution_count": 27,
     "metadata": {},
     "output_type": "execute_result"
    }
   ],
   "source": [
    "df_status_family['Доля возврата'] = (\n",
    "    df_status_family['Нет задолженности'] / \n",
    "    (df_status_family['Нет задолженности'] + df_status_family['Есть задолженность'])\n",
    "                                ) #создаю новый столбец, в котором считаю долю возврата\n",
    "df_status_family['Процент возврата'] = df_status_family['Доля возврата'] * 100 # создаю столбец, в котором считаю процент возврата\n",
    "df_status_family # любуюсь замечательной красивой таблией и говорящими данными в ней"
   ]
  },
  {
   "cell_type": "code",
   "execution_count": 28,
   "metadata": {},
   "outputs": [
    {
     "data": {
      "text/plain": [
       "3.1779905794525405"
      ]
     },
     "execution_count": 28,
     "metadata": {},
     "output_type": "execute_result"
    }
   ],
   "source": [
    "df_status_family['Процент возврата'].max() - df_status_family['Процент возврата'].min() \n",
    "# считаю разницу между ссамыми надёжными и ненадёжными заёмщиками"
   ]
  },
  {
   "cell_type": "markdown",
   "metadata": {},
   "source": [
    "##### Вывод 2:"
   ]
  },
  {
   "cell_type": "markdown",
   "metadata": {},
   "source": [
    "Лучше всего кредиты отдают вдовцы, хуже всего не женатые и живущие гражданским браком. Хотя максимальный разброс по самым лучшим заёмщикам и самым худшим составляет всего 3,18 %, что немного. Поэтому, зависимость между семейным положением и возвратом кредита в срок есть, но она незначительная."
   ]
  },
  {
   "cell_type": "markdown",
   "metadata": {},
   "source": [
    "##### Вопрос 3: Есть ли зависимость между уровнем дохода и возвратом кредита в срок?"
   ]
  },
  {
   "cell_type": "markdown",
   "metadata": {},
   "source": [
    "Цели другие, методы те же. Применяю такой же метод, как и п предыдущем задании."
   ]
  },
  {
   "cell_type": "code",
   "execution_count": 29,
   "metadata": {},
   "outputs": [
    {
     "name": "stdout",
     "output_type": "stream",
     "text": [
      "<class 'pandas.core.frame.DataFrame'>\n",
      "Int64Index: 5 entries, 0 to 4\n",
      "Data columns (total 2 columns):\n",
      " #   Column  Non-Null Count  Dtype  \n",
      "---  ------  --------------  -----  \n",
      " 0   0       5 non-null      float64\n",
      " 1   1       4 non-null      float64\n",
      "dtypes: float64(2)\n",
      "memory usage: 120.0 bytes\n"
     ]
    }
   ],
   "source": [
    "df_education_id = df.pivot_table(\n",
    "    index = ['education_id'],\n",
    "    columns = 'debt',\n",
    "    values = 'dob_years',\n",
    "    aggfunc = 'count') #создаю новую таблицу, использую перенос для наглядности и удобства проверки. \n",
    "df_education_id.info()"
   ]
  },
  {
   "cell_type": "code",
   "execution_count": 30,
   "metadata": {},
   "outputs": [
    {
     "name": "stdout",
     "output_type": "stream",
     "text": [
      "<class 'pandas.core.frame.DataFrame'>\n",
      "Int64Index: 5 entries, 0 to 4\n",
      "Data columns (total 2 columns):\n",
      " #   Column              Non-Null Count  Dtype\n",
      "---  ------              --------------  -----\n",
      " 0   Нет задолженности   5 non-null      int64\n",
      " 1   Есть задолженность  5 non-null      int64\n",
      "dtypes: int64(2)\n",
      "memory usage: 120.0 bytes\n"
     ]
    }
   ],
   "source": [
    "df_education_id.columns = ['Нет задолженности', 'Есть задолженность'] #присваиваю столбцам новые значения\n",
    "df_education_id = df_education_id.fillna(0) #появился пропуск, заполняю его\n",
    "df_education_id['Нет задолженности'] = df_education_id['Нет задолженности'].astype('int')# видимо при создании df_education_id значениям присвоился тип \"float64\", меняю его на int\n",
    "df_education_id['Есть задолженность'] = df_education_id['Есть задолженность'].astype('int')# аналогично предыдущему пункту\n",
    "df_education_id.info() #проверял типы данных и отсутствие пропусков"
   ]
  },
  {
   "cell_type": "code",
   "execution_count": 31,
   "metadata": {},
   "outputs": [
    {
     "data": {
      "text/html": [
       "<div>\n",
       "<style scoped>\n",
       "    .dataframe tbody tr th:only-of-type {\n",
       "        vertical-align: middle;\n",
       "    }\n",
       "\n",
       "    .dataframe tbody tr th {\n",
       "        vertical-align: top;\n",
       "    }\n",
       "\n",
       "    .dataframe thead th {\n",
       "        text-align: right;\n",
       "    }\n",
       "</style>\n",
       "<table border=\"1\" class=\"dataframe\">\n",
       "  <thead>\n",
       "    <tr style=\"text-align: right;\">\n",
       "      <th></th>\n",
       "      <th>Нет задолженности</th>\n",
       "      <th>Есть задолженность</th>\n",
       "      <th>Доля возврата</th>\n",
       "      <th>Процент возврата</th>\n",
       "    </tr>\n",
       "    <tr>\n",
       "      <th>education_id</th>\n",
       "      <th></th>\n",
       "      <th></th>\n",
       "      <th></th>\n",
       "      <th></th>\n",
       "    </tr>\n",
       "  </thead>\n",
       "  <tbody>\n",
       "    <tr>\n",
       "      <th>0</th>\n",
       "      <td>4982</td>\n",
       "      <td>278</td>\n",
       "      <td>0.947148</td>\n",
       "      <td>94.714829</td>\n",
       "    </tr>\n",
       "    <tr>\n",
       "      <th>1</th>\n",
       "      <td>13869</td>\n",
       "      <td>1364</td>\n",
       "      <td>0.910458</td>\n",
       "      <td>91.045756</td>\n",
       "    </tr>\n",
       "    <tr>\n",
       "      <th>2</th>\n",
       "      <td>676</td>\n",
       "      <td>68</td>\n",
       "      <td>0.908602</td>\n",
       "      <td>90.860215</td>\n",
       "    </tr>\n",
       "    <tr>\n",
       "      <th>3</th>\n",
       "      <td>251</td>\n",
       "      <td>31</td>\n",
       "      <td>0.890071</td>\n",
       "      <td>89.007092</td>\n",
       "    </tr>\n",
       "    <tr>\n",
       "      <th>4</th>\n",
       "      <td>6</td>\n",
       "      <td>0</td>\n",
       "      <td>1.000000</td>\n",
       "      <td>100.000000</td>\n",
       "    </tr>\n",
       "  </tbody>\n",
       "</table>\n",
       "</div>"
      ],
      "text/plain": [
       "              Нет задолженности  Есть задолженность  Доля возврата  \\\n",
       "education_id                                                         \n",
       "0                          4982                 278       0.947148   \n",
       "1                         13869                1364       0.910458   \n",
       "2                           676                  68       0.908602   \n",
       "3                           251                  31       0.890071   \n",
       "4                             6                   0       1.000000   \n",
       "\n",
       "              Процент возврата  \n",
       "education_id                    \n",
       "0                    94.714829  \n",
       "1                    91.045756  \n",
       "2                    90.860215  \n",
       "3                    89.007092  \n",
       "4                   100.000000  "
      ]
     },
     "execution_count": 31,
     "metadata": {},
     "output_type": "execute_result"
    }
   ],
   "source": [
    "df_education_id['Доля возврата'] = (\n",
    "    df_education_id['Нет задолженности'] / \n",
    "    (df_education_id['Нет задолженности'] + df_education_id['Есть задолженность'])\n",
    "                                ) #создаю новый столбец, в котором считаю долю возврата\n",
    "df_education_id['Процент возврата'] = df_education_id['Доля возврата'] * 100 # создаю столбец, в котором считаю процент возврата\n",
    "df_education_id # любуюсь замечательной красивой таблией и говорящими данными в ней"
   ]
  },
  {
   "cell_type": "code",
   "execution_count": 32,
   "metadata": {},
   "outputs": [
    {
     "data": {
      "text/plain": [
       "10.99290780141844"
      ]
     },
     "execution_count": 32,
     "metadata": {},
     "output_type": "execute_result"
    }
   ],
   "source": [
    "df_education_id['Процент возврата'].max() - df_education_id['Процент возврата'].min() \n",
    "# считаю разницу между ссамыми надёжными и ненадёжными заёмщиками"
   ]
  },
  {
   "cell_type": "markdown",
   "metadata": {},
   "source": [
    "##### Вывод 3: \n",
    "Из таблицы видно, что 100% дают заёмщики с учёной степенью. Да, их мало, но это крайне надёжные заёмщики. Ненадёжными заёмщиками являются люди с начальным образованием (хотя их тоже немного, относительно общего числа заёмщиков). В остальных случаях разница невелика, и составляет 3.9%. Зависимость между уровнем дохода и возвратом кредита в срок есть."
   ]
  },
  {
   "cell_type": "markdown",
   "metadata": {},
   "source": [
    "##### Вопрос 4: Как разные цели кредита влияют на его возврат в срок?"
   ]
  },
  {
   "cell_type": "markdown",
   "metadata": {},
   "source": [
    "Применяю такой же метод, как и в заданиях выше:"
   ]
  },
  {
   "cell_type": "code",
   "execution_count": 33,
   "metadata": {},
   "outputs": [
    {
     "name": "stdout",
     "output_type": "stream",
     "text": [
      "<class 'pandas.core.frame.DataFrame'>\n",
      "Index: 4 entries, операции с автомобилем to проведение свадьбы\n",
      "Data columns (total 2 columns):\n",
      " #   Column  Non-Null Count  Dtype\n",
      "---  ------  --------------  -----\n",
      " 0   0       4 non-null      int64\n",
      " 1   1       4 non-null      int64\n",
      "dtypes: int64(2)\n",
      "memory usage: 96.0+ bytes\n"
     ]
    }
   ],
   "source": [
    "df_purpose = df.pivot_table(\n",
    "    index = ['purpose_category'],\n",
    "    columns = 'debt',\n",
    "    values = 'dob_years',\n",
    "    aggfunc = 'count') #создаю новую таблицу, использую перенос для наглядности и удобства проверки. \n",
    "df_purpose.info()"
   ]
  },
  {
   "cell_type": "code",
   "execution_count": 34,
   "metadata": {},
   "outputs": [
    {
     "name": "stdout",
     "output_type": "stream",
     "text": [
      "<class 'pandas.core.frame.DataFrame'>\n",
      "Index: 4 entries, операции с автомобилем to проведение свадьбы\n",
      "Data columns (total 2 columns):\n",
      " #   Column              Non-Null Count  Dtype\n",
      "---  ------              --------------  -----\n",
      " 0   Нет задолженности   4 non-null      int64\n",
      " 1   Есть задолженность  4 non-null      int64\n",
      "dtypes: int64(2)\n",
      "memory usage: 96.0+ bytes\n"
     ]
    }
   ],
   "source": [
    "df_purpose.columns = ['Нет задолженности', 'Есть задолженность'] #присваиваю столбцам новые значения\n",
    "#пропусков тут не образовалось, тип данных \"int64\", шаг игнорирую\n",
    "df_purpose.info() #проверял типы данных и отсутствие пропусков"
   ]
  },
  {
   "cell_type": "code",
   "execution_count": 35,
   "metadata": {},
   "outputs": [
    {
     "data": {
      "text/html": [
       "<div>\n",
       "<style scoped>\n",
       "    .dataframe tbody tr th:only-of-type {\n",
       "        vertical-align: middle;\n",
       "    }\n",
       "\n",
       "    .dataframe tbody tr th {\n",
       "        vertical-align: top;\n",
       "    }\n",
       "\n",
       "    .dataframe thead th {\n",
       "        text-align: right;\n",
       "    }\n",
       "</style>\n",
       "<table border=\"1\" class=\"dataframe\">\n",
       "  <thead>\n",
       "    <tr style=\"text-align: right;\">\n",
       "      <th></th>\n",
       "      <th>Нет задолженности</th>\n",
       "      <th>Есть задолженность</th>\n",
       "      <th>Доля возврата</th>\n",
       "      <th>Процент возврата</th>\n",
       "    </tr>\n",
       "    <tr>\n",
       "      <th>purpose_category</th>\n",
       "      <th></th>\n",
       "      <th></th>\n",
       "      <th></th>\n",
       "      <th></th>\n",
       "    </tr>\n",
       "  </thead>\n",
       "  <tbody>\n",
       "    <tr>\n",
       "      <th>операции с автомобилем</th>\n",
       "      <td>3912</td>\n",
       "      <td>403</td>\n",
       "      <td>0.906605</td>\n",
       "      <td>90.660487</td>\n",
       "    </tr>\n",
       "    <tr>\n",
       "      <th>операции с недвижимостью</th>\n",
       "      <td>10058</td>\n",
       "      <td>782</td>\n",
       "      <td>0.927860</td>\n",
       "      <td>92.785978</td>\n",
       "    </tr>\n",
       "    <tr>\n",
       "      <th>получение образования</th>\n",
       "      <td>3652</td>\n",
       "      <td>370</td>\n",
       "      <td>0.908006</td>\n",
       "      <td>90.800597</td>\n",
       "    </tr>\n",
       "    <tr>\n",
       "      <th>проведение свадьбы</th>\n",
       "      <td>2162</td>\n",
       "      <td>186</td>\n",
       "      <td>0.920784</td>\n",
       "      <td>92.078365</td>\n",
       "    </tr>\n",
       "  </tbody>\n",
       "</table>\n",
       "</div>"
      ],
      "text/plain": [
       "                          Нет задолженности  Есть задолженность  \\\n",
       "purpose_category                                                  \n",
       "операции с автомобилем                 3912                 403   \n",
       "операции с недвижимостью              10058                 782   \n",
       "получение образования                  3652                 370   \n",
       "проведение свадьбы                     2162                 186   \n",
       "\n",
       "                          Доля возврата  Процент возврата  \n",
       "purpose_category                                           \n",
       "операции с автомобилем         0.906605         90.660487  \n",
       "операции с недвижимостью       0.927860         92.785978  \n",
       "получение образования          0.908006         90.800597  \n",
       "проведение свадьбы             0.920784         92.078365  "
      ]
     },
     "execution_count": 35,
     "metadata": {},
     "output_type": "execute_result"
    }
   ],
   "source": [
    "df_purpose['Доля возврата'] = (\n",
    "    df_purpose['Нет задолженности'] / \n",
    "    (df_purpose['Нет задолженности'] + df_purpose['Есть задолженность'])\n",
    "                                ) #создаю новый столбец, в котором считаю долю возврата\n",
    "df_purpose['Процент возврата'] = df_purpose['Доля возврата'] * 100 # создаю столбец, в котором считаю процент возврата\n",
    "df_purpose # любуюсь замечательной красивой таблией и говорящими данными в ней"
   ]
  },
  {
   "cell_type": "code",
   "execution_count": 36,
   "metadata": {},
   "outputs": [
    {
     "data": {
      "text/plain": [
       "2.1254911853869345"
      ]
     },
     "execution_count": 36,
     "metadata": {},
     "output_type": "execute_result"
    }
   ],
   "source": [
    "df_purpose['Процент возврата'].max() - df_purpose['Процент возврата'].min() \n",
    "# считаю разницу между ссамыми надёжными и ненадёжными заёмщиками"
   ]
  },
  {
   "cell_type": "markdown",
   "metadata": {},
   "source": [
    "##### Вывод 4:\n",
    "Для меня удивительно, но по категории \"проведение свадьбы\" процент возврата один из самых больших. Так же удивительно, что \"получение образования\" один из самых низких процентов возврата. Я думал, что будет наоборот.\n",
    "Хуже всего возвращают кредиты на \"операции с автомобилями\", что и не удивительно: автомобили разбивают, ломают, перепродают, и платить за них уже не хочется. Лидером по возврату является категория \"операции с недвижимостью\". \n"
   ]
  },
  {
   "cell_type": "markdown",
   "metadata": {},
   "source": [
    "## Общий вывод:"
   ]
  },
  {
   "cell_type": "markdown",
   "metadata": {},
   "source": [
    "В процессе выполнения проекта и ответов на вопросы обнаружены следующие закономерности:\n",
    "1. Заёмщики, у  которых нет детей, отдают кредиты в срок чаще, чем те, у кого дети есть. \n",
    "2. Заёмщики, которые состоят или состояли в официальном браке лучше отдают кредиты, чем те заёмщики, которе в браке никогда не состояли.\n",
    "3. Присутствует чёткая корреляция между процентом по возврату кредита в срок и уровнем образования у заёмщиков. Чем выше уровень образования, тем чаще возвращают кредиты вовремя.\n",
    "4. Кредиты, взятые на операции с недвижимостью и на проведение свадьбы, заёмщики отдают в срок чаще, чем люди, которые оформляют кредиты на операции с автомобилем и на получение образования."
   ]
  }
 ],
 "metadata": {
  "ExecuteTimeLog": [
   {
    "duration": 100,
    "start_time": "2022-03-09T13:08:37.368Z"
   },
   {
    "duration": 77,
    "start_time": "2022-03-09T13:08:53.684Z"
   },
   {
    "duration": 82,
    "start_time": "2022-03-09T13:09:07.069Z"
   },
   {
    "duration": 114,
    "start_time": "2022-03-09T13:09:29.993Z"
   },
   {
    "duration": 105,
    "start_time": "2022-03-09T13:09:52.432Z"
   },
   {
    "duration": 1039,
    "start_time": "2022-03-09T13:12:02.473Z"
   },
   {
    "duration": 131,
    "start_time": "2022-03-09T13:26:43.590Z"
   },
   {
    "duration": 82,
    "start_time": "2022-03-09T13:28:17.634Z"
   },
   {
    "duration": 636,
    "start_time": "2022-03-09T13:29:50.958Z"
   },
   {
    "duration": 11,
    "start_time": "2022-03-09T13:30:12.643Z"
   },
   {
    "duration": 11,
    "start_time": "2022-03-09T13:30:47.948Z"
   },
   {
    "duration": 11,
    "start_time": "2022-03-09T13:31:21.740Z"
   },
   {
    "duration": 11,
    "start_time": "2022-03-09T13:31:54.243Z"
   },
   {
    "duration": 9,
    "start_time": "2022-03-09T13:32:53.552Z"
   },
   {
    "duration": 14,
    "start_time": "2022-03-09T13:33:18.009Z"
   },
   {
    "duration": 10,
    "start_time": "2022-03-09T13:33:41.744Z"
   },
   {
    "duration": 792,
    "start_time": "2022-03-12T20:11:47.086Z"
   },
   {
    "duration": 10,
    "start_time": "2022-03-12T20:14:46.347Z"
   },
   {
    "duration": 14,
    "start_time": "2022-03-12T20:15:12.214Z"
   },
   {
    "duration": 9,
    "start_time": "2022-03-12T20:15:32.895Z"
   },
   {
    "duration": 10,
    "start_time": "2022-03-12T20:17:44.116Z"
   },
   {
    "duration": 8,
    "start_time": "2022-03-12T20:18:04.000Z"
   },
   {
    "duration": 10,
    "start_time": "2022-03-12T20:18:43.789Z"
   },
   {
    "duration": 9,
    "start_time": "2022-03-12T20:19:06.420Z"
   },
   {
    "duration": 9,
    "start_time": "2022-03-12T20:19:23.629Z"
   },
   {
    "duration": 9,
    "start_time": "2022-03-12T20:20:03.035Z"
   },
   {
    "duration": 10,
    "start_time": "2022-03-12T20:20:24.721Z"
   },
   {
    "duration": 10,
    "start_time": "2022-03-12T20:21:00.589Z"
   },
   {
    "duration": 10,
    "start_time": "2022-03-12T20:22:01.750Z"
   },
   {
    "duration": 8,
    "start_time": "2022-03-12T20:24:43.885Z"
   },
   {
    "duration": 12,
    "start_time": "2022-03-12T20:25:10.857Z"
   },
   {
    "duration": 12,
    "start_time": "2022-03-12T20:26:03.817Z"
   },
   {
    "duration": 15,
    "start_time": "2022-03-12T20:27:12.110Z"
   },
   {
    "duration": 226,
    "start_time": "2022-03-14T08:05:25.864Z"
   },
   {
    "duration": 669,
    "start_time": "2022-03-14T10:21:33.105Z"
   },
   {
    "duration": 6,
    "start_time": "2022-03-14T10:21:41.213Z"
   },
   {
    "duration": 4,
    "start_time": "2022-03-14T10:22:40.981Z"
   },
   {
    "duration": 6,
    "start_time": "2022-03-14T10:23:02.249Z"
   },
   {
    "duration": 8,
    "start_time": "2022-03-14T10:23:29.156Z"
   },
   {
    "duration": 5,
    "start_time": "2022-03-14T10:23:47.461Z"
   },
   {
    "duration": 5,
    "start_time": "2022-03-14T10:24:15.515Z"
   },
   {
    "duration": 6,
    "start_time": "2022-03-14T10:24:31.893Z"
   },
   {
    "duration": 6,
    "start_time": "2022-03-14T10:24:45.093Z"
   },
   {
    "duration": 4,
    "start_time": "2022-03-14T10:25:03.555Z"
   },
   {
    "duration": 5,
    "start_time": "2022-03-14T10:25:24.511Z"
   },
   {
    "duration": 8,
    "start_time": "2022-03-14T10:25:38.549Z"
   },
   {
    "duration": 6,
    "start_time": "2022-03-14T10:26:16.283Z"
   },
   {
    "duration": 6,
    "start_time": "2022-03-14T10:31:44.537Z"
   },
   {
    "duration": 62,
    "start_time": "2022-03-14T10:32:01.208Z"
   },
   {
    "duration": 6,
    "start_time": "2022-03-14T10:32:13.919Z"
   },
   {
    "duration": 5,
    "start_time": "2022-03-14T10:33:12.235Z"
   },
   {
    "duration": 351,
    "start_time": "2022-03-15T08:35:41.320Z"
   },
   {
    "duration": 942,
    "start_time": "2022-03-15T08:35:53.148Z"
   },
   {
    "duration": 292,
    "start_time": "2022-03-15T08:35:57.667Z"
   },
   {
    "duration": 315,
    "start_time": "2022-03-15T08:36:32.740Z"
   },
   {
    "duration": 254,
    "start_time": "2022-03-15T08:37:03.654Z"
   },
   {
    "duration": 74,
    "start_time": "2022-03-15T08:37:09.367Z"
   },
   {
    "duration": 292,
    "start_time": "2022-03-15T08:37:16.568Z"
   },
   {
    "duration": 345,
    "start_time": "2022-03-15T08:37:22.358Z"
   },
   {
    "duration": 243,
    "start_time": "2022-03-15T08:38:03.784Z"
   },
   {
    "duration": 80,
    "start_time": "2022-03-15T08:38:11.218Z"
   },
   {
    "duration": 9,
    "start_time": "2022-03-15T08:38:36.296Z"
   },
   {
    "duration": 224,
    "start_time": "2022-03-15T08:39:23.309Z"
   },
   {
    "duration": 252,
    "start_time": "2022-03-15T08:39:32.248Z"
   },
   {
    "duration": 9,
    "start_time": "2022-03-15T08:39:58.652Z"
   },
   {
    "duration": 241,
    "start_time": "2022-03-15T08:41:48.342Z"
   },
   {
    "duration": 262,
    "start_time": "2022-03-15T08:42:01.642Z"
   },
   {
    "duration": 254,
    "start_time": "2022-03-15T08:42:11.572Z"
   },
   {
    "duration": 518,
    "start_time": "2022-03-15T08:42:31.362Z"
   },
   {
    "duration": 9,
    "start_time": "2022-03-15T08:42:44.352Z"
   },
   {
    "duration": 232,
    "start_time": "2022-03-15T08:56:05.320Z"
   },
   {
    "duration": 238,
    "start_time": "2022-03-15T08:56:16.302Z"
   },
   {
    "duration": 258,
    "start_time": "2022-03-15T08:56:32.108Z"
   },
   {
    "duration": 245,
    "start_time": "2022-03-15T08:57:01.127Z"
   },
   {
    "duration": 9,
    "start_time": "2022-03-15T08:57:17.926Z"
   },
   {
    "duration": 244,
    "start_time": "2022-03-15T09:39:56.864Z"
   },
   {
    "duration": 8,
    "start_time": "2022-03-15T09:40:06.282Z"
   },
   {
    "duration": 263,
    "start_time": "2022-03-15T13:16:07.750Z"
   },
   {
    "duration": 662,
    "start_time": "2022-03-15T13:16:14.128Z"
   },
   {
    "duration": 5,
    "start_time": "2022-03-15T13:16:18.328Z"
   },
   {
    "duration": 5,
    "start_time": "2022-03-15T13:16:56.870Z"
   },
   {
    "duration": 6,
    "start_time": "2022-03-15T13:17:22.006Z"
   },
   {
    "duration": 7,
    "start_time": "2022-03-15T13:17:53.563Z"
   },
   {
    "duration": 7,
    "start_time": "2022-03-15T13:17:57.346Z"
   },
   {
    "duration": 6,
    "start_time": "2022-03-15T13:18:04.736Z"
   },
   {
    "duration": 617,
    "start_time": "2022-03-15T19:22:10.231Z"
   },
   {
    "duration": 5,
    "start_time": "2022-03-15T19:27:01.108Z"
   },
   {
    "duration": 3,
    "start_time": "2022-03-15T19:33:50.419Z"
   },
   {
    "duration": 4,
    "start_time": "2022-03-15T19:33:54.230Z"
   },
   {
    "duration": 7,
    "start_time": "2022-03-15T19:33:58.857Z"
   },
   {
    "duration": 25,
    "start_time": "2022-03-15T19:35:52.354Z"
   },
   {
    "duration": 96,
    "start_time": "2022-03-15T19:37:03.479Z"
   },
   {
    "duration": 389,
    "start_time": "2022-03-15T19:37:18.860Z"
   },
   {
    "duration": 304,
    "start_time": "2022-03-15T19:37:34.308Z"
   },
   {
    "duration": 72,
    "start_time": "2022-03-15T19:37:44.632Z"
   },
   {
    "duration": 17,
    "start_time": "2022-03-15T19:37:50.775Z"
   },
   {
    "duration": 397,
    "start_time": "2022-03-15T19:38:25.415Z"
   },
   {
    "duration": 308,
    "start_time": "2022-03-15T19:38:39.627Z"
   },
   {
    "duration": 316,
    "start_time": "2022-03-15T19:38:46.505Z"
   },
   {
    "duration": 97,
    "start_time": "2022-03-15T19:39:00.552Z"
   },
   {
    "duration": 16,
    "start_time": "2022-03-15T19:39:04.662Z"
   },
   {
    "duration": 310,
    "start_time": "2022-03-15T19:39:11.974Z"
   },
   {
    "duration": 78,
    "start_time": "2022-03-15T19:39:15.046Z"
   },
   {
    "duration": 19,
    "start_time": "2022-03-15T19:39:18.680Z"
   },
   {
    "duration": 4,
    "start_time": "2022-03-15T19:46:28.662Z"
   },
   {
    "duration": 4,
    "start_time": "2022-03-15T19:49:45.894Z"
   },
   {
    "duration": 4,
    "start_time": "2022-03-15T19:50:04.590Z"
   },
   {
    "duration": 288,
    "start_time": "2022-03-15T20:01:23.533Z"
   },
   {
    "duration": 305,
    "start_time": "2022-03-15T20:01:45.954Z"
   },
   {
    "duration": 59,
    "start_time": "2022-03-15T20:01:51.771Z"
   },
   {
    "duration": 307,
    "start_time": "2022-03-15T20:01:55.340Z"
   },
   {
    "duration": 363,
    "start_time": "2022-03-15T20:02:21.872Z"
   },
   {
    "duration": 6,
    "start_time": "2022-03-15T20:02:35.869Z"
   },
   {
    "duration": 5,
    "start_time": "2022-03-15T20:02:44.685Z"
   },
   {
    "duration": 6,
    "start_time": "2022-03-15T20:02:48.616Z"
   },
   {
    "duration": 5,
    "start_time": "2022-03-15T20:02:55.298Z"
   },
   {
    "duration": 6,
    "start_time": "2022-03-15T20:03:42.468Z"
   },
   {
    "duration": 294,
    "start_time": "2022-03-15T20:16:31.177Z"
   },
   {
    "duration": 288,
    "start_time": "2022-03-15T20:18:03.130Z"
   },
   {
    "duration": 285,
    "start_time": "2022-03-15T20:18:11.049Z"
   },
   {
    "duration": 349,
    "start_time": "2022-03-15T20:19:08.200Z"
   },
   {
    "duration": 69,
    "start_time": "2022-03-15T20:19:55.592Z"
   },
   {
    "duration": 538,
    "start_time": "2022-03-15T20:20:08.789Z"
   },
   {
    "duration": 10,
    "start_time": "2022-03-15T20:24:16.951Z"
   },
   {
    "duration": 294,
    "start_time": "2022-03-15T20:24:42.017Z"
   },
   {
    "duration": 10,
    "start_time": "2022-03-15T20:24:57.901Z"
   },
   {
    "duration": 12,
    "start_time": "2022-03-15T20:25:36.069Z"
   },
   {
    "duration": 314,
    "start_time": "2022-03-15T20:25:46.925Z"
   },
   {
    "duration": 9,
    "start_time": "2022-03-15T20:28:24.204Z"
   },
   {
    "duration": 51,
    "start_time": "2022-03-15T20:31:02.658Z"
   },
   {
    "duration": 54,
    "start_time": "2022-03-15T20:31:17.551Z"
   },
   {
    "duration": 61,
    "start_time": "2022-03-15T20:31:33.651Z"
   },
   {
    "duration": 70,
    "start_time": "2022-03-15T20:32:03.168Z"
   },
   {
    "duration": 73,
    "start_time": "2022-03-15T20:33:10.907Z"
   },
   {
    "duration": 20,
    "start_time": "2022-03-15T20:33:17.274Z"
   },
   {
    "duration": 1237,
    "start_time": "2022-03-15T20:34:05.397Z"
   },
   {
    "duration": 1170,
    "start_time": "2022-03-15T20:34:15.825Z"
   },
   {
    "duration": 388,
    "start_time": "2022-03-15T20:35:23.506Z"
   },
   {
    "duration": 563,
    "start_time": "2022-03-15T20:36:10.860Z"
   },
   {
    "duration": 2049,
    "start_time": "2022-03-15T20:36:21.825Z"
   },
   {
    "duration": 70,
    "start_time": "2022-03-15T20:36:29.388Z"
   },
   {
    "duration": 1235,
    "start_time": "2022-03-15T20:36:33.858Z"
   },
   {
    "duration": 372,
    "start_time": "2022-03-15T20:36:40.076Z"
   },
   {
    "duration": 8247,
    "start_time": "2022-03-15T20:36:58.550Z"
   },
   {
    "duration": 8702,
    "start_time": "2022-03-15T20:37:06.799Z"
   },
   {
    "duration": -1960,
    "start_time": "2022-03-15T20:38:11.614Z"
   },
   {
    "duration": -1962,
    "start_time": "2022-03-15T20:38:11.617Z"
   },
   {
    "duration": 2857,
    "start_time": "2022-03-15T20:38:13.630Z"
   },
   {
    "duration": 297,
    "start_time": "2022-03-15T20:39:26.562Z"
   },
   {
    "duration": 13,
    "start_time": "2022-03-15T20:39:34.230Z"
   },
   {
    "duration": 8,
    "start_time": "2022-03-15T20:39:59.331Z"
   },
   {
    "duration": 60,
    "start_time": "2022-03-15T20:40:22.879Z"
   },
   {
    "duration": 21,
    "start_time": "2022-03-15T20:40:26.221Z"
   },
   {
    "duration": 379,
    "start_time": "2022-03-15T20:40:30.152Z"
   },
   {
    "duration": 1482,
    "start_time": "2022-03-15T20:40:40.896Z"
   },
   {
    "duration": 1164,
    "start_time": "2022-03-15T20:41:32.320Z"
   },
   {
    "duration": 1161,
    "start_time": "2022-03-15T20:41:43.524Z"
   },
   {
    "duration": 24,
    "start_time": "2022-03-15T20:41:52.867Z"
   },
   {
    "duration": 319,
    "start_time": "2022-03-15T20:42:05.744Z"
   },
   {
    "duration": 816,
    "start_time": "2022-03-15T20:42:16.186Z"
   },
   {
    "duration": 18,
    "start_time": "2022-03-15T20:42:26.035Z"
   },
   {
    "duration": 706,
    "start_time": "2022-03-15T20:42:31.415Z"
   },
   {
    "duration": 1236,
    "start_time": "2022-03-15T20:42:47.910Z"
   },
   {
    "duration": 1186,
    "start_time": "2022-03-15T20:43:11.660Z"
   },
   {
    "duration": 5813,
    "start_time": "2022-03-15T20:43:16.749Z"
   },
   {
    "duration": 79,
    "start_time": "2022-03-15T20:43:31.943Z"
   },
   {
    "duration": 19,
    "start_time": "2022-03-15T20:43:43.487Z"
   },
   {
    "duration": 1219,
    "start_time": "2022-03-15T20:43:50.202Z"
   },
   {
    "duration": 5,
    "start_time": "2022-03-15T20:47:50.656Z"
   },
   {
    "duration": 10,
    "start_time": "2022-03-15T21:04:12.908Z"
   },
   {
    "duration": 11,
    "start_time": "2022-03-15T21:04:33.504Z"
   },
   {
    "duration": 12,
    "start_time": "2022-03-15T21:04:49.158Z"
   },
   {
    "duration": 337,
    "start_time": "2022-03-15T21:31:01.214Z"
   },
   {
    "duration": 327,
    "start_time": "2022-03-15T21:31:14.291Z"
   },
   {
    "duration": 61,
    "start_time": "2022-03-15T21:31:31.086Z"
   },
   {
    "duration": 22,
    "start_time": "2022-03-15T21:31:39.327Z"
   },
   {
    "duration": 306,
    "start_time": "2022-03-15T21:31:46.229Z"
   },
   {
    "duration": 343,
    "start_time": "2022-03-15T21:31:53.884Z"
   },
   {
    "duration": 333,
    "start_time": "2022-03-15T21:32:05.919Z"
   },
   {
    "duration": 287,
    "start_time": "2022-03-15T21:32:08.284Z"
   },
   {
    "duration": 302,
    "start_time": "2022-03-15T21:32:20.242Z"
   },
   {
    "duration": 320,
    "start_time": "2022-03-15T21:32:48.038Z"
   },
   {
    "duration": 59,
    "start_time": "2022-03-15T21:32:54.090Z"
   },
   {
    "duration": 18,
    "start_time": "2022-03-15T21:32:57.625Z"
   },
   {
    "duration": 4,
    "start_time": "2022-03-15T21:33:02.227Z"
   },
   {
    "duration": 6,
    "start_time": "2022-03-15T21:33:08.767Z"
   },
   {
    "duration": 15,
    "start_time": "2022-03-15T21:33:12.919Z"
   },
   {
    "duration": 384,
    "start_time": "2022-03-15T21:34:33.098Z"
   },
   {
    "duration": 59,
    "start_time": "2022-03-15T21:34:40.092Z"
   },
   {
    "duration": 19,
    "start_time": "2022-03-15T21:34:42.784Z"
   },
   {
    "duration": 6,
    "start_time": "2022-03-15T21:34:45.798Z"
   },
   {
    "duration": 16,
    "start_time": "2022-03-15T21:34:56.200Z"
   },
   {
    "duration": 62,
    "start_time": "2022-03-15T21:35:00.224Z"
   },
   {
    "duration": 20,
    "start_time": "2022-03-15T21:35:04.230Z"
   },
   {
    "duration": 17,
    "start_time": "2022-03-15T21:35:08.016Z"
   },
   {
    "duration": 300,
    "start_time": "2022-03-15T21:39:53.449Z"
   },
   {
    "duration": 65,
    "start_time": "2022-03-15T21:39:59.487Z"
   },
   {
    "duration": 20,
    "start_time": "2022-03-15T21:40:02.268Z"
   },
   {
    "duration": 12,
    "start_time": "2022-03-15T21:40:06.222Z"
   },
   {
    "duration": 10,
    "start_time": "2022-03-15T21:40:17.379Z"
   },
   {
    "duration": 12,
    "start_time": "2022-03-15T21:40:31.081Z"
   },
   {
    "duration": 17,
    "start_time": "2022-03-15T21:40:48.357Z"
   },
   {
    "duration": 309,
    "start_time": "2022-03-15T21:56:15.093Z"
   },
   {
    "duration": 63,
    "start_time": "2022-03-15T21:56:19.342Z"
   },
   {
    "duration": 19,
    "start_time": "2022-03-15T21:56:22.313Z"
   },
   {
    "duration": 17,
    "start_time": "2022-03-15T21:56:27.922Z"
   },
   {
    "duration": 1202,
    "start_time": "2022-03-15T22:01:14.685Z"
   },
   {
    "duration": 62,
    "start_time": "2022-03-15T22:01:20.244Z"
   },
   {
    "duration": 3,
    "start_time": "2022-03-15T22:01:27.493Z"
   },
   {
    "duration": 8,
    "start_time": "2022-03-15T22:01:34.686Z"
   },
   {
    "duration": 9,
    "start_time": "2022-03-15T22:01:40.565Z"
   },
   {
    "duration": 10,
    "start_time": "2022-03-15T22:01:56.707Z"
   },
   {
    "duration": 341,
    "start_time": "2022-03-15T22:02:18.228Z"
   },
   {
    "duration": 156,
    "start_time": "2022-03-16T07:30:46.807Z"
   },
   {
    "duration": 601,
    "start_time": "2022-03-16T07:30:50.886Z"
   },
   {
    "duration": 15,
    "start_time": "2022-03-16T07:30:56.697Z"
   },
   {
    "duration": 4,
    "start_time": "2022-03-16T07:40:43.799Z"
   },
   {
    "duration": 11,
    "start_time": "2022-03-16T07:41:03.725Z"
   },
   {
    "duration": 215,
    "start_time": "2022-03-16T07:41:26.209Z"
   },
   {
    "duration": 123,
    "start_time": "2022-03-16T07:41:32.305Z"
   },
   {
    "duration": 7,
    "start_time": "2022-03-16T07:48:20.289Z"
   },
   {
    "duration": 4,
    "start_time": "2022-03-16T07:48:37.820Z"
   },
   {
    "duration": 15,
    "start_time": "2022-03-16T07:48:46.715Z"
   },
   {
    "duration": 134,
    "start_time": "2022-03-16T07:48:57.372Z"
   },
   {
    "duration": 107,
    "start_time": "2022-03-16T07:49:19.158Z"
   },
   {
    "duration": 13,
    "start_time": "2022-03-16T07:50:18.936Z"
   },
   {
    "duration": 131,
    "start_time": "2022-03-16T07:56:44.530Z"
   },
   {
    "duration": 61,
    "start_time": "2022-03-16T07:57:17.702Z"
   },
   {
    "duration": 10,
    "start_time": "2022-03-16T07:57:23.328Z"
   },
   {
    "duration": 10,
    "start_time": "2022-03-16T08:00:26.834Z"
   },
   {
    "duration": 7,
    "start_time": "2022-03-16T08:02:10.068Z"
   },
   {
    "duration": 114,
    "start_time": "2022-03-16T08:02:41.676Z"
   },
   {
    "duration": 8,
    "start_time": "2022-03-16T08:03:07.437Z"
   },
   {
    "duration": 11,
    "start_time": "2022-03-16T08:05:11.782Z"
   },
   {
    "duration": 61,
    "start_time": "2022-03-16T08:05:30.327Z"
   },
   {
    "duration": 21,
    "start_time": "2022-03-16T08:05:34.147Z"
   },
   {
    "duration": 11,
    "start_time": "2022-03-16T08:05:39.142Z"
   },
   {
    "duration": 797,
    "start_time": "2022-03-16T08:05:51.461Z"
   },
   {
    "duration": 13,
    "start_time": "2022-03-16T08:06:05.106Z"
   },
   {
    "duration": 26,
    "start_time": "2022-03-16T08:07:02.982Z"
   },
   {
    "duration": 21,
    "start_time": "2022-03-16T08:07:10.165Z"
   },
   {
    "duration": 69,
    "start_time": "2022-03-16T08:07:24.719Z"
   },
   {
    "duration": 21,
    "start_time": "2022-03-16T08:07:27.419Z"
   },
   {
    "duration": 10,
    "start_time": "2022-03-16T08:07:48.451Z"
   },
   {
    "duration": 20,
    "start_time": "2022-03-16T08:07:51.837Z"
   },
   {
    "duration": 13,
    "start_time": "2022-03-16T08:08:05.434Z"
   },
   {
    "duration": 120,
    "start_time": "2022-03-16T08:08:29.561Z"
   },
   {
    "duration": 63,
    "start_time": "2022-03-16T08:08:36.501Z"
   },
   {
    "duration": 21,
    "start_time": "2022-03-16T08:08:40.869Z"
   },
   {
    "duration": 13,
    "start_time": "2022-03-16T08:08:56.386Z"
   },
   {
    "duration": 20,
    "start_time": "2022-03-16T08:09:33.231Z"
   },
   {
    "duration": 973,
    "start_time": "2022-03-16T08:09:58.919Z"
   },
   {
    "duration": 990,
    "start_time": "2022-03-16T08:10:09.167Z"
   },
   {
    "duration": 64,
    "start_time": "2022-03-16T08:10:16.797Z"
   },
   {
    "duration": 21,
    "start_time": "2022-03-16T08:10:22.083Z"
   },
   {
    "duration": 10,
    "start_time": "2022-03-16T08:10:33.287Z"
   },
   {
    "duration": 778,
    "start_time": "2022-03-16T08:10:36.014Z"
   },
   {
    "duration": 61,
    "start_time": "2022-03-16T08:18:36.780Z"
   },
   {
    "duration": 22,
    "start_time": "2022-03-16T08:18:43.698Z"
   },
   {
    "duration": 22,
    "start_time": "2022-03-16T08:19:03.247Z"
   },
   {
    "duration": 12,
    "start_time": "2022-03-16T08:19:11.673Z"
   },
   {
    "duration": 10,
    "start_time": "2022-03-16T08:29:30.818Z"
   },
   {
    "duration": 10,
    "start_time": "2022-03-16T08:29:56.947Z"
   },
   {
    "duration": 7,
    "start_time": "2022-03-16T08:30:06.645Z"
   },
   {
    "duration": 60,
    "start_time": "2022-03-16T08:30:19.225Z"
   },
   {
    "duration": 21,
    "start_time": "2022-03-16T08:30:22.352Z"
   },
   {
    "duration": 7,
    "start_time": "2022-03-16T08:30:26.958Z"
   },
   {
    "duration": 10,
    "start_time": "2022-03-16T08:30:39.881Z"
   },
   {
    "duration": 1254,
    "start_time": "2022-03-16T09:04:05.103Z"
   },
   {
    "duration": 63,
    "start_time": "2022-03-16T09:04:15.463Z"
   },
   {
    "duration": 23,
    "start_time": "2022-03-16T09:04:18.443Z"
   },
   {
    "duration": 10,
    "start_time": "2022-03-16T09:04:22.324Z"
   },
   {
    "duration": 923,
    "start_time": "2022-03-16T09:04:26.523Z"
   },
   {
    "duration": 769,
    "start_time": "2022-03-16T09:04:45.973Z"
   },
   {
    "duration": 655,
    "start_time": "2022-03-16T09:13:28.651Z"
   },
   {
    "duration": 1217,
    "start_time": "2022-03-16T09:14:37.414Z"
   },
   {
    "duration": 63,
    "start_time": "2022-03-16T09:16:56.208Z"
   },
   {
    "duration": 22,
    "start_time": "2022-03-16T09:16:59.119Z"
   },
   {
    "duration": 10,
    "start_time": "2022-03-16T09:17:01.935Z"
   },
   {
    "duration": 812,
    "start_time": "2022-03-16T09:17:06.153Z"
   },
   {
    "duration": 410,
    "start_time": "2022-03-16T09:17:50.671Z"
   },
   {
    "duration": 4,
    "start_time": "2022-03-16T09:18:17.029Z"
   },
   {
    "duration": 14,
    "start_time": "2022-03-16T09:18:25.151Z"
   },
   {
    "duration": 28,
    "start_time": "2022-03-16T09:18:41.658Z"
   },
   {
    "duration": 60,
    "start_time": "2022-03-16T09:19:02.295Z"
   },
   {
    "duration": 23,
    "start_time": "2022-03-16T09:19:05.388Z"
   },
   {
    "duration": 23,
    "start_time": "2022-03-16T09:19:12.836Z"
   },
   {
    "duration": 20,
    "start_time": "2022-03-16T09:19:34.854Z"
   },
   {
    "duration": 1106,
    "start_time": "2022-03-16T09:19:39.042Z"
   },
   {
    "duration": 10,
    "start_time": "2022-03-16T09:19:58.704Z"
   },
   {
    "duration": 60,
    "start_time": "2022-03-16T09:20:02.270Z"
   },
   {
    "duration": 401,
    "start_time": "2022-03-16T09:20:11.205Z"
   },
   {
    "duration": 790,
    "start_time": "2022-03-16T09:20:30.975Z"
   },
   {
    "duration": 745,
    "start_time": "2022-03-16T09:53:09.101Z"
   },
   {
    "duration": 13,
    "start_time": "2022-03-16T09:53:28.099Z"
   },
   {
    "duration": 24,
    "start_time": "2022-03-16T09:53:42.417Z"
   },
   {
    "duration": 67,
    "start_time": "2022-03-16T09:54:12.215Z"
   },
   {
    "duration": 21,
    "start_time": "2022-03-16T09:54:23.162Z"
   },
   {
    "duration": 472,
    "start_time": "2022-03-16T09:54:58.161Z"
   },
   {
    "duration": 4,
    "start_time": "2022-03-16T09:55:21.108Z"
   },
   {
    "duration": 15,
    "start_time": "2022-03-16T09:55:45.510Z"
   },
   {
    "duration": 14,
    "start_time": "2022-03-16T09:56:01.744Z"
   },
   {
    "duration": 16,
    "start_time": "2022-03-16T09:56:35.958Z"
   },
   {
    "duration": 697,
    "start_time": "2022-03-16T09:56:57.551Z"
   },
   {
    "duration": 64,
    "start_time": "2022-03-16T09:57:08.342Z"
   },
   {
    "duration": 23,
    "start_time": "2022-03-16T09:57:15.466Z"
   },
   {
    "duration": 396,
    "start_time": "2022-03-16T09:57:57.088Z"
   },
   {
    "duration": 14,
    "start_time": "2022-03-16T09:58:10.621Z"
   },
   {
    "duration": 16,
    "start_time": "2022-03-16T09:59:00.032Z"
   },
   {
    "duration": 61,
    "start_time": "2022-03-16T10:11:28.999Z"
   },
   {
    "duration": 22,
    "start_time": "2022-03-16T10:11:42.901Z"
   },
   {
    "duration": 14,
    "start_time": "2022-03-16T10:11:55.041Z"
   },
   {
    "duration": 957,
    "start_time": "2022-03-16T10:13:03.851Z"
   },
   {
    "duration": 12,
    "start_time": "2022-03-16T10:13:16.788Z"
   },
   {
    "duration": 34,
    "start_time": "2022-03-16T10:13:56.939Z"
   },
   {
    "duration": 13,
    "start_time": "2022-03-16T10:14:02.712Z"
   },
   {
    "duration": 67,
    "start_time": "2022-03-16T11:18:23.371Z"
   },
   {
    "duration": 22,
    "start_time": "2022-03-16T11:18:36.083Z"
   },
   {
    "duration": 20,
    "start_time": "2022-03-16T11:18:59.965Z"
   },
   {
    "duration": 500,
    "start_time": "2022-03-16T11:19:23.127Z"
   },
   {
    "duration": 4,
    "start_time": "2022-03-16T11:21:10.797Z"
   },
   {
    "duration": 16,
    "start_time": "2022-03-16T11:21:15.876Z"
   },
   {
    "duration": 65,
    "start_time": "2022-03-16T11:24:27.568Z"
   },
   {
    "duration": 31,
    "start_time": "2022-03-16T11:24:37.276Z"
   },
   {
    "duration": 12,
    "start_time": "2022-03-16T11:24:48.144Z"
   },
   {
    "duration": 570,
    "start_time": "2022-03-16T11:25:14.001Z"
   },
   {
    "duration": 67,
    "start_time": "2022-03-16T11:26:27.220Z"
   },
   {
    "duration": 137,
    "start_time": "2022-03-16T11:30:39.525Z"
   },
   {
    "duration": 5,
    "start_time": "2022-03-16T11:31:02.284Z"
   },
   {
    "duration": 12,
    "start_time": "2022-03-16T11:31:07.256Z"
   },
   {
    "duration": 12,
    "start_time": "2022-03-16T11:31:18.442Z"
   },
   {
    "duration": 15,
    "start_time": "2022-03-16T11:31:27.907Z"
   },
   {
    "duration": 9,
    "start_time": "2022-03-16T11:31:33.871Z"
   },
   {
    "duration": 111,
    "start_time": "2022-03-16T11:31:45.582Z"
   },
   {
    "duration": 78,
    "start_time": "2022-03-16T11:32:41.408Z"
   },
   {
    "duration": 5,
    "start_time": "2022-03-16T11:33:07.308Z"
   },
   {
    "duration": 20,
    "start_time": "2022-03-16T11:33:15.375Z"
   },
   {
    "duration": 23,
    "start_time": "2022-03-16T11:33:37.876Z"
   },
   {
    "duration": 462,
    "start_time": "2022-03-16T11:33:43.382Z"
   },
   {
    "duration": 83,
    "start_time": "2022-03-16T11:34:15.516Z"
   },
   {
    "duration": 14,
    "start_time": "2022-03-16T11:34:21.070Z"
   },
   {
    "duration": 13,
    "start_time": "2022-03-16T11:34:30.788Z"
   },
   {
    "duration": 9,
    "start_time": "2022-03-16T11:34:43.652Z"
   },
   {
    "duration": 132,
    "start_time": "2022-03-16T11:35:01.037Z"
   },
   {
    "duration": 67,
    "start_time": "2022-03-16T11:39:21.178Z"
   },
   {
    "duration": 17,
    "start_time": "2022-03-16T11:39:27.135Z"
   },
   {
    "duration": 17,
    "start_time": "2022-03-16T11:39:36.139Z"
   },
   {
    "duration": 16,
    "start_time": "2022-03-16T11:39:44.753Z"
   },
   {
    "duration": 62,
    "start_time": "2022-03-16T11:40:56.280Z"
   },
   {
    "duration": 25,
    "start_time": "2022-03-16T11:41:10.902Z"
   },
   {
    "duration": 525,
    "start_time": "2022-03-16T11:41:30.000Z"
   },
   {
    "duration": 35,
    "start_time": "2022-03-16T11:42:10.816Z"
   },
   {
    "duration": 16,
    "start_time": "2022-03-16T11:42:22.714Z"
   },
   {
    "duration": 17,
    "start_time": "2022-03-16T12:45:42.449Z"
   },
   {
    "duration": 880,
    "start_time": "2022-03-16T12:45:50.087Z"
   },
   {
    "duration": 743,
    "start_time": "2022-03-16T12:45:53.541Z"
   },
   {
    "duration": 791,
    "start_time": "2022-03-16T12:45:55.371Z"
   },
   {
    "duration": 77,
    "start_time": "2022-03-16T12:46:00.313Z"
   },
   {
    "duration": 23,
    "start_time": "2022-03-16T12:46:05.403Z"
   },
   {
    "duration": 15,
    "start_time": "2022-03-16T12:46:12.557Z"
   },
   {
    "duration": 17,
    "start_time": "2022-03-16T12:46:16.745Z"
   },
   {
    "duration": 783,
    "start_time": "2022-03-16T12:46:19.291Z"
   },
   {
    "duration": 714,
    "start_time": "2022-03-16T12:46:37.460Z"
   },
   {
    "duration": 1137,
    "start_time": "2022-03-16T12:49:07.884Z"
   },
   {
    "duration": 64,
    "start_time": "2022-03-16T12:49:15.962Z"
   },
   {
    "duration": 37,
    "start_time": "2022-03-16T12:49:20.704Z"
   },
   {
    "duration": 12,
    "start_time": "2022-03-16T12:49:24.075Z"
   },
   {
    "duration": 12,
    "start_time": "2022-03-16T12:49:28.434Z"
   },
   {
    "duration": 20,
    "start_time": "2022-03-16T12:49:34.202Z"
   },
   {
    "duration": 1619,
    "start_time": "2022-03-16T12:49:37.540Z"
   },
   {
    "duration": 693,
    "start_time": "2022-03-16T12:49:43.475Z"
   },
   {
    "duration": 895,
    "start_time": "2022-03-16T12:50:01.978Z"
   },
   {
    "duration": 832,
    "start_time": "2022-03-16T12:52:13.196Z"
   },
   {
    "duration": 686,
    "start_time": "2022-03-16T12:52:32.921Z"
   },
   {
    "duration": 913,
    "start_time": "2022-03-16T12:52:37.856Z"
   },
   {
    "duration": 829,
    "start_time": "2022-03-16T12:55:34.270Z"
   },
   {
    "duration": 697,
    "start_time": "2022-03-16T12:56:13.477Z"
   },
   {
    "duration": 87,
    "start_time": "2022-03-16T12:56:18.769Z"
   },
   {
    "duration": 24,
    "start_time": "2022-03-16T12:56:22.835Z"
   },
   {
    "duration": 15,
    "start_time": "2022-03-16T12:56:29.581Z"
   },
   {
    "duration": 18,
    "start_time": "2022-03-16T12:56:43.357Z"
   },
   {
    "duration": 713,
    "start_time": "2022-03-16T12:56:47.017Z"
   },
   {
    "duration": 775,
    "start_time": "2022-03-16T12:57:24.642Z"
   },
   {
    "duration": 2500,
    "start_time": "2022-03-16T12:58:39.123Z"
   },
   {
    "duration": 74,
    "start_time": "2022-03-16T12:58:46.090Z"
   },
   {
    "duration": 33,
    "start_time": "2022-03-16T12:58:51.101Z"
   },
   {
    "duration": 10,
    "start_time": "2022-03-16T12:58:56.359Z"
   },
   {
    "duration": 16,
    "start_time": "2022-03-16T12:58:58.663Z"
   },
   {
    "duration": 693,
    "start_time": "2022-03-16T12:59:01.482Z"
   },
   {
    "duration": 66,
    "start_time": "2022-03-16T12:59:59.976Z"
   },
   {
    "duration": 21,
    "start_time": "2022-03-16T13:00:05.370Z"
   },
   {
    "duration": 11,
    "start_time": "2022-03-16T13:00:11.284Z"
   },
   {
    "duration": 15,
    "start_time": "2022-03-16T13:00:15.342Z"
   },
   {
    "duration": 1006,
    "start_time": "2022-03-16T13:00:18.238Z"
   },
   {
    "duration": 854,
    "start_time": "2022-03-16T13:04:06.383Z"
   },
   {
    "duration": 20,
    "start_time": "2022-03-16T13:04:20.037Z"
   },
   {
    "duration": 1403,
    "start_time": "2022-03-16T13:04:22.901Z"
   },
   {
    "duration": 12,
    "start_time": "2022-03-16T13:04:36.645Z"
   },
   {
    "duration": 22,
    "start_time": "2022-03-16T13:04:43.887Z"
   },
   {
    "duration": 695,
    "start_time": "2022-03-16T13:04:49.531Z"
   },
   {
    "duration": 882,
    "start_time": "2022-03-16T13:23:58.035Z"
   },
   {
    "duration": 734,
    "start_time": "2022-03-16T13:57:44.007Z"
   },
   {
    "duration": 68,
    "start_time": "2022-03-16T13:57:49.315Z"
   },
   {
    "duration": 22,
    "start_time": "2022-03-16T13:57:57.454Z"
   },
   {
    "duration": 22,
    "start_time": "2022-03-16T13:58:16.908Z"
   },
   {
    "duration": 724,
    "start_time": "2022-03-16T13:58:21.045Z"
   },
   {
    "duration": 1042,
    "start_time": "2022-03-16T14:00:06.655Z"
   },
   {
    "duration": 73,
    "start_time": "2022-03-16T14:00:13.626Z"
   },
   {
    "duration": 16,
    "start_time": "2022-03-16T14:00:19.601Z"
   },
   {
    "duration": 46,
    "start_time": "2022-03-16T14:15:42.938Z"
   },
   {
    "duration": 4,
    "start_time": "2022-03-16T14:18:30.383Z"
   },
   {
    "duration": 36,
    "start_time": "2022-03-16T14:18:33.940Z"
   },
   {
    "duration": 18,
    "start_time": "2022-03-16T14:18:40.136Z"
   },
   {
    "duration": 36,
    "start_time": "2022-03-16T14:18:42.740Z"
   },
   {
    "duration": 68,
    "start_time": "2022-03-16T14:18:50.911Z"
   },
   {
    "duration": 25,
    "start_time": "2022-03-16T14:18:54.466Z"
   },
   {
    "duration": 13,
    "start_time": "2022-03-16T14:18:59.311Z"
   },
   {
    "duration": 14,
    "start_time": "2022-03-16T14:19:01.854Z"
   },
   {
    "duration": 966,
    "start_time": "2022-03-16T14:19:04.963Z"
   },
   {
    "duration": 84,
    "start_time": "2022-03-16T14:21:24.461Z"
   },
   {
    "duration": 34,
    "start_time": "2022-03-16T14:21:28.641Z"
   },
   {
    "duration": 27,
    "start_time": "2022-03-16T14:22:27.158Z"
   },
   {
    "duration": 137,
    "start_time": "2022-03-16T14:26:51.178Z"
   },
   {
    "duration": 84,
    "start_time": "2022-03-16T14:30:11.236Z"
   },
   {
    "duration": 15,
    "start_time": "2022-03-16T14:30:14.390Z"
   },
   {
    "duration": 119,
    "start_time": "2022-03-16T14:31:24.463Z"
   },
   {
    "duration": 424,
    "start_time": "2022-03-16T14:32:07.554Z"
   },
   {
    "duration": 21,
    "start_time": "2022-03-16T14:32:21.110Z"
   },
   {
    "duration": 63,
    "start_time": "2022-03-16T14:36:12.029Z"
   },
   {
    "duration": 22,
    "start_time": "2022-03-16T14:36:27.240Z"
   },
   {
    "duration": 391,
    "start_time": "2022-03-16T14:36:50.239Z"
   },
   {
    "duration": 22,
    "start_time": "2022-03-16T14:37:33.657Z"
   },
   {
    "duration": 100,
    "start_time": "2022-03-16T14:39:58.629Z"
   },
   {
    "duration": 62,
    "start_time": "2022-03-16T14:40:10.915Z"
   },
   {
    "duration": 16,
    "start_time": "2022-03-16T14:40:21.368Z"
   },
   {
    "duration": 14,
    "start_time": "2022-03-16T14:40:46.134Z"
   },
   {
    "duration": 519,
    "start_time": "2022-03-17T20:09:55.249Z"
   },
   {
    "duration": 19,
    "start_time": "2022-03-17T20:09:59.914Z"
   },
   {
    "duration": 9,
    "start_time": "2022-03-17T20:10:05.469Z"
   },
   {
    "duration": 16,
    "start_time": "2022-03-17T20:10:11.365Z"
   },
   {
    "duration": 18,
    "start_time": "2022-03-17T20:12:19.804Z"
   },
   {
    "duration": 48,
    "start_time": "2022-03-17T20:12:29.299Z"
   },
   {
    "duration": 20,
    "start_time": "2022-03-17T20:22:06.806Z"
   },
   {
    "duration": 34,
    "start_time": "2022-03-17T20:22:43.542Z"
   },
   {
    "duration": 10,
    "start_time": "2022-03-17T20:23:43.114Z"
   },
   {
    "duration": 10,
    "start_time": "2022-03-17T20:24:15.412Z"
   },
   {
    "duration": 10,
    "start_time": "2022-03-17T20:24:15.922Z"
   },
   {
    "duration": 28,
    "start_time": "2022-03-17T20:24:34.993Z"
   },
   {
    "duration": 36,
    "start_time": "2022-03-17T20:27:29.404Z"
   },
   {
    "duration": 8,
    "start_time": "2022-03-17T20:34:36.275Z"
   },
   {
    "duration": 7,
    "start_time": "2022-03-17T20:35:23.771Z"
   },
   {
    "duration": 7,
    "start_time": "2022-03-17T20:35:40.566Z"
   },
   {
    "duration": 8,
    "start_time": "2022-03-17T20:36:01.175Z"
   },
   {
    "duration": 17,
    "start_time": "2022-03-17T20:45:39.613Z"
   },
   {
    "duration": 24,
    "start_time": "2022-03-17T20:45:50.520Z"
   },
   {
    "duration": 17,
    "start_time": "2022-03-17T20:47:14.992Z"
   },
   {
    "duration": 14,
    "start_time": "2022-03-17T20:47:26.628Z"
   },
   {
    "duration": 15,
    "start_time": "2022-03-17T20:47:36.504Z"
   },
   {
    "duration": 26,
    "start_time": "2022-03-17T20:47:53.697Z"
   },
   {
    "duration": 8,
    "start_time": "2022-03-17T20:48:45.870Z"
   },
   {
    "duration": 96,
    "start_time": "2022-03-17T20:48:57.188Z"
   },
   {
    "duration": 20,
    "start_time": "2022-03-17T20:49:01.061Z"
   },
   {
    "duration": 11,
    "start_time": "2022-03-17T20:49:06.604Z"
   },
   {
    "duration": 19,
    "start_time": "2022-03-17T21:18:04.385Z"
   },
   {
    "duration": 29,
    "start_time": "2022-03-17T21:31:29.772Z"
   },
   {
    "duration": 26,
    "start_time": "2022-03-17T21:31:51.306Z"
   },
   {
    "duration": 26,
    "start_time": "2022-03-17T21:43:44.530Z"
   },
   {
    "duration": 19,
    "start_time": "2022-03-17T21:50:26.797Z"
   },
   {
    "duration": 74,
    "start_time": "2022-03-18T20:00:59.887Z"
   },
   {
    "duration": 629,
    "start_time": "2022-03-18T20:01:06.875Z"
   },
   {
    "duration": 36,
    "start_time": "2022-03-18T20:01:11.754Z"
   },
   {
    "duration": 18,
    "start_time": "2022-03-18T20:01:14.697Z"
   },
   {
    "duration": 38,
    "start_time": "2022-03-18T20:01:17.472Z"
   },
   {
    "duration": 11,
    "start_time": "2022-03-18T20:01:25.704Z"
   },
   {
    "duration": 28,
    "start_time": "2022-03-18T20:01:29.415Z"
   },
   {
    "duration": 15,
    "start_time": "2022-03-18T20:01:34.795Z"
   },
   {
    "duration": 16,
    "start_time": "2022-03-18T20:01:39.106Z"
   },
   {
    "duration": 38,
    "start_time": "2022-03-18T20:01:41.889Z"
   },
   {
    "duration": 34,
    "start_time": "2022-03-18T20:01:44.354Z"
   },
   {
    "duration": 33,
    "start_time": "2022-03-18T20:01:47.271Z"
   },
   {
    "duration": 55,
    "start_time": "2022-03-18T20:01:55.555Z"
   },
   {
    "duration": 43,
    "start_time": "2022-03-18T20:02:08.809Z"
   },
   {
    "duration": 31,
    "start_time": "2022-03-18T20:29:09.722Z"
   },
   {
    "duration": 73,
    "start_time": "2022-03-18T20:29:29.909Z"
   },
   {
    "duration": 6,
    "start_time": "2022-03-18T20:34:02.775Z"
   },
   {
    "duration": 16,
    "start_time": "2022-03-18T20:34:15.020Z"
   },
   {
    "duration": 96,
    "start_time": "2022-03-18T20:35:25.035Z"
   },
   {
    "duration": 74,
    "start_time": "2022-03-18T20:36:14.280Z"
   },
   {
    "duration": 21,
    "start_time": "2022-03-18T20:37:51.629Z"
   },
   {
    "duration": 17,
    "start_time": "2022-03-18T20:41:01.065Z"
   },
   {
    "duration": 19,
    "start_time": "2022-03-18T20:41:24.838Z"
   },
   {
    "duration": 13,
    "start_time": "2022-03-18T20:42:06.029Z"
   },
   {
    "duration": 11,
    "start_time": "2022-03-18T20:42:11.594Z"
   },
   {
    "duration": 12,
    "start_time": "2022-03-18T20:42:19.498Z"
   },
   {
    "duration": 14,
    "start_time": "2022-03-18T20:42:28.221Z"
   },
   {
    "duration": 12,
    "start_time": "2022-03-18T20:42:40.399Z"
   },
   {
    "duration": 12,
    "start_time": "2022-03-18T20:43:55.164Z"
   },
   {
    "duration": 11,
    "start_time": "2022-03-18T20:44:20.569Z"
   },
   {
    "duration": 16,
    "start_time": "2022-03-18T20:44:41.484Z"
   },
   {
    "duration": 11,
    "start_time": "2022-03-18T20:44:43.949Z"
   },
   {
    "duration": 88,
    "start_time": "2022-03-18T20:46:34.188Z"
   },
   {
    "duration": 15,
    "start_time": "2022-03-18T20:49:25.496Z"
   },
   {
    "duration": 15,
    "start_time": "2022-03-18T20:49:53.324Z"
   },
   {
    "duration": 13,
    "start_time": "2022-03-18T20:50:08.084Z"
   },
   {
    "duration": 13,
    "start_time": "2022-03-18T20:50:57.664Z"
   },
   {
    "duration": 91,
    "start_time": "2022-03-18T20:56:08.964Z"
   },
   {
    "duration": 122,
    "start_time": "2022-03-18T20:56:41.503Z"
   },
   {
    "duration": 90,
    "start_time": "2022-03-18T20:57:40.364Z"
   },
   {
    "duration": 89,
    "start_time": "2022-03-18T20:58:36.821Z"
   },
   {
    "duration": 124,
    "start_time": "2022-03-18T21:02:50.389Z"
   },
   {
    "duration": 30,
    "start_time": "2022-03-18T21:04:00.380Z"
   },
   {
    "duration": 1618,
    "start_time": "2022-03-18T21:04:44.407Z"
   },
   {
    "duration": 1903,
    "start_time": "2022-03-18T21:04:59.044Z"
   },
   {
    "duration": 2094,
    "start_time": "2022-03-18T21:05:14.768Z"
   },
   {
    "duration": 1864,
    "start_time": "2022-03-18T21:05:22.609Z"
   },
   {
    "duration": 27,
    "start_time": "2022-03-18T21:05:45.449Z"
   },
   {
    "duration": 112,
    "start_time": "2022-03-18T21:06:13.768Z"
   },
   {
    "duration": 33,
    "start_time": "2022-03-18T21:06:17.095Z"
   },
   {
    "duration": 12,
    "start_time": "2022-03-18T21:06:19.689Z"
   },
   {
    "duration": 34,
    "start_time": "2022-03-18T21:06:22.811Z"
   },
   {
    "duration": 10,
    "start_time": "2022-03-18T21:06:30.094Z"
   },
   {
    "duration": 23,
    "start_time": "2022-03-18T21:06:32.654Z"
   },
   {
    "duration": 20,
    "start_time": "2022-03-18T21:06:37.578Z"
   },
   {
    "duration": 37,
    "start_time": "2022-03-18T21:06:40.381Z"
   },
   {
    "duration": 25,
    "start_time": "2022-03-18T21:06:42.663Z"
   },
   {
    "duration": 22,
    "start_time": "2022-03-18T21:06:44.963Z"
   },
   {
    "duration": 13,
    "start_time": "2022-03-18T21:06:48.254Z"
   },
   {
    "duration": 16,
    "start_time": "2022-03-18T21:06:51.249Z"
   },
   {
    "duration": 30,
    "start_time": "2022-03-18T21:07:01.889Z"
   },
   {
    "duration": 39,
    "start_time": "2022-03-18T21:07:14.461Z"
   },
   {
    "duration": 17,
    "start_time": "2022-03-18T21:11:29.839Z"
   },
   {
    "duration": 33,
    "start_time": "2022-03-18T21:12:43.571Z"
   },
   {
    "duration": 22,
    "start_time": "2022-03-18T21:12:45.439Z"
   },
   {
    "duration": 22,
    "start_time": "2022-03-18T21:12:47.620Z"
   },
   {
    "duration": 25,
    "start_time": "2022-03-18T21:12:59.264Z"
   },
   {
    "duration": 33,
    "start_time": "2022-03-18T21:13:21.037Z"
   },
   {
    "duration": 104,
    "start_time": "2022-03-18T21:13:50.494Z"
   },
   {
    "duration": 26,
    "start_time": "2022-03-18T21:13:53.785Z"
   },
   {
    "duration": 12,
    "start_time": "2022-03-18T21:13:57.380Z"
   },
   {
    "duration": 22,
    "start_time": "2022-03-18T21:13:59.610Z"
   },
   {
    "duration": 9,
    "start_time": "2022-03-18T21:14:05.999Z"
   },
   {
    "duration": 24,
    "start_time": "2022-03-18T21:14:09.144Z"
   },
   {
    "duration": 11,
    "start_time": "2022-03-18T21:14:16.121Z"
   },
   {
    "duration": 17,
    "start_time": "2022-03-18T21:14:21.160Z"
   },
   {
    "duration": 40,
    "start_time": "2022-03-18T21:14:41.699Z"
   },
   {
    "duration": 35,
    "start_time": "2022-03-18T21:14:44.185Z"
   },
   {
    "duration": 25,
    "start_time": "2022-03-18T21:14:46.755Z"
   },
   {
    "duration": 24,
    "start_time": "2022-03-18T21:14:51.327Z"
   },
   {
    "duration": 11,
    "start_time": "2022-03-18T21:20:10.625Z"
   },
   {
    "duration": 10,
    "start_time": "2022-03-18T21:20:36.565Z"
   },
   {
    "duration": 23,
    "start_time": "2022-03-18T21:21:35.173Z"
   },
   {
    "duration": 20,
    "start_time": "2022-03-18T21:22:06.267Z"
   },
   {
    "duration": 38,
    "start_time": "2022-03-18T21:22:15.459Z"
   },
   {
    "duration": 25,
    "start_time": "2022-03-18T21:22:24.085Z"
   },
   {
    "duration": 24,
    "start_time": "2022-03-18T21:22:30.284Z"
   },
   {
    "duration": 33,
    "start_time": "2022-03-18T21:22:34.100Z"
   },
   {
    "duration": 5,
    "start_time": "2022-03-18T21:23:09.324Z"
   },
   {
    "duration": 19,
    "start_time": "2022-03-18T21:26:20.029Z"
   },
   {
    "duration": 44,
    "start_time": "2022-03-18T21:26:28.409Z"
   },
   {
    "duration": 26,
    "start_time": "2022-03-18T21:26:31.594Z"
   },
   {
    "duration": 23,
    "start_time": "2022-03-18T21:26:35.179Z"
   },
   {
    "duration": 29,
    "start_time": "2022-03-18T21:26:54.295Z"
   },
   {
    "duration": 32,
    "start_time": "2022-03-18T21:27:53.032Z"
   },
   {
    "duration": 24,
    "start_time": "2022-03-18T21:28:28.498Z"
   },
   {
    "duration": 105,
    "start_time": "2022-03-18T21:28:35.057Z"
   },
   {
    "duration": 8,
    "start_time": "2022-03-18T21:28:41.510Z"
   },
   {
    "duration": 25,
    "start_time": "2022-03-18T21:28:43.418Z"
   },
   {
    "duration": 10,
    "start_time": "2022-03-18T21:28:46.251Z"
   },
   {
    "duration": 23,
    "start_time": "2022-03-18T21:28:48.775Z"
   },
   {
    "duration": 28,
    "start_time": "2022-03-18T21:28:54.059Z"
   },
   {
    "duration": 40,
    "start_time": "2022-03-18T21:28:56.493Z"
   },
   {
    "duration": 10,
    "start_time": "2022-03-18T21:29:00.324Z"
   },
   {
    "duration": 35,
    "start_time": "2022-03-18T21:29:04.229Z"
   },
   {
    "duration": 4,
    "start_time": "2022-03-18T21:29:15.458Z"
   },
   {
    "duration": 18,
    "start_time": "2022-03-18T21:29:18.617Z"
   },
   {
    "duration": 37,
    "start_time": "2022-03-18T21:29:21.646Z"
   },
   {
    "duration": 37,
    "start_time": "2022-03-18T21:29:24.058Z"
   },
   {
    "duration": 23,
    "start_time": "2022-03-18T21:29:26.363Z"
   },
   {
    "duration": 24,
    "start_time": "2022-03-18T21:30:25.868Z"
   },
   {
    "duration": 25,
    "start_time": "2022-03-18T21:30:33.099Z"
   },
   {
    "duration": 25,
    "start_time": "2022-03-18T21:30:36.109Z"
   },
   {
    "duration": 47,
    "start_time": "2022-03-19T20:01:03.806Z"
   },
   {
    "duration": 517,
    "start_time": "2022-03-19T20:01:09.945Z"
   },
   {
    "duration": 6,
    "start_time": "2022-03-19T20:01:13.828Z"
   },
   {
    "duration": 21,
    "start_time": "2022-03-19T20:01:16.960Z"
   },
   {
    "duration": 11,
    "start_time": "2022-03-19T20:01:20.569Z"
   },
   {
    "duration": 16,
    "start_time": "2022-03-19T20:01:22.838Z"
   },
   {
    "duration": 18,
    "start_time": "2022-03-19T20:01:25.699Z"
   },
   {
    "duration": 26,
    "start_time": "2022-03-19T20:01:28.128Z"
   },
   {
    "duration": 8,
    "start_time": "2022-03-19T20:01:30.904Z"
   },
   {
    "duration": 16,
    "start_time": "2022-03-19T20:01:33.520Z"
   },
   {
    "duration": 4,
    "start_time": "2022-03-19T20:01:36.431Z"
   },
   {
    "duration": 12,
    "start_time": "2022-03-19T20:01:38.919Z"
   },
   {
    "duration": 32,
    "start_time": "2022-03-19T20:01:42.389Z"
   },
   {
    "duration": 20,
    "start_time": "2022-03-19T20:01:54.530Z"
   },
   {
    "duration": 18,
    "start_time": "2022-03-19T20:01:56.796Z"
   },
   {
    "duration": 16,
    "start_time": "2022-03-19T20:02:03.226Z"
   },
   {
    "duration": 21,
    "start_time": "2022-03-19T20:02:09.193Z"
   },
   {
    "duration": 23,
    "start_time": "2022-03-19T20:02:25.721Z"
   },
   {
    "duration": 9,
    "start_time": "2022-03-19T20:02:28.201Z"
   },
   {
    "duration": 15,
    "start_time": "2022-03-19T20:03:02.003Z"
   },
   {
    "duration": 28,
    "start_time": "2022-03-19T20:25:55.434Z"
   },
   {
    "duration": 134,
    "start_time": "2022-03-19T20:26:06.665Z"
   },
   {
    "duration": 140,
    "start_time": "2022-03-19T20:26:35.304Z"
   },
   {
    "duration": 134,
    "start_time": "2022-03-19T20:27:10.193Z"
   },
   {
    "duration": 139,
    "start_time": "2022-03-19T20:27:45.524Z"
   },
   {
    "duration": 144,
    "start_time": "2022-03-19T20:28:10.012Z"
   },
   {
    "duration": 142,
    "start_time": "2022-03-19T20:30:43.338Z"
   },
   {
    "duration": 7,
    "start_time": "2022-03-19T20:57:21.815Z"
   },
   {
    "duration": 2792,
    "start_time": "2022-03-19T20:57:42.482Z"
   },
   {
    "duration": 2718,
    "start_time": "2022-03-19T20:57:49.471Z"
   },
   {
    "duration": 108,
    "start_time": "2022-03-19T20:58:09.618Z"
   },
   {
    "duration": 7,
    "start_time": "2022-03-19T20:58:13.180Z"
   },
   {
    "duration": 24,
    "start_time": "2022-03-19T20:58:14.822Z"
   },
   {
    "duration": 8,
    "start_time": "2022-03-19T20:58:17.784Z"
   },
   {
    "duration": 16,
    "start_time": "2022-03-19T20:58:19.851Z"
   },
   {
    "duration": 16,
    "start_time": "2022-03-19T20:58:22.365Z"
   },
   {
    "duration": 24,
    "start_time": "2022-03-19T20:58:24.295Z"
   },
   {
    "duration": 7,
    "start_time": "2022-03-19T20:58:33.041Z"
   },
   {
    "duration": 19,
    "start_time": "2022-03-19T20:58:35.273Z"
   },
   {
    "duration": 5,
    "start_time": "2022-03-19T20:58:38.617Z"
   },
   {
    "duration": 17,
    "start_time": "2022-03-19T20:58:40.836Z"
   },
   {
    "duration": 35,
    "start_time": "2022-03-19T20:58:43.742Z"
   },
   {
    "duration": 18,
    "start_time": "2022-03-19T20:58:45.860Z"
   },
   {
    "duration": 17,
    "start_time": "2022-03-19T20:58:48.174Z"
   },
   {
    "duration": 15,
    "start_time": "2022-03-19T20:58:54.273Z"
   },
   {
    "duration": 11,
    "start_time": "2022-03-19T20:58:59.981Z"
   },
   {
    "duration": 9,
    "start_time": "2022-03-19T20:59:04.440Z"
   },
   {
    "duration": 13,
    "start_time": "2022-03-19T20:59:07.006Z"
   },
   {
    "duration": 138,
    "start_time": "2022-03-19T20:59:15.649Z"
   },
   {
    "duration": 21,
    "start_time": "2022-03-19T21:09:32.779Z"
   },
   {
    "duration": 9,
    "start_time": "2022-03-19T21:14:53.281Z"
   },
   {
    "duration": 10,
    "start_time": "2022-03-19T21:15:12.989Z"
   },
   {
    "duration": 14,
    "start_time": "2022-03-19T21:16:33.705Z"
   },
   {
    "duration": 13,
    "start_time": "2022-03-19T21:16:46.359Z"
   },
   {
    "duration": 8,
    "start_time": "2022-03-19T21:16:55.575Z"
   },
   {
    "duration": 13,
    "start_time": "2022-03-19T21:18:11.656Z"
   },
   {
    "duration": 11,
    "start_time": "2022-03-19T21:18:51.524Z"
   },
   {
    "duration": 16,
    "start_time": "2022-03-19T21:19:18.259Z"
   },
   {
    "duration": 15,
    "start_time": "2022-03-19T21:19:36.284Z"
   },
   {
    "duration": 18,
    "start_time": "2022-03-19T21:21:57.904Z"
   },
   {
    "duration": 12,
    "start_time": "2022-03-19T21:22:32.410Z"
   },
   {
    "duration": 11,
    "start_time": "2022-03-19T21:22:47.885Z"
   },
   {
    "duration": 9,
    "start_time": "2022-03-19T21:29:17.786Z"
   },
   {
    "duration": 13,
    "start_time": "2022-03-19T21:31:33.711Z"
   },
   {
    "duration": 156,
    "start_time": "2022-03-20T11:05:01.282Z"
   },
   {
    "duration": 77,
    "start_time": "2022-03-20T11:16:58.286Z"
   },
   {
    "duration": 582,
    "start_time": "2022-03-20T11:17:09.238Z"
   },
   {
    "duration": 9,
    "start_time": "2022-03-20T11:17:13.978Z"
   },
   {
    "duration": 27,
    "start_time": "2022-03-20T11:17:15.744Z"
   },
   {
    "duration": 15,
    "start_time": "2022-03-20T11:17:18.618Z"
   },
   {
    "duration": 23,
    "start_time": "2022-03-20T11:17:20.948Z"
   },
   {
    "duration": 24,
    "start_time": "2022-03-20T11:17:23.657Z"
   },
   {
    "duration": 37,
    "start_time": "2022-03-20T11:17:25.674Z"
   },
   {
    "duration": 10,
    "start_time": "2022-03-20T11:17:30.089Z"
   },
   {
    "duration": 23,
    "start_time": "2022-03-20T11:17:32.249Z"
   },
   {
    "duration": 6,
    "start_time": "2022-03-20T11:17:37.231Z"
   },
   {
    "duration": 19,
    "start_time": "2022-03-20T11:17:39.582Z"
   },
   {
    "duration": 37,
    "start_time": "2022-03-20T11:17:42.522Z"
   },
   {
    "duration": 27,
    "start_time": "2022-03-20T11:17:45.204Z"
   },
   {
    "duration": 26,
    "start_time": "2022-03-20T11:17:50.994Z"
   },
   {
    "duration": 15,
    "start_time": "2022-03-20T11:17:54.674Z"
   },
   {
    "duration": 11,
    "start_time": "2022-03-20T11:17:57.282Z"
   },
   {
    "duration": 20,
    "start_time": "2022-03-20T11:17:59.794Z"
   },
   {
    "duration": 249,
    "start_time": "2022-03-20T11:18:02.077Z"
   },
   {
    "duration": 31,
    "start_time": "2022-03-20T11:18:06.799Z"
   },
   {
    "duration": 19,
    "start_time": "2022-03-20T11:18:11.087Z"
   },
   {
    "duration": 18,
    "start_time": "2022-03-20T11:18:13.388Z"
   },
   {
    "duration": 49,
    "start_time": "2022-03-20T11:18:18.480Z"
   },
   {
    "duration": 29,
    "start_time": "2022-03-20T11:18:26.908Z"
   },
   {
    "duration": 26,
    "start_time": "2022-03-20T11:19:21.937Z"
   },
   {
    "duration": 17,
    "start_time": "2022-03-20T11:21:20.042Z"
   },
   {
    "duration": 15,
    "start_time": "2022-03-20T11:22:45.005Z"
   },
   {
    "duration": 17,
    "start_time": "2022-03-20T11:24:36.110Z"
   },
   {
    "duration": 19,
    "start_time": "2022-03-20T11:25:03.160Z"
   },
   {
    "duration": 26,
    "start_time": "2022-03-20T11:25:24.707Z"
   },
   {
    "duration": 16,
    "start_time": "2022-03-20T11:28:01.256Z"
   },
   {
    "duration": 102,
    "start_time": "2022-03-20T11:28:30.966Z"
   },
   {
    "duration": 8,
    "start_time": "2022-03-20T11:28:34.787Z"
   },
   {
    "duration": 26,
    "start_time": "2022-03-20T11:28:38.062Z"
   },
   {
    "duration": 12,
    "start_time": "2022-03-20T11:28:41.694Z"
   },
   {
    "duration": 22,
    "start_time": "2022-03-20T11:28:45.863Z"
   },
   {
    "duration": 26,
    "start_time": "2022-03-20T11:28:49.451Z"
   },
   {
    "duration": 39,
    "start_time": "2022-03-20T11:28:51.688Z"
   },
   {
    "duration": 10,
    "start_time": "2022-03-20T11:28:55.156Z"
   },
   {
    "duration": 23,
    "start_time": "2022-03-20T11:28:57.832Z"
   },
   {
    "duration": 11,
    "start_time": "2022-03-20T11:29:00.547Z"
   },
   {
    "duration": 5,
    "start_time": "2022-03-20T11:29:03.849Z"
   },
   {
    "duration": 19,
    "start_time": "2022-03-20T11:29:05.517Z"
   },
   {
    "duration": 36,
    "start_time": "2022-03-20T11:29:08.497Z"
   },
   {
    "duration": 26,
    "start_time": "2022-03-20T11:29:11.734Z"
   },
   {
    "duration": 25,
    "start_time": "2022-03-20T11:29:14.392Z"
   },
   {
    "duration": 15,
    "start_time": "2022-03-20T11:29:17.722Z"
   },
   {
    "duration": 15,
    "start_time": "2022-03-20T11:29:23.272Z"
   },
   {
    "duration": 12,
    "start_time": "2022-03-20T11:30:03.869Z"
   },
   {
    "duration": 15,
    "start_time": "2022-03-20T11:30:26.106Z"
   },
   {
    "duration": 14,
    "start_time": "2022-03-20T11:30:43.531Z"
   },
   {
    "duration": 16,
    "start_time": "2022-03-20T11:31:18.305Z"
   },
   {
    "duration": 24,
    "start_time": "2022-03-20T11:31:30.896Z"
   },
   {
    "duration": 15,
    "start_time": "2022-03-20T11:31:41.836Z"
   },
   {
    "duration": 17,
    "start_time": "2022-03-20T11:33:02.203Z"
   },
   {
    "duration": 17,
    "start_time": "2022-03-20T11:33:06.447Z"
   },
   {
    "duration": 11,
    "start_time": "2022-03-20T11:33:32.793Z"
   },
   {
    "duration": 16,
    "start_time": "2022-03-20T11:33:54.541Z"
   },
   {
    "duration": 12,
    "start_time": "2022-03-20T11:34:38.709Z"
   },
   {
    "duration": 22,
    "start_time": "2022-03-20T11:34:41.389Z"
   },
   {
    "duration": 263,
    "start_time": "2022-03-20T11:34:45.802Z"
   },
   {
    "duration": 31,
    "start_time": "2022-03-20T11:35:01.268Z"
   },
   {
    "duration": 18,
    "start_time": "2022-03-20T11:35:03.452Z"
   },
   {
    "duration": 16,
    "start_time": "2022-03-20T11:35:05.638Z"
   },
   {
    "duration": 28,
    "start_time": "2022-03-20T11:35:08.331Z"
   },
   {
    "duration": 19,
    "start_time": "2022-03-20T11:35:17.481Z"
   },
   {
    "duration": 4,
    "start_time": "2022-03-20T11:38:19.287Z"
   },
   {
    "duration": 2635,
    "start_time": "2022-03-20T11:41:03.964Z"
   },
   {
    "duration": 2746,
    "start_time": "2022-03-20T11:41:06.786Z"
   },
   {
    "duration": 0,
    "start_time": "2022-03-20T11:41:17.306Z"
   },
   {
    "duration": 2891,
    "start_time": "2022-03-20T11:41:34.543Z"
   },
   {
    "duration": 2545,
    "start_time": "2022-03-20T11:41:56.787Z"
   },
   {
    "duration": 2697,
    "start_time": "2022-03-20T11:42:38.297Z"
   },
   {
    "duration": 9,
    "start_time": "2022-03-20T11:42:54.124Z"
   },
   {
    "duration": 2732,
    "start_time": "2022-03-20T11:44:10.744Z"
   },
   {
    "duration": 15,
    "start_time": "2022-03-20T11:44:22.438Z"
   },
   {
    "duration": 6,
    "start_time": "2022-03-20T11:44:27.860Z"
   },
   {
    "duration": 6,
    "start_time": "2022-03-20T11:44:39.872Z"
   },
   {
    "duration": 7,
    "start_time": "2022-03-20T11:45:51.980Z"
   },
   {
    "duration": 6,
    "start_time": "2022-03-20T11:46:38.825Z"
   },
   {
    "duration": 26,
    "start_time": "2022-03-20T12:06:11.871Z"
   },
   {
    "duration": 17,
    "start_time": "2022-03-20T12:06:21.049Z"
   },
   {
    "duration": 15,
    "start_time": "2022-03-20T12:06:27.798Z"
   },
   {
    "duration": 7,
    "start_time": "2022-03-20T12:06:32.797Z"
   },
   {
    "duration": 26,
    "start_time": "2022-03-20T12:08:21.738Z"
   },
   {
    "duration": 27,
    "start_time": "2022-03-20T12:08:31.087Z"
   },
   {
    "duration": 147,
    "start_time": "2022-03-20T12:09:56.898Z"
   },
   {
    "duration": 23,
    "start_time": "2022-03-20T12:10:17.165Z"
   },
   {
    "duration": 19,
    "start_time": "2022-03-20T12:10:37.167Z"
   },
   {
    "duration": 15,
    "start_time": "2022-03-20T12:12:28.529Z"
   },
   {
    "duration": 6,
    "start_time": "2022-03-20T12:13:31.977Z"
   },
   {
    "duration": 29,
    "start_time": "2022-03-20T12:22:37.088Z"
   },
   {
    "duration": 29,
    "start_time": "2022-03-20T12:23:20.878Z"
   },
   {
    "duration": 30,
    "start_time": "2022-03-20T12:23:31.279Z"
   },
   {
    "duration": 15,
    "start_time": "2022-03-20T12:25:34.348Z"
   },
   {
    "duration": 15,
    "start_time": "2022-03-20T12:25:44.259Z"
   },
   {
    "duration": 27,
    "start_time": "2022-03-20T12:28:40.463Z"
   },
   {
    "duration": 19,
    "start_time": "2022-03-20T12:28:43.579Z"
   },
   {
    "duration": 19,
    "start_time": "2022-03-20T12:28:46.594Z"
   },
   {
    "duration": 7,
    "start_time": "2022-03-20T12:28:50.442Z"
   },
   {
    "duration": 35,
    "start_time": "2022-03-20T12:28:53.254Z"
   },
   {
    "duration": 15,
    "start_time": "2022-03-20T12:28:56.408Z"
   },
   {
    "duration": 15,
    "start_time": "2022-03-20T12:29:01.734Z"
   },
   {
    "duration": 6,
    "start_time": "2022-03-20T12:29:06.463Z"
   },
   {
    "duration": 27,
    "start_time": "2022-03-20T12:29:33.426Z"
   },
   {
    "duration": 18,
    "start_time": "2022-03-20T12:29:38.216Z"
   },
   {
    "duration": 15,
    "start_time": "2022-03-20T12:29:44.778Z"
   },
   {
    "duration": 7,
    "start_time": "2022-03-20T12:29:48.653Z"
   },
   {
    "duration": 28,
    "start_time": "2022-03-20T12:29:53.039Z"
   },
   {
    "duration": 15,
    "start_time": "2022-03-20T12:30:02.527Z"
   },
   {
    "duration": 14,
    "start_time": "2022-03-20T12:30:43.359Z"
   },
   {
    "duration": 7,
    "start_time": "2022-03-20T12:31:35.402Z"
   }
  ],
  "kernelspec": {
   "display_name": "Python 3",
   "language": "python",
   "name": "python3"
  },
  "language_info": {
   "codemirror_mode": {
    "name": "ipython",
    "version": 3
   },
   "file_extension": ".py",
   "mimetype": "text/x-python",
   "name": "python",
   "nbconvert_exporter": "python",
   "pygments_lexer": "ipython3",
   "version": "3.7.6"
  },
  "toc": {
   "base_numbering": 1,
   "nav_menu": {
    "height": "309.983px",
    "width": "317.986px"
   },
   "number_sections": true,
   "sideBar": true,
   "skip_h1_title": true,
   "title_cell": "Table of Contents",
   "title_sidebar": "Contents",
   "toc_cell": false,
   "toc_position": {},
   "toc_section_display": true,
   "toc_window_display": false
  }
 },
 "nbformat": 4,
 "nbformat_minor": 5
}
