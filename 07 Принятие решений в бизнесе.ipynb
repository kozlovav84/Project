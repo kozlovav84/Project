{
 "cells": [
  {
   "cell_type": "markdown",
   "metadata": {},
   "source": [
    "# Принятие решений в бизнесе"
   ]
  },
  {
   "cell_type": "markdown",
   "metadata": {
    "toc": true
   },
   "source": [
    "<h1>Содержание<span class=\"tocSkip\"></span></h1>\n",
    "<div class=\"toc\"><ul class=\"toc-item\"><li><span><a href=\"#Описание-проекта\" data-toc-modified-id=\"Описание-проекта-1\"><span class=\"toc-item-num\">1&nbsp;&nbsp;</span>Описание проекта</a></span></li><li><span><a href=\"#Описание-данных\" data-toc-modified-id=\"Описание-данных-2\"><span class=\"toc-item-num\">2&nbsp;&nbsp;</span>Описание данных</a></span><ul class=\"toc-item\"><li><span><a href=\"#Данные-для-первой-части\" data-toc-modified-id=\"Данные-для-первой-части-2.1\"><span class=\"toc-item-num\">2.1&nbsp;&nbsp;</span>Данные для первой части</a></span></li><li><span><a href=\"#Данные-для-второй-части\" data-toc-modified-id=\"Данные-для-второй-части-2.2\"><span class=\"toc-item-num\">2.2&nbsp;&nbsp;</span>Данные для второй части</a></span></li></ul></li><li><span><a href=\"#Импортируем-необходимые-библиотеки\" data-toc-modified-id=\"Импортируем-необходимые-библиотеки-3\"><span class=\"toc-item-num\">3&nbsp;&nbsp;</span>Импортируем необходимые библиотеки</a></span></li><li><span><a href=\"#Загружаем-данные-и-готовим-их-к-анализу\" data-toc-modified-id=\"Загружаем-данные-и-готовим-их-к-анализу-4\"><span class=\"toc-item-num\">4&nbsp;&nbsp;</span>Загружаем данные и готовим их к анализу</a></span><ul class=\"toc-item\"><li><span><a href=\"#Анализ-данных\" data-toc-modified-id=\"Анализ-данных-4.1\"><span class=\"toc-item-num\">4.1&nbsp;&nbsp;</span>Анализ данных</a></span><ul class=\"toc-item\"><li><span><a href=\"#Таблица-hypothesis\" data-toc-modified-id=\"Таблица-hypothesis-4.1.1\"><span class=\"toc-item-num\">4.1.1&nbsp;&nbsp;</span>Таблица <code>hypothesis</code></a></span></li><li><span><a href=\"#Таблица-orders\" data-toc-modified-id=\"Таблица-orders-4.1.2\"><span class=\"toc-item-num\">4.1.2&nbsp;&nbsp;</span>Таблица <code>orders</code></a></span></li><li><span><a href=\"#Таблица-visitors\" data-toc-modified-id=\"Таблица-visitors-4.1.3\"><span class=\"toc-item-num\">4.1.3&nbsp;&nbsp;</span>Таблица <code>visitors</code></a></span></li></ul></li><li><span><a href=\"#Предобработка-данных\" data-toc-modified-id=\"Предобработка-данных-4.2\"><span class=\"toc-item-num\">4.2&nbsp;&nbsp;</span>Предобработка данных</a></span><ul class=\"toc-item\"><li><span><a href=\"#Таблица-hypothesis\" data-toc-modified-id=\"Таблица-hypothesis-4.2.1\"><span class=\"toc-item-num\">4.2.1&nbsp;&nbsp;</span>Таблица <code>hypothesis</code></a></span></li><li><span><a href=\"#Таблица-orders\" data-toc-modified-id=\"Таблица-orders-4.2.2\"><span class=\"toc-item-num\">4.2.2&nbsp;&nbsp;</span>Таблица <code>orders</code></a></span></li><li><span><a href=\"#Таблица-visitors\" data-toc-modified-id=\"Таблица-visitors-4.2.3\"><span class=\"toc-item-num\">4.2.3&nbsp;&nbsp;</span>Таблица <code>visitors</code></a></span></li></ul></li><li><span><a href=\"#Вывод:\" data-toc-modified-id=\"Вывод:-4.3\"><span class=\"toc-item-num\">4.3&nbsp;&nbsp;</span>Вывод:</a></span></li></ul></li><li><span><a href=\"#Приоритизация-гипотез\" data-toc-modified-id=\"Приоритизация-гипотез-5\"><span class=\"toc-item-num\">5&nbsp;&nbsp;</span>Приоритизация гипотез</a></span><ul class=\"toc-item\"><li><span><a href=\"#Вывод\" data-toc-modified-id=\"Вывод-5.1\"><span class=\"toc-item-num\">5.1&nbsp;&nbsp;</span>Вывод</a></span></li></ul></li><li><span><a href=\"#Анализ-A/B-теста\" data-toc-modified-id=\"Анализ-A/B-теста-6\"><span class=\"toc-item-num\">6&nbsp;&nbsp;</span>Анализ A/B-теста</a></span><ul class=\"toc-item\"><li><span><a href=\"#График-кумулятивной-выручки-по-группам\" data-toc-modified-id=\"График-кумулятивной-выручки-по-группам-6.1\"><span class=\"toc-item-num\">6.1&nbsp;&nbsp;</span>График кумулятивной выручки по группам</a></span><ul class=\"toc-item\"><li><span><a href=\"#Сбор-данных\" data-toc-modified-id=\"Сбор-данных-6.1.1\"><span class=\"toc-item-num\">6.1.1&nbsp;&nbsp;</span>Сбор данных</a></span></li><li><span><a href=\"#Построение-графика\" data-toc-modified-id=\"Построение-графика-6.1.2\"><span class=\"toc-item-num\">6.1.2&nbsp;&nbsp;</span>Построение графика</a></span></li><li><span><a href=\"#Выводы-и-предположения\" data-toc-modified-id=\"Выводы-и-предположения-6.1.3\"><span class=\"toc-item-num\">6.1.3&nbsp;&nbsp;</span>Выводы и предположения</a></span></li></ul></li><li><span><a href=\"#График-кумулятивного-среднего-чека-по-группам\" data-toc-modified-id=\"График-кумулятивного-среднего-чека-по-группам-6.2\"><span class=\"toc-item-num\">6.2&nbsp;&nbsp;</span>График кумулятивного среднего чека по группам</a></span><ul class=\"toc-item\"><li><span><a href=\"#Выводы-и-предположения\" data-toc-modified-id=\"Выводы-и-предположения-6.2.1\"><span class=\"toc-item-num\">6.2.1&nbsp;&nbsp;</span>Выводы и предположения</a></span></li></ul></li><li><span><a href=\"#График-относительного-изменения-кумулятивного-среднего-чека-группы-B-к-группе-A\" data-toc-modified-id=\"График-относительного-изменения-кумулятивного-среднего-чека-группы-B-к-группе-A-6.3\"><span class=\"toc-item-num\">6.3&nbsp;&nbsp;</span>График относительного изменения кумулятивного среднего чека группы B к группе A</a></span><ul class=\"toc-item\"><li><span><a href=\"#Выводы-и-предположения\" data-toc-modified-id=\"Выводы-и-предположения-6.3.1\"><span class=\"toc-item-num\">6.3.1&nbsp;&nbsp;</span>Выводы и предположения</a></span></li></ul></li><li><span><a href=\"#График-кумулятивной-конверсии-по-группам\" data-toc-modified-id=\"График-кумулятивной-конверсии-по-группам-6.4\"><span class=\"toc-item-num\">6.4&nbsp;&nbsp;</span>График кумулятивной конверсии по группам</a></span><ul class=\"toc-item\"><li><span><a href=\"#Выводы-и-предположения\" data-toc-modified-id=\"Выводы-и-предположения-6.4.1\"><span class=\"toc-item-num\">6.4.1&nbsp;&nbsp;</span>Выводы и предположения</a></span></li></ul></li><li><span><a href=\"#График-относительного-изменения-кумулятивной-конверсии-группы-B-к-группе-A\" data-toc-modified-id=\"График-относительного-изменения-кумулятивной-конверсии-группы-B-к-группе-A-6.5\"><span class=\"toc-item-num\">6.5&nbsp;&nbsp;</span>График относительного изменения кумулятивной конверсии группы B к группе A</a></span><ul class=\"toc-item\"><li><span><a href=\"#Выводы-и-предположения\" data-toc-modified-id=\"Выводы-и-предположения-6.5.1\"><span class=\"toc-item-num\">6.5.1&nbsp;&nbsp;</span>Выводы и предположения</a></span></li></ul></li><li><span><a href=\"#Точечный-график-количества-заказов-по-пользователям\" data-toc-modified-id=\"Точечный-график-количества-заказов-по-пользователям-6.6\"><span class=\"toc-item-num\">6.6&nbsp;&nbsp;</span>Точечный график количества заказов по пользователям</a></span><ul class=\"toc-item\"><li><span><a href=\"#Выводы-и-предположения\" data-toc-modified-id=\"Выводы-и-предположения-6.6.1\"><span class=\"toc-item-num\">6.6.1&nbsp;&nbsp;</span>Выводы и предположения</a></span></li></ul></li><li><span><a href=\"#Расчёт-95-й-и-99-й-перцентили-количества-заказов-на-пользователя.-Выбор-границы-для-определения-аномальных-пользователей.\" data-toc-modified-id=\"Расчёт-95-й-и-99-й-перцентили-количества-заказов-на-пользователя.-Выбор-границы-для-определения-аномальных-пользователей.-6.7\"><span class=\"toc-item-num\">6.7&nbsp;&nbsp;</span>Расчёт 95-й и 99-й перцентили количества заказов на пользователя. Выбор границы для определения аномальных пользователей.</a></span></li><li><span><a href=\"#Точечный-график-стоимостей-заказов\" data-toc-modified-id=\"Точечный-график-стоимостей-заказов-6.8\"><span class=\"toc-item-num\">6.8&nbsp;&nbsp;</span>Точечный график стоимостей заказов</a></span><ul class=\"toc-item\"><li><span><a href=\"#Выводы-и-предположения\" data-toc-modified-id=\"Выводы-и-предположения-6.8.1\"><span class=\"toc-item-num\">6.8.1&nbsp;&nbsp;</span>Выводы и предположения</a></span></li></ul></li><li><span><a href=\"#Расчёт-95-й-и-99-й-перцентили-стоимости-заказов.-Выбор-границы-для-определения-аномальных-заказов.\" data-toc-modified-id=\"Расчёт-95-й-и-99-й-перцентили-стоимости-заказов.-Выбор-границы-для-определения-аномальных-заказов.-6.9\"><span class=\"toc-item-num\">6.9&nbsp;&nbsp;</span>Расчёт 95-й и 99-й перцентили стоимости заказов. Выбор границы для определения аномальных заказов.</a></span></li><li><span><a href=\"#Расчёт-статистической-значимости-различий-в-конверсии-между-группами-по-«сырым»-данным\" data-toc-modified-id=\"Расчёт-статистической-значимости-различий-в-конверсии-между-группами-по-«сырым»-данным-6.10\"><span class=\"toc-item-num\">6.10&nbsp;&nbsp;</span>Расчёт статистической значимости различий в конверсии между группами по «сырым» данным</a></span><ul class=\"toc-item\"><li><span><a href=\"#Выводы-и-предположения\" data-toc-modified-id=\"Выводы-и-предположения-6.10.1\"><span class=\"toc-item-num\">6.10.1&nbsp;&nbsp;</span>Выводы и предположения</a></span></li></ul></li><li><span><a href=\"#Расчёт-статистической-значимости-различий-в-среднем-чеке-заказа-между-группами-по-«сырым»-данным\" data-toc-modified-id=\"Расчёт-статистической-значимости-различий-в-среднем-чеке-заказа-между-группами-по-«сырым»-данным-6.11\"><span class=\"toc-item-num\">6.11&nbsp;&nbsp;</span>Расчёт статистической значимости различий в среднем чеке заказа между группами по «сырым» данным</a></span><ul class=\"toc-item\"><li><span><a href=\"#Выводы-и-предположения\" data-toc-modified-id=\"Выводы-и-предположения-6.11.1\"><span class=\"toc-item-num\">6.11.1&nbsp;&nbsp;</span>Выводы и предположения</a></span></li></ul></li><li><span><a href=\"#Расчёт-статистической-значимости-различий-в-конверсии-между-группами-по-«очищенным»-данным\" data-toc-modified-id=\"Расчёт-статистической-значимости-различий-в-конверсии-между-группами-по-«очищенным»-данным-6.12\"><span class=\"toc-item-num\">6.12&nbsp;&nbsp;</span>Расчёт статистической значимости различий в конверсии между группами по «очищенным» данным</a></span><ul class=\"toc-item\"><li><span><a href=\"#Очистка-нанных\" data-toc-modified-id=\"Очистка-нанных-6.12.1\"><span class=\"toc-item-num\">6.12.1&nbsp;&nbsp;</span>Очистка нанных</a></span></li><li><span><a href=\"#Расчёт-статистической-значимости\" data-toc-modified-id=\"Расчёт-статистической-значимости-6.12.2\"><span class=\"toc-item-num\">6.12.2&nbsp;&nbsp;</span>Расчёт статистической значимости</a></span></li><li><span><a href=\"#Выводы-и-предположения\" data-toc-modified-id=\"Выводы-и-предположения-6.12.3\"><span class=\"toc-item-num\">6.12.3&nbsp;&nbsp;</span>Выводы и предположения</a></span></li></ul></li><li><span><a href=\"#Расчёт-статистической-значимости-различий-в-среднем-чеке-заказа-между-группами-по-«очищенным»-данным\" data-toc-modified-id=\"Расчёт-статистической-значимости-различий-в-среднем-чеке-заказа-между-группами-по-«очищенным»-данным-6.13\"><span class=\"toc-item-num\">6.13&nbsp;&nbsp;</span>Расчёт статистической значимости различий в среднем чеке заказа между группами по «очищенным» данным</a></span><ul class=\"toc-item\"><li><ul class=\"toc-item\"><li><span><a href=\"#Выводы-и-предположения\" data-toc-modified-id=\"Выводы-и-предположения-6.13.0.1\"><span class=\"toc-item-num\">6.13.0.1&nbsp;&nbsp;</span>Выводы и предположения</a></span></li></ul></li></ul></li><li><span><a href=\"#Решение-по-результатам-теста\" data-toc-modified-id=\"Решение-по-результатам-теста-6.14\"><span class=\"toc-item-num\">6.14&nbsp;&nbsp;</span>Решение по результатам теста</a></span></li></ul></li></ul></div>"
   ]
  },
  {
   "cell_type": "markdown",
   "metadata": {},
   "source": [
    "## Описание проекта\n",
    "\n",
    "Я — аналитик крупного интернет-магазина. Вместе с отделом маркетинга мы подготовили список гипотез для увеличения выручки.\n",
    "В ходе выполнения проекта мы приоритизируем гипотезы, запустим A/B-тест и проанализируем результаты."
   ]
  },
  {
   "cell_type": "markdown",
   "metadata": {},
   "source": [
    "## Описание данных"
   ]
  },
  {
   "cell_type": "markdown",
   "metadata": {},
   "source": [
    "### Данные для первой части"
   ]
  },
  {
   "cell_type": "markdown",
   "metadata": {},
   "source": [
    "Таблица `hypothesis`:\n",
    "- `Hypothesis` — краткое описание гипотезы;\n",
    "- `Reach` — охват пользователей по 10-балльной шкале;\n",
    "- `Impact` — влияние на пользователей по 10-балльной шкале;\n",
    "- `Confidence` — уверенность в гипотезе по 10-балльной шкале;\n",
    "- `Efforts` — затраты ресурсов на проверку гипотезы по 10-балльной шкале. Чем больше значение Efforts, тем дороже проверка гипотезы."
   ]
  },
  {
   "cell_type": "markdown",
   "metadata": {},
   "source": [
    "### Данные для второй части"
   ]
  },
  {
   "cell_type": "markdown",
   "metadata": {},
   "source": [
    "Таблица `orders`: \n",
    "- `transactionId` — идентификатор заказа;\n",
    "- `visitorId` — идентификатор пользователя, совершившего заказ;\n",
    "- `date` — дата, когда был совершён заказ;\n",
    "- `revenue` — выручка заказа;\n",
    "- `group` — группа A/B-теста, в которую попал заказ.\n",
    "\n",
    "Таблица `visitors`:\n",
    "- `date` — дата;\n",
    "- `group` — группа A/B-теста;\n",
    "- `visitors` — количество пользователей в указанную дату в указанной группе A/B-теста"
   ]
  },
  {
   "cell_type": "markdown",
   "metadata": {},
   "source": [
    "## Импортируем необходимые библиотеки"
   ]
  },
  {
   "cell_type": "code",
   "execution_count": 1,
   "metadata": {},
   "outputs": [],
   "source": [
    "import pandas as pd\n",
    "import scipy.stats as stats\n",
    "import datetime as dt\n",
    "import numpy as np\n",
    "import matplotlib.pyplot as plt \n",
    "import seaborn as sns \n",
    "import math"
   ]
  },
  {
   "cell_type": "markdown",
   "metadata": {},
   "source": [
    "## Загружаем данные и готовим их к анализу"
   ]
  },
  {
   "cell_type": "markdown",
   "metadata": {},
   "source": [
    "В ходе раздела, мы загрузим данные и ознакомимся с ними. Проверим данные на пропуски и дубликаты. Узнаем, правильно ли  записаны названия столбцов. Проверим корректность типов данных. Выявленные недостатки устраним."
   ]
  },
  {
   "cell_type": "code",
   "execution_count": 2,
   "metadata": {},
   "outputs": [],
   "source": [
    "try:\n",
    "    hypothesis = pd.read_csv('/datasets/hypothesis.csv') # данные о гипотезах\n",
    "    orders = pd.read_csv('/datasets/orders.csv') # данные о заказах\n",
    "    visitors = pd.read_csv('/datasets/visitors.csv') # данные о визитах\n",
    "except: \n",
    "    hypothesis = pd.read_csv('hypothesis.csv') # данные о гипотезах\n",
    "    orders = pd.read_csv('orders.csv') # данные о заказах\n",
    "    visitors = pd.read_csv('visitors.csv') # данные о визитах"
   ]
  },
  {
   "cell_type": "markdown",
   "metadata": {},
   "source": [
    "Для знакомства с данными напишем функцию step_1"
   ]
  },
  {
   "cell_type": "code",
   "execution_count": 3,
   "metadata": {},
   "outputs": [],
   "source": [
    "def step_1 (data):\n",
    "    \n",
    "    print ()# я люблю, чтобы между ячейкой ввода и ячейкой вывода было побольше места, поэтому добавляю print сверху и снизу \n",
    "    display (data.head())\n",
    "    print ()\n",
    "    print ('=' * 70) # так я делаю разделение, чтобы тебе, мой дорогой друг, было удобнее читать всё это безобразие\n",
    "    print ()\n",
    "    data.info()\n",
    "    print ()\n",
    "    print ('=' * 70)\n",
    "    print ()\n",
    "    print ('Количество неявных дубликатов:', data.duplicated().sum()) #проверяем на наличие неявных дубликатов\n",
    "    print ()"
   ]
  },
  {
   "cell_type": "markdown",
   "metadata": {},
   "source": [
    "### Анализ данных"
   ]
  },
  {
   "cell_type": "markdown",
   "metadata": {},
   "source": [
    "#### Таблица `hypothesis` "
   ]
  },
  {
   "cell_type": "markdown",
   "metadata": {},
   "source": [
    "Вызовем нашу функцию:"
   ]
  },
  {
   "cell_type": "code",
   "execution_count": 4,
   "metadata": {},
   "outputs": [
    {
     "name": "stdout",
     "output_type": "stream",
     "text": [
      "\n"
     ]
    },
    {
     "data": {
      "text/html": [
       "<div>\n",
       "<style scoped>\n",
       "    .dataframe tbody tr th:only-of-type {\n",
       "        vertical-align: middle;\n",
       "    }\n",
       "\n",
       "    .dataframe tbody tr th {\n",
       "        vertical-align: top;\n",
       "    }\n",
       "\n",
       "    .dataframe thead th {\n",
       "        text-align: right;\n",
       "    }\n",
       "</style>\n",
       "<table border=\"1\" class=\"dataframe\">\n",
       "  <thead>\n",
       "    <tr style=\"text-align: right;\">\n",
       "      <th></th>\n",
       "      <th>Hypothesis</th>\n",
       "      <th>Reach</th>\n",
       "      <th>Impact</th>\n",
       "      <th>Confidence</th>\n",
       "      <th>Efforts</th>\n",
       "    </tr>\n",
       "  </thead>\n",
       "  <tbody>\n",
       "    <tr>\n",
       "      <th>0</th>\n",
       "      <td>Добавить два новых канала привлечения трафика,...</td>\n",
       "      <td>3</td>\n",
       "      <td>10</td>\n",
       "      <td>8</td>\n",
       "      <td>6</td>\n",
       "    </tr>\n",
       "    <tr>\n",
       "      <th>1</th>\n",
       "      <td>Запустить собственную службу доставки, что сок...</td>\n",
       "      <td>2</td>\n",
       "      <td>5</td>\n",
       "      <td>4</td>\n",
       "      <td>10</td>\n",
       "    </tr>\n",
       "    <tr>\n",
       "      <th>2</th>\n",
       "      <td>Добавить блоки рекомендаций товаров на сайт ин...</td>\n",
       "      <td>8</td>\n",
       "      <td>3</td>\n",
       "      <td>7</td>\n",
       "      <td>3</td>\n",
       "    </tr>\n",
       "    <tr>\n",
       "      <th>3</th>\n",
       "      <td>Изменить структура категорий, что увеличит кон...</td>\n",
       "      <td>8</td>\n",
       "      <td>3</td>\n",
       "      <td>3</td>\n",
       "      <td>8</td>\n",
       "    </tr>\n",
       "    <tr>\n",
       "      <th>4</th>\n",
       "      <td>Изменить цвет фона главной страницы, чтобы уве...</td>\n",
       "      <td>3</td>\n",
       "      <td>1</td>\n",
       "      <td>1</td>\n",
       "      <td>1</td>\n",
       "    </tr>\n",
       "  </tbody>\n",
       "</table>\n",
       "</div>"
      ],
      "text/plain": [
       "                                          Hypothesis  Reach  Impact  \\\n",
       "0  Добавить два новых канала привлечения трафика,...      3      10   \n",
       "1  Запустить собственную службу доставки, что сок...      2       5   \n",
       "2  Добавить блоки рекомендаций товаров на сайт ин...      8       3   \n",
       "3  Изменить структура категорий, что увеличит кон...      8       3   \n",
       "4  Изменить цвет фона главной страницы, чтобы уве...      3       1   \n",
       "\n",
       "   Confidence  Efforts  \n",
       "0           8        6  \n",
       "1           4       10  \n",
       "2           7        3  \n",
       "3           3        8  \n",
       "4           1        1  "
      ]
     },
     "metadata": {},
     "output_type": "display_data"
    },
    {
     "name": "stdout",
     "output_type": "stream",
     "text": [
      "\n",
      "======================================================================\n",
      "\n",
      "<class 'pandas.core.frame.DataFrame'>\n",
      "RangeIndex: 9 entries, 0 to 8\n",
      "Data columns (total 5 columns):\n",
      " #   Column      Non-Null Count  Dtype \n",
      "---  ------      --------------  ----- \n",
      " 0   Hypothesis  9 non-null      object\n",
      " 1   Reach       9 non-null      int64 \n",
      " 2   Impact      9 non-null      int64 \n",
      " 3   Confidence  9 non-null      int64 \n",
      " 4   Efforts     9 non-null      int64 \n",
      "dtypes: int64(4), object(1)\n",
      "memory usage: 488.0+ bytes\n",
      "\n",
      "======================================================================\n",
      "\n",
      "Количество неявных дубликатов: 0\n",
      "\n"
     ]
    }
   ],
   "source": [
    "step_1 (hypothesis)"
   ]
  },
  {
   "cell_type": "markdown",
   "metadata": {},
   "source": [
    "Мы видим, что названия столбцов записаны не в нижнем регистре, необходимо это исправить. Количество строк одинаковое, значит пропусков нет, как и неявных дубликатов. Типы данных соответствуют нужным. "
   ]
  },
  {
   "cell_type": "markdown",
   "metadata": {},
   "source": [
    "#### Таблица `orders`  "
   ]
  },
  {
   "cell_type": "markdown",
   "metadata": {},
   "source": [
    "Вызовем нашу функцию:"
   ]
  },
  {
   "cell_type": "code",
   "execution_count": 5,
   "metadata": {},
   "outputs": [
    {
     "name": "stdout",
     "output_type": "stream",
     "text": [
      "\n"
     ]
    },
    {
     "data": {
      "text/html": [
       "<div>\n",
       "<style scoped>\n",
       "    .dataframe tbody tr th:only-of-type {\n",
       "        vertical-align: middle;\n",
       "    }\n",
       "\n",
       "    .dataframe tbody tr th {\n",
       "        vertical-align: top;\n",
       "    }\n",
       "\n",
       "    .dataframe thead th {\n",
       "        text-align: right;\n",
       "    }\n",
       "</style>\n",
       "<table border=\"1\" class=\"dataframe\">\n",
       "  <thead>\n",
       "    <tr style=\"text-align: right;\">\n",
       "      <th></th>\n",
       "      <th>transactionId</th>\n",
       "      <th>visitorId</th>\n",
       "      <th>date</th>\n",
       "      <th>revenue</th>\n",
       "      <th>group</th>\n",
       "    </tr>\n",
       "  </thead>\n",
       "  <tbody>\n",
       "    <tr>\n",
       "      <th>0</th>\n",
       "      <td>3667963787</td>\n",
       "      <td>3312258926</td>\n",
       "      <td>2019-08-15</td>\n",
       "      <td>1650</td>\n",
       "      <td>B</td>\n",
       "    </tr>\n",
       "    <tr>\n",
       "      <th>1</th>\n",
       "      <td>2804400009</td>\n",
       "      <td>3642806036</td>\n",
       "      <td>2019-08-15</td>\n",
       "      <td>730</td>\n",
       "      <td>B</td>\n",
       "    </tr>\n",
       "    <tr>\n",
       "      <th>2</th>\n",
       "      <td>2961555356</td>\n",
       "      <td>4069496402</td>\n",
       "      <td>2019-08-15</td>\n",
       "      <td>400</td>\n",
       "      <td>A</td>\n",
       "    </tr>\n",
       "    <tr>\n",
       "      <th>3</th>\n",
       "      <td>3797467345</td>\n",
       "      <td>1196621759</td>\n",
       "      <td>2019-08-15</td>\n",
       "      <td>9759</td>\n",
       "      <td>B</td>\n",
       "    </tr>\n",
       "    <tr>\n",
       "      <th>4</th>\n",
       "      <td>2282983706</td>\n",
       "      <td>2322279887</td>\n",
       "      <td>2019-08-15</td>\n",
       "      <td>2308</td>\n",
       "      <td>B</td>\n",
       "    </tr>\n",
       "  </tbody>\n",
       "</table>\n",
       "</div>"
      ],
      "text/plain": [
       "   transactionId   visitorId        date  revenue group\n",
       "0     3667963787  3312258926  2019-08-15     1650     B\n",
       "1     2804400009  3642806036  2019-08-15      730     B\n",
       "2     2961555356  4069496402  2019-08-15      400     A\n",
       "3     3797467345  1196621759  2019-08-15     9759     B\n",
       "4     2282983706  2322279887  2019-08-15     2308     B"
      ]
     },
     "metadata": {},
     "output_type": "display_data"
    },
    {
     "name": "stdout",
     "output_type": "stream",
     "text": [
      "\n",
      "======================================================================\n",
      "\n",
      "<class 'pandas.core.frame.DataFrame'>\n",
      "RangeIndex: 1197 entries, 0 to 1196\n",
      "Data columns (total 5 columns):\n",
      " #   Column         Non-Null Count  Dtype \n",
      "---  ------         --------------  ----- \n",
      " 0   transactionId  1197 non-null   int64 \n",
      " 1   visitorId      1197 non-null   int64 \n",
      " 2   date           1197 non-null   object\n",
      " 3   revenue        1197 non-null   int64 \n",
      " 4   group          1197 non-null   object\n",
      "dtypes: int64(3), object(2)\n",
      "memory usage: 46.9+ KB\n",
      "\n",
      "======================================================================\n",
      "\n",
      "Количество неявных дубликатов: 0\n",
      "\n"
     ]
    }
   ],
   "source": [
    "step_1 (orders)"
   ]
  },
  {
   "cell_type": "markdown",
   "metadata": {},
   "source": [
    "Мы видим, что названия столбцов `orders[['transactionId','visitorId']]` нужно привести к змеиному регистру. Тип данных `orders['date']` крайней степени необходимо привести к формату `datetime`. Количество строк одинаковое, значит пропусков нет, как нет и неявнх дубликатов. Остальные данные не нуждаются в предобработке."
   ]
  },
  {
   "cell_type": "markdown",
   "metadata": {},
   "source": [
    "#### Таблица `visitors`  "
   ]
  },
  {
   "cell_type": "markdown",
   "metadata": {},
   "source": [
    "Вызовем нашу функцию:"
   ]
  },
  {
   "cell_type": "code",
   "execution_count": 6,
   "metadata": {},
   "outputs": [
    {
     "name": "stdout",
     "output_type": "stream",
     "text": [
      "\n"
     ]
    },
    {
     "data": {
      "text/html": [
       "<div>\n",
       "<style scoped>\n",
       "    .dataframe tbody tr th:only-of-type {\n",
       "        vertical-align: middle;\n",
       "    }\n",
       "\n",
       "    .dataframe tbody tr th {\n",
       "        vertical-align: top;\n",
       "    }\n",
       "\n",
       "    .dataframe thead th {\n",
       "        text-align: right;\n",
       "    }\n",
       "</style>\n",
       "<table border=\"1\" class=\"dataframe\">\n",
       "  <thead>\n",
       "    <tr style=\"text-align: right;\">\n",
       "      <th></th>\n",
       "      <th>date</th>\n",
       "      <th>group</th>\n",
       "      <th>visitors</th>\n",
       "    </tr>\n",
       "  </thead>\n",
       "  <tbody>\n",
       "    <tr>\n",
       "      <th>0</th>\n",
       "      <td>2019-08-01</td>\n",
       "      <td>A</td>\n",
       "      <td>719</td>\n",
       "    </tr>\n",
       "    <tr>\n",
       "      <th>1</th>\n",
       "      <td>2019-08-02</td>\n",
       "      <td>A</td>\n",
       "      <td>619</td>\n",
       "    </tr>\n",
       "    <tr>\n",
       "      <th>2</th>\n",
       "      <td>2019-08-03</td>\n",
       "      <td>A</td>\n",
       "      <td>507</td>\n",
       "    </tr>\n",
       "    <tr>\n",
       "      <th>3</th>\n",
       "      <td>2019-08-04</td>\n",
       "      <td>A</td>\n",
       "      <td>717</td>\n",
       "    </tr>\n",
       "    <tr>\n",
       "      <th>4</th>\n",
       "      <td>2019-08-05</td>\n",
       "      <td>A</td>\n",
       "      <td>756</td>\n",
       "    </tr>\n",
       "  </tbody>\n",
       "</table>\n",
       "</div>"
      ],
      "text/plain": [
       "         date group  visitors\n",
       "0  2019-08-01     A       719\n",
       "1  2019-08-02     A       619\n",
       "2  2019-08-03     A       507\n",
       "3  2019-08-04     A       717\n",
       "4  2019-08-05     A       756"
      ]
     },
     "metadata": {},
     "output_type": "display_data"
    },
    {
     "name": "stdout",
     "output_type": "stream",
     "text": [
      "\n",
      "======================================================================\n",
      "\n",
      "<class 'pandas.core.frame.DataFrame'>\n",
      "RangeIndex: 62 entries, 0 to 61\n",
      "Data columns (total 3 columns):\n",
      " #   Column    Non-Null Count  Dtype \n",
      "---  ------    --------------  ----- \n",
      " 0   date      62 non-null     object\n",
      " 1   group     62 non-null     object\n",
      " 2   visitors  62 non-null     int64 \n",
      "dtypes: int64(1), object(2)\n",
      "memory usage: 1.6+ KB\n",
      "\n",
      "======================================================================\n",
      "\n",
      "Количество неявных дубликатов: 0\n",
      "\n"
     ]
    }
   ],
   "source": [
    "step_1 (visitors)"
   ]
  },
  {
   "cell_type": "markdown",
   "metadata": {},
   "source": [
    "Мы видим, что тип данных `visitors['date']` крайней степени необходимо привести к формату `datetime`. Количество строк одинаковое, значит пропусков нет, как нет и неявнх дубликатов. Остальные данные не нуждаются в предобработке."
   ]
  },
  {
   "cell_type": "markdown",
   "metadata": {},
   "source": [
    "### Предобработка данных"
   ]
  },
  {
   "cell_type": "markdown",
   "metadata": {},
   "source": [
    "#### Таблица `hypothesis` "
   ]
  },
  {
   "cell_type": "markdown",
   "metadata": {},
   "source": [
    "Приведем названия столбцов таблицы `hypothesis` к нижнему регистру."
   ]
  },
  {
   "cell_type": "code",
   "execution_count": 7,
   "metadata": {},
   "outputs": [],
   "source": [
    "hypothesis.columns = hypothesis.columns.str.lower()"
   ]
  },
  {
   "cell_type": "markdown",
   "metadata": {},
   "source": [
    "Проверим, что получилось:"
   ]
  },
  {
   "cell_type": "code",
   "execution_count": 8,
   "metadata": {},
   "outputs": [
    {
     "name": "stdout",
     "output_type": "stream",
     "text": [
      "\n"
     ]
    },
    {
     "data": {
      "text/html": [
       "<div>\n",
       "<style scoped>\n",
       "    .dataframe tbody tr th:only-of-type {\n",
       "        vertical-align: middle;\n",
       "    }\n",
       "\n",
       "    .dataframe tbody tr th {\n",
       "        vertical-align: top;\n",
       "    }\n",
       "\n",
       "    .dataframe thead th {\n",
       "        text-align: right;\n",
       "    }\n",
       "</style>\n",
       "<table border=\"1\" class=\"dataframe\">\n",
       "  <thead>\n",
       "    <tr style=\"text-align: right;\">\n",
       "      <th></th>\n",
       "      <th>hypothesis</th>\n",
       "      <th>reach</th>\n",
       "      <th>impact</th>\n",
       "      <th>confidence</th>\n",
       "      <th>efforts</th>\n",
       "    </tr>\n",
       "  </thead>\n",
       "  <tbody>\n",
       "    <tr>\n",
       "      <th>0</th>\n",
       "      <td>Добавить два новых канала привлечения трафика,...</td>\n",
       "      <td>3</td>\n",
       "      <td>10</td>\n",
       "      <td>8</td>\n",
       "      <td>6</td>\n",
       "    </tr>\n",
       "    <tr>\n",
       "      <th>1</th>\n",
       "      <td>Запустить собственную службу доставки, что сок...</td>\n",
       "      <td>2</td>\n",
       "      <td>5</td>\n",
       "      <td>4</td>\n",
       "      <td>10</td>\n",
       "    </tr>\n",
       "    <tr>\n",
       "      <th>2</th>\n",
       "      <td>Добавить блоки рекомендаций товаров на сайт ин...</td>\n",
       "      <td>8</td>\n",
       "      <td>3</td>\n",
       "      <td>7</td>\n",
       "      <td>3</td>\n",
       "    </tr>\n",
       "    <tr>\n",
       "      <th>3</th>\n",
       "      <td>Изменить структура категорий, что увеличит кон...</td>\n",
       "      <td>8</td>\n",
       "      <td>3</td>\n",
       "      <td>3</td>\n",
       "      <td>8</td>\n",
       "    </tr>\n",
       "    <tr>\n",
       "      <th>4</th>\n",
       "      <td>Изменить цвет фона главной страницы, чтобы уве...</td>\n",
       "      <td>3</td>\n",
       "      <td>1</td>\n",
       "      <td>1</td>\n",
       "      <td>1</td>\n",
       "    </tr>\n",
       "  </tbody>\n",
       "</table>\n",
       "</div>"
      ],
      "text/plain": [
       "                                          hypothesis  reach  impact  \\\n",
       "0  Добавить два новых канала привлечения трафика,...      3      10   \n",
       "1  Запустить собственную службу доставки, что сок...      2       5   \n",
       "2  Добавить блоки рекомендаций товаров на сайт ин...      8       3   \n",
       "3  Изменить структура категорий, что увеличит кон...      8       3   \n",
       "4  Изменить цвет фона главной страницы, чтобы уве...      3       1   \n",
       "\n",
       "   confidence  efforts  \n",
       "0           8        6  \n",
       "1           4       10  \n",
       "2           7        3  \n",
       "3           3        8  \n",
       "4           1        1  "
      ]
     },
     "metadata": {},
     "output_type": "display_data"
    },
    {
     "name": "stdout",
     "output_type": "stream",
     "text": [
      "\n",
      "======================================================================\n",
      "\n",
      "<class 'pandas.core.frame.DataFrame'>\n",
      "RangeIndex: 9 entries, 0 to 8\n",
      "Data columns (total 5 columns):\n",
      " #   Column      Non-Null Count  Dtype \n",
      "---  ------      --------------  ----- \n",
      " 0   hypothesis  9 non-null      object\n",
      " 1   reach       9 non-null      int64 \n",
      " 2   impact      9 non-null      int64 \n",
      " 3   confidence  9 non-null      int64 \n",
      " 4   efforts     9 non-null      int64 \n",
      "dtypes: int64(4), object(1)\n",
      "memory usage: 488.0+ bytes\n",
      "\n",
      "======================================================================\n",
      "\n",
      "Количество неявных дубликатов: 0\n",
      "\n"
     ]
    }
   ],
   "source": [
    "step_1 (hypothesis)"
   ]
  },
  {
   "cell_type": "markdown",
   "metadata": {},
   "source": [
    "Данные предобработаны."
   ]
  },
  {
   "cell_type": "markdown",
   "metadata": {},
   "source": [
    "#### Таблица `orders`  "
   ]
  },
  {
   "cell_type": "markdown",
   "metadata": {},
   "source": [
    "Изменим тип данных:"
   ]
  },
  {
   "cell_type": "code",
   "execution_count": 9,
   "metadata": {},
   "outputs": [],
   "source": [
    "orders['date'] = pd.to_datetime(orders['date'])"
   ]
  },
  {
   "cell_type": "markdown",
   "metadata": {},
   "source": [
    "Изменим названия столбцов:"
   ]
  },
  {
   "cell_type": "code",
   "execution_count": 10,
   "metadata": {},
   "outputs": [],
   "source": [
    "orders = orders.rename(\n",
    " columns={\n",
    "'transactionId': 'transaction_id',\n",
    "'visitorId': 'visitor_id',\n",
    " }\n",
    ")"
   ]
  },
  {
   "cell_type": "markdown",
   "metadata": {},
   "source": [
    "Проверим, что получилось:"
   ]
  },
  {
   "cell_type": "code",
   "execution_count": 11,
   "metadata": {},
   "outputs": [
    {
     "name": "stdout",
     "output_type": "stream",
     "text": [
      "\n"
     ]
    },
    {
     "data": {
      "text/html": [
       "<div>\n",
       "<style scoped>\n",
       "    .dataframe tbody tr th:only-of-type {\n",
       "        vertical-align: middle;\n",
       "    }\n",
       "\n",
       "    .dataframe tbody tr th {\n",
       "        vertical-align: top;\n",
       "    }\n",
       "\n",
       "    .dataframe thead th {\n",
       "        text-align: right;\n",
       "    }\n",
       "</style>\n",
       "<table border=\"1\" class=\"dataframe\">\n",
       "  <thead>\n",
       "    <tr style=\"text-align: right;\">\n",
       "      <th></th>\n",
       "      <th>transaction_id</th>\n",
       "      <th>visitor_id</th>\n",
       "      <th>date</th>\n",
       "      <th>revenue</th>\n",
       "      <th>group</th>\n",
       "    </tr>\n",
       "  </thead>\n",
       "  <tbody>\n",
       "    <tr>\n",
       "      <th>0</th>\n",
       "      <td>3667963787</td>\n",
       "      <td>3312258926</td>\n",
       "      <td>2019-08-15</td>\n",
       "      <td>1650</td>\n",
       "      <td>B</td>\n",
       "    </tr>\n",
       "    <tr>\n",
       "      <th>1</th>\n",
       "      <td>2804400009</td>\n",
       "      <td>3642806036</td>\n",
       "      <td>2019-08-15</td>\n",
       "      <td>730</td>\n",
       "      <td>B</td>\n",
       "    </tr>\n",
       "    <tr>\n",
       "      <th>2</th>\n",
       "      <td>2961555356</td>\n",
       "      <td>4069496402</td>\n",
       "      <td>2019-08-15</td>\n",
       "      <td>400</td>\n",
       "      <td>A</td>\n",
       "    </tr>\n",
       "    <tr>\n",
       "      <th>3</th>\n",
       "      <td>3797467345</td>\n",
       "      <td>1196621759</td>\n",
       "      <td>2019-08-15</td>\n",
       "      <td>9759</td>\n",
       "      <td>B</td>\n",
       "    </tr>\n",
       "    <tr>\n",
       "      <th>4</th>\n",
       "      <td>2282983706</td>\n",
       "      <td>2322279887</td>\n",
       "      <td>2019-08-15</td>\n",
       "      <td>2308</td>\n",
       "      <td>B</td>\n",
       "    </tr>\n",
       "  </tbody>\n",
       "</table>\n",
       "</div>"
      ],
      "text/plain": [
       "   transaction_id  visitor_id       date  revenue group\n",
       "0      3667963787  3312258926 2019-08-15     1650     B\n",
       "1      2804400009  3642806036 2019-08-15      730     B\n",
       "2      2961555356  4069496402 2019-08-15      400     A\n",
       "3      3797467345  1196621759 2019-08-15     9759     B\n",
       "4      2282983706  2322279887 2019-08-15     2308     B"
      ]
     },
     "metadata": {},
     "output_type": "display_data"
    },
    {
     "name": "stdout",
     "output_type": "stream",
     "text": [
      "\n",
      "======================================================================\n",
      "\n",
      "<class 'pandas.core.frame.DataFrame'>\n",
      "RangeIndex: 1197 entries, 0 to 1196\n",
      "Data columns (total 5 columns):\n",
      " #   Column          Non-Null Count  Dtype         \n",
      "---  ------          --------------  -----         \n",
      " 0   transaction_id  1197 non-null   int64         \n",
      " 1   visitor_id      1197 non-null   int64         \n",
      " 2   date            1197 non-null   datetime64[ns]\n",
      " 3   revenue         1197 non-null   int64         \n",
      " 4   group           1197 non-null   object        \n",
      "dtypes: datetime64[ns](1), int64(3), object(1)\n",
      "memory usage: 46.9+ KB\n",
      "\n",
      "======================================================================\n",
      "\n",
      "Количество неявных дубликатов: 0\n",
      "\n"
     ]
    }
   ],
   "source": [
    "step_1(orders)"
   ]
  },
  {
   "cell_type": "markdown",
   "metadata": {},
   "source": [
    "Данные предобработаны"
   ]
  },
  {
   "cell_type": "markdown",
   "metadata": {},
   "source": [
    "#### Таблица `visitors`  "
   ]
  },
  {
   "cell_type": "markdown",
   "metadata": {},
   "source": [
    "Изменим тип данных в `visitors['date']`:"
   ]
  },
  {
   "cell_type": "code",
   "execution_count": 12,
   "metadata": {},
   "outputs": [],
   "source": [
    "visitors['date'] = pd.to_datetime(visitors['date'])"
   ]
  },
  {
   "cell_type": "markdown",
   "metadata": {},
   "source": [
    "Проверим, что получилось:"
   ]
  },
  {
   "cell_type": "code",
   "execution_count": 13,
   "metadata": {},
   "outputs": [
    {
     "name": "stdout",
     "output_type": "stream",
     "text": [
      "\n"
     ]
    },
    {
     "data": {
      "text/html": [
       "<div>\n",
       "<style scoped>\n",
       "    .dataframe tbody tr th:only-of-type {\n",
       "        vertical-align: middle;\n",
       "    }\n",
       "\n",
       "    .dataframe tbody tr th {\n",
       "        vertical-align: top;\n",
       "    }\n",
       "\n",
       "    .dataframe thead th {\n",
       "        text-align: right;\n",
       "    }\n",
       "</style>\n",
       "<table border=\"1\" class=\"dataframe\">\n",
       "  <thead>\n",
       "    <tr style=\"text-align: right;\">\n",
       "      <th></th>\n",
       "      <th>date</th>\n",
       "      <th>group</th>\n",
       "      <th>visitors</th>\n",
       "    </tr>\n",
       "  </thead>\n",
       "  <tbody>\n",
       "    <tr>\n",
       "      <th>0</th>\n",
       "      <td>2019-08-01</td>\n",
       "      <td>A</td>\n",
       "      <td>719</td>\n",
       "    </tr>\n",
       "    <tr>\n",
       "      <th>1</th>\n",
       "      <td>2019-08-02</td>\n",
       "      <td>A</td>\n",
       "      <td>619</td>\n",
       "    </tr>\n",
       "    <tr>\n",
       "      <th>2</th>\n",
       "      <td>2019-08-03</td>\n",
       "      <td>A</td>\n",
       "      <td>507</td>\n",
       "    </tr>\n",
       "    <tr>\n",
       "      <th>3</th>\n",
       "      <td>2019-08-04</td>\n",
       "      <td>A</td>\n",
       "      <td>717</td>\n",
       "    </tr>\n",
       "    <tr>\n",
       "      <th>4</th>\n",
       "      <td>2019-08-05</td>\n",
       "      <td>A</td>\n",
       "      <td>756</td>\n",
       "    </tr>\n",
       "  </tbody>\n",
       "</table>\n",
       "</div>"
      ],
      "text/plain": [
       "        date group  visitors\n",
       "0 2019-08-01     A       719\n",
       "1 2019-08-02     A       619\n",
       "2 2019-08-03     A       507\n",
       "3 2019-08-04     A       717\n",
       "4 2019-08-05     A       756"
      ]
     },
     "metadata": {},
     "output_type": "display_data"
    },
    {
     "name": "stdout",
     "output_type": "stream",
     "text": [
      "\n",
      "======================================================================\n",
      "\n",
      "<class 'pandas.core.frame.DataFrame'>\n",
      "RangeIndex: 62 entries, 0 to 61\n",
      "Data columns (total 3 columns):\n",
      " #   Column    Non-Null Count  Dtype         \n",
      "---  ------    --------------  -----         \n",
      " 0   date      62 non-null     datetime64[ns]\n",
      " 1   group     62 non-null     object        \n",
      " 2   visitors  62 non-null     int64         \n",
      "dtypes: datetime64[ns](1), int64(1), object(1)\n",
      "memory usage: 1.6+ KB\n",
      "\n",
      "======================================================================\n",
      "\n",
      "Количество неявных дубликатов: 0\n",
      "\n"
     ]
    }
   ],
   "source": [
    "step_1(visitors)"
   ]
  },
  {
   "cell_type": "markdown",
   "metadata": {},
   "source": [
    "Данные предобработаны"
   ]
  },
  {
   "cell_type": "markdown",
   "metadata": {},
   "source": [
    "### Вывод:"
   ]
  },
  {
   "cell_type": "markdown",
   "metadata": {},
   "source": [
    "В ходе раздела, мы загрузили данные и ознакомились с ними. Проверили данные на пропуски и дубликаты. Узнали, правильно ли  записаны названия столбцов. Проверили корректность типов данных. Выявленные недостатки устранили."
   ]
  },
  {
   "cell_type": "markdown",
   "metadata": {},
   "source": [
    "## Приоритизация гипотез"
   ]
  },
  {
   "cell_type": "markdown",
   "metadata": {},
   "source": [
    "В ходе выполнения раздела мы выполним следующие задачи:\n",
    "1. Применим фреймворк `ICE` для приоритизации гипотез. Отсортируем их по убыванию приоритета.\n",
    "2. Применим фреймворк `RICE` для приоритизации гипотез. Отсортируем их по убыванию приоритета.\n",
    "3. Укажем, как изменилась приоритизация гипотез при применении `RICE` вместо `ICE`. Объясним, почему так произошло."
   ]
  },
  {
   "cell_type": "markdown",
   "metadata": {},
   "source": [
    "Добавим к таблице `hypothesis` два новых столбца: `hypothesis['ICE']` и `hypothesis['RICE']`:"
   ]
  },
  {
   "cell_type": "code",
   "execution_count": 14,
   "metadata": {},
   "outputs": [
    {
     "name": "stdout",
     "output_type": "stream",
     "text": [
      "\n"
     ]
    },
    {
     "data": {
      "text/plain": [
       "'Таблица \"hypothesis\" после применения \"ICE\"'"
      ]
     },
     "metadata": {},
     "output_type": "display_data"
    },
    {
     "data": {
      "text/html": [
       "<div>\n",
       "<style scoped>\n",
       "    .dataframe tbody tr th:only-of-type {\n",
       "        vertical-align: middle;\n",
       "    }\n",
       "\n",
       "    .dataframe tbody tr th {\n",
       "        vertical-align: top;\n",
       "    }\n",
       "\n",
       "    .dataframe thead th {\n",
       "        text-align: right;\n",
       "    }\n",
       "</style>\n",
       "<table border=\"1\" class=\"dataframe\">\n",
       "  <thead>\n",
       "    <tr style=\"text-align: right;\">\n",
       "      <th></th>\n",
       "      <th>hypothesis</th>\n",
       "      <th>reach</th>\n",
       "      <th>impact</th>\n",
       "      <th>confidence</th>\n",
       "      <th>efforts</th>\n",
       "      <th>ICE</th>\n",
       "      <th>RICE</th>\n",
       "    </tr>\n",
       "  </thead>\n",
       "  <tbody>\n",
       "    <tr>\n",
       "      <th>8</th>\n",
       "      <td>Запустить акцию, дающую скидку на товар в день...</td>\n",
       "      <td>1</td>\n",
       "      <td>9</td>\n",
       "      <td>9</td>\n",
       "      <td>5</td>\n",
       "      <td>16.200000</td>\n",
       "      <td>16.2</td>\n",
       "    </tr>\n",
       "    <tr>\n",
       "      <th>0</th>\n",
       "      <td>Добавить два новых канала привлечения трафика,...</td>\n",
       "      <td>3</td>\n",
       "      <td>10</td>\n",
       "      <td>8</td>\n",
       "      <td>6</td>\n",
       "      <td>13.333333</td>\n",
       "      <td>40.0</td>\n",
       "    </tr>\n",
       "    <tr>\n",
       "      <th>7</th>\n",
       "      <td>Добавить форму подписки на все основные страни...</td>\n",
       "      <td>10</td>\n",
       "      <td>7</td>\n",
       "      <td>8</td>\n",
       "      <td>5</td>\n",
       "      <td>11.200000</td>\n",
       "      <td>112.0</td>\n",
       "    </tr>\n",
       "    <tr>\n",
       "      <th>6</th>\n",
       "      <td>Показать на главной странице баннеры с актуаль...</td>\n",
       "      <td>5</td>\n",
       "      <td>3</td>\n",
       "      <td>8</td>\n",
       "      <td>3</td>\n",
       "      <td>8.000000</td>\n",
       "      <td>40.0</td>\n",
       "    </tr>\n",
       "    <tr>\n",
       "      <th>2</th>\n",
       "      <td>Добавить блоки рекомендаций товаров на сайт ин...</td>\n",
       "      <td>8</td>\n",
       "      <td>3</td>\n",
       "      <td>7</td>\n",
       "      <td>3</td>\n",
       "      <td>7.000000</td>\n",
       "      <td>56.0</td>\n",
       "    </tr>\n",
       "    <tr>\n",
       "      <th>1</th>\n",
       "      <td>Запустить собственную службу доставки, что сок...</td>\n",
       "      <td>2</td>\n",
       "      <td>5</td>\n",
       "      <td>4</td>\n",
       "      <td>10</td>\n",
       "      <td>2.000000</td>\n",
       "      <td>4.0</td>\n",
       "    </tr>\n",
       "    <tr>\n",
       "      <th>5</th>\n",
       "      <td>Добавить страницу отзывов клиентов о магазине,...</td>\n",
       "      <td>3</td>\n",
       "      <td>2</td>\n",
       "      <td>2</td>\n",
       "      <td>3</td>\n",
       "      <td>1.333333</td>\n",
       "      <td>4.0</td>\n",
       "    </tr>\n",
       "    <tr>\n",
       "      <th>3</th>\n",
       "      <td>Изменить структура категорий, что увеличит кон...</td>\n",
       "      <td>8</td>\n",
       "      <td>3</td>\n",
       "      <td>3</td>\n",
       "      <td>8</td>\n",
       "      <td>1.125000</td>\n",
       "      <td>9.0</td>\n",
       "    </tr>\n",
       "    <tr>\n",
       "      <th>4</th>\n",
       "      <td>Изменить цвет фона главной страницы, чтобы уве...</td>\n",
       "      <td>3</td>\n",
       "      <td>1</td>\n",
       "      <td>1</td>\n",
       "      <td>1</td>\n",
       "      <td>1.000000</td>\n",
       "      <td>3.0</td>\n",
       "    </tr>\n",
       "  </tbody>\n",
       "</table>\n",
       "</div>"
      ],
      "text/plain": [
       "                                          hypothesis  reach  impact  \\\n",
       "8  Запустить акцию, дающую скидку на товар в день...      1       9   \n",
       "0  Добавить два новых канала привлечения трафика,...      3      10   \n",
       "7  Добавить форму подписки на все основные страни...     10       7   \n",
       "6  Показать на главной странице баннеры с актуаль...      5       3   \n",
       "2  Добавить блоки рекомендаций товаров на сайт ин...      8       3   \n",
       "1  Запустить собственную службу доставки, что сок...      2       5   \n",
       "5  Добавить страницу отзывов клиентов о магазине,...      3       2   \n",
       "3  Изменить структура категорий, что увеличит кон...      8       3   \n",
       "4  Изменить цвет фона главной страницы, чтобы уве...      3       1   \n",
       "\n",
       "   confidence  efforts        ICE   RICE  \n",
       "8           9        5  16.200000   16.2  \n",
       "0           8        6  13.333333   40.0  \n",
       "7           8        5  11.200000  112.0  \n",
       "6           8        3   8.000000   40.0  \n",
       "2           7        3   7.000000   56.0  \n",
       "1           4       10   2.000000    4.0  \n",
       "5           2        3   1.333333    4.0  \n",
       "3           3        8   1.125000    9.0  \n",
       "4           1        1   1.000000    3.0  "
      ]
     },
     "metadata": {},
     "output_type": "display_data"
    },
    {
     "name": "stdout",
     "output_type": "stream",
     "text": [
      "\n",
      "******************************************************************************\n",
      "\n"
     ]
    },
    {
     "data": {
      "text/plain": [
       "'Таблица hypothesis после применения \"RICE\"'"
      ]
     },
     "metadata": {},
     "output_type": "display_data"
    },
    {
     "data": {
      "text/html": [
       "<div>\n",
       "<style scoped>\n",
       "    .dataframe tbody tr th:only-of-type {\n",
       "        vertical-align: middle;\n",
       "    }\n",
       "\n",
       "    .dataframe tbody tr th {\n",
       "        vertical-align: top;\n",
       "    }\n",
       "\n",
       "    .dataframe thead th {\n",
       "        text-align: right;\n",
       "    }\n",
       "</style>\n",
       "<table border=\"1\" class=\"dataframe\">\n",
       "  <thead>\n",
       "    <tr style=\"text-align: right;\">\n",
       "      <th></th>\n",
       "      <th>hypothesis</th>\n",
       "      <th>reach</th>\n",
       "      <th>impact</th>\n",
       "      <th>confidence</th>\n",
       "      <th>efforts</th>\n",
       "      <th>ICE</th>\n",
       "      <th>RICE</th>\n",
       "    </tr>\n",
       "  </thead>\n",
       "  <tbody>\n",
       "    <tr>\n",
       "      <th>7</th>\n",
       "      <td>Добавить форму подписки на все основные страни...</td>\n",
       "      <td>10</td>\n",
       "      <td>7</td>\n",
       "      <td>8</td>\n",
       "      <td>5</td>\n",
       "      <td>11.200000</td>\n",
       "      <td>112.0</td>\n",
       "    </tr>\n",
       "    <tr>\n",
       "      <th>2</th>\n",
       "      <td>Добавить блоки рекомендаций товаров на сайт ин...</td>\n",
       "      <td>8</td>\n",
       "      <td>3</td>\n",
       "      <td>7</td>\n",
       "      <td>3</td>\n",
       "      <td>7.000000</td>\n",
       "      <td>56.0</td>\n",
       "    </tr>\n",
       "    <tr>\n",
       "      <th>0</th>\n",
       "      <td>Добавить два новых канала привлечения трафика,...</td>\n",
       "      <td>3</td>\n",
       "      <td>10</td>\n",
       "      <td>8</td>\n",
       "      <td>6</td>\n",
       "      <td>13.333333</td>\n",
       "      <td>40.0</td>\n",
       "    </tr>\n",
       "    <tr>\n",
       "      <th>6</th>\n",
       "      <td>Показать на главной странице баннеры с актуаль...</td>\n",
       "      <td>5</td>\n",
       "      <td>3</td>\n",
       "      <td>8</td>\n",
       "      <td>3</td>\n",
       "      <td>8.000000</td>\n",
       "      <td>40.0</td>\n",
       "    </tr>\n",
       "    <tr>\n",
       "      <th>8</th>\n",
       "      <td>Запустить акцию, дающую скидку на товар в день...</td>\n",
       "      <td>1</td>\n",
       "      <td>9</td>\n",
       "      <td>9</td>\n",
       "      <td>5</td>\n",
       "      <td>16.200000</td>\n",
       "      <td>16.2</td>\n",
       "    </tr>\n",
       "    <tr>\n",
       "      <th>3</th>\n",
       "      <td>Изменить структура категорий, что увеличит кон...</td>\n",
       "      <td>8</td>\n",
       "      <td>3</td>\n",
       "      <td>3</td>\n",
       "      <td>8</td>\n",
       "      <td>1.125000</td>\n",
       "      <td>9.0</td>\n",
       "    </tr>\n",
       "    <tr>\n",
       "      <th>1</th>\n",
       "      <td>Запустить собственную службу доставки, что сок...</td>\n",
       "      <td>2</td>\n",
       "      <td>5</td>\n",
       "      <td>4</td>\n",
       "      <td>10</td>\n",
       "      <td>2.000000</td>\n",
       "      <td>4.0</td>\n",
       "    </tr>\n",
       "    <tr>\n",
       "      <th>5</th>\n",
       "      <td>Добавить страницу отзывов клиентов о магазине,...</td>\n",
       "      <td>3</td>\n",
       "      <td>2</td>\n",
       "      <td>2</td>\n",
       "      <td>3</td>\n",
       "      <td>1.333333</td>\n",
       "      <td>4.0</td>\n",
       "    </tr>\n",
       "    <tr>\n",
       "      <th>4</th>\n",
       "      <td>Изменить цвет фона главной страницы, чтобы уве...</td>\n",
       "      <td>3</td>\n",
       "      <td>1</td>\n",
       "      <td>1</td>\n",
       "      <td>1</td>\n",
       "      <td>1.000000</td>\n",
       "      <td>3.0</td>\n",
       "    </tr>\n",
       "  </tbody>\n",
       "</table>\n",
       "</div>"
      ],
      "text/plain": [
       "                                          hypothesis  reach  impact  \\\n",
       "7  Добавить форму подписки на все основные страни...     10       7   \n",
       "2  Добавить блоки рекомендаций товаров на сайт ин...      8       3   \n",
       "0  Добавить два новых канала привлечения трафика,...      3      10   \n",
       "6  Показать на главной странице баннеры с актуаль...      5       3   \n",
       "8  Запустить акцию, дающую скидку на товар в день...      1       9   \n",
       "3  Изменить структура категорий, что увеличит кон...      8       3   \n",
       "1  Запустить собственную службу доставки, что сок...      2       5   \n",
       "5  Добавить страницу отзывов клиентов о магазине,...      3       2   \n",
       "4  Изменить цвет фона главной страницы, чтобы уве...      3       1   \n",
       "\n",
       "   confidence  efforts        ICE   RICE  \n",
       "7           8        5  11.200000  112.0  \n",
       "2           7        3   7.000000   56.0  \n",
       "0           8        6  13.333333   40.0  \n",
       "6           8        3   8.000000   40.0  \n",
       "8           9        5  16.200000   16.2  \n",
       "3           3        8   1.125000    9.0  \n",
       "1           4       10   2.000000    4.0  \n",
       "5           2        3   1.333333    4.0  \n",
       "4           1        1   1.000000    3.0  "
      ]
     },
     "metadata": {},
     "output_type": "display_data"
    },
    {
     "name": "stdout",
     "output_type": "stream",
     "text": [
      "\n"
     ]
    }
   ],
   "source": [
    "hypothesis['ICE'] = (hypothesis['impact'] * hypothesis['confidence']) / hypothesis['efforts']\n",
    "hypothesis['RICE'] = (hypothesis['reach'] * hypothesis['impact'] * hypothesis['confidence'])\\\n",
    "/hypothesis['efforts']\n",
    "print ()\n",
    "display ('Таблица \"hypothesis\" после применения \"ICE\"', hypothesis.sort_values(by='ICE', ascending=False))\n",
    "print ()\n",
    "print ('*' * 78)\n",
    "print ()\n",
    "display('Таблица hypothesis после применения \"RICE\"', hypothesis.sort_values(by='RICE', ascending=False))\n",
    "print ()"
   ]
  },
  {
   "cell_type": "markdown",
   "metadata": {},
   "source": [
    "После применения флейморка `ICE` наиболее перспективными гипотезами являются:\n",
    "\n",
    "- Запустить акцию, дающую скидку на товар в день рождения (8);\n",
    "- Добавить два новых канала привлечения трафика, что позволит привлекать на 30% больше пользователей (0);\n",
    "- Добавить форму подписки на все основные страницы, чтобы собрать базу клиентов для email-рассылок (7).\n",
    "\n",
    "После применения флейморка `RICE` наиболее перспективными гипотезами являются:\n",
    "\n",
    "- Добавить форму подписки на все основные страницы, чтобы собрать базу клиентов для email-рассылок (7);\n",
    "- Добавить блоки рекомендаций товаров на сайт интернет магазина, чтобы повысить конверсию и средний чек заказа (2);\n",
    "- Добавить два новых канала привлечения трафика, что позволит привлекать на 30% больше пользователей (0).\n",
    "\n",
    "Исходя из вышеизложенного, рекомендуется в первую очередь протестировать гипотезы:\n",
    "- Добавить форму подписки на все основные страницы, чтобы собрать базу клиентов для email-рассылок (7);\n",
    "- Добавить два новых канала привлечения трафика, что позволит привлекать на 30% больше пользователей (0)."
   ]
  },
  {
   "cell_type": "markdown",
   "metadata": {},
   "source": [
    "После применения `RICE` на первое место вышла гипотеза (7) \"Добавить форму подписки на все основные страницы, чтобы собрать базу клиентов для email-рассылок\". Так получилось потому что у этой гепотизы параметр `reach` (количество  пользователей, которых затронет вносимое изменение) больше всего и он повлиял на исходный результат. Поэтому же \"провалилась\" гипотеза (8), у неё `reach` == 1.\n",
    "\n",
    "Гипотеза (0) стабильна из-за высокого параметра `impact` (сила влияния изменения на пользователей, а так же на их опыт и удовлетворение от продукта). При приоритизации обоими методами параметр `impact` учитывается, и повышает уровень приоритизации. "
   ]
  },
  {
   "cell_type": "markdown",
   "metadata": {},
   "source": [
    "### Вывод"
   ]
  },
  {
   "cell_type": "markdown",
   "metadata": {},
   "source": [
    "Мы применили фреймворки  `ICE` и `RICE` для приоритизации гипотез. Указали, как изменилась приоритизация гипотез при применении `RICE` вместо `ICE` и  объяснили, почему так произошло."
   ]
  },
  {
   "cell_type": "code",
   "execution_count": 15,
   "metadata": {},
   "outputs": [
    {
     "data": {
      "image/png": "[encoded data removed]",
      "text/plain": [
       "<Figure size 720x720 with 1 Axes>"
      ]
     },
     "metadata": {
      "needs_background": "light"
     },
     "output_type": "display_data"
    }
   ],
   "source": [
    "y = hypothesis['ICE'] \n",
    "z = hypothesis['RICE'] \n",
    "n = hypothesis.index \n",
    "\n",
    "fig, ax = plt.subplots()\n",
    "ax.scatter(z, y)\n",
    "\n",
    "for i, txt in enumerate(n):\n",
    "    ax.annotate(txt, (z[i], y[i]))\n",
    "\n",
    "plt.title(\"ICE and RICE гипотезы\") \n",
    "plt.xlabel(\"RICE\") \n",
    "plt.ylabel(\"ICE\")\n",
    "    \n",
    "fig.set_figheight(10)\n",
    "fig.set_figwidth(10) \n",
    "plt.show()   "
   ]
  },
  {
   "cell_type": "markdown",
   "metadata": {},
   "source": [
    "## Анализ A/B-теста"
   ]
  },
  {
   "cell_type": "markdown",
   "metadata": {},
   "source": [
    "### График кумулятивной выручки по группам "
   ]
  },
  {
   "cell_type": "markdown",
   "metadata": {},
   "source": [
    "#### Сбор данных"
   ]
  },
  {
   "cell_type": "markdown",
   "metadata": {},
   "source": [
    "Для того, чтобы построить график кумулятивной выручки по группам необходимо создать массив уникальных пар значений дат и групп теста. Немедленно создадим его"
   ]
  },
  {
   "cell_type": "code",
   "execution_count": 16,
   "metadata": {},
   "outputs": [],
   "source": [
    "datesGroups = orders[['date','group']].drop_duplicates()\n",
    "ordersAggregated = datesGroups.apply(\n",
    "    lambda x: orders[np.logical_and(orders['date'] <= x['date'], orders['group'] == x['group'])].agg({\n",
    "'date' : 'max',\n",
    "'group' : 'max',\n",
    "'transaction_id' : pd.Series.nunique,\n",
    "'visitor_id' : pd.Series.nunique,\n",
    "'revenue' : 'sum'}), axis=1).sort_values(by=['date','group']) "
   ]
  },
  {
   "cell_type": "markdown",
   "metadata": {},
   "source": [
    "Этот код работает так, будто мы ежедневно считали результаты тестирования до выбранного дня включительно и сохраняли их в строках таблицы `ordersAggregated`, содержащую такие столбцы:\n",
    "\n",
    "- дату;\n",
    "- группу A/B-теста;\n",
    "- число уникальных заказов в группе теста по указанную дату включительно;\n",
    "- число уникальных пользователей, совершивших хотя бы 1 заказ в группе теста по указанную дату включительно;\n",
    "- суммарную выручку заказов в группе теста по указанную дату включительно.\n",
    "\n",
    "Объявим переменную `visitorsAggregated`, содержащую:\n",
    "\n",
    "- дату;\n",
    "\n",
    "- группу A/B-теста;\n",
    "\n",
    "- количество уникальных посетителей в группе теста по указанную дату включительно."
   ]
  },
  {
   "cell_type": "code",
   "execution_count": 17,
   "metadata": {},
   "outputs": [],
   "source": [
    "visitorsAggregated = datesGroups.apply(\n",
    "    lambda x: visitors[np.logical_and(visitors['date'] <= x['date'], visitors['group'] == x['group'])].agg({\n",
    "'date' : 'max',\n",
    "'group' : 'max',\n",
    "'visitors' : 'sum'}), axis=1).sort_values(by=['date','group'])"
   ]
  },
  {
   "cell_type": "markdown",
   "metadata": {},
   "source": [
    "Определим переменную `cumulativeData`, объединив `ordersAggregated` и `visitorsAggregated` по колонкам ['date'], ['group'] методом `merge()`"
   ]
  },
  {
   "cell_type": "code",
   "execution_count": 18,
   "metadata": {},
   "outputs": [],
   "source": [
    "cumulativeData = ordersAggregated.merge(visitorsAggregated, left_on=['date', 'group'], right_on=['date', 'group'])"
   ]
  },
  {
   "cell_type": "markdown",
   "metadata": {},
   "source": [
    "Присвоим столбцам cumulativeData названия ['date', 'group', 'orders', 'buyers', 'revenue', 'visitors']"
   ]
  },
  {
   "cell_type": "code",
   "execution_count": 19,
   "metadata": {},
   "outputs": [
    {
     "data": {
      "text/html": [
       "<div>\n",
       "<style scoped>\n",
       "    .dataframe tbody tr th:only-of-type {\n",
       "        vertical-align: middle;\n",
       "    }\n",
       "\n",
       "    .dataframe tbody tr th {\n",
       "        vertical-align: top;\n",
       "    }\n",
       "\n",
       "    .dataframe thead th {\n",
       "        text-align: right;\n",
       "    }\n",
       "</style>\n",
       "<table border=\"1\" class=\"dataframe\">\n",
       "  <thead>\n",
       "    <tr style=\"text-align: right;\">\n",
       "      <th></th>\n",
       "      <th>date</th>\n",
       "      <th>group</th>\n",
       "      <th>orders</th>\n",
       "      <th>buyers</th>\n",
       "      <th>revenue</th>\n",
       "      <th>visitors</th>\n",
       "    </tr>\n",
       "  </thead>\n",
       "  <tbody>\n",
       "    <tr>\n",
       "      <th>0</th>\n",
       "      <td>2019-08-01</td>\n",
       "      <td>A</td>\n",
       "      <td>24</td>\n",
       "      <td>20</td>\n",
       "      <td>148579</td>\n",
       "      <td>719</td>\n",
       "    </tr>\n",
       "    <tr>\n",
       "      <th>1</th>\n",
       "      <td>2019-08-01</td>\n",
       "      <td>B</td>\n",
       "      <td>21</td>\n",
       "      <td>20</td>\n",
       "      <td>101217</td>\n",
       "      <td>713</td>\n",
       "    </tr>\n",
       "    <tr>\n",
       "      <th>2</th>\n",
       "      <td>2019-08-02</td>\n",
       "      <td>A</td>\n",
       "      <td>44</td>\n",
       "      <td>38</td>\n",
       "      <td>242401</td>\n",
       "      <td>1338</td>\n",
       "    </tr>\n",
       "    <tr>\n",
       "      <th>3</th>\n",
       "      <td>2019-08-02</td>\n",
       "      <td>B</td>\n",
       "      <td>45</td>\n",
       "      <td>43</td>\n",
       "      <td>266748</td>\n",
       "      <td>1294</td>\n",
       "    </tr>\n",
       "    <tr>\n",
       "      <th>4</th>\n",
       "      <td>2019-08-03</td>\n",
       "      <td>A</td>\n",
       "      <td>68</td>\n",
       "      <td>62</td>\n",
       "      <td>354874</td>\n",
       "      <td>1845</td>\n",
       "    </tr>\n",
       "  </tbody>\n",
       "</table>\n",
       "</div>"
      ],
      "text/plain": [
       "        date group  orders  buyers  revenue  visitors\n",
       "0 2019-08-01     A      24      20   148579       719\n",
       "1 2019-08-01     B      21      20   101217       713\n",
       "2 2019-08-02     A      44      38   242401      1338\n",
       "3 2019-08-02     B      45      43   266748      1294\n",
       "4 2019-08-03     A      68      62   354874      1845"
      ]
     },
     "execution_count": 19,
     "metadata": {},
     "output_type": "execute_result"
    }
   ],
   "source": [
    "cumulativeData.columns = ['date', 'group', 'orders', 'buyers', 'revenue', 'visitors']\n",
    "cumulativeData.head()"
   ]
  },
  {
   "cell_type": "markdown",
   "metadata": {},
   "source": [
    "Данные собраны"
   ]
  },
  {
   "cell_type": "markdown",
   "metadata": {},
   "source": [
    "#### Построение графика"
   ]
  },
  {
   "cell_type": "markdown",
   "metadata": {},
   "source": [
    "Объявим переменные `cumulativeRevenueA` и `cumulativeRevenueB`, в которых сохраните данные о датах, выручке и числе заказов в группах A и B."
   ]
  },
  {
   "cell_type": "code",
   "execution_count": 20,
   "metadata": {},
   "outputs": [
    {
     "data": {
      "image/png": "[encoded data removed]",
      "text/plain": [
       "<Figure size 1440x720 with 1 Axes>"
      ]
     },
     "metadata": {
      "needs_background": "light"
     },
     "output_type": "display_data"
    }
   ],
   "source": [
    "# датафрейм с кумулятивным количеством заказов и кумулятивной выручкой по дням в группе А\n",
    "cumulativeRevenueA = cumulativeData[cumulativeData['group']=='A'][['date','revenue', 'orders']]\n",
    "\n",
    "plt.figure(figsize=(20,10)) # я люблю нормальные мужские графики большого размера\n",
    "\n",
    "# датафрейм с кумулятивным количеством заказов и кумулятивной выручкой по дням в группе B\n",
    "cumulativeRevenueB = cumulativeData[cumulativeData['group']=='B'][['date','revenue', 'orders']]\n",
    "\n",
    "\n",
    "# Строим график выручки группы А\n",
    "plt.plot(cumulativeRevenueA['date'], cumulativeRevenueA['revenue'], label='A')\n",
    "\n",
    "\n",
    "# Строим график выручки группы B\n",
    "plt.plot(cumulativeRevenueB['date'], cumulativeRevenueB['revenue'], label='B')\n",
    "\n",
    "plt.title('График кумулятивной выручки по группам', size=30)\n",
    "plt.xlabel(\"Дата\", size=20)\n",
    "plt.ylabel(\"Выручка\", size=20)\n",
    "plt.legend()\n",
    "plt.grid()\n",
    "plt.show()"
   ]
  },
  {
   "cell_type": "markdown",
   "metadata": {},
   "source": [
    "#### Выводы и предположения"
   ]
  },
  {
   "cell_type": "markdown",
   "metadata": {},
   "source": [
    "До 18.08.2019 выручка почти равномерно увеличивается. Далее наблюдаем резкий скачок группы В. Предположу, что всплеск выручки может быть обусловлен:\n",
    "- появлением очень дорогих заказов;\n",
    "- увеличением количества заказов;\n",
    "- поскольку первое не исключает второе, то возможна комплексная причина: увеличение количества заказов и появление очень дорогих заказов."
   ]
  },
  {
   "cell_type": "markdown",
   "metadata": {},
   "source": [
    "### График кумулятивного среднего чека по группам "
   ]
  },
  {
   "cell_type": "markdown",
   "metadata": {},
   "source": [
    "Построим графики среднего чека по группам — разделим кумулятивную выручку на кумулятивное число заказов:"
   ]
  },
  {
   "cell_type": "code",
   "execution_count": 21,
   "metadata": {},
   "outputs": [
    {
     "data": {
      "image/png": "[encoded data removed]",
      "text/plain": [
       "<Figure size 1440x720 with 1 Axes>"
      ]
     },
     "metadata": {
      "needs_background": "light"
     },
     "output_type": "display_data"
    }
   ],
   "source": [
    "plt.figure(figsize=(20,10))\n",
    "plt.plot(cumulativeRevenueA['date'], cumulativeRevenueA['revenue']/cumulativeRevenueA['orders'], label='A')\n",
    "plt.plot(cumulativeRevenueB['date'], cumulativeRevenueB['revenue']/cumulativeRevenueB['orders'], label='B')\n",
    "\n",
    "plt.legend()\n",
    "plt.title('График кумулятивного среднего чека по группам', size=30)\n",
    "plt.xlabel(\"Дата\", size=20)\n",
    "plt.ylabel(\"Средний чек\", size=20)\n",
    "plt.legend()\n",
    "plt.grid()\n",
    "plt.show();"
   ]
  },
  {
   "cell_type": "markdown",
   "metadata": {},
   "source": [
    "#### Выводы и предположения"
   ]
  },
  {
   "cell_type": "markdown",
   "metadata": {},
   "source": [
    "Средний чек у обеих групп выравнивается к 18.08.2019, волшебная дата.  Далее после резкого скачка у группы В наблюдаем стабильное снижение среднего чека. Видимо в группу В попал какой-то крупный заказ. Группе В нужно больше данных, чтобы прийти к реальному среднему чеку и установиться на своём реальном уровне."
   ]
  },
  {
   "cell_type": "markdown",
   "metadata": {},
   "source": [
    "### График относительного изменения кумулятивного среднего чека группы B к группе A "
   ]
  },
  {
   "cell_type": "markdown",
   "metadata": {},
   "source": [
    "Построим график относительного различия для среднего чека группы В к А. Добавим горизонтальную ось методом `axhline()`:"
   ]
  },
  {
   "cell_type": "code",
   "execution_count": 22,
   "metadata": {},
   "outputs": [
    {
     "data": {
      "image/png": "[encoded data removed]",
      "text/plain": [
       "<Figure size 1440x720 with 1 Axes>"
      ]
     },
     "metadata": {
      "needs_background": "light"
     },
     "output_type": "display_data"
    }
   ],
   "source": [
    "# собираем данные в одном датафрейме\n",
    "mergedCumulativeRevenue = cumulativeRevenueA.merge(cumulativeRevenueB, left_on='date', right_on='date', how='left', suffixes=['A', 'B'])\n",
    "\n",
    "# cтроим отношение средних чеков\n",
    "plt.figure(figsize=(20,10))\n",
    "plt.plot(mergedCumulativeRevenue['date'],\\\n",
    "(mergedCumulativeRevenue['revenueB']/mergedCumulativeRevenue['ordersB'])\\\n",
    "/(mergedCumulativeRevenue['revenueA']/mergedCumulativeRevenue['ordersA'])-1)\n",
    "\n",
    "# добавляем ось X\n",
    "plt.axhline(y=0, color='red', linestyle='--') \n",
    "plt.title('График относительного изменения кумулятивного среднего чека группы B к группе A', size=23)\n",
    "plt.xlabel(\"Дата\", size=15)\n",
    "plt.grid()\n",
    "plt.show()"
   ]
  },
  {
   "cell_type": "markdown",
   "metadata": {},
   "source": [
    "#### Выводы и предположения"
   ]
  },
  {
   "cell_type": "markdown",
   "metadata": {},
   "source": [
    "В нескольких точках график различия между сегментами резко «скачет». Где-то уж точно спрятались крупные заказы и выбросы! Найдём их позже."
   ]
  },
  {
   "cell_type": "markdown",
   "metadata": {},
   "source": [
    "### График кумулятивной конверсии по группам "
   ]
  },
  {
   "cell_type": "markdown",
   "metadata": {},
   "source": [
    "Аналогично проанализируем график кумулятивной конверсии. Зададим масштаб осей методом plt.axis(). Передадим ему минимальное и максимальное значения оси x; минимальное и максимальное значения оси y — [\"2019-08-01\", '2019-08-31', 0.029, 0.037]:"
   ]
  },
  {
   "cell_type": "code",
   "execution_count": 23,
   "metadata": {},
   "outputs": [
    {
     "data": {
      "image/png": "[encoded data removed]",
      "text/plain": [
       "<Figure size 1440x720 with 1 Axes>"
      ]
     },
     "metadata": {
      "needs_background": "light"
     },
     "output_type": "display_data"
    }
   ],
   "source": [
    "# считаем кумулятивную конверсию\n",
    "cumulativeData['conversion'] = cumulativeData['orders']/cumulativeData['visitors']\n",
    "\n",
    "# отделяем данные по группе A\n",
    "cumulativeDataA = cumulativeData[cumulativeData['group']=='A']\n",
    "\n",
    "# отделяем данные по группе B\n",
    "cumulativeDataB = cumulativeData[cumulativeData['group']=='B']\n",
    "\n",
    "\n",
    "# строим графики\n",
    "plt.figure(figsize=(20,10))\n",
    "plt.plot(cumulativeDataA['date'], cumulativeDataA['conversion'], label='A')\n",
    "plt.plot(cumulativeDataB['date'], cumulativeDataB['conversion'], label='B')\n",
    "plt.legend()\n",
    "\n",
    "# задаем масштаб осей\n",
    "plt.axis([dt.datetime(2019, 8, 1), dt.datetime(2019, 8, 31), 0.001, 0.05])\n",
    "plt.title('График кумулятивной конверсии по группам', size=30)\n",
    "plt.xlabel(\"Дата\", size=20)\n",
    "plt.ylabel(\"Конверсия\", size=20)\n",
    "plt.legend()\n",
    "plt.grid()\n",
    "plt.show()"
   ]
  },
  {
   "cell_type": "markdown",
   "metadata": {},
   "source": [
    "#### Выводы и предположения"
   ]
  },
  {
   "cell_type": "markdown",
   "metadata": {},
   "source": [
    "До 05.08.2019 данные колеблются вокруг одного значения. Но затем конверсия группы В вырывается в лидеры и фиксируется около одного значения примерно 0.035. Чётко видно, что в группе А с 09.08.2019 конверсия зафиксировалась на одном значении, примерно 0.030."
   ]
  },
  {
   "cell_type": "markdown",
   "metadata": {},
   "source": [
    "### График относительного изменения кумулятивной конверсии группы B к группе A "
   ]
  },
  {
   "cell_type": "markdown",
   "metadata": {},
   "source": [
    "Построим график относительного различия кумулятивных конверсий:"
   ]
  },
  {
   "cell_type": "code",
   "execution_count": 24,
   "metadata": {},
   "outputs": [
    {
     "data": {
      "image/png": "[encoded data removed]",
      "text/plain": [
       "<Figure size 1440x720 with 1 Axes>"
      ]
     },
     "metadata": {
      "needs_background": "light"
     },
     "output_type": "display_data"
    }
   ],
   "source": [
    "mergedCumulativeConversions = cumulativeDataA[['date','conversion']].\\\n",
    "merge(cumulativeDataB[['date','conversion']], left_on = 'date',\\\n",
    "right_on='date', how='left', suffixes=['A', 'B'])\n",
    "\n",
    "plt.figure(figsize=(20,10))\n",
    "plt.plot(mergedCumulativeConversions['date'],\\\n",
    "mergedCumulativeConversions['conversionB']/mergedCumulativeConversions['conversionA']-1,\\\n",
    "label=\"Относительный прирост конверсии группы B относительно группы A\")\n",
    "# я пишу по ночам на кухне, у меня экран 14\", поэтому переносы использую\n",
    "\n",
    "plt.axhline(y=0, color='green', linestyle='--')\n",
    "plt.axhline(y=0.2, color='red', linestyle='--')\n",
    "\n",
    "plt.axis([dt.datetime(2019, 8, 1), dt.datetime(2019, 8, 31), -0.15, 0.25])\n",
    "plt.title('График относительного изменения кумулятивной конверсии группы B к группе A', size=30)\n",
    "plt.xlabel(\"Дата\", size=20)\n",
    "plt.ylabel(\"Конверсия %\", size=20)\n",
    "plt.grid()\n",
    "plt.show()"
   ]
  },
  {
   "cell_type": "markdown",
   "metadata": {},
   "source": [
    "#### Выводы и предположения"
   ]
  },
  {
   "cell_type": "markdown",
   "metadata": {},
   "source": [
    "Относительно группы А, группа В лидирует с 05.08.2019, но достигнув отметки 20% стала немного регрессировать и зафиксировалась в отметке примерно 12% . До 05.08.2019 группа В то лидировала, то отставала."
   ]
  },
  {
   "cell_type": "markdown",
   "metadata": {},
   "source": [
    "### Точечный график количества заказов по пользователям"
   ]
  },
  {
   "cell_type": "markdown",
   "metadata": {},
   "source": [
    "Найдём число заказов по пользователям — создим датафрейм c двумя столбцами: 'userId' и 'orders'. Назовиём его `ordersByUsers`:"
   ]
  },
  {
   "cell_type": "code",
   "execution_count": 25,
   "metadata": {},
   "outputs": [
    {
     "data": {
      "text/html": [
       "<div>\n",
       "<style scoped>\n",
       "    .dataframe tbody tr th:only-of-type {\n",
       "        vertical-align: middle;\n",
       "    }\n",
       "\n",
       "    .dataframe tbody tr th {\n",
       "        vertical-align: top;\n",
       "    }\n",
       "\n",
       "    .dataframe thead th {\n",
       "        text-align: right;\n",
       "    }\n",
       "</style>\n",
       "<table border=\"1\" class=\"dataframe\">\n",
       "  <thead>\n",
       "    <tr style=\"text-align: right;\">\n",
       "      <th></th>\n",
       "      <th>user_id</th>\n",
       "      <th>orders</th>\n",
       "    </tr>\n",
       "  </thead>\n",
       "  <tbody>\n",
       "    <tr>\n",
       "      <th>0</th>\n",
       "      <td>5114589</td>\n",
       "      <td>1</td>\n",
       "    </tr>\n",
       "    <tr>\n",
       "      <th>656</th>\n",
       "      <td>2705308997</td>\n",
       "      <td>1</td>\n",
       "    </tr>\n",
       "    <tr>\n",
       "      <th>658</th>\n",
       "      <td>2710193528</td>\n",
       "      <td>1</td>\n",
       "    </tr>\n",
       "    <tr>\n",
       "      <th>659</th>\n",
       "      <td>2710478747</td>\n",
       "      <td>1</td>\n",
       "    </tr>\n",
       "    <tr>\n",
       "      <th>660</th>\n",
       "      <td>2710492161</td>\n",
       "      <td>1</td>\n",
       "    </tr>\n",
       "  </tbody>\n",
       "</table>\n",
       "</div>"
      ],
      "text/plain": [
       "        user_id  orders\n",
       "0       5114589       1\n",
       "656  2705308997       1\n",
       "658  2710193528       1\n",
       "659  2710478747       1\n",
       "660  2710492161       1"
      ]
     },
     "execution_count": 25,
     "metadata": {},
     "output_type": "execute_result"
    }
   ],
   "source": [
    "ordersByUsers  = orders.drop(['group', 'revenue', 'date'], \n",
    "                             axis=1).groupby('visitor_id', as_index=False).agg({'transaction_id': 'nunique'})\n",
    "ordersByUsers.columns = ['user_id', 'orders']\n",
    "ordersByUsers.sort_values('orders').head()"
   ]
  },
  {
   "cell_type": "markdown",
   "metadata": {},
   "source": [
    "Построим точечный график количества заказов по пользователям:"
   ]
  },
  {
   "cell_type": "code",
   "execution_count": 26,
   "metadata": {},
   "outputs": [
    {
     "data": {
      "image/png": "[encoded data removed]",
      "text/plain": [
       "<Figure size 432x288 with 1 Axes>"
      ]
     },
     "metadata": {
      "needs_background": "light"
     },
     "output_type": "display_data"
    }
   ],
   "source": [
    "x_values = pd.Series(range(0, len(ordersByUsers)))\n",
    "plt.scatter(x_values, ordersByUsers['orders'])\n",
    "plt.xlabel('Количество заказов')\n",
    "plt.ylabel('Количество пользователей')\n",
    "plt.show()"
   ]
  },
  {
   "cell_type": "markdown",
   "metadata": {},
   "source": [
    "#### Выводы и предположения"
   ]
  },
  {
   "cell_type": "markdown",
   "metadata": {},
   "source": [
    "Большинство пользователей совершило всего 1 заказ. Однако не ясно, сколько пользователей заказало 2, 3 и более раза. Пользователей, заказавших более двух раз совсем мало."
   ]
  },
  {
   "cell_type": "markdown",
   "metadata": {},
   "source": [
    "### Расчёт 95-й и 99-й перцентили количества заказов на пользователя. Выбор границы для определения аномальных пользователей."
   ]
  },
  {
   "cell_type": "code",
   "execution_count": 27,
   "metadata": {},
   "outputs": [
    {
     "data": {
      "text/plain": [
       "array([2., 4.])"
      ]
     },
     "execution_count": 27,
     "metadata": {},
     "output_type": "execute_result"
    }
   ],
   "source": [
    "np.percentile(ordersByUsers['orders'], [95, 99])"
   ]
  },
  {
   "cell_type": "markdown",
   "metadata": {},
   "source": [
    "Не более 5% пользователей совершали более 2 заказов, и не более 1% - больше 4 заказов"
   ]
  },
  {
   "cell_type": "markdown",
   "metadata": {},
   "source": [
    "### Точечный график стоимостей заказов"
   ]
  },
  {
   "cell_type": "code",
   "execution_count": 28,
   "metadata": {},
   "outputs": [
    {
     "data": {
      "image/png": "[encoded data removed]",
      "text/plain": [
       "<Figure size 432x288 with 1 Axes>"
      ]
     },
     "metadata": {
      "needs_background": "light"
     },
     "output_type": "display_data"
    }
   ],
   "source": [
    "x_values = pd.Series(range(0, len(orders['revenue'])))\n",
    "plt.scatter(x_values, orders['revenue'])\n",
    "plt.xlabel('Количество заказов')\n",
    "plt.ylabel('Стоимость, р*100000.')\n",
    "plt.show()"
   ]
  },
  {
   "cell_type": "markdown",
   "metadata": {},
   "source": [
    "#### Выводы и предположения"
   ]
  },
  {
   "cell_type": "markdown",
   "metadata": {},
   "source": [
    "Заказов стоимостью более 120000 рублей, мало. Выбросами можно считать заказы от 20 000 рублей и выше"
   ]
  },
  {
   "cell_type": "markdown",
   "metadata": {},
   "source": [
    "### Расчёт 95-й и 99-й перцентили стоимости заказов. Выбор границы для определения аномальных заказов."
   ]
  },
  {
   "cell_type": "code",
   "execution_count": 29,
   "metadata": {},
   "outputs": [
    {
     "data": {
      "text/plain": [
       "array([28000. , 58233.2])"
      ]
     },
     "execution_count": 29,
     "metadata": {},
     "output_type": "execute_result"
    }
   ],
   "source": [
    "np.percentile(orders['revenue'], [95, 99])"
   ]
  },
  {
   "cell_type": "markdown",
   "metadata": {},
   "source": [
    "Не более, чем у 5% заказов чек дороже 28 000 рублей. И не больше, чем у 1% - дороже 58233 рубля"
   ]
  },
  {
   "cell_type": "markdown",
   "metadata": {},
   "source": [
    "### Расчёт статистической значимости различий в конверсии между группами по «сырым» данным "
   ]
  },
  {
   "cell_type": "markdown",
   "metadata": {},
   "source": [
    "Сформулируем нулевую и альтернативную гипотезы:\n",
    "\n",
    "Нулевая гипотеза: различий в конверсии между группами нет. \n",
    "\n",
    "Альтернативная гипотеза: различия в конверсии между группами есть."
   ]
  },
  {
   "cell_type": "markdown",
   "metadata": {},
   "source": [
    "Посчитаем статистическую значимость различий в конверсии и среднем чеке между группами по «сырым» данным — без удаления аномальных пользователей."
   ]
  },
  {
   "cell_type": "code",
   "execution_count": 30,
   "metadata": {},
   "outputs": [
    {
     "data": {
      "text/html": [
       "<div>\n",
       "<style scoped>\n",
       "    .dataframe tbody tr th:only-of-type {\n",
       "        vertical-align: middle;\n",
       "    }\n",
       "\n",
       "    .dataframe tbody tr th {\n",
       "        vertical-align: top;\n",
       "    }\n",
       "\n",
       "    .dataframe thead th {\n",
       "        text-align: right;\n",
       "    }\n",
       "</style>\n",
       "<table border=\"1\" class=\"dataframe\">\n",
       "  <thead>\n",
       "    <tr style=\"text-align: right;\">\n",
       "      <th></th>\n",
       "      <th>date</th>\n",
       "      <th>ordersPerDateA</th>\n",
       "      <th>revenuePerDateA</th>\n",
       "      <th>ordersPerDateB</th>\n",
       "      <th>revenuePerDateB</th>\n",
       "      <th>ordersCummulativeA</th>\n",
       "      <th>revenueCummulativeA</th>\n",
       "      <th>ordersCummulativeB</th>\n",
       "      <th>revenueCummulativeB</th>\n",
       "      <th>visitorsPerDateA</th>\n",
       "      <th>visitorsPerDateB</th>\n",
       "      <th>visitorsCummulativeA</th>\n",
       "      <th>visitorsCummulativeB</th>\n",
       "    </tr>\n",
       "  </thead>\n",
       "  <tbody>\n",
       "    <tr>\n",
       "      <th>0</th>\n",
       "      <td>2019-08-01</td>\n",
       "      <td>24</td>\n",
       "      <td>148579</td>\n",
       "      <td>21</td>\n",
       "      <td>101217</td>\n",
       "      <td>24</td>\n",
       "      <td>148579</td>\n",
       "      <td>21</td>\n",
       "      <td>101217</td>\n",
       "      <td>719</td>\n",
       "      <td>713</td>\n",
       "      <td>719</td>\n",
       "      <td>713</td>\n",
       "    </tr>\n",
       "    <tr>\n",
       "      <th>1</th>\n",
       "      <td>2019-08-02</td>\n",
       "      <td>20</td>\n",
       "      <td>93822</td>\n",
       "      <td>24</td>\n",
       "      <td>165531</td>\n",
       "      <td>44</td>\n",
       "      <td>242401</td>\n",
       "      <td>45</td>\n",
       "      <td>266748</td>\n",
       "      <td>619</td>\n",
       "      <td>581</td>\n",
       "      <td>1338</td>\n",
       "      <td>1294</td>\n",
       "    </tr>\n",
       "    <tr>\n",
       "      <th>2</th>\n",
       "      <td>2019-08-03</td>\n",
       "      <td>24</td>\n",
       "      <td>112473</td>\n",
       "      <td>16</td>\n",
       "      <td>114248</td>\n",
       "      <td>68</td>\n",
       "      <td>354874</td>\n",
       "      <td>61</td>\n",
       "      <td>380996</td>\n",
       "      <td>507</td>\n",
       "      <td>509</td>\n",
       "      <td>1845</td>\n",
       "      <td>1803</td>\n",
       "    </tr>\n",
       "    <tr>\n",
       "      <th>3</th>\n",
       "      <td>2019-08-04</td>\n",
       "      <td>16</td>\n",
       "      <td>70825</td>\n",
       "      <td>17</td>\n",
       "      <td>108571</td>\n",
       "      <td>84</td>\n",
       "      <td>425699</td>\n",
       "      <td>78</td>\n",
       "      <td>489567</td>\n",
       "      <td>717</td>\n",
       "      <td>770</td>\n",
       "      <td>2562</td>\n",
       "      <td>2573</td>\n",
       "    </tr>\n",
       "    <tr>\n",
       "      <th>4</th>\n",
       "      <td>2019-08-05</td>\n",
       "      <td>25</td>\n",
       "      <td>124218</td>\n",
       "      <td>23</td>\n",
       "      <td>92428</td>\n",
       "      <td>109</td>\n",
       "      <td>549917</td>\n",
       "      <td>101</td>\n",
       "      <td>581995</td>\n",
       "      <td>756</td>\n",
       "      <td>707</td>\n",
       "      <td>3318</td>\n",
       "      <td>3280</td>\n",
       "    </tr>\n",
       "  </tbody>\n",
       "</table>\n",
       "</div>"
      ],
      "text/plain": [
       "        date  ordersPerDateA  revenuePerDateA  ordersPerDateB  \\\n",
       "0 2019-08-01              24           148579              21   \n",
       "1 2019-08-02              20            93822              24   \n",
       "2 2019-08-03              24           112473              16   \n",
       "3 2019-08-04              16            70825              17   \n",
       "4 2019-08-05              25           124218              23   \n",
       "\n",
       "   revenuePerDateB  ordersCummulativeA  revenueCummulativeA  \\\n",
       "0           101217                  24               148579   \n",
       "1           165531                  44               242401   \n",
       "2           114248                  68               354874   \n",
       "3           108571                  84               425699   \n",
       "4            92428                 109               549917   \n",
       "\n",
       "   ordersCummulativeB  revenueCummulativeB  visitorsPerDateA  \\\n",
       "0                  21               101217               719   \n",
       "1                  45               266748               619   \n",
       "2                  61               380996               507   \n",
       "3                  78               489567               717   \n",
       "4                 101               581995               756   \n",
       "\n",
       "   visitorsPerDateB  visitorsCummulativeA  visitorsCummulativeB  \n",
       "0               713                   719                   713  \n",
       "1               581                  1338                  1294  \n",
       "2               509                  1845                  1803  \n",
       "3               770                  2562                  2573  \n",
       "4               707                  3318                  3280  "
      ]
     },
     "execution_count": 30,
     "metadata": {},
     "output_type": "execute_result"
    }
   ],
   "source": [
    "visitorsADaily = visitors[visitors['group'] == 'A'][['date', 'visitors']]\n",
    "visitorsADaily.columns = ['date', 'visitorsPerDateA']\n",
    "\n",
    "visitorsACummulative = visitorsADaily.apply(\n",
    "    lambda x: visitorsADaily[visitorsADaily['date'] <= x['date']].agg(\n",
    "        {'date': 'max', 'visitorsPerDateA': 'sum'}\n",
    "    ),\n",
    "    axis=1,\n",
    ")\n",
    "visitorsACummulative.columns = ['date', 'visitorsCummulativeA']\n",
    "\n",
    "visitorsBDaily = visitors[visitors['group'] == 'B'][['date', 'visitors']]\n",
    "visitorsBDaily.columns = ['date', 'visitorsPerDateB']\n",
    "\n",
    "visitorsBCummulative = visitorsBDaily.apply(\n",
    "    lambda x: visitorsBDaily[visitorsBDaily['date'] <= x['date']].agg(\n",
    "        {'date': 'max', 'visitorsPerDateB': 'sum'}\n",
    "    ),\n",
    "    axis=1,\n",
    ")\n",
    "visitorsBCummulative.columns = ['date', 'visitorsCummulativeB']\n",
    "\n",
    "ordersADaily = (\n",
    "    orders[orders['group'] == 'A'][['date', 'transaction_id', 'visitor_id', 'revenue']]\n",
    "    .groupby('date', as_index=False)\n",
    "    .agg({'transaction_id': pd.Series.nunique, 'revenue': 'sum'})\n",
    ")\n",
    "ordersADaily.columns = ['date', 'ordersPerDateA', 'revenuePerDateA']\n",
    "\n",
    "ordersACummulative = ordersADaily.apply(\n",
    "    lambda x: ordersADaily[ordersADaily['date'] <= x['date']].agg(\n",
    "        {'date': 'max', 'ordersPerDateA': 'sum', 'revenuePerDateA': 'sum'}\n",
    "    ),\n",
    "    axis=1,\n",
    ").sort_values(by=['date'])\n",
    "ordersACummulative.columns = [\n",
    "    'date',\n",
    "    'ordersCummulativeA',\n",
    "    'revenueCummulativeA',\n",
    "]\n",
    "\n",
    "ordersBDaily = (\n",
    "    orders[orders['group'] == 'B'][['date', 'transaction_id', 'visitor_id', 'revenue']]\n",
    "    .groupby('date', as_index=False)\n",
    "    .agg({'transaction_id': pd.Series.nunique, 'revenue': 'sum'})\n",
    ")\n",
    "\n",
    "ordersBDaily.columns = ['date', 'ordersPerDateB', 'revenuePerDateB']\n",
    "\n",
    "ordersBCummulative = ordersBDaily.apply(\n",
    "    lambda x: ordersBDaily[ordersBDaily['date'] <= x['date']].agg(\n",
    "        {'date': 'max', 'ordersPerDateB': 'sum', 'revenuePerDateB': 'sum'}\n",
    "    ),\n",
    "    axis=1,\n",
    ").sort_values(by=['date'])\n",
    "ordersBCummulative.columns = [\n",
    "    'date',\n",
    "    'ordersCummulativeB',\n",
    "    'revenueCummulativeB',\n",
    "]\n",
    "\n",
    "data = (\n",
    "    ordersADaily.merge(\n",
    "        ordersBDaily, left_on='date', right_on='date', how='left'\n",
    "    )\n",
    "    .merge(ordersACummulative, left_on='date', right_on='date', how='left')\n",
    "    .merge(ordersBCummulative, left_on='date', right_on='date', how='left')\n",
    "    .merge(visitorsADaily, left_on='date', right_on='date', how='left')\n",
    "    .merge(visitorsBDaily, left_on='date', right_on='date', how='left')\n",
    "    .merge(visitorsACummulative, left_on='date', right_on='date', how='left')\n",
    "    .merge(visitorsBCummulative, left_on='date', right_on='date', how='left')\n",
    ")\n",
    "data.head()"
   ]
  },
  {
   "cell_type": "markdown",
   "metadata": {},
   "source": [
    "Названия столбцов данных: \n",
    "\n",
    "`date` — дата;\n",
    "\n",
    "`ordersPerDateA` — количество заказов в выбранную дату в группе A;\n",
    "\n",
    "`revenuePerDateA` — суммарная выручка в выбранную дату в группе A;\n",
    "\n",
    "`ordersPerDateB` — количество заказов в выбранную дату в группе B;\n",
    "\n",
    "`revenuePerDateB` — суммарная выручка в выбранную дату в группе B;\n",
    "\n",
    "`ordersCummulativeA` — суммарное число заказов до выбранной даты включительно в группе A;\n",
    "\n",
    "`revenueCummulativeA` — суммарная выручка до выбранной даты включительно в группе A;\n",
    "\n",
    "`ordersCummulativeB` — суммарное количество заказов до выбранной даты включительно в группе B;\n",
    "\n",
    "`revenueCummulativeB` — суммарная выручка до выбранной даты включительно в группе B;\n",
    "\n",
    "`visitorsPerDateA` — количество пользователей в выбранную дату в группе A;\n",
    "\n",
    "`visitorsPerDateB` — количество пользователей в выбранную дату в группе B;\n",
    "\n",
    "`visitorsCummulativeA` — количество пользователей до выбранной даты включительно в группе A;\n",
    "\n",
    "`visitorsCummulativeB` — количество пользователей до выбранной даты включительно в группе B."
   ]
  },
  {
   "cell_type": "markdown",
   "metadata": {},
   "source": [
    "Создадим переменные `ordersByUsersA` и `ordersByUsersB` со столбцами ['userId', 'orders']. В них для пользователей, которые заказывали хотя бы 1 раз, укажем число совершённых заказов."
   ]
  },
  {
   "cell_type": "code",
   "execution_count": 31,
   "metadata": {},
   "outputs": [],
   "source": [
    "ordersByUsersA = (\n",
    "    orders[orders['group'] == 'A']\n",
    "    .groupby('visitor_id', as_index=False)\n",
    "    .agg({'transaction_id': pd.Series.nunique})\n",
    ")\n",
    "ordersByUsersA.columns = ['user_id', 'orders']\n",
    "\n",
    "ordersByUsersB = (\n",
    "    orders[orders['group'] == 'B']\n",
    "    .groupby('visitor_id', as_index=False)\n",
    "    .agg({'transaction_id': pd.Series.nunique})\n",
    ")\n",
    "ordersByUsersB.columns = ['user_id', 'orders']"
   ]
  },
  {
   "cell_type": "markdown",
   "metadata": {},
   "source": [
    "Объявим переменные `sampleA` и `sampleB`, в которых пользователям из разных групп будет соответствовать количество заказов. Тем, кто ничего не заказал, будут соответствовать нули. Это нужно, чтобы подготовить выборки к проверке критерием Манна-Уитни.\n",
    "\n",
    "Переменная `sampleA` должна состоять из двух частей:\n",
    "1. Список с количеством заказов для каждого из пользователей: ordersByUsersA['orders'].\n",
    "2. Нули для пользователей, которые ничего не заказывали. Их количество равно разнице между суммой посетителей и количеством записей о заказах: data['visitorsPerDateA'].sum() - len(ordersByUsersA['orders']). Создадим объект pd.Series нужной длины.\n",
    "\n",
    "Дальше передадим аргумент, сообщающий, что объекты Series нужно объединить по строкам."
   ]
  },
  {
   "cell_type": "code",
   "execution_count": 32,
   "metadata": {},
   "outputs": [
    {
     "data": {
      "text/plain": [
       "0    0\n",
       "1    0\n",
       "2    0\n",
       "3    0\n",
       "4    0\n",
       "Name: orders, dtype: int64"
      ]
     },
     "execution_count": 32,
     "metadata": {},
     "output_type": "execute_result"
    }
   ],
   "source": [
    "pd.Series(0, index=np.arange(data['visitorsPerDateA'].sum()\\\n",
    "- len(ordersByUsersA['orders'])), name='orders').head()\n"
   ]
  },
  {
   "cell_type": "code",
   "execution_count": 33,
   "metadata": {},
   "outputs": [],
   "source": [
    "sampleA = pd.concat(\n",
    "    [\n",
    "        ordersByUsersA['orders'],\n",
    "        pd.Series(\n",
    "            0,\n",
    "            index=np.arange(\n",
    "                data['visitorsPerDateA'].sum() - len(ordersByUsersA['orders'])\n",
    "            ),\n",
    "            name='orders',\n",
    "        ),\n",
    "    ],\n",
    "    axis=0,\n",
    ")\n",
    "\n",
    "sampleB = pd.concat(\n",
    "    [\n",
    "        ordersByUsersB['orders'],\n",
    "        pd.Series(\n",
    "            0,\n",
    "            index=np.arange(\n",
    "                data['visitorsPerDateB'].sum() - len(ordersByUsersB['orders'])\n",
    "            ),\n",
    "            name='orders',\n",
    "        ),\n",
    "    ],\n",
    "    axis=0,\n",
    ")"
   ]
  },
  {
   "cell_type": "markdown",
   "metadata": {},
   "source": [
    "Применим критерий и отформатируем p-value, округлив его до gznb знаков после запятой. Выведем относительный прирост конверсии группы B: (`конверсия группы B` / `конверсия группы A` - 1). Округлим до трёх знаков после запятой."
   ]
  },
  {
   "cell_type": "code",
   "execution_count": 34,
   "metadata": {},
   "outputs": [
    {
     "name": "stdout",
     "output_type": "stream",
     "text": [
      "\n",
      "p-value = 0.00840\n",
      "\n",
      "Относительный прирост конверсии группы B составил 0.138\n",
      "\n"
     ]
    }
   ],
   "source": [
    "print ()\n",
    "print('p-value =', \"{0:.5f}\".format(stats.mannwhitneyu(sampleA, sampleB)[1]))\n",
    "print ()\n",
    "print('Относительный прирост конверсии группы B составил', \"{0:.3f}\".format(sampleB.mean() / sampleA.mean() - 1))\n",
    "print ()"
   ]
  },
  {
   "cell_type": "markdown",
   "metadata": {},
   "source": [
    "#### Выводы и предположения"
   ]
  },
  {
   "cell_type": "markdown",
   "metadata": {},
   "source": [
    "Отдельный прирост конверсии группы В к конверсии группы А равен 13.8%. Анализ \"сырых\" данных сообщает, что в конверсии между группами есть статистически значимые различия. P-value меньше 0.05, поэтому нулевую гипотезу отвергаем."
   ]
  },
  {
   "cell_type": "markdown",
   "metadata": {},
   "source": [
    "### Расчёт статистической значимости различий в среднем чеке заказа между группами по «сырым» данным"
   ]
  },
  {
   "cell_type": "markdown",
   "metadata": {},
   "source": [
    "Сформулируем нулевую и альтернативную гипотезы:\n",
    "\n",
    "Нулевая гипотеза: Средний чек A равен среднему чеку группы B.\n",
    "\n",
    "Альтернативная гипотеза:  Средний чек A не равен среднему чеку группы B\n",
    "\n",
    "Посчитаем статистическую значимость различия средних чеков между группами."
   ]
  },
  {
   "cell_type": "code",
   "execution_count": 35,
   "metadata": {},
   "outputs": [
    {
     "name": "stdout",
     "output_type": "stream",
     "text": [
      "\n",
      "p-value = 0.365\n",
      "\n",
      "Относительный прирост среднего чека группы B составил 0.259\n",
      "\n"
     ]
    }
   ],
   "source": [
    "print ()\n",
    "print('p-value =','{0:.3f}'.format(stats.mannwhitneyu(orders[orders['group']=='A']['revenue'], orders[orders['group']=='B']['revenue'])[1]))\n",
    "print ()\n",
    "print('Относительный прирост среднего чека группы B составил', '{0:.3f}'.format(orders[orders['group']=='B']['revenue'].mean()/orders[orders['group']=='A']['revenue'].mean()-1)) \n",
    "print ()\n"
   ]
  },
  {
   "cell_type": "markdown",
   "metadata": {},
   "source": [
    "#### Выводы и предположения"
   ]
  },
  {
   "cell_type": "markdown",
   "metadata": {},
   "source": [
    "P-value больше 0.05, следовательно статистически значимых отличий в среднем чеке между группами нет. Принимаем нулевую гипотезу.\n",
    "\n",
    "Относительное различие среднего чека между сегментами = 25.9%, это много. Вероятнее всего, тут аномалии с двух сторон."
   ]
  },
  {
   "cell_type": "code",
   "execution_count": 36,
   "metadata": {},
   "outputs": [],
   "source": [
    "#print ()\n",
    "#p-value = (('{0:.3f}'.format(stats.mannwhitneyu(orders[orders['group']=='A']['revenue'], orders[orders['group']=='B']['revenue'])[1])))\n",
    "#if a > '0.05':    \n",
    "#    print ('P-value =', p-value, 'больше 0.05, следовательно статистически значимых отличий в среднем чеке между группами нет. Принимаем нулевую гипотезу.')\n",
    "#else:\n",
    "#    print ('P-value =', p-value, 'меньше 0.05, следовательно статистически значимые отличия в среднем чеке между группами есть. Отвергаем нулевую гипотезу.')\n",
    "#print ()\n",
    "#print('Относительный прирост среднего чека группы B составил', '{0:.3f}'.format(orders[orders['group']=='B']['revenue'].mean()/orders[orders['group']=='A']['revenue'].mean()-1)) \n",
    "#print ()"
   ]
  },
  {
   "cell_type": "markdown",
   "metadata": {},
   "source": [
    "### Расчёт статистической значимости различий в конверсии между группами по «очищенным» данным"
   ]
  },
  {
   "cell_type": "markdown",
   "metadata": {},
   "source": [
    "#### Очистка нанных"
   ]
  },
  {
   "cell_type": "markdown",
   "metadata": {},
   "source": [
    "В п. 6.9 мы выяснили, что 95 и 99 перцентили средних чеков равны 28000 и 58233 рублям. \n",
    "\n",
    "Примем за аномальных пользователей тех, кто совершил 2 заказа и более или совершил заказ на сумму свыше 28 000 рублей.\n",
    "\n",
    "Сначала определим аномальные заказы, затем пользователей, совершивших их и добавим их в список аномальных."
   ]
  },
  {
   "cell_type": "code",
   "execution_count": 37,
   "metadata": {},
   "outputs": [],
   "source": [
    "usersWithManyOrders = pd.concat(\n",
    "    [\n",
    "        ordersByUsersA[ordersByUsersA['orders'] > 2]['user_id'],\n",
    "        ordersByUsersB[ordersByUsersB['orders'] > 2]['user_id'],\n",
    "    ],\n",
    "    axis=0,\n",
    ") # выявляем совершивших более двух заказов\n",
    "usersWithExpensiveOrders = orders[orders['revenue'] > 28000]['visitor_id'] \n",
    "# выявляем совершивших заказ на сумму более 28000 рублей"
   ]
  },
  {
   "cell_type": "code",
   "execution_count": 38,
   "metadata": {},
   "outputs": [
    {
     "data": {
      "text/plain": [
       "1099    148427295\n",
       "18      199603092\n",
       "928     204675465\n",
       "23      237748145\n",
       "37      249864742\n",
       "dtype: int64"
      ]
     },
     "metadata": {},
     "output_type": "display_data"
    }
   ],
   "source": [
    "abnormalUsers = (\n",
    "    pd.concat([usersWithManyOrders, usersWithExpensiveOrders], axis=0)\n",
    "    .drop_duplicates()\n",
    "    .sort_values()\n",
    ") # соежиняем пользователей в таблице\n",
    "display (abnormalUsers.head())"
   ]
  },
  {
   "cell_type": "markdown",
   "metadata": {},
   "source": [
    "Узнаем, сколько всего аномальных пользователей методом `shape()`:"
   ]
  },
  {
   "cell_type": "code",
   "execution_count": 39,
   "metadata": {},
   "outputs": [
    {
     "name": "stdout",
     "output_type": "stream",
     "text": [
      "\n",
      "Количество аномальных пользователей: 74\n",
      "\n"
     ]
    }
   ],
   "source": [
    "print()\n",
    "print ('Количество аномальных пользователей:',abnormalUsers.shape[0])\n",
    "print ()"
   ]
  },
  {
   "cell_type": "markdown",
   "metadata": {},
   "source": [
    "Выясним, есть ли существенные различия межу группами с очищенными данными. Посчитаем статистическую значимость различия средних чеков после удаления аномальных пользователей. Для этого объявим переменные `sampleAFiltered` и `sampleBFiltered`, в которых сохраним очищенные данные о заказах — не включая аномальных пользователей:"
   ]
  },
  {
   "cell_type": "code",
   "execution_count": 40,
   "metadata": {},
   "outputs": [],
   "source": [
    "sampleAFiltered = pd.concat(\n",
    "    [\n",
    "        ordersByUsersA[\n",
    "            np.logical_not(ordersByUsersA['user_id'].isin(abnormalUsers))\n",
    "        ]['orders'],\n",
    "        pd.Series(\n",
    "            0,\n",
    "            index=np.arange(\n",
    "                data['visitorsPerDateA'].sum() - len(ordersByUsersA['orders'])\n",
    "            ),\n",
    "            name='orders',\n",
    "        ),\n",
    "    ],\n",
    "    axis=0,\n",
    ")\n",
    "\n",
    "sampleBFiltered = pd.concat(\n",
    "    [\n",
    "        ordersByUsersB[\n",
    "            np.logical_not(ordersByUsersB['user_id'].isin(abnormalUsers))\n",
    "        ]['orders'],\n",
    "        pd.Series(\n",
    "            0,\n",
    "            index=np.arange(\n",
    "                data['visitorsPerDateB'].sum() - len(ordersByUsersB['orders'])\n",
    "            ),\n",
    "            name='orders',\n",
    "        ),\n",
    "    ],\n",
    "    axis=0,\n",
    ")"
   ]
  },
  {
   "cell_type": "markdown",
   "metadata": {},
   "source": [
    "#### Расчёт статистической значимости"
   ]
  },
  {
   "cell_type": "code",
   "execution_count": 41,
   "metadata": {},
   "outputs": [
    {
     "name": "stdout",
     "output_type": "stream",
     "text": [
      "p-value = 0.00652\n",
      "Относительный прирост среднего чека группы B составил 0.173\n"
     ]
    }
   ],
   "source": [
    "print('p-value =','{0:.5f}'.format(stats.mannwhitneyu(sampleAFiltered, sampleBFiltered)[1]))\n",
    "print('Относительный прирост среднего чека группы B составил', '{0:.3f}'.format(sampleBFiltered.mean()/sampleAFiltered.mean()-1)) "
   ]
  },
  {
   "cell_type": "markdown",
   "metadata": {},
   "source": [
    "#### Выводы и предположения"
   ]
  },
  {
   "cell_type": "markdown",
   "metadata": {},
   "source": [
    "Результаты по конверсии практически не изменились.Сегмент В значительно лучше сегмента А. Отвергаем нулевую гипотезу."
   ]
  },
  {
   "cell_type": "markdown",
   "metadata": {},
   "source": [
    "### Расчёт статистической значимости различий в среднем чеке заказа между группами по «очищенным» данным"
   ]
  },
  {
   "cell_type": "markdown",
   "metadata": {},
   "source": [
    "Посмотрим, произошло ли что-нибудь с результатами по среднему чеку?"
   ]
  },
  {
   "cell_type": "code",
   "execution_count": 42,
   "metadata": {},
   "outputs": [
    {
     "name": "stdout",
     "output_type": "stream",
     "text": [
      "p-value = 0.369\n",
      "Относительный прирост среднего чека группы B составил -0.020\n"
     ]
    }
   ],
   "source": [
    "print(\n",
    "    'p-value =','{0:.3f}'.format(\n",
    "        stats.mannwhitneyu(\n",
    "            orders[\n",
    "                np.logical_and(\n",
    "                    orders['group'] == 'A',\n",
    "                    np.logical_not(orders['visitor_id'].isin(abnormalUsers)),\n",
    "                )\n",
    "            ]['revenue'],\n",
    "            orders[\n",
    "                np.logical_and(\n",
    "                    orders['group'] == 'B',\n",
    "                    np.logical_not(orders['visitor_id'].isin(abnormalUsers)),\n",
    "                )\n",
    "            ]['revenue'],\n",
    "        )[1]\n",
    "    )\n",
    ")\n",
    "\n",
    "print(\n",
    "    'Относительный прирост среднего чека группы B составил', '{0:.3f}'.format(\n",
    "        orders[\n",
    "            np.logical_and(\n",
    "                orders['group'] == 'B',\n",
    "                np.logical_not(orders['visitor_id'].isin(abnormalUsers)),\n",
    "            )\n",
    "        ]['revenue'].mean()\n",
    "        / orders[\n",
    "            np.logical_and(\n",
    "                orders['group'] == 'A',\n",
    "                np.logical_not(orders['visitor_id'].isin(abnormalUsers)),\n",
    "            )\n",
    "        ]['revenue'].mean()\n",
    "        - 1\n",
    "    )\n",
    ") "
   ]
  },
  {
   "cell_type": "markdown",
   "metadata": {},
   "source": [
    "##### Выводы и предположения"
   ]
  },
  {
   "cell_type": "markdown",
   "metadata": {},
   "source": [
    "После очистки данных от аномалий p-value по среднему чеку изменился слабо, следовательно статистически значимых отличий между группами нет. Относительный прирост группы В относительно группы А снизился значительно и составил всего 2%, но уже в пользу группы А. Принимаем нулевую гипотезу"
   ]
  },
  {
   "cell_type": "markdown",
   "metadata": {},
   "source": [
    "### Решение по результатам теста"
   ]
  },
  {
   "cell_type": "markdown",
   "metadata": {},
   "source": [
    "Примем решение по результатам теста и объясним его:"
   ]
  },
  {
   "cell_type": "markdown",
   "metadata": {},
   "source": [
    "Варианты решений: \n",
    "1. Остановить тест, зафиксировать победу одной из групп. \n",
    "2. Остановить тест, зафиксировать отсутствие различий между группами. \n",
    "3. Продолжить тест."
   ]
  },
  {
   "cell_type": "markdown",
   "metadata": {},
   "source": [
    "В ходе выполнения проекта была проведена следующая работа:\n",
    "\n",
    "1. Загрузили данные и предварительно с ними ознакомились.\n",
    "2. Провели предобработку данных, а именно:\n",
    "\n",
    "- исправили названия столбцов;\n",
    "- изменили тип данных  столбцах с датами;\n",
    "- ироверили таблицы на наличие дубликатов;\n",
    "- проверили таблицы на наличие пропусков;\n",
    "\n",
    "3. Провели приоритизацию гипотез:\n",
    "\n",
    "- применили флеймворк `ICE`;\n",
    "- применили флеймворк `RICE`;\n",
    "- указали, как и почему изменилась приоритизация гипотез;\n",
    "\n",
    "4. Провери анализ А/В теста, а именно:\n",
    "\n",
    "- построили график кумулятивной выручки по группам;\n",
    "- построили график кумулятивного среднего чека по группам;\n",
    "- построили график относительного изменения кумулятивного среднего чека группы B к группе A;\n",
    "- построили график кумулятивной конверсии по группам. Сделайте выводы и предположения;\n",
    "- построили график относительного изменения кумулятивной конверсии группы B к группе A;\n",
    "- построили точечный график количества заказов по пользователям;\n",
    "- посчитали перцентили количества заказов на пользователя;\n",
    "- построили точечный график стоимостей заказов;\n",
    "- посчитали перцентили стоимости заказов;\n",
    "- посчитали статистическую значимость различий в конверсии между группами по «сырым» данным;\n",
    "- посчитали статистическую значимость различий в среднем чеке заказа между группами по «сырым» данным;\n",
    "- произвели \"осчистку\" данных от аномалий;\n",
    "- посчитали статистическую значимость различий в конверсии между группами по «очищенным» данным;\n",
    "- посчитали статистическую значимость различий в среднем чеке заказа между группами по «очищенным» данным;\n",
    "\n",
    "На основе проведённой работы можно сделать следующие выводы:\n",
    "\n",
    "1. Есть статистически значимое различие по конверсии между группами как по \"сырым\" данным, ни по данным после фильтрации аномалий.\n",
    "2. Нет статистически значимого различия по среднему чеку между группами как по \"сырым\", ни по данным после фильтрации аномалий.\n",
    "3. График относительного изменения кумулятивной конверсии группы B к группе A (п.6.5) сообщает, что результаты группы B лучше группы A: имеют тенденцию к росту, либо зафиксировались около среднего значения в 12%, а после удаления аномалий составил 17.3%\n",
    "4. После очистки данных от аномалий, конверсия так же статистически значима. Однако разницы в чеках незначительна. Такое возможно, если пользователи покупают чаще, но совершают дешёвые товары.\n",
    "\n",
    "Исходя из установленных фактов, тест следует остановить и признать его успешным. Средний чек не поменялся, а конверсия выросла. Группа В лучше чем А, т.к. конверсия больше, при одинаковом среднем чеке, соответственно группа В в перспективе принесёт больше денег бизнесу."
   ]
  }
 ],
 "metadata": {
  "ExecuteTimeLog": [
   {
    "duration": 1600,
    "start_time": "2022-05-31T20:05:23.849Z"
   },
   {
    "duration": 190,
    "start_time": "2022-05-31T20:06:35.439Z"
   },
   {
    "duration": 39,
    "start_time": "2022-05-31T20:13:33.317Z"
   },
   {
    "duration": 112,
    "start_time": "2022-05-31T20:14:01.613Z"
   },
   {
    "duration": 3,
    "start_time": "2022-05-31T20:14:06.453Z"
   },
   {
    "duration": 24,
    "start_time": "2022-05-31T20:14:10.093Z"
   },
   {
    "duration": 4,
    "start_time": "2022-05-31T20:14:59.767Z"
   },
   {
    "duration": 19,
    "start_time": "2022-05-31T20:15:02.777Z"
   },
   {
    "duration": 19,
    "start_time": "2022-05-31T20:22:11.453Z"
   },
   {
    "duration": 17,
    "start_time": "2022-05-31T20:27:57.572Z"
   },
   {
    "duration": 4,
    "start_time": "2022-05-31T20:45:04.881Z"
   },
   {
    "duration": 20,
    "start_time": "2022-05-31T20:45:40.690Z"
   },
   {
    "duration": 5,
    "start_time": "2022-05-31T20:51:24.647Z"
   },
   {
    "duration": 3,
    "start_time": "2022-05-31T20:54:13.400Z"
   },
   {
    "duration": 18,
    "start_time": "2022-05-31T20:55:07.098Z"
   },
   {
    "duration": 21,
    "start_time": "2022-05-31T20:57:01.313Z"
   },
   {
    "duration": 5,
    "start_time": "2022-05-31T20:57:49.623Z"
   },
   {
    "duration": 17,
    "start_time": "2022-05-31T20:58:24.166Z"
   },
   {
    "duration": 70,
    "start_time": "2022-06-01T20:42:09.431Z"
   },
   {
    "duration": 1321,
    "start_time": "2022-06-01T20:42:19.432Z"
   },
   {
    "duration": 191,
    "start_time": "2022-06-01T20:42:20.755Z"
   },
   {
    "duration": 4,
    "start_time": "2022-06-01T20:42:20.948Z"
   },
   {
    "duration": 24,
    "start_time": "2022-06-01T20:42:20.955Z"
   },
   {
    "duration": 25,
    "start_time": "2022-06-01T20:42:20.981Z"
   },
   {
    "duration": 20,
    "start_time": "2022-06-01T20:42:21.008Z"
   },
   {
    "duration": 36,
    "start_time": "2022-06-01T20:42:21.029Z"
   },
   {
    "duration": 20,
    "start_time": "2022-06-01T20:42:21.067Z"
   },
   {
    "duration": 6,
    "start_time": "2022-06-01T20:42:21.089Z"
   },
   {
    "duration": 11,
    "start_time": "2022-06-01T20:42:21.097Z"
   },
   {
    "duration": 59,
    "start_time": "2022-06-01T20:42:21.110Z"
   },
   {
    "duration": 5,
    "start_time": "2022-06-01T20:42:21.171Z"
   },
   {
    "duration": 24,
    "start_time": "2022-06-01T20:42:21.178Z"
   },
   {
    "duration": 15,
    "start_time": "2022-06-01T20:42:21.204Z"
   },
   {
    "duration": 25,
    "start_time": "2022-06-01T20:44:02.770Z"
   },
   {
    "duration": 119,
    "start_time": "2022-06-01T20:44:12.760Z"
   },
   {
    "duration": 14,
    "start_time": "2022-06-01T20:44:32.598Z"
   },
   {
    "duration": 12,
    "start_time": "2022-06-01T20:46:44.208Z"
   },
   {
    "duration": 13,
    "start_time": "2022-06-01T20:47:18.291Z"
   },
   {
    "duration": 29,
    "start_time": "2022-06-01T20:50:43.544Z"
   },
   {
    "duration": 21,
    "start_time": "2022-06-01T20:51:06.378Z"
   },
   {
    "duration": 28,
    "start_time": "2022-06-01T20:51:29.191Z"
   },
   {
    "duration": 29,
    "start_time": "2022-06-01T20:51:35.489Z"
   },
   {
    "duration": 26,
    "start_time": "2022-06-01T20:51:40.124Z"
   },
   {
    "duration": 22,
    "start_time": "2022-06-01T20:51:45.724Z"
   },
   {
    "duration": 20,
    "start_time": "2022-06-01T20:51:50.530Z"
   },
   {
    "duration": 15,
    "start_time": "2022-06-01T20:51:59.793Z"
   },
   {
    "duration": 23,
    "start_time": "2022-06-01T20:52:25.892Z"
   },
   {
    "duration": 24,
    "start_time": "2022-06-01T20:54:36.108Z"
   },
   {
    "duration": 22,
    "start_time": "2022-06-01T21:05:11.989Z"
   },
   {
    "duration": 35,
    "start_time": "2022-06-01T21:05:18.619Z"
   },
   {
    "duration": 28,
    "start_time": "2022-06-01T21:06:13.266Z"
   },
   {
    "duration": 29,
    "start_time": "2022-06-01T21:06:54.412Z"
   },
   {
    "duration": 51,
    "start_time": "2022-06-01T21:07:11.937Z"
   },
   {
    "duration": 30,
    "start_time": "2022-06-01T21:07:33.697Z"
   },
   {
    "duration": 24,
    "start_time": "2022-06-01T21:07:46.363Z"
   },
   {
    "duration": 28,
    "start_time": "2022-06-01T21:08:03.447Z"
   },
   {
    "duration": 27,
    "start_time": "2022-06-01T21:08:10.980Z"
   },
   {
    "duration": 34,
    "start_time": "2022-06-01T21:08:18.768Z"
   },
   {
    "duration": 36,
    "start_time": "2022-06-01T21:08:27.224Z"
   },
   {
    "duration": 52,
    "start_time": "2022-06-01T21:08:43.158Z"
   },
   {
    "duration": 24,
    "start_time": "2022-06-01T21:08:56.423Z"
   },
   {
    "duration": 20,
    "start_time": "2022-06-01T21:09:09.588Z"
   },
   {
    "duration": 16,
    "start_time": "2022-06-01T21:09:31.868Z"
   },
   {
    "duration": 24,
    "start_time": "2022-06-01T21:09:39.312Z"
   },
   {
    "duration": 26,
    "start_time": "2022-06-01T21:10:03.557Z"
   },
   {
    "duration": 23,
    "start_time": "2022-06-01T21:10:29.635Z"
   },
   {
    "duration": 36,
    "start_time": "2022-06-01T21:10:37.962Z"
   },
   {
    "duration": 1184,
    "start_time": "2022-06-02T19:11:33.331Z"
   },
   {
    "duration": 195,
    "start_time": "2022-06-02T19:11:34.517Z"
   },
   {
    "duration": 4,
    "start_time": "2022-06-02T19:11:34.713Z"
   },
   {
    "duration": 25,
    "start_time": "2022-06-02T19:11:34.719Z"
   },
   {
    "duration": 17,
    "start_time": "2022-06-02T19:11:34.746Z"
   },
   {
    "duration": 17,
    "start_time": "2022-06-02T19:11:34.764Z"
   },
   {
    "duration": 4,
    "start_time": "2022-06-02T19:11:34.792Z"
   },
   {
    "duration": 21,
    "start_time": "2022-06-02T19:11:34.797Z"
   },
   {
    "duration": 4,
    "start_time": "2022-06-02T19:11:34.820Z"
   },
   {
    "duration": 13,
    "start_time": "2022-06-02T19:11:34.826Z"
   },
   {
    "duration": 20,
    "start_time": "2022-06-02T19:11:34.840Z"
   },
   {
    "duration": 3,
    "start_time": "2022-06-02T19:11:34.862Z"
   },
   {
    "duration": 17,
    "start_time": "2022-06-02T19:11:34.891Z"
   },
   {
    "duration": 25,
    "start_time": "2022-06-02T19:11:34.910Z"
   },
   {
    "duration": 6,
    "start_time": "2022-06-02T19:11:34.937Z"
   },
   {
    "duration": 111,
    "start_time": "2022-06-02T19:15:38.405Z"
   },
   {
    "duration": 22,
    "start_time": "2022-06-02T19:16:08.468Z"
   },
   {
    "duration": 166,
    "start_time": "2022-06-02T19:16:15.376Z"
   },
   {
    "duration": 113,
    "start_time": "2022-06-02T19:17:46.184Z"
   },
   {
    "duration": 7,
    "start_time": "2022-06-02T19:20:22.866Z"
   },
   {
    "duration": 12,
    "start_time": "2022-06-02T19:20:54.957Z"
   },
   {
    "duration": 8,
    "start_time": "2022-06-02T19:21:03.836Z"
   },
   {
    "duration": 496,
    "start_time": "2022-06-02T19:23:35.344Z"
   },
   {
    "duration": 5,
    "start_time": "2022-06-02T19:24:14.506Z"
   },
   {
    "duration": 330,
    "start_time": "2022-06-02T19:24:55.163Z"
   },
   {
    "duration": 268,
    "start_time": "2022-06-02T19:25:29.976Z"
   },
   {
    "duration": 253,
    "start_time": "2022-06-02T19:25:53.435Z"
   },
   {
    "duration": 242,
    "start_time": "2022-06-02T19:26:09.806Z"
   },
   {
    "duration": 244,
    "start_time": "2022-06-02T19:36:50.135Z"
   },
   {
    "duration": 266,
    "start_time": "2022-06-02T19:42:47.667Z"
   },
   {
    "duration": 152,
    "start_time": "2022-06-02T19:42:57.758Z"
   },
   {
    "duration": 385,
    "start_time": "2022-06-02T19:43:27.997Z"
   },
   {
    "duration": 247,
    "start_time": "2022-06-02T19:43:35.066Z"
   },
   {
    "duration": 326,
    "start_time": "2022-06-02T19:43:40.505Z"
   },
   {
    "duration": 312,
    "start_time": "2022-06-02T19:47:27.158Z"
   },
   {
    "duration": 383,
    "start_time": "2022-06-02T19:55:35.675Z"
   },
   {
    "duration": 337,
    "start_time": "2022-06-02T19:56:02.535Z"
   },
   {
    "duration": 343,
    "start_time": "2022-06-02T20:16:36.566Z"
   },
   {
    "duration": 14,
    "start_time": "2022-06-02T20:23:01.692Z"
   },
   {
    "duration": 16,
    "start_time": "2022-06-02T20:23:11.763Z"
   },
   {
    "duration": 13,
    "start_time": "2022-06-02T20:23:27.403Z"
   },
   {
    "duration": 105,
    "start_time": "2022-06-02T20:24:59.873Z"
   },
   {
    "duration": 150,
    "start_time": "2022-06-02T20:26:01.160Z"
   },
   {
    "duration": 108,
    "start_time": "2022-06-02T20:28:51.252Z"
   },
   {
    "duration": 104,
    "start_time": "2022-06-02T20:29:10.723Z"
   },
   {
    "duration": 111,
    "start_time": "2022-06-02T20:29:25.256Z"
   },
   {
    "duration": 111,
    "start_time": "2022-06-02T20:29:45.494Z"
   },
   {
    "duration": 108,
    "start_time": "2022-06-02T20:31:28.022Z"
   },
   {
    "duration": 5,
    "start_time": "2022-06-02T20:32:05.001Z"
   },
   {
    "duration": 127,
    "start_time": "2022-06-02T20:34:46.292Z"
   },
   {
    "duration": 122,
    "start_time": "2022-06-02T20:36:21.673Z"
   },
   {
    "duration": 116,
    "start_time": "2022-06-02T20:37:02.032Z"
   },
   {
    "duration": 219,
    "start_time": "2022-06-02T20:37:34.972Z"
   },
   {
    "duration": 5,
    "start_time": "2022-06-02T20:39:21.372Z"
   },
   {
    "duration": 207,
    "start_time": "2022-06-02T20:50:49.710Z"
   },
   {
    "duration": 124,
    "start_time": "2022-06-02T20:54:24.335Z"
   },
   {
    "duration": 7,
    "start_time": "2022-06-02T20:58:05.550Z"
   },
   {
    "duration": 9,
    "start_time": "2022-06-02T21:00:31.245Z"
   },
   {
    "duration": 6,
    "start_time": "2022-06-02T21:03:24.550Z"
   },
   {
    "duration": 30,
    "start_time": "2022-06-02T21:05:01.195Z"
   },
   {
    "duration": 26,
    "start_time": "2022-06-02T21:08:09.166Z"
   },
   {
    "duration": 24,
    "start_time": "2022-06-02T21:08:20.121Z"
   },
   {
    "duration": 25,
    "start_time": "2022-06-02T21:08:24.147Z"
   },
   {
    "duration": 27,
    "start_time": "2022-06-02T21:08:30.015Z"
   },
   {
    "duration": 25,
    "start_time": "2022-06-02T21:09:22.456Z"
   },
   {
    "duration": 26,
    "start_time": "2022-06-02T21:09:34.005Z"
   },
   {
    "duration": 34,
    "start_time": "2022-06-02T21:09:46.869Z"
   },
   {
    "duration": 44,
    "start_time": "2022-06-02T21:10:21.476Z"
   },
   {
    "duration": 26,
    "start_time": "2022-06-02T21:10:32.835Z"
   },
   {
    "duration": 29,
    "start_time": "2022-06-02T21:11:06.385Z"
   },
   {
    "duration": 9,
    "start_time": "2022-06-02T21:14:41.573Z"
   },
   {
    "duration": 10,
    "start_time": "2022-06-02T21:15:10.398Z"
   },
   {
    "duration": 11,
    "start_time": "2022-06-02T21:15:55.577Z"
   },
   {
    "duration": 12,
    "start_time": "2022-06-02T21:16:07.137Z"
   },
   {
    "duration": 9,
    "start_time": "2022-06-02T21:18:15.641Z"
   },
   {
    "duration": 1135,
    "start_time": "2022-06-02T21:23:58.097Z"
   },
   {
    "duration": 77,
    "start_time": "2022-06-02T21:23:59.234Z"
   },
   {
    "duration": 4,
    "start_time": "2022-06-02T21:23:59.313Z"
   },
   {
    "duration": 23,
    "start_time": "2022-06-02T21:23:59.318Z"
   },
   {
    "duration": 17,
    "start_time": "2022-06-02T21:23:59.342Z"
   },
   {
    "duration": 34,
    "start_time": "2022-06-02T21:23:59.361Z"
   },
   {
    "duration": 4,
    "start_time": "2022-06-02T21:23:59.397Z"
   },
   {
    "duration": 22,
    "start_time": "2022-06-02T21:23:59.403Z"
   },
   {
    "duration": 5,
    "start_time": "2022-06-02T21:23:59.426Z"
   },
   {
    "duration": 5,
    "start_time": "2022-06-02T21:23:59.435Z"
   },
   {
    "duration": 21,
    "start_time": "2022-06-02T21:23:59.441Z"
   },
   {
    "duration": 4,
    "start_time": "2022-06-02T21:23:59.493Z"
   },
   {
    "duration": 24,
    "start_time": "2022-06-02T21:23:59.499Z"
   },
   {
    "duration": 31,
    "start_time": "2022-06-02T21:23:59.525Z"
   },
   {
    "duration": 238,
    "start_time": "2022-06-02T21:23:59.558Z"
   },
   {
    "duration": 126,
    "start_time": "2022-06-02T21:23:59.797Z"
   },
   {
    "duration": 6,
    "start_time": "2022-06-02T21:23:59.924Z"
   },
   {
    "duration": 11,
    "start_time": "2022-06-02T21:23:59.932Z"
   },
   {
    "duration": 459,
    "start_time": "2022-06-02T21:23:59.944Z"
   },
   {
    "duration": 305,
    "start_time": "2022-06-02T21:24:00.406Z"
   },
   {
    "duration": 370,
    "start_time": "2022-06-02T21:24:00.713Z"
   },
   {
    "duration": 286,
    "start_time": "2022-06-02T21:24:01.084Z"
   },
   {
    "duration": 423,
    "start_time": "2022-06-02T21:24:01.372Z"
   },
   {
    "duration": 14,
    "start_time": "2022-06-02T21:24:01.796Z"
   },
   {
    "duration": 163,
    "start_time": "2022-06-02T21:24:01.812Z"
   },
   {
    "duration": 7,
    "start_time": "2022-06-02T21:24:01.977Z"
   },
   {
    "duration": 138,
    "start_time": "2022-06-02T21:24:01.992Z"
   },
   {
    "duration": 5,
    "start_time": "2022-06-02T21:24:02.132Z"
   },
   {
    "duration": 227,
    "start_time": "2022-06-02T21:24:02.140Z"
   },
   {
    "duration": 138,
    "start_time": "2022-06-02T21:24:02.369Z"
   },
   {
    "duration": 6,
    "start_time": "2022-06-02T21:24:02.509Z"
   },
   {
    "duration": 7,
    "start_time": "2022-06-02T21:24:02.516Z"
   },
   {
    "duration": 28,
    "start_time": "2022-06-02T21:24:02.524Z"
   },
   {
    "duration": 41,
    "start_time": "2022-06-02T21:24:02.554Z"
   },
   {
    "duration": 1440,
    "start_time": "2022-06-03T08:10:24.291Z"
   },
   {
    "duration": 189,
    "start_time": "2022-06-03T08:10:25.734Z"
   },
   {
    "duration": 4,
    "start_time": "2022-06-03T08:10:25.924Z"
   },
   {
    "duration": 27,
    "start_time": "2022-06-03T08:10:25.931Z"
   },
   {
    "duration": 19,
    "start_time": "2022-06-03T08:10:25.960Z"
   },
   {
    "duration": 47,
    "start_time": "2022-06-03T08:10:25.981Z"
   },
   {
    "duration": 3,
    "start_time": "2022-06-03T08:10:26.029Z"
   },
   {
    "duration": 25,
    "start_time": "2022-06-03T08:10:26.034Z"
   },
   {
    "duration": 8,
    "start_time": "2022-06-03T08:10:26.061Z"
   },
   {
    "duration": 5,
    "start_time": "2022-06-03T08:10:26.072Z"
   },
   {
    "duration": 54,
    "start_time": "2022-06-03T08:10:26.079Z"
   },
   {
    "duration": 4,
    "start_time": "2022-06-03T08:10:26.134Z"
   },
   {
    "duration": 20,
    "start_time": "2022-06-03T08:10:26.139Z"
   },
   {
    "duration": 29,
    "start_time": "2022-06-03T08:10:26.161Z"
   },
   {
    "duration": 246,
    "start_time": "2022-06-03T08:10:26.192Z"
   },
   {
    "duration": 133,
    "start_time": "2022-06-03T08:10:26.439Z"
   },
   {
    "duration": 7,
    "start_time": "2022-06-03T08:10:26.574Z"
   },
   {
    "duration": 12,
    "start_time": "2022-06-03T08:10:26.583Z"
   },
   {
    "duration": 486,
    "start_time": "2022-06-03T08:10:26.596Z"
   },
   {
    "duration": 339,
    "start_time": "2022-06-03T08:10:27.083Z"
   },
   {
    "duration": 439,
    "start_time": "2022-06-03T08:10:27.424Z"
   },
   {
    "duration": 273,
    "start_time": "2022-06-03T08:10:27.865Z"
   },
   {
    "duration": 385,
    "start_time": "2022-06-03T08:10:28.140Z"
   },
   {
    "duration": 12,
    "start_time": "2022-06-03T08:10:28.526Z"
   },
   {
    "duration": 137,
    "start_time": "2022-06-03T08:10:28.539Z"
   },
   {
    "duration": 4,
    "start_time": "2022-06-03T08:10:28.678Z"
   },
   {
    "duration": 153,
    "start_time": "2022-06-03T08:10:28.684Z"
   },
   {
    "duration": 5,
    "start_time": "2022-06-03T08:10:28.841Z"
   },
   {
    "duration": 266,
    "start_time": "2022-06-03T08:10:28.848Z"
   },
   {
    "duration": 154,
    "start_time": "2022-06-03T08:10:29.116Z"
   },
   {
    "duration": 6,
    "start_time": "2022-06-03T08:10:29.272Z"
   },
   {
    "duration": 17,
    "start_time": "2022-06-03T08:10:29.280Z"
   },
   {
    "duration": 43,
    "start_time": "2022-06-03T08:10:29.298Z"
   },
   {
    "duration": 12,
    "start_time": "2022-06-03T08:10:29.343Z"
   },
   {
    "duration": 31,
    "start_time": "2022-06-03T08:14:01.065Z"
   },
   {
    "duration": 44,
    "start_time": "2022-06-03T08:14:11.292Z"
   },
   {
    "duration": 45,
    "start_time": "2022-06-03T08:15:51.399Z"
   },
   {
    "duration": 38,
    "start_time": "2022-06-03T08:16:10.240Z"
   },
   {
    "duration": 65,
    "start_time": "2022-06-03T08:16:30.850Z"
   },
   {
    "duration": 38,
    "start_time": "2022-06-03T08:18:09.836Z"
   },
   {
    "duration": 37,
    "start_time": "2022-06-03T08:18:50.509Z"
   },
   {
    "duration": 40,
    "start_time": "2022-06-03T08:19:06.785Z"
   },
   {
    "duration": 43,
    "start_time": "2022-06-03T08:19:28.349Z"
   },
   {
    "duration": 198,
    "start_time": "2022-06-03T08:20:12.464Z"
   },
   {
    "duration": 138,
    "start_time": "2022-06-03T08:20:22.879Z"
   },
   {
    "duration": 138,
    "start_time": "2022-06-03T08:20:37.729Z"
   },
   {
    "duration": 46,
    "start_time": "2022-06-03T08:21:23.761Z"
   },
   {
    "duration": 31,
    "start_time": "2022-06-03T08:21:41.894Z"
   },
   {
    "duration": 11,
    "start_time": "2022-06-03T08:21:57.567Z"
   },
   {
    "duration": 149,
    "start_time": "2022-06-03T08:22:23.353Z"
   },
   {
    "duration": 15,
    "start_time": "2022-06-03T08:22:37.426Z"
   },
   {
    "duration": 16,
    "start_time": "2022-06-03T08:24:24.886Z"
   },
   {
    "duration": 3,
    "start_time": "2022-06-03T08:27:44.130Z"
   },
   {
    "duration": 3,
    "start_time": "2022-06-03T08:35:16.732Z"
   },
   {
    "duration": 6,
    "start_time": "2022-06-03T08:50:05.461Z"
   },
   {
    "duration": 6,
    "start_time": "2022-06-03T08:50:32.466Z"
   },
   {
    "duration": 1224,
    "start_time": "2022-06-03T08:50:53.228Z"
   },
   {
    "duration": 72,
    "start_time": "2022-06-03T08:50:54.454Z"
   },
   {
    "duration": 4,
    "start_time": "2022-06-03T08:50:54.528Z"
   },
   {
    "duration": 25,
    "start_time": "2022-06-03T08:50:54.534Z"
   },
   {
    "duration": 20,
    "start_time": "2022-06-03T08:50:54.561Z"
   },
   {
    "duration": 48,
    "start_time": "2022-06-03T08:50:54.583Z"
   },
   {
    "duration": 4,
    "start_time": "2022-06-03T08:50:54.633Z"
   },
   {
    "duration": 27,
    "start_time": "2022-06-03T08:50:54.639Z"
   },
   {
    "duration": 7,
    "start_time": "2022-06-03T08:50:54.668Z"
   },
   {
    "duration": 22,
    "start_time": "2022-06-03T08:50:54.680Z"
   },
   {
    "duration": 45,
    "start_time": "2022-06-03T08:50:54.705Z"
   },
   {
    "duration": 10,
    "start_time": "2022-06-03T08:50:54.753Z"
   },
   {
    "duration": 29,
    "start_time": "2022-06-03T08:50:54.765Z"
   },
   {
    "duration": 62,
    "start_time": "2022-06-03T08:50:54.796Z"
   },
   {
    "duration": 264,
    "start_time": "2022-06-03T08:50:54.861Z"
   },
   {
    "duration": 140,
    "start_time": "2022-06-03T08:50:55.126Z"
   },
   {
    "duration": 7,
    "start_time": "2022-06-03T08:50:55.268Z"
   },
   {
    "duration": 17,
    "start_time": "2022-06-03T08:50:55.277Z"
   },
   {
    "duration": 509,
    "start_time": "2022-06-03T08:50:55.295Z"
   },
   {
    "duration": 372,
    "start_time": "2022-06-03T08:50:55.806Z"
   },
   {
    "duration": 373,
    "start_time": "2022-06-03T08:50:56.180Z"
   },
   {
    "duration": 283,
    "start_time": "2022-06-03T08:50:56.554Z"
   },
   {
    "duration": 417,
    "start_time": "2022-06-03T08:50:56.839Z"
   },
   {
    "duration": 13,
    "start_time": "2022-06-03T08:50:57.258Z"
   },
   {
    "duration": 148,
    "start_time": "2022-06-03T08:50:57.273Z"
   },
   {
    "duration": 5,
    "start_time": "2022-06-03T08:50:57.426Z"
   },
   {
    "duration": 173,
    "start_time": "2022-06-03T08:50:57.433Z"
   },
   {
    "duration": 17,
    "start_time": "2022-06-03T08:50:57.609Z"
   },
   {
    "duration": 242,
    "start_time": "2022-06-03T08:50:57.628Z"
   },
   {
    "duration": 176,
    "start_time": "2022-06-03T08:50:57.872Z"
   },
   {
    "duration": 8,
    "start_time": "2022-06-03T08:50:58.050Z"
   },
   {
    "duration": 10,
    "start_time": "2022-06-03T08:50:58.060Z"
   },
   {
    "duration": 66,
    "start_time": "2022-06-03T08:50:58.072Z"
   },
   {
    "duration": 13,
    "start_time": "2022-06-03T08:50:58.140Z"
   },
   {
    "duration": 7,
    "start_time": "2022-06-03T08:50:58.154Z"
   },
   {
    "duration": 109,
    "start_time": "2022-06-03T08:58:07.804Z"
   },
   {
    "duration": 7,
    "start_time": "2022-06-03T08:58:09.652Z"
   },
   {
    "duration": 8,
    "start_time": "2022-06-03T08:58:11.762Z"
   },
   {
    "duration": 5,
    "start_time": "2022-06-03T09:01:40.646Z"
   },
   {
    "duration": 4,
    "start_time": "2022-06-03T09:02:09.387Z"
   },
   {
    "duration": 5,
    "start_time": "2022-06-03T09:04:23.599Z"
   },
   {
    "duration": 829,
    "start_time": "2022-06-03T09:05:34.842Z"
   },
   {
    "duration": 13,
    "start_time": "2022-06-03T09:05:54.856Z"
   },
   {
    "duration": 52,
    "start_time": "2022-06-03T09:07:19.885Z"
   },
   {
    "duration": 50,
    "start_time": "2022-06-03T09:07:57.569Z"
   },
   {
    "duration": 34,
    "start_time": "2022-06-03T09:08:19.116Z"
   },
   {
    "duration": 660,
    "start_time": "2022-06-03T09:27:34.848Z"
   },
   {
    "duration": 21,
    "start_time": "2022-06-03T09:28:41.318Z"
   },
   {
    "duration": 20,
    "start_time": "2022-06-03T09:29:31.698Z"
   },
   {
    "duration": 15,
    "start_time": "2022-06-03T09:30:25.159Z"
   },
   {
    "duration": 3,
    "start_time": "2022-06-03T10:28:08.192Z"
   },
   {
    "duration": 4,
    "start_time": "2022-06-03T10:28:23.620Z"
   },
   {
    "duration": 5,
    "start_time": "2022-06-03T10:28:55.658Z"
   },
   {
    "duration": 1534,
    "start_time": "2022-06-04T16:42:11.052Z"
   },
   {
    "duration": 254,
    "start_time": "2022-06-04T16:42:15.455Z"
   },
   {
    "duration": 4,
    "start_time": "2022-06-04T16:42:18.622Z"
   },
   {
    "duration": 25,
    "start_time": "2022-06-04T16:42:22.813Z"
   },
   {
    "duration": 21,
    "start_time": "2022-06-04T16:42:27.736Z"
   },
   {
    "duration": 18,
    "start_time": "2022-06-04T16:42:32.957Z"
   },
   {
    "duration": 5,
    "start_time": "2022-06-04T16:42:39.718Z"
   },
   {
    "duration": 24,
    "start_time": "2022-06-04T16:42:42.651Z"
   },
   {
    "duration": 6,
    "start_time": "2022-06-04T16:42:48.966Z"
   },
   {
    "duration": 4,
    "start_time": "2022-06-04T16:42:51.918Z"
   },
   {
    "duration": 29,
    "start_time": "2022-06-04T16:42:54.874Z"
   },
   {
    "duration": 4,
    "start_time": "2022-06-04T16:43:00.974Z"
   },
   {
    "duration": 22,
    "start_time": "2022-06-04T16:43:04.317Z"
   },
   {
    "duration": 31,
    "start_time": "2022-06-04T16:43:15.646Z"
   },
   {
    "duration": 252,
    "start_time": "2022-06-04T16:43:35.321Z"
   }
  ],
  "kernelspec": {
   "display_name": "Python 3",
   "language": "python",
   "name": "python3"
  },
  "language_info": {
   "codemirror_mode": {
    "name": "ipython",
    "version": 3
   },
   "file_extension": ".py",
   "mimetype": "text/x-python",
   "name": "python",
   "nbconvert_exporter": "python",
   "pygments_lexer": "ipython3",
   "version": "3.7.6"
  },
  "toc": {
   "base_numbering": 1,
   "nav_menu": {
    "height": "202.986px",
    "width": "246.25px"
   },
   "number_sections": true,
   "sideBar": true,
   "skip_h1_title": true,
   "title_cell": "Содержание",
   "title_sidebar": "Contents",
   "toc_cell": true,
   "toc_position": {
    "height": "513.333px",
    "left": "302px",
    "top": "111.441px",
    "width": "257.292px"
   },
   "toc_section_display": true,
   "toc_window_display": true
  }
 },
 "nbformat": 4,
 "nbformat_minor": 2
}
