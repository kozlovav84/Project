{
 "cells": [
  {
   "cell_type": "markdown",
   "metadata": {
    "toc": true
   },
   "source": [
    "<h1>Содержание:<span class=\"tocSkip\"></span></h1>\n",
    "<div class=\"toc\"><ul class=\"toc-item\"><li><span><a href=\"#Описание-проекта\" data-toc-modified-id=\"Описание-проекта-1\"><span class=\"toc-item-num\">1&nbsp;&nbsp;</span>Описание проекта</a></span></li><li><span><a href=\"#Описание-данных\" data-toc-modified-id=\"Описание-данных-2\"><span class=\"toc-item-num\">2&nbsp;&nbsp;</span>Описание данных</a></span></li><li><span><a href=\"#Открываем-файл-с-данными-и-изучаем-общую-информацию\" data-toc-modified-id=\"Открываем-файл-с-данными-и-изучаем-общую-информацию-3\"><span class=\"toc-item-num\">3&nbsp;&nbsp;</span>Открываем файл с данными и изучаем общую информацию</a></span></li><li><span><a href=\"#Подготовка-данных\" data-toc-modified-id=\"Подготовка-данных-4\"><span class=\"toc-item-num\">4&nbsp;&nbsp;</span>Подготовка данных</a></span><ul class=\"toc-item\"><li><span><a href=\"#Приводим-названия-столбцов-к-нижнему-регистру\" data-toc-modified-id=\"Приводим-названия-столбцов-к-нижнему-регистру-4.1\"><span class=\"toc-item-num\">4.1&nbsp;&nbsp;</span>Приводим названия столбцов к нижнему регистру</a></span></li><li><span><a href=\"#Изменение-типов-данных-и-обработка-пропусков\" data-toc-modified-id=\"Изменение-типов-данных-и-обработка-пропусков-4.2\"><span class=\"toc-item-num\">4.2&nbsp;&nbsp;</span>Изменение типов данных и обработка пропусков</a></span></li><li><span><a href=\"#Расчёт-суммарных-продаж-во-всех-регионах\" data-toc-modified-id=\"Расчёт-суммарных-продаж-во-всех-регионах-4.3\"><span class=\"toc-item-num\">4.3&nbsp;&nbsp;</span>Расчёт суммарных продаж во всех регионах</a></span></li></ul></li><li><span><a href=\"#Исследовательский-анализ-данных\" data-toc-modified-id=\"Исследовательский-анализ-данных-5\"><span class=\"toc-item-num\">5&nbsp;&nbsp;</span>Исследовательский анализ данных</a></span><ul class=\"toc-item\"><li><span><a href=\"#Сколько-игр-выпускалось-в-разные-годы\" data-toc-modified-id=\"Сколько-игр-выпускалось-в-разные-годы-5.1\"><span class=\"toc-item-num\">5.1&nbsp;&nbsp;</span>Сколько игр выпускалось в разные годы</a></span></li><li><span><a href=\"#Изменение-продаж-по-платформам\" data-toc-modified-id=\"Изменение-продаж-по-платформам-5.2\"><span class=\"toc-item-num\">5.2&nbsp;&nbsp;</span>Изменение продаж по платформам</a></span></li><li><span><a href=\"#Определяем-актуальный-период\" data-toc-modified-id=\"Определяем-актуальный-период-5.3\"><span class=\"toc-item-num\">5.3&nbsp;&nbsp;</span>Определяем актуальный период</a></span></li><li><span><a href=\"#Выбор-потенциально-прибыльных-платформ\" data-toc-modified-id=\"Выбор-потенциально-прибыльных-платформ-5.4\"><span class=\"toc-item-num\">5.4&nbsp;&nbsp;</span>Выбор потенциально прибыльных платформ</a></span></li><li><span><a href=\"#График-«ящик-с-усами»-по-глобальным-продажам-игр-в-разбивке-по-платформам\" data-toc-modified-id=\"График-«ящик-с-усами»-по-глобальным-продажам-игр-в-разбивке-по-платформам-5.5\"><span class=\"toc-item-num\">5.5&nbsp;&nbsp;</span>График «ящик с усами» по глобальным продажам игр в разбивке по платформам</a></span></li><li><span><a href=\"#Влияние-пользователей-и-критиков-на-продажи-внутри-одной-популярной-платформы\" data-toc-modified-id=\"Влияние-пользователей-и-критиков-на-продажи-внутри-одной-популярной-платформы-5.6\"><span class=\"toc-item-num\">5.6&nbsp;&nbsp;</span>Влияние пользователей и критиков на продажи внутри одной популярной платформы</a></span></li><li><span><a href=\"#Распределение-игр-по-жанрам\" data-toc-modified-id=\"Распределение-игр-по-жанрам-5.7\"><span class=\"toc-item-num\">5.7&nbsp;&nbsp;</span>Распределение игр по жанрам</a></span></li></ul></li><li><span><a href=\"#Портрет-пользователя-каждого-региона\" data-toc-modified-id=\"Портрет-пользователя-каждого-региона-6\"><span class=\"toc-item-num\">6&nbsp;&nbsp;</span>Портрет пользователя каждого региона</a></span><ul class=\"toc-item\"><li><span><a href=\"#Распределение-по-платформам\" data-toc-modified-id=\"Распределение-по-платформам-6.1\"><span class=\"toc-item-num\">6.1&nbsp;&nbsp;</span>Распределение по платформам</a></span></li><li><span><a href=\"#Распределение-жанров\" data-toc-modified-id=\"Распределение-жанров-6.2\"><span class=\"toc-item-num\">6.2&nbsp;&nbsp;</span>Распределение жанров</a></span></li><li><span><a href=\"#Распределение-по-рейтингу-ESRP\" data-toc-modified-id=\"Распределение-по-рейтингу-ESRP-6.3\"><span class=\"toc-item-num\">6.3&nbsp;&nbsp;</span>Распределение по рейтингу ESRP</a></span></li></ul></li><li><span><a href=\"#Проверка-гипотез\" data-toc-modified-id=\"Проверка-гипотез-7\"><span class=\"toc-item-num\">7&nbsp;&nbsp;</span>Проверка гипотез</a></span><ul class=\"toc-item\"><li><span><a href=\"#Средние-пользовательские-рейтинги-платформ-Xbox-One-и-PC-одинаковые\" data-toc-modified-id=\"Средние-пользовательские-рейтинги-платформ-Xbox-One-и-PC-одинаковые-7.1\"><span class=\"toc-item-num\">7.1&nbsp;&nbsp;</span>Средние пользовательские рейтинги платформ Xbox One и PC одинаковые</a></span></li><li><span><a href=\"#Средние-пользовательские-рейтинги-жанров-Action--и-Sports--разные\" data-toc-modified-id=\"Средние-пользовательские-рейтинги-жанров-Action--и-Sports--разные-7.2\"><span class=\"toc-item-num\">7.2&nbsp;&nbsp;</span>Средние пользовательские рейтинги жанров Action  и Sports  разные</a></span></li></ul></li><li><span><a href=\"#Вывод:\" data-toc-modified-id=\"Вывод:-8\"><span class=\"toc-item-num\">8&nbsp;&nbsp;</span>Вывод:</a></span></li></ul></div>"
   ]
  },
  {
   "cell_type": "markdown",
   "metadata": {},
   "source": [
    "# Описание проекта"
   ]
  },
  {
   "cell_type": "markdown",
   "metadata": {},
   "source": [
    "Мы работаем в интернет-магазине «Стримчик», который продаёт по всему миру компьютерные игры. Из открытых источников доступны сторические данные о продажах игр, оценки пользователей и экспертов, жанры и платформы (например, Xboxили PlayStation). Нам нужно выявить определяющие успешность игры закономерности. Это позволит сделать ставку на потенциально популярный продукт и\n",
    "спланировать рекламные кампании.\n",
    "Перед нами данные до 2016 года. Мы планируем кампанию на 2017-й. Нужно отработать принцип работы с данными."
   ]
  },
  {
   "cell_type": "markdown",
   "metadata": {},
   "source": [
    "# Описание данных"
   ]
  },
  {
   "cell_type": "markdown",
   "metadata": {},
   "source": [
    "- Name — название игры;\n",
    "- Platform — платформа;\n",
    "- Year_of_Release — год выпуска;\n",
    "- Genre — жанр игры;\n",
    "- NA_sales — продажи в Северной Америке (миллионы проданных копий);\n",
    "- EU_sales — продажи в Европе (миллионы проданных копий);\n",
    "- JP_sales — продажи в Японии (миллионы проданных копий);\n",
    "- Other_sales — продажи в других странах (миллионы проданных копий);\n",
    "- Critic_Score — оценка критиков (максимум 100);\n",
    "- User_Score — оценка пользователей (максимум 10) \n",
    "- Rating — рейтинг от организации ESRB (англ. Entertainment Software Rating Board). Эта ассоциация определяет рейтинг компьютерных игр и присваивает им подходящую возрастную категорию."
   ]
  },
  {
   "cell_type": "markdown",
   "metadata": {},
   "source": [
    "# Открываем файл с данными и изучаем общую информацию"
   ]
  },
  {
   "cell_type": "code",
   "execution_count": 1,
   "metadata": {},
   "outputs": [
    {
     "name": "stdout",
     "output_type": "stream",
     "text": [
      "<class 'pandas.core.frame.DataFrame'>\n",
      "RangeIndex: 16715 entries, 0 to 16714\n",
      "Data columns (total 11 columns):\n",
      " #   Column           Non-Null Count  Dtype  \n",
      "---  ------           --------------  -----  \n",
      " 0   Name             16713 non-null  object \n",
      " 1   Platform         16715 non-null  object \n",
      " 2   Year_of_Release  16446 non-null  float64\n",
      " 3   Genre            16713 non-null  object \n",
      " 4   NA_sales         16715 non-null  float64\n",
      " 5   EU_sales         16715 non-null  float64\n",
      " 6   JP_sales         16715 non-null  float64\n",
      " 7   Other_sales      16715 non-null  float64\n",
      " 8   Critic_Score     8137 non-null   float64\n",
      " 9   User_Score       10014 non-null  object \n",
      " 10  Rating           9949 non-null   object \n",
      "dtypes: float64(6), object(5)\n",
      "memory usage: 1.4+ MB\n"
     ]
    },
    {
     "data": {
      "text/plain": [
       "None"
      ]
     },
     "metadata": {},
     "output_type": "display_data"
    },
    {
     "name": "stdout",
     "output_type": "stream",
     "text": [
      "==================================================\n",
      "\n"
     ]
    },
    {
     "data": {
      "text/html": [
       "<div>\n",
       "<style scoped>\n",
       "    .dataframe tbody tr th:only-of-type {\n",
       "        vertical-align: middle;\n",
       "    }\n",
       "\n",
       "    .dataframe tbody tr th {\n",
       "        vertical-align: top;\n",
       "    }\n",
       "\n",
       "    .dataframe thead th {\n",
       "        text-align: right;\n",
       "    }\n",
       "</style>\n",
       "<table border=\"1\" class=\"dataframe\">\n",
       "  <thead>\n",
       "    <tr style=\"text-align: right;\">\n",
       "      <th></th>\n",
       "      <th>Name</th>\n",
       "      <th>Platform</th>\n",
       "      <th>Year_of_Release</th>\n",
       "      <th>Genre</th>\n",
       "      <th>NA_sales</th>\n",
       "      <th>EU_sales</th>\n",
       "      <th>JP_sales</th>\n",
       "      <th>Other_sales</th>\n",
       "      <th>Critic_Score</th>\n",
       "      <th>User_Score</th>\n",
       "      <th>Rating</th>\n",
       "    </tr>\n",
       "  </thead>\n",
       "  <tbody>\n",
       "    <tr>\n",
       "      <th>0</th>\n",
       "      <td>Wii Sports</td>\n",
       "      <td>Wii</td>\n",
       "      <td>2006.0</td>\n",
       "      <td>Sports</td>\n",
       "      <td>41.36</td>\n",
       "      <td>28.96</td>\n",
       "      <td>3.77</td>\n",
       "      <td>8.45</td>\n",
       "      <td>76.0</td>\n",
       "      <td>8</td>\n",
       "      <td>E</td>\n",
       "    </tr>\n",
       "    <tr>\n",
       "      <th>1</th>\n",
       "      <td>Super Mario Bros.</td>\n",
       "      <td>NES</td>\n",
       "      <td>1985.0</td>\n",
       "      <td>Platform</td>\n",
       "      <td>29.08</td>\n",
       "      <td>3.58</td>\n",
       "      <td>6.81</td>\n",
       "      <td>0.77</td>\n",
       "      <td>NaN</td>\n",
       "      <td>NaN</td>\n",
       "      <td>NaN</td>\n",
       "    </tr>\n",
       "    <tr>\n",
       "      <th>2</th>\n",
       "      <td>Mario Kart Wii</td>\n",
       "      <td>Wii</td>\n",
       "      <td>2008.0</td>\n",
       "      <td>Racing</td>\n",
       "      <td>15.68</td>\n",
       "      <td>12.76</td>\n",
       "      <td>3.79</td>\n",
       "      <td>3.29</td>\n",
       "      <td>82.0</td>\n",
       "      <td>8.3</td>\n",
       "      <td>E</td>\n",
       "    </tr>\n",
       "    <tr>\n",
       "      <th>3</th>\n",
       "      <td>Wii Sports Resort</td>\n",
       "      <td>Wii</td>\n",
       "      <td>2009.0</td>\n",
       "      <td>Sports</td>\n",
       "      <td>15.61</td>\n",
       "      <td>10.93</td>\n",
       "      <td>3.28</td>\n",
       "      <td>2.95</td>\n",
       "      <td>80.0</td>\n",
       "      <td>8</td>\n",
       "      <td>E</td>\n",
       "    </tr>\n",
       "    <tr>\n",
       "      <th>4</th>\n",
       "      <td>Pokemon Red/Pokemon Blue</td>\n",
       "      <td>GB</td>\n",
       "      <td>1996.0</td>\n",
       "      <td>Role-Playing</td>\n",
       "      <td>11.27</td>\n",
       "      <td>8.89</td>\n",
       "      <td>10.22</td>\n",
       "      <td>1.00</td>\n",
       "      <td>NaN</td>\n",
       "      <td>NaN</td>\n",
       "      <td>NaN</td>\n",
       "    </tr>\n",
       "    <tr>\n",
       "      <th>5</th>\n",
       "      <td>Tetris</td>\n",
       "      <td>GB</td>\n",
       "      <td>1989.0</td>\n",
       "      <td>Puzzle</td>\n",
       "      <td>23.20</td>\n",
       "      <td>2.26</td>\n",
       "      <td>4.22</td>\n",
       "      <td>0.58</td>\n",
       "      <td>NaN</td>\n",
       "      <td>NaN</td>\n",
       "      <td>NaN</td>\n",
       "    </tr>\n",
       "    <tr>\n",
       "      <th>6</th>\n",
       "      <td>New Super Mario Bros.</td>\n",
       "      <td>DS</td>\n",
       "      <td>2006.0</td>\n",
       "      <td>Platform</td>\n",
       "      <td>11.28</td>\n",
       "      <td>9.14</td>\n",
       "      <td>6.50</td>\n",
       "      <td>2.88</td>\n",
       "      <td>89.0</td>\n",
       "      <td>8.5</td>\n",
       "      <td>E</td>\n",
       "    </tr>\n",
       "    <tr>\n",
       "      <th>7</th>\n",
       "      <td>Wii Play</td>\n",
       "      <td>Wii</td>\n",
       "      <td>2006.0</td>\n",
       "      <td>Misc</td>\n",
       "      <td>13.96</td>\n",
       "      <td>9.18</td>\n",
       "      <td>2.93</td>\n",
       "      <td>2.84</td>\n",
       "      <td>58.0</td>\n",
       "      <td>6.6</td>\n",
       "      <td>E</td>\n",
       "    </tr>\n",
       "    <tr>\n",
       "      <th>8</th>\n",
       "      <td>New Super Mario Bros. Wii</td>\n",
       "      <td>Wii</td>\n",
       "      <td>2009.0</td>\n",
       "      <td>Platform</td>\n",
       "      <td>14.44</td>\n",
       "      <td>6.94</td>\n",
       "      <td>4.70</td>\n",
       "      <td>2.24</td>\n",
       "      <td>87.0</td>\n",
       "      <td>8.4</td>\n",
       "      <td>E</td>\n",
       "    </tr>\n",
       "    <tr>\n",
       "      <th>9</th>\n",
       "      <td>Duck Hunt</td>\n",
       "      <td>NES</td>\n",
       "      <td>1984.0</td>\n",
       "      <td>Shooter</td>\n",
       "      <td>26.93</td>\n",
       "      <td>0.63</td>\n",
       "      <td>0.28</td>\n",
       "      <td>0.47</td>\n",
       "      <td>NaN</td>\n",
       "      <td>NaN</td>\n",
       "      <td>NaN</td>\n",
       "    </tr>\n",
       "  </tbody>\n",
       "</table>\n",
       "</div>"
      ],
      "text/plain": [
       "                        Name Platform  Year_of_Release         Genre  \\\n",
       "0                 Wii Sports      Wii           2006.0        Sports   \n",
       "1          Super Mario Bros.      NES           1985.0      Platform   \n",
       "2             Mario Kart Wii      Wii           2008.0        Racing   \n",
       "3          Wii Sports Resort      Wii           2009.0        Sports   \n",
       "4   Pokemon Red/Pokemon Blue       GB           1996.0  Role-Playing   \n",
       "5                     Tetris       GB           1989.0        Puzzle   \n",
       "6      New Super Mario Bros.       DS           2006.0      Platform   \n",
       "7                   Wii Play      Wii           2006.0          Misc   \n",
       "8  New Super Mario Bros. Wii      Wii           2009.0      Platform   \n",
       "9                  Duck Hunt      NES           1984.0       Shooter   \n",
       "\n",
       "   NA_sales  EU_sales  JP_sales  Other_sales  Critic_Score User_Score Rating  \n",
       "0     41.36     28.96      3.77         8.45          76.0          8      E  \n",
       "1     29.08      3.58      6.81         0.77           NaN        NaN    NaN  \n",
       "2     15.68     12.76      3.79         3.29          82.0        8.3      E  \n",
       "3     15.61     10.93      3.28         2.95          80.0          8      E  \n",
       "4     11.27      8.89     10.22         1.00           NaN        NaN    NaN  \n",
       "5     23.20      2.26      4.22         0.58           NaN        NaN    NaN  \n",
       "6     11.28      9.14      6.50         2.88          89.0        8.5      E  \n",
       "7     13.96      9.18      2.93         2.84          58.0        6.6      E  \n",
       "8     14.44      6.94      4.70         2.24          87.0        8.4      E  \n",
       "9     26.93      0.63      0.28         0.47           NaN        NaN    NaN  "
      ]
     },
     "execution_count": 1,
     "metadata": {},
     "output_type": "execute_result"
    }
   ],
   "source": [
    "import pandas as pd\n",
    "import numpy as np\n",
    "import matplotlib.pyplot as plt\n",
    "from scipy import stats as st\n",
    "import seaborn as sns\n",
    "\n",
    "try:\n",
    "    data = pd.read_csv('games.csv')\n",
    "except:\n",
    "    data = pd.read_csv('/datasets/games.csv')\n",
    "#Поскольку проект выполняется локально, то для того, чтобы он без проблем загрузился в тренажёре применим try-except    \n",
    "\n",
    "display(data.info())\n",
    "print ('=' * 50)\n",
    "print ()\n",
    "data.head(10)"
   ]
  },
  {
   "cell_type": "markdown",
   "metadata": {},
   "source": [
    "Вывод: необходимо привести названия всех столбцов к нижнему регистру, в столбцах `data[['Year_of_Release'], ['Critic_Score']]` изменить тип данных на `int`, в `data[User_Score]` на `float64`, заполнить пропуски там, где это будет целесообразно. "
   ]
  },
  {
   "cell_type": "markdown",
   "metadata": {},
   "source": [
    "# Подготовка данных"
   ]
  },
  {
   "cell_type": "markdown",
   "metadata": {},
   "source": [
    "В рамках текущего раздела мы:\n",
    "- приведём названия столбцов к нижнему регистру:\n",
    "- преобразуем данные в нужные типы:\n",
    "- обработаем пропуски там где это необходимо и целесообразно:\n",
    "- посчитаем суммарные продажи во всех регионах и запишем их в отдельный столбец."
   ]
  },
  {
   "cell_type": "markdown",
   "metadata": {},
   "source": [
    "## Приводим названия столбцов к нижнему регистру"
   ]
  },
  {
   "cell_type": "code",
   "execution_count": 2,
   "metadata": {},
   "outputs": [
    {
     "data": {
      "text/html": [
       "<div>\n",
       "<style scoped>\n",
       "    .dataframe tbody tr th:only-of-type {\n",
       "        vertical-align: middle;\n",
       "    }\n",
       "\n",
       "    .dataframe tbody tr th {\n",
       "        vertical-align: top;\n",
       "    }\n",
       "\n",
       "    .dataframe thead th {\n",
       "        text-align: right;\n",
       "    }\n",
       "</style>\n",
       "<table border=\"1\" class=\"dataframe\">\n",
       "  <thead>\n",
       "    <tr style=\"text-align: right;\">\n",
       "      <th></th>\n",
       "      <th>name</th>\n",
       "      <th>platform</th>\n",
       "      <th>year_of_release</th>\n",
       "      <th>genre</th>\n",
       "      <th>na_sales</th>\n",
       "      <th>eu_sales</th>\n",
       "      <th>jp_sales</th>\n",
       "      <th>other_sales</th>\n",
       "      <th>critic_score</th>\n",
       "      <th>user_score</th>\n",
       "      <th>rating</th>\n",
       "    </tr>\n",
       "  </thead>\n",
       "  <tbody>\n",
       "    <tr>\n",
       "      <th>0</th>\n",
       "      <td>Wii Sports</td>\n",
       "      <td>Wii</td>\n",
       "      <td>2006.0</td>\n",
       "      <td>Sports</td>\n",
       "      <td>41.36</td>\n",
       "      <td>28.96</td>\n",
       "      <td>3.77</td>\n",
       "      <td>8.45</td>\n",
       "      <td>76.0</td>\n",
       "      <td>8</td>\n",
       "      <td>E</td>\n",
       "    </tr>\n",
       "    <tr>\n",
       "      <th>1</th>\n",
       "      <td>Super Mario Bros.</td>\n",
       "      <td>NES</td>\n",
       "      <td>1985.0</td>\n",
       "      <td>Platform</td>\n",
       "      <td>29.08</td>\n",
       "      <td>3.58</td>\n",
       "      <td>6.81</td>\n",
       "      <td>0.77</td>\n",
       "      <td>NaN</td>\n",
       "      <td>NaN</td>\n",
       "      <td>NaN</td>\n",
       "    </tr>\n",
       "    <tr>\n",
       "      <th>2</th>\n",
       "      <td>Mario Kart Wii</td>\n",
       "      <td>Wii</td>\n",
       "      <td>2008.0</td>\n",
       "      <td>Racing</td>\n",
       "      <td>15.68</td>\n",
       "      <td>12.76</td>\n",
       "      <td>3.79</td>\n",
       "      <td>3.29</td>\n",
       "      <td>82.0</td>\n",
       "      <td>8.3</td>\n",
       "      <td>E</td>\n",
       "    </tr>\n",
       "    <tr>\n",
       "      <th>3</th>\n",
       "      <td>Wii Sports Resort</td>\n",
       "      <td>Wii</td>\n",
       "      <td>2009.0</td>\n",
       "      <td>Sports</td>\n",
       "      <td>15.61</td>\n",
       "      <td>10.93</td>\n",
       "      <td>3.28</td>\n",
       "      <td>2.95</td>\n",
       "      <td>80.0</td>\n",
       "      <td>8</td>\n",
       "      <td>E</td>\n",
       "    </tr>\n",
       "    <tr>\n",
       "      <th>4</th>\n",
       "      <td>Pokemon Red/Pokemon Blue</td>\n",
       "      <td>GB</td>\n",
       "      <td>1996.0</td>\n",
       "      <td>Role-Playing</td>\n",
       "      <td>11.27</td>\n",
       "      <td>8.89</td>\n",
       "      <td>10.22</td>\n",
       "      <td>1.00</td>\n",
       "      <td>NaN</td>\n",
       "      <td>NaN</td>\n",
       "      <td>NaN</td>\n",
       "    </tr>\n",
       "  </tbody>\n",
       "</table>\n",
       "</div>"
      ],
      "text/plain": [
       "                       name platform  year_of_release         genre  na_sales  \\\n",
       "0                Wii Sports      Wii           2006.0        Sports     41.36   \n",
       "1         Super Mario Bros.      NES           1985.0      Platform     29.08   \n",
       "2            Mario Kart Wii      Wii           2008.0        Racing     15.68   \n",
       "3         Wii Sports Resort      Wii           2009.0        Sports     15.61   \n",
       "4  Pokemon Red/Pokemon Blue       GB           1996.0  Role-Playing     11.27   \n",
       "\n",
       "   eu_sales  jp_sales  other_sales  critic_score user_score rating  \n",
       "0     28.96      3.77         8.45          76.0          8      E  \n",
       "1      3.58      6.81         0.77           NaN        NaN    NaN  \n",
       "2     12.76      3.79         3.29          82.0        8.3      E  \n",
       "3     10.93      3.28         2.95          80.0          8      E  \n",
       "4      8.89     10.22         1.00           NaN        NaN    NaN  "
      ]
     },
     "execution_count": 2,
     "metadata": {},
     "output_type": "execute_result"
    }
   ],
   "source": [
    "data.columns = data.columns.str.lower() # pep 8 наше всё\n",
    "data.head()"
   ]
  },
  {
   "cell_type": "markdown",
   "metadata": {},
   "source": [
    "## Изменение типов данных и обработка пропусков"
   ]
  },
  {
   "cell_type": "markdown",
   "metadata": {},
   "source": [
    "Меняем тип данных в `data['year_of_release']` и `data['critic_score']`. Поскольку в обоих столбцах встречается значение `nan`, то перед изменением типа данных будет целесообразно поменять его на числовое значение. Теоретически, для `data['year_of_release']` можно найти года выпуска 269 игр, но это долго и муторно. Мы не будем этого делать, и исправим значения на служебное. Служебное значение примем равным  \"-11\" для `data['critic_score']` и 1900 для `data['year_of_release']`."
   ]
  },
  {
   "cell_type": "code",
   "execution_count": 3,
   "metadata": {},
   "outputs": [
    {
     "name": "stdout",
     "output_type": "stream",
     "text": [
      "<class 'pandas.core.frame.DataFrame'>\n",
      "RangeIndex: 16715 entries, 0 to 16714\n",
      "Data columns (total 11 columns):\n",
      " #   Column           Non-Null Count  Dtype  \n",
      "---  ------           --------------  -----  \n",
      " 0   name             16713 non-null  object \n",
      " 1   platform         16715 non-null  object \n",
      " 2   year_of_release  16715 non-null  Int32  \n",
      " 3   genre            16713 non-null  object \n",
      " 4   na_sales         16715 non-null  float64\n",
      " 5   eu_sales         16715 non-null  float64\n",
      " 6   jp_sales         16715 non-null  float64\n",
      " 7   other_sales      16715 non-null  float64\n",
      " 8   critic_score     16715 non-null  Int32  \n",
      " 9   user_score       10014 non-null  object \n",
      " 10  rating           9949 non-null   object \n",
      "dtypes: Int32(2), float64(4), object(5)\n",
      "memory usage: 1.3+ MB\n"
     ]
    }
   ],
   "source": [
    "data['critic_score'] = data['critic_score'].fillna(-11)\n",
    "data['year_of_release'] = data['year_of_release'].fillna(1900)\n",
    "data[['critic_score', 'year_of_release']] = data[['critic_score', 'year_of_release']].astype('Int32')\n",
    "data.info()\n",
    "# в данном случае допустимо применить 'int16'"
   ]
  },
  {
   "cell_type": "markdown",
   "metadata": {},
   "source": [
    "Тип данных изменён. Проверим, не осталось ли лишних значений:"
   ]
  },
  {
   "cell_type": "code",
   "execution_count": 4,
   "metadata": {},
   "outputs": [
    {
     "name": "stdout",
     "output_type": "stream",
     "text": [
      "Уникальные оценки критиков:\n",
      "\n",
      "<IntegerArray>\n",
      "[ 76, -11,  82,  80,  89,  58,  87,  91,  61,  97,  95,  77,  88,  83,  94,\n",
      "  93,  85,  86,  98,  96,  90,  84,  73,  74,  78,  92,  71,  72,  68,  62,\n",
      "  49,  67,  81,  66,  56,  79,  70,  59,  64,  75,  60,  63,  69,  50,  25,\n",
      "  42,  44,  55,  48,  57,  29,  47,  65,  54,  20,  53,  37,  38,  33,  52,\n",
      "  30,  32,  43,  45,  51,  40,  46,  39,  34,  35,  41,  36,  28,  31,  27,\n",
      "  26,  19,  23,  24,  21,  17,  22,  13]\n",
      "Length: 83, dtype: Int32\n",
      "\n",
      "***************************************************************************\n",
      "\n",
      "Игры выпускались в:\n"
     ]
    },
    {
     "data": {
      "text/plain": [
       "<IntegerArray>\n",
       "[2006, 1985, 2008, 2009, 1996, 1989, 1984, 2005, 1999, 2007, 2010, 2013, 2004,\n",
       " 1990, 1988, 2002, 2001, 2011, 1998, 2015, 2012, 2014, 1992, 1997, 1993, 1994,\n",
       " 1982, 2016, 2003, 1986, 2000, 1900, 1995, 1991, 1981, 1987, 1980, 1983]\n",
       "Length: 38, dtype: Int32"
      ]
     },
     "execution_count": 4,
     "metadata": {},
     "output_type": "execute_result"
    }
   ],
   "source": [
    "print ('Уникальные оценки критиков:')\n",
    "print ()\n",
    "print (data['critic_score'].unique())\n",
    "print ()\n",
    "print ('*' * 75)\n",
    "print ()\n",
    "print ('Игры выпускались в:')\n",
    "data['year_of_release'].unique()"
   ]
  },
  {
   "cell_type": "markdown",
   "metadata": {},
   "source": [
    "Всё получилось. Переходим к следующему столбцу. В `data['user_score']` встречается значение `\"tbd\"`. Мы  <a href=\"https://goo-gl.me/TBrAU\"> выяснили</a>, что эта аббревиатура означает, что рейтинг ещё не определён. По сути своей, `\"tbd\"` это пропуск. Следовательно допустимо заменить значение `\"tbd\"` на  какое-то служебное числовое, например \"99\"."
   ]
  },
  {
   "cell_type": "code",
   "execution_count": 5,
   "metadata": {},
   "outputs": [
    {
     "data": {
      "text/plain": [
       "array(['8', nan, '8.3', '8.5', '6.6', '8.4', '8.6', '7.7', '6.3', '7.4',\n",
       "       '8.2', '9', '7.9', '8.1', '8.7', '7.1', '3.4', '5.3', '4.8', '3.2',\n",
       "       '8.9', '6.4', '7.8', '7.5', '2.6', '7.2', '9.2', '7', '7.3', '4.3',\n",
       "       '7.6', '5.7', '5', '9.1', '6.5', 99, '8.8', '6.9', '9.4', '6.8',\n",
       "       '6.1', '6.7', '5.4', '4', '4.9', '4.5', '9.3', '6.2', '4.2', '6',\n",
       "       '3.7', '4.1', '5.8', '5.6', '5.5', '4.4', '4.6', '5.9', '3.9',\n",
       "       '3.1', '2.9', '5.2', '3.3', '4.7', '5.1', '3.5', '2.5', '1.9', '3',\n",
       "       '2.7', '2.2', '2', '9.5', '2.1', '3.6', '2.8', '1.8', '3.8', '0',\n",
       "       '1.6', '9.6', '2.4', '1.7', '1.1', '0.3', '1.5', '0.7', '1.2',\n",
       "       '2.3', '0.5', '1.3', '0.2', '0.6', '1.4', '0.9', '1', '9.7'],\n",
       "      dtype=object)"
      ]
     },
     "execution_count": 5,
     "metadata": {},
     "output_type": "execute_result"
    }
   ],
   "source": [
    "data['user_score'] = data['user_score'].replace('tbd', 99)\n",
    "data['user_score'].unique() "
   ]
  },
  {
   "cell_type": "markdown",
   "metadata": {},
   "source": [
    "Далее меняем тип данных на `float64`, параллельно заменяем пропуски на служебное значение, например те же 99"
   ]
  },
  {
   "cell_type": "code",
   "execution_count": 6,
   "metadata": {},
   "outputs": [
    {
     "name": "stdout",
     "output_type": "stream",
     "text": [
      "<class 'pandas.core.frame.DataFrame'>\n",
      "RangeIndex: 16715 entries, 0 to 16714\n",
      "Data columns (total 11 columns):\n",
      " #   Column           Non-Null Count  Dtype  \n",
      "---  ------           --------------  -----  \n",
      " 0   name             16713 non-null  object \n",
      " 1   platform         16715 non-null  object \n",
      " 2   year_of_release  16715 non-null  Int32  \n",
      " 3   genre            16713 non-null  object \n",
      " 4   na_sales         16715 non-null  float64\n",
      " 5   eu_sales         16715 non-null  float64\n",
      " 6   jp_sales         16715 non-null  float64\n",
      " 7   other_sales      16715 non-null  float64\n",
      " 8   critic_score     16715 non-null  Int32  \n",
      " 9   user_score       16715 non-null  float64\n",
      " 10  rating           9949 non-null   object \n",
      "dtypes: Int32(2), float64(5), object(4)\n",
      "memory usage: 1.3+ MB\n",
      "\n",
      "**********************************************\n",
      "\n",
      "Оценки пользователей:\n"
     ]
    },
    {
     "data": {
      "text/plain": [
       "array([ 8. , 99. ,  8.3,  8.5,  6.6,  8.4,  8.6,  7.7,  6.3,  7.4,  8.2,\n",
       "        9. ,  7.9,  8.1,  8.7,  7.1,  3.4,  5.3,  4.8,  3.2,  8.9,  6.4,\n",
       "        7.8,  7.5,  2.6,  7.2,  9.2,  7. ,  7.3,  4.3,  7.6,  5.7,  5. ,\n",
       "        9.1,  6.5,  8.8,  6.9,  9.4,  6.8,  6.1,  6.7,  5.4,  4. ,  4.9,\n",
       "        4.5,  9.3,  6.2,  4.2,  6. ,  3.7,  4.1,  5.8,  5.6,  5.5,  4.4,\n",
       "        4.6,  5.9,  3.9,  3.1,  2.9,  5.2,  3.3,  4.7,  5.1,  3.5,  2.5,\n",
       "        1.9,  3. ,  2.7,  2.2,  2. ,  9.5,  2.1,  3.6,  2.8,  1.8,  3.8,\n",
       "        0. ,  1.6,  9.6,  2.4,  1.7,  1.1,  0.3,  1.5,  0.7,  1.2,  2.3,\n",
       "        0.5,  1.3,  0.2,  0.6,  1.4,  0.9,  1. ,  9.7])"
      ]
     },
     "execution_count": 6,
     "metadata": {},
     "output_type": "execute_result"
    }
   ],
   "source": [
    "data['user_score'] = data['user_score'].astype('float64')\n",
    "data['user_score'] = data['user_score'].replace(np.nan, 99)\n",
    "data.info()\n",
    "print ()\n",
    "print ('*' * 46)\n",
    "print ()\n",
    "print ('Оценки пользователей:')\n",
    "data['user_score'].unique()"
   ]
  },
  {
   "cell_type": "markdown",
   "metadata": {},
   "source": [
    "В данном конкретном случае заполнение пропусков служебным значением выбрано не случайно. Для дальнейшей обработки нам необходим числовой формат данных. Заполнить средним или медианой не корректно, так как были времена, когда игры не оценивали, не было критиков, сервисов и прочих инструментов для оценки. Могли быть и иные причины образования пропусков: например технические - ошибки при форматировании и подготовке данных. Так же нельзя исключать человеческий фактор, данные могли не заполнить случайно или умышленно. Заполнить \"0\" тоже не самый лучший вариант, так как могли быть игры, получившие реальный \"0\". В дальнейшем будем учитывать служебное значение в анализе данных."
   ]
  },
  {
   "cell_type": "markdown",
   "metadata": {},
   "source": [
    "В `data['rating']` остаётся много пропусков. Возможно когда-то не было организации, которая ставила рейтинг, поэтому и рейтинга от неё нет. Заменим пропуски на значение \"no rating\":"
   ]
  },
  {
   "cell_type": "code",
   "execution_count": 7,
   "metadata": {},
   "outputs": [
    {
     "name": "stdout",
     "output_type": "stream",
     "text": [
      "<class 'pandas.core.frame.DataFrame'>\n",
      "RangeIndex: 16715 entries, 0 to 16714\n",
      "Data columns (total 11 columns):\n",
      " #   Column           Non-Null Count  Dtype  \n",
      "---  ------           --------------  -----  \n",
      " 0   name             16713 non-null  object \n",
      " 1   platform         16715 non-null  object \n",
      " 2   year_of_release  16715 non-null  Int32  \n",
      " 3   genre            16713 non-null  object \n",
      " 4   na_sales         16715 non-null  float64\n",
      " 5   eu_sales         16715 non-null  float64\n",
      " 6   jp_sales         16715 non-null  float64\n",
      " 7   other_sales      16715 non-null  float64\n",
      " 8   critic_score     16715 non-null  Int32  \n",
      " 9   user_score       16715 non-null  float64\n",
      " 10  rating           16715 non-null  object \n",
      "dtypes: Int32(2), float64(5), object(4)\n",
      "memory usage: 1.3+ MB\n",
      "\n",
      "**********************************************\n",
      "\n",
      "Типы рейтинга от организации ESRB:\n"
     ]
    },
    {
     "data": {
      "text/plain": [
       "array(['E', 'no rating', 'M', 'T', 'E10+', 'K-A', 'AO', 'EC', 'RP'],\n",
       "      dtype=object)"
      ]
     },
     "execution_count": 7,
     "metadata": {},
     "output_type": "execute_result"
    }
   ],
   "source": [
    "data['rating'] = data['rating'].fillna('no rating')\n",
    "data.info()\n",
    "print ()\n",
    "print ('*' * 46)\n",
    "print ()\n",
    "print ('Типы рейтинга от организации ESRB:')\n",
    "data['rating'].unique()"
   ]
  },
  {
   "cell_type": "markdown",
   "metadata": {},
   "source": [
    "Осталось два столбца с пропусками. Для `data['name']` заполним пропуски значением \"no name\", а для `data['genre']` \"no genre\":"
   ]
  },
  {
   "cell_type": "code",
   "execution_count": 8,
   "metadata": {},
   "outputs": [
    {
     "name": "stdout",
     "output_type": "stream",
     "text": [
      "Возможные жанры игр:\n",
      "\n",
      "['Sports' 'Platform' 'Racing' 'Role-Playing' 'Puzzle' 'Misc' 'Shooter'\n",
      " 'Simulation' 'Action' 'Fighting' 'Adventure' 'Strategy' 'no genre']\n",
      "\n",
      "**********************************************************************\n",
      "\n",
      "<class 'pandas.core.frame.DataFrame'>\n",
      "RangeIndex: 16715 entries, 0 to 16714\n",
      "Data columns (total 11 columns):\n",
      " #   Column           Non-Null Count  Dtype  \n",
      "---  ------           --------------  -----  \n",
      " 0   name             16715 non-null  object \n",
      " 1   platform         16715 non-null  object \n",
      " 2   year_of_release  16715 non-null  Int32  \n",
      " 3   genre            16715 non-null  object \n",
      " 4   na_sales         16715 non-null  float64\n",
      " 5   eu_sales         16715 non-null  float64\n",
      " 6   jp_sales         16715 non-null  float64\n",
      " 7   other_sales      16715 non-null  float64\n",
      " 8   critic_score     16715 non-null  Int32  \n",
      " 9   user_score       16715 non-null  float64\n",
      " 10  rating           16715 non-null  object \n",
      "dtypes: Int32(2), float64(5), object(4)\n",
      "memory usage: 1.3+ MB\n"
     ]
    }
   ],
   "source": [
    "data['genre'] = data['genre'].fillna('no genre')\n",
    "data['name'] = data['name'].fillna('no name')\n",
    "print ('Возможные жанры игр:')\n",
    "print ()\n",
    "print (data['genre'].unique()) # проверяю сам себя )\n",
    "print ()\n",
    "print ('*' * 70)\n",
    "print ()\n",
    "data.info( ) #названия игр не выводил, их очень много"
   ]
  },
  {
   "cell_type": "markdown",
   "metadata": {},
   "source": [
    "Теоретически, строки с пропусками в `data[['name'], ['genre']]` можно было исключить, но мы поступили гуманно и решили, что уместно и целесообразно заполнить пропуски во всех столбцах, и сделали это."
   ]
  },
  {
   "cell_type": "markdown",
   "metadata": {},
   "source": [
    "## Расчёт суммарных продаж во всех регионах"
   ]
  },
  {
   "cell_type": "markdown",
   "metadata": {},
   "source": [
    "Для получения нужного результата сложим значения `data['na_sales']`, `data['eu_sales']` и `data['other_sales']`. Результат запишем в отдельный столбец `data['total_sales']`:"
   ]
  },
  {
   "cell_type": "code",
   "execution_count": 9,
   "metadata": {},
   "outputs": [
    {
     "data": {
      "text/html": [
       "<div>\n",
       "<style scoped>\n",
       "    .dataframe tbody tr th:only-of-type {\n",
       "        vertical-align: middle;\n",
       "    }\n",
       "\n",
       "    .dataframe tbody tr th {\n",
       "        vertical-align: top;\n",
       "    }\n",
       "\n",
       "    .dataframe thead th {\n",
       "        text-align: right;\n",
       "    }\n",
       "</style>\n",
       "<table border=\"1\" class=\"dataframe\">\n",
       "  <thead>\n",
       "    <tr style=\"text-align: right;\">\n",
       "      <th></th>\n",
       "      <th>name</th>\n",
       "      <th>platform</th>\n",
       "      <th>year_of_release</th>\n",
       "      <th>genre</th>\n",
       "      <th>na_sales</th>\n",
       "      <th>eu_sales</th>\n",
       "      <th>jp_sales</th>\n",
       "      <th>other_sales</th>\n",
       "      <th>critic_score</th>\n",
       "      <th>user_score</th>\n",
       "      <th>rating</th>\n",
       "      <th>total_sales</th>\n",
       "    </tr>\n",
       "  </thead>\n",
       "  <tbody>\n",
       "    <tr>\n",
       "      <th>0</th>\n",
       "      <td>Wii Sports</td>\n",
       "      <td>Wii</td>\n",
       "      <td>2006</td>\n",
       "      <td>Sports</td>\n",
       "      <td>41.36</td>\n",
       "      <td>28.96</td>\n",
       "      <td>3.77</td>\n",
       "      <td>8.45</td>\n",
       "      <td>76</td>\n",
       "      <td>8.0</td>\n",
       "      <td>E</td>\n",
       "      <td>82.54</td>\n",
       "    </tr>\n",
       "    <tr>\n",
       "      <th>1</th>\n",
       "      <td>Super Mario Bros.</td>\n",
       "      <td>NES</td>\n",
       "      <td>1985</td>\n",
       "      <td>Platform</td>\n",
       "      <td>29.08</td>\n",
       "      <td>3.58</td>\n",
       "      <td>6.81</td>\n",
       "      <td>0.77</td>\n",
       "      <td>-11</td>\n",
       "      <td>99.0</td>\n",
       "      <td>no rating</td>\n",
       "      <td>40.24</td>\n",
       "    </tr>\n",
       "    <tr>\n",
       "      <th>2</th>\n",
       "      <td>Mario Kart Wii</td>\n",
       "      <td>Wii</td>\n",
       "      <td>2008</td>\n",
       "      <td>Racing</td>\n",
       "      <td>15.68</td>\n",
       "      <td>12.76</td>\n",
       "      <td>3.79</td>\n",
       "      <td>3.29</td>\n",
       "      <td>82</td>\n",
       "      <td>8.3</td>\n",
       "      <td>E</td>\n",
       "      <td>35.52</td>\n",
       "    </tr>\n",
       "    <tr>\n",
       "      <th>3</th>\n",
       "      <td>Wii Sports Resort</td>\n",
       "      <td>Wii</td>\n",
       "      <td>2009</td>\n",
       "      <td>Sports</td>\n",
       "      <td>15.61</td>\n",
       "      <td>10.93</td>\n",
       "      <td>3.28</td>\n",
       "      <td>2.95</td>\n",
       "      <td>80</td>\n",
       "      <td>8.0</td>\n",
       "      <td>E</td>\n",
       "      <td>32.77</td>\n",
       "    </tr>\n",
       "    <tr>\n",
       "      <th>4</th>\n",
       "      <td>Pokemon Red/Pokemon Blue</td>\n",
       "      <td>GB</td>\n",
       "      <td>1996</td>\n",
       "      <td>Role-Playing</td>\n",
       "      <td>11.27</td>\n",
       "      <td>8.89</td>\n",
       "      <td>10.22</td>\n",
       "      <td>1.00</td>\n",
       "      <td>-11</td>\n",
       "      <td>99.0</td>\n",
       "      <td>no rating</td>\n",
       "      <td>31.38</td>\n",
       "    </tr>\n",
       "  </tbody>\n",
       "</table>\n",
       "</div>"
      ],
      "text/plain": [
       "                       name platform  year_of_release         genre  na_sales  \\\n",
       "0                Wii Sports      Wii             2006        Sports     41.36   \n",
       "1         Super Mario Bros.      NES             1985      Platform     29.08   \n",
       "2            Mario Kart Wii      Wii             2008        Racing     15.68   \n",
       "3         Wii Sports Resort      Wii             2009        Sports     15.61   \n",
       "4  Pokemon Red/Pokemon Blue       GB             1996  Role-Playing     11.27   \n",
       "\n",
       "   eu_sales  jp_sales  other_sales  critic_score  user_score     rating  \\\n",
       "0     28.96      3.77         8.45            76         8.0          E   \n",
       "1      3.58      6.81         0.77           -11        99.0  no rating   \n",
       "2     12.76      3.79         3.29            82         8.3          E   \n",
       "3     10.93      3.28         2.95            80         8.0          E   \n",
       "4      8.89     10.22         1.00           -11        99.0  no rating   \n",
       "\n",
       "   total_sales  \n",
       "0        82.54  \n",
       "1        40.24  \n",
       "2        35.52  \n",
       "3        32.77  \n",
       "4        31.38  "
      ]
     },
     "execution_count": 9,
     "metadata": {},
     "output_type": "execute_result"
    }
   ],
   "source": [
    "data['total_sales'] = data['na_sales'] + data['eu_sales'] + data['jp_sales'] + data['other_sales']\n",
    "data.head()"
   ]
  },
  {
   "cell_type": "markdown",
   "metadata": {},
   "source": [
    "# Исследовательский анализ данных"
   ]
  },
  {
   "cell_type": "markdown",
   "metadata": {},
   "source": [
    "## Сколько игр выпускалось в разные годы"
   ]
  },
  {
   "cell_type": "markdown",
   "metadata": {},
   "source": [
    "Узнаем, сколько игр выпускалось в разные годы и поймём, насколько важны данные за все периоды."
   ]
  },
  {
   "cell_type": "code",
   "execution_count": 10,
   "metadata": {},
   "outputs": [
    {
     "data": {
      "text/plain": [
       "year_of_release\n",
       "1900     269\n",
       "1980       9\n",
       "1981      46\n",
       "1982      36\n",
       "1983      17\n",
       "1984      14\n",
       "1985      14\n",
       "1986      21\n",
       "1987      16\n",
       "1988      15\n",
       "1989      17\n",
       "1990      16\n",
       "1991      41\n",
       "1992      43\n",
       "1993      62\n",
       "1994     121\n",
       "1995     219\n",
       "1996     263\n",
       "1997     289\n",
       "1998     379\n",
       "1999     338\n",
       "2000     350\n",
       "2001     482\n",
       "2002     829\n",
       "2003     775\n",
       "2004     762\n",
       "2005     939\n",
       "2006    1006\n",
       "2007    1197\n",
       "2008    1427\n",
       "2009    1426\n",
       "2010    1255\n",
       "2011    1136\n",
       "2012     653\n",
       "2013     544\n",
       "2014     581\n",
       "2015     606\n",
       "2016     502\n",
       "Name: name, dtype: int64"
      ]
     },
     "execution_count": 10,
     "metadata": {},
     "output_type": "execute_result"
    },
    {
     "data": {
      "image/png": "[encoded data removed]",
      "text/plain": [
       "<Figure size 1440x720 with 1 Axes>"
      ]
     },
     "metadata": {
      "needs_background": "light"
     },
     "output_type": "display_data"
    }
   ],
   "source": [
    "data.pivot_table(index='year_of_release', values='name', aggfunc='count').plot(\n",
    "    kind='bar', figsize=(20, 10), title='Количество игр по годам')\n",
    "plt.ylabel('Количкство выпущенных игр')\n",
    "plt.xlabel('Год выпуска')\n",
    "data.groupby('year_of_release')['name'].count()\n",
    "#Хотел красивый график, но он не очень информативен, поэтому ещё табличка прилагается )"
   ]
  },
  {
   "cell_type": "markdown",
   "metadata": {},
   "source": [
    "Между 1994 и 1995 скачок в выпуске почти 100%. Были подобные скачки и ранее, но количество выпущенных игр неизмеримо мало. Второй резкий скачок это 2002 год, связан скорее всего с развитием индустрии и доступностью различных платформ для каждой семьи.  Пик индустрии 2008-2009 гг. После 2011 резкий спад, игры ушли в онлайн. Поскольку 2002 ближе к 2016, чем 1994, то принимаем, что данные до 2001 года включительно не важны."
   ]
  },
  {
   "cell_type": "markdown",
   "metadata": {},
   "source": [
    "## Изменение продаж по платформам"
   ]
  },
  {
   "cell_type": "markdown",
   "metadata": {},
   "source": [
    "Узнаем, как менялись продажи по платформам. Выберем  платформы с наибольшими суммарными продажами и построим распределение по годам. Выясним, за какой характерный срок появляются новые и исчезают старые платформы."
   ]
  },
  {
   "cell_type": "markdown",
   "metadata": {},
   "source": [
    "Посмотрим на суммарные продажи по платформам:"
   ]
  },
  {
   "cell_type": "code",
   "execution_count": 11,
   "metadata": {},
   "outputs": [
    {
     "data": {
      "text/html": [
       "<div>\n",
       "<style scoped>\n",
       "    .dataframe tbody tr th:only-of-type {\n",
       "        vertical-align: middle;\n",
       "    }\n",
       "\n",
       "    .dataframe tbody tr th {\n",
       "        vertical-align: top;\n",
       "    }\n",
       "\n",
       "    .dataframe thead th {\n",
       "        text-align: right;\n",
       "    }\n",
       "</style>\n",
       "<table border=\"1\" class=\"dataframe\">\n",
       "  <thead>\n",
       "    <tr style=\"text-align: right;\">\n",
       "      <th></th>\n",
       "      <th>total_sales</th>\n",
       "    </tr>\n",
       "    <tr>\n",
       "      <th>platform</th>\n",
       "      <th></th>\n",
       "    </tr>\n",
       "  </thead>\n",
       "  <tbody>\n",
       "    <tr>\n",
       "      <th>PS2</th>\n",
       "      <td>1255.77</td>\n",
       "    </tr>\n",
       "    <tr>\n",
       "      <th>X360</th>\n",
       "      <td>971.42</td>\n",
       "    </tr>\n",
       "    <tr>\n",
       "      <th>PS3</th>\n",
       "      <td>939.65</td>\n",
       "    </tr>\n",
       "    <tr>\n",
       "      <th>Wii</th>\n",
       "      <td>907.51</td>\n",
       "    </tr>\n",
       "    <tr>\n",
       "      <th>DS</th>\n",
       "      <td>806.12</td>\n",
       "    </tr>\n",
       "    <tr>\n",
       "      <th>PS</th>\n",
       "      <td>730.86</td>\n",
       "    </tr>\n",
       "    <tr>\n",
       "      <th>GBA</th>\n",
       "      <td>317.85</td>\n",
       "    </tr>\n",
       "    <tr>\n",
       "      <th>PS4</th>\n",
       "      <td>314.14</td>\n",
       "    </tr>\n",
       "    <tr>\n",
       "      <th>PSP</th>\n",
       "      <td>294.05</td>\n",
       "    </tr>\n",
       "    <tr>\n",
       "      <th>PC</th>\n",
       "      <td>259.52</td>\n",
       "    </tr>\n",
       "  </tbody>\n",
       "</table>\n",
       "</div>"
      ],
      "text/plain": [
       "          total_sales\n",
       "platform             \n",
       "PS2           1255.77\n",
       "X360           971.42\n",
       "PS3            939.65\n",
       "Wii            907.51\n",
       "DS             806.12\n",
       "PS             730.86\n",
       "GBA            317.85\n",
       "PS4            314.14\n",
       "PSP            294.05\n",
       "PC             259.52"
      ]
     },
     "execution_count": 11,
     "metadata": {},
     "output_type": "execute_result"
    },
    {
     "data": {
      "image/png": "[encoded data removed]",
      "text/plain": [
       "<Figure size 1440x720 with 1 Axes>"
      ]
     },
     "metadata": {
      "needs_background": "light"
     },
     "output_type": "display_data"
    }
   ],
   "source": [
    "data.pivot_table(index='platform', values='total_sales', aggfunc='sum').plot(\n",
    "    kind='bar', figsize=(20, 10), title='Суммарные продажи по платформам')\n",
    "plt.xlabel('Платформа')\n",
    "plt.ylabel('Количество продаж, млн копий')\n",
    "\n",
    "data.pivot_table(\n",
    "    index=['platform'], values='total_sales', aggfunc='sum').sort_values(\n",
    "    by='total_sales', ascending=False).head(10)"
   ]
  },
  {
   "cell_type": "markdown",
   "metadata": {},
   "source": [
    "Мы выяснили, что безоговорочным лидером по суммарным продажам является PS2. В лидирующей группе очень плотно разместились X360, PS3 и Wii. Замыкают нашу шестёрку лидеров DS и PS. Ниже рассматривать бессмысленно, очень большая пропасть между № 6 и №7."
   ]
  },
  {
   "cell_type": "markdown",
   "metadata": {},
   "source": [
    "Для платформ с наибольшими суммарными продажами построим распределение погодам:"
   ]
  },
  {
   "cell_type": "code",
   "execution_count": 12,
   "metadata": {},
   "outputs": [
    {
     "data": {
      "image/png": "[encoded data removed]",
      "text/plain": [
       "<Figure size 432x216 with 1 Axes>"
      ]
     },
     "metadata": {
      "needs_background": "light"
     },
     "output_type": "display_data"
    },
    {
     "data": {
      "image/png": "[encoded data removed]",
      "text/plain": [
       "<Figure size 432x216 with 1 Axes>"
      ]
     },
     "metadata": {
      "needs_background": "light"
     },
     "output_type": "display_data"
    },
    {
     "data": {
      "image/png": "[encoded data removed]",
      "text/plain": [
       "<Figure size 432x216 with 1 Axes>"
      ]
     },
     "metadata": {
      "needs_background": "light"
     },
     "output_type": "display_data"
    },
    {
     "data": {
      "image/png": "[encoded data removed]",
      "text/plain": [
       "<Figure size 432x216 with 1 Axes>"
      ]
     },
     "metadata": {
      "needs_background": "light"
     },
     "output_type": "display_data"
    },
    {
     "data": {
      "image/png": "[encoded data removed]",
      "text/plain": [
       "<Figure size 432x216 with 1 Axes>"
      ]
     },
     "metadata": {
      "needs_background": "light"
     },
     "output_type": "display_data"
    },
    {
     "data": {
      "image/png": "[encoded data removed]",
      "text/plain": [
       "<Figure size 432x216 with 1 Axes>"
      ]
     },
     "metadata": {
      "needs_background": "light"
     },
     "output_type": "display_data"
    }
   ],
   "source": [
    "all_platforms = ['PS2', 'X360', 'PS3', 'Wii', 'DS', 'PS'] #создадим список топ платформ\n",
    "i = 0\n",
    "for platforms in all_platforms:\n",
    "    data.query(\n",
    "        'platform == @platforms').pivot_table(\n",
    "        index='platform', columns='year_of_release', values='total_sales', aggfunc='sum').T.plot(\n",
    "        kind='bar', title='Глобальные продажи по платформе '+all_platforms[i], figsize=(6, 3))\n",
    "    i += 1\n",
    "    \n",
    "    \n",
    "# Вообще я люблю крупные мужские гафики фигсайсом хотя бы 20х10, но тут уже 8х4 не влезает в окно. \n",
    "# Но к нашей радости, здесь такой размер вполне читабелен. Поэтому я и не люблю стоить графики с помощью цикла."
   ]
  },
  {
   "cell_type": "markdown",
   "metadata": {},
   "source": [
    "PS - прожила с 1994 года до 2003, срок 10 лет;\n",
    "\n",
    "PS2 - с 2000 до 2011 года - срок 12 лет;\n",
    "\n",
    "PS3 - с 2006 по 2016 ещё продаётся, но начала сильно сдавать позиции, срок 11 лет;\n",
    "\n",
    "Х360 - с 2005 по 2016. Тоже сильна сдала. Срок 12 лет;\n",
    "\n",
    "DS - вышла в 1985, потом вообще нет данных, скорее всего, по той причине, что они не собирались. И с 2004 года популярность стала расти, пик в 2008, конец срока службы - 2013 год, срок 10  лет;\n",
    "\n",
    "Wii - с 2006 по  2016, но  уже почти изжила себя, срок  11 лет.\n",
    "\n",
    "Характерный срок за появляются новые и исчезают старые платформы 11 лет."
   ]
  },
  {
   "cell_type": "markdown",
   "metadata": {},
   "source": [
    "## Определяем актуальный период"
   ]
  },
  {
   "cell_type": "markdown",
   "metadata": {},
   "source": [
    "В разделе 5.1 мы выяснили, что что данные до 2002 года включительно не важны. Следовательно актуальный период можно принять с 2002 по 2016 год. Но поскольку, основной фактор актуального периода -  наличие данных, которые помогут построить прогноз на 2017 год, а среднее время жизни платформы мы получили 11 лет, то период нужно брать менее 11 лет, но так, чтобы данных было достаточно для прогноза. Поэтому, возьмём период 8 лет, с 2009 по 2016 включительно. Зададим новое значение `data['year_of_release']` > 2009 переменной `data`:"
   ]
  },
  {
   "cell_type": "code",
   "execution_count": 13,
   "metadata": {},
   "outputs": [
    {
     "name": "stdout",
     "output_type": "stream",
     "text": [
      "<class 'pandas.core.frame.DataFrame'>\n",
      "Int64Index: 1689 entries, 31 to 16714\n",
      "Data columns (total 12 columns):\n",
      " #   Column           Non-Null Count  Dtype  \n",
      "---  ------           --------------  -----  \n",
      " 0   name             1689 non-null   object \n",
      " 1   platform         1689 non-null   object \n",
      " 2   year_of_release  1689 non-null   Int32  \n",
      " 3   genre            1689 non-null   object \n",
      " 4   na_sales         1689 non-null   float64\n",
      " 5   eu_sales         1689 non-null   float64\n",
      " 6   jp_sales         1689 non-null   float64\n",
      " 7   other_sales      1689 non-null   float64\n",
      " 8   critic_score     1689 non-null   Int32  \n",
      " 9   user_score       1689 non-null   float64\n",
      " 10  rating           1689 non-null   object \n",
      " 11  total_sales      1689 non-null   float64\n",
      "dtypes: Int32(2), float64(6), object(4)\n",
      "memory usage: 161.6+ KB\n"
     ]
    }
   ],
   "source": [
    "data = data.query('year_of_release > 2013')\n",
    "data.info() #заодно избавились от служебных значений"
   ]
  },
  {
   "cell_type": "markdown",
   "metadata": {},
   "source": [
    "## Выбор потенциально прибыльных платформ"
   ]
  },
  {
   "cell_type": "markdown",
   "metadata": {},
   "source": [
    "Выбираем потенциально прибыльные платформы:"
   ]
  },
  {
   "cell_type": "code",
   "execution_count": 14,
   "metadata": {},
   "outputs": [
    {
     "data": {
      "text/plain": [
       "Text(0, 0.5, 'Количество продаж, млн копий в 2016 г')"
      ]
     },
     "execution_count": 14,
     "metadata": {},
     "output_type": "execute_result"
    },
    {
     "data": {
      "image/png": "[encoded data removed]",
      "text/plain": [
       "<Figure size 576x288 with 1 Axes>"
      ]
     },
     "metadata": {
      "needs_background": "light"
     },
     "output_type": "display_data"
    }
   ],
   "source": [
    "data.query('year_of_release == 2016').groupby('platform')['total_sales'].sum().plot(kind='bar', figsize=(8, 4))\n",
    "plt.xlabel('Платформа')\n",
    "plt.ylabel('Количество продаж, млн копий в 2016 г')"
   ]
  },
  {
   "cell_type": "markdown",
   "metadata": {},
   "source": [
    "Безоговорочный лидер PS4. XOne и 3DS находятся рядом друг с другом, занимая 2 и 3 места соответственно, но сильно отстают от лидера. \n",
    "Для того, чтобы понять, динамику продаж, посмотрим на данные за 2014 и за 2015 гг."
   ]
  },
  {
   "cell_type": "code",
   "execution_count": 15,
   "metadata": {},
   "outputs": [
    {
     "data": {
      "text/plain": [
       "Text(0, 0.5, 'Количество продаж, млн копий в 2014 г')"
      ]
     },
     "execution_count": 15,
     "metadata": {},
     "output_type": "execute_result"
    },
    {
     "data": {
      "image/png": "[encoded data removed]",
      "text/plain": [
       "<Figure size 576x288 with 1 Axes>"
      ]
     },
     "metadata": {
      "needs_background": "light"
     },
     "output_type": "display_data"
    }
   ],
   "source": [
    "data.query('year_of_release == 2014').groupby('platform')['total_sales'].sum().plot(kind='bar', figsize=(8, 4))\n",
    "plt.xlabel('Платформа')\n",
    "plt.ylabel('Количество продаж, млн копий в 2014 г')"
   ]
  },
  {
   "cell_type": "code",
   "execution_count": 16,
   "metadata": {},
   "outputs": [
    {
     "data": {
      "text/plain": [
       "Text(0, 0.5, 'Количество продаж, млн копий в 2015 г')"
      ]
     },
     "execution_count": 16,
     "metadata": {},
     "output_type": "execute_result"
    },
    {
     "data": {
      "image/png": "[encoded data removed]",
      "text/plain": [
       "<Figure size 576x288 with 1 Axes>"
      ]
     },
     "metadata": {
      "needs_background": "light"
     },
     "output_type": "display_data"
    }
   ],
   "source": [
    "data.query('year_of_release == 2015').groupby('platform')['total_sales'].sum().plot(kind='bar', figsize=(8, 4))\n",
    "plt.xlabel('Платформа')\n",
    "plt.ylabel('Количество продаж, млн копий в 2015 г') "
   ]
  },
  {
   "cell_type": "markdown",
   "metadata": {},
   "source": [
    "Результаты повторяют выводы п. 5.1: количество продаж с каждым годом в среднем снижается. Скорее всего, рынок игр умирает или претерпевает изменения."
   ]
  },
  {
   "cell_type": "markdown",
   "metadata": {},
   "source": [
    "## График «ящик с усами» по глобальным продажам игр в разбивке по платформам"
   ]
  },
  {
   "cell_type": "markdown",
   "metadata": {},
   "source": [
    "В рамках текущего раздела мы построим график «ящик с усами» по глобальным продажам игр в разбивке по платформам и опишем результат. Для исследования возьмём 5 самых потенциально прибыльных платформ из п. 5.4:"
   ]
  },
  {
   "cell_type": "code",
   "execution_count": 17,
   "metadata": {},
   "outputs": [
    {
     "data": {
      "image/png": "[encoded data removed]",
      "text/plain": [
       "<Figure size 432x288 with 1 Axes>"
      ]
     },
     "metadata": {
      "needs_background": "light"
     },
     "output_type": "display_data"
    },
    {
     "data": {
      "image/png": "[encoded data removed]",
      "text/plain": [
       "<Figure size 432x288 with 1 Axes>"
      ]
     },
     "metadata": {
      "needs_background": "light"
     },
     "output_type": "display_data"
    },
    {
     "data": {
      "image/png": "[encoded data removed]",
      "text/plain": [
       "<Figure size 432x288 with 1 Axes>"
      ]
     },
     "metadata": {
      "needs_background": "light"
     },
     "output_type": "display_data"
    },
    {
     "data": {
      "image/png": "[encoded data removed]",
      "text/plain": [
       "<Figure size 432x288 with 1 Axes>"
      ]
     },
     "metadata": {
      "needs_background": "light"
     },
     "output_type": "display_data"
    },
    {
     "data": {
      "image/png": "[encoded data removed]",
      "text/plain": [
       "<Figure size 432x288 with 1 Axes>"
      ]
     },
     "metadata": {
      "needs_background": "light"
     },
     "output_type": "display_data"
    }
   ],
   "source": [
    "i = 0\n",
    "all_platforms = ['PS4', 'XOne', '3DS', 'WiiU', 'PS3']\n",
    "for platforms in all_platforms:\n",
    "    data.query('platform == @platforms').boxplot('total_sales')#, figsize=(5,5))#, by='platform' )\n",
    "    i += 1\n",
    "    plt.title('Диаграмма размаха платформы ' +all_platforms[i-1])\n",
    "    plt.ylim(0, 2)\n",
    "    plt.ylabel('Количество продаж, млн копий')\n",
    "    plt.show()\n"
   ]
  },
  {
   "cell_type": "markdown",
   "metadata": {},
   "source": [
    "Медиана по топовым платформам приблизительно 0,2 млн проданных копий за игру.\n",
    "Верхняя граница предела, за которыми уже определяются аномалии, у двух платформ -  PS4 и X360 - на уровне 1,5 млн копий. У остальных ниже. Особняком смотрится 3DS - у него эти показатели сильное ниже. Медиана  0,1 млн копий, верхняя граница - 0,6 млн копий."
   ]
  },
  {
   "cell_type": "markdown",
   "metadata": {},
   "source": [
    "## Влияние пользователей и критиков на продажи внутри одной популярной платформы"
   ]
  },
  {
   "cell_type": "markdown",
   "metadata": {},
   "source": [
    "В рамках текущего раздела мы посмотрим, как влияют на продажи внутри одной популярной платформы отзывы пользователей и критиков. Построим диаграмму рассеяния и посчитаем корреляцию между отзывами и продажами. Сформулируем выводы."
   ]
  },
  {
   "cell_type": "markdown",
   "metadata": {},
   "source": [
    "Чтобы понять, есть ли зависимость между продажами и оценками пользователей, построим диаграмму рассеивания для платформы PS4:"
   ]
  },
  {
   "cell_type": "code",
   "execution_count": 18,
   "metadata": {},
   "outputs": [
    {
     "data": {
      "text/plain": [
       "Text(0.5, 0, 'Количество продаж, млн копий')"
      ]
     },
     "execution_count": 18,
     "metadata": {},
     "output_type": "execute_result"
    },
    {
     "data": {
      "image/png": "[encoded data removed]",
      "text/plain": [
       "<Figure size 1440x720 with 1 Axes>"
      ]
     },
     "metadata": {
      "needs_background": "light"
     },
     "output_type": "display_data"
    }
   ],
   "source": [
    "# напомню, что 99 у нас служебное значение, было использовано для заполнения пропусков в `data['user_score']`\n",
    "\n",
    "data[(data['platform'] == 'PS4') & ( data['user_score'] > 0)\\\n",
    "         & (data['user_score'] != 99) & (data['total_sales'] < 5)].\\\n",
    "plot(kind='scatter', x='total_sales', y='user_score', title='Зависимость между отзывами и продажами',\\\n",
    "     cmap=\"Blues\", figsize=(20,10), grid=True)\n",
    "\n",
    "#data[(data['platform'] == 'PS4') & ( data['user_score'] > 0)\\\n",
    "#         & (data['user_score'] != 99)].\\\n",
    "#plot(kind='scatter', x='total_sales', y='user_score', title='Зависимость между отзывами и продажами',\\\n",
    "#     cmap=\"Blues\", figsize=(20,10), grid=True)\n",
    "# Закомментированный код без выбросов по total_sales, можешь посмотреть\n",
    "\n",
    "plt.ylabel('Оценки пользователей')\n",
    "plt.xlabel('Количество продаж, млн копий') "
   ]
  },
  {
   "cell_type": "code",
   "execution_count": 19,
   "metadata": {},
   "outputs": [
    {
     "data": {
      "text/plain": [
       "Text(0.5, 0, 'Количество продаж, млн копий')"
      ]
     },
     "execution_count": 19,
     "metadata": {},
     "output_type": "execute_result"
    },
    {
     "data": {
      "image/png": "[encoded data removed]",
      "text/plain": [
       "<Figure size 1440x720 with 1 Axes>"
      ]
     },
     "metadata": {
      "needs_background": "light"
     },
     "output_type": "display_data"
    }
   ],
   "source": [
    "# напомню, что -11 у нас служебное значение, было использовано для заполнения пропусков в `data['critic_score']`\n",
    "\n",
    "data[(data['platform'] == 'PS4') & (data['total_sales'] < 5) & (data['critic_score'] > 0)].\\\n",
    "plot(kind='scatter', x='total_sales', y='critic_score', title='Зависимость между оценкой критиков и продажами',\\\n",
    "     cmap=\"Blues\", figsize=(20,10), grid=True)\n",
    "\n",
    "#data[(data['platform'] == 'PS4') & (data['critic_score'] > 0)].\\\n",
    "#plot(kind='scatter', x='total_sales', y='critic_score', title='Зависимость между оценкой критиков и продажами',\\\n",
    "#     cmap=\"Blues\", figsize=(20,10), grid=True)  \n",
    "# Закомментированный код без выбросов по total_sales, можешь посмотреть\n",
    "\n",
    "\n",
    "plt.ylabel('Оценки критиков')\n",
    "plt.xlabel('Количество продаж, млн копий') "
   ]
  },
  {
   "cell_type": "markdown",
   "metadata": {},
   "source": [
    "Теперь посчитаем корреляцию:"
   ]
  },
  {
   "cell_type": "code",
   "execution_count": 20,
   "metadata": {},
   "outputs": [
    {
     "name": "stdout",
     "output_type": "stream",
     "text": [
      "\n",
      "Корреляция\n"
     ]
    },
    {
     "data": {
      "text/plain": [
       "critic_score    0.202067\n",
       "user_score     -0.119205\n",
       "total_sales     1.000000\n",
       "Name: total_sales, dtype: float64"
      ]
     },
     "execution_count": 20,
     "metadata": {},
     "output_type": "execute_result"
    }
   ],
   "source": [
    "print () #я люблю отступ от ячейки \"Код\", так красивее вывод, ИМХО\n",
    "print('Корреляция')\n",
    "data.query('platform == \"PS4\"')[['critic_score', 'user_score', 'total_sales']].corr()['total_sales']"
   ]
  },
  {
   "cell_type": "markdown",
   "metadata": {},
   "source": [
    "Соотнесём выводы с продажами игр на других платформах, а именно XOne и 3DS:"
   ]
  },
  {
   "cell_type": "markdown",
   "metadata": {},
   "source": [
    "XOne:"
   ]
  },
  {
   "cell_type": "code",
   "execution_count": 21,
   "metadata": {},
   "outputs": [
    {
     "data": {
      "text/plain": [
       "Text(0.5, 0, 'Количество продаж, млн копий')"
      ]
     },
     "execution_count": 21,
     "metadata": {},
     "output_type": "execute_result"
    },
    {
     "data": {
      "image/png": "[encoded data removed]",
      "text/plain": [
       "<Figure size 1440x720 with 1 Axes>"
      ]
     },
     "metadata": {
      "needs_background": "light"
     },
     "output_type": "display_data"
    }
   ],
   "source": [
    "data[(data['platform'] == 'XOne') & ( data['user_score'] > 0) & (data['user_score'] != 99)].\\\n",
    "plot(kind='scatter', x='total_sales', y='user_score', title='Зависимость между отзывами и продажами для XOne',\\\n",
    "     cmap=\"Blues\", figsize=(20,10), grid=True)\n",
    "plt.ylabel('Оценки пользователей')\n",
    "plt.xlabel('Количество продаж, млн копий') "
   ]
  },
  {
   "cell_type": "code",
   "execution_count": 22,
   "metadata": {},
   "outputs": [
    {
     "data": {
      "text/plain": [
       "Text(0.5, 0, 'Количество продаж, млн копий')"
      ]
     },
     "execution_count": 22,
     "metadata": {},
     "output_type": "execute_result"
    },
    {
     "data": {
      "image/png": "[encoded data removed]",
      "text/plain": [
       "<Figure size 1440x720 with 1 Axes>"
      ]
     },
     "metadata": {
      "needs_background": "light"
     },
     "output_type": "display_data"
    }
   ],
   "source": [
    "data[(data['platform'] == 'XOne') & ( data['critic_score'] > 0)].\\\n",
    "plot(kind='scatter', x='total_sales', y='critic_score', title='Зависимость между оценкой критиков и продажами для XOne',\\\n",
    "     cmap=\"Blues\", figsize=(20,10), grid=True)\n",
    "\n",
    "plt.ylabel('Оценки критиков')\n",
    "plt.xlabel('Количество продаж, млн копий') "
   ]
  },
  {
   "cell_type": "markdown",
   "metadata": {},
   "source": [
    "Корреляция:"
   ]
  },
  {
   "cell_type": "code",
   "execution_count": 23,
   "metadata": {},
   "outputs": [
    {
     "name": "stdout",
     "output_type": "stream",
     "text": [
      "\n",
      "Корреляция\n"
     ]
    },
    {
     "data": {
      "text/plain": [
       "critic_score    0.262170\n",
       "user_score     -0.134645\n",
       "total_sales     1.000000\n",
       "Name: total_sales, dtype: float64"
      ]
     },
     "execution_count": 23,
     "metadata": {},
     "output_type": "execute_result"
    }
   ],
   "source": [
    "print ()\n",
    "print('Корреляция')\n",
    "data.query('platform == \"XOne\"')[['critic_score', 'user_score', 'total_sales']].corr()['total_sales']"
   ]
  },
  {
   "cell_type": "markdown",
   "metadata": {},
   "source": [
    "Теперь для 3DS:"
   ]
  },
  {
   "cell_type": "code",
   "execution_count": 24,
   "metadata": {},
   "outputs": [
    {
     "data": {
      "text/plain": [
       "Text(0.5, 0, 'Количество продаж, млн копий')"
      ]
     },
     "execution_count": 24,
     "metadata": {},
     "output_type": "execute_result"
    },
    {
     "data": {
      "image/png": "[encoded data removed]",
      "text/plain": [
       "<Figure size 1440x720 with 1 Axes>"
      ]
     },
     "metadata": {
      "needs_background": "light"
     },
     "output_type": "display_data"
    }
   ],
   "source": [
    "data[(data['platform'] == '3DS') & (data['total_sales'] < 5)\\\n",
    "         & ( data['user_score'] > 0) & (data['user_score'] != 99)].\\\n",
    "plot(kind='scatter', x='total_sales', y='user_score', title='Зависимость между отзывами и продажами для 3DS',\\\n",
    "     cmap=\"Blues\", figsize=(20,10), grid=True)\n",
    "\n",
    "#data[(data['platform'] == '3DS') & ( data['user_score'] > 0) & (data['user_score'] != 99)].\\\n",
    "#plot(kind='scatter', x='total_sales', y='user_score', title='Зависимость между отзывами и продажами для 3DS',\\\n",
    "#     cmap=\"Blues\", figsize=(20,10), grid=True)\n",
    "# Закомментированный код без выбросов по total_sales, можешь посмотреть\n",
    "\n",
    "plt.ylabel('Оценки пользователей')\n",
    "plt.xlabel('Количество продаж, млн копий') "
   ]
  },
  {
   "cell_type": "code",
   "execution_count": 25,
   "metadata": {},
   "outputs": [
    {
     "data": {
      "text/plain": [
       "Text(0.5, 0, 'Количество продаж, млн копий')"
      ]
     },
     "execution_count": 25,
     "metadata": {},
     "output_type": "execute_result"
    },
    {
     "data": {
      "image/png": "[encoded data removed]",
      "text/plain": [
       "<Figure size 1440x720 with 1 Axes>"
      ]
     },
     "metadata": {
      "needs_background": "light"
     },
     "output_type": "display_data"
    }
   ],
   "source": [
    "data[(data['platform'] == '3DS') & (data['total_sales'] < 5) & ( data['critic_score'] > 0)].\\\n",
    "plot(kind='scatter', x='total_sales', y='critic_score', title='Зависимость между оценкой критиков и продажами для 3DS',\\\n",
    "     cmap=\"Blues\", figsize=(20,10), grid=True)\n",
    "\n",
    "#data[(data['platform'] == '3DS') & ( data['critic_score'] > 0)].\\\n",
    "#plot(kind='scatter', x='total_sales', y='critic_score', title='Зависимость между оценкой критиков и продажами для 3DS',\\\n",
    "#     cmap=\"Blues\", figsize=(20,10), grid=True)\n",
    "# Закомментированный код без выбросов по total_sales, можешь посмотреть\n",
    "\n",
    "plt.ylabel('Оценки критиков')\n",
    "plt.xlabel('Количество продаж, млн копий') "
   ]
  },
  {
   "cell_type": "markdown",
   "metadata": {},
   "source": [
    "Корреляция:"
   ]
  },
  {
   "cell_type": "code",
   "execution_count": 26,
   "metadata": {},
   "outputs": [
    {
     "name": "stdout",
     "output_type": "stream",
     "text": [
      "\n",
      "Корреляция\n"
     ]
    },
    {
     "data": {
      "text/plain": [
       "critic_score    0.050691\n",
       "user_score     -0.038666\n",
       "total_sales     1.000000\n",
       "Name: total_sales, dtype: float64"
      ]
     },
     "execution_count": 26,
     "metadata": {},
     "output_type": "execute_result"
    }
   ],
   "source": [
    "print ()\n",
    "print('Корреляция')\n",
    "data.query('platform == \"3DS\"')[['critic_score', 'user_score', 'total_sales']].corr()['total_sales']"
   ]
  },
  {
   "cell_type": "markdown",
   "metadata": {},
   "source": [
    "Вывод: корреляции очень слабые. Если по `data['critic_score']` есть очень слабая зависимость, то по `data['user_score']` зависимость ещё слабее. То же самое нам показывают графики. "
   ]
  },
  {
   "cell_type": "markdown",
   "metadata": {},
   "source": [
    "## Распределение игр по жанрам"
   ]
  },
  {
   "cell_type": "markdown",
   "metadata": {},
   "source": [
    "В рамках текущего раздела мы посмотрим на общее распределение игр по жанрам, и узнаем выделяются ли жанры с высокими и низкими продажами."
   ]
  },
  {
   "cell_type": "markdown",
   "metadata": {},
   "source": [
    "Распределение игр по жанрам:"
   ]
  },
  {
   "cell_type": "code",
   "execution_count": 27,
   "metadata": {},
   "outputs": [
    {
     "data": {
      "text/plain": [
       "Action          619\n",
       "Role-Playing    221\n",
       "Adventure       185\n",
       "Sports          161\n",
       "Shooter         128\n",
       "Misc            113\n",
       "Racing           69\n",
       "Fighting         60\n",
       "Simulation       44\n",
       "Platform         38\n",
       "Strategy         37\n",
       "Puzzle           14\n",
       "Name: genre, dtype: int64"
      ]
     },
     "execution_count": 27,
     "metadata": {},
     "output_type": "execute_result"
    }
   ],
   "source": [
    "data['genre'].value_counts()"
   ]
  },
  {
   "cell_type": "markdown",
   "metadata": {},
   "source": [
    "Посмотрим на общее распределение продаж по жанрам:"
   ]
  },
  {
   "cell_type": "code",
   "execution_count": 28,
   "metadata": {},
   "outputs": [
    {
     "data": {
      "text/plain": [
       "genre\n",
       "Action          199.36\n",
       "Shooter         170.94\n",
       "Sports          109.48\n",
       "Role-Playing    101.44\n",
       "Misc             37.55\n",
       "Fighting         28.22\n",
       "Racing           27.52\n",
       "Platform         18.09\n",
       "Adventure        17.55\n",
       "Simulation       13.13\n",
       "Strategy          3.96\n",
       "Puzzle            2.21\n",
       "Name: total_sales, dtype: float64"
      ]
     },
     "execution_count": 28,
     "metadata": {},
     "output_type": "execute_result"
    }
   ],
   "source": [
    "data.groupby('genre')['total_sales'].sum().sort_values(ascending=False)"
   ]
  },
  {
   "cell_type": "markdown",
   "metadata": {},
   "source": [
    "Action, Shooter и Sports самые популярные. "
   ]
  },
  {
   "cell_type": "markdown",
   "metadata": {},
   "source": [
    "Теперь посмотрим на распределение жанров по  потенциально популярным платформам:"
   ]
  },
  {
   "cell_type": "code",
   "execution_count": 29,
   "metadata": {},
   "outputs": [
    {
     "name": "stdout",
     "output_type": "stream",
     "text": [
      "Платформа PS4 genre\n",
      "Action          91.62\n",
      "Shooter         78.46\n",
      "Sports          50.01\n",
      "Role-Playing    28.99\n",
      "Racing          10.16\n",
      "Misc             7.77\n",
      "Fighting         7.73\n",
      "Adventure        6.34\n",
      "Platform         5.42\n",
      "Simulation       1.23\n",
      "Strategy         0.40\n",
      "Puzzle           0.02\n",
      "Name: total_sales, dtype: float64\n",
      "\n",
      "******************************\n",
      "\n",
      "Платформа 3DS genre\n",
      "Role-Playing    40.02\n",
      "Action          22.06\n",
      "Fighting         8.10\n",
      "Simulation       4.13\n",
      "Platform         3.98\n",
      "Misc             3.85\n",
      "Adventure        1.57\n",
      "Sports           1.32\n",
      "Puzzle           0.87\n",
      "Strategy         0.78\n",
      "Name: total_sales, dtype: float64\n",
      "\n",
      "******************************\n",
      "\n",
      "Платформа XOne genre\n",
      "Shooter         55.39\n",
      "Action          31.06\n",
      "Sports          23.68\n",
      "Role-Playing    10.55\n",
      "Racing           6.89\n",
      "Misc             6.74\n",
      "Adventure        2.68\n",
      "Fighting         2.17\n",
      "Platform         0.62\n",
      "Simulation       0.33\n",
      "Strategy         0.25\n",
      "Name: total_sales, dtype: float64\n",
      "\n",
      "******************************\n",
      "\n"
     ]
    },
    {
     "data": {
      "text/plain": [
       "Text(0.5, 0, 'Жанры')"
      ]
     },
     "execution_count": 29,
     "metadata": {},
     "output_type": "execute_result"
    },
    {
     "data": {
      "image/png": "[encoded data removed]",
      "text/plain": [
       "<Figure size 1440x720 with 1 Axes>"
      ]
     },
     "metadata": {
      "needs_background": "light"
     },
     "output_type": "display_data"
    }
   ],
   "source": [
    "top3 = ['PS4', '3DS', 'XOne']\n",
    "i = 0\n",
    "for platforms in top3:\n",
    "    print('Платформа ' + top3[i], data.query('platform == @platforms').groupby('genre')['total_sales']\\\n",
    "          .sum().sort_values(ascending=False))\n",
    "    print ()\n",
    "    print('*' * 30)\n",
    "    print ()\n",
    "    i+=1\n",
    "data.query('platform == @top3').pivot_table(\n",
    "    index='platform', columns='genre', values='total_sales', aggfunc='sum').T.plot(\n",
    "    kind='bar', title='Распределение жанров по платформам', figsize = (20,10))\n",
    "plt.ylabel('Продажи')\n",
    "plt.xlabel('Жанры') "
   ]
  },
  {
   "cell_type": "markdown",
   "metadata": {},
   "source": [
    "Лучше всего продаётся \"Action\". \"Shooter\" и \"Sports\" хорошо продаётся на PS4 и XOne но практическки не продаётся на 3DS. Зато  на 3DS замечательно продаётся \"Role-Playing\". \n",
    "Хуже всего продаются \"Puzzle\" и \"Strategy\", видимо геймру думать очень больно и неприятно. "
   ]
  },
  {
   "cell_type": "markdown",
   "metadata": {},
   "source": [
    "# Портрет пользователя каждого региона"
   ]
  },
  {
   "cell_type": "markdown",
   "metadata": {},
   "source": [
    "Для пользователя каждого региона (NA, EU, JP) в рамках настоящего раздела мы определим:\n",
    "- самые популярные платформы (топ-5), опишем различия в долях продаж;\n",
    "- самые популярные жанры (топ-5), поясним разницу;\n",
    "- узнаем, влияет ли рейтинг ESRB на продажи в отдельном регионе?"
   ]
  },
  {
   "cell_type": "markdown",
   "metadata": {},
   "source": [
    "## Распределение по платформам"
   ]
  },
  {
   "cell_type": "markdown",
   "metadata": {},
   "source": [
    "Посмотрим на распределение платформ(топ-5) по долям для каждого региона:"
   ]
  },
  {
   "cell_type": "code",
   "execution_count": 30,
   "metadata": {},
   "outputs": [
    {
     "data": {
      "image/png": "[encoded data removed]",
      "text/plain": [
       "<Figure size 432x288 with 1 Axes>"
      ]
     },
     "metadata": {},
     "output_type": "display_data"
    },
    {
     "data": {
      "image/png": "[encoded data removed]",
      "text/plain": [
       "<Figure size 432x288 with 1 Axes>"
      ]
     },
     "metadata": {},
     "output_type": "display_data"
    },
    {
     "data": {
      "image/png": "[encoded data removed]",
      "text/plain": [
       "<Figure size 432x288 with 1 Axes>"
      ]
     },
     "metadata": {},
     "output_type": "display_data"
    }
   ],
   "source": [
    "reg = ['Северная Америка', 'Европа', 'Япония']\n",
    "i = 0\n",
    "for region in ['na_sales', 'eu_sales', 'jp_sales']:\n",
    "    platform_by_region = (data\n",
    "                   .pivot_table(index='platform', values=region, aggfunc='sum').copy()\n",
    "                      .sort_values(by=region, ascending=False))\n",
    "    \n",
    "    platform_by_region = platform_by_region.head()\n",
    "    labels = platform_by_region.index\n",
    "    fig, ax = plt.subplots()\n",
    "    ax.pie(platform_by_region[region], labels=labels, autopct='%1.1f%%', startangle=90)\n",
    "    ax.axis('equal')\n",
    "    plt.title(reg[i])\n",
    "    plt.show()\n",
    "    i+=1"
   ]
  },
  {
   "cell_type": "markdown",
   "metadata": {},
   "source": [
    "У пользователей в Северной Америке и Европе схожие предпочтения по игровым платформам. А вот пользователи Японии больше отдают предпочтение 3DS."
   ]
  },
  {
   "cell_type": "markdown",
   "metadata": {},
   "source": [
    "## Распределение жанров"
   ]
  },
  {
   "cell_type": "markdown",
   "metadata": {},
   "source": [
    "Посмотрим на распределение жанров(топ-5) по долям для каждого региона:"
   ]
  },
  {
   "cell_type": "code",
   "execution_count": 31,
   "metadata": {},
   "outputs": [
    {
     "data": {
      "image/png": "[encoded data removed]",
      "text/plain": [
       "<Figure size 432x288 with 1 Axes>"
      ]
     },
     "metadata": {},
     "output_type": "display_data"
    },
    {
     "data": {
      "image/png": "[encoded data removed]",
      "text/plain": [
       "<Figure size 432x288 with 1 Axes>"
      ]
     },
     "metadata": {},
     "output_type": "display_data"
    },
    {
     "data": {
      "image/png": "[encoded data removed]",
      "text/plain": [
       "<Figure size 432x288 with 1 Axes>"
      ]
     },
     "metadata": {},
     "output_type": "display_data"
    }
   ],
   "source": [
    "reg = ['Северная Америка', 'Европа', 'Япония']\n",
    "i = 0\n",
    "for region in ['na_sales', 'eu_sales', 'jp_sales']:\n",
    "    genre_by_region = (data\n",
    "                   .pivot_table(index='genre', values=region, aggfunc='sum').copy()\n",
    "                      .sort_values(by=region, ascending=False))\n",
    "    \n",
    "    genre_by_region = genre_by_region.head()\n",
    "    labels = genre_by_region.index\n",
    "    fig, ax = plt.subplots()\n",
    "    ax.pie(genre_by_region[region], labels=labels, autopct='%1.1f%%', startangle=90)\n",
    "    ax.axis('equal')\n",
    "    plt.title(reg[i])\n",
    "    plt.show()\n",
    "    i+=1"
   ]
  },
  {
   "cell_type": "markdown",
   "metadata": {},
   "source": [
    "`Action` любят во всех регионах. Но в Японии в отличие от Северной Америки и Европы доминирует `Role-Playing`, а `Shooter` совсем не популярен, в то время, как в Северной Америке и Европе `Shooter` на вторм месте. Как и с приставками у пользователей Северной Америки и Европы схожие предпочтения по жанрам."
   ]
  },
  {
   "cell_type": "markdown",
   "metadata": {},
   "source": [
    "## Распределение по рейтингу ESRP"
   ]
  },
  {
   "cell_type": "markdown",
   "metadata": {},
   "source": [
    "Посмотрим на распределение по рейтингу ESRP по регионам."
   ]
  },
  {
   "cell_type": "code",
   "execution_count": 32,
   "metadata": {},
   "outputs": [
    {
     "data": {
      "image/png": "[encoded data removed]",
      "text/plain": [
       "<Figure size 432x288 with 1 Axes>"
      ]
     },
     "metadata": {},
     "output_type": "display_data"
    },
    {
     "data": {
      "image/png": "[encoded data removed]",
      "text/plain": [
       "<Figure size 432x288 with 1 Axes>"
      ]
     },
     "metadata": {},
     "output_type": "display_data"
    },
    {
     "data": {
      "image/png": "[encoded data removed]",
      "text/plain": [
       "<Figure size 432x288 with 1 Axes>"
      ]
     },
     "metadata": {},
     "output_type": "display_data"
    }
   ],
   "source": [
    "reg = ['Северная Америка', 'Европа', 'Япония']\n",
    "i = 0\n",
    "for region in ['na_sales', 'eu_sales', 'jp_sales']:\n",
    "    esrp_by_region = (data\n",
    "                   .pivot_table(index='rating', values=region, aggfunc='sum').copy()\n",
    "                      .sort_values(by=region, ascending=False))\n",
    "    \n",
    "    esrp_by_region = esrp_by_region.head()\n",
    "    labels = esrp_by_region.index\n",
    "    fig, ax = plt.subplots()\n",
    "    ax.pie(esrp_by_region[region], labels=labels, autopct='%1.1f%%', startangle=90)\n",
    "    ax.axis('equal')\n",
    "    plt.title(reg[i])\n",
    "    plt.show()\n",
    "    i+=1"
   ]
  },
  {
   "cell_type": "markdown",
   "metadata": {},
   "source": [
    " в Северной Америке и Европе схожие ситуации, а вот в Японии не очень любят ставить рейтинги."
   ]
  },
  {
   "cell_type": "markdown",
   "metadata": {},
   "source": [
    "# Проверка гипотез"
   ]
  },
  {
   "cell_type": "markdown",
   "metadata": {},
   "source": [
    "Мы проверяем двусторонние гипотезы о равенстве средних генеральных совокупностей по взятым из них выборкам, поэтому мы можем использовать ttest. Значение alpha принимаем 0.05."
   ]
  },
  {
   "cell_type": "markdown",
   "metadata": {},
   "source": [
    "## Средние пользовательские рейтинги платформ Xbox One и PC одинаковые"
   ]
  },
  {
   "cell_type": "markdown",
   "metadata": {},
   "source": [
    "Формируем нулевую и альтернативную гипотезы:\n",
    "- нулевая гипотеза: средние пользовательские рейтинги платформ XOne и PC одинаковые;\n",
    "- альтернативная гипотеза: средние пользовательские рейтинги платформ XOne и PC различаются."
   ]
  },
  {
   "cell_type": "code",
   "execution_count": 33,
   "metadata": {},
   "outputs": [
    {
     "name": "stdout",
     "output_type": "stream",
     "text": [
      "\n",
      "Ttest_indResult(statistic=-1.8769268302279853, pvalue=0.061300213656989004)\n",
      "\n",
      "Не получилось отвергнуть нулевую гипотезу\n"
     ]
    }
   ],
   "source": [
    "pc = data.query('platform == \"PC\"')['user_score'] !=99\n",
    "xone = data.query('platform == \"XOne\"')['user_score'] !=99\n",
    "\n",
    "alpha = .05\n",
    "\n",
    "results = st.ttest_ind(xone, pc)\n",
    "print ()\n",
    "print (results)\n",
    "print ()\n",
    "\n",
    "if (results.pvalue < alpha):\n",
    "    print(\"Отвергаем нулевую гипотезу\")\n",
    "else:\n",
    "    print(\"Не получилось отвергнуть нулевую гипотезу\")"
   ]
  },
  {
   "cell_type": "markdown",
   "metadata": {},
   "source": [
    "Вывод: средние пользовательские рейтинги платформ XOne и PC одинаковые."
   ]
  },
  {
   "cell_type": "markdown",
   "metadata": {},
   "source": [
    "## Средние пользовательские рейтинги жанров Action  и Sports  разные"
   ]
  },
  {
   "cell_type": "markdown",
   "metadata": {},
   "source": [
    "Формируем нулевую и альтернативную гипотезы:\n",
    "- нулевая гипотеза: средние пользовательские рейтинги жанров Action и Sports равны;\n",
    "- альтернативная гипотеза: средние пользовательские рейтинги жанров Action и Sports различаются."
   ]
  },
  {
   "cell_type": "code",
   "execution_count": 34,
   "metadata": {},
   "outputs": [
    {
     "name": "stdout",
     "output_type": "stream",
     "text": [
      "\n",
      "Ttest_indResult(statistic=-7.23533662038372, pvalue=1.1143179853130626e-12)\n",
      "\n",
      "Отвергаем нулевую гипотезу\n"
     ]
    }
   ],
   "source": [
    "action = data.query('genre == \"Action\"')['user_score'] != 99\n",
    "sports = data.query('genre == \"Sports\"')['user_score'] != 99\n",
    "alpha = .05\n",
    "\n",
    "results = st.ttest_ind(action, sports)\n",
    "print ()\n",
    "print (results)\n",
    "print ()\n",
    "\n",
    "if (results.pvalue < alpha):\n",
    "    print(\"Отвергаем нулевую гипотезу\")\n",
    "else:\n",
    "    print(\"Не получилось отвергнуть нулевую гипотезу\")"
   ]
  },
  {
   "cell_type": "markdown",
   "metadata": {},
   "source": [
    "Вывод: средние пользовательские рейтинги жанров Action и Sports ~~pавны~~ различаются."
   ]
  },
  {
   "cell_type": "markdown",
   "metadata": {},
   "source": [
    "# Вывод:"
   ]
  },
  {
   "cell_type": "markdown",
   "metadata": {},
   "source": [
    "В ходе выполнения проекта мы провели массу работы, а именно:\n",
    "- подготовили данные для анализа (привели названия столбцов к нижнему регистру, изменили типы данных, обработали пропуски, рассчитали суммарные продажи во всех регионах);\n",
    "- провели исследовательский анализ данных (выяснили, сколько игр выпускалось в разные годы, отследили изменеия продаж, определили актуальный период для исследования,выбрали потенциально прибыльные платформы а так же изучили влияние оценок критиков и пользователей);\n",
    "- составили портрет пользователя в каждом регионе;\n",
    "- провели проверку гепотез (средние пользовательские рейтинги платформ Xbox One и PC одинаковые, средние пользовательские рейтинги жанров Action и Sports разные).\n",
    "\n",
    "На основании проведённого анализа, учитывая полученные результаты можно сделать нижеследующие выводы:\n"
   ]
  },
  {
   "cell_type": "markdown",
   "metadata": {},
   "source": [
    "1. Рынок игр падает, и, скорее всего будет падать.\n",
    "2. Средний срок жизни игровой платформы 11 лет.\n",
    "3. На момент 2016 года самые популярные платформы  PS4, XOne и 3DS. Скорее всего в 2017 они сохранят свою популярность.\n",
    "4. Оценки пользователей практически не влияют на продажи игр.\n",
    "5. Оценки критиков очень слабо влияют на продажи игр.\n",
    "7. Самыми популярными жанрами являются Action, Shooter и Sports."
   ]
  }
 ],
 "metadata": {
  "ExecuteTimeLog": [
   {
    "duration": 1607,
    "start_time": "2022-04-16T08:50:55.885Z"
   },
   {
    "duration": 17,
    "start_time": "2022-04-16T08:53:03.467Z"
   },
   {
    "duration": 23,
    "start_time": "2022-04-16T08:54:57.646Z"
   },
   {
    "duration": 11,
    "start_time": "2022-04-16T08:55:52.188Z"
   },
   {
    "duration": 10,
    "start_time": "2022-04-16T08:57:12.867Z"
   },
   {
    "duration": 31,
    "start_time": "2022-04-16T08:58:29.925Z"
   },
   {
    "duration": 27,
    "start_time": "2022-04-16T09:01:40.739Z"
   },
   {
    "duration": 20,
    "start_time": "2022-04-16T09:02:38.644Z"
   },
   {
    "duration": 18,
    "start_time": "2022-04-16T09:04:12.778Z"
   },
   {
    "duration": 165,
    "start_time": "2022-04-16T09:07:13.728Z"
   },
   {
    "duration": 432,
    "start_time": "2022-04-16T09:07:38.815Z"
   },
   {
    "duration": 372,
    "start_time": "2022-04-16T09:10:42.941Z"
   },
   {
    "duration": 1129,
    "start_time": "2022-04-16T09:13:07.460Z"
   },
   {
    "duration": 1321,
    "start_time": "2022-04-16T09:13:24.566Z"
   },
   {
    "duration": 1135,
    "start_time": "2022-04-16T09:13:36.220Z"
   },
   {
    "duration": 31,
    "start_time": "2022-04-16T09:20:34.741Z"
   },
   {
    "duration": 1863,
    "start_time": "2022-04-16T19:55:52.960Z"
   },
   {
    "duration": 30,
    "start_time": "2022-04-16T19:55:54.826Z"
   },
   {
    "duration": 29,
    "start_time": "2022-04-16T19:55:54.858Z"
   },
   {
    "duration": 13,
    "start_time": "2022-04-16T19:55:54.890Z"
   },
   {
    "duration": 10,
    "start_time": "2022-04-16T19:55:54.905Z"
   },
   {
    "duration": 27,
    "start_time": "2022-04-16T19:55:54.952Z"
   },
   {
    "duration": 25,
    "start_time": "2022-04-16T19:55:54.981Z"
   },
   {
    "duration": 75,
    "start_time": "2022-04-16T19:55:55.009Z"
   },
   {
    "duration": 36,
    "start_time": "2022-04-16T19:55:55.087Z"
   },
   {
    "duration": 706,
    "start_time": "2022-04-16T19:55:55.128Z"
   },
   {
    "duration": 605,
    "start_time": "2022-04-16T19:55:55.836Z"
   },
   {
    "duration": 1612,
    "start_time": "2022-04-16T19:55:56.443Z"
   },
   {
    "duration": 25,
    "start_time": "2022-04-16T19:55:58.057Z"
   },
   {
    "duration": 26,
    "start_time": "2022-04-16T20:15:41.402Z"
   },
   {
    "duration": 23,
    "start_time": "2022-04-16T20:15:51.450Z"
   },
   {
    "duration": 25,
    "start_time": "2022-04-16T20:15:56.227Z"
   },
   {
    "duration": 787,
    "start_time": "2022-04-16T20:20:18.046Z"
   },
   {
    "duration": 477,
    "start_time": "2022-04-16T20:21:45.978Z"
   },
   {
    "duration": 474,
    "start_time": "2022-04-16T20:24:08.635Z"
   },
   {
    "duration": 346,
    "start_time": "2022-04-16T20:25:58.469Z"
   },
   {
    "duration": 347,
    "start_time": "2022-04-16T20:27:14.468Z"
   },
   {
    "duration": 390,
    "start_time": "2022-04-16T20:27:40.207Z"
   },
   {
    "duration": 362,
    "start_time": "2022-04-16T20:27:54.694Z"
   },
   {
    "duration": 340,
    "start_time": "2022-04-16T20:28:01.066Z"
   },
   {
    "duration": 464,
    "start_time": "2022-04-16T20:28:09.218Z"
   },
   {
    "duration": 338,
    "start_time": "2022-04-16T20:28:23.878Z"
   },
   {
    "duration": 342,
    "start_time": "2022-04-16T20:28:57.609Z"
   },
   {
    "duration": 1561,
    "start_time": "2022-04-16T20:29:43.139Z"
   },
   {
    "duration": 22,
    "start_time": "2022-04-16T20:29:44.703Z"
   },
   {
    "duration": 45,
    "start_time": "2022-04-16T20:29:44.727Z"
   },
   {
    "duration": 14,
    "start_time": "2022-04-16T20:29:44.775Z"
   },
   {
    "duration": 10,
    "start_time": "2022-04-16T20:29:44.791Z"
   },
   {
    "duration": 56,
    "start_time": "2022-04-16T20:29:44.803Z"
   },
   {
    "duration": 27,
    "start_time": "2022-04-16T20:29:44.861Z"
   },
   {
    "duration": 25,
    "start_time": "2022-04-16T20:29:44.890Z"
   },
   {
    "duration": 59,
    "start_time": "2022-04-16T20:29:44.918Z"
   },
   {
    "duration": 731,
    "start_time": "2022-04-16T20:29:44.980Z"
   },
   {
    "duration": 639,
    "start_time": "2022-04-16T20:29:45.713Z"
   },
   {
    "duration": 1677,
    "start_time": "2022-04-16T20:29:46.354Z"
   },
   {
    "duration": 32,
    "start_time": "2022-04-16T20:29:48.033Z"
   },
   {
    "duration": 448,
    "start_time": "2022-04-16T20:29:48.067Z"
   },
   {
    "duration": 348,
    "start_time": "2022-04-16T20:30:59.773Z"
   },
   {
    "duration": 13,
    "start_time": "2022-04-16T20:31:22.281Z"
   },
   {
    "duration": 12,
    "start_time": "2022-04-16T20:31:42.300Z"
   },
   {
    "duration": 12,
    "start_time": "2022-04-16T20:31:50.785Z"
   },
   {
    "duration": 12,
    "start_time": "2022-04-16T20:32:02.220Z"
   },
   {
    "duration": 480,
    "start_time": "2022-04-16T20:44:22.217Z"
   },
   {
    "duration": 100,
    "start_time": "2022-04-16T20:45:04.317Z"
   },
   {
    "duration": 22,
    "start_time": "2022-04-16T20:45:12.782Z"
   },
   {
    "duration": 64,
    "start_time": "2022-04-16T20:45:45.138Z"
   },
   {
    "duration": 398,
    "start_time": "2022-04-16T20:46:00.212Z"
   },
   {
    "duration": 397,
    "start_time": "2022-04-16T20:46:17.361Z"
   },
   {
    "duration": 369,
    "start_time": "2022-04-16T20:47:11.806Z"
   },
   {
    "duration": 360,
    "start_time": "2022-04-16T20:47:17.971Z"
   },
   {
    "duration": 248,
    "start_time": "2022-04-16T20:47:28.312Z"
   },
   {
    "duration": 246,
    "start_time": "2022-04-16T20:47:39.087Z"
   },
   {
    "duration": 240,
    "start_time": "2022-04-16T20:50:12.501Z"
   },
   {
    "duration": 233,
    "start_time": "2022-04-16T20:50:21.876Z"
   },
   {
    "duration": 238,
    "start_time": "2022-04-16T20:50:44.783Z"
   },
   {
    "duration": 312,
    "start_time": "2022-04-16T20:51:11.216Z"
   },
   {
    "duration": 323,
    "start_time": "2022-04-16T20:51:22.976Z"
   },
   {
    "duration": 243,
    "start_time": "2022-04-16T20:51:58.291Z"
   },
   {
    "duration": 238,
    "start_time": "2022-04-16T20:52:04.693Z"
   },
   {
    "duration": 246,
    "start_time": "2022-04-16T20:52:17.310Z"
   },
   {
    "duration": 45,
    "start_time": "2022-04-16T21:07:20.488Z"
   },
   {
    "duration": 13,
    "start_time": "2022-04-16T21:07:56.040Z"
   },
   {
    "duration": 183,
    "start_time": "2022-04-16T21:10:14.225Z"
   },
   {
    "duration": 325,
    "start_time": "2022-04-16T21:13:21.872Z"
   },
   {
    "duration": 329,
    "start_time": "2022-04-16T21:15:43.489Z"
   },
   {
    "duration": 347,
    "start_time": "2022-04-16T21:15:56.943Z"
   },
   {
    "duration": 167,
    "start_time": "2022-04-16T21:16:28.223Z"
   },
   {
    "duration": 177,
    "start_time": "2022-04-16T21:19:21.025Z"
   },
   {
    "duration": 184,
    "start_time": "2022-04-16T21:21:09.338Z"
   },
   {
    "duration": 185,
    "start_time": "2022-04-16T21:21:35.537Z"
   },
   {
    "duration": 171,
    "start_time": "2022-04-16T21:21:52.626Z"
   },
   {
    "duration": 173,
    "start_time": "2022-04-16T21:22:25.303Z"
   },
   {
    "duration": 275,
    "start_time": "2022-04-16T21:23:00.859Z"
   },
   {
    "duration": 167,
    "start_time": "2022-04-16T21:24:33.458Z"
   },
   {
    "duration": 177,
    "start_time": "2022-04-16T21:25:59.358Z"
   },
   {
    "duration": 40,
    "start_time": "2022-04-16T21:26:25.494Z"
   },
   {
    "duration": 1857,
    "start_time": "2022-04-16T21:28:35.163Z"
   },
   {
    "duration": 30,
    "start_time": "2022-04-16T21:28:37.023Z"
   },
   {
    "duration": 27,
    "start_time": "2022-04-16T21:28:37.055Z"
   },
   {
    "duration": 13,
    "start_time": "2022-04-16T21:28:37.084Z"
   },
   {
    "duration": 50,
    "start_time": "2022-04-16T21:28:37.102Z"
   },
   {
    "duration": 26,
    "start_time": "2022-04-16T21:28:37.154Z"
   },
   {
    "duration": 25,
    "start_time": "2022-04-16T21:28:37.182Z"
   },
   {
    "duration": 63,
    "start_time": "2022-04-16T21:28:37.209Z"
   },
   {
    "duration": 25,
    "start_time": "2022-04-16T21:28:37.275Z"
   },
   {
    "duration": 737,
    "start_time": "2022-04-16T21:28:37.302Z"
   },
   {
    "duration": 623,
    "start_time": "2022-04-16T21:28:38.041Z"
   },
   {
    "duration": 1688,
    "start_time": "2022-04-16T21:28:38.666Z"
   },
   {
    "duration": 24,
    "start_time": "2022-04-16T21:28:40.357Z"
   },
   {
    "duration": 354,
    "start_time": "2022-04-16T21:28:40.385Z"
   },
   {
    "duration": 260,
    "start_time": "2022-04-16T21:28:40.742Z"
   },
   {
    "duration": 267,
    "start_time": "2022-04-16T21:28:41.004Z"
   },
   {
    "duration": 194,
    "start_time": "2022-04-16T21:28:41.274Z"
   },
   {
    "duration": 325,
    "start_time": "2022-04-16T21:30:24.661Z"
   },
   {
    "duration": 207,
    "start_time": "2022-04-16T21:30:33.081Z"
   },
   {
    "duration": 151,
    "start_time": "2022-04-16T21:30:41.866Z"
   },
   {
    "duration": 1025,
    "start_time": "2022-04-16T21:31:14.312Z"
   },
   {
    "duration": 222,
    "start_time": "2022-04-16T21:31:29.476Z"
   },
   {
    "duration": 233,
    "start_time": "2022-04-16T21:31:45.261Z"
   },
   {
    "duration": 223,
    "start_time": "2022-04-16T21:32:16.221Z"
   },
   {
    "duration": 231,
    "start_time": "2022-04-16T21:33:00.001Z"
   },
   {
    "duration": 327,
    "start_time": "2022-04-16T21:33:19.401Z"
   },
   {
    "duration": 169,
    "start_time": "2022-04-16T21:33:43.850Z"
   },
   {
    "duration": 151,
    "start_time": "2022-04-16T21:33:49.780Z"
   },
   {
    "duration": 177,
    "start_time": "2022-04-16T21:33:59.260Z"
   },
   {
    "duration": 166,
    "start_time": "2022-04-16T21:34:17.730Z"
   },
   {
    "duration": 163,
    "start_time": "2022-04-16T21:36:08.090Z"
   },
   {
    "duration": 308,
    "start_time": "2022-04-16T21:37:14.105Z"
   },
   {
    "duration": 311,
    "start_time": "2022-04-16T21:37:30.800Z"
   },
   {
    "duration": 167,
    "start_time": "2022-04-16T21:37:57.579Z"
   },
   {
    "duration": 178,
    "start_time": "2022-04-16T21:53:22.945Z"
   },
   {
    "duration": 353,
    "start_time": "2022-04-16T21:54:06.728Z"
   },
   {
    "duration": 474,
    "start_time": "2022-04-16T21:54:34.041Z"
   },
   {
    "duration": 286,
    "start_time": "2022-04-16T21:56:57.144Z"
   },
   {
    "duration": 316,
    "start_time": "2022-04-16T21:57:12.663Z"
   },
   {
    "duration": 969,
    "start_time": "2022-04-16T21:58:32.728Z"
   },
   {
    "duration": 1178,
    "start_time": "2022-04-16T21:59:06.886Z"
   },
   {
    "duration": 1170,
    "start_time": "2022-04-16T22:00:40.629Z"
   },
   {
    "duration": 1317,
    "start_time": "2022-04-16T22:02:30.994Z"
   },
   {
    "duration": 1315,
    "start_time": "2022-04-16T22:02:38.894Z"
   },
   {
    "duration": 102,
    "start_time": "2022-04-16T22:02:55.114Z"
   },
   {
    "duration": 1350,
    "start_time": "2022-04-16T22:02:59.079Z"
   },
   {
    "duration": 1026,
    "start_time": "2022-04-16T22:03:34.103Z"
   },
   {
    "duration": 1147,
    "start_time": "2022-04-16T22:05:00.589Z"
   },
   {
    "duration": 1034,
    "start_time": "2022-04-16T22:06:43.601Z"
   },
   {
    "duration": 1100,
    "start_time": "2022-04-16T22:07:18.231Z"
   },
   {
    "duration": 193,
    "start_time": "2022-04-16T22:08:35.140Z"
   },
   {
    "duration": 277,
    "start_time": "2022-04-16T22:11:02.510Z"
   },
   {
    "duration": 182,
    "start_time": "2022-04-16T22:11:22.521Z"
   },
   {
    "duration": 187,
    "start_time": "2022-04-16T22:11:36.706Z"
   },
   {
    "duration": 1001,
    "start_time": "2022-04-16T22:12:00.170Z"
   },
   {
    "duration": 183,
    "start_time": "2022-04-16T22:12:36.401Z"
   },
   {
    "duration": 185,
    "start_time": "2022-04-16T22:13:02.116Z"
   },
   {
    "duration": 1064,
    "start_time": "2022-04-16T22:13:25.103Z"
   },
   {
    "duration": 1088,
    "start_time": "2022-04-16T22:13:58.640Z"
   },
   {
    "duration": 1175,
    "start_time": "2022-04-16T22:14:14.210Z"
   },
   {
    "duration": 1081,
    "start_time": "2022-04-16T22:14:25.361Z"
   },
   {
    "duration": 1084,
    "start_time": "2022-04-16T22:14:38.070Z"
   },
   {
    "duration": 1223,
    "start_time": "2022-04-16T22:14:47.945Z"
   },
   {
    "duration": 1029,
    "start_time": "2022-04-16T22:14:55.590Z"
   },
   {
    "duration": 1039,
    "start_time": "2022-04-16T22:15:05.956Z"
   },
   {
    "duration": 1030,
    "start_time": "2022-04-16T22:22:07.534Z"
   },
   {
    "duration": 1108,
    "start_time": "2022-04-16T22:22:48.888Z"
   },
   {
    "duration": 159,
    "start_time": "2022-04-16T22:23:13.904Z"
   },
   {
    "duration": 991,
    "start_time": "2022-04-16T22:24:07.883Z"
   },
   {
    "duration": 99,
    "start_time": "2022-04-16T22:26:13.975Z"
   },
   {
    "duration": 51,
    "start_time": "2022-04-16T22:26:19.625Z"
   },
   {
    "duration": 91,
    "start_time": "2022-04-16T22:26:34.711Z"
   },
   {
    "duration": 46,
    "start_time": "2022-04-16T22:26:41.375Z"
   },
   {
    "duration": 47,
    "start_time": "2022-04-16T22:27:37.244Z"
   },
   {
    "duration": 48,
    "start_time": "2022-04-16T22:27:56.990Z"
   },
   {
    "duration": 782,
    "start_time": "2022-04-16T22:29:14.582Z"
   },
   {
    "duration": 4657,
    "start_time": "2022-04-16T22:30:31.452Z"
   },
   {
    "duration": 5157,
    "start_time": "2022-04-16T22:31:07.554Z"
   },
   {
    "duration": 5195,
    "start_time": "2022-04-16T22:31:40.446Z"
   },
   {
    "duration": 4760,
    "start_time": "2022-04-16T22:31:50.707Z"
   },
   {
    "duration": 23,
    "start_time": "2022-04-16T22:32:53.217Z"
   },
   {
    "duration": 4994,
    "start_time": "2022-04-16T22:33:41.068Z"
   },
   {
    "duration": 1400,
    "start_time": "2022-04-16T22:35:36.155Z"
   },
   {
    "duration": 1153,
    "start_time": "2022-04-16T22:35:55.425Z"
   },
   {
    "duration": 1229,
    "start_time": "2022-04-16T22:36:30.610Z"
   },
   {
    "duration": 999,
    "start_time": "2022-04-16T22:37:11.248Z"
   },
   {
    "duration": 1112,
    "start_time": "2022-04-16T22:37:23.233Z"
   },
   {
    "duration": 1054,
    "start_time": "2022-04-16T22:37:38.943Z"
   },
   {
    "duration": 1519,
    "start_time": "2022-04-16T22:38:05.169Z"
   },
   {
    "duration": 1126,
    "start_time": "2022-04-16T22:38:52.179Z"
   },
   {
    "duration": 966,
    "start_time": "2022-04-16T22:39:11.496Z"
   },
   {
    "duration": 1240,
    "start_time": "2022-04-16T22:39:42.380Z"
   },
   {
    "duration": 1019,
    "start_time": "2022-04-16T22:39:52.619Z"
   },
   {
    "duration": 959,
    "start_time": "2022-04-16T22:40:44.444Z"
   },
   {
    "duration": 1046,
    "start_time": "2022-04-16T22:40:56.454Z"
   },
   {
    "duration": 155,
    "start_time": "2022-04-16T22:46:52.995Z"
   },
   {
    "duration": 161,
    "start_time": "2022-04-16T22:48:04.049Z"
   },
   {
    "duration": 155,
    "start_time": "2022-04-16T22:48:18.899Z"
   },
   {
    "duration": 153,
    "start_time": "2022-04-16T22:48:39.916Z"
   },
   {
    "duration": 95,
    "start_time": "2022-04-16T22:52:27.825Z"
   },
   {
    "duration": 1011,
    "start_time": "2022-04-16T22:52:45.036Z"
   },
   {
    "duration": 1580,
    "start_time": "2022-04-16T22:53:58.532Z"
   },
   {
    "duration": 1012,
    "start_time": "2022-04-16T22:54:22.785Z"
   },
   {
    "duration": 1088,
    "start_time": "2022-04-16T22:59:08.105Z"
   },
   {
    "duration": 1177,
    "start_time": "2022-04-16T22:59:18.285Z"
   },
   {
    "duration": 157,
    "start_time": "2022-04-16T23:01:32.153Z"
   },
   {
    "duration": 124,
    "start_time": "2022-04-16T23:02:39.669Z"
   },
   {
    "duration": 160,
    "start_time": "2022-04-16T23:03:31.230Z"
   },
   {
    "duration": 199,
    "start_time": "2022-04-16T23:04:37.422Z"
   },
   {
    "duration": 148,
    "start_time": "2022-04-16T23:04:48.460Z"
   },
   {
    "duration": 112,
    "start_time": "2022-04-16T23:05:13.066Z"
   },
   {
    "duration": 397,
    "start_time": "2022-04-16T23:05:34.810Z"
   },
   {
    "duration": 151,
    "start_time": "2022-04-16T23:05:46.051Z"
   },
   {
    "duration": 118,
    "start_time": "2022-04-16T23:05:58.409Z"
   },
   {
    "duration": 90,
    "start_time": "2022-04-16T23:06:08.025Z"
   },
   {
    "duration": 100,
    "start_time": "2022-04-16T23:06:13.447Z"
   },
   {
    "duration": 147,
    "start_time": "2022-04-16T23:06:17.939Z"
   },
   {
    "duration": 298,
    "start_time": "2022-04-16T23:09:19.373Z"
   },
   {
    "duration": 301,
    "start_time": "2022-04-16T23:11:49.729Z"
   },
   {
    "duration": 480,
    "start_time": "2022-04-16T23:12:26.211Z"
   },
   {
    "duration": 54,
    "start_time": "2022-04-16T23:13:26.485Z"
   },
   {
    "duration": 553,
    "start_time": "2022-04-16T23:13:41.480Z"
   },
   {
    "duration": 300,
    "start_time": "2022-04-16T23:14:08.208Z"
   },
   {
    "duration": 260,
    "start_time": "2022-04-16T23:14:27.123Z"
   },
   {
    "duration": 297,
    "start_time": "2022-04-16T23:14:47.042Z"
   },
   {
    "duration": 305,
    "start_time": "2022-04-16T23:14:59.873Z"
   },
   {
    "duration": 308,
    "start_time": "2022-04-16T23:15:31.868Z"
   },
   {
    "duration": 1414,
    "start_time": "2022-04-17T19:19:45.381Z"
   },
   {
    "duration": 13,
    "start_time": "2022-04-17T19:19:46.797Z"
   },
   {
    "duration": 24,
    "start_time": "2022-04-17T19:19:46.811Z"
   },
   {
    "duration": 9,
    "start_time": "2022-04-17T19:19:46.837Z"
   },
   {
    "duration": 14,
    "start_time": "2022-04-17T19:19:46.848Z"
   },
   {
    "duration": 24,
    "start_time": "2022-04-17T19:19:46.864Z"
   },
   {
    "duration": 30,
    "start_time": "2022-04-17T19:19:46.890Z"
   },
   {
    "duration": 17,
    "start_time": "2022-04-17T19:19:46.922Z"
   },
   {
    "duration": 16,
    "start_time": "2022-04-17T19:19:46.941Z"
   },
   {
    "duration": 426,
    "start_time": "2022-04-17T19:19:46.959Z"
   },
   {
    "duration": 356,
    "start_time": "2022-04-17T19:19:47.387Z"
   },
   {
    "duration": 1075,
    "start_time": "2022-04-17T19:19:47.745Z"
   },
   {
    "duration": 16,
    "start_time": "2022-04-17T19:19:48.822Z"
   },
   {
    "duration": 231,
    "start_time": "2022-04-17T19:19:48.840Z"
   },
   {
    "duration": 160,
    "start_time": "2022-04-17T19:19:49.072Z"
   },
   {
    "duration": 150,
    "start_time": "2022-04-17T19:19:49.234Z"
   },
   {
    "duration": 693,
    "start_time": "2022-04-17T19:19:49.386Z"
   },
   {
    "duration": 878,
    "start_time": "2022-04-17T19:20:17.255Z"
   },
   {
    "duration": 645,
    "start_time": "2022-04-17T19:20:42.333Z"
   },
   {
    "duration": 850,
    "start_time": "2022-04-17T19:21:27.533Z"
   },
   {
    "duration": 662,
    "start_time": "2022-04-17T19:21:45.365Z"
   },
   {
    "duration": 170,
    "start_time": "2022-04-17T19:41:01.953Z"
   },
   {
    "duration": 157,
    "start_time": "2022-04-17T19:42:28.627Z"
   },
   {
    "duration": 159,
    "start_time": "2022-04-17T19:42:34.995Z"
   },
   {
    "duration": 163,
    "start_time": "2022-04-17T19:43:07.455Z"
   },
   {
    "duration": 100,
    "start_time": "2022-04-17T19:48:12.426Z"
   },
   {
    "duration": 11,
    "start_time": "2022-04-17T19:48:22.251Z"
   },
   {
    "duration": 11,
    "start_time": "2022-04-17T19:48:32.945Z"
   },
   {
    "duration": 151,
    "start_time": "2022-04-17T19:50:21.358Z"
   },
   {
    "duration": 87,
    "start_time": "2022-04-17T19:52:11.099Z"
   },
   {
    "duration": 14,
    "start_time": "2022-04-17T19:52:16.806Z"
   },
   {
    "duration": 18,
    "start_time": "2022-04-17T19:52:27.395Z"
   },
   {
    "duration": 10,
    "start_time": "2022-04-17T19:52:32.438Z"
   },
   {
    "duration": 7,
    "start_time": "2022-04-17T19:52:46.146Z"
   },
   {
    "duration": 19,
    "start_time": "2022-04-17T19:52:49.447Z"
   },
   {
    "duration": 1264,
    "start_time": "2022-04-17T19:53:36.036Z"
   },
   {
    "duration": 12,
    "start_time": "2022-04-17T19:53:37.302Z"
   },
   {
    "duration": 19,
    "start_time": "2022-04-17T19:53:37.315Z"
   },
   {
    "duration": 8,
    "start_time": "2022-04-17T19:53:37.336Z"
   },
   {
    "duration": 6,
    "start_time": "2022-04-17T19:53:37.345Z"
   },
   {
    "duration": 18,
    "start_time": "2022-04-17T19:53:37.353Z"
   },
   {
    "duration": 43,
    "start_time": "2022-04-17T19:53:37.372Z"
   },
   {
    "duration": 18,
    "start_time": "2022-04-17T19:53:37.417Z"
   },
   {
    "duration": 17,
    "start_time": "2022-04-17T19:53:37.436Z"
   },
   {
    "duration": 423,
    "start_time": "2022-04-17T19:53:37.455Z"
   },
   {
    "duration": 350,
    "start_time": "2022-04-17T19:53:37.880Z"
   },
   {
    "duration": 1048,
    "start_time": "2022-04-17T19:53:38.232Z"
   },
   {
    "duration": 17,
    "start_time": "2022-04-17T19:53:39.281Z"
   },
   {
    "duration": 239,
    "start_time": "2022-04-17T19:53:39.307Z"
   },
   {
    "duration": 154,
    "start_time": "2022-04-17T19:53:39.547Z"
   },
   {
    "duration": 154,
    "start_time": "2022-04-17T19:53:39.707Z"
   },
   {
    "duration": 673,
    "start_time": "2022-04-17T19:53:39.862Z"
   },
   {
    "duration": 150,
    "start_time": "2022-04-17T19:53:40.536Z"
   },
   {
    "duration": 4,
    "start_time": "2022-04-17T19:53:40.688Z"
   },
   {
    "duration": 100,
    "start_time": "2022-04-17T19:53:58.541Z"
   },
   {
    "duration": 150,
    "start_time": "2022-04-17T19:54:19.449Z"
   },
   {
    "duration": 4,
    "start_time": "2022-04-17T19:55:00.701Z"
   },
   {
    "duration": 234,
    "start_time": "2022-04-17T19:55:30.760Z"
   },
   {
    "duration": 146,
    "start_time": "2022-04-17T19:55:44.268Z"
   },
   {
    "duration": 139,
    "start_time": "2022-04-17T19:55:52.343Z"
   },
   {
    "duration": 146,
    "start_time": "2022-04-17T19:56:09.641Z"
   },
   {
    "duration": 159,
    "start_time": "2022-04-17T19:57:05.108Z"
   },
   {
    "duration": 152,
    "start_time": "2022-04-17T19:58:13.093Z"
   },
   {
    "duration": 159,
    "start_time": "2022-04-17T19:59:26.717Z"
   },
   {
    "duration": 155,
    "start_time": "2022-04-17T20:00:44.643Z"
   },
   {
    "duration": 147,
    "start_time": "2022-04-17T20:01:35.629Z"
   },
   {
    "duration": 159,
    "start_time": "2022-04-17T20:02:05.741Z"
   },
   {
    "duration": 141,
    "start_time": "2022-04-17T20:02:21.071Z"
   },
   {
    "duration": 127,
    "start_time": "2022-04-17T20:02:24.824Z"
   },
   {
    "duration": 166,
    "start_time": "2022-04-17T20:02:44.851Z"
   },
   {
    "duration": 241,
    "start_time": "2022-04-17T20:03:11.801Z"
   },
   {
    "duration": 205,
    "start_time": "2022-04-17T20:03:34.394Z"
   },
   {
    "duration": 199,
    "start_time": "2022-04-17T20:04:40.639Z"
   },
   {
    "duration": 97,
    "start_time": "2022-04-17T20:07:05.333Z"
   },
   {
    "duration": 14,
    "start_time": "2022-04-17T20:07:09.715Z"
   },
   {
    "duration": 18,
    "start_time": "2022-04-17T20:07:13.445Z"
   },
   {
    "duration": 10,
    "start_time": "2022-04-17T20:07:17.129Z"
   },
   {
    "duration": 7,
    "start_time": "2022-04-17T20:07:20.658Z"
   },
   {
    "duration": 20,
    "start_time": "2022-04-17T20:07:24.483Z"
   },
   {
    "duration": 17,
    "start_time": "2022-04-17T20:07:31.625Z"
   },
   {
    "duration": 18,
    "start_time": "2022-04-17T20:07:36.030Z"
   },
   {
    "duration": 1250,
    "start_time": "2022-04-17T20:07:46.546Z"
   },
   {
    "duration": 14,
    "start_time": "2022-04-17T20:07:47.797Z"
   },
   {
    "duration": 20,
    "start_time": "2022-04-17T20:07:47.813Z"
   },
   {
    "duration": 10,
    "start_time": "2022-04-17T20:07:47.836Z"
   },
   {
    "duration": 8,
    "start_time": "2022-04-17T20:07:47.848Z"
   },
   {
    "duration": 18,
    "start_time": "2022-04-17T20:07:47.858Z"
   },
   {
    "duration": 18,
    "start_time": "2022-04-17T20:07:47.908Z"
   },
   {
    "duration": 17,
    "start_time": "2022-04-17T20:07:47.927Z"
   },
   {
    "duration": 16,
    "start_time": "2022-04-17T20:07:47.945Z"
   },
   {
    "duration": 462,
    "start_time": "2022-04-17T20:07:47.964Z"
   },
   {
    "duration": 379,
    "start_time": "2022-04-17T20:07:48.428Z"
   },
   {
    "duration": 1111,
    "start_time": "2022-04-17T20:07:48.809Z"
   },
   {
    "duration": 17,
    "start_time": "2022-04-17T20:07:49.922Z"
   },
   {
    "duration": 241,
    "start_time": "2022-04-17T20:07:49.941Z"
   },
   {
    "duration": 145,
    "start_time": "2022-04-17T20:07:50.184Z"
   },
   {
    "duration": 161,
    "start_time": "2022-04-17T20:07:50.331Z"
   },
   {
    "duration": 693,
    "start_time": "2022-04-17T20:07:50.494Z"
   },
   {
    "duration": 218,
    "start_time": "2022-04-17T20:07:51.189Z"
   },
   {
    "duration": 215,
    "start_time": "2022-04-17T20:08:02.402Z"
   },
   {
    "duration": 11,
    "start_time": "2022-04-17T20:10:18.829Z"
   },
   {
    "duration": 1096,
    "start_time": "2022-04-17T20:11:19.775Z"
   },
   {
    "duration": 10,
    "start_time": "2022-04-17T20:11:32.109Z"
   },
   {
    "duration": 1216,
    "start_time": "2022-04-17T20:12:26.917Z"
   },
   {
    "duration": 15,
    "start_time": "2022-04-17T20:12:28.135Z"
   },
   {
    "duration": 20,
    "start_time": "2022-04-17T20:12:28.153Z"
   },
   {
    "duration": 38,
    "start_time": "2022-04-17T20:12:28.175Z"
   },
   {
    "duration": 7,
    "start_time": "2022-04-17T20:12:28.217Z"
   },
   {
    "duration": 23,
    "start_time": "2022-04-17T20:12:28.226Z"
   },
   {
    "duration": 18,
    "start_time": "2022-04-17T20:12:28.251Z"
   },
   {
    "duration": 55,
    "start_time": "2022-04-17T20:12:28.271Z"
   },
   {
    "duration": 22,
    "start_time": "2022-04-17T20:12:28.327Z"
   },
   {
    "duration": 463,
    "start_time": "2022-04-17T20:12:28.351Z"
   },
   {
    "duration": 374,
    "start_time": "2022-04-17T20:12:28.816Z"
   },
   {
    "duration": 1146,
    "start_time": "2022-04-17T20:12:29.192Z"
   },
   {
    "duration": 25,
    "start_time": "2022-04-17T20:12:30.340Z"
   },
   {
    "duration": 255,
    "start_time": "2022-04-17T20:12:30.368Z"
   },
   {
    "duration": 156,
    "start_time": "2022-04-17T20:12:30.625Z"
   },
   {
    "duration": 167,
    "start_time": "2022-04-17T20:12:30.782Z"
   },
   {
    "duration": 723,
    "start_time": "2022-04-17T20:12:30.951Z"
   },
   {
    "duration": 232,
    "start_time": "2022-04-17T20:12:31.675Z"
   },
   {
    "duration": 11,
    "start_time": "2022-04-17T20:12:31.909Z"
   },
   {
    "duration": 1220,
    "start_time": "2022-04-17T20:25:38.777Z"
   },
   {
    "duration": 13,
    "start_time": "2022-04-17T20:25:39.999Z"
   },
   {
    "duration": 21,
    "start_time": "2022-04-17T20:25:40.013Z"
   },
   {
    "duration": 9,
    "start_time": "2022-04-17T20:25:40.036Z"
   },
   {
    "duration": 8,
    "start_time": "2022-04-17T20:25:40.047Z"
   },
   {
    "duration": 21,
    "start_time": "2022-04-17T20:25:40.056Z"
   },
   {
    "duration": 39,
    "start_time": "2022-04-17T20:25:40.078Z"
   },
   {
    "duration": 18,
    "start_time": "2022-04-17T20:25:40.118Z"
   },
   {
    "duration": 16,
    "start_time": "2022-04-17T20:25:40.137Z"
   },
   {
    "duration": 424,
    "start_time": "2022-04-17T20:25:40.155Z"
   },
   {
    "duration": 358,
    "start_time": "2022-04-17T20:25:40.581Z"
   },
   {
    "duration": 1035,
    "start_time": "2022-04-17T20:25:40.941Z"
   },
   {
    "duration": 15,
    "start_time": "2022-04-17T20:25:41.977Z"
   },
   {
    "duration": 241,
    "start_time": "2022-04-17T20:25:41.993Z"
   },
   {
    "duration": 154,
    "start_time": "2022-04-17T20:25:42.236Z"
   },
   {
    "duration": 157,
    "start_time": "2022-04-17T20:25:42.392Z"
   },
   {
    "duration": 696,
    "start_time": "2022-04-17T20:25:42.551Z"
   },
   {
    "duration": 221,
    "start_time": "2022-04-17T20:25:43.248Z"
   },
   {
    "duration": 10,
    "start_time": "2022-04-17T20:25:43.471Z"
   },
   {
    "duration": 59,
    "start_time": "2022-04-17T20:31:56.050Z"
   },
   {
    "duration": 621,
    "start_time": "2022-04-17T20:33:02.265Z"
   },
   {
    "duration": 225,
    "start_time": "2022-04-17T20:42:18.881Z"
   },
   {
    "duration": 302,
    "start_time": "2022-04-17T20:59:13.203Z"
   },
   {
    "duration": 248,
    "start_time": "2022-04-17T21:01:59.840Z"
   },
   {
    "duration": 12,
    "start_time": "2022-04-17T21:02:28.910Z"
   },
   {
    "duration": 219,
    "start_time": "2022-04-17T21:02:38.090Z"
   },
   {
    "duration": 200,
    "start_time": "2022-04-17T21:06:31.860Z"
   },
   {
    "duration": 1153,
    "start_time": "2022-04-17T21:07:44.341Z"
   },
   {
    "duration": 13,
    "start_time": "2022-04-17T21:07:45.496Z"
   },
   {
    "duration": 19,
    "start_time": "2022-04-17T21:07:45.511Z"
   },
   {
    "duration": 10,
    "start_time": "2022-04-17T21:07:45.531Z"
   },
   {
    "duration": 9,
    "start_time": "2022-04-17T21:07:45.543Z"
   },
   {
    "duration": 19,
    "start_time": "2022-04-17T21:07:45.553Z"
   },
   {
    "duration": 46,
    "start_time": "2022-04-17T21:07:45.573Z"
   },
   {
    "duration": 18,
    "start_time": "2022-04-17T21:07:45.621Z"
   },
   {
    "duration": 16,
    "start_time": "2022-04-17T21:07:45.641Z"
   },
   {
    "duration": 416,
    "start_time": "2022-04-17T21:07:45.659Z"
   },
   {
    "duration": 362,
    "start_time": "2022-04-17T21:07:46.077Z"
   },
   {
    "duration": 1054,
    "start_time": "2022-04-17T21:07:46.441Z"
   },
   {
    "duration": 19,
    "start_time": "2022-04-17T21:07:47.496Z"
   },
   {
    "duration": 222,
    "start_time": "2022-04-17T21:07:47.517Z"
   },
   {
    "duration": 156,
    "start_time": "2022-04-17T21:07:47.741Z"
   },
   {
    "duration": 158,
    "start_time": "2022-04-17T21:07:47.899Z"
   },
   {
    "duration": 591,
    "start_time": "2022-04-17T21:07:48.058Z"
   },
   {
    "duration": 221,
    "start_time": "2022-04-17T21:07:48.652Z"
   },
   {
    "duration": 225,
    "start_time": "2022-04-17T21:07:48.875Z"
   },
   {
    "duration": 13,
    "start_time": "2022-04-17T21:07:49.102Z"
   },
   {
    "duration": 323,
    "start_time": "2022-04-17T21:07:49.117Z"
   },
   {
    "duration": 1236,
    "start_time": "2022-04-17T21:08:13.072Z"
   },
   {
    "duration": 14,
    "start_time": "2022-04-17T21:08:14.310Z"
   },
   {
    "duration": 20,
    "start_time": "2022-04-17T21:08:14.326Z"
   },
   {
    "duration": 10,
    "start_time": "2022-04-17T21:08:14.347Z"
   },
   {
    "duration": 6,
    "start_time": "2022-04-17T21:08:14.359Z"
   },
   {
    "duration": 50,
    "start_time": "2022-04-17T21:08:14.366Z"
   },
   {
    "duration": 18,
    "start_time": "2022-04-17T21:08:14.418Z"
   },
   {
    "duration": 18,
    "start_time": "2022-04-17T21:08:14.438Z"
   },
   {
    "duration": 18,
    "start_time": "2022-04-17T21:08:14.458Z"
   },
   {
    "duration": 423,
    "start_time": "2022-04-17T21:08:14.507Z"
   },
   {
    "duration": 369,
    "start_time": "2022-04-17T21:08:14.932Z"
   },
   {
    "duration": 1079,
    "start_time": "2022-04-17T21:08:15.306Z"
   },
   {
    "duration": 21,
    "start_time": "2022-04-17T21:08:16.387Z"
   },
   {
    "duration": 240,
    "start_time": "2022-04-17T21:08:16.410Z"
   },
   {
    "duration": 164,
    "start_time": "2022-04-17T21:08:16.652Z"
   },
   {
    "duration": 165,
    "start_time": "2022-04-17T21:08:16.818Z"
   },
   {
    "duration": 595,
    "start_time": "2022-04-17T21:08:16.985Z"
   },
   {
    "duration": 228,
    "start_time": "2022-04-17T21:08:17.581Z"
   },
   {
    "duration": 236,
    "start_time": "2022-04-17T21:08:17.811Z"
   },
   {
    "duration": 10,
    "start_time": "2022-04-17T21:08:18.049Z"
   },
   {
    "duration": 316,
    "start_time": "2022-04-17T21:08:18.061Z"
   },
   {
    "duration": 897,
    "start_time": "2022-04-17T21:15:05.983Z"
   },
   {
    "duration": 824,
    "start_time": "2022-04-17T21:15:34.587Z"
   },
   {
    "duration": 826,
    "start_time": "2022-04-17T21:16:20.192Z"
   },
   {
    "duration": 1107,
    "start_time": "2022-04-17T21:17:23.071Z"
   },
   {
    "duration": 1089,
    "start_time": "2022-04-17T21:17:57.329Z"
   },
   {
    "duration": 3,
    "start_time": "2022-04-17T21:21:24.752Z"
   },
   {
    "duration": 1150,
    "start_time": "2022-04-17T21:22:54.779Z"
   },
   {
    "duration": 198,
    "start_time": "2022-04-17T21:25:06.291Z"
   },
   {
    "duration": 208,
    "start_time": "2022-04-17T21:26:02.567Z"
   },
   {
    "duration": 215,
    "start_time": "2022-04-17T21:26:23.901Z"
   },
   {
    "duration": 200,
    "start_time": "2022-04-17T21:27:44.414Z"
   },
   {
    "duration": 10,
    "start_time": "2022-04-17T21:28:10.733Z"
   },
   {
    "duration": 216,
    "start_time": "2022-04-17T21:28:46.614Z"
   },
   {
    "duration": 2,
    "start_time": "2022-04-17T21:28:58.419Z"
   },
   {
    "duration": 213,
    "start_time": "2022-04-17T21:30:42.462Z"
   },
   {
    "duration": 218,
    "start_time": "2022-04-17T21:31:28.214Z"
   },
   {
    "duration": 10,
    "start_time": "2022-04-17T21:33:07.052Z"
   },
   {
    "duration": 223,
    "start_time": "2022-04-17T21:33:27.353Z"
   },
   {
    "duration": 3,
    "start_time": "2022-04-17T21:33:31.956Z"
   },
   {
    "duration": 6,
    "start_time": "2022-04-17T21:37:45.038Z"
   },
   {
    "duration": 6,
    "start_time": "2022-04-17T21:42:34.216Z"
   },
   {
    "duration": 85,
    "start_time": "2022-04-17T21:45:25.195Z"
   },
   {
    "duration": 19,
    "start_time": "2022-04-17T21:49:27.450Z"
   },
   {
    "duration": 5,
    "start_time": "2022-04-17T21:50:09.174Z"
   },
   {
    "duration": 63,
    "start_time": "2022-04-17T21:50:21.053Z"
   },
   {
    "duration": 12,
    "start_time": "2022-04-17T21:50:37.856Z"
   },
   {
    "duration": 12,
    "start_time": "2022-04-17T21:50:59.909Z"
   },
   {
    "duration": 18,
    "start_time": "2022-04-17T21:51:44.801Z"
   },
   {
    "duration": 11,
    "start_time": "2022-04-17T21:54:08.116Z"
   },
   {
    "duration": 872,
    "start_time": "2022-04-17T21:54:23.784Z"
   },
   {
    "duration": 698,
    "start_time": "2022-04-17T21:54:52.579Z"
   },
   {
    "duration": 671,
    "start_time": "2022-04-17T21:55:33.081Z"
   },
   {
    "duration": 19,
    "start_time": "2022-04-17T21:57:06.193Z"
   },
   {
    "duration": 301,
    "start_time": "2022-04-17T21:57:39.461Z"
   },
   {
    "duration": 313,
    "start_time": "2022-04-17T21:58:10.136Z"
   },
   {
    "duration": 317,
    "start_time": "2022-04-17T21:58:26.154Z"
   },
   {
    "duration": 453,
    "start_time": "2022-04-17T22:00:31.296Z"
   },
   {
    "duration": 1465,
    "start_time": "2022-04-18T19:01:31.660Z"
   },
   {
    "duration": 14,
    "start_time": "2022-04-18T19:01:33.127Z"
   },
   {
    "duration": 27,
    "start_time": "2022-04-18T19:01:33.142Z"
   },
   {
    "duration": 13,
    "start_time": "2022-04-18T19:01:33.171Z"
   },
   {
    "duration": 8,
    "start_time": "2022-04-18T19:01:33.186Z"
   },
   {
    "duration": 26,
    "start_time": "2022-04-18T19:01:33.196Z"
   },
   {
    "duration": 53,
    "start_time": "2022-04-18T19:01:33.224Z"
   },
   {
    "duration": 24,
    "start_time": "2022-04-18T19:01:33.279Z"
   },
   {
    "duration": 19,
    "start_time": "2022-04-18T19:01:33.305Z"
   },
   {
    "duration": 430,
    "start_time": "2022-04-18T19:01:33.327Z"
   },
   {
    "duration": 419,
    "start_time": "2022-04-18T19:01:33.759Z"
   },
   {
    "duration": 1047,
    "start_time": "2022-04-18T19:01:34.180Z"
   },
   {
    "duration": 26,
    "start_time": "2022-04-18T19:01:35.229Z"
   },
   {
    "duration": 216,
    "start_time": "2022-04-18T19:01:35.257Z"
   },
   {
    "duration": 152,
    "start_time": "2022-04-18T19:01:35.475Z"
   },
   {
    "duration": 148,
    "start_time": "2022-04-18T19:01:35.629Z"
   },
   {
    "duration": 606,
    "start_time": "2022-04-18T19:01:35.779Z"
   },
   {
    "duration": 204,
    "start_time": "2022-04-18T19:01:36.387Z"
   },
   {
    "duration": 211,
    "start_time": "2022-04-18T19:01:36.593Z"
   },
   {
    "duration": 11,
    "start_time": "2022-04-18T19:01:36.806Z"
   },
   {
    "duration": 4,
    "start_time": "2022-04-18T19:01:36.818Z"
   },
   {
    "duration": 201,
    "start_time": "2022-04-18T19:01:36.824Z"
   },
   {
    "duration": 298,
    "start_time": "2022-04-18T19:01:37.027Z"
   },
   {
    "duration": 10,
    "start_time": "2022-04-18T19:01:37.326Z"
   },
   {
    "duration": 5,
    "start_time": "2022-04-18T19:01:37.338Z"
   },
   {
    "duration": 220,
    "start_time": "2022-04-18T19:01:37.355Z"
   },
   {
    "duration": 208,
    "start_time": "2022-04-18T19:01:37.577Z"
   },
   {
    "duration": 11,
    "start_time": "2022-04-18T19:01:37.790Z"
   },
   {
    "duration": 3,
    "start_time": "2022-04-18T19:01:37.803Z"
   },
   {
    "duration": 9,
    "start_time": "2022-04-18T19:01:37.808Z"
   },
   {
    "duration": 35,
    "start_time": "2022-04-18T19:01:37.819Z"
   },
   {
    "duration": 301,
    "start_time": "2022-04-18T19:01:37.856Z"
   },
   {
    "duration": 4,
    "start_time": "2022-04-18T19:08:02.590Z"
   },
   {
    "duration": 106,
    "start_time": "2022-04-18T19:08:26.649Z"
   },
   {
    "duration": 2,
    "start_time": "2022-04-18T19:09:09.510Z"
   },
   {
    "duration": 18,
    "start_time": "2022-04-18T19:09:39.624Z"
   },
   {
    "duration": 17,
    "start_time": "2022-04-18T19:32:53.107Z"
   },
   {
    "duration": 18,
    "start_time": "2022-04-18T19:33:35.081Z"
   },
   {
    "duration": 18,
    "start_time": "2022-04-18T19:35:30.882Z"
   },
   {
    "duration": 16,
    "start_time": "2022-04-18T19:35:55.712Z"
   },
   {
    "duration": 18,
    "start_time": "2022-04-18T19:36:15.437Z"
   },
   {
    "duration": 18,
    "start_time": "2022-04-18T19:37:52.801Z"
   },
   {
    "duration": 18,
    "start_time": "2022-04-18T19:38:04.287Z"
   },
   {
    "duration": 3,
    "start_time": "2022-04-18T19:38:25.486Z"
   },
   {
    "duration": 2,
    "start_time": "2022-04-18T19:38:41.122Z"
   },
   {
    "duration": 11,
    "start_time": "2022-04-18T19:42:05.682Z"
   },
   {
    "duration": 249,
    "start_time": "2022-04-18T19:42:17.368Z"
   },
   {
    "duration": 268,
    "start_time": "2022-04-18T19:44:40.748Z"
   },
   {
    "duration": 251,
    "start_time": "2022-04-18T19:48:38.658Z"
   },
   {
    "duration": 1408,
    "start_time": "2022-04-18T20:00:43.105Z"
   },
   {
    "duration": 13,
    "start_time": "2022-04-18T20:00:44.514Z"
   },
   {
    "duration": 30,
    "start_time": "2022-04-18T20:00:44.528Z"
   },
   {
    "duration": 12,
    "start_time": "2022-04-18T20:00:44.561Z"
   },
   {
    "duration": 10,
    "start_time": "2022-04-18T20:00:44.575Z"
   },
   {
    "duration": 18,
    "start_time": "2022-04-18T20:00:44.587Z"
   },
   {
    "duration": 16,
    "start_time": "2022-04-18T20:00:44.606Z"
   },
   {
    "duration": 46,
    "start_time": "2022-04-18T20:00:44.623Z"
   },
   {
    "duration": 15,
    "start_time": "2022-04-18T20:00:44.671Z"
   },
   {
    "duration": 407,
    "start_time": "2022-04-18T20:00:44.689Z"
   },
   {
    "duration": 335,
    "start_time": "2022-04-18T20:00:45.098Z"
   },
   {
    "duration": 1236,
    "start_time": "2022-04-18T20:00:45.435Z"
   },
   {
    "duration": 15,
    "start_time": "2022-04-18T20:00:46.674Z"
   },
   {
    "duration": 259,
    "start_time": "2022-04-18T20:00:46.690Z"
   },
   {
    "duration": 168,
    "start_time": "2022-04-18T20:00:46.951Z"
   },
   {
    "duration": 157,
    "start_time": "2022-04-18T20:00:47.120Z"
   },
   {
    "duration": 575,
    "start_time": "2022-04-18T20:00:47.279Z"
   },
   {
    "duration": 241,
    "start_time": "2022-04-18T20:00:47.856Z"
   },
   {
    "duration": 231,
    "start_time": "2022-04-18T20:00:48.099Z"
   },
   {
    "duration": 22,
    "start_time": "2022-04-18T20:00:48.332Z"
   },
   {
    "duration": 3,
    "start_time": "2022-04-18T20:00:48.358Z"
   },
   {
    "duration": 253,
    "start_time": "2022-04-18T20:00:48.364Z"
   },
   {
    "duration": 355,
    "start_time": "2022-04-18T20:00:48.619Z"
   },
   {
    "duration": 18,
    "start_time": "2022-04-18T20:00:48.977Z"
   },
   {
    "duration": 11,
    "start_time": "2022-04-18T20:00:48.998Z"
   },
   {
    "duration": 222,
    "start_time": "2022-04-18T20:00:49.011Z"
   },
   {
    "duration": 225,
    "start_time": "2022-04-18T20:00:49.235Z"
   },
   {
    "duration": 12,
    "start_time": "2022-04-18T20:00:49.464Z"
   },
   {
    "duration": 4,
    "start_time": "2022-04-18T20:00:49.478Z"
   },
   {
    "duration": 9,
    "start_time": "2022-04-18T20:00:49.483Z"
   },
   {
    "duration": 12,
    "start_time": "2022-04-18T20:00:49.495Z"
   },
   {
    "duration": 362,
    "start_time": "2022-04-18T20:00:49.510Z"
   },
   {
    "duration": 270,
    "start_time": "2022-04-18T20:00:49.874Z"
   },
   {
    "duration": 303,
    "start_time": "2022-04-18T20:00:50.154Z"
   },
   {
    "duration": 414,
    "start_time": "2022-04-18T20:00:50.459Z"
   },
   {
    "duration": 271,
    "start_time": "2022-04-18T20:20:14.970Z"
   },
   {
    "duration": 171,
    "start_time": "2022-04-18T20:21:27.864Z"
   },
   {
    "duration": 219,
    "start_time": "2022-04-18T20:21:37.484Z"
   },
   {
    "duration": 194,
    "start_time": "2022-04-18T20:21:50.475Z"
   },
   {
    "duration": 184,
    "start_time": "2022-04-18T20:23:00.728Z"
   },
   {
    "duration": 179,
    "start_time": "2022-04-18T20:23:44.765Z"
   },
   {
    "duration": 190,
    "start_time": "2022-04-18T20:24:20.254Z"
   },
   {
    "duration": 197,
    "start_time": "2022-04-18T20:32:14.384Z"
   },
   {
    "duration": 185,
    "start_time": "2022-04-18T20:33:45.870Z"
   },
   {
    "duration": 137,
    "start_time": "2022-04-18T20:40:32.867Z"
   },
   {
    "duration": 11,
    "start_time": "2022-04-18T20:43:44.559Z"
   },
   {
    "duration": 11,
    "start_time": "2022-04-18T20:44:17.124Z"
   },
   {
    "duration": 10,
    "start_time": "2022-04-18T20:45:22.205Z"
   },
   {
    "duration": 10,
    "start_time": "2022-04-18T20:45:35.738Z"
   },
   {
    "duration": 10,
    "start_time": "2022-04-18T20:45:57.340Z"
   },
   {
    "duration": 10,
    "start_time": "2022-04-18T20:46:04.763Z"
   },
   {
    "duration": 15,
    "start_time": "2022-04-18T20:46:14.995Z"
   },
   {
    "duration": 10,
    "start_time": "2022-04-18T20:46:22.186Z"
   },
   {
    "duration": 11,
    "start_time": "2022-04-18T20:46:27.378Z"
   },
   {
    "duration": 10,
    "start_time": "2022-04-18T20:46:31.434Z"
   },
   {
    "duration": 11,
    "start_time": "2022-04-18T20:46:36.937Z"
   },
   {
    "duration": 10,
    "start_time": "2022-04-18T20:46:41.776Z"
   },
   {
    "duration": 10,
    "start_time": "2022-04-18T20:46:51.294Z"
   },
   {
    "duration": 9,
    "start_time": "2022-04-18T20:48:53.094Z"
   },
   {
    "duration": 10,
    "start_time": "2022-04-18T20:49:11.218Z"
   },
   {
    "duration": 10,
    "start_time": "2022-04-18T20:49:20.635Z"
   },
   {
    "duration": 10,
    "start_time": "2022-04-18T20:50:14.739Z"
   },
   {
    "duration": 11,
    "start_time": "2022-04-18T20:50:49.538Z"
   },
   {
    "duration": 11,
    "start_time": "2022-04-18T20:50:56.553Z"
   },
   {
    "duration": 10,
    "start_time": "2022-04-18T20:51:22.470Z"
   },
   {
    "duration": 10,
    "start_time": "2022-04-18T20:51:37.447Z"
   },
   {
    "duration": 10,
    "start_time": "2022-04-18T20:52:00.733Z"
   },
   {
    "duration": 11,
    "start_time": "2022-04-18T20:52:11.573Z"
   },
   {
    "duration": 9,
    "start_time": "2022-04-18T20:52:20.726Z"
   },
   {
    "duration": 128,
    "start_time": "2022-04-18T20:54:58.403Z"
   },
   {
    "duration": 1693,
    "start_time": "2022-04-19T11:41:53.702Z"
   },
   {
    "duration": 13,
    "start_time": "2022-04-19T11:41:55.398Z"
   },
   {
    "duration": 24,
    "start_time": "2022-04-19T11:41:55.412Z"
   },
   {
    "duration": 11,
    "start_time": "2022-04-19T11:41:55.438Z"
   },
   {
    "duration": 8,
    "start_time": "2022-04-19T11:41:55.450Z"
   },
   {
    "duration": 20,
    "start_time": "2022-04-19T11:41:55.459Z"
   },
   {
    "duration": 47,
    "start_time": "2022-04-19T11:41:55.481Z"
   },
   {
    "duration": 21,
    "start_time": "2022-04-19T11:41:55.534Z"
   },
   {
    "duration": 17,
    "start_time": "2022-04-19T11:41:55.556Z"
   },
   {
    "duration": 399,
    "start_time": "2022-04-19T11:41:55.575Z"
   },
   {
    "duration": 373,
    "start_time": "2022-04-19T11:41:55.976Z"
   },
   {
    "duration": 1243,
    "start_time": "2022-04-19T11:41:56.351Z"
   },
   {
    "duration": 16,
    "start_time": "2022-04-19T11:41:57.596Z"
   },
   {
    "duration": 297,
    "start_time": "2022-04-19T11:41:57.613Z"
   },
   {
    "duration": 206,
    "start_time": "2022-04-19T11:41:57.912Z"
   },
   {
    "duration": 219,
    "start_time": "2022-04-19T11:41:58.122Z"
   },
   {
    "duration": 672,
    "start_time": "2022-04-19T11:41:58.343Z"
   },
   {
    "duration": 231,
    "start_time": "2022-04-19T11:41:59.017Z"
   },
   {
    "duration": 226,
    "start_time": "2022-04-19T11:41:59.250Z"
   },
   {
    "duration": 12,
    "start_time": "2022-04-19T11:41:59.478Z"
   },
   {
    "duration": 17,
    "start_time": "2022-04-19T11:41:59.491Z"
   },
   {
    "duration": 208,
    "start_time": "2022-04-19T11:41:59.509Z"
   },
   {
    "duration": 396,
    "start_time": "2022-04-19T11:41:59.719Z"
   },
   {
    "duration": 13,
    "start_time": "2022-04-19T11:42:00.117Z"
   },
   {
    "duration": 11,
    "start_time": "2022-04-19T11:42:00.132Z"
   },
   {
    "duration": 229,
    "start_time": "2022-04-19T11:42:00.148Z"
   },
   {
    "duration": 231,
    "start_time": "2022-04-19T11:42:00.379Z"
   },
   {
    "duration": 16,
    "start_time": "2022-04-19T11:42:00.614Z"
   },
   {
    "duration": 35,
    "start_time": "2022-04-19T11:42:00.632Z"
   },
   {
    "duration": 26,
    "start_time": "2022-04-19T11:42:00.669Z"
   },
   {
    "duration": 32,
    "start_time": "2022-04-19T11:42:00.696Z"
   },
   {
    "duration": 305,
    "start_time": "2022-04-19T11:42:00.729Z"
   },
   {
    "duration": 280,
    "start_time": "2022-04-19T11:42:01.037Z"
   },
   {
    "duration": 289,
    "start_time": "2022-04-19T11:42:01.323Z"
   },
   {
    "duration": 385,
    "start_time": "2022-04-19T11:42:01.614Z"
   },
   {
    "duration": 12,
    "start_time": "2022-04-19T11:42:02.002Z"
   },
   {
    "duration": 15,
    "start_time": "2022-04-19T11:42:02.025Z"
   },
   {
    "duration": 8,
    "start_time": "2022-04-19T11:44:05.291Z"
   },
   {
    "duration": 2491,
    "start_time": "2022-04-19T13:07:59.860Z"
   },
   {
    "duration": 34,
    "start_time": "2022-04-19T13:08:02.356Z"
   },
   {
    "duration": 54,
    "start_time": "2022-04-19T13:08:02.393Z"
   },
   {
    "duration": 20,
    "start_time": "2022-04-19T13:08:02.451Z"
   },
   {
    "duration": 50,
    "start_time": "2022-04-19T13:08:02.474Z"
   },
   {
    "duration": 42,
    "start_time": "2022-04-19T13:08:02.527Z"
   },
   {
    "duration": 55,
    "start_time": "2022-04-19T13:08:02.572Z"
   },
   {
    "duration": 41,
    "start_time": "2022-04-19T13:08:02.630Z"
   },
   {
    "duration": 75,
    "start_time": "2022-04-19T13:08:02.674Z"
   },
   {
    "duration": 814,
    "start_time": "2022-04-19T13:08:02.755Z"
   },
   {
    "duration": 914,
    "start_time": "2022-04-19T13:08:03.571Z"
   },
   {
    "duration": 2690,
    "start_time": "2022-04-19T13:08:04.489Z"
   },
   {
    "duration": 56,
    "start_time": "2022-04-19T13:08:07.185Z"
   },
   {
    "duration": 572,
    "start_time": "2022-04-19T13:08:07.256Z"
   },
   {
    "duration": 296,
    "start_time": "2022-04-19T13:08:07.831Z"
   },
   {
    "duration": 294,
    "start_time": "2022-04-19T13:08:08.130Z"
   },
   {
    "duration": 1076,
    "start_time": "2022-04-19T13:08:08.427Z"
   },
   {
    "duration": 449,
    "start_time": "2022-04-19T13:08:09.505Z"
   },
   {
    "duration": 496,
    "start_time": "2022-04-19T13:08:09.957Z"
   },
   {
    "duration": 17,
    "start_time": "2022-04-19T13:08:10.457Z"
   },
   {
    "duration": 4,
    "start_time": "2022-04-19T13:08:10.477Z"
   },
   {
    "duration": 574,
    "start_time": "2022-04-19T13:08:10.484Z"
   },
   {
    "duration": 676,
    "start_time": "2022-04-19T13:08:11.061Z"
   },
   {
    "duration": 20,
    "start_time": "2022-04-19T13:08:11.741Z"
   },
   {
    "duration": 4,
    "start_time": "2022-04-19T13:08:11.764Z"
   },
   {
    "duration": 462,
    "start_time": "2022-04-19T13:08:11.771Z"
   },
   {
    "duration": 463,
    "start_time": "2022-04-19T13:08:12.236Z"
   },
   {
    "duration": 27,
    "start_time": "2022-04-19T13:08:12.706Z"
   },
   {
    "duration": 13,
    "start_time": "2022-04-19T13:08:12.736Z"
   },
   {
    "duration": 12,
    "start_time": "2022-04-19T13:08:12.752Z"
   },
   {
    "duration": 14,
    "start_time": "2022-04-19T13:08:12.766Z"
   },
   {
    "duration": 835,
    "start_time": "2022-04-19T13:08:12.783Z"
   },
   {
    "duration": 638,
    "start_time": "2022-04-19T13:08:13.621Z"
   },
   {
    "duration": 757,
    "start_time": "2022-04-19T13:08:14.262Z"
   },
   {
    "duration": 572,
    "start_time": "2022-04-19T13:08:15.025Z"
   },
   {
    "duration": 23,
    "start_time": "2022-04-19T13:08:15.600Z"
   },
   {
    "duration": 42,
    "start_time": "2022-04-19T13:08:15.626Z"
   },
   {
    "duration": 41,
    "start_time": "2022-04-19T13:09:41.859Z"
   },
   {
    "duration": 324,
    "start_time": "2022-04-19T13:09:53.246Z"
   },
   {
    "duration": 30,
    "start_time": "2022-04-19T13:10:18.199Z"
   },
   {
    "duration": 24,
    "start_time": "2022-04-19T13:11:16.057Z"
   },
   {
    "duration": 12,
    "start_time": "2022-04-19T13:13:52.852Z"
   },
   {
    "duration": 43,
    "start_time": "2022-04-19T13:14:02.253Z"
   },
   {
    "duration": 159,
    "start_time": "2022-04-19T13:14:25.516Z"
   },
   {
    "duration": 26,
    "start_time": "2022-04-19T13:14:47.560Z"
   },
   {
    "duration": 18,
    "start_time": "2022-04-19T13:16:21.680Z"
   },
   {
    "duration": 23,
    "start_time": "2022-04-19T13:18:29.489Z"
   },
   {
    "duration": 38,
    "start_time": "2022-04-19T13:19:10.596Z"
   },
   {
    "duration": 18,
    "start_time": "2022-04-19T13:20:04.576Z"
   },
   {
    "duration": 24,
    "start_time": "2022-04-19T13:20:22.305Z"
   },
   {
    "duration": 20,
    "start_time": "2022-04-19T13:21:15.313Z"
   },
   {
    "duration": 131,
    "start_time": "2022-04-19T13:21:42.502Z"
   },
   {
    "duration": 182,
    "start_time": "2022-04-19T13:21:50.034Z"
   },
   {
    "duration": 18,
    "start_time": "2022-04-19T13:21:58.414Z"
   },
   {
    "duration": 12,
    "start_time": "2022-04-19T13:22:15.655Z"
   },
   {
    "duration": 1976,
    "start_time": "2022-04-19T13:22:55.053Z"
   },
   {
    "duration": 30,
    "start_time": "2022-04-19T13:25:13.539Z"
   },
   {
    "duration": 43,
    "start_time": "2022-04-19T13:25:23.466Z"
   },
   {
    "duration": 19,
    "start_time": "2022-04-19T13:25:49.841Z"
   },
   {
    "duration": 1717,
    "start_time": "2022-04-19T14:01:20.228Z"
   },
   {
    "duration": 21,
    "start_time": "2022-04-19T14:01:21.948Z"
   },
   {
    "duration": 27,
    "start_time": "2022-04-19T14:01:21.971Z"
   },
   {
    "duration": 32,
    "start_time": "2022-04-19T14:01:22.002Z"
   },
   {
    "duration": 21,
    "start_time": "2022-04-19T14:01:22.037Z"
   },
   {
    "duration": 40,
    "start_time": "2022-04-19T14:01:22.061Z"
   },
   {
    "duration": 55,
    "start_time": "2022-04-19T14:01:22.104Z"
   },
   {
    "duration": 63,
    "start_time": "2022-04-19T14:01:22.162Z"
   },
   {
    "duration": 34,
    "start_time": "2022-04-19T14:01:22.227Z"
   },
   {
    "duration": 711,
    "start_time": "2022-04-19T14:01:22.264Z"
   },
   {
    "duration": 638,
    "start_time": "2022-04-19T14:01:22.978Z"
   },
   {
    "duration": 1736,
    "start_time": "2022-04-19T14:01:23.618Z"
   },
   {
    "duration": 22,
    "start_time": "2022-04-19T14:01:25.356Z"
   },
   {
    "duration": 371,
    "start_time": "2022-04-19T14:01:25.380Z"
   },
   {
    "duration": 260,
    "start_time": "2022-04-19T14:01:25.754Z"
   },
   {
    "duration": 267,
    "start_time": "2022-04-19T14:01:26.016Z"
   },
   {
    "duration": 990,
    "start_time": "2022-04-19T14:01:26.285Z"
   },
   {
    "duration": 547,
    "start_time": "2022-04-19T14:01:27.277Z"
   },
   {
    "duration": 424,
    "start_time": "2022-04-19T14:01:27.827Z"
   },
   {
    "duration": 15,
    "start_time": "2022-04-19T14:01:28.253Z"
   },
   {
    "duration": 10,
    "start_time": "2022-04-19T14:01:28.270Z"
   },
   {
    "duration": 432,
    "start_time": "2022-04-19T14:01:28.283Z"
   },
   {
    "duration": 520,
    "start_time": "2022-04-19T14:01:28.718Z"
   },
   {
    "duration": 19,
    "start_time": "2022-04-19T14:01:29.240Z"
   },
   {
    "duration": 184,
    "start_time": "2022-04-19T14:01:29.261Z"
   },
   {
    "duration": 0,
    "start_time": "2022-04-19T14:01:29.449Z"
   },
   {
    "duration": 0,
    "start_time": "2022-04-19T14:01:29.451Z"
   },
   {
    "duration": 0,
    "start_time": "2022-04-19T14:01:29.453Z"
   },
   {
    "duration": 0,
    "start_time": "2022-04-19T14:01:29.455Z"
   },
   {
    "duration": 0,
    "start_time": "2022-04-19T14:01:29.457Z"
   },
   {
    "duration": 0,
    "start_time": "2022-04-19T14:01:29.458Z"
   },
   {
    "duration": 0,
    "start_time": "2022-04-19T14:01:29.460Z"
   },
   {
    "duration": 0,
    "start_time": "2022-04-19T14:01:29.461Z"
   },
   {
    "duration": 0,
    "start_time": "2022-04-19T14:01:29.463Z"
   },
   {
    "duration": 0,
    "start_time": "2022-04-19T14:01:29.464Z"
   },
   {
    "duration": 0,
    "start_time": "2022-04-19T14:01:29.465Z"
   },
   {
    "duration": 0,
    "start_time": "2022-04-19T14:01:29.467Z"
   },
   {
    "duration": 5,
    "start_time": "2022-04-19T14:02:00.338Z"
   },
   {
    "duration": 1951,
    "start_time": "2022-04-19T14:02:09.490Z"
   },
   {
    "duration": 22,
    "start_time": "2022-04-19T14:02:11.444Z"
   },
   {
    "duration": 32,
    "start_time": "2022-04-19T14:02:11.468Z"
   },
   {
    "duration": 19,
    "start_time": "2022-04-19T14:02:11.528Z"
   },
   {
    "duration": 13,
    "start_time": "2022-04-19T14:02:11.550Z"
   },
   {
    "duration": 59,
    "start_time": "2022-04-19T14:02:11.565Z"
   },
   {
    "duration": 41,
    "start_time": "2022-04-19T14:02:11.627Z"
   },
   {
    "duration": 55,
    "start_time": "2022-04-19T14:02:11.672Z"
   },
   {
    "duration": 29,
    "start_time": "2022-04-19T14:02:11.736Z"
   },
   {
    "duration": 825,
    "start_time": "2022-04-19T14:02:11.771Z"
   },
   {
    "duration": 653,
    "start_time": "2022-04-19T14:02:12.598Z"
   },
   {
    "duration": 1744,
    "start_time": "2022-04-19T14:02:13.253Z"
   },
   {
    "duration": 32,
    "start_time": "2022-04-19T14:02:14.999Z"
   },
   {
    "duration": 366,
    "start_time": "2022-04-19T14:02:15.033Z"
   },
   {
    "duration": 267,
    "start_time": "2022-04-19T14:02:15.402Z"
   },
   {
    "duration": 261,
    "start_time": "2022-04-19T14:02:15.671Z"
   },
   {
    "duration": 1059,
    "start_time": "2022-04-19T14:02:15.934Z"
   },
   {
    "duration": 422,
    "start_time": "2022-04-19T14:02:16.995Z"
   },
   {
    "duration": 405,
    "start_time": "2022-04-19T14:02:17.419Z"
   },
   {
    "duration": 17,
    "start_time": "2022-04-19T14:02:17.826Z"
   },
   {
    "duration": 16,
    "start_time": "2022-04-19T14:02:17.845Z"
   },
   {
    "duration": 412,
    "start_time": "2022-04-19T14:02:17.863Z"
   },
   {
    "duration": 503,
    "start_time": "2022-04-19T14:02:18.277Z"
   },
   {
    "duration": 14,
    "start_time": "2022-04-19T14:02:18.783Z"
   },
   {
    "duration": 32,
    "start_time": "2022-04-19T14:02:18.799Z"
   },
   {
    "duration": 383,
    "start_time": "2022-04-19T14:02:18.834Z"
   },
   {
    "duration": 522,
    "start_time": "2022-04-19T14:02:19.219Z"
   },
   {
    "duration": 20,
    "start_time": "2022-04-19T14:02:19.749Z"
   },
   {
    "duration": 4,
    "start_time": "2022-04-19T14:02:19.773Z"
   },
   {
    "duration": 18,
    "start_time": "2022-04-19T14:02:19.780Z"
   },
   {
    "duration": 42,
    "start_time": "2022-04-19T14:02:19.801Z"
   },
   {
    "duration": 744,
    "start_time": "2022-04-19T14:02:19.846Z"
   },
   {
    "duration": 494,
    "start_time": "2022-04-19T14:02:20.593Z"
   },
   {
    "duration": 493,
    "start_time": "2022-04-19T14:02:21.089Z"
   },
   {
    "duration": 495,
    "start_time": "2022-04-19T14:02:21.584Z"
   },
   {
    "duration": 14,
    "start_time": "2022-04-19T14:02:22.082Z"
   },
   {
    "duration": 39,
    "start_time": "2022-04-19T14:02:22.099Z"
   },
   {
    "duration": 173,
    "start_time": "2022-04-19T14:03:41.384Z"
   },
   {
    "duration": 21,
    "start_time": "2022-04-19T14:04:31.065Z"
   },
   {
    "duration": 23,
    "start_time": "2022-04-19T14:05:32.124Z"
   },
   {
    "duration": 23,
    "start_time": "2022-04-19T14:06:22.356Z"
   },
   {
    "duration": 5,
    "start_time": "2022-04-19T14:07:24.513Z"
   },
   {
    "duration": 2107,
    "start_time": "2022-04-19T15:22:07.301Z"
   },
   {
    "duration": 25,
    "start_time": "2022-04-19T15:22:09.411Z"
   },
   {
    "duration": 32,
    "start_time": "2022-04-19T15:22:09.439Z"
   },
   {
    "duration": 15,
    "start_time": "2022-04-19T15:22:09.474Z"
   },
   {
    "duration": 40,
    "start_time": "2022-04-19T15:22:09.491Z"
   },
   {
    "duration": 41,
    "start_time": "2022-04-19T15:22:09.534Z"
   },
   {
    "duration": 73,
    "start_time": "2022-04-19T15:22:09.578Z"
   },
   {
    "duration": 71,
    "start_time": "2022-04-19T15:22:09.654Z"
   },
   {
    "duration": 25,
    "start_time": "2022-04-19T15:22:09.728Z"
   },
   {
    "duration": 948,
    "start_time": "2022-04-19T15:22:09.756Z"
   },
   {
    "duration": 969,
    "start_time": "2022-04-19T15:22:10.707Z"
   },
   {
    "duration": 2950,
    "start_time": "2022-04-19T15:22:11.680Z"
   },
   {
    "duration": 34,
    "start_time": "2022-04-19T15:22:14.634Z"
   },
   {
    "duration": 374,
    "start_time": "2022-04-19T15:22:14.670Z"
   },
   {
    "duration": 255,
    "start_time": "2022-04-19T15:22:15.046Z"
   },
   {
    "duration": 263,
    "start_time": "2022-04-19T15:22:15.303Z"
   },
   {
    "duration": 943,
    "start_time": "2022-04-19T15:22:15.569Z"
   },
   {
    "duration": 394,
    "start_time": "2022-04-19T15:22:16.514Z"
   },
   {
    "duration": 395,
    "start_time": "2022-04-19T15:22:16.910Z"
   },
   {
    "duration": 24,
    "start_time": "2022-04-19T15:22:17.308Z"
   },
   {
    "duration": 4,
    "start_time": "2022-04-19T15:22:17.335Z"
   },
   {
    "duration": 602,
    "start_time": "2022-04-19T15:22:17.342Z"
   },
   {
    "duration": 502,
    "start_time": "2022-04-19T15:22:17.948Z"
   },
   {
    "duration": 16,
    "start_time": "2022-04-19T15:22:18.453Z"
   },
   {
    "duration": 16,
    "start_time": "2022-04-19T15:22:18.472Z"
   },
   {
    "duration": 0,
    "start_time": "2022-04-19T15:22:18.492Z"
   },
   {
    "duration": 0,
    "start_time": "2022-04-19T15:22:18.493Z"
   },
   {
    "duration": 0,
    "start_time": "2022-04-19T15:22:18.495Z"
   },
   {
    "duration": 0,
    "start_time": "2022-04-19T15:22:18.497Z"
   },
   {
    "duration": 0,
    "start_time": "2022-04-19T15:22:18.498Z"
   },
   {
    "duration": 0,
    "start_time": "2022-04-19T15:22:18.524Z"
   },
   {
    "duration": 0,
    "start_time": "2022-04-19T15:22:18.527Z"
   },
   {
    "duration": 0,
    "start_time": "2022-04-19T15:22:18.528Z"
   },
   {
    "duration": 0,
    "start_time": "2022-04-19T15:22:18.529Z"
   },
   {
    "duration": 0,
    "start_time": "2022-04-19T15:22:18.531Z"
   },
   {
    "duration": 0,
    "start_time": "2022-04-19T15:22:18.533Z"
   },
   {
    "duration": 0,
    "start_time": "2022-04-19T15:22:18.535Z"
   },
   {
    "duration": 155,
    "start_time": "2022-04-19T15:22:58.815Z"
   },
   {
    "duration": 16,
    "start_time": "2022-04-19T15:23:06.212Z"
   },
   {
    "duration": 18,
    "start_time": "2022-04-19T15:23:15.185Z"
   },
   {
    "duration": 6,
    "start_time": "2022-04-19T15:23:52.793Z"
   },
   {
    "duration": 20,
    "start_time": "2022-04-19T15:24:30.516Z"
   },
   {
    "duration": 24,
    "start_time": "2022-04-19T15:26:04.520Z"
   },
   {
    "duration": 14,
    "start_time": "2022-04-19T15:26:10.273Z"
   },
   {
    "duration": 13,
    "start_time": "2022-04-19T15:26:45.392Z"
   },
   {
    "duration": 14,
    "start_time": "2022-04-19T15:31:17.870Z"
   },
   {
    "duration": 2132,
    "start_time": "2022-04-19T15:31:30.698Z"
   },
   {
    "duration": 13,
    "start_time": "2022-04-19T15:31:56.957Z"
   },
   {
    "duration": 14,
    "start_time": "2022-04-19T15:32:11.963Z"
   },
   {
    "duration": 16,
    "start_time": "2022-04-19T15:32:34.605Z"
   },
   {
    "duration": 17,
    "start_time": "2022-04-19T15:33:30.805Z"
   },
   {
    "duration": 24,
    "start_time": "2022-04-19T15:34:18.442Z"
   },
   {
    "duration": 23,
    "start_time": "2022-04-19T15:34:23.305Z"
   },
   {
    "duration": 25,
    "start_time": "2022-04-19T15:34:35.743Z"
   },
   {
    "duration": 15,
    "start_time": "2022-04-19T15:38:26.449Z"
   },
   {
    "duration": 26,
    "start_time": "2022-04-19T15:51:00.682Z"
   },
   {
    "duration": 28,
    "start_time": "2022-04-19T15:51:07.433Z"
   },
   {
    "duration": 33,
    "start_time": "2022-04-19T15:51:13.587Z"
   },
   {
    "duration": 29,
    "start_time": "2022-04-19T15:51:18.437Z"
   },
   {
    "duration": 27,
    "start_time": "2022-04-19T15:51:25.832Z"
   },
   {
    "duration": 2393,
    "start_time": "2022-04-19T15:51:43.398Z"
   },
   {
    "duration": 37,
    "start_time": "2022-04-19T15:51:45.794Z"
   },
   {
    "duration": 33,
    "start_time": "2022-04-19T15:51:45.834Z"
   },
   {
    "duration": 15,
    "start_time": "2022-04-19T15:51:45.871Z"
   },
   {
    "duration": 41,
    "start_time": "2022-04-19T15:51:45.889Z"
   },
   {
    "duration": 32,
    "start_time": "2022-04-19T15:51:45.932Z"
   },
   {
    "duration": 62,
    "start_time": "2022-04-19T15:51:45.968Z"
   },
   {
    "duration": 26,
    "start_time": "2022-04-19T15:51:46.032Z"
   },
   {
    "duration": 39,
    "start_time": "2022-04-19T15:51:46.060Z"
   },
   {
    "duration": 723,
    "start_time": "2022-04-19T15:51:46.103Z"
   },
   {
    "duration": 623,
    "start_time": "2022-04-19T15:51:46.829Z"
   },
   {
    "duration": 1680,
    "start_time": "2022-04-19T15:51:47.455Z"
   },
   {
    "duration": 23,
    "start_time": "2022-04-19T15:51:49.137Z"
   },
   {
    "duration": 370,
    "start_time": "2022-04-19T15:51:49.162Z"
   },
   {
    "duration": 252,
    "start_time": "2022-04-19T15:51:49.534Z"
   },
   {
    "duration": 264,
    "start_time": "2022-04-19T15:51:49.788Z"
   },
   {
    "duration": 969,
    "start_time": "2022-04-19T15:51:50.054Z"
   },
   {
    "duration": 402,
    "start_time": "2022-04-19T15:51:51.025Z"
   },
   {
    "duration": 410,
    "start_time": "2022-04-19T15:51:51.429Z"
   },
   {
    "duration": 15,
    "start_time": "2022-04-19T15:51:51.841Z"
   },
   {
    "duration": 429,
    "start_time": "2022-04-19T15:51:51.859Z"
   },
   {
    "duration": 543,
    "start_time": "2022-04-19T15:51:52.291Z"
   },
   {
    "duration": 15,
    "start_time": "2022-04-19T15:51:52.837Z"
   },
   {
    "duration": 405,
    "start_time": "2022-04-19T15:51:52.854Z"
   },
   {
    "duration": 397,
    "start_time": "2022-04-19T15:51:53.261Z"
   },
   {
    "duration": 17,
    "start_time": "2022-04-19T15:51:53.660Z"
   },
   {
    "duration": 26,
    "start_time": "2022-04-19T15:51:53.680Z"
   },
   {
    "duration": 23,
    "start_time": "2022-04-19T15:51:53.711Z"
   },
   {
    "duration": 599,
    "start_time": "2022-04-19T15:51:53.736Z"
   },
   {
    "duration": 488,
    "start_time": "2022-04-19T15:51:54.338Z"
   },
   {
    "duration": 499,
    "start_time": "2022-04-19T15:51:54.829Z"
   },
   {
    "duration": 480,
    "start_time": "2022-04-19T15:51:55.331Z"
   },
   {
    "duration": 14,
    "start_time": "2022-04-19T15:51:55.824Z"
   },
   {
    "duration": 30,
    "start_time": "2022-04-19T15:51:55.840Z"
   },
   {
    "duration": 16,
    "start_time": "2022-04-19T15:52:49.195Z"
   },
   {
    "duration": 29,
    "start_time": "2022-04-19T15:53:12.735Z"
   },
   {
    "duration": 2094,
    "start_time": "2022-04-27T15:17:41.064Z"
   },
   {
    "duration": 34,
    "start_time": "2022-04-27T15:17:43.161Z"
   },
   {
    "duration": 30,
    "start_time": "2022-04-27T15:17:43.197Z"
   },
   {
    "duration": 15,
    "start_time": "2022-04-27T15:17:43.230Z"
   },
   {
    "duration": 12,
    "start_time": "2022-04-27T15:17:43.247Z"
   },
   {
    "duration": 33,
    "start_time": "2022-04-27T15:17:43.261Z"
   },
   {
    "duration": 26,
    "start_time": "2022-04-27T15:17:43.296Z"
   },
   {
    "duration": 35,
    "start_time": "2022-04-27T15:17:43.324Z"
   },
   {
    "duration": 51,
    "start_time": "2022-04-27T15:17:43.362Z"
   },
   {
    "duration": 876,
    "start_time": "2022-04-27T15:17:43.417Z"
   },
   {
    "duration": 602,
    "start_time": "2022-04-27T15:17:44.295Z"
   },
   {
    "duration": 1646,
    "start_time": "2022-04-27T15:17:44.899Z"
   },
   {
    "duration": 22,
    "start_time": "2022-04-27T15:17:46.548Z"
   },
   {
    "duration": 342,
    "start_time": "2022-04-27T15:17:46.572Z"
   },
   {
    "duration": 371,
    "start_time": "2022-04-27T15:17:46.917Z"
   },
   {
    "duration": 252,
    "start_time": "2022-04-27T15:17:47.294Z"
   },
   {
    "duration": 956,
    "start_time": "2022-04-27T15:17:47.548Z"
   },
   {
    "duration": 414,
    "start_time": "2022-04-27T15:17:48.506Z"
   },
   {
    "duration": 395,
    "start_time": "2022-04-27T15:17:48.922Z"
   },
   {
    "duration": 15,
    "start_time": "2022-04-27T15:17:49.319Z"
   },
   {
    "duration": 419,
    "start_time": "2022-04-27T15:17:49.336Z"
   },
   {
    "duration": 488,
    "start_time": "2022-04-27T15:17:49.757Z"
   },
   {
    "duration": 17,
    "start_time": "2022-04-27T15:17:50.248Z"
   },
   {
    "duration": 402,
    "start_time": "2022-04-27T15:17:50.267Z"
   },
   {
    "duration": 384,
    "start_time": "2022-04-27T15:17:50.672Z"
   },
   {
    "duration": 16,
    "start_time": "2022-04-27T15:17:51.059Z"
   },
   {
    "duration": 11,
    "start_time": "2022-04-27T15:17:51.092Z"
   },
   {
    "duration": 9,
    "start_time": "2022-04-27T15:17:51.108Z"
   },
   {
    "duration": 569,
    "start_time": "2022-04-27T15:17:51.119Z"
   },
   {
    "duration": 454,
    "start_time": "2022-04-27T15:17:51.690Z"
   },
   {
    "duration": 500,
    "start_time": "2022-04-27T15:17:52.146Z"
   },
   {
    "duration": 550,
    "start_time": "2022-04-27T15:17:52.649Z"
   },
   {
    "duration": 15,
    "start_time": "2022-04-27T15:17:53.201Z"
   },
   {
    "duration": 19,
    "start_time": "2022-04-27T15:17:53.218Z"
   },
   {
    "duration": 1762,
    "start_time": "2022-04-27T16:20:31.907Z"
   },
   {
    "duration": 30,
    "start_time": "2022-04-27T16:20:33.672Z"
   },
   {
    "duration": 29,
    "start_time": "2022-04-27T16:20:33.705Z"
   },
   {
    "duration": 20,
    "start_time": "2022-04-27T16:20:33.737Z"
   },
   {
    "duration": 13,
    "start_time": "2022-04-27T16:20:33.792Z"
   },
   {
    "duration": 52,
    "start_time": "2022-04-27T16:20:33.807Z"
   },
   {
    "duration": 36,
    "start_time": "2022-04-27T16:20:33.862Z"
   },
   {
    "duration": 28,
    "start_time": "2022-04-27T16:20:33.900Z"
   },
   {
    "duration": 64,
    "start_time": "2022-04-27T16:20:33.930Z"
   },
   {
    "duration": 989,
    "start_time": "2022-04-27T16:20:33.998Z"
   },
   {
    "duration": 866,
    "start_time": "2022-04-27T16:20:34.989Z"
   },
   {
    "duration": 2367,
    "start_time": "2022-04-27T16:20:35.857Z"
   },
   {
    "duration": 23,
    "start_time": "2022-04-27T16:20:38.226Z"
   },
   {
    "duration": 366,
    "start_time": "2022-04-27T16:20:38.251Z"
   },
   {
    "duration": 257,
    "start_time": "2022-04-27T16:20:38.619Z"
   },
   {
    "duration": 246,
    "start_time": "2022-04-27T16:20:38.879Z"
   },
   {
    "duration": 927,
    "start_time": "2022-04-27T16:20:39.129Z"
   },
   {
    "duration": 393,
    "start_time": "2022-04-27T16:20:40.058Z"
   },
   {
    "duration": 392,
    "start_time": "2022-04-27T16:20:40.454Z"
   },
   {
    "duration": 14,
    "start_time": "2022-04-27T16:20:40.848Z"
   },
   {
    "duration": 414,
    "start_time": "2022-04-27T16:20:40.865Z"
   },
   {
    "duration": 496,
    "start_time": "2022-04-27T16:20:41.282Z"
   },
   {
    "duration": 27,
    "start_time": "2022-04-27T16:20:41.781Z"
   },
   {
    "duration": 404,
    "start_time": "2022-04-27T16:20:41.810Z"
   },
   {
    "duration": 438,
    "start_time": "2022-04-27T16:20:42.216Z"
   },
   {
    "duration": 16,
    "start_time": "2022-04-27T16:20:42.656Z"
   },
   {
    "duration": 8,
    "start_time": "2022-04-27T16:20:42.693Z"
   },
   {
    "duration": 16,
    "start_time": "2022-04-27T16:20:42.704Z"
   },
   {
    "duration": 678,
    "start_time": "2022-04-27T16:20:42.723Z"
   },
   {
    "duration": 708,
    "start_time": "2022-04-27T16:20:43.404Z"
   },
   {
    "duration": 732,
    "start_time": "2022-04-27T16:20:44.115Z"
   },
   {
    "duration": 723,
    "start_time": "2022-04-27T16:20:44.850Z"
   },
   {
    "duration": 27,
    "start_time": "2022-04-27T16:20:45.576Z"
   },
   {
    "duration": 33,
    "start_time": "2022-04-27T16:20:45.605Z"
   },
   {
    "duration": 1710,
    "start_time": "2022-04-27T16:24:50.926Z"
   },
   {
    "duration": 21,
    "start_time": "2022-04-27T16:24:52.638Z"
   },
   {
    "duration": 48,
    "start_time": "2022-04-27T16:24:52.662Z"
   },
   {
    "duration": 13,
    "start_time": "2022-04-27T16:24:52.713Z"
   },
   {
    "duration": 9,
    "start_time": "2022-04-27T16:24:52.730Z"
   },
   {
    "duration": 62,
    "start_time": "2022-04-27T16:24:52.742Z"
   },
   {
    "duration": 37,
    "start_time": "2022-04-27T16:24:52.807Z"
   },
   {
    "duration": 67,
    "start_time": "2022-04-27T16:24:52.847Z"
   },
   {
    "duration": 29,
    "start_time": "2022-04-27T16:24:52.917Z"
   },
   {
    "duration": 704,
    "start_time": "2022-04-27T16:24:52.949Z"
   },
   {
    "duration": 612,
    "start_time": "2022-04-27T16:24:53.655Z"
   },
   {
    "duration": 1654,
    "start_time": "2022-04-27T16:24:54.270Z"
   },
   {
    "duration": 23,
    "start_time": "2022-04-27T16:24:55.927Z"
   },
   {
    "duration": 345,
    "start_time": "2022-04-27T16:24:55.956Z"
   },
   {
    "duration": 244,
    "start_time": "2022-04-27T16:24:56.304Z"
   },
   {
    "duration": 249,
    "start_time": "2022-04-27T16:24:56.550Z"
   },
   {
    "duration": 948,
    "start_time": "2022-04-27T16:24:56.801Z"
   },
   {
    "duration": 390,
    "start_time": "2022-04-27T16:24:57.751Z"
   },
   {
    "duration": 394,
    "start_time": "2022-04-27T16:24:58.143Z"
   },
   {
    "duration": 15,
    "start_time": "2022-04-27T16:24:58.540Z"
   },
   {
    "duration": 403,
    "start_time": "2022-04-27T16:24:58.557Z"
   },
   {
    "duration": 490,
    "start_time": "2022-04-27T16:24:58.962Z"
   },
   {
    "duration": 15,
    "start_time": "2022-04-27T16:24:59.454Z"
   },
   {
    "duration": 381,
    "start_time": "2022-04-27T16:24:59.493Z"
   },
   {
    "duration": 394,
    "start_time": "2022-04-27T16:24:59.876Z"
   },
   {
    "duration": 31,
    "start_time": "2022-04-27T16:25:00.273Z"
   },
   {
    "duration": 10,
    "start_time": "2022-04-27T16:25:00.306Z"
   },
   {
    "duration": 20,
    "start_time": "2022-04-27T16:25:00.318Z"
   },
   {
    "duration": 576,
    "start_time": "2022-04-27T16:25:00.340Z"
   },
   {
    "duration": 474,
    "start_time": "2022-04-27T16:25:00.919Z"
   },
   {
    "duration": 470,
    "start_time": "2022-04-27T16:25:01.395Z"
   },
   {
    "duration": 461,
    "start_time": "2022-04-27T16:25:01.867Z"
   },
   {
    "duration": 15,
    "start_time": "2022-04-27T16:25:02.330Z"
   },
   {
    "duration": 21,
    "start_time": "2022-04-27T16:25:02.347Z"
   },
   {
    "duration": 1666,
    "start_time": "2022-04-27T16:34:09.433Z"
   },
   {
    "duration": 20,
    "start_time": "2022-04-27T16:34:11.102Z"
   },
   {
    "duration": 28,
    "start_time": "2022-04-27T16:34:11.124Z"
   },
   {
    "duration": 38,
    "start_time": "2022-04-27T16:34:11.155Z"
   },
   {
    "duration": 9,
    "start_time": "2022-04-27T16:34:11.196Z"
   },
   {
    "duration": 28,
    "start_time": "2022-04-27T16:34:11.207Z"
   },
   {
    "duration": 64,
    "start_time": "2022-04-27T16:34:11.238Z"
   },
   {
    "duration": 27,
    "start_time": "2022-04-27T16:34:11.304Z"
   },
   {
    "duration": 60,
    "start_time": "2022-04-27T16:34:11.333Z"
   },
   {
    "duration": 688,
    "start_time": "2022-04-27T16:34:11.397Z"
   },
   {
    "duration": 604,
    "start_time": "2022-04-27T16:34:12.092Z"
   },
   {
    "duration": 1635,
    "start_time": "2022-04-27T16:34:12.699Z"
   },
   {
    "duration": 22,
    "start_time": "2022-04-27T16:34:14.337Z"
   },
   {
    "duration": 365,
    "start_time": "2022-04-27T16:34:14.362Z"
   },
   {
    "duration": 253,
    "start_time": "2022-04-27T16:34:14.729Z"
   },
   {
    "duration": 252,
    "start_time": "2022-04-27T16:34:14.984Z"
   },
   {
    "duration": 929,
    "start_time": "2022-04-27T16:34:15.238Z"
   },
   {
    "duration": 406,
    "start_time": "2022-04-27T16:34:16.170Z"
   },
   {
    "duration": 400,
    "start_time": "2022-04-27T16:34:16.578Z"
   },
   {
    "duration": 23,
    "start_time": "2022-04-27T16:34:16.981Z"
   },
   {
    "duration": 399,
    "start_time": "2022-04-27T16:34:17.006Z"
   },
   {
    "duration": 590,
    "start_time": "2022-04-27T16:34:17.408Z"
   },
   {
    "duration": 14,
    "start_time": "2022-04-27T16:34:18.000Z"
   },
   {
    "duration": 400,
    "start_time": "2022-04-27T16:34:18.016Z"
   },
   {
    "duration": 401,
    "start_time": "2022-04-27T16:34:18.418Z"
   },
   {
    "duration": 15,
    "start_time": "2022-04-27T16:34:18.821Z"
   },
   {
    "duration": 8,
    "start_time": "2022-04-27T16:34:18.839Z"
   },
   {
    "duration": 43,
    "start_time": "2022-04-27T16:34:18.852Z"
   },
   {
    "duration": 556,
    "start_time": "2022-04-27T16:34:18.897Z"
   },
   {
    "duration": 464,
    "start_time": "2022-04-27T16:34:19.455Z"
   },
   {
    "duration": 473,
    "start_time": "2022-04-27T16:34:19.922Z"
   },
   {
    "duration": 459,
    "start_time": "2022-04-27T16:34:20.398Z"
   },
   {
    "duration": 16,
    "start_time": "2022-04-27T16:34:20.859Z"
   },
   {
    "duration": 15,
    "start_time": "2022-04-27T16:34:20.893Z"
   },
   {
    "duration": 212,
    "start_time": "2022-04-27T17:45:26.702Z"
   },
   {
    "duration": 50,
    "start_time": "2022-04-28T10:34:25.976Z"
   },
   {
    "duration": 1374,
    "start_time": "2022-04-28T10:34:52.534Z"
   },
   {
    "duration": 16,
    "start_time": "2022-04-28T10:34:53.911Z"
   },
   {
    "duration": 20,
    "start_time": "2022-04-28T10:34:53.933Z"
   },
   {
    "duration": 10,
    "start_time": "2022-04-28T10:34:53.955Z"
   },
   {
    "duration": 7,
    "start_time": "2022-04-28T10:34:53.968Z"
   },
   {
    "duration": 23,
    "start_time": "2022-04-28T10:34:53.977Z"
   },
   {
    "duration": 21,
    "start_time": "2022-04-28T10:34:54.034Z"
   },
   {
    "duration": 20,
    "start_time": "2022-04-28T10:34:54.057Z"
   },
   {
    "duration": 18,
    "start_time": "2022-04-28T10:34:54.079Z"
   },
   {
    "duration": 480,
    "start_time": "2022-04-28T10:34:54.099Z"
   },
   {
    "duration": 391,
    "start_time": "2022-04-28T10:34:54.581Z"
   },
   {
    "duration": 1152,
    "start_time": "2022-04-28T10:34:54.974Z"
   },
   {
    "duration": 19,
    "start_time": "2022-04-28T10:34:56.128Z"
   },
   {
    "duration": 262,
    "start_time": "2022-04-28T10:34:56.150Z"
   },
   {
    "duration": 173,
    "start_time": "2022-04-28T10:34:56.414Z"
   },
   {
    "duration": 172,
    "start_time": "2022-04-28T10:34:56.589Z"
   },
   {
    "duration": 642,
    "start_time": "2022-04-28T10:34:56.763Z"
   },
   {
    "duration": 130,
    "start_time": "2022-04-28T10:34:57.407Z"
   },
   {
    "duration": 0,
    "start_time": "2022-04-28T10:34:57.538Z"
   },
   {
    "duration": 0,
    "start_time": "2022-04-28T10:34:57.540Z"
   },
   {
    "duration": 0,
    "start_time": "2022-04-28T10:34:57.540Z"
   },
   {
    "duration": 0,
    "start_time": "2022-04-28T10:34:57.542Z"
   },
   {
    "duration": 0,
    "start_time": "2022-04-28T10:34:57.543Z"
   },
   {
    "duration": 1,
    "start_time": "2022-04-28T10:34:57.544Z"
   },
   {
    "duration": 0,
    "start_time": "2022-04-28T10:34:57.546Z"
   },
   {
    "duration": 0,
    "start_time": "2022-04-28T10:34:57.547Z"
   },
   {
    "duration": 0,
    "start_time": "2022-04-28T10:34:57.549Z"
   },
   {
    "duration": 0,
    "start_time": "2022-04-28T10:34:57.550Z"
   },
   {
    "duration": 1,
    "start_time": "2022-04-28T10:34:57.551Z"
   },
   {
    "duration": 0,
    "start_time": "2022-04-28T10:34:57.553Z"
   },
   {
    "duration": 0,
    "start_time": "2022-04-28T10:34:57.554Z"
   },
   {
    "duration": 0,
    "start_time": "2022-04-28T10:34:57.555Z"
   },
   {
    "duration": 0,
    "start_time": "2022-04-28T10:34:57.557Z"
   },
   {
    "duration": 0,
    "start_time": "2022-04-28T10:34:57.558Z"
   },
   {
    "duration": 0,
    "start_time": "2022-04-28T10:34:57.559Z"
   },
   {
    "duration": 9,
    "start_time": "2022-04-28T10:35:13.360Z"
   },
   {
    "duration": 166,
    "start_time": "2022-04-28T10:37:03.238Z"
   },
   {
    "duration": 8,
    "start_time": "2022-04-28T10:38:00.729Z"
   },
   {
    "duration": 1558,
    "start_time": "2022-04-28T10:40:39.596Z"
   },
   {
    "duration": 17,
    "start_time": "2022-04-28T10:40:41.158Z"
   },
   {
    "duration": 23,
    "start_time": "2022-04-28T10:40:41.177Z"
   },
   {
    "duration": 35,
    "start_time": "2022-04-28T10:40:41.203Z"
   },
   {
    "duration": 21,
    "start_time": "2022-04-28T10:40:41.240Z"
   },
   {
    "duration": 25,
    "start_time": "2022-04-28T10:40:41.263Z"
   },
   {
    "duration": 22,
    "start_time": "2022-04-28T10:40:41.290Z"
   },
   {
    "duration": 34,
    "start_time": "2022-04-28T10:40:41.335Z"
   },
   {
    "duration": 19,
    "start_time": "2022-04-28T10:40:41.371Z"
   },
   {
    "duration": 532,
    "start_time": "2022-04-28T10:40:41.393Z"
   },
   {
    "duration": 416,
    "start_time": "2022-04-28T10:40:41.927Z"
   },
   {
    "duration": 1280,
    "start_time": "2022-04-28T10:40:42.346Z"
   },
   {
    "duration": 28,
    "start_time": "2022-04-28T10:40:43.628Z"
   },
   {
    "duration": 296,
    "start_time": "2022-04-28T10:40:43.659Z"
   },
   {
    "duration": 202,
    "start_time": "2022-04-28T10:40:43.957Z"
   },
   {
    "duration": 210,
    "start_time": "2022-04-28T10:40:44.161Z"
   },
   {
    "duration": 743,
    "start_time": "2022-04-28T10:40:44.373Z"
   },
   {
    "duration": 282,
    "start_time": "2022-04-28T10:40:45.118Z"
   },
   {
    "duration": 279,
    "start_time": "2022-04-28T10:40:45.402Z"
   },
   {
    "duration": 12,
    "start_time": "2022-04-28T10:40:45.682Z"
   },
   {
    "duration": 285,
    "start_time": "2022-04-28T10:40:45.696Z"
   },
   {
    "duration": 368,
    "start_time": "2022-04-28T10:40:45.983Z"
   },
   {
    "duration": 11,
    "start_time": "2022-04-28T10:40:46.353Z"
   },
   {
    "duration": 262,
    "start_time": "2022-04-28T10:40:46.366Z"
   },
   {
    "duration": 238,
    "start_time": "2022-04-28T10:40:46.629Z"
   },
   {
    "duration": 12,
    "start_time": "2022-04-28T10:40:46.868Z"
   },
   {
    "duration": 7,
    "start_time": "2022-04-28T10:40:46.881Z"
   },
   {
    "duration": 8,
    "start_time": "2022-04-28T10:40:46.891Z"
   },
   {
    "duration": 403,
    "start_time": "2022-04-28T10:40:46.900Z"
   },
   {
    "duration": 331,
    "start_time": "2022-04-28T10:40:47.305Z"
   },
   {
    "duration": 346,
    "start_time": "2022-04-28T10:40:47.639Z"
   },
   {
    "duration": 353,
    "start_time": "2022-04-28T10:40:47.987Z"
   },
   {
    "duration": 13,
    "start_time": "2022-04-28T10:40:48.344Z"
   },
   {
    "duration": 17,
    "start_time": "2022-04-28T10:40:48.359Z"
   },
   {
    "duration": 5,
    "start_time": "2022-04-28T11:17:27.610Z"
   },
   {
    "duration": 1364,
    "start_time": "2022-04-28T11:24:38.682Z"
   },
   {
    "duration": 16,
    "start_time": "2022-04-28T11:24:40.048Z"
   },
   {
    "duration": 30,
    "start_time": "2022-04-28T11:24:40.065Z"
   },
   {
    "duration": 10,
    "start_time": "2022-04-28T11:24:40.098Z"
   },
   {
    "duration": 25,
    "start_time": "2022-04-28T11:24:40.110Z"
   },
   {
    "duration": 36,
    "start_time": "2022-04-28T11:24:40.137Z"
   },
   {
    "duration": 29,
    "start_time": "2022-04-28T11:24:40.175Z"
   },
   {
    "duration": 20,
    "start_time": "2022-04-28T11:24:40.206Z"
   },
   {
    "duration": 19,
    "start_time": "2022-04-28T11:24:40.233Z"
   },
   {
    "duration": 475,
    "start_time": "2022-04-28T11:24:40.255Z"
   },
   {
    "duration": 421,
    "start_time": "2022-04-28T11:24:40.732Z"
   },
   {
    "duration": 1239,
    "start_time": "2022-04-28T11:24:41.155Z"
   },
   {
    "duration": 21,
    "start_time": "2022-04-28T11:24:42.397Z"
   },
   {
    "duration": 309,
    "start_time": "2022-04-28T11:24:42.433Z"
   },
   {
    "duration": 181,
    "start_time": "2022-04-28T11:24:42.745Z"
   },
   {
    "duration": 196,
    "start_time": "2022-04-28T11:24:42.927Z"
   },
   {
    "duration": 684,
    "start_time": "2022-04-28T11:24:43.125Z"
   },
   {
    "duration": 249,
    "start_time": "2022-04-28T11:24:43.810Z"
   },
   {
    "duration": 260,
    "start_time": "2022-04-28T11:24:44.060Z"
   },
   {
    "duration": 18,
    "start_time": "2022-04-28T11:24:44.322Z"
   },
   {
    "duration": 262,
    "start_time": "2022-04-28T11:24:44.341Z"
   },
   {
    "duration": 339,
    "start_time": "2022-04-28T11:24:44.606Z"
   },
   {
    "duration": 12,
    "start_time": "2022-04-28T11:24:44.947Z"
   },
   {
    "duration": 260,
    "start_time": "2022-04-28T11:24:44.961Z"
   },
   {
    "duration": 242,
    "start_time": "2022-04-28T11:24:45.223Z"
   },
   {
    "duration": 13,
    "start_time": "2022-04-28T11:24:45.467Z"
   },
   {
    "duration": 7,
    "start_time": "2022-04-28T11:24:45.481Z"
   },
   {
    "duration": 8,
    "start_time": "2022-04-28T11:24:45.493Z"
   },
   {
    "duration": 366,
    "start_time": "2022-04-28T11:24:45.532Z"
   },
   {
    "duration": 326,
    "start_time": "2022-04-28T11:24:45.900Z"
   },
   {
    "duration": 368,
    "start_time": "2022-04-28T11:24:46.228Z"
   },
   {
    "duration": 415,
    "start_time": "2022-04-28T11:24:46.598Z"
   },
   {
    "duration": 19,
    "start_time": "2022-04-28T11:24:47.015Z"
   },
   {
    "duration": 16,
    "start_time": "2022-04-28T11:24:47.037Z"
   },
   {
    "duration": 2197,
    "start_time": "2022-04-28T19:40:26.237Z"
   },
   {
    "duration": 22,
    "start_time": "2022-04-28T19:40:28.438Z"
   },
   {
    "duration": 55,
    "start_time": "2022-04-28T19:40:28.463Z"
   },
   {
    "duration": 14,
    "start_time": "2022-04-28T19:40:28.521Z"
   },
   {
    "duration": 11,
    "start_time": "2022-04-28T19:40:28.538Z"
   },
   {
    "duration": 61,
    "start_time": "2022-04-28T19:40:28.552Z"
   },
   {
    "duration": 27,
    "start_time": "2022-04-28T19:40:28.615Z"
   },
   {
    "duration": 64,
    "start_time": "2022-04-28T19:40:28.645Z"
   },
   {
    "duration": 28,
    "start_time": "2022-04-28T19:40:28.712Z"
   },
   {
    "duration": 698,
    "start_time": "2022-04-28T19:40:28.744Z"
   },
   {
    "duration": 586,
    "start_time": "2022-04-28T19:40:29.444Z"
   },
   {
    "duration": 2098,
    "start_time": "2022-04-28T19:40:30.033Z"
   },
   {
    "duration": 22,
    "start_time": "2022-04-28T19:40:32.133Z"
   },
   {
    "duration": 354,
    "start_time": "2022-04-28T19:40:32.157Z"
   },
   {
    "duration": 255,
    "start_time": "2022-04-28T19:40:32.513Z"
   },
   {
    "duration": 244,
    "start_time": "2022-04-28T19:40:32.770Z"
   },
   {
    "duration": 913,
    "start_time": "2022-04-28T19:40:33.016Z"
   },
   {
    "duration": 384,
    "start_time": "2022-04-28T19:40:33.932Z"
   },
   {
    "duration": 382,
    "start_time": "2022-04-28T19:40:34.318Z"
   },
   {
    "duration": 14,
    "start_time": "2022-04-28T19:40:34.702Z"
   },
   {
    "duration": 410,
    "start_time": "2022-04-28T19:40:34.718Z"
   },
   {
    "duration": 710,
    "start_time": "2022-04-28T19:40:35.131Z"
   },
   {
    "duration": 20,
    "start_time": "2022-04-28T19:40:35.844Z"
   },
   {
    "duration": 397,
    "start_time": "2022-04-28T19:40:35.867Z"
   },
   {
    "duration": 381,
    "start_time": "2022-04-28T19:40:36.266Z"
   },
   {
    "duration": 16,
    "start_time": "2022-04-28T19:40:36.649Z"
   },
   {
    "duration": 32,
    "start_time": "2022-04-28T19:40:36.668Z"
   },
   {
    "duration": 13,
    "start_time": "2022-04-28T19:40:36.706Z"
   },
   {
    "duration": 750,
    "start_time": "2022-04-28T19:40:36.722Z"
   },
   {
    "duration": 461,
    "start_time": "2022-04-28T19:40:37.474Z"
   },
   {
    "duration": 556,
    "start_time": "2022-04-28T19:40:37.938Z"
   },
   {
    "duration": 469,
    "start_time": "2022-04-28T19:40:38.497Z"
   },
   {
    "duration": 27,
    "start_time": "2022-04-28T19:40:38.969Z"
   },
   {
    "duration": 4890,
    "start_time": "2022-04-28T19:40:38.999Z"
   },
   {
    "duration": 20,
    "start_time": "2022-04-28T19:41:55.122Z"
   },
   {
    "duration": 20,
    "start_time": "2022-04-28T19:42:08.191Z"
   },
   {
    "duration": 21,
    "start_time": "2022-04-28T19:42:43.601Z"
   },
   {
    "duration": 2869,
    "start_time": "2022-04-29T09:27:45.664Z"
   },
   {
    "duration": 21,
    "start_time": "2022-04-29T09:27:48.535Z"
   },
   {
    "duration": 28,
    "start_time": "2022-04-29T09:27:48.558Z"
   },
   {
    "duration": 43,
    "start_time": "2022-04-29T09:27:48.589Z"
   },
   {
    "duration": 15,
    "start_time": "2022-04-29T09:27:48.634Z"
   },
   {
    "duration": 31,
    "start_time": "2022-04-29T09:27:48.651Z"
   },
   {
    "duration": 61,
    "start_time": "2022-04-29T09:27:48.684Z"
   },
   {
    "duration": 28,
    "start_time": "2022-04-29T09:27:48.747Z"
   },
   {
    "duration": 57,
    "start_time": "2022-04-29T09:27:48.777Z"
   },
   {
    "duration": 715,
    "start_time": "2022-04-29T09:27:48.838Z"
   },
   {
    "duration": 672,
    "start_time": "2022-04-29T09:27:49.556Z"
   },
   {
    "duration": 1877,
    "start_time": "2022-04-29T09:27:50.230Z"
   },
   {
    "duration": 32,
    "start_time": "2022-04-29T09:27:52.109Z"
   },
   {
    "duration": 356,
    "start_time": "2022-04-29T09:27:52.143Z"
   },
   {
    "duration": 260,
    "start_time": "2022-04-29T09:27:52.501Z"
   },
   {
    "duration": 271,
    "start_time": "2022-04-29T09:27:52.764Z"
   },
   {
    "duration": 974,
    "start_time": "2022-04-29T09:27:53.038Z"
   },
   {
    "duration": 412,
    "start_time": "2022-04-29T09:27:54.015Z"
   },
   {
    "duration": 409,
    "start_time": "2022-04-29T09:27:54.430Z"
   },
   {
    "duration": 15,
    "start_time": "2022-04-29T09:27:54.841Z"
   },
   {
    "duration": 418,
    "start_time": "2022-04-29T09:27:54.858Z"
   },
   {
    "duration": 514,
    "start_time": "2022-04-29T09:27:55.279Z"
   },
   {
    "duration": 15,
    "start_time": "2022-04-29T09:27:55.795Z"
   },
   {
    "duration": 402,
    "start_time": "2022-04-29T09:27:55.825Z"
   },
   {
    "duration": 398,
    "start_time": "2022-04-29T09:27:56.230Z"
   },
   {
    "duration": 17,
    "start_time": "2022-04-29T09:27:56.631Z"
   },
   {
    "duration": 10,
    "start_time": "2022-04-29T09:27:56.650Z"
   },
   {
    "duration": 12,
    "start_time": "2022-04-29T09:27:56.667Z"
   },
   {
    "duration": 569,
    "start_time": "2022-04-29T09:27:56.725Z"
   },
   {
    "duration": 470,
    "start_time": "2022-04-29T09:27:57.297Z"
   },
   {
    "duration": 483,
    "start_time": "2022-04-29T09:27:57.770Z"
   },
   {
    "duration": 464,
    "start_time": "2022-04-29T09:27:58.255Z"
   },
   {
    "duration": 16,
    "start_time": "2022-04-29T09:27:58.725Z"
   },
   {
    "duration": 25,
    "start_time": "2022-04-29T09:27:58.743Z"
   },
   {
    "duration": 2543,
    "start_time": "2022-04-29T19:41:32.798Z"
   },
   {
    "duration": 28,
    "start_time": "2022-04-29T19:41:35.345Z"
   },
   {
    "duration": 62,
    "start_time": "2022-04-29T19:41:35.376Z"
   },
   {
    "duration": 19,
    "start_time": "2022-04-29T19:41:35.442Z"
   },
   {
    "duration": 17,
    "start_time": "2022-04-29T19:41:35.464Z"
   },
   {
    "duration": 72,
    "start_time": "2022-04-29T19:41:35.484Z"
   },
   {
    "duration": 28,
    "start_time": "2022-04-29T19:41:35.559Z"
   },
   {
    "duration": 52,
    "start_time": "2022-04-29T19:41:35.589Z"
   },
   {
    "duration": 48,
    "start_time": "2022-04-29T19:41:35.645Z"
   },
   {
    "duration": 958,
    "start_time": "2022-04-29T19:41:35.698Z"
   },
   {
    "duration": 674,
    "start_time": "2022-04-29T19:41:36.658Z"
   },
   {
    "duration": 1904,
    "start_time": "2022-04-29T19:41:37.334Z"
   },
   {
    "duration": 24,
    "start_time": "2022-04-29T19:41:39.243Z"
   },
   {
    "duration": 412,
    "start_time": "2022-04-29T19:41:39.269Z"
   },
   {
    "duration": 417,
    "start_time": "2022-04-29T19:41:39.684Z"
   },
   {
    "duration": 0,
    "start_time": "2022-04-29T19:41:40.105Z"
   },
   {
    "duration": 0,
    "start_time": "2022-04-29T19:41:40.108Z"
   },
   {
    "duration": 0,
    "start_time": "2022-04-29T19:41:40.110Z"
   },
   {
    "duration": 0,
    "start_time": "2022-04-29T19:41:40.112Z"
   },
   {
    "duration": 0,
    "start_time": "2022-04-29T19:41:40.129Z"
   },
   {
    "duration": 0,
    "start_time": "2022-04-29T19:41:40.130Z"
   },
   {
    "duration": 0,
    "start_time": "2022-04-29T19:41:40.131Z"
   },
   {
    "duration": 0,
    "start_time": "2022-04-29T19:41:40.136Z"
   },
   {
    "duration": 0,
    "start_time": "2022-04-29T19:41:40.138Z"
   },
   {
    "duration": 0,
    "start_time": "2022-04-29T19:41:40.140Z"
   },
   {
    "duration": 0,
    "start_time": "2022-04-29T19:41:40.142Z"
   },
   {
    "duration": 0,
    "start_time": "2022-04-29T19:41:40.144Z"
   },
   {
    "duration": 0,
    "start_time": "2022-04-29T19:41:40.148Z"
   },
   {
    "duration": 0,
    "start_time": "2022-04-29T19:41:40.149Z"
   },
   {
    "duration": 0,
    "start_time": "2022-04-29T19:41:40.153Z"
   },
   {
    "duration": 0,
    "start_time": "2022-04-29T19:41:40.155Z"
   },
   {
    "duration": 0,
    "start_time": "2022-04-29T19:41:40.158Z"
   },
   {
    "duration": 0,
    "start_time": "2022-04-29T19:41:40.160Z"
   },
   {
    "duration": 0,
    "start_time": "2022-04-29T19:41:40.162Z"
   },
   {
    "duration": 26,
    "start_time": "2022-04-29T19:45:16.440Z"
   },
   {
    "duration": 351,
    "start_time": "2022-04-29T19:45:21.880Z"
   },
   {
    "duration": 307,
    "start_time": "2022-04-29T19:45:25.392Z"
   },
   {
    "duration": 1875,
    "start_time": "2022-04-29T19:45:49.970Z"
   },
   {
    "duration": 23,
    "start_time": "2022-04-29T19:45:51.851Z"
   },
   {
    "duration": 51,
    "start_time": "2022-04-29T19:45:51.877Z"
   },
   {
    "duration": 20,
    "start_time": "2022-04-29T19:45:51.937Z"
   },
   {
    "duration": 19,
    "start_time": "2022-04-29T19:45:51.959Z"
   },
   {
    "duration": 66,
    "start_time": "2022-04-29T19:45:51.981Z"
   },
   {
    "duration": 28,
    "start_time": "2022-04-29T19:45:52.049Z"
   },
   {
    "duration": 62,
    "start_time": "2022-04-29T19:45:52.080Z"
   },
   {
    "duration": 27,
    "start_time": "2022-04-29T19:45:52.148Z"
   },
   {
    "duration": 809,
    "start_time": "2022-04-29T19:45:52.180Z"
   },
   {
    "duration": 976,
    "start_time": "2022-04-29T19:45:52.991Z"
   },
   {
    "duration": 2292,
    "start_time": "2022-04-29T19:45:53.971Z"
   },
   {
    "duration": 23,
    "start_time": "2022-04-29T19:45:56.266Z"
   },
   {
    "duration": 446,
    "start_time": "2022-04-29T19:45:56.293Z"
   },
   {
    "duration": 324,
    "start_time": "2022-04-29T19:45:56.742Z"
   },
   {
    "duration": 287,
    "start_time": "2022-04-29T19:45:57.070Z"
   },
   {
    "duration": 1237,
    "start_time": "2022-04-29T19:45:57.359Z"
   },
   {
    "duration": 516,
    "start_time": "2022-04-29T19:45:58.599Z"
   },
   {
    "duration": 447,
    "start_time": "2022-04-29T19:45:59.125Z"
   },
   {
    "duration": 18,
    "start_time": "2022-04-29T19:45:59.576Z"
   },
   {
    "duration": 490,
    "start_time": "2022-04-29T19:45:59.597Z"
   },
   {
    "duration": 576,
    "start_time": "2022-04-29T19:46:00.090Z"
   },
   {
    "duration": 17,
    "start_time": "2022-04-29T19:46:00.668Z"
   },
   {
    "duration": 479,
    "start_time": "2022-04-29T19:46:00.687Z"
   },
   {
    "duration": 446,
    "start_time": "2022-04-29T19:46:01.168Z"
   },
   {
    "duration": 25,
    "start_time": "2022-04-29T19:46:01.625Z"
   },
   {
    "duration": 26,
    "start_time": "2022-04-29T19:46:01.652Z"
   },
   {
    "duration": 21,
    "start_time": "2022-04-29T19:46:01.683Z"
   },
   {
    "duration": 601,
    "start_time": "2022-04-29T19:46:01.707Z"
   },
   {
    "duration": 598,
    "start_time": "2022-04-29T19:46:02.325Z"
   },
   {
    "duration": 536,
    "start_time": "2022-04-29T19:46:02.926Z"
   },
   {
    "duration": 514,
    "start_time": "2022-04-29T19:46:03.466Z"
   },
   {
    "duration": 15,
    "start_time": "2022-04-29T19:46:03.983Z"
   },
   {
    "duration": 43,
    "start_time": "2022-04-29T19:46:04.000Z"
   },
   {
    "duration": 2019,
    "start_time": "2022-04-29T20:57:39.053Z"
   },
   {
    "duration": 28,
    "start_time": "2022-04-29T20:57:41.075Z"
   },
   {
    "duration": 56,
    "start_time": "2022-04-29T20:57:41.105Z"
   },
   {
    "duration": 13,
    "start_time": "2022-04-29T20:57:41.167Z"
   },
   {
    "duration": 10,
    "start_time": "2022-04-29T20:57:41.182Z"
   },
   {
    "duration": 26,
    "start_time": "2022-04-29T20:57:41.194Z"
   },
   {
    "duration": 57,
    "start_time": "2022-04-29T20:57:41.222Z"
   },
   {
    "duration": 26,
    "start_time": "2022-04-29T20:57:41.281Z"
   },
   {
    "duration": 62,
    "start_time": "2022-04-29T20:57:41.310Z"
   },
   {
    "duration": 720,
    "start_time": "2022-04-29T20:57:41.375Z"
   },
   {
    "duration": 644,
    "start_time": "2022-04-29T20:57:42.097Z"
   },
   {
    "duration": 1708,
    "start_time": "2022-04-29T20:57:42.743Z"
   },
   {
    "duration": 21,
    "start_time": "2022-04-29T20:57:44.454Z"
   },
   {
    "duration": 339,
    "start_time": "2022-04-29T20:57:44.477Z"
   },
   {
    "duration": 259,
    "start_time": "2022-04-29T20:57:44.818Z"
   },
   {
    "duration": 268,
    "start_time": "2022-04-29T20:57:45.079Z"
   },
   {
    "duration": 957,
    "start_time": "2022-04-29T20:57:45.349Z"
   },
   {
    "duration": 405,
    "start_time": "2022-04-29T20:57:46.309Z"
   },
   {
    "duration": 400,
    "start_time": "2022-04-29T20:57:46.717Z"
   },
   {
    "duration": 13,
    "start_time": "2022-04-29T20:57:47.120Z"
   },
   {
    "duration": 390,
    "start_time": "2022-04-29T20:57:47.152Z"
   },
   {
    "duration": 481,
    "start_time": "2022-04-29T20:57:47.552Z"
   },
   {
    "duration": 32,
    "start_time": "2022-04-29T20:57:48.036Z"
   },
   {
    "duration": 410,
    "start_time": "2022-04-29T20:57:48.070Z"
   },
   {
    "duration": 428,
    "start_time": "2022-04-29T20:57:48.482Z"
   },
   {
    "duration": 15,
    "start_time": "2022-04-29T20:57:48.912Z"
   },
   {
    "duration": 9,
    "start_time": "2022-04-29T20:57:48.953Z"
   },
   {
    "duration": 10,
    "start_time": "2022-04-29T20:57:48.971Z"
   },
   {
    "duration": 589,
    "start_time": "2022-04-29T20:57:48.984Z"
   },
   {
    "duration": 634,
    "start_time": "2022-04-29T20:57:49.576Z"
   },
   {
    "duration": 516,
    "start_time": "2022-04-29T20:57:50.213Z"
   },
   {
    "duration": 484,
    "start_time": "2022-04-29T20:57:50.733Z"
   },
   {
    "duration": 17,
    "start_time": "2022-04-29T20:57:51.219Z"
   },
   {
    "duration": 23,
    "start_time": "2022-04-29T20:57:51.255Z"
   }
  ],
  "kernelspec": {
   "display_name": "Python 3",
   "language": "python",
   "name": "python3"
  },
  "language_info": {
   "codemirror_mode": {
    "name": "ipython",
    "version": 3
   },
   "file_extension": ".py",
   "mimetype": "text/x-python",
   "name": "python",
   "nbconvert_exporter": "python",
   "pygments_lexer": "ipython3",
   "version": "3.7.6"
  },
  "toc": {
   "base_numbering": 1,
   "nav_menu": {},
   "number_sections": true,
   "sideBar": true,
   "skip_h1_title": false,
   "title_cell": "Содержание:",
   "title_sidebar": "Contents",
   "toc_cell": true,
   "toc_position": {
    "height": "calc(100% - 180px)",
    "left": "10px",
    "top": "150px",
    "width": "260.816px"
   },
   "toc_section_display": true,
   "toc_window_display": true
  }
 },
 "nbformat": 4,
 "nbformat_minor": 2
}
