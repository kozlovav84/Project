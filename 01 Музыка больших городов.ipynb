{
 "cells": [
  {
   "cell_type": "markdown",
   "metadata": {
    "id": "E0vqbgi9ay0H"
   },
   "source": [
    "# Яндекс.Музыка"
   ]
  },
  {
   "cell_type": "markdown",
   "metadata": {
    "id": "VUC88oWjTJw2"
   },
   "source": [
    "Сравнение Москвы и Петербурга окружено мифами. Например:\n",
    " * Москва — мегаполис, подчинённый жёсткому ритму рабочей недели;\n",
    " * Петербург — культурная столица, со своими вкусами.\n",
    "\n",
    "На данных Яндекс.Музыки вы сравните поведение пользователей двух столиц.\n",
    "\n",
    "**Цель исследования** — проверьте три гипотезы:\n",
    "1. Активность пользователей зависит от дня недели. Причём в Москве и Петербурге это проявляется по-разному.\n",
    "2. В понедельник утром в Москве преобладают одни жанры, а в Петербурге — другие. Так же и вечером пятницы преобладают разные жанры — в зависимости от города. \n",
    "3. Москва и Петербург предпочитают разные жанры музыки. В Москве чаще слушают поп-музыку, в Петербурге — русский рэп.\n",
    "\n",
    "**Ход исследования**\n",
    "\n",
    "Данные о поведении пользователей вы получите из файла `yandex_music_project.csv`. О качестве данных ничего не известно. Поэтому перед проверкой гипотез понадобится обзор данных. \n",
    "\n",
    "Вы проверите данные на ошибки и оцените их влияние на исследование. Затем, на этапе предобработки вы поищете возможность исправить самые критичные ошибки данных.\n",
    " \n",
    "Таким образом, исследование пройдёт в три этапа:\n",
    " 1. Обзор данных.\n",
    " 2. Предобработка данных.\n",
    " 3. Проверка гипотез.\n",
    "\n"
   ]
  },
  {
   "cell_type": "markdown",
   "metadata": {
    "id": "Ml1hmfXC_Zcs"
   },
   "source": [
    "## Обзор данных\n",
    "\n",
    "Составьте первое представление о данных Яндекс.Музыки.\n",
    "\n",
    "\n"
   ]
  },
  {
   "cell_type": "markdown",
   "metadata": {
    "id": "57eAOGIz_Zcs"
   },
   "source": [
    "Основной инструмент аналитика — `pandas`. Импортируйте эту библиотеку."
   ]
  },
  {
   "cell_type": "code",
   "execution_count": 1,
   "metadata": {
    "id": "AXN7PHPN_Zcs"
   },
   "outputs": [],
   "source": [
    "import pandas as pd"
   ]
  },
  {
   "cell_type": "markdown",
   "metadata": {
    "id": "SG23P8tt_Zcs"
   },
   "source": [
    "Прочитайте файл `yandex_music_project.csv` из папки `/datasets` и сохраните его в переменной `df`:"
   ]
  },
  {
   "cell_type": "code",
   "execution_count": 2,
   "metadata": {
    "id": "fFVu7vqh_Zct"
   },
   "outputs": [],
   "source": [
    "df = pd.read_csv('/datasets/yandex_music_project.csv') # чтение файла с данными и сохранение в df"
   ]
  },
  {
   "cell_type": "markdown",
   "metadata": {
    "id": "rDoOMd3uTqnZ"
   },
   "source": [
    "Выведите на экран первые десять строк таблицы:"
   ]
  },
  {
   "cell_type": "code",
   "execution_count": 3,
   "metadata": {
    "id": "oWTVX3gW_Zct"
   },
   "outputs": [
    {
     "data": {
      "text/html": [
       "<div>\n",
       "<style scoped>\n",
       "    .dataframe tbody tr th:only-of-type {\n",
       "        vertical-align: middle;\n",
       "    }\n",
       "\n",
       "    .dataframe tbody tr th {\n",
       "        vertical-align: top;\n",
       "    }\n",
       "\n",
       "    .dataframe thead th {\n",
       "        text-align: right;\n",
       "    }\n",
       "</style>\n",
       "<table border=\"1\" class=\"dataframe\">\n",
       "  <thead>\n",
       "    <tr style=\"text-align: right;\">\n",
       "      <th></th>\n",
       "      <th>userID</th>\n",
       "      <th>Track</th>\n",
       "      <th>artist</th>\n",
       "      <th>genre</th>\n",
       "      <th>City</th>\n",
       "      <th>time</th>\n",
       "      <th>Day</th>\n",
       "    </tr>\n",
       "  </thead>\n",
       "  <tbody>\n",
       "    <tr>\n",
       "      <td>0</td>\n",
       "      <td>FFB692EC</td>\n",
       "      <td>Kamigata To Boots</td>\n",
       "      <td>The Mass Missile</td>\n",
       "      <td>rock</td>\n",
       "      <td>Saint-Petersburg</td>\n",
       "      <td>20:28:33</td>\n",
       "      <td>Wednesday</td>\n",
       "    </tr>\n",
       "    <tr>\n",
       "      <td>1</td>\n",
       "      <td>55204538</td>\n",
       "      <td>Delayed Because of Accident</td>\n",
       "      <td>Andreas Rönnberg</td>\n",
       "      <td>rock</td>\n",
       "      <td>Moscow</td>\n",
       "      <td>14:07:09</td>\n",
       "      <td>Friday</td>\n",
       "    </tr>\n",
       "    <tr>\n",
       "      <td>2</td>\n",
       "      <td>20EC38</td>\n",
       "      <td>Funiculì funiculà</td>\n",
       "      <td>Mario Lanza</td>\n",
       "      <td>pop</td>\n",
       "      <td>Saint-Petersburg</td>\n",
       "      <td>20:58:07</td>\n",
       "      <td>Wednesday</td>\n",
       "    </tr>\n",
       "    <tr>\n",
       "      <td>3</td>\n",
       "      <td>A3DD03C9</td>\n",
       "      <td>Dragons in the Sunset</td>\n",
       "      <td>Fire + Ice</td>\n",
       "      <td>folk</td>\n",
       "      <td>Saint-Petersburg</td>\n",
       "      <td>08:37:09</td>\n",
       "      <td>Monday</td>\n",
       "    </tr>\n",
       "    <tr>\n",
       "      <td>4</td>\n",
       "      <td>E2DC1FAE</td>\n",
       "      <td>Soul People</td>\n",
       "      <td>Space Echo</td>\n",
       "      <td>dance</td>\n",
       "      <td>Moscow</td>\n",
       "      <td>08:34:34</td>\n",
       "      <td>Monday</td>\n",
       "    </tr>\n",
       "    <tr>\n",
       "      <td>5</td>\n",
       "      <td>842029A1</td>\n",
       "      <td>Преданная</td>\n",
       "      <td>IMPERVTOR</td>\n",
       "      <td>rusrap</td>\n",
       "      <td>Saint-Petersburg</td>\n",
       "      <td>13:09:41</td>\n",
       "      <td>Friday</td>\n",
       "    </tr>\n",
       "    <tr>\n",
       "      <td>6</td>\n",
       "      <td>4CB90AA5</td>\n",
       "      <td>True</td>\n",
       "      <td>Roman Messer</td>\n",
       "      <td>dance</td>\n",
       "      <td>Moscow</td>\n",
       "      <td>13:00:07</td>\n",
       "      <td>Wednesday</td>\n",
       "    </tr>\n",
       "    <tr>\n",
       "      <td>7</td>\n",
       "      <td>F03E1C1F</td>\n",
       "      <td>Feeling This Way</td>\n",
       "      <td>Polina Griffith</td>\n",
       "      <td>dance</td>\n",
       "      <td>Moscow</td>\n",
       "      <td>20:47:49</td>\n",
       "      <td>Wednesday</td>\n",
       "    </tr>\n",
       "    <tr>\n",
       "      <td>8</td>\n",
       "      <td>8FA1D3BE</td>\n",
       "      <td>И вновь продолжается бой</td>\n",
       "      <td>NaN</td>\n",
       "      <td>ruspop</td>\n",
       "      <td>Moscow</td>\n",
       "      <td>09:17:40</td>\n",
       "      <td>Friday</td>\n",
       "    </tr>\n",
       "    <tr>\n",
       "      <td>9</td>\n",
       "      <td>E772D5C0</td>\n",
       "      <td>Pessimist</td>\n",
       "      <td>NaN</td>\n",
       "      <td>dance</td>\n",
       "      <td>Saint-Petersburg</td>\n",
       "      <td>21:20:49</td>\n",
       "      <td>Wednesday</td>\n",
       "    </tr>\n",
       "  </tbody>\n",
       "</table>\n",
       "</div>"
      ],
      "text/plain": [
       "     userID                        Track            artist   genre  \\\n",
       "0  FFB692EC            Kamigata To Boots  The Mass Missile    rock   \n",
       "1  55204538  Delayed Because of Accident  Andreas Rönnberg    rock   \n",
       "2    20EC38            Funiculì funiculà       Mario Lanza     pop   \n",
       "3  A3DD03C9        Dragons in the Sunset        Fire + Ice    folk   \n",
       "4  E2DC1FAE                  Soul People        Space Echo   dance   \n",
       "5  842029A1                    Преданная         IMPERVTOR  rusrap   \n",
       "6  4CB90AA5                         True      Roman Messer   dance   \n",
       "7  F03E1C1F             Feeling This Way   Polina Griffith   dance   \n",
       "8  8FA1D3BE     И вновь продолжается бой               NaN  ruspop   \n",
       "9  E772D5C0                    Pessimist               NaN   dance   \n",
       "\n",
       "             City        time        Day  \n",
       "0  Saint-Petersburg  20:28:33  Wednesday  \n",
       "1            Moscow  14:07:09     Friday  \n",
       "2  Saint-Petersburg  20:58:07  Wednesday  \n",
       "3  Saint-Petersburg  08:37:09     Monday  \n",
       "4            Moscow  08:34:34     Monday  \n",
       "5  Saint-Petersburg  13:09:41     Friday  \n",
       "6            Moscow  13:00:07  Wednesday  \n",
       "7            Moscow  20:47:49  Wednesday  \n",
       "8            Moscow  09:17:40     Friday  \n",
       "9  Saint-Petersburg  21:20:49  Wednesday  "
      ]
     },
     "execution_count": 3,
     "metadata": {},
     "output_type": "execute_result"
    }
   ],
   "source": [
    "df.head(10) # получение первых 10 строк таблицы df"
   ]
  },
  {
   "cell_type": "markdown",
   "metadata": {
    "id": "EO73Kwic_Zct"
   },
   "source": [
    "Одной командой получить общую информацию о таблице:"
   ]
  },
  {
   "cell_type": "code",
   "execution_count": 4,
   "metadata": {
    "id": "DSf2kIb-_Zct"
   },
   "outputs": [
    {
     "name": "stdout",
     "output_type": "stream",
     "text": [
      "<class 'pandas.core.frame.DataFrame'>\n",
      "RangeIndex: 65079 entries, 0 to 65078\n",
      "Data columns (total 7 columns):\n",
      "  userID    65079 non-null object\n",
      "Track       63848 non-null object\n",
      "artist      57876 non-null object\n",
      "genre       63881 non-null object\n",
      "  City      65079 non-null object\n",
      "time        65079 non-null object\n",
      "Day         65079 non-null object\n",
      "dtypes: object(7)\n",
      "memory usage: 3.5+ MB\n"
     ]
    }
   ],
   "source": [
    "df.info(10) # получение общей информации о данных в таблице df"
   ]
  },
  {
   "cell_type": "markdown",
   "metadata": {
    "id": "TaQ2Iwbr_Zct"
   },
   "source": [
    "Итак, в таблице семь столбцов. Тип данных во всех столбцах — `object`.\n",
    "\n",
    "Согласно документации к данным:\n",
    "* `userID` — идентификатор пользователя;\n",
    "* `Track` — название трека;  \n",
    "* `artist` — имя исполнителя;\n",
    "* `genre` — название жанра;\n",
    "* `City` — город пользователя;\n",
    "* `time` — время начала прослушивания;\n",
    "* `Day` — день недели.\n",
    "\n",
    "В названиях колонок видны три нарушения стиля:\n",
    "1. Строчные буквы сочетаются с прописными.\n",
    "2. Встречаются пробелы.\n",
    "3. Найдите ещё одну проблему в названии колонок и опишите её в этом пункте. Колонка 'userID' не приведена к змеиному регистру.\n",
    "\n",
    "\n",
    "\n",
    "Количество значений в столбцах различается. Значит, в данных есть пропущенные значения.\n"
   ]
  },
  {
   "cell_type": "markdown",
   "metadata": {
    "id": "MCB6-dXG_Zct"
   },
   "source": [
    "**Выводы**\n",
    "\n",
    "В каждой строке таблицы — данные о прослушанном треке. Часть колонок описывает саму композицию: название, исполнителя и жанр. Остальные данные рассказывают о пользователе: из какого он города, когда он слушал музыку. \n",
    "\n",
    "Предварительно можно утверждать, что, данных достаточно для проверки гипотез. Но встречаются пропуски в данных, а в названиях колонок — расхождения с хорошим стилем.\n",
    "\n",
    "Чтобы двигаться дальше, нужно устранить проблемы в данных."
   ]
  },
  {
   "cell_type": "markdown",
   "metadata": {
    "id": "SjYF6Ub9_Zct"
   },
   "source": [
    "## Предобработка данных\n",
    "Исправьте стиль в заголовках столбцов, исключите пропуски. Затем проверьте данные на дубликаты."
   ]
  },
  {
   "cell_type": "markdown",
   "metadata": {
    "id": "dIaKXr29_Zct"
   },
   "source": [
    "### Стиль заголовков\n",
    "Выведите на экран названия столбцов:"
   ]
  },
  {
   "cell_type": "code",
   "execution_count": 5,
   "metadata": {
    "id": "oKOTdF_Q_Zct"
   },
   "outputs": [
    {
     "data": {
      "text/plain": [
       "Index(['  userID', 'Track', 'artist', 'genre', '  City  ', 'time', 'Day'], dtype='object')"
      ]
     },
     "execution_count": 5,
     "metadata": {},
     "output_type": "execute_result"
    }
   ],
   "source": [
    "df.columns # перечень названий столбцов таблицы df"
   ]
  },
  {
   "cell_type": "markdown",
   "metadata": {
    "id": "zj5534cv_Zct"
   },
   "source": [
    "Приведите названия в соответствие с хорошим стилем:\n",
    "* несколько слов в названии запишите в «змеином_регистре»,\n",
    "* все символы сделайте строчными,\n",
    "* устраните пробелы.\n",
    "\n",
    "Для этого переименуйте колонки так:\n",
    "* `'  userID'` → `'user_id'`;\n",
    "* `'Track'` → `'track'`;\n",
    "* `'  City  '` → `'city'`;\n",
    "* `'Day'` → `'day'`."
   ]
  },
  {
   "cell_type": "code",
   "execution_count": 6,
   "metadata": {
    "id": "ISlFqs5y_Zct"
   },
   "outputs": [],
   "source": [
    "df = df.rename(columns={'  userID': 'user_id', 'Track': 'track', '  City  ': 'city','Day': 'day'}) # переименование столбцов"
   ]
  },
  {
   "cell_type": "markdown",
   "metadata": {
    "id": "1dqbh00J_Zct"
   },
   "source": [
    "Проверьте результат. Для этого ещё раз выведите на экран названия столбцов:"
   ]
  },
  {
   "cell_type": "code",
   "execution_count": 7,
   "metadata": {
    "id": "d4NOAmTW_Zct"
   },
   "outputs": [
    {
     "name": "stdout",
     "output_type": "stream",
     "text": [
      "Index(['user_id', 'track', 'artist', 'genre', 'city', 'time', 'day'], dtype='object')\n"
     ]
    }
   ],
   "source": [
    "print (df.columns) # проверка результатов - перечень названий столбцов"
   ]
  },
  {
   "cell_type": "markdown",
   "metadata": {
    "id": "5ISfbcfY_Zct"
   },
   "source": [
    "### Пропуски значений\n",
    "Сначала посчитайте, сколько в таблице пропущенных значений. Для этого достаточно двух методов `pandas`:"
   ]
  },
  {
   "cell_type": "code",
   "execution_count": 8,
   "metadata": {
    "id": "RskX29qr_Zct"
   },
   "outputs": [
    {
     "name": "stdout",
     "output_type": "stream",
     "text": [
      "user_id       0\n",
      "track      1231\n",
      "artist     7203\n",
      "genre      1198\n",
      "city          0\n",
      "time          0\n",
      "day           0\n",
      "dtype: int64\n"
     ]
    }
   ],
   "source": [
    "print (df.isna().sum()) # подсчёт пропусков"
   ]
  },
  {
   "cell_type": "markdown",
   "metadata": {
    "id": "qubhgnlO_Zct"
   },
   "source": [
    "Не все пропущенные значения влияют на исследование. Так в `track` и `artist` пропуски не важны для вашей работы. Достаточно заменить их явными обозначениями.\n",
    "\n",
    "Но пропуски в `genre` могут помешать сравнению музыкальных вкусов в Москве и Санкт-Петербурге. На практике было бы правильно установить причину пропусков и восстановить данные. Такой возможности нет в учебном проекте. Придётся:\n",
    "* заполнить и эти пропуски явными обозначениями,\n",
    "* оценить, насколько они повредят расчётам. "
   ]
  },
  {
   "cell_type": "markdown",
   "metadata": {
    "id": "fSv2laPA_Zct"
   },
   "source": [
    "Замените пропущенные значения в столбцах `track`, `artist` и `genre` на строку `'unknown'`. Для этого создайте список `columns_to_replace`, переберите его элементы циклом `for` и для каждого столбца выполните замену пропущенных значений:"
   ]
  },
  {
   "cell_type": "code",
   "execution_count": 9,
   "metadata": {
    "id": "KplB5qWs_Zct"
   },
   "outputs": [],
   "source": [
    " columns_to_replace = [['track'], ['artist'], ['genre']] # перебор названий столбцов в цикле и замена пропущенных значений на 'unknown'\n",
    "for column in columns_to_replace:\n",
    "    df[column] = df[column].fillna('unknown')    "
   ]
  },
  {
   "cell_type": "markdown",
   "metadata": {
    "id": "Ilsm-MZo_Zct"
   },
   "source": [
    "Убедитесь, что в таблице не осталось пропусков. Для этого ещё раз посчитайте пропущенные значения."
   ]
  },
  {
   "cell_type": "code",
   "execution_count": 10,
   "metadata": {
    "id": "Tq4nYRX4_Zct"
   },
   "outputs": [
    {
     "name": "stdout",
     "output_type": "stream",
     "text": [
      "user_id    0\n",
      "track      0\n",
      "artist     0\n",
      "genre      0\n",
      "city       0\n",
      "time       0\n",
      "day        0\n",
      "dtype: int64\n"
     ]
    }
   ],
   "source": [
    "print (df.isna().sum()) # подсчёт пропусков"
   ]
  },
  {
   "cell_type": "markdown",
   "metadata": {
    "id": "BWKRtBJ3_Zct"
   },
   "source": [
    "### Дубликаты\n",
    "Посчитайте явные дубликаты в таблице одной командой:"
   ]
  },
  {
   "cell_type": "code",
   "execution_count": 11,
   "metadata": {
    "id": "36eES_S0_Zct"
   },
   "outputs": [
    {
     "data": {
      "text/plain": [
       "3826"
      ]
     },
     "execution_count": 11,
     "metadata": {},
     "output_type": "execute_result"
    }
   ],
   "source": [
    "df.duplicated().sum() # подсчёт явных дубликатов"
   ]
  },
  {
   "cell_type": "markdown",
   "metadata": {
    "id": "Ot25h6XR_Zct"
   },
   "source": [
    "Вызовите специальный метод `pandas`, чтобы удалить явные дубликаты:"
   ]
  },
  {
   "cell_type": "code",
   "execution_count": 12,
   "metadata": {
    "id": "exFHq6tt_Zct"
   },
   "outputs": [],
   "source": [
    "df = df.drop_duplicates().reset_index(drop=True) # удаление явных дубликатов (с удалением старых индексов и формированием новых)"
   ]
  },
  {
   "cell_type": "markdown",
   "metadata": {
    "id": "Im2YwBEG_Zct"
   },
   "source": [
    "Ещё раз посчитайте явные дубликаты в таблице — убедитесь, что полностью от них избавились:"
   ]
  },
  {
   "cell_type": "code",
   "execution_count": 13,
   "metadata": {
    "id": "-8PuNWQ0_Zct"
   },
   "outputs": [
    {
     "data": {
      "text/plain": [
       "0"
      ]
     },
     "execution_count": 13,
     "metadata": {},
     "output_type": "execute_result"
    }
   ],
   "source": [
    "df.duplicated().sum() # проверка на отсутствие дубликатов"
   ]
  },
  {
   "cell_type": "markdown",
   "metadata": {
    "id": "QlFBsxAr_Zct"
   },
   "source": [
    "Теперь избавьтесь от неявных дубликатов в колонке `genre`. Например, название одного и того же жанра может быть записано немного по-разному. Такие ошибки тоже повлияют на результат исследования."
   ]
  },
  {
   "cell_type": "markdown",
   "metadata": {
    "id": "eSjWwsOh_Zct"
   },
   "source": [
    "Выведите на экран список уникальных названий жанров, отсортированный в алфавитном порядке. Для этого:\n",
    "* извлеките нужный столбец датафрейма, \n",
    "* примените к нему метод сортировки,\n",
    "* для отсортированного столбца вызовите метод, который вернёт уникальные значения из столбца."
   ]
  },
  {
   "cell_type": "code",
   "execution_count": 14,
   "metadata": {
    "id": "JIUcqzZN_Zct"
   },
   "outputs": [
    {
     "name": "stdout",
     "output_type": "stream",
     "text": [
      "['acid' 'acoustic' 'action' 'adult' 'africa' 'afrikaans' 'alternative'\n",
      " 'alternativepunk' 'ambient' 'americana' 'animated' 'anime' 'arabesk'\n",
      " 'arabic' 'arena' 'argentinetango' 'art' 'audiobook' 'author' 'avantgarde'\n",
      " 'axé' 'baile' 'balkan' 'beats' 'bigroom' 'black' 'bluegrass' 'blues'\n",
      " 'bollywood' 'bossa' 'brazilian' 'breakbeat' 'breaks' 'broadway'\n",
      " 'cantautori' 'cantopop' 'canzone' 'caribbean' 'caucasian' 'celtic'\n",
      " 'chamber' 'chanson' 'children' 'chill' 'chinese' 'choral' 'christian'\n",
      " 'christmas' 'classical' 'classicmetal' 'club' 'colombian' 'comedy'\n",
      " 'conjazz' 'contemporary' 'country' 'cuban' 'dance' 'dancehall' 'dancepop'\n",
      " 'dark' 'death' 'deep' 'deutschrock' 'deutschspr' 'dirty' 'disco' 'dnb'\n",
      " 'documentary' 'downbeat' 'downtempo' 'drum' 'dub' 'dubstep' 'eastern'\n",
      " 'easy' 'electronic' 'electropop' 'emo' 'entehno' 'epicmetal' 'estrada'\n",
      " 'ethnic' 'eurofolk' 'european' 'experimental' 'extrememetal' 'fado'\n",
      " 'fairytail' 'film' 'fitness' 'flamenco' 'folk' 'folklore' 'folkmetal'\n",
      " 'folkrock' 'folktronica' 'forró' 'frankreich' 'französisch' 'french'\n",
      " 'funk' 'future' 'gangsta' 'garage' 'german' 'ghazal' 'gitarre' 'glitch'\n",
      " 'gospel' 'gothic' 'grime' 'grunge' 'gypsy' 'handsup' \"hard'n'heavy\"\n",
      " 'hardcore' 'hardstyle' 'hardtechno' 'hip' 'hip-hop' 'hiphop' 'historisch'\n",
      " 'holiday' 'hop' 'horror' 'house' 'hymn' 'idm' 'independent' 'indian'\n",
      " 'indie' 'indipop' 'industrial' 'inspirational' 'instrumental'\n",
      " 'international' 'irish' 'jam' 'japanese' 'jazz' 'jewish' 'jpop' 'jungle'\n",
      " 'k-pop' 'karadeniz' 'karaoke' 'kayokyoku' 'korean' 'laiko' 'latin'\n",
      " 'latino' 'leftfield' 'local' 'lounge' 'loungeelectronic' 'lovers'\n",
      " 'malaysian' 'mandopop' 'marschmusik' 'meditative' 'mediterranean'\n",
      " 'melodic' 'metal' 'metalcore' 'mexican' 'middle' 'minimal'\n",
      " 'miscellaneous' 'modern' 'mood' 'mpb' 'muslim' 'native' 'neoklassik'\n",
      " 'neue' 'new' 'newage' 'newwave' 'nu' 'nujazz' 'numetal' 'oceania' 'old'\n",
      " 'opera' 'orchestral' 'other' 'piano' 'podcasts' 'pop' 'popdance'\n",
      " 'popelectronic' 'popeurodance' 'poprussian' 'post' 'posthardcore'\n",
      " 'postrock' 'power' 'progmetal' 'progressive' 'psychedelic' 'punjabi'\n",
      " 'punk' 'quebecois' 'ragga' 'ram' 'rancheras' 'rap' 'rave' 'reggae'\n",
      " 'reggaeton' 'regional' 'relax' 'religious' 'retro' 'rhythm' 'rnb' 'rnr'\n",
      " 'rock' 'rockabilly' 'rockalternative' 'rockindie' 'rockother' 'romance'\n",
      " 'roots' 'ruspop' 'rusrap' 'rusrock' 'russian' 'salsa' 'samba' 'scenic'\n",
      " 'schlager' 'self' 'sertanejo' 'shanson' 'shoegazing' 'showtunes' 'singer'\n",
      " 'ska' 'skarock' 'slow' 'smooth' 'soft' 'soul' 'soulful' 'sound'\n",
      " 'soundtrack' 'southern' 'specialty' 'speech' 'spiritual' 'sport'\n",
      " 'stonerrock' 'surf' 'swing' 'synthpop' 'synthrock' 'sängerportrait'\n",
      " 'tango' 'tanzorchester' 'taraftar' 'tatar' 'tech' 'techno' 'teen'\n",
      " 'thrash' 'top' 'traditional' 'tradjazz' 'trance' 'tribal' 'trip'\n",
      " 'triphop' 'tropical' 'türk' 'türkçe' 'ukrrock' 'unknown' 'urban' 'uzbek'\n",
      " 'variété' 'vi' 'videogame' 'vocal' 'western' 'world' 'worldbeat' 'ïîï'\n",
      " 'электроника']\n"
     ]
    }
   ],
   "source": [
    "sorted_genre = df.loc[:, ['genre']] \n",
    "sorted_genre = df['genre'].sort_values()\n",
    "print (sorted_genre.unique()) # Просмотр уникальных названий жанров\n"
   ]
  },
  {
   "cell_type": "markdown",
   "metadata": {
    "id": "qej-Qmuo_Zct"
   },
   "source": [
    "Просмотрите список и найдите неявные дубликаты названия `hiphop`. Это могут быть названия с ошибками или альтернативные названия того же жанра.\n",
    "\n",
    "Вы увидите следующие неявные дубликаты:\n",
    "* *hip*,\n",
    "* *hop*,\n",
    "* *hip-hop*.\n",
    "\n",
    "Чтобы очистить от них таблицу, напишите функцию `replace_wrong_genres()` с двумя параметрами: \n",
    "* `wrong_genres` — список дубликатов,\n",
    "* `correct_genre` — строка с правильным значением.\n",
    "\n",
    "Функция должна исправить колонку `genre` в таблице `df`: заменить каждое значение из списка `wrong_genres` на значение из `correct_genre`."
   ]
  },
  {
   "cell_type": "code",
   "execution_count": 15,
   "metadata": {
    "id": "ErNDkmns_Zct"
   },
   "outputs": [],
   "source": [
    "def replace_wrong_genres(wrong_genres, correct_genre): # Функция для замены неявных дубликатов\n",
    "    for wrong_genre in wrong_genres:\n",
    "        df['genre'] = df['genre'].replace(wrong_genre, correct_genre)        \n",
    "        \n",
    "       "
   ]
  },
  {
   "cell_type": "markdown",
   "metadata": {
    "id": "aDoBJxbA_Zct"
   },
   "source": [
    "Вызовите `replace_wrong_genres()` и передайте ей такие аргументы, чтобы она устранила неявные дубликаты: вместо `hip`, `hop` и `hip-hop` в таблице должно быть значение `hiphop`:"
   ]
  },
  {
   "cell_type": "code",
   "execution_count": 16,
   "metadata": {
    "id": "YN5i2hpmSo09"
   },
   "outputs": [],
   "source": [
    "duplicates = ['hip', 'hop', 'hip-hop']  # Устранение неявных дубликатов\n",
    "genre = 'hiphop'\n",
    "replace_wrong_genres(duplicates, genre)\n"
   ]
  },
  {
   "cell_type": "markdown",
   "metadata": {
    "id": "zQKF16_RG15m"
   },
   "source": [
    "Проверьте, что заменили неправильные названия:\n",
    "\n",
    "*   hip\n",
    "*   hop\n",
    "*   hip-hop\n",
    "\n",
    "Выведите отсортированный список уникальных значений столбца `genre`:"
   ]
  },
  {
   "cell_type": "code",
   "execution_count": 17,
   "metadata": {
    "id": "wvixALnFG15m"
   },
   "outputs": [
    {
     "name": "stdout",
     "output_type": "stream",
     "text": [
      "['acid' 'acoustic' 'action' 'adult' 'africa' 'afrikaans' 'alternative'\n",
      " 'alternativepunk' 'ambient' 'americana' 'animated' 'anime' 'arabesk'\n",
      " 'arabic' 'arena' 'argentinetango' 'art' 'audiobook' 'author' 'avantgarde'\n",
      " 'axé' 'baile' 'balkan' 'beats' 'bigroom' 'black' 'bluegrass' 'blues'\n",
      " 'bollywood' 'bossa' 'brazilian' 'breakbeat' 'breaks' 'broadway'\n",
      " 'cantautori' 'cantopop' 'canzone' 'caribbean' 'caucasian' 'celtic'\n",
      " 'chamber' 'chanson' 'children' 'chill' 'chinese' 'choral' 'christian'\n",
      " 'christmas' 'classical' 'classicmetal' 'club' 'colombian' 'comedy'\n",
      " 'conjazz' 'contemporary' 'country' 'cuban' 'dance' 'dancehall' 'dancepop'\n",
      " 'dark' 'death' 'deep' 'deutschrock' 'deutschspr' 'dirty' 'disco' 'dnb'\n",
      " 'documentary' 'downbeat' 'downtempo' 'drum' 'dub' 'dubstep' 'eastern'\n",
      " 'easy' 'electronic' 'electropop' 'emo' 'entehno' 'epicmetal' 'estrada'\n",
      " 'ethnic' 'eurofolk' 'european' 'experimental' 'extrememetal' 'fado'\n",
      " 'fairytail' 'film' 'fitness' 'flamenco' 'folk' 'folklore' 'folkmetal'\n",
      " 'folkrock' 'folktronica' 'forró' 'frankreich' 'französisch' 'french'\n",
      " 'funk' 'future' 'gangsta' 'garage' 'german' 'ghazal' 'gitarre' 'glitch'\n",
      " 'gospel' 'gothic' 'grime' 'grunge' 'gypsy' 'handsup' \"hard'n'heavy\"\n",
      " 'hardcore' 'hardstyle' 'hardtechno' 'hiphop' 'historisch' 'holiday'\n",
      " 'horror' 'house' 'hymn' 'idm' 'independent' 'indian' 'indie' 'indipop'\n",
      " 'industrial' 'inspirational' 'instrumental' 'international' 'irish' 'jam'\n",
      " 'japanese' 'jazz' 'jewish' 'jpop' 'jungle' 'k-pop' 'karadeniz' 'karaoke'\n",
      " 'kayokyoku' 'korean' 'laiko' 'latin' 'latino' 'leftfield' 'local'\n",
      " 'lounge' 'loungeelectronic' 'lovers' 'malaysian' 'mandopop' 'marschmusik'\n",
      " 'meditative' 'mediterranean' 'melodic' 'metal' 'metalcore' 'mexican'\n",
      " 'middle' 'minimal' 'miscellaneous' 'modern' 'mood' 'mpb' 'muslim'\n",
      " 'native' 'neoklassik' 'neue' 'new' 'newage' 'newwave' 'nu' 'nujazz'\n",
      " 'numetal' 'oceania' 'old' 'opera' 'orchestral' 'other' 'piano' 'podcasts'\n",
      " 'pop' 'popdance' 'popelectronic' 'popeurodance' 'poprussian' 'post'\n",
      " 'posthardcore' 'postrock' 'power' 'progmetal' 'progressive' 'psychedelic'\n",
      " 'punjabi' 'punk' 'quebecois' 'ragga' 'ram' 'rancheras' 'rap' 'rave'\n",
      " 'reggae' 'reggaeton' 'regional' 'relax' 'religious' 'retro' 'rhythm'\n",
      " 'rnb' 'rnr' 'rock' 'rockabilly' 'rockalternative' 'rockindie' 'rockother'\n",
      " 'romance' 'roots' 'ruspop' 'rusrap' 'rusrock' 'russian' 'salsa' 'samba'\n",
      " 'scenic' 'schlager' 'self' 'sertanejo' 'shanson' 'shoegazing' 'showtunes'\n",
      " 'singer' 'ska' 'skarock' 'slow' 'smooth' 'soft' 'soul' 'soulful' 'sound'\n",
      " 'soundtrack' 'southern' 'specialty' 'speech' 'spiritual' 'sport'\n",
      " 'stonerrock' 'surf' 'swing' 'synthpop' 'synthrock' 'sängerportrait'\n",
      " 'tango' 'tanzorchester' 'taraftar' 'tatar' 'tech' 'techno' 'teen'\n",
      " 'thrash' 'top' 'traditional' 'tradjazz' 'trance' 'tribal' 'trip'\n",
      " 'triphop' 'tropical' 'türk' 'türkçe' 'ukrrock' 'unknown' 'urban' 'uzbek'\n",
      " 'variété' 'vi' 'videogame' 'vocal' 'western' 'world' 'worldbeat' 'ïîï'\n",
      " 'электроника']\n"
     ]
    }
   ],
   "source": [
    "sorted_genre = df['genre'].sort_values()\n",
    "print (sorted_genre.unique()) # Проверка на неявные дубликаты"
   ]
  },
  {
   "cell_type": "markdown",
   "metadata": {
    "id": "jz6a9-7HQUDd"
   },
   "source": [
    "**Выводы**\n",
    "\n",
    "Предобработка обнаружила три проблемы в данных:\n",
    "\n",
    "- нарушения в стиле заголовков,\n",
    "- пропущенные значения,\n",
    "- дубликаты — явные и неявные.\n",
    "\n",
    "Вы исправили заголовки, чтобы упростить работу с таблицей. Без дубликатов исследование станет более точным.\n",
    "\n",
    "Пропущенные значения вы заменили на `'unknown'`. Ещё предстоит увидеть, не повредят ли исследованию пропуски в колонке `genre`.\n",
    "\n",
    "Теперь можно перейти к проверке гипотез. "
   ]
  },
  {
   "cell_type": "markdown",
   "metadata": {
    "id": "WttZHXH0SqKk"
   },
   "source": [
    "## Проверка гипотез"
   ]
  },
  {
   "cell_type": "markdown",
   "metadata": {
    "id": "Im936VVi_Zcu"
   },
   "source": [
    "### Сравнение поведения пользователей двух столиц"
   ]
  },
  {
   "cell_type": "markdown",
   "metadata": {
    "id": "nwt_MuaL_Zcu"
   },
   "source": [
    "Первая гипотеза утверждает, что пользователи по-разному слушают музыку в Москве и Санкт-Петербурге. Проверьте это предположение по данным о трёх днях недели — понедельнике, среде и пятнице. Для этого:\n",
    "\n",
    "* Разделите пользователей Москвы и Санкт-Петербурга\n",
    "* Сравните, сколько треков послушала каждая группа пользователей в понедельник, среду и пятницу.\n"
   ]
  },
  {
   "cell_type": "markdown",
   "metadata": {
    "id": "8Dw_YMmT_Zcu"
   },
   "source": [
    "Для тренировки сначала выполните каждый из расчётов по отдельности. \n",
    "\n",
    "Оцените активность пользователей в каждом городе. Сгруппируйте данные по городу и посчитайте прослушивания в каждой группе.\n",
    "\n"
   ]
  },
  {
   "cell_type": "code",
   "execution_count": 18,
   "metadata": {
    "id": "0_Qs96oh_Zcu"
   },
   "outputs": [
    {
     "data": {
      "text/plain": [
       "city\n",
       "Moscow              42741\n",
       "Saint-Petersburg    18512\n",
       "Name: genre, dtype: int64"
      ]
     },
     "execution_count": 18,
     "metadata": {},
     "output_type": "execute_result"
    }
   ],
   "source": [
    "df.groupby('city')['genre'].count()  # Подсчёт прослушиваний в каждом городе"
   ]
  },
  {
   "cell_type": "markdown",
   "metadata": {
    "id": "dzli3w8o_Zcu"
   },
   "source": [
    "В Москве прослушиваний больше, чем в Петербурге. Из этого не следует, что московские пользователи чаще слушают музыку. Просто самих пользователей в Москве больше.\n",
    "\n",
    "Теперь сгруппируйте данные по дню недели и подсчитайте прослушивания в понедельник, среду и пятницу. Учтите, что в данных есть информация только о прослушиваниях только за эти дни.\n"
   ]
  },
  {
   "cell_type": "code",
   "execution_count": 19,
   "metadata": {
    "id": "uZMKjiJz_Zcu"
   },
   "outputs": [
    {
     "data": {
      "text/plain": [
       "day\n",
       "Friday       21840\n",
       "Monday       21354\n",
       "Wednesday    18059\n",
       "Name: genre, dtype: int64"
      ]
     },
     "execution_count": 19,
     "metadata": {},
     "output_type": "execute_result"
    }
   ],
   "source": [
    "df.groupby('day')['genre'].count()  # Подсчёт прослушиваний в каждый из трёх дней"
   ]
  },
  {
   "cell_type": "markdown",
   "metadata": {
    "id": "cC2tNrlL_Zcu"
   },
   "source": [
    "В среднем пользователи из двух городов менее активны по средам. Но картина может измениться, если рассмотреть каждый город в отдельности."
   ]
  },
  {
   "cell_type": "markdown",
   "metadata": {
    "id": "POzs8bGa_Zcu"
   },
   "source": [
    "Вы видели, как работает группировка по городу и по дням недели. Теперь напишите функцию, которая объединит два эти расчёта.\n",
    "\n",
    "Создайте функцию `number_tracks()`, которая посчитает прослушивания для заданного дня и города. Ей понадобятся два параметра:\n",
    "* день недели,\n",
    "* название города.\n",
    "\n",
    "В функции сохраните в переменную строки исходной таблицы, у которых значение:\n",
    "  * в колонке `day` равно параметру `day`,\n",
    "  * в колонке `city` равно параметру `city`.\n",
    "\n",
    "Для этого примените последовательную фильтрацию с логической индексацией.\n",
    "\n",
    "Затем посчитайте значения в столбце `user_id` получившейся таблицы. Результат сохраните в новую переменную. Верните эту переменную из функции."
   ]
  },
  {
   "cell_type": "code",
   "execution_count": 20,
   "metadata": {
    "id": "Nz3GdQB1_Zcu"
   },
   "outputs": [],
   "source": [
    "def number_tracks(day, city): \n",
    "    track_list = df[df['day'] == day] \n",
    "    track_list = track_list[track_list['city'] == city]\n",
    "    track_list_count = track_list['user_id'].count()\n",
    "    return track_list_count\n",
    " # <создание функции number_tracks()>\n",
    " # Объявляется функция с двумя параметрами: day, city.\n",
    " # В переменной track_list сохраняются те строки таблицы df, для которых \n",
    " # значение в столбце 'day' равно параметру day и одновременно значение\n",
    " # в столбце 'city' равно параметру city (используйте последовательную фильтрацию\n",
    " # с помощью логической индексации).\n",
    " # В переменной track_list_count сохраняется число значений столбца 'user_id',\n",
    " # рассчитанное методом count() для таблицы track_list.\n",
    " # Функция возвращает число - значение track_list_count.\n",
    "\n",
    " # Функция для подсчёта прослушиваний для конкретного города и дня.\n",
    " # С помощью последовательной фильтрации с логической индексацией она \n",
    " # сначала получит из исходной таблицы строки с нужным днём,\n",
    " # затем из результата отфильтрует строки с нужным городом,\n",
    " # методом count() посчитает количество значений в колонке user_id. \n",
    " # Это количество функция вернёт в качестве результата"
   ]
  },
  {
   "cell_type": "markdown",
   "metadata": {
    "id": "ytf7xFrFJQ2r"
   },
   "source": [
    "Вызовите `number_tracks()` шесть раз, меняя значение параметров — так, чтобы получить данные для каждого города в каждый из трёх дней."
   ]
  },
  {
   "cell_type": "code",
   "execution_count": 21,
   "metadata": {
    "id": "rJcRATNQ_Zcu"
   },
   "outputs": [
    {
     "data": {
      "text/plain": [
       "15740"
      ]
     },
     "execution_count": 21,
     "metadata": {},
     "output_type": "execute_result"
    }
   ],
   "source": [
    "number_tracks('Monday', 'Moscow')"
   ]
  },
  {
   "cell_type": "code",
   "execution_count": 22,
   "metadata": {
    "id": "hq_ncZ5T_Zcu"
   },
   "outputs": [
    {
     "data": {
      "text/plain": [
       "5614"
      ]
     },
     "execution_count": 22,
     "metadata": {},
     "output_type": "execute_result"
    }
   ],
   "source": [
    "number_tracks('Monday', 'Saint-Petersburg') # количество прослушиваний в Санкт-Петербурге по понедельникам"
   ]
  },
  {
   "cell_type": "code",
   "execution_count": 23,
   "metadata": {
    "id": "_NTy2VPU_Zcu"
   },
   "outputs": [
    {
     "data": {
      "text/plain": [
       "11056"
      ]
     },
     "execution_count": 23,
     "metadata": {},
     "output_type": "execute_result"
    }
   ],
   "source": [
    "number_tracks('Wednesday', 'Moscow') # количество прослушиваний в Москве по средам"
   ]
  },
  {
   "cell_type": "code",
   "execution_count": 24,
   "metadata": {
    "id": "j2y3TAwo_Zcu"
   },
   "outputs": [
    {
     "data": {
      "text/plain": [
       "7003"
      ]
     },
     "execution_count": 24,
     "metadata": {},
     "output_type": "execute_result"
    }
   ],
   "source": [
    "number_tracks('Wednesday', 'Saint-Petersburg') # количество прослушиваний в Санкт-Петербурге по средам"
   ]
  },
  {
   "cell_type": "code",
   "execution_count": 25,
   "metadata": {
    "id": "vYDw5u_K_Zcu"
   },
   "outputs": [
    {
     "data": {
      "text/plain": [
       "15945"
      ]
     },
     "execution_count": 25,
     "metadata": {},
     "output_type": "execute_result"
    }
   ],
   "source": [
    "number_tracks('Friday', 'Moscow') # количество прослушиваний в Москве по пятницам"
   ]
  },
  {
   "cell_type": "code",
   "execution_count": 26,
   "metadata": {
    "id": "8_yzFtW3_Zcu"
   },
   "outputs": [
    {
     "data": {
      "text/plain": [
       "5895"
      ]
     },
     "execution_count": 26,
     "metadata": {},
     "output_type": "execute_result"
    }
   ],
   "source": [
    "number_tracks('Friday', 'Saint-Petersburg') # количество прослушиваний в Санкт-Петербурге по пятницам"
   ]
  },
  {
   "cell_type": "markdown",
   "metadata": {
    "id": "7QXffbO-_Zcu"
   },
   "source": [
    "Создайте c помощью конструктора `pd.DataFrame` таблицу, где\n",
    "* названия колонок — `['city', 'monday', 'wednesday', 'friday']`;\n",
    "* данные — результаты, которые вы получили с помощью `number_tracks`."
   ]
  },
  {
   "cell_type": "code",
   "execution_count": 27,
   "metadata": {
    "id": "APAcLpOr_Zcu"
   },
   "outputs": [
    {
     "data": {
      "text/html": [
       "<div>\n",
       "<style scoped>\n",
       "    .dataframe tbody tr th:only-of-type {\n",
       "        vertical-align: middle;\n",
       "    }\n",
       "\n",
       "    .dataframe tbody tr th {\n",
       "        vertical-align: top;\n",
       "    }\n",
       "\n",
       "    .dataframe thead th {\n",
       "        text-align: right;\n",
       "    }\n",
       "</style>\n",
       "<table border=\"1\" class=\"dataframe\">\n",
       "  <thead>\n",
       "    <tr style=\"text-align: right;\">\n",
       "      <th></th>\n",
       "      <th>city</th>\n",
       "      <th>monday</th>\n",
       "      <th>wednesday</th>\n",
       "      <th>friday</th>\n",
       "    </tr>\n",
       "  </thead>\n",
       "  <tbody>\n",
       "    <tr>\n",
       "      <td>0</td>\n",
       "      <td>Moscow</td>\n",
       "      <td>15740</td>\n",
       "      <td>11056</td>\n",
       "      <td>15945</td>\n",
       "    </tr>\n",
       "    <tr>\n",
       "      <td>1</td>\n",
       "      <td>Saint-Petersburg</td>\n",
       "      <td>5614</td>\n",
       "      <td>7003</td>\n",
       "      <td>5895</td>\n",
       "    </tr>\n",
       "  </tbody>\n",
       "</table>\n",
       "</div>"
      ],
      "text/plain": [
       "               city  monday  wednesday  friday\n",
       "0            Moscow   15740      11056   15945\n",
       "1  Saint-Petersburg    5614       7003    5895"
      ]
     },
     "metadata": {},
     "output_type": "display_data"
    }
   ],
   "source": [
    "column = ['city', 'monday', 'wednesday', 'friday']\n",
    "line = [\n",
    "    ['Moscow', 15740, 11056, 15945],\n",
    "    ['Saint-Petersburg', 5614, 7003, 5895]\n",
    "]\n",
    "\n",
    "df_sortes = pd.DataFrame(data=line, columns=column) # Таблица с результатами\n",
    "display (df_sortes)"
   ]
  },
  {
   "cell_type": "markdown",
   "metadata": {
    "id": "-EgPIHYu_Zcu"
   },
   "source": [
    "**Выводы**\n",
    "\n",
    "Данные показывают разницу поведения пользователей:\n",
    "\n",
    "- В Москве пик прослушиваний приходится на понедельник и пятницу, а в среду заметен спад.\n",
    "- В Петербурге, наоборот, больше слушают музыку по средам. Активность в понедельник и пятницу здесь почти в равной мере уступает среде.\n",
    "\n",
    "Значит, данные говорят в пользу первой гипотезы."
   ]
  },
  {
   "cell_type": "markdown",
   "metadata": {
    "id": "atZAxtq4_Zcu"
   },
   "source": [
    "### Музыка в начале и в конце недели"
   ]
  },
  {
   "cell_type": "markdown",
   "metadata": {
    "id": "eXrQqXFH_Zcu"
   },
   "source": [
    "Согласно второй гипотезе, утром в понедельник в Москве преобладают одни жанры, а в Петербурге — другие. Так же и вечером пятницы преобладают разные жанры — в зависимости от города."
   ]
  },
  {
   "cell_type": "markdown",
   "metadata": {
    "id": "S8UcW6Hw_Zcu"
   },
   "source": [
    "Сохраните таблицы с данными в две переменные:\n",
    "* по Москве — в `moscow_general`;\n",
    "* по Санкт-Петербургу — в `spb_general`."
   ]
  },
  {
   "cell_type": "code",
   "execution_count": 28,
   "metadata": {
    "id": "qeaFfM_P_Zcu"
   },
   "outputs": [
    {
     "data": {
      "text/html": [
       "<div>\n",
       "<style scoped>\n",
       "    .dataframe tbody tr th:only-of-type {\n",
       "        vertical-align: middle;\n",
       "    }\n",
       "\n",
       "    .dataframe tbody tr th {\n",
       "        vertical-align: top;\n",
       "    }\n",
       "\n",
       "    .dataframe thead th {\n",
       "        text-align: right;\n",
       "    }\n",
       "</style>\n",
       "<table border=\"1\" class=\"dataframe\">\n",
       "  <thead>\n",
       "    <tr style=\"text-align: right;\">\n",
       "      <th></th>\n",
       "      <th>user_id</th>\n",
       "      <th>track</th>\n",
       "      <th>artist</th>\n",
       "      <th>genre</th>\n",
       "      <th>city</th>\n",
       "      <th>time</th>\n",
       "      <th>day</th>\n",
       "    </tr>\n",
       "  </thead>\n",
       "  <tbody>\n",
       "    <tr>\n",
       "      <td>1</td>\n",
       "      <td>55204538</td>\n",
       "      <td>Delayed Because of Accident</td>\n",
       "      <td>Andreas Rönnberg</td>\n",
       "      <td>rock</td>\n",
       "      <td>Moscow</td>\n",
       "      <td>14:07:09</td>\n",
       "      <td>Friday</td>\n",
       "    </tr>\n",
       "    <tr>\n",
       "      <td>4</td>\n",
       "      <td>E2DC1FAE</td>\n",
       "      <td>Soul People</td>\n",
       "      <td>Space Echo</td>\n",
       "      <td>dance</td>\n",
       "      <td>Moscow</td>\n",
       "      <td>08:34:34</td>\n",
       "      <td>Monday</td>\n",
       "    </tr>\n",
       "    <tr>\n",
       "      <td>6</td>\n",
       "      <td>4CB90AA5</td>\n",
       "      <td>True</td>\n",
       "      <td>Roman Messer</td>\n",
       "      <td>dance</td>\n",
       "      <td>Moscow</td>\n",
       "      <td>13:00:07</td>\n",
       "      <td>Wednesday</td>\n",
       "    </tr>\n",
       "    <tr>\n",
       "      <td>7</td>\n",
       "      <td>F03E1C1F</td>\n",
       "      <td>Feeling This Way</td>\n",
       "      <td>Polina Griffith</td>\n",
       "      <td>dance</td>\n",
       "      <td>Moscow</td>\n",
       "      <td>20:47:49</td>\n",
       "      <td>Wednesday</td>\n",
       "    </tr>\n",
       "    <tr>\n",
       "      <td>8</td>\n",
       "      <td>8FA1D3BE</td>\n",
       "      <td>И вновь продолжается бой</td>\n",
       "      <td>unknown</td>\n",
       "      <td>ruspop</td>\n",
       "      <td>Moscow</td>\n",
       "      <td>09:17:40</td>\n",
       "      <td>Friday</td>\n",
       "    </tr>\n",
       "    <tr>\n",
       "      <td>...</td>\n",
       "      <td>...</td>\n",
       "      <td>...</td>\n",
       "      <td>...</td>\n",
       "      <td>...</td>\n",
       "      <td>...</td>\n",
       "      <td>...</td>\n",
       "      <td>...</td>\n",
       "    </tr>\n",
       "    <tr>\n",
       "      <td>61247</td>\n",
       "      <td>83A474E7</td>\n",
       "      <td>I Worship Only What You Bleed</td>\n",
       "      <td>The Black Dahlia Murder</td>\n",
       "      <td>extrememetal</td>\n",
       "      <td>Moscow</td>\n",
       "      <td>21:07:12</td>\n",
       "      <td>Monday</td>\n",
       "    </tr>\n",
       "    <tr>\n",
       "      <td>61248</td>\n",
       "      <td>729CBB09</td>\n",
       "      <td>My Name</td>\n",
       "      <td>McLean</td>\n",
       "      <td>rnb</td>\n",
       "      <td>Moscow</td>\n",
       "      <td>13:32:28</td>\n",
       "      <td>Wednesday</td>\n",
       "    </tr>\n",
       "    <tr>\n",
       "      <td>61250</td>\n",
       "      <td>C5E3A0D5</td>\n",
       "      <td>Jalopiina</td>\n",
       "      <td>unknown</td>\n",
       "      <td>industrial</td>\n",
       "      <td>Moscow</td>\n",
       "      <td>20:09:26</td>\n",
       "      <td>Friday</td>\n",
       "    </tr>\n",
       "    <tr>\n",
       "      <td>61251</td>\n",
       "      <td>321D0506</td>\n",
       "      <td>Freight Train</td>\n",
       "      <td>Chas McDevitt</td>\n",
       "      <td>rock</td>\n",
       "      <td>Moscow</td>\n",
       "      <td>21:43:59</td>\n",
       "      <td>Friday</td>\n",
       "    </tr>\n",
       "    <tr>\n",
       "      <td>61252</td>\n",
       "      <td>3A64EF84</td>\n",
       "      <td>Tell Me Sweet Little Lies</td>\n",
       "      <td>Monica Lopez</td>\n",
       "      <td>country</td>\n",
       "      <td>Moscow</td>\n",
       "      <td>21:59:46</td>\n",
       "      <td>Friday</td>\n",
       "    </tr>\n",
       "  </tbody>\n",
       "</table>\n",
       "<p>42741 rows × 7 columns</p>\n",
       "</div>"
      ],
      "text/plain": [
       "        user_id                          track                   artist  \\\n",
       "1      55204538    Delayed Because of Accident         Andreas Rönnberg   \n",
       "4      E2DC1FAE                    Soul People               Space Echo   \n",
       "6      4CB90AA5                           True             Roman Messer   \n",
       "7      F03E1C1F               Feeling This Way          Polina Griffith   \n",
       "8      8FA1D3BE       И вновь продолжается бой                  unknown   \n",
       "...         ...                            ...                      ...   \n",
       "61247  83A474E7  I Worship Only What You Bleed  The Black Dahlia Murder   \n",
       "61248  729CBB09                        My Name                   McLean   \n",
       "61250  C5E3A0D5                      Jalopiina                  unknown   \n",
       "61251  321D0506                  Freight Train            Chas McDevitt   \n",
       "61252  3A64EF84      Tell Me Sweet Little Lies             Monica Lopez   \n",
       "\n",
       "              genre    city      time        day  \n",
       "1              rock  Moscow  14:07:09     Friday  \n",
       "4             dance  Moscow  08:34:34     Monday  \n",
       "6             dance  Moscow  13:00:07  Wednesday  \n",
       "7             dance  Moscow  20:47:49  Wednesday  \n",
       "8            ruspop  Moscow  09:17:40     Friday  \n",
       "...             ...     ...       ...        ...  \n",
       "61247  extrememetal  Moscow  21:07:12     Monday  \n",
       "61248           rnb  Moscow  13:32:28  Wednesday  \n",
       "61250    industrial  Moscow  20:09:26     Friday  \n",
       "61251          rock  Moscow  21:43:59     Friday  \n",
       "61252       country  Moscow  21:59:46     Friday  \n",
       "\n",
       "[42741 rows x 7 columns]"
      ]
     },
     "metadata": {},
     "output_type": "display_data"
    }
   ],
   "source": [
    "# получение таблицы moscow_general из тех строк таблицы df, \n",
    "# для которых значение в столбце 'city' равно 'Moscow'\n",
    "moscow_general = df.loc[df.loc[:,'city'] == 'Moscow'] \n",
    "display (moscow_general)"
   ]
  },
  {
   "cell_type": "code",
   "execution_count": 29,
   "metadata": {
    "id": "ORaVRKto_Zcu"
   },
   "outputs": [],
   "source": [
    "# получение таблицы spb_general из тех строк таблицы df,\n",
    "# для которых значение в столбце 'city' равно 'Saint-Petersburg'\n",
    "spb_general = df.loc[df.loc[:,'city'] == 'Saint-Petersburg'] "
   ]
  },
  {
   "cell_type": "markdown",
   "metadata": {
    "id": "MEJV-CX2_Zcu"
   },
   "source": [
    "Создайте функцию `genre_weekday()` с четырьмя параметрами:\n",
    "* таблица (датафрейм) с данными,\n",
    "* день недели,\n",
    "* начальная временная метка в формате 'hh:mm', \n",
    "* последняя временная метка в формате 'hh:mm'.\n",
    "\n",
    "Функция должна вернуть информацию о топ-10 жанров тех треков, которые прослушивали в указанный день, в промежутке между двумя отметками времени."
   ]
  },
  {
   "cell_type": "code",
   "execution_count": 43,
   "metadata": {
    "id": "laJT9BYl_Zcu"
   },
   "outputs": [],
   "source": [
    "def genre_weekday(table, day, time1, time2):\n",
    "    genre_df = table[(table['day'] == day) & (table['time'] > time1) & (table['time'] < time2)]\n",
    "    genre_df_count = genre_df.groupby('genre')['genre'].count()\n",
    "    genre_df_sorted = genre_df_count.sort_values(ascending = False)\n",
    "    return genre_df_sorted.head(10)\n",
    "# Объявление функции genre_weekday() с параметрами table, day, time1, time2,\n",
    "# которая возвращает информацию о самых популярных жанрах в указанный день в\n",
    "# заданное время:\n",
    "# 1) в переменную genre_df сохраняются те строки переданного датафрейма table, для\n",
    "#    которых одновременно:\n",
    "#    - значение в столбце day равно значению аргумента day\n",
    "#    - значение в столбце time больше значения аргумента time1\n",
    "#    - значение в столбце time меньше значения аргумента time2\n",
    "#    Используйте последовательную фильтрацию с помощью логической индексации.\n",
    "# 2) сгруппировать датафрейм genre_df по столбцу genre, взять один из его\n",
    "#    столбцов и посчитать методом count() количество записей для каждого из\n",
    "#    присутствующих жанров, получившийся Series записать в переменную\n",
    "#    genre_df_count\n",
    "# 3) отсортировать genre_df_count по убыванию встречаемости и сохранить\n",
    "#    в переменную genre_df_sorted\n",
    "# 4) вернуть Series из 10 первых значений genre_df_sorted, это будут топ-10\n",
    "#    популярных жанров (в указанный день, в заданное время)"
   ]
  },
  {
   "cell_type": "markdown",
   "metadata": {
    "id": "la2s2_PF_Zcu"
   },
   "source": [
    "Cравните результаты функции `genre_weekday()` для Москвы и Санкт-Петербурга в понедельник утром (с 7:00 до 11:00) и в пятницу вечером (с 17:00 до 23:00):"
   ]
  },
  {
   "cell_type": "code",
   "execution_count": 44,
   "metadata": {
    "id": "yz7itPUQ_Zcu"
   },
   "outputs": [
    {
     "data": {
      "text/plain": [
       "genre\n",
       "pop            781\n",
       "dance          549\n",
       "electronic     480\n",
       "rock           474\n",
       "hiphop         286\n",
       "ruspop         186\n",
       "world          181\n",
       "rusrap         175\n",
       "alternative    164\n",
       "unknown        161\n",
       "Name: genre, dtype: int64"
      ]
     },
     "execution_count": 44,
     "metadata": {},
     "output_type": "execute_result"
    }
   ],
   "source": [
    "# вызов функции для утра понедельника в Москве (вместо df — таблица moscow_general)\n",
    "# объекты, хранящие время, являются строками и сравниваются как строки\n",
    "# пример вызова: genre_weekday(moscow_general, 'Monday', '07:00', '11:00')\n",
    "genre_weekday(moscow_general, 'Monday', '07:00', '11:00')"
   ]
  },
  {
   "cell_type": "code",
   "execution_count": 45,
   "metadata": {
    "id": "kwUcHPdy_Zcu"
   },
   "outputs": [
    {
     "data": {
      "text/plain": [
       "genre\n",
       "pop            218\n",
       "dance          182\n",
       "rock           162\n",
       "electronic     147\n",
       "hiphop          80\n",
       "ruspop          64\n",
       "alternative     58\n",
       "rusrap          55\n",
       "jazz            44\n",
       "classical       40\n",
       "Name: genre, dtype: int64"
      ]
     },
     "execution_count": 45,
     "metadata": {},
     "output_type": "execute_result"
    }
   ],
   "source": [
    "# вызов функции для утра понедельника в Петербурге (вместо df — таблица spb_general)\n",
    "genre_weekday(spb_general, 'Monday', '07:00', '11:00')"
   ]
  },
  {
   "cell_type": "code",
   "execution_count": 46,
   "metadata": {
    "id": "EzXVRE1o_Zcu"
   },
   "outputs": [
    {
     "data": {
      "text/plain": [
       "genre\n",
       "pop            713\n",
       "rock           517\n",
       "dance          495\n",
       "electronic     482\n",
       "hiphop         273\n",
       "world          208\n",
       "ruspop         170\n",
       "alternative    163\n",
       "classical      163\n",
       "rusrap         142\n",
       "Name: genre, dtype: int64"
      ]
     },
     "execution_count": 46,
     "metadata": {},
     "output_type": "execute_result"
    }
   ],
   "source": [
    "# вызов функции для вечера пятницы в Москве\n",
    "genre_weekday(moscow_general, 'Friday', '17:00', '23:00')"
   ]
  },
  {
   "cell_type": "code",
   "execution_count": 47,
   "metadata": {
    "id": "JZaEKu5v_Zcu"
   },
   "outputs": [
    {
     "data": {
      "text/plain": [
       "genre\n",
       "pop            256\n",
       "rock           216\n",
       "electronic     216\n",
       "dance          210\n",
       "hiphop          97\n",
       "alternative     63\n",
       "jazz            61\n",
       "classical       60\n",
       "rusrap          59\n",
       "world           54\n",
       "Name: genre, dtype: int64"
      ]
     },
     "execution_count": 47,
     "metadata": {},
     "output_type": "execute_result"
    }
   ],
   "source": [
    "# вызов функции для вечера пятницы в Петербурге\n",
    "genre_weekday(spb_general, 'Friday', '17:00', '23:00')"
   ]
  },
  {
   "cell_type": "markdown",
   "metadata": {
    "id": "wrCe4MNX_Zcu"
   },
   "source": [
    "**Выводы**\n",
    "\n",
    "Если сравнить топ-10 жанров в понедельник утром, можно сделать такие выводы:\n",
    "\n",
    "1. В Москве и Петербурге слушают похожую музыку. Единственное отличие — в московский рейтинг вошёл жанр “world”, а в петербургский — джаз и классика.\n",
    "\n",
    "2. В Москве пропущенных значений оказалось так много, что значение `'unknown'` заняло десятое место среди самых популярных жанров. Значит, пропущенные значения занимают существенную долю в данных и угрожают достоверности исследования.\n",
    "\n",
    "Вечер пятницы не меняет эту картину. Некоторые жанры поднимаются немного выше, другие спускаются, но в целом топ-10 остаётся тем же самым.\n",
    "\n",
    "Таким образом, вторая гипотеза подтвердилась лишь частично:\n",
    "* Пользователи слушают похожую музыку в начале недели и в конце.\n",
    "* Разница между Москвой и Петербургом не слишком выражена. В Москве чаще слушают русскую популярную музыку, в Петербурге — джаз.\n",
    "\n",
    "Однако пропуски в данных ставят под сомнение этот результат. В Москве их так много, что рейтинг топ-10 мог бы выглядеть иначе, если бы не утерянные  данные о жанрах."
   ]
  },
  {
   "cell_type": "markdown",
   "metadata": {
    "id": "JolODAqr_Zcu"
   },
   "source": [
    "### Жанровые предпочтения в Москве и Петербурге\n",
    "\n",
    "Гипотеза: Петербург — столица рэпа, музыку этого жанра там слушают чаще, чем в Москве.  А Москва — город контрастов, в котором, тем не менее, преобладает поп-музыка."
   ]
  },
  {
   "cell_type": "markdown",
   "metadata": {
    "id": "DlegSvaT_Zcu"
   },
   "source": [
    "Сгруппируйте таблицу `moscow_general` по жанру и посчитайте прослушивания треков каждого жанра методом `count()`. Затем отсортируйте результат в порядке убывания и сохраните его в таблице `moscow_genres`."
   ]
  },
  {
   "cell_type": "code",
   "execution_count": 48,
   "metadata": {
    "id": "r19lIPke_Zcu"
   },
   "outputs": [],
   "source": [
    "# одной строкой: группировка таблицы moscow_general по столбцу 'genre', \n",
    "# подсчёт числа значений 'genre' в этой группировке методом count(), \n",
    "# сортировка получившегося Series в порядке убывания и сохранение в moscow_genres\n",
    "moscow_genres = (moscow_general.groupby('genre')['track'].count()).sort_values(ascending=False)\n"
   ]
  },
  {
   "cell_type": "markdown",
   "metadata": {
    "id": "6kMuomxTiIr8"
   },
   "source": [
    "Выведите на экран первые десять строк `moscow_genres`:"
   ]
  },
  {
   "cell_type": "code",
   "execution_count": 49,
   "metadata": {
    "id": "WhCSooF8_Zcv"
   },
   "outputs": [
    {
     "data": {
      "text/plain": [
       "genre\n",
       "pop            5892\n",
       "dance          4435\n",
       "rock           3965\n",
       "electronic     3786\n",
       "hiphop         2096\n",
       "classical      1616\n",
       "world          1432\n",
       "alternative    1379\n",
       "ruspop         1372\n",
       "rusrap         1161\n",
       "Name: track, dtype: int64"
      ]
     },
     "metadata": {},
     "output_type": "display_data"
    }
   ],
   "source": [
    "display (moscow_genres.head(10)) # просмотр первых 10 строк moscow_genres"
   ]
  },
  {
   "cell_type": "markdown",
   "metadata": {
    "id": "cnPG2vnN_Zcv"
   },
   "source": [
    "Теперь повторите то же и для Петербурга.\n",
    "\n",
    "Сгруппируйте таблицу `spb_general` по жанру. Посчитайте прослушивания треков каждого жанра. Результат отсортируйте в порядке убывания и сохраните в таблице `spb_genres`:\n"
   ]
  },
  {
   "cell_type": "code",
   "execution_count": 50,
   "metadata": {
    "id": "gluLIpE7_Zcv"
   },
   "outputs": [],
   "source": [
    "# одной строкой: группировка таблицы spb_general по столбцу 'genre', \n",
    "# подсчёт числа значений 'genre' в этой группировке методом count(), \n",
    "# сортировка получившегося Series в порядке убывания и сохранение в spb_genres\n",
    "spb_genres = (spb_general.groupby('genre')['track'].count()).sort_values(ascending=False)"
   ]
  },
  {
   "cell_type": "markdown",
   "metadata": {
    "id": "5Doha_ODgyQ8"
   },
   "source": [
    "Выведите на экран первые десять строк `spb_genres`:"
   ]
  },
  {
   "cell_type": "code",
   "execution_count": 51,
   "metadata": {
    "id": "uaGJHjVU_Zcv"
   },
   "outputs": [
    {
     "data": {
      "text/plain": [
       "genre\n",
       "pop            2431\n",
       "dance          1932\n",
       "rock           1879\n",
       "electronic     1736\n",
       "hiphop          960\n",
       "alternative     649\n",
       "classical       646\n",
       "rusrap          564\n",
       "ruspop          538\n",
       "world           515\n",
       "Name: track, dtype: int64"
      ]
     },
     "metadata": {},
     "output_type": "display_data"
    }
   ],
   "source": [
    "display (spb_genres.head(10)) # просмотр первых 10 строк spb_genres"
   ]
  },
  {
   "cell_type": "markdown",
   "metadata": {
    "id": "RY51YJYu_Zcv"
   },
   "source": [
    "**Выводы**"
   ]
  },
  {
   "cell_type": "markdown",
   "metadata": {
    "id": "nVhnJEm__Zcv"
   },
   "source": [
    "Гипотеза частично подтвердилась:\n",
    "* Поп-музыка — самый популярный жанр в Москве, как и предполагала гипотеза. Более того, в топ-10 жанров встречается близкий жанр — русская популярная музыка.\n",
    "* Вопреки ожиданиям, рэп одинаково популярен в Москве и Петербурге. \n"
   ]
  },
  {
   "cell_type": "markdown",
   "metadata": {
    "id": "ykKQ0N65_Zcv"
   },
   "source": [
    "## Итоги исследования"
   ]
  },
  {
   "cell_type": "markdown",
   "metadata": {
    "id": "tjUwbHb3_Zcv"
   },
   "source": [
    "Вы проверили три гипотезы и установили:\n",
    "\n",
    "1. День недели по-разному влияет на активность пользователей в Москве и Петербурге. \n",
    "\n",
    "Первая гипотеза полностью подтвердилась.\n",
    "\n",
    "2. Музыкальные предпочтения не сильно меняются в течение недели — будь то Москва или Петербург. Небольшие различия заметны в начале недели, по понедельникам:\n",
    "* в Москве слушают музыку жанра “world”,\n",
    "* в Петербурге — джаз и классику.\n",
    "\n",
    "Таким образом, вторая гипотеза подтвердилась лишь отчасти. Этот результат мог оказаться иным, если бы не пропуски в данных.\n",
    "\n",
    "3. Во вкусах пользователей Москвы и Петербурга больше общего чем различий. Вопреки ожиданиям, предпочтения жанров в Петербурге напоминают московские.\n",
    "\n",
    "Третья гипотеза не подтвердилась. Если различия в предпочтениях и существуют, на основной массе пользователей они незаметны.\n",
    "\n",
    "**На практике исследования содержат проверки статистических гипотез.**\n",
    "Из данных одного сервиса не всегда можно сделать вывод о всех жителях города.\n",
    "Проверки статистических гипотез покажут, насколько они достоверны, исходя из имеющихся данных. \n",
    "С методами проверок гипотез вы ещё познакомитесь в следующих темах."
   ]
  }
 ],
 "metadata": {
  "ExecuteTimeLog": [
   {
    "duration": 231,
    "start_time": "2022-02-22T09:02:37.019Z"
   },
   {
    "duration": 295,
    "start_time": "2022-02-22T09:04:26.100Z"
   },
   {
    "duration": 173,
    "start_time": "2022-02-22T09:09:42.037Z"
   },
   {
    "duration": 58,
    "start_time": "2022-02-22T09:09:51.376Z"
   },
   {
    "duration": 68,
    "start_time": "2022-02-22T09:10:03.673Z"
   },
   {
    "duration": 173,
    "start_time": "2022-02-22T09:10:13.953Z"
   },
   {
    "duration": 67,
    "start_time": "2022-02-22T09:17:40.647Z"
   },
   {
    "duration": 62,
    "start_time": "2022-02-22T09:17:51.779Z"
   },
   {
    "duration": 179,
    "start_time": "2022-02-22T09:23:47.180Z"
   },
   {
    "duration": 972,
    "start_time": "2022-02-22T09:25:04.308Z"
   },
   {
    "duration": 140,
    "start_time": "2022-02-22T09:25:09.560Z"
   },
   {
    "duration": 137,
    "start_time": "2022-02-22T09:25:14.278Z"
   },
   {
    "duration": 15,
    "start_time": "2022-02-22T09:25:21.895Z"
   },
   {
    "duration": 10,
    "start_time": "2022-02-22T09:25:30.476Z"
   },
   {
    "duration": 4,
    "start_time": "2022-02-22T10:19:12.851Z"
   },
   {
    "duration": 3,
    "start_time": "2022-02-22T10:22:22.652Z"
   },
   {
    "duration": 21,
    "start_time": "2022-02-22T10:22:30.123Z"
   },
   {
    "duration": 3,
    "start_time": "2022-02-22T10:22:32.824Z"
   },
   {
    "duration": 23,
    "start_time": "2022-02-22T10:29:04.052Z"
   },
   {
    "duration": 5010,
    "start_time": "2022-02-22T10:47:23.748Z"
   },
   {
    "duration": 202,
    "start_time": "2022-02-22T10:48:00.280Z"
   },
   {
    "duration": 176,
    "start_time": "2022-02-22T10:49:17.707Z"
   },
   {
    "duration": 241,
    "start_time": "2022-02-22T10:49:48.269Z"
   },
   {
    "duration": 192,
    "start_time": "2022-02-22T10:52:37.745Z"
   },
   {
    "duration": 179,
    "start_time": "2022-02-22T10:56:31.915Z"
   },
   {
    "duration": 537,
    "start_time": "2022-02-22T10:57:20.783Z"
   },
   {
    "duration": 190,
    "start_time": "2022-02-22T10:57:49.873Z"
   },
   {
    "duration": 186,
    "start_time": "2022-02-22T10:59:18.181Z"
   },
   {
    "duration": 24,
    "start_time": "2022-02-22T10:59:34.389Z"
   },
   {
    "duration": 23,
    "start_time": "2022-02-22T10:59:46.173Z"
   },
   {
    "duration": 24,
    "start_time": "2022-02-22T10:59:59.709Z"
   },
   {
    "duration": 39,
    "start_time": "2022-02-22T11:00:06.557Z"
   },
   {
    "duration": 34,
    "start_time": "2022-02-22T11:00:57.549Z"
   },
   {
    "duration": 41,
    "start_time": "2022-02-22T11:01:00.351Z"
   },
   {
    "duration": 57,
    "start_time": "2022-02-22T12:09:47.248Z"
   },
   {
    "duration": 64,
    "start_time": "2022-02-22T12:11:57.581Z"
   },
   {
    "duration": 56,
    "start_time": "2022-02-22T12:12:11.135Z"
   },
   {
    "duration": 35,
    "start_time": "2022-02-22T12:25:54.983Z"
   },
   {
    "duration": 6,
    "start_time": "2022-02-22T12:28:23.974Z"
   },
   {
    "duration": 4,
    "start_time": "2022-02-22T12:28:27.279Z"
   },
   {
    "duration": 7,
    "start_time": "2022-02-22T12:28:45.213Z"
   },
   {
    "duration": 4,
    "start_time": "2022-02-22T12:29:39.597Z"
   },
   {
    "duration": 37,
    "start_time": "2022-02-22T12:46:43.488Z"
   },
   {
    "duration": 43,
    "start_time": "2022-02-22T12:47:49.190Z"
   },
   {
    "duration": 39,
    "start_time": "2022-02-22T12:58:58.801Z"
   },
   {
    "duration": 41,
    "start_time": "2022-02-22T12:59:40.741Z"
   },
   {
    "duration": 303,
    "start_time": "2022-02-22T14:27:56.343Z"
   },
   {
    "duration": 68,
    "start_time": "2022-02-22T14:28:46.613Z"
   },
   {
    "duration": 3,
    "start_time": "2022-02-22T14:29:43.146Z"
   },
   {
    "duration": 4055,
    "start_time": "2022-02-22T14:29:49.728Z"
   },
   {
    "duration": 3047,
    "start_time": "2022-02-22T14:32:26.374Z"
   },
   {
    "duration": 3,
    "start_time": "2022-02-22T14:32:36.088Z"
   },
   {
    "duration": 2471,
    "start_time": "2022-02-22T14:32:41.027Z"
   },
   {
    "duration": 2,
    "start_time": "2022-02-22T14:38:39.915Z"
   },
   {
    "duration": 3256,
    "start_time": "2022-02-22T14:38:42.597Z"
   },
   {
    "duration": 2929,
    "start_time": "2022-02-22T14:45:33.860Z"
   },
   {
    "duration": 2,
    "start_time": "2022-02-22T14:50:37.577Z"
   },
   {
    "duration": 351,
    "start_time": "2022-02-22T14:50:40.116Z"
   },
   {
    "duration": 422,
    "start_time": "2022-02-22T14:54:44.365Z"
   },
   {
    "duration": 526,
    "start_time": "2022-02-22T14:56:48.285Z"
   },
   {
    "duration": 415,
    "start_time": "2022-02-22T14:58:38.414Z"
   },
   {
    "duration": 392,
    "start_time": "2022-02-22T15:08:29.766Z"
   },
   {
    "duration": 450,
    "start_time": "2022-02-22T15:15:19.298Z"
   },
   {
    "duration": 412,
    "start_time": "2022-02-22T15:29:57.425Z"
   },
   {
    "duration": 3,
    "start_time": "2022-02-22T15:45:48.070Z"
   },
   {
    "duration": 417,
    "start_time": "2022-02-22T15:45:50.334Z"
   },
   {
    "duration": 3,
    "start_time": "2022-02-22T15:47:29.256Z"
   },
   {
    "duration": 424,
    "start_time": "2022-02-22T15:47:31.719Z"
   },
   {
    "duration": 3,
    "start_time": "2022-02-22T15:50:39.196Z"
   },
   {
    "duration": 122,
    "start_time": "2022-02-22T15:50:41.897Z"
   },
   {
    "duration": 5,
    "start_time": "2022-02-22T15:50:50.313Z"
   },
   {
    "duration": 4,
    "start_time": "2022-02-22T15:51:55.420Z"
   },
   {
    "duration": 14,
    "start_time": "2022-02-22T15:51:57.734Z"
   },
   {
    "duration": 5,
    "start_time": "2022-02-22T15:52:01.270Z"
   },
   {
    "duration": 3,
    "start_time": "2022-02-22T15:57:15.584Z"
   },
   {
    "duration": 363,
    "start_time": "2022-02-22T15:57:17.900Z"
   },
   {
    "duration": 3,
    "start_time": "2022-02-22T16:07:24.726Z"
   },
   {
    "duration": 445,
    "start_time": "2022-02-22T16:07:27.098Z"
   },
   {
    "duration": 4,
    "start_time": "2022-02-22T16:14:04.790Z"
   },
   {
    "duration": 415,
    "start_time": "2022-02-22T16:14:07.320Z"
   },
   {
    "duration": 4,
    "start_time": "2022-02-22T16:15:42.258Z"
   },
   {
    "duration": 18,
    "start_time": "2022-02-22T16:15:44.367Z"
   },
   {
    "duration": 3,
    "start_time": "2022-02-22T16:41:04.963Z"
   },
   {
    "duration": 339,
    "start_time": "2022-02-22T16:41:07.489Z"
   },
   {
    "duration": 3,
    "start_time": "2022-02-22T16:49:35.607Z"
   },
   {
    "duration": 292,
    "start_time": "2022-02-22T16:49:39.184Z"
   },
   {
    "duration": 360,
    "start_time": "2022-02-22T16:49:55.767Z"
   },
   {
    "duration": 3,
    "start_time": "2022-02-22T16:58:45.795Z"
   },
   {
    "duration": 514,
    "start_time": "2022-02-22T16:58:48.040Z"
   },
   {
    "duration": 3,
    "start_time": "2022-02-22T17:03:49.739Z"
   },
   {
    "duration": 16,
    "start_time": "2022-02-22T17:03:52.597Z"
   },
   {
    "duration": 42,
    "start_time": "2022-02-22T17:04:12.985Z"
   },
   {
    "duration": 32,
    "start_time": "2022-02-22T19:39:32.324Z"
   },
   {
    "duration": 41,
    "start_time": "2022-02-22T19:40:41.259Z"
   },
   {
    "duration": 31,
    "start_time": "2022-02-22T19:44:45.039Z"
   },
   {
    "duration": 50,
    "start_time": "2022-02-22T19:45:23.307Z"
   },
   {
    "duration": 11,
    "start_time": "2022-02-22T20:12:57.494Z"
   },
   {
    "duration": 11,
    "start_time": "2022-02-22T20:13:25.598Z"
   },
   {
    "duration": 10,
    "start_time": "2022-02-22T20:26:04.534Z"
   },
   {
    "duration": 10,
    "start_time": "2022-02-22T20:26:16.956Z"
   },
   {
    "duration": 11,
    "start_time": "2022-02-22T20:26:26.508Z"
   },
   {
    "duration": 3,
    "start_time": "2022-02-22T20:44:35.240Z"
   },
   {
    "duration": 397,
    "start_time": "2022-02-22T20:46:13.725Z"
   },
   {
    "duration": 174,
    "start_time": "2022-02-22T20:48:32.712Z"
   },
   {
    "duration": 198,
    "start_time": "2022-02-22T20:49:13.906Z"
   },
   {
    "duration": 348,
    "start_time": "2022-02-22T20:49:26.712Z"
   },
   {
    "duration": 366,
    "start_time": "2022-02-24T12:58:06.224Z"
   },
   {
    "duration": 5,
    "start_time": "2022-02-24T12:58:18.863Z"
   },
   {
    "duration": 280,
    "start_time": "2022-02-24T12:58:20.955Z"
   },
   {
    "duration": 340,
    "start_time": "2022-02-24T12:59:24.063Z"
   },
   {
    "duration": 301,
    "start_time": "2022-02-24T12:59:32.325Z"
   },
   {
    "duration": 706,
    "start_time": "2022-02-24T12:59:39.015Z"
   },
   {
    "duration": 5,
    "start_time": "2022-02-24T13:03:19.004Z"
   },
   {
    "duration": 661,
    "start_time": "2022-02-24T13:03:23.859Z"
   },
   {
    "duration": 5,
    "start_time": "2022-02-24T13:03:46.268Z"
   },
   {
    "duration": 659,
    "start_time": "2022-02-24T13:03:48.423Z"
   },
   {
    "duration": 547,
    "start_time": "2022-02-24T13:08:43.090Z"
   },
   {
    "duration": 298,
    "start_time": "2022-02-24T13:10:21.171Z"
   },
   {
    "duration": 279,
    "start_time": "2022-02-24T13:10:36.525Z"
   },
   {
    "duration": 847,
    "start_time": "2022-02-24T13:10:42.253Z"
   },
   {
    "duration": 178,
    "start_time": "2022-02-24T13:10:45.189Z"
   },
   {
    "duration": 42,
    "start_time": "2022-02-24T13:10:51.333Z"
   },
   {
    "duration": 315,
    "start_time": "2022-02-24T13:11:04.494Z"
   },
   {
    "duration": 283,
    "start_time": "2022-02-24T13:11:09.144Z"
   },
   {
    "duration": 294,
    "start_time": "2022-02-24T13:11:23.073Z"
   },
   {
    "duration": 267,
    "start_time": "2022-02-24T13:11:25.681Z"
   },
   {
    "duration": 455,
    "start_time": "2022-02-24T13:11:28.047Z"
   },
   {
    "duration": 309,
    "start_time": "2022-02-24T13:11:33.211Z"
   },
   {
    "duration": 33,
    "start_time": "2022-02-24T13:11:59.500Z"
   },
   {
    "duration": 5,
    "start_time": "2022-02-24T13:12:02.863Z"
   },
   {
    "duration": 26,
    "start_time": "2022-02-24T13:12:06.870Z"
   },
   {
    "duration": 5,
    "start_time": "2022-02-24T13:12:08.881Z"
   },
   {
    "duration": 31,
    "start_time": "2022-02-24T13:12:10.997Z"
   },
   {
    "duration": 30,
    "start_time": "2022-02-24T13:12:13.587Z"
   },
   {
    "duration": 28,
    "start_time": "2022-02-24T13:12:16.023Z"
   },
   {
    "duration": 84,
    "start_time": "2022-02-24T13:12:18.727Z"
   },
   {
    "duration": 100,
    "start_time": "2022-02-24T13:12:21.160Z"
   },
   {
    "duration": 76,
    "start_time": "2022-02-24T13:12:23.757Z"
   },
   {
    "duration": 63,
    "start_time": "2022-02-24T13:12:27.095Z"
   },
   {
    "duration": 317,
    "start_time": "2022-02-24T13:12:32.225Z"
   },
   {
    "duration": 59,
    "start_time": "2022-02-24T13:12:35.299Z"
   },
   {
    "duration": 15,
    "start_time": "2022-02-24T13:12:43.940Z"
   },
   {
    "duration": 15,
    "start_time": "2022-02-24T13:12:48.299Z"
   },
   {
    "duration": 6,
    "start_time": "2022-02-24T13:12:52.511Z"
   },
   {
    "duration": 636,
    "start_time": "2022-02-24T13:12:57.074Z"
   },
   {
    "duration": 5,
    "start_time": "2022-02-24T13:15:44.887Z"
   },
   {
    "duration": 589,
    "start_time": "2022-02-24T13:15:47.547Z"
   },
   {
    "duration": 804,
    "start_time": "2022-02-24T13:16:02.723Z"
   },
   {
    "duration": 5,
    "start_time": "2022-02-24T13:17:41.065Z"
   },
   {
    "duration": 564,
    "start_time": "2022-02-24T13:17:44.625Z"
   },
   {
    "duration": 572,
    "start_time": "2022-02-24T13:17:50.253Z"
   },
   {
    "duration": 4,
    "start_time": "2022-02-24T13:19:06.902Z"
   },
   {
    "duration": 677,
    "start_time": "2022-02-24T13:19:10.317Z"
   },
   {
    "duration": 663,
    "start_time": "2022-02-24T13:20:54.803Z"
   },
   {
    "duration": 661,
    "start_time": "2022-02-24T13:20:59.809Z"
   },
   {
    "duration": 6,
    "start_time": "2022-02-24T13:35:33.529Z"
   },
   {
    "duration": 612,
    "start_time": "2022-02-24T13:35:36.223Z"
   },
   {
    "duration": 788,
    "start_time": "2022-02-24T13:35:43.284Z"
   },
   {
    "duration": 5,
    "start_time": "2022-02-24T13:36:53.673Z"
   },
   {
    "duration": 577,
    "start_time": "2022-02-24T13:36:56.449Z"
   },
   {
    "duration": 674,
    "start_time": "2022-02-24T13:37:00.729Z"
   },
   {
    "duration": 5,
    "start_time": "2022-02-24T13:37:31.151Z"
   },
   {
    "duration": 684,
    "start_time": "2022-02-24T13:37:35.885Z"
   },
   {
    "duration": 13,
    "start_time": "2022-02-24T13:37:50.699Z"
   },
   {
    "duration": 623,
    "start_time": "2022-02-24T13:38:02.364Z"
   },
   {
    "duration": 5,
    "start_time": "2022-02-24T13:39:09.916Z"
   },
   {
    "duration": 21,
    "start_time": "2022-02-24T13:39:13.673Z"
   },
   {
    "duration": 24,
    "start_time": "2022-02-24T13:39:19.540Z"
   },
   {
    "duration": 21,
    "start_time": "2022-02-24T13:39:22.533Z"
   },
   {
    "duration": 19,
    "start_time": "2022-02-24T13:39:24.439Z"
   },
   {
    "duration": 26,
    "start_time": "2022-02-24T13:39:27.031Z"
   },
   {
    "duration": 20,
    "start_time": "2022-02-24T13:39:29.371Z"
   },
   {
    "duration": 95,
    "start_time": "2022-02-24T13:45:46.513Z"
   },
   {
    "duration": 96,
    "start_time": "2022-02-24T13:46:08.073Z"
   },
   {
    "duration": 276,
    "start_time": "2022-02-24T13:46:12.899Z"
   },
   {
    "duration": 14,
    "start_time": "2022-02-24T13:46:43.273Z"
   },
   {
    "duration": 278,
    "start_time": "2022-02-24T13:47:24.207Z"
   },
   {
    "duration": 14,
    "start_time": "2022-02-24T13:49:40.291Z"
   },
   {
    "duration": 284,
    "start_time": "2022-02-24T13:56:10.355Z"
   },
   {
    "duration": 13,
    "start_time": "2022-02-24T13:56:18.278Z"
   },
   {
    "duration": 280,
    "start_time": "2022-02-24T13:57:01.831Z"
   },
   {
    "duration": 4,
    "start_time": "2022-02-24T13:57:23.618Z"
   },
   {
    "duration": 22,
    "start_time": "2022-02-24T13:57:25.133Z"
   },
   {
    "duration": 60,
    "start_time": "2022-02-24T13:57:38.653Z"
   },
   {
    "duration": 16,
    "start_time": "2022-02-24T14:16:12.884Z"
   },
   {
    "duration": 30,
    "start_time": "2022-02-24T14:16:51.677Z"
   },
   {
    "duration": 33,
    "start_time": "2022-02-24T14:17:19.678Z"
   },
   {
    "duration": 17,
    "start_time": "2022-02-24T14:17:33.835Z"
   },
   {
    "duration": 13,
    "start_time": "2022-02-24T14:17:55.617Z"
   },
   {
    "duration": 5,
    "start_time": "2022-02-24T14:34:46.109Z"
   },
   {
    "duration": 553,
    "start_time": "2022-02-24T14:35:38.182Z"
   },
   {
    "duration": 5,
    "start_time": "2022-02-24T14:36:26.719Z"
   },
   {
    "duration": 896,
    "start_time": "2022-02-24T14:36:29.109Z"
   },
   {
    "duration": 7,
    "start_time": "2022-02-24T14:43:37.300Z"
   },
   {
    "duration": 5,
    "start_time": "2022-02-24T14:46:05.577Z"
   },
   {
    "duration": 592,
    "start_time": "2022-02-24T14:46:08.561Z"
   },
   {
    "duration": 715,
    "start_time": "2022-02-24T14:46:18.199Z"
   },
   {
    "duration": 14,
    "start_time": "2022-02-24T14:46:38.265Z"
   },
   {
    "duration": 702,
    "start_time": "2022-02-24T14:46:40.541Z"
   },
   {
    "duration": 6,
    "start_time": "2022-02-24T14:47:38.969Z"
   },
   {
    "duration": 625,
    "start_time": "2022-02-24T14:47:41.816Z"
   },
   {
    "duration": 8,
    "start_time": "2022-02-24T14:54:21.764Z"
   },
   {
    "duration": 628,
    "start_time": "2022-02-24T14:54:23.724Z"
   },
   {
    "duration": 96,
    "start_time": "2022-02-24T14:55:35.300Z"
   },
   {
    "duration": 7,
    "start_time": "2022-02-24T14:55:53.359Z"
   },
   {
    "duration": 581,
    "start_time": "2022-02-24T14:55:57.079Z"
   },
   {
    "duration": 641,
    "start_time": "2022-02-24T14:59:20.089Z"
   },
   {
    "duration": -5837,
    "start_time": "2022-02-24T14:59:26.571Z"
   },
   {
    "duration": 941,
    "start_time": "2022-02-24T14:59:21.180Z"
   },
   {
    "duration": 551,
    "start_time": "2022-02-24T14:59:27.739Z"
   },
   {
    "duration": 7,
    "start_time": "2022-02-24T15:01:22.787Z"
   },
   {
    "duration": 666,
    "start_time": "2022-02-24T15:01:24.855Z"
   },
   {
    "duration": 6,
    "start_time": "2022-02-24T15:02:23.929Z"
   },
   {
    "duration": 564,
    "start_time": "2022-02-24T15:02:26.668Z"
   },
   {
    "duration": 8,
    "start_time": "2022-02-24T15:03:32.269Z"
   },
   {
    "duration": 667,
    "start_time": "2022-02-24T15:03:33.790Z"
   },
   {
    "duration": 8,
    "start_time": "2022-02-24T15:05:09.473Z"
   },
   {
    "duration": 656,
    "start_time": "2022-02-24T15:05:13.003Z"
   },
   {
    "duration": 8,
    "start_time": "2022-02-24T15:06:33.218Z"
   },
   {
    "duration": 895,
    "start_time": "2022-02-24T15:06:36.509Z"
   },
   {
    "duration": 8,
    "start_time": "2022-02-24T15:07:17.829Z"
   },
   {
    "duration": 887,
    "start_time": "2022-02-24T15:07:20.465Z"
   },
   {
    "duration": 884,
    "start_time": "2022-02-24T15:07:24.565Z"
   },
   {
    "duration": 32,
    "start_time": "2022-02-24T15:07:59.698Z"
   },
   {
    "duration": 8,
    "start_time": "2022-02-24T15:09:20.787Z"
   },
   {
    "duration": 769,
    "start_time": "2022-02-24T15:09:26.926Z"
   },
   {
    "duration": 6,
    "start_time": "2022-02-24T15:29:05.240Z"
   },
   {
    "duration": 623,
    "start_time": "2022-02-24T15:29:08.582Z"
   },
   {
    "duration": 326,
    "start_time": "2022-02-24T15:38:41.541Z"
   },
   {
    "duration": 91,
    "start_time": "2022-02-24T15:39:51.611Z"
   },
   {
    "duration": 74,
    "start_time": "2022-02-24T15:41:56.606Z"
   },
   {
    "duration": 7,
    "start_time": "2022-02-24T15:42:00.601Z"
   },
   {
    "duration": 28,
    "start_time": "2022-02-24T15:47:57.789Z"
   },
   {
    "duration": 35,
    "start_time": "2022-02-24T15:48:01.806Z"
   },
   {
    "duration": 14,
    "start_time": "2022-02-24T15:48:05.767Z"
   },
   {
    "duration": 33,
    "start_time": "2022-02-24T15:51:54.001Z"
   },
   {
    "duration": 13,
    "start_time": "2022-02-24T15:51:57.745Z"
   },
   {
    "duration": 44,
    "start_time": "2022-02-24T15:52:09.816Z"
   },
   {
    "duration": 16,
    "start_time": "2022-02-24T15:52:12.588Z"
   },
   {
    "duration": 34,
    "start_time": "2022-02-24T15:53:10.158Z"
   },
   {
    "duration": 17,
    "start_time": "2022-02-24T15:53:12.388Z"
   },
   {
    "duration": 32,
    "start_time": "2022-02-24T15:53:55.504Z"
   },
   {
    "duration": 14,
    "start_time": "2022-02-24T15:53:57.738Z"
   },
   {
    "duration": 17,
    "start_time": "2022-02-24T15:54:23.704Z"
   },
   {
    "duration": 7,
    "start_time": "2022-02-24T15:54:25.724Z"
   },
   {
    "duration": 127,
    "start_time": "2022-02-24T15:57:02.998Z"
   },
   {
    "duration": 116,
    "start_time": "2022-02-24T15:58:05.665Z"
   },
   {
    "duration": 435,
    "start_time": "2022-02-24T15:58:19.118Z"
   },
   {
    "duration": 9494,
    "start_time": "2022-02-24T15:59:45.954Z"
   },
   {
    "duration": -5979,
    "start_time": "2022-02-24T16:00:01.430Z"
   },
   {
    "duration": 20,
    "start_time": "2022-02-24T16:00:08.644Z"
   },
   {
    "duration": 20,
    "start_time": "2022-02-24T16:00:14.554Z"
   },
   {
    "duration": 8,
    "start_time": "2022-02-24T16:00:16.468Z"
   },
   {
    "duration": 13,
    "start_time": "2022-02-24T16:01:06.597Z"
   },
   {
    "duration": 8,
    "start_time": "2022-02-24T16:01:09.454Z"
   },
   {
    "duration": 7,
    "start_time": "2022-02-24T16:01:14.296Z"
   },
   {
    "duration": 8,
    "start_time": "2022-02-24T16:02:01.275Z"
   },
   {
    "duration": 13,
    "start_time": "2022-02-24T16:02:05.305Z"
   },
   {
    "duration": 7,
    "start_time": "2022-02-24T16:02:07.101Z"
   },
   {
    "duration": 11,
    "start_time": "2022-02-24T16:03:19.288Z"
   },
   {
    "duration": 7,
    "start_time": "2022-02-24T16:03:21.179Z"
   },
   {
    "duration": 6,
    "start_time": "2022-02-24T16:11:58.532Z"
   },
   {
    "duration": 629,
    "start_time": "2022-02-24T16:12:03.437Z"
   },
   {
    "duration": 6,
    "start_time": "2022-02-24T16:12:15.417Z"
   },
   {
    "duration": 691,
    "start_time": "2022-02-24T16:12:18.482Z"
   },
   {
    "duration": 6,
    "start_time": "2022-02-24T16:13:13.362Z"
   },
   {
    "duration": 867,
    "start_time": "2022-02-24T16:13:18.017Z"
   },
   {
    "duration": 6,
    "start_time": "2022-02-24T16:14:56.151Z"
   },
   {
    "duration": 628,
    "start_time": "2022-02-24T16:15:00.014Z"
   },
   {
    "duration": 17,
    "start_time": "2022-02-24T16:16:17.055Z"
   },
   {
    "duration": 707,
    "start_time": "2022-02-24T16:16:20.191Z"
   },
   {
    "duration": 6,
    "start_time": "2022-02-24T16:17:38.446Z"
   },
   {
    "duration": 669,
    "start_time": "2022-02-24T16:17:40.460Z"
   },
   {
    "duration": 6,
    "start_time": "2022-02-24T16:24:38.874Z"
   },
   {
    "duration": 585,
    "start_time": "2022-02-24T16:24:43.060Z"
   },
   {
    "duration": 6,
    "start_time": "2022-02-24T16:24:54.466Z"
   },
   {
    "duration": 614,
    "start_time": "2022-02-24T16:24:59.411Z"
   },
   {
    "duration": 7,
    "start_time": "2022-02-24T16:27:52.098Z"
   },
   {
    "duration": 587,
    "start_time": "2022-02-24T16:27:53.959Z"
   },
   {
    "duration": 6,
    "start_time": "2022-02-24T16:31:07.083Z"
   },
   {
    "duration": 786,
    "start_time": "2022-02-24T16:31:08.324Z"
   },
   {
    "duration": 6,
    "start_time": "2022-02-24T16:32:26.406Z"
   },
   {
    "duration": 654,
    "start_time": "2022-02-24T16:32:31.133Z"
   },
   {
    "duration": 6,
    "start_time": "2022-02-24T16:48:16.799Z"
   },
   {
    "duration": 26,
    "start_time": "2022-02-24T16:48:19.152Z"
   },
   {
    "duration": 18,
    "start_time": "2022-02-24T16:49:05.195Z"
   },
   {
    "duration": 27,
    "start_time": "2022-02-24T16:49:07.757Z"
   },
   {
    "duration": 23,
    "start_time": "2022-02-24T16:49:10.197Z"
   },
   {
    "duration": 7,
    "start_time": "2022-02-24T16:49:47.309Z"
   },
   {
    "duration": 585,
    "start_time": "2022-02-24T16:49:49.291Z"
   },
   {
    "duration": 6,
    "start_time": "2022-02-24T16:49:57.019Z"
   },
   {
    "duration": 24,
    "start_time": "2022-02-24T16:49:59.261Z"
   },
   {
    "duration": 206,
    "start_time": "2022-03-06T09:52:51.822Z"
   },
   {
    "duration": 581,
    "start_time": "2022-03-06T09:53:14.703Z"
   },
   {
    "duration": 140,
    "start_time": "2022-03-06T09:53:15.286Z"
   },
   {
    "duration": 19,
    "start_time": "2022-03-06T09:53:15.428Z"
   },
   {
    "duration": 25,
    "start_time": "2022-03-06T09:53:15.450Z"
   },
   {
    "duration": 6,
    "start_time": "2022-03-06T09:53:15.476Z"
   },
   {
    "duration": 24,
    "start_time": "2022-03-06T09:53:15.484Z"
   },
   {
    "duration": 28,
    "start_time": "2022-03-06T09:53:15.510Z"
   },
   {
    "duration": 23,
    "start_time": "2022-03-06T09:53:15.540Z"
   },
   {
    "duration": 23,
    "start_time": "2022-03-06T09:53:15.565Z"
   },
   {
    "duration": 21,
    "start_time": "2022-03-06T09:53:15.589Z"
   },
   {
    "duration": 83,
    "start_time": "2022-03-06T09:53:15.612Z"
   },
   {
    "duration": 82,
    "start_time": "2022-03-06T09:53:15.696Z"
   },
   {
    "duration": 61,
    "start_time": "2022-03-06T09:53:15.779Z"
   },
   {
    "duration": 39,
    "start_time": "2022-03-06T09:53:15.841Z"
   },
   {
    "duration": 2,
    "start_time": "2022-03-06T09:53:15.882Z"
   },
   {
    "duration": 17,
    "start_time": "2022-03-06T09:53:15.886Z"
   },
   {
    "duration": 58,
    "start_time": "2022-03-06T09:53:15.904Z"
   },
   {
    "duration": 12,
    "start_time": "2022-03-06T09:53:15.964Z"
   },
   {
    "duration": 11,
    "start_time": "2022-03-06T09:53:15.977Z"
   },
   {
    "duration": 4,
    "start_time": "2022-03-06T09:53:15.990Z"
   },
   {
    "duration": 44,
    "start_time": "2022-03-06T09:53:15.995Z"
   },
   {
    "duration": 15,
    "start_time": "2022-03-06T09:53:16.042Z"
   },
   {
    "duration": 15,
    "start_time": "2022-03-06T09:53:16.060Z"
   },
   {
    "duration": 15,
    "start_time": "2022-03-06T09:53:16.077Z"
   },
   {
    "duration": 50,
    "start_time": "2022-03-06T09:53:16.094Z"
   },
   {
    "duration": 16,
    "start_time": "2022-03-06T09:53:16.146Z"
   },
   {
    "duration": 9,
    "start_time": "2022-03-06T09:53:16.164Z"
   },
   {
    "duration": 21,
    "start_time": "2022-03-06T09:53:16.175Z"
   },
   {
    "duration": 40,
    "start_time": "2022-03-06T09:53:16.198Z"
   },
   {
    "duration": 5,
    "start_time": "2022-03-06T09:53:16.239Z"
   },
   {
    "duration": 22,
    "start_time": "2022-03-06T09:53:16.246Z"
   },
   {
    "duration": 13,
    "start_time": "2022-03-06T09:53:16.270Z"
   },
   {
    "duration": 18,
    "start_time": "2022-03-06T09:53:16.284Z"
   },
   {
    "duration": 42,
    "start_time": "2022-03-06T09:53:16.304Z"
   },
   {
    "duration": 11,
    "start_time": "2022-03-06T09:53:16.348Z"
   },
   {
    "duration": 4,
    "start_time": "2022-03-06T09:53:16.361Z"
   },
   {
    "duration": 9,
    "start_time": "2022-03-06T09:53:16.367Z"
   },
   {
    "duration": 5,
    "start_time": "2022-03-06T09:53:16.377Z"
   },
   {
    "duration": 301,
    "start_time": "2022-03-06T16:03:35.705Z"
   },
   {
    "duration": 266,
    "start_time": "2022-03-06T16:03:49.939Z"
   },
   {
    "duration": 242,
    "start_time": "2022-03-06T16:04:10.064Z"
   },
   {
    "duration": 967,
    "start_time": "2022-03-06T16:04:20.767Z"
   },
   {
    "duration": 265,
    "start_time": "2022-03-06T16:04:22.721Z"
   },
   {
    "duration": 284,
    "start_time": "2022-03-06T16:04:24.531Z"
   },
   {
    "duration": 30,
    "start_time": "2022-03-06T16:04:54.185Z"
   },
   {
    "duration": 51,
    "start_time": "2022-03-06T16:05:13.747Z"
   },
   {
    "duration": 7,
    "start_time": "2022-03-06T16:05:51.723Z"
   },
   {
    "duration": 4,
    "start_time": "2022-03-06T16:07:18.651Z"
   },
   {
    "duration": 4,
    "start_time": "2022-03-06T16:07:27.325Z"
   },
   {
    "duration": 4,
    "start_time": "2022-03-06T16:12:18.153Z"
   },
   {
    "duration": 4,
    "start_time": "2022-03-06T16:12:20.799Z"
   },
   {
    "duration": 4,
    "start_time": "2022-03-06T16:12:25.215Z"
   },
   {
    "duration": 55,
    "start_time": "2022-03-06T18:03:12.012Z"
   },
   {
    "duration": 5,
    "start_time": "2022-03-06T18:13:31.019Z"
   },
   {
    "duration": 627,
    "start_time": "2022-03-06T18:14:06.924Z"
   },
   {
    "duration": 137,
    "start_time": "2022-03-06T18:14:07.553Z"
   },
   {
    "duration": 19,
    "start_time": "2022-03-06T18:14:07.692Z"
   },
   {
    "duration": 44,
    "start_time": "2022-03-06T18:14:07.713Z"
   },
   {
    "duration": 15,
    "start_time": "2022-03-06T18:14:07.759Z"
   },
   {
    "duration": 35,
    "start_time": "2022-03-06T18:14:07.775Z"
   },
   {
    "duration": 12,
    "start_time": "2022-03-06T18:14:07.812Z"
   },
   {
    "duration": 35,
    "start_time": "2022-03-06T18:14:07.826Z"
   },
   {
    "duration": 28,
    "start_time": "2022-03-06T18:14:07.863Z"
   },
   {
    "duration": 29,
    "start_time": "2022-03-06T18:14:07.893Z"
   },
   {
    "duration": 77,
    "start_time": "2022-03-06T18:14:07.924Z"
   },
   {
    "duration": 67,
    "start_time": "2022-03-06T18:14:08.003Z"
   },
   {
    "duration": 51,
    "start_time": "2022-03-06T18:14:08.072Z"
   },
   {
    "duration": 50,
    "start_time": "2022-03-06T18:14:08.124Z"
   },
   {
    "duration": 12,
    "start_time": "2022-03-06T18:14:08.176Z"
   },
   {
    "duration": 25,
    "start_time": "2022-03-06T18:14:08.190Z"
   },
   {
    "duration": 68,
    "start_time": "2022-03-06T18:14:08.217Z"
   },
   {
    "duration": 10,
    "start_time": "2022-03-06T18:14:08.287Z"
   },
   {
    "duration": 11,
    "start_time": "2022-03-06T18:14:08.299Z"
   },
   {
    "duration": 11,
    "start_time": "2022-03-06T18:14:08.311Z"
   },
   {
    "duration": 30,
    "start_time": "2022-03-06T18:14:08.324Z"
   },
   {
    "duration": 15,
    "start_time": "2022-03-06T18:14:08.356Z"
   },
   {
    "duration": 15,
    "start_time": "2022-03-06T18:14:08.374Z"
   },
   {
    "duration": 51,
    "start_time": "2022-03-06T18:14:08.391Z"
   },
   {
    "duration": 16,
    "start_time": "2022-03-06T18:14:08.444Z"
   },
   {
    "duration": 14,
    "start_time": "2022-03-06T18:14:08.462Z"
   },
   {
    "duration": 8,
    "start_time": "2022-03-06T18:14:08.478Z"
   },
   {
    "duration": 59,
    "start_time": "2022-03-06T18:14:08.487Z"
   },
   {
    "duration": 9,
    "start_time": "2022-03-06T18:14:08.547Z"
   },
   {
    "duration": 3,
    "start_time": "2022-03-06T18:14:08.558Z"
   },
   {
    "duration": 229,
    "start_time": "2022-03-06T18:14:08.563Z"
   },
   {
    "duration": -459,
    "start_time": "2022-03-06T18:14:09.253Z"
   },
   {
    "duration": -470,
    "start_time": "2022-03-06T18:14:09.265Z"
   },
   {
    "duration": -479,
    "start_time": "2022-03-06T18:14:09.274Z"
   },
   {
    "duration": -511,
    "start_time": "2022-03-06T18:14:09.307Z"
   },
   {
    "duration": -523,
    "start_time": "2022-03-06T18:14:09.320Z"
   },
   {
    "duration": -532,
    "start_time": "2022-03-06T18:14:09.330Z"
   },
   {
    "duration": -542,
    "start_time": "2022-03-06T18:14:09.341Z"
   },
   {
    "duration": -551,
    "start_time": "2022-03-06T18:14:09.351Z"
   },
   {
    "duration": 339,
    "start_time": "2022-03-06T18:14:34.660Z"
   },
   {
    "duration": 4,
    "start_time": "2022-03-06T18:25:01.316Z"
   },
   {
    "duration": 359,
    "start_time": "2022-03-06T18:25:07.668Z"
   },
   {
    "duration": 3,
    "start_time": "2022-03-06T18:30:57.031Z"
   },
   {
    "duration": 358,
    "start_time": "2022-03-06T18:31:00.353Z"
   },
   {
    "duration": 5,
    "start_time": "2022-03-06T18:31:46.391Z"
   },
   {
    "duration": 4,
    "start_time": "2022-03-06T18:31:49.412Z"
   },
   {
    "duration": 6140,
    "start_time": "2022-03-06T18:31:52.325Z"
   },
   {
    "duration": 3,
    "start_time": "2022-03-06T18:32:54.138Z"
   },
   {
    "duration": 4415,
    "start_time": "2022-03-06T18:32:57.909Z"
   },
   {
    "duration": 4321,
    "start_time": "2022-03-06T18:51:34.528Z"
   },
   {
    "duration": 4,
    "start_time": "2022-03-06T18:51:41.376Z"
   },
   {
    "duration": 18,
    "start_time": "2022-03-06T18:51:47.785Z"
   },
   {
    "duration": 13,
    "start_time": "2022-03-06T18:52:07.304Z"
   },
   {
    "duration": 16,
    "start_time": "2022-03-06T18:52:07.319Z"
   },
   {
    "duration": 12,
    "start_time": "2022-03-06T18:52:07.337Z"
   },
   {
    "duration": 10,
    "start_time": "2022-03-06T18:52:07.351Z"
   },
   {
    "duration": 5,
    "start_time": "2022-03-06T18:52:07.362Z"
   },
   {
    "duration": 10,
    "start_time": "2022-03-06T18:52:07.369Z"
   },
   {
    "duration": 5,
    "start_time": "2022-03-06T18:52:07.381Z"
   },
   {
    "duration": 59,
    "start_time": "2022-03-06T18:53:38.897Z"
   }
  ],
  "colab": {
   "collapsed_sections": [
    "E0vqbgi9ay0H",
    "VUC88oWjTJw2"
   ],
   "name": "yandex_music_project_2021.2.ipynb",
   "provenance": []
  },
  "kernelspec": {
   "display_name": "Python 3",
   "language": "python",
   "name": "python3"
  },
  "language_info": {
   "codemirror_mode": {
    "name": "ipython",
    "version": 3
   },
   "file_extension": ".py",
   "mimetype": "text/x-python",
   "name": "python",
   "nbconvert_exporter": "python",
   "pygments_lexer": "ipython3",
   "version": "3.7.6"
  },
  "toc": {
   "base_numbering": 1,
   "nav_menu": {},
   "number_sections": true,
   "sideBar": true,
   "skip_h1_title": true,
   "title_cell": "Table of Contents",
   "title_sidebar": "Contents",
   "toc_cell": false,
   "toc_position": {
    "height": "calc(100% - 180px)",
    "left": "10px",
    "top": "150px",
    "width": "257.274px"
   },
   "toc_section_display": true,
   "toc_window_display": true
  }
 },
 "nbformat": 4,
 "nbformat_minor": 1
}
