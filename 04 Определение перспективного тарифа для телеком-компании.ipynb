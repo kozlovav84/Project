{
 "cells": [
  {
   "cell_type": "markdown",
   "metadata": {},
   "source": [
    "# Описание проекта"
   ]
  },
  {
   "cell_type": "markdown",
   "metadata": {},
   "source": [
    "Мы аналитики компании «Мегалайн» — федерального оператора сотовой связи. Клиентам предлагают два тарифных плана: «Смарт» и «Ультра». Чтобы скорректировать рекламный бюджет, коммерческий департамент хочет понять, какой тариф приносит больше денег.\n",
    "Вам предстоит сделать предварительный анализ тарифов на небольшой выборке клиентов. В вашем распоряжении данные 500 пользователей «Мегалайна»: кто они, откуда, каким тарифом пользуются, сколько звонков и сообщений каждый отправил за 2018 год. Нужно проанализировать поведение клиентов и сделать вывод — какой тариф лучше."
   ]
  },
  {
   "cell_type": "markdown",
   "metadata": {},
   "source": [
    "## Описание тарифов"
   ]
  },
  {
   "cell_type": "markdown",
   "metadata": {},
   "source": [
    "### Тариф «Смарт»\n",
    "1. Ежемесячная плата: 550 рублей.\n",
    "2. Включено 500 минут разговора, 50 сообщений и 15 Гб интернет-трафика.\n",
    "3. Стоимость услуг сверх тарифного пакета:\n",
    "\n",
    "\n",
    "- минута разговора: 3 рубля;\n",
    "- сообщение: 3 рубля;\n",
    "- 1 Гб интернет-трафика: 200 рублей."
   ]
  },
  {
   "cell_type": "markdown",
   "metadata": {},
   "source": [
    "### Тариф «Ультра»\n",
    "1. Ежемесячная плата: 1950 рублей.\n",
    "2. Включено 3000 минут разговора, 1000 сообщений и 30 Гб интернет-трафика.\n",
    "3. Стоимость услуг сверх тарифного пакета:\n",
    "\n",
    "\n",
    "- минута разговора: 1 рубль;\n",
    "- сообщение: 1 рубль;\n",
    "- 1 Гб интернет-трафика: 150 рублей."
   ]
  },
  {
   "cell_type": "markdown",
   "metadata": {},
   "source": [
    "## Открываем файлы с данными и изучаем общую информацию:"
   ]
  },
  {
   "cell_type": "code",
   "execution_count": 1,
   "metadata": {},
   "outputs": [],
   "source": [
    "import pandas as pd\n",
    "import matplotlib.pyplot as plt\n",
    "import numpy as np\n",
    "from scipy import stats as st\n",
    "\n",
    "\n",
    "calls = pd.read_csv('/datasets/calls.csv')\n",
    "internet = pd.read_csv('/datasets/internet.csv', index_col=0)\n",
    "messages = pd.read_csv('/datasets/messages.csv')\n",
    "tariffs = pd.read_csv('/datasets/tariffs.csv')\n",
    "users = pd.read_csv('/datasets/users.csv')"
   ]
  },
  {
   "cell_type": "markdown",
   "metadata": {},
   "source": [
    "### Таблица `calls.csv`:"
   ]
  },
  {
   "cell_type": "code",
   "execution_count": 2,
   "metadata": {},
   "outputs": [
    {
     "data": {
      "text/html": [
       "<div>\n",
       "<style scoped>\n",
       "    .dataframe tbody tr th:only-of-type {\n",
       "        vertical-align: middle;\n",
       "    }\n",
       "\n",
       "    .dataframe tbody tr th {\n",
       "        vertical-align: top;\n",
       "    }\n",
       "\n",
       "    .dataframe thead th {\n",
       "        text-align: right;\n",
       "    }\n",
       "</style>\n",
       "<table border=\"1\" class=\"dataframe\">\n",
       "  <thead>\n",
       "    <tr style=\"text-align: right;\">\n",
       "      <th></th>\n",
       "      <th>id</th>\n",
       "      <th>call_date</th>\n",
       "      <th>duration</th>\n",
       "      <th>user_id</th>\n",
       "    </tr>\n",
       "  </thead>\n",
       "  <tbody>\n",
       "    <tr>\n",
       "      <th>0</th>\n",
       "      <td>1000_0</td>\n",
       "      <td>2018-07-25</td>\n",
       "      <td>0.00</td>\n",
       "      <td>1000</td>\n",
       "    </tr>\n",
       "    <tr>\n",
       "      <th>1</th>\n",
       "      <td>1000_1</td>\n",
       "      <td>2018-08-17</td>\n",
       "      <td>0.00</td>\n",
       "      <td>1000</td>\n",
       "    </tr>\n",
       "    <tr>\n",
       "      <th>2</th>\n",
       "      <td>1000_2</td>\n",
       "      <td>2018-06-11</td>\n",
       "      <td>2.85</td>\n",
       "      <td>1000</td>\n",
       "    </tr>\n",
       "    <tr>\n",
       "      <th>3</th>\n",
       "      <td>1000_3</td>\n",
       "      <td>2018-09-21</td>\n",
       "      <td>13.80</td>\n",
       "      <td>1000</td>\n",
       "    </tr>\n",
       "    <tr>\n",
       "      <th>4</th>\n",
       "      <td>1000_4</td>\n",
       "      <td>2018-12-15</td>\n",
       "      <td>5.18</td>\n",
       "      <td>1000</td>\n",
       "    </tr>\n",
       "  </tbody>\n",
       "</table>\n",
       "</div>"
      ],
      "text/plain": [
       "       id   call_date  duration  user_id\n",
       "0  1000_0  2018-07-25      0.00     1000\n",
       "1  1000_1  2018-08-17      0.00     1000\n",
       "2  1000_2  2018-06-11      2.85     1000\n",
       "3  1000_3  2018-09-21     13.80     1000\n",
       "4  1000_4  2018-12-15      5.18     1000"
      ]
     },
     "metadata": {},
     "output_type": "display_data"
    },
    {
     "name": "stdout",
     "output_type": "stream",
     "text": [
      "==================================================\n",
      "\n",
      "<class 'pandas.core.frame.DataFrame'>\n",
      "RangeIndex: 202607 entries, 0 to 202606\n",
      "Data columns (total 4 columns):\n",
      " #   Column     Non-Null Count   Dtype  \n",
      "---  ------     --------------   -----  \n",
      " 0   id         202607 non-null  object \n",
      " 1   call_date  202607 non-null  object \n",
      " 2   duration   202607 non-null  float64\n",
      " 3   user_id    202607 non-null  int64  \n",
      "dtypes: float64(1), int64(1), object(2)\n",
      "memory usage: 6.2+ MB\n"
     ]
    },
    {
     "data": {
      "text/plain": [
       "None"
      ]
     },
     "metadata": {},
     "output_type": "display_data"
    },
    {
     "name": "stdout",
     "output_type": "stream",
     "text": [
      "==================================================\n",
      "\n"
     ]
    },
    {
     "data": {
      "text/html": [
       "<div>\n",
       "<style scoped>\n",
       "    .dataframe tbody tr th:only-of-type {\n",
       "        vertical-align: middle;\n",
       "    }\n",
       "\n",
       "    .dataframe tbody tr th {\n",
       "        vertical-align: top;\n",
       "    }\n",
       "\n",
       "    .dataframe thead th {\n",
       "        text-align: right;\n",
       "    }\n",
       "</style>\n",
       "<table border=\"1\" class=\"dataframe\">\n",
       "  <thead>\n",
       "    <tr style=\"text-align: right;\">\n",
       "      <th></th>\n",
       "      <th>duration</th>\n",
       "      <th>user_id</th>\n",
       "    </tr>\n",
       "  </thead>\n",
       "  <tbody>\n",
       "    <tr>\n",
       "      <th>count</th>\n",
       "      <td>202607.000000</td>\n",
       "      <td>202607.000000</td>\n",
       "    </tr>\n",
       "    <tr>\n",
       "      <th>mean</th>\n",
       "      <td>6.755887</td>\n",
       "      <td>1253.940619</td>\n",
       "    </tr>\n",
       "    <tr>\n",
       "      <th>std</th>\n",
       "      <td>5.843365</td>\n",
       "      <td>144.722751</td>\n",
       "    </tr>\n",
       "    <tr>\n",
       "      <th>min</th>\n",
       "      <td>0.000000</td>\n",
       "      <td>1000.000000</td>\n",
       "    </tr>\n",
       "    <tr>\n",
       "      <th>25%</th>\n",
       "      <td>1.300000</td>\n",
       "      <td>1126.000000</td>\n",
       "    </tr>\n",
       "    <tr>\n",
       "      <th>50%</th>\n",
       "      <td>6.000000</td>\n",
       "      <td>1260.000000</td>\n",
       "    </tr>\n",
       "    <tr>\n",
       "      <th>75%</th>\n",
       "      <td>10.700000</td>\n",
       "      <td>1379.000000</td>\n",
       "    </tr>\n",
       "    <tr>\n",
       "      <th>max</th>\n",
       "      <td>38.000000</td>\n",
       "      <td>1499.000000</td>\n",
       "    </tr>\n",
       "  </tbody>\n",
       "</table>\n",
       "</div>"
      ],
      "text/plain": [
       "            duration        user_id\n",
       "count  202607.000000  202607.000000\n",
       "mean        6.755887    1253.940619\n",
       "std         5.843365     144.722751\n",
       "min         0.000000    1000.000000\n",
       "25%         1.300000    1126.000000\n",
       "50%         6.000000    1260.000000\n",
       "75%        10.700000    1379.000000\n",
       "max        38.000000    1499.000000"
      ]
     },
     "execution_count": 2,
     "metadata": {},
     "output_type": "execute_result"
    }
   ],
   "source": [
    "display (calls.head())\n",
    "print ('=' * 50)\n",
    "print ()\n",
    "display (calls.info())\n",
    "print ('=' * 50)\n",
    "print ()\n",
    "calls.describe() #изучаем общую информацию по звонкам и основные статистические характеристики."
   ]
  },
  {
   "cell_type": "markdown",
   "metadata": {},
   "source": [
    "**Вывод:**\n",
    "1. Пропусков не обнаружено. \n",
    "2. Необходимо изменить тип данных в столбце `calls['call_date']` с типа `object` на тип `datetime64`.\n",
    "3. В условии проекта сказано, что звонки всегда округляются до целого числа в большую сторону. Однако в столбце `calls['duration']` мы видим дробные значения. Соответственно, значения нужно округлить до целого в большую сторону и изменить тип данных с `float64` на `int64`.\n",
    "4. Присутствуют звонки с длительностью \"0\". По условию задачи `это не ошибка: нулями обозначены пропущенные звонки, поэтому их не нужно удалять` (я должен показать, что я это заметил и не оставил без внимания)."
   ]
  },
  {
   "cell_type": "markdown",
   "metadata": {},
   "source": [
    "### Таблица `internet.csv`:"
   ]
  },
  {
   "cell_type": "code",
   "execution_count": 3,
   "metadata": {},
   "outputs": [
    {
     "data": {
      "text/html": [
       "<div>\n",
       "<style scoped>\n",
       "    .dataframe tbody tr th:only-of-type {\n",
       "        vertical-align: middle;\n",
       "    }\n",
       "\n",
       "    .dataframe tbody tr th {\n",
       "        vertical-align: top;\n",
       "    }\n",
       "\n",
       "    .dataframe thead th {\n",
       "        text-align: right;\n",
       "    }\n",
       "</style>\n",
       "<table border=\"1\" class=\"dataframe\">\n",
       "  <thead>\n",
       "    <tr style=\"text-align: right;\">\n",
       "      <th></th>\n",
       "      <th>id</th>\n",
       "      <th>mb_used</th>\n",
       "      <th>session_date</th>\n",
       "      <th>user_id</th>\n",
       "    </tr>\n",
       "  </thead>\n",
       "  <tbody>\n",
       "    <tr>\n",
       "      <th>0</th>\n",
       "      <td>1000_0</td>\n",
       "      <td>112.95</td>\n",
       "      <td>2018-11-25</td>\n",
       "      <td>1000</td>\n",
       "    </tr>\n",
       "    <tr>\n",
       "      <th>1</th>\n",
       "      <td>1000_1</td>\n",
       "      <td>1052.81</td>\n",
       "      <td>2018-09-07</td>\n",
       "      <td>1000</td>\n",
       "    </tr>\n",
       "    <tr>\n",
       "      <th>2</th>\n",
       "      <td>1000_2</td>\n",
       "      <td>1197.26</td>\n",
       "      <td>2018-06-25</td>\n",
       "      <td>1000</td>\n",
       "    </tr>\n",
       "    <tr>\n",
       "      <th>3</th>\n",
       "      <td>1000_3</td>\n",
       "      <td>550.27</td>\n",
       "      <td>2018-08-22</td>\n",
       "      <td>1000</td>\n",
       "    </tr>\n",
       "    <tr>\n",
       "      <th>4</th>\n",
       "      <td>1000_4</td>\n",
       "      <td>302.56</td>\n",
       "      <td>2018-09-24</td>\n",
       "      <td>1000</td>\n",
       "    </tr>\n",
       "  </tbody>\n",
       "</table>\n",
       "</div>"
      ],
      "text/plain": [
       "       id  mb_used session_date  user_id\n",
       "0  1000_0   112.95   2018-11-25     1000\n",
       "1  1000_1  1052.81   2018-09-07     1000\n",
       "2  1000_2  1197.26   2018-06-25     1000\n",
       "3  1000_3   550.27   2018-08-22     1000\n",
       "4  1000_4   302.56   2018-09-24     1000"
      ]
     },
     "metadata": {},
     "output_type": "display_data"
    },
    {
     "name": "stdout",
     "output_type": "stream",
     "text": [
      "==================================================\n",
      "\n",
      "<class 'pandas.core.frame.DataFrame'>\n",
      "Int64Index: 149396 entries, 0 to 149395\n",
      "Data columns (total 4 columns):\n",
      " #   Column        Non-Null Count   Dtype  \n",
      "---  ------        --------------   -----  \n",
      " 0   id            149396 non-null  object \n",
      " 1   mb_used       149396 non-null  float64\n",
      " 2   session_date  149396 non-null  object \n",
      " 3   user_id       149396 non-null  int64  \n",
      "dtypes: float64(1), int64(1), object(2)\n",
      "memory usage: 5.7+ MB\n"
     ]
    },
    {
     "data": {
      "text/plain": [
       "None"
      ]
     },
     "metadata": {},
     "output_type": "display_data"
    },
    {
     "name": "stdout",
     "output_type": "stream",
     "text": [
      "==================================================\n",
      "\n"
     ]
    },
    {
     "data": {
      "text/html": [
       "<div>\n",
       "<style scoped>\n",
       "    .dataframe tbody tr th:only-of-type {\n",
       "        vertical-align: middle;\n",
       "    }\n",
       "\n",
       "    .dataframe tbody tr th {\n",
       "        vertical-align: top;\n",
       "    }\n",
       "\n",
       "    .dataframe thead th {\n",
       "        text-align: right;\n",
       "    }\n",
       "</style>\n",
       "<table border=\"1\" class=\"dataframe\">\n",
       "  <thead>\n",
       "    <tr style=\"text-align: right;\">\n",
       "      <th></th>\n",
       "      <th>mb_used</th>\n",
       "      <th>user_id</th>\n",
       "    </tr>\n",
       "  </thead>\n",
       "  <tbody>\n",
       "    <tr>\n",
       "      <th>count</th>\n",
       "      <td>149396.000000</td>\n",
       "      <td>149396.000000</td>\n",
       "    </tr>\n",
       "    <tr>\n",
       "      <th>mean</th>\n",
       "      <td>370.192426</td>\n",
       "      <td>1252.099842</td>\n",
       "    </tr>\n",
       "    <tr>\n",
       "      <th>std</th>\n",
       "      <td>278.300951</td>\n",
       "      <td>144.050823</td>\n",
       "    </tr>\n",
       "    <tr>\n",
       "      <th>min</th>\n",
       "      <td>0.000000</td>\n",
       "      <td>1000.000000</td>\n",
       "    </tr>\n",
       "    <tr>\n",
       "      <th>25%</th>\n",
       "      <td>138.187500</td>\n",
       "      <td>1130.000000</td>\n",
       "    </tr>\n",
       "    <tr>\n",
       "      <th>50%</th>\n",
       "      <td>348.015000</td>\n",
       "      <td>1251.000000</td>\n",
       "    </tr>\n",
       "    <tr>\n",
       "      <th>75%</th>\n",
       "      <td>559.552500</td>\n",
       "      <td>1380.000000</td>\n",
       "    </tr>\n",
       "    <tr>\n",
       "      <th>max</th>\n",
       "      <td>1724.830000</td>\n",
       "      <td>1499.000000</td>\n",
       "    </tr>\n",
       "  </tbody>\n",
       "</table>\n",
       "</div>"
      ],
      "text/plain": [
       "             mb_used        user_id\n",
       "count  149396.000000  149396.000000\n",
       "mean      370.192426    1252.099842\n",
       "std       278.300951     144.050823\n",
       "min         0.000000    1000.000000\n",
       "25%       138.187500    1130.000000\n",
       "50%       348.015000    1251.000000\n",
       "75%       559.552500    1380.000000\n",
       "max      1724.830000    1499.000000"
      ]
     },
     "execution_count": 3,
     "metadata": {},
     "output_type": "execute_result"
    }
   ],
   "source": [
    "display (internet.head())\n",
    "print ('=' * 50)\n",
    "print ()\n",
    "display (internet.info())\n",
    "print ('=' * 50)\n",
    "print ()\n",
    "internet.describe() #изучаем общую информацию и основные статистические характеристики."
   ]
  },
  {
   "cell_type": "markdown",
   "metadata": {},
   "source": [
    "**Вывод:**\n",
    "1. Пропусков не обнаружено. \n",
    "2. Необходимо изменить тип данных в столбце `internet['session_date']` с типа `object` на тип `datetime64`.\n",
    "3. Нули в столбце `internet['mb_used]` не являются ошибкой. Вероятнее всего, абоненты не пользуются мобильным интернетом."
   ]
  },
  {
   "cell_type": "markdown",
   "metadata": {},
   "source": [
    "###  Таблица `messages.csv`:"
   ]
  },
  {
   "cell_type": "code",
   "execution_count": 4,
   "metadata": {},
   "outputs": [
    {
     "data": {
      "text/html": [
       "<div>\n",
       "<style scoped>\n",
       "    .dataframe tbody tr th:only-of-type {\n",
       "        vertical-align: middle;\n",
       "    }\n",
       "\n",
       "    .dataframe tbody tr th {\n",
       "        vertical-align: top;\n",
       "    }\n",
       "\n",
       "    .dataframe thead th {\n",
       "        text-align: right;\n",
       "    }\n",
       "</style>\n",
       "<table border=\"1\" class=\"dataframe\">\n",
       "  <thead>\n",
       "    <tr style=\"text-align: right;\">\n",
       "      <th></th>\n",
       "      <th>id</th>\n",
       "      <th>message_date</th>\n",
       "      <th>user_id</th>\n",
       "    </tr>\n",
       "  </thead>\n",
       "  <tbody>\n",
       "    <tr>\n",
       "      <th>0</th>\n",
       "      <td>1000_0</td>\n",
       "      <td>2018-06-27</td>\n",
       "      <td>1000</td>\n",
       "    </tr>\n",
       "    <tr>\n",
       "      <th>1</th>\n",
       "      <td>1000_1</td>\n",
       "      <td>2018-10-08</td>\n",
       "      <td>1000</td>\n",
       "    </tr>\n",
       "    <tr>\n",
       "      <th>2</th>\n",
       "      <td>1000_2</td>\n",
       "      <td>2018-08-04</td>\n",
       "      <td>1000</td>\n",
       "    </tr>\n",
       "    <tr>\n",
       "      <th>3</th>\n",
       "      <td>1000_3</td>\n",
       "      <td>2018-06-16</td>\n",
       "      <td>1000</td>\n",
       "    </tr>\n",
       "    <tr>\n",
       "      <th>4</th>\n",
       "      <td>1000_4</td>\n",
       "      <td>2018-12-05</td>\n",
       "      <td>1000</td>\n",
       "    </tr>\n",
       "  </tbody>\n",
       "</table>\n",
       "</div>"
      ],
      "text/plain": [
       "       id message_date  user_id\n",
       "0  1000_0   2018-06-27     1000\n",
       "1  1000_1   2018-10-08     1000\n",
       "2  1000_2   2018-08-04     1000\n",
       "3  1000_3   2018-06-16     1000\n",
       "4  1000_4   2018-12-05     1000"
      ]
     },
     "metadata": {},
     "output_type": "display_data"
    },
    {
     "name": "stdout",
     "output_type": "stream",
     "text": [
      "==================================================\n",
      "\n",
      "<class 'pandas.core.frame.DataFrame'>\n",
      "RangeIndex: 123036 entries, 0 to 123035\n",
      "Data columns (total 3 columns):\n",
      " #   Column        Non-Null Count   Dtype \n",
      "---  ------        --------------   ----- \n",
      " 0   id            123036 non-null  object\n",
      " 1   message_date  123036 non-null  object\n",
      " 2   user_id       123036 non-null  int64 \n",
      "dtypes: int64(1), object(2)\n",
      "memory usage: 2.8+ MB\n"
     ]
    },
    {
     "data": {
      "text/plain": [
       "None"
      ]
     },
     "metadata": {},
     "output_type": "display_data"
    },
    {
     "name": "stdout",
     "output_type": "stream",
     "text": [
      "==================================================\n",
      "\n"
     ]
    },
    {
     "data": {
      "text/html": [
       "<div>\n",
       "<style scoped>\n",
       "    .dataframe tbody tr th:only-of-type {\n",
       "        vertical-align: middle;\n",
       "    }\n",
       "\n",
       "    .dataframe tbody tr th {\n",
       "        vertical-align: top;\n",
       "    }\n",
       "\n",
       "    .dataframe thead th {\n",
       "        text-align: right;\n",
       "    }\n",
       "</style>\n",
       "<table border=\"1\" class=\"dataframe\">\n",
       "  <thead>\n",
       "    <tr style=\"text-align: right;\">\n",
       "      <th></th>\n",
       "      <th>user_id</th>\n",
       "    </tr>\n",
       "  </thead>\n",
       "  <tbody>\n",
       "    <tr>\n",
       "      <th>count</th>\n",
       "      <td>123036.000000</td>\n",
       "    </tr>\n",
       "    <tr>\n",
       "      <th>mean</th>\n",
       "      <td>1256.989410</td>\n",
       "    </tr>\n",
       "    <tr>\n",
       "      <th>std</th>\n",
       "      <td>143.523967</td>\n",
       "    </tr>\n",
       "    <tr>\n",
       "      <th>min</th>\n",
       "      <td>1000.000000</td>\n",
       "    </tr>\n",
       "    <tr>\n",
       "      <th>25%</th>\n",
       "      <td>1134.000000</td>\n",
       "    </tr>\n",
       "    <tr>\n",
       "      <th>50%</th>\n",
       "      <td>1271.000000</td>\n",
       "    </tr>\n",
       "    <tr>\n",
       "      <th>75%</th>\n",
       "      <td>1381.000000</td>\n",
       "    </tr>\n",
       "    <tr>\n",
       "      <th>max</th>\n",
       "      <td>1499.000000</td>\n",
       "    </tr>\n",
       "  </tbody>\n",
       "</table>\n",
       "</div>"
      ],
      "text/plain": [
       "             user_id\n",
       "count  123036.000000\n",
       "mean     1256.989410\n",
       "std       143.523967\n",
       "min      1000.000000\n",
       "25%      1134.000000\n",
       "50%      1271.000000\n",
       "75%      1381.000000\n",
       "max      1499.000000"
      ]
     },
     "execution_count": 4,
     "metadata": {},
     "output_type": "execute_result"
    }
   ],
   "source": [
    "display (messages.head())\n",
    "print ('=' * 50)\n",
    "print ()\n",
    "display (messages.info())\n",
    "print ('=' * 50)\n",
    "print ()\n",
    "messages.describe() #изучаем общую информацию сообщениям и основные статистические характеристики."
   ]
  },
  {
   "cell_type": "markdown",
   "metadata": {},
   "source": [
    "**Вывод:**\n",
    "1. Пропусков не обнаружено. \n",
    "2. Необходимо изменить тип данных в столбце `messages['message_date']` с типа `object` на тип `datetime64`."
   ]
  },
  {
   "cell_type": "markdown",
   "metadata": {},
   "source": [
    "###  Таблица `tariffs.csv`:"
   ]
  },
  {
   "cell_type": "code",
   "execution_count": 5,
   "metadata": {},
   "outputs": [
    {
     "data": {
      "text/html": [
       "<div>\n",
       "<style scoped>\n",
       "    .dataframe tbody tr th:only-of-type {\n",
       "        vertical-align: middle;\n",
       "    }\n",
       "\n",
       "    .dataframe tbody tr th {\n",
       "        vertical-align: top;\n",
       "    }\n",
       "\n",
       "    .dataframe thead th {\n",
       "        text-align: right;\n",
       "    }\n",
       "</style>\n",
       "<table border=\"1\" class=\"dataframe\">\n",
       "  <thead>\n",
       "    <tr style=\"text-align: right;\">\n",
       "      <th></th>\n",
       "      <th>messages_included</th>\n",
       "      <th>mb_per_month_included</th>\n",
       "      <th>minutes_included</th>\n",
       "      <th>rub_monthly_fee</th>\n",
       "      <th>rub_per_gb</th>\n",
       "      <th>rub_per_message</th>\n",
       "      <th>rub_per_minute</th>\n",
       "      <th>tariff_name</th>\n",
       "    </tr>\n",
       "  </thead>\n",
       "  <tbody>\n",
       "    <tr>\n",
       "      <th>0</th>\n",
       "      <td>50</td>\n",
       "      <td>15360</td>\n",
       "      <td>500</td>\n",
       "      <td>550</td>\n",
       "      <td>200</td>\n",
       "      <td>3</td>\n",
       "      <td>3</td>\n",
       "      <td>smart</td>\n",
       "    </tr>\n",
       "    <tr>\n",
       "      <th>1</th>\n",
       "      <td>1000</td>\n",
       "      <td>30720</td>\n",
       "      <td>3000</td>\n",
       "      <td>1950</td>\n",
       "      <td>150</td>\n",
       "      <td>1</td>\n",
       "      <td>1</td>\n",
       "      <td>ultra</td>\n",
       "    </tr>\n",
       "  </tbody>\n",
       "</table>\n",
       "</div>"
      ],
      "text/plain": [
       "   messages_included  mb_per_month_included  minutes_included  \\\n",
       "0                 50                  15360               500   \n",
       "1               1000                  30720              3000   \n",
       "\n",
       "   rub_monthly_fee  rub_per_gb  rub_per_message  rub_per_minute tariff_name  \n",
       "0              550         200                3               3       smart  \n",
       "1             1950         150                1               1       ultra  "
      ]
     },
     "metadata": {},
     "output_type": "display_data"
    },
    {
     "name": "stdout",
     "output_type": "stream",
     "text": [
      "\n",
      "<class 'pandas.core.frame.DataFrame'>\n",
      "RangeIndex: 2 entries, 0 to 1\n",
      "Data columns (total 8 columns):\n",
      " #   Column                 Non-Null Count  Dtype \n",
      "---  ------                 --------------  ----- \n",
      " 0   messages_included      2 non-null      int64 \n",
      " 1   mb_per_month_included  2 non-null      int64 \n",
      " 2   minutes_included       2 non-null      int64 \n",
      " 3   rub_monthly_fee        2 non-null      int64 \n",
      " 4   rub_per_gb             2 non-null      int64 \n",
      " 5   rub_per_message        2 non-null      int64 \n",
      " 6   rub_per_minute         2 non-null      int64 \n",
      " 7   tariff_name            2 non-null      object\n",
      "dtypes: int64(7), object(1)\n",
      "memory usage: 256.0+ bytes\n"
     ]
    }
   ],
   "source": [
    "display (tariffs.head())\n",
    "#print ('=' * 50)\n",
    "print ()\n",
    "tariffs.info() # сначала тоже применял describe(), но затем отменил ввиду ненадобности"
   ]
  },
  {
   "cell_type": "markdown",
   "metadata": {},
   "source": [
    "**Вывод:**\n",
    "1. Пропусков не обнаружено. \n",
    "2. Данные не нуждаются в изменении типов.\n",
    "3. Ошибки в данных не обнаружены."
   ]
  },
  {
   "cell_type": "markdown",
   "metadata": {},
   "source": [
    "### Таблица `users.csv`:"
   ]
  },
  {
   "cell_type": "code",
   "execution_count": 6,
   "metadata": {},
   "outputs": [
    {
     "data": {
      "text/html": [
       "<div>\n",
       "<style scoped>\n",
       "    .dataframe tbody tr th:only-of-type {\n",
       "        vertical-align: middle;\n",
       "    }\n",
       "\n",
       "    .dataframe tbody tr th {\n",
       "        vertical-align: top;\n",
       "    }\n",
       "\n",
       "    .dataframe thead th {\n",
       "        text-align: right;\n",
       "    }\n",
       "</style>\n",
       "<table border=\"1\" class=\"dataframe\">\n",
       "  <thead>\n",
       "    <tr style=\"text-align: right;\">\n",
       "      <th></th>\n",
       "      <th>user_id</th>\n",
       "      <th>age</th>\n",
       "      <th>churn_date</th>\n",
       "      <th>city</th>\n",
       "      <th>first_name</th>\n",
       "      <th>last_name</th>\n",
       "      <th>reg_date</th>\n",
       "      <th>tariff</th>\n",
       "    </tr>\n",
       "  </thead>\n",
       "  <tbody>\n",
       "    <tr>\n",
       "      <th>0</th>\n",
       "      <td>1000</td>\n",
       "      <td>52</td>\n",
       "      <td>NaN</td>\n",
       "      <td>Краснодар</td>\n",
       "      <td>Рафаил</td>\n",
       "      <td>Верещагин</td>\n",
       "      <td>2018-05-25</td>\n",
       "      <td>ultra</td>\n",
       "    </tr>\n",
       "    <tr>\n",
       "      <th>1</th>\n",
       "      <td>1001</td>\n",
       "      <td>41</td>\n",
       "      <td>NaN</td>\n",
       "      <td>Москва</td>\n",
       "      <td>Иван</td>\n",
       "      <td>Ежов</td>\n",
       "      <td>2018-11-01</td>\n",
       "      <td>smart</td>\n",
       "    </tr>\n",
       "    <tr>\n",
       "      <th>2</th>\n",
       "      <td>1002</td>\n",
       "      <td>59</td>\n",
       "      <td>NaN</td>\n",
       "      <td>Стерлитамак</td>\n",
       "      <td>Евгений</td>\n",
       "      <td>Абрамович</td>\n",
       "      <td>2018-06-17</td>\n",
       "      <td>smart</td>\n",
       "    </tr>\n",
       "    <tr>\n",
       "      <th>3</th>\n",
       "      <td>1003</td>\n",
       "      <td>23</td>\n",
       "      <td>NaN</td>\n",
       "      <td>Москва</td>\n",
       "      <td>Белла</td>\n",
       "      <td>Белякова</td>\n",
       "      <td>2018-08-17</td>\n",
       "      <td>ultra</td>\n",
       "    </tr>\n",
       "    <tr>\n",
       "      <th>4</th>\n",
       "      <td>1004</td>\n",
       "      <td>68</td>\n",
       "      <td>NaN</td>\n",
       "      <td>Новокузнецк</td>\n",
       "      <td>Татьяна</td>\n",
       "      <td>Авдеенко</td>\n",
       "      <td>2018-05-14</td>\n",
       "      <td>ultra</td>\n",
       "    </tr>\n",
       "  </tbody>\n",
       "</table>\n",
       "</div>"
      ],
      "text/plain": [
       "   user_id  age churn_date         city first_name  last_name    reg_date  \\\n",
       "0     1000   52        NaN    Краснодар     Рафаил  Верещагин  2018-05-25   \n",
       "1     1001   41        NaN       Москва       Иван       Ежов  2018-11-01   \n",
       "2     1002   59        NaN  Стерлитамак    Евгений  Абрамович  2018-06-17   \n",
       "3     1003   23        NaN       Москва      Белла   Белякова  2018-08-17   \n",
       "4     1004   68        NaN  Новокузнецк    Татьяна   Авдеенко  2018-05-14   \n",
       "\n",
       "  tariff  \n",
       "0  ultra  \n",
       "1  smart  \n",
       "2  smart  \n",
       "3  ultra  \n",
       "4  ultra  "
      ]
     },
     "metadata": {},
     "output_type": "display_data"
    },
    {
     "name": "stdout",
     "output_type": "stream",
     "text": [
      "\n",
      "<class 'pandas.core.frame.DataFrame'>\n",
      "RangeIndex: 500 entries, 0 to 499\n",
      "Data columns (total 8 columns):\n",
      " #   Column      Non-Null Count  Dtype \n",
      "---  ------      --------------  ----- \n",
      " 0   user_id     500 non-null    int64 \n",
      " 1   age         500 non-null    int64 \n",
      " 2   churn_date  38 non-null     object\n",
      " 3   city        500 non-null    object\n",
      " 4   first_name  500 non-null    object\n",
      " 5   last_name   500 non-null    object\n",
      " 6   reg_date    500 non-null    object\n",
      " 7   tariff      500 non-null    object\n",
      "dtypes: int64(2), object(6)\n",
      "memory usage: 31.4+ KB\n"
     ]
    }
   ],
   "source": [
    "display (users.head())\n",
    "#print ('=' * 50)\n",
    "print ()\n",
    "users.info()"
   ]
  },
  {
   "cell_type": "markdown",
   "metadata": {},
   "source": [
    "**Вывод:**\n",
    "1. В столбце `users['churn_date']` обнаружены пропуски, но поскольку в условии сказано, что `если значение пропущено, то тариф ещё действовал на момент выгрузки данных`, то оставляем их без изменения. \n",
    "2. Необходимо изменить тип данных в столбце `users['churn_date']` с типа `object` на тип `datetime64`.\n",
    "3. Необходимо изменить тип данных в столбце `users['reg_date']` с типа `object` на тип `datetime64`."
   ]
  },
  {
   "cell_type": "markdown",
   "metadata": {},
   "source": [
    "## Подготовка данных"
   ]
  },
  {
   "cell_type": "markdown",
   "metadata": {},
   "source": [
    "В рамках текущего раздела мы приведём данные к нужным типам, а так же исправим обнаруженные ранее ошибки в данных."
   ]
  },
  {
   "cell_type": "markdown",
   "metadata": {},
   "source": [
    "### Подготовка данных в в таблице `calls.csv`"
   ]
  },
  {
   "cell_type": "markdown",
   "metadata": {},
   "source": [
    "Меняем тип данных в столбце `calls['call_date']` с типа `object` на тип `datetime64`:"
   ]
  },
  {
   "cell_type": "code",
   "execution_count": 7,
   "metadata": {},
   "outputs": [],
   "source": [
    "calls['call_date'] = pd.to_datetime(calls['call_date'], format='%Y.%m.%d')"
   ]
  },
  {
   "cell_type": "markdown",
   "metadata": {},
   "source": [
    "Для того, чтобы отследить изменения значений, создадим новый столбец `calls['round_duration']`. Присвоим ему значение `calls['duration']`, и методом `ceil` округлим значения в большую сторону. Изменим тип  данных на `int64` методом `astype()`:"
   ]
  },
  {
   "cell_type": "code",
   "execution_count": 8,
   "metadata": {},
   "outputs": [
    {
     "name": "stdout",
     "output_type": "stream",
     "text": [
      "<class 'pandas.core.frame.DataFrame'>\n",
      "RangeIndex: 202607 entries, 0 to 202606\n",
      "Data columns (total 5 columns):\n",
      " #   Column          Non-Null Count   Dtype         \n",
      "---  ------          --------------   -----         \n",
      " 0   id              202607 non-null  object        \n",
      " 1   call_date       202607 non-null  datetime64[ns]\n",
      " 2   duration        202607 non-null  float64       \n",
      " 3   user_id         202607 non-null  int64         \n",
      " 4   round_duration  202607 non-null  int64         \n",
      "dtypes: datetime64[ns](1), float64(1), int64(2), object(1)\n",
      "memory usage: 7.7+ MB\n"
     ]
    },
    {
     "data": {
      "text/plain": [
       "None"
      ]
     },
     "metadata": {},
     "output_type": "display_data"
    },
    {
     "name": "stdout",
     "output_type": "stream",
     "text": [
      "--------------------------------------------------\n"
     ]
    },
    {
     "data": {
      "text/html": [
       "<div>\n",
       "<style scoped>\n",
       "    .dataframe tbody tr th:only-of-type {\n",
       "        vertical-align: middle;\n",
       "    }\n",
       "\n",
       "    .dataframe tbody tr th {\n",
       "        vertical-align: top;\n",
       "    }\n",
       "\n",
       "    .dataframe thead th {\n",
       "        text-align: right;\n",
       "    }\n",
       "</style>\n",
       "<table border=\"1\" class=\"dataframe\">\n",
       "  <thead>\n",
       "    <tr style=\"text-align: right;\">\n",
       "      <th></th>\n",
       "      <th>id</th>\n",
       "      <th>call_date</th>\n",
       "      <th>duration</th>\n",
       "      <th>user_id</th>\n",
       "      <th>round_duration</th>\n",
       "    </tr>\n",
       "  </thead>\n",
       "  <tbody>\n",
       "    <tr>\n",
       "      <th>202597</th>\n",
       "      <td>1499_210</td>\n",
       "      <td>2018-10-02</td>\n",
       "      <td>8.86</td>\n",
       "      <td>1499</td>\n",
       "      <td>9</td>\n",
       "    </tr>\n",
       "    <tr>\n",
       "      <th>202598</th>\n",
       "      <td>1499_211</td>\n",
       "      <td>2018-12-29</td>\n",
       "      <td>4.58</td>\n",
       "      <td>1499</td>\n",
       "      <td>5</td>\n",
       "    </tr>\n",
       "    <tr>\n",
       "      <th>202599</th>\n",
       "      <td>1499_212</td>\n",
       "      <td>2018-12-30</td>\n",
       "      <td>1.35</td>\n",
       "      <td>1499</td>\n",
       "      <td>2</td>\n",
       "    </tr>\n",
       "    <tr>\n",
       "      <th>202600</th>\n",
       "      <td>1499_213</td>\n",
       "      <td>2018-10-17</td>\n",
       "      <td>10.77</td>\n",
       "      <td>1499</td>\n",
       "      <td>11</td>\n",
       "    </tr>\n",
       "    <tr>\n",
       "      <th>202601</th>\n",
       "      <td>1499_214</td>\n",
       "      <td>2018-12-05</td>\n",
       "      <td>2.42</td>\n",
       "      <td>1499</td>\n",
       "      <td>3</td>\n",
       "    </tr>\n",
       "    <tr>\n",
       "      <th>202602</th>\n",
       "      <td>1499_215</td>\n",
       "      <td>2018-12-26</td>\n",
       "      <td>0.76</td>\n",
       "      <td>1499</td>\n",
       "      <td>1</td>\n",
       "    </tr>\n",
       "    <tr>\n",
       "      <th>202603</th>\n",
       "      <td>1499_216</td>\n",
       "      <td>2018-10-18</td>\n",
       "      <td>18.83</td>\n",
       "      <td>1499</td>\n",
       "      <td>19</td>\n",
       "    </tr>\n",
       "    <tr>\n",
       "      <th>202604</th>\n",
       "      <td>1499_217</td>\n",
       "      <td>2018-11-10</td>\n",
       "      <td>10.81</td>\n",
       "      <td>1499</td>\n",
       "      <td>11</td>\n",
       "    </tr>\n",
       "    <tr>\n",
       "      <th>202605</th>\n",
       "      <td>1499_218</td>\n",
       "      <td>2018-10-06</td>\n",
       "      <td>4.27</td>\n",
       "      <td>1499</td>\n",
       "      <td>5</td>\n",
       "    </tr>\n",
       "    <tr>\n",
       "      <th>202606</th>\n",
       "      <td>1499_219</td>\n",
       "      <td>2018-12-14</td>\n",
       "      <td>19.62</td>\n",
       "      <td>1499</td>\n",
       "      <td>20</td>\n",
       "    </tr>\n",
       "  </tbody>\n",
       "</table>\n",
       "</div>"
      ],
      "text/plain": [
       "              id  call_date  duration  user_id  round_duration\n",
       "202597  1499_210 2018-10-02      8.86     1499               9\n",
       "202598  1499_211 2018-12-29      4.58     1499               5\n",
       "202599  1499_212 2018-12-30      1.35     1499               2\n",
       "202600  1499_213 2018-10-17     10.77     1499              11\n",
       "202601  1499_214 2018-12-05      2.42     1499               3\n",
       "202602  1499_215 2018-12-26      0.76     1499               1\n",
       "202603  1499_216 2018-10-18     18.83     1499              19\n",
       "202604  1499_217 2018-11-10     10.81     1499              11\n",
       "202605  1499_218 2018-10-06      4.27     1499               5\n",
       "202606  1499_219 2018-12-14     19.62     1499              20"
      ]
     },
     "execution_count": 8,
     "metadata": {},
     "output_type": "execute_result"
    }
   ],
   "source": [
    "calls['round_duration'] = (calls['duration'].apply(np.ceil)).astype('int64')\n",
    "display(calls.info()) #смотрим, что получилось.\n",
    "print ('-' * 50)\n",
    "calls.tail(10) # выводил head(), но было много нулей"
   ]
  },
  {
   "cell_type": "markdown",
   "metadata": {},
   "source": [
    "Значения округлены, преведены к нужним типам данных. "
   ]
  },
  {
   "cell_type": "markdown",
   "metadata": {},
   "source": [
    "### Подготовка данных в таблице `internet.csv`"
   ]
  },
  {
   "cell_type": "markdown",
   "metadata": {},
   "source": [
    "Меняем тип данных в столбце `internet['session_date']` с типа `object` на тип `datetime64`:"
   ]
  },
  {
   "cell_type": "code",
   "execution_count": 9,
   "metadata": {},
   "outputs": [],
   "source": [
    "internet['session_date'] = pd.to_datetime(internet['session_date'], format='%Y.%m.%d')"
   ]
  },
  {
   "cell_type": "markdown",
   "metadata": {},
   "source": [
    "~~Для того, чтобы отследить изменения значений, создадим новый столбец `internet['round_mb_used']`. Присвоим ему значение `internet['mb_used']`, и методом `ceil` округлим значения в большую сторону. Изменим тип данных на `int64` методом `astype()`:~~"
   ]
  },
  {
   "cell_type": "markdown",
   "metadata": {},
   "source": [
    "<font color='blue'><b>Новая версия 2.0 </b></font>\n",
    "\n",
    "Перевед типа данных в `internet['mb_used']` в целочисленный не требуется. Округлять до целого будем при общем подсчёте."
   ]
  },
  {
   "cell_type": "code",
   "execution_count": 10,
   "metadata": {},
   "outputs": [
    {
     "name": "stdout",
     "output_type": "stream",
     "text": [
      "<class 'pandas.core.frame.DataFrame'>\n",
      "Int64Index: 149396 entries, 0 to 149395\n",
      "Data columns (total 4 columns):\n",
      " #   Column        Non-Null Count   Dtype         \n",
      "---  ------        --------------   -----         \n",
      " 0   id            149396 non-null  object        \n",
      " 1   mb_used       149396 non-null  float64       \n",
      " 2   session_date  149396 non-null  datetime64[ns]\n",
      " 3   user_id       149396 non-null  int64         \n",
      "dtypes: datetime64[ns](1), float64(1), int64(1), object(1)\n",
      "memory usage: 5.7+ MB\n"
     ]
    },
    {
     "data": {
      "text/plain": [
       "None"
      ]
     },
     "metadata": {},
     "output_type": "display_data"
    },
    {
     "name": "stdout",
     "output_type": "stream",
     "text": [
      "--------------------------------------------------\n"
     ]
    },
    {
     "data": {
      "text/html": [
       "<div>\n",
       "<style scoped>\n",
       "    .dataframe tbody tr th:only-of-type {\n",
       "        vertical-align: middle;\n",
       "    }\n",
       "\n",
       "    .dataframe tbody tr th {\n",
       "        vertical-align: top;\n",
       "    }\n",
       "\n",
       "    .dataframe thead th {\n",
       "        text-align: right;\n",
       "    }\n",
       "</style>\n",
       "<table border=\"1\" class=\"dataframe\">\n",
       "  <thead>\n",
       "    <tr style=\"text-align: right;\">\n",
       "      <th></th>\n",
       "      <th>id</th>\n",
       "      <th>mb_used</th>\n",
       "      <th>session_date</th>\n",
       "      <th>user_id</th>\n",
       "    </tr>\n",
       "  </thead>\n",
       "  <tbody>\n",
       "    <tr>\n",
       "      <th>0</th>\n",
       "      <td>1000_0</td>\n",
       "      <td>112.95</td>\n",
       "      <td>2018-11-25</td>\n",
       "      <td>1000</td>\n",
       "    </tr>\n",
       "    <tr>\n",
       "      <th>1</th>\n",
       "      <td>1000_1</td>\n",
       "      <td>1052.81</td>\n",
       "      <td>2018-09-07</td>\n",
       "      <td>1000</td>\n",
       "    </tr>\n",
       "    <tr>\n",
       "      <th>2</th>\n",
       "      <td>1000_2</td>\n",
       "      <td>1197.26</td>\n",
       "      <td>2018-06-25</td>\n",
       "      <td>1000</td>\n",
       "    </tr>\n",
       "    <tr>\n",
       "      <th>3</th>\n",
       "      <td>1000_3</td>\n",
       "      <td>550.27</td>\n",
       "      <td>2018-08-22</td>\n",
       "      <td>1000</td>\n",
       "    </tr>\n",
       "    <tr>\n",
       "      <th>4</th>\n",
       "      <td>1000_4</td>\n",
       "      <td>302.56</td>\n",
       "      <td>2018-09-24</td>\n",
       "      <td>1000</td>\n",
       "    </tr>\n",
       "    <tr>\n",
       "      <th>5</th>\n",
       "      <td>1000_5</td>\n",
       "      <td>399.97</td>\n",
       "      <td>2018-10-02</td>\n",
       "      <td>1000</td>\n",
       "    </tr>\n",
       "    <tr>\n",
       "      <th>6</th>\n",
       "      <td>1000_6</td>\n",
       "      <td>540.08</td>\n",
       "      <td>2018-09-07</td>\n",
       "      <td>1000</td>\n",
       "    </tr>\n",
       "    <tr>\n",
       "      <th>7</th>\n",
       "      <td>1000_7</td>\n",
       "      <td>415.70</td>\n",
       "      <td>2018-07-11</td>\n",
       "      <td>1000</td>\n",
       "    </tr>\n",
       "    <tr>\n",
       "      <th>8</th>\n",
       "      <td>1000_8</td>\n",
       "      <td>505.40</td>\n",
       "      <td>2018-10-08</td>\n",
       "      <td>1000</td>\n",
       "    </tr>\n",
       "    <tr>\n",
       "      <th>9</th>\n",
       "      <td>1000_9</td>\n",
       "      <td>345.54</td>\n",
       "      <td>2018-09-03</td>\n",
       "      <td>1000</td>\n",
       "    </tr>\n",
       "  </tbody>\n",
       "</table>\n",
       "</div>"
      ],
      "text/plain": [
       "       id  mb_used session_date  user_id\n",
       "0  1000_0   112.95   2018-11-25     1000\n",
       "1  1000_1  1052.81   2018-09-07     1000\n",
       "2  1000_2  1197.26   2018-06-25     1000\n",
       "3  1000_3   550.27   2018-08-22     1000\n",
       "4  1000_4   302.56   2018-09-24     1000\n",
       "5  1000_5   399.97   2018-10-02     1000\n",
       "6  1000_6   540.08   2018-09-07     1000\n",
       "7  1000_7   415.70   2018-07-11     1000\n",
       "8  1000_8   505.40   2018-10-08     1000\n",
       "9  1000_9   345.54   2018-09-03     1000"
      ]
     },
     "execution_count": 10,
     "metadata": {},
     "output_type": "execute_result"
    }
   ],
   "source": [
    "#internet['round_mb_used'] = (internet['mb_used'].apply(np.ceil)).astype('int64')\n",
    "display(internet.info()) #смотрим, что получилось.\n",
    "print ('-' * 50)\n",
    "internet.head(10) "
   ]
  },
  {
   "cell_type": "markdown",
   "metadata": {},
   "source": [
    "Значения исправлены, ~~округлены~~, преведены к нужним типам данных. "
   ]
  },
  {
   "cell_type": "markdown",
   "metadata": {},
   "source": [
    "### Подготовка данных в таблице `messages.csv`"
   ]
  },
  {
   "cell_type": "markdown",
   "metadata": {},
   "source": [
    "Меняем тип данных в столбце `messages['message_date']` с типа `object` на тип `datetime64`:"
   ]
  },
  {
   "cell_type": "code",
   "execution_count": 11,
   "metadata": {},
   "outputs": [
    {
     "name": "stdout",
     "output_type": "stream",
     "text": [
      "<class 'pandas.core.frame.DataFrame'>\n",
      "RangeIndex: 123036 entries, 0 to 123035\n",
      "Data columns (total 3 columns):\n",
      " #   Column        Non-Null Count   Dtype         \n",
      "---  ------        --------------   -----         \n",
      " 0   id            123036 non-null  object        \n",
      " 1   message_date  123036 non-null  datetime64[ns]\n",
      " 2   user_id       123036 non-null  int64         \n",
      "dtypes: datetime64[ns](1), int64(1), object(1)\n",
      "memory usage: 2.8+ MB\n"
     ]
    }
   ],
   "source": [
    "messages['message_date'] = pd.to_datetime(messages['message_date'], format='%Y.%m.%d')\n",
    "messages.info()"
   ]
  },
  {
   "cell_type": "markdown",
   "metadata": {},
   "source": [
    "Значения преведены к нужним типам данных"
   ]
  },
  {
   "cell_type": "markdown",
   "metadata": {},
   "source": [
    "### Подготовка данных в таблице `users.csv`"
   ]
  },
  {
   "cell_type": "markdown",
   "metadata": {},
   "source": [
    "Меняем тип данных в столбце `users['churn_date']` и в столбце `users['reg_date']` с типа `object` на тип `datetime64`:"
   ]
  },
  {
   "cell_type": "code",
   "execution_count": 12,
   "metadata": {},
   "outputs": [
    {
     "name": "stdout",
     "output_type": "stream",
     "text": [
      "<class 'pandas.core.frame.DataFrame'>\n",
      "RangeIndex: 500 entries, 0 to 499\n",
      "Data columns (total 8 columns):\n",
      " #   Column      Non-Null Count  Dtype         \n",
      "---  ------      --------------  -----         \n",
      " 0   user_id     500 non-null    int64         \n",
      " 1   age         500 non-null    int64         \n",
      " 2   churn_date  38 non-null     datetime64[ns]\n",
      " 3   city        500 non-null    object        \n",
      " 4   first_name  500 non-null    object        \n",
      " 5   last_name   500 non-null    object        \n",
      " 6   reg_date    500 non-null    datetime64[ns]\n",
      " 7   tariff      500 non-null    object        \n",
      "dtypes: datetime64[ns](2), int64(2), object(4)\n",
      "memory usage: 31.4+ KB\n"
     ]
    }
   ],
   "source": [
    "users['churn_date'] = pd.to_datetime(users['churn_date'], format='%Y.%m.%d')\n",
    "users['reg_date'] = pd.to_datetime(users['reg_date'], format='%Y.%m.%d')\n",
    "users.info()"
   ]
  },
  {
   "cell_type": "markdown",
   "metadata": {},
   "source": [
    "Значения преведены к нужним типам данных"
   ]
  },
  {
   "cell_type": "markdown",
   "metadata": {},
   "source": [
    "## Расчёт для каждого пользователя"
   ]
  },
  {
   "cell_type": "markdown",
   "metadata": {},
   "source": [
    "### Расчёт количества сделанных звонков и израсходованных минут разговора по месяцам"
   ]
  },
  {
   "cell_type": "markdown",
   "metadata": {},
   "source": [
    "Для расчёта количества сделанных звонков создадим новую таблицу:"
   ]
  },
  {
   "cell_type": "code",
   "execution_count": 13,
   "metadata": {},
   "outputs": [
    {
     "data": {
      "text/html": [
       "<div>\n",
       "<style scoped>\n",
       "    .dataframe tbody tr th:only-of-type {\n",
       "        vertical-align: middle;\n",
       "    }\n",
       "\n",
       "    .dataframe tbody tr th {\n",
       "        vertical-align: top;\n",
       "    }\n",
       "\n",
       "    .dataframe thead th {\n",
       "        text-align: right;\n",
       "    }\n",
       "</style>\n",
       "<table border=\"1\" class=\"dataframe\">\n",
       "  <thead>\n",
       "    <tr style=\"text-align: right;\">\n",
       "      <th></th>\n",
       "      <th></th>\n",
       "      <th>total_minutes</th>\n",
       "      <th>total_calls</th>\n",
       "    </tr>\n",
       "    <tr>\n",
       "      <th>user_id</th>\n",
       "      <th>month</th>\n",
       "      <th></th>\n",
       "      <th></th>\n",
       "    </tr>\n",
       "  </thead>\n",
       "  <tbody>\n",
       "    <tr>\n",
       "      <th rowspan=\"8\" valign=\"top\">1000</th>\n",
       "      <th>5</th>\n",
       "      <td>159</td>\n",
       "      <td>22</td>\n",
       "    </tr>\n",
       "    <tr>\n",
       "      <th>6</th>\n",
       "      <td>172</td>\n",
       "      <td>43</td>\n",
       "    </tr>\n",
       "    <tr>\n",
       "      <th>7</th>\n",
       "      <td>340</td>\n",
       "      <td>47</td>\n",
       "    </tr>\n",
       "    <tr>\n",
       "      <th>8</th>\n",
       "      <td>408</td>\n",
       "      <td>52</td>\n",
       "    </tr>\n",
       "    <tr>\n",
       "      <th>9</th>\n",
       "      <td>466</td>\n",
       "      <td>58</td>\n",
       "    </tr>\n",
       "    <tr>\n",
       "      <th>10</th>\n",
       "      <td>350</td>\n",
       "      <td>57</td>\n",
       "    </tr>\n",
       "    <tr>\n",
       "      <th>11</th>\n",
       "      <td>338</td>\n",
       "      <td>43</td>\n",
       "    </tr>\n",
       "    <tr>\n",
       "      <th>12</th>\n",
       "      <td>333</td>\n",
       "      <td>46</td>\n",
       "    </tr>\n",
       "    <tr>\n",
       "      <th rowspan=\"2\" valign=\"top\">1001</th>\n",
       "      <th>11</th>\n",
       "      <td>430</td>\n",
       "      <td>59</td>\n",
       "    </tr>\n",
       "    <tr>\n",
       "      <th>12</th>\n",
       "      <td>414</td>\n",
       "      <td>63</td>\n",
       "    </tr>\n",
       "    <tr>\n",
       "      <th rowspan=\"7\" valign=\"top\">1002</th>\n",
       "      <th>6</th>\n",
       "      <td>117</td>\n",
       "      <td>15</td>\n",
       "    </tr>\n",
       "    <tr>\n",
       "      <th>7</th>\n",
       "      <td>214</td>\n",
       "      <td>26</td>\n",
       "    </tr>\n",
       "    <tr>\n",
       "      <th>8</th>\n",
       "      <td>289</td>\n",
       "      <td>42</td>\n",
       "    </tr>\n",
       "    <tr>\n",
       "      <th>9</th>\n",
       "      <td>206</td>\n",
       "      <td>36</td>\n",
       "    </tr>\n",
       "    <tr>\n",
       "      <th>10</th>\n",
       "      <td>212</td>\n",
       "      <td>33</td>\n",
       "    </tr>\n",
       "    <tr>\n",
       "      <th>11</th>\n",
       "      <td>243</td>\n",
       "      <td>32</td>\n",
       "    </tr>\n",
       "    <tr>\n",
       "      <th>12</th>\n",
       "      <td>236</td>\n",
       "      <td>33</td>\n",
       "    </tr>\n",
       "    <tr>\n",
       "      <th rowspan=\"3\" valign=\"top\">1003</th>\n",
       "      <th>8</th>\n",
       "      <td>380</td>\n",
       "      <td>55</td>\n",
       "    </tr>\n",
       "    <tr>\n",
       "      <th>9</th>\n",
       "      <td>961</td>\n",
       "      <td>134</td>\n",
       "    </tr>\n",
       "    <tr>\n",
       "      <th>10</th>\n",
       "      <td>855</td>\n",
       "      <td>108</td>\n",
       "    </tr>\n",
       "  </tbody>\n",
       "</table>\n",
       "</div>"
      ],
      "text/plain": [
       "               total_minutes  total_calls\n",
       "user_id month                            \n",
       "1000    5                159           22\n",
       "        6                172           43\n",
       "        7                340           47\n",
       "        8                408           52\n",
       "        9                466           58\n",
       "        10               350           57\n",
       "        11               338           43\n",
       "        12               333           46\n",
       "1001    11               430           59\n",
       "        12               414           63\n",
       "1002    6                117           15\n",
       "        7                214           26\n",
       "        8                289           42\n",
       "        9                206           36\n",
       "        10               212           33\n",
       "        11               243           32\n",
       "        12               236           33\n",
       "1003    8                380           55\n",
       "        9                961          134\n",
       "        10               855          108"
      ]
     },
     "metadata": {},
     "output_type": "display_data"
    },
    {
     "name": "stdout",
     "output_type": "stream",
     "text": [
      "<class 'pandas.core.frame.DataFrame'>\n",
      "MultiIndex: 3174 entries, (1000, 5) to (1499, 12)\n",
      "Data columns (total 2 columns):\n",
      " #   Column         Non-Null Count  Dtype\n",
      "---  ------         --------------  -----\n",
      " 0   total_minutes  3174 non-null   int64\n",
      " 1   total_calls    3174 non-null   int64\n",
      "dtypes: int64(2)\n",
      "memory usage: 62.9 KB\n"
     ]
    }
   ],
   "source": [
    "calls['month'] = calls['call_date'].dt.month #добавляем колонку с месяцами в calls: 1-январь, 12-декабрь\n",
    "func_list = ['sum', 'count'] #создаем список имен функций\n",
    "calls_month = (\n",
    "    calls.groupby(['user_id', 'month']).agg({'round_duration': func_list})\n",
    "               ) #группируем данные по user_id и month и сохраняем их в новую переменную calls_month\n",
    "calls_month.columns = ['total_minutes', 'total_calls'] #присваеваем колонкам новые имена\n",
    "display(calls_month.head(20))\n",
    "calls_month.info()"
   ]
  },
  {
   "cell_type": "markdown",
   "metadata": {},
   "source": [
    "### Расчёт количества отправленных сообщений по месяцам"
   ]
  },
  {
   "cell_type": "markdown",
   "metadata": {},
   "source": [
    "Для расчёта количества отправленных сообщений создадим новую таблицу:"
   ]
  },
  {
   "cell_type": "code",
   "execution_count": 14,
   "metadata": {},
   "outputs": [
    {
     "name": "stdout",
     "output_type": "stream",
     "text": [
      "<class 'pandas.core.frame.DataFrame'>\n",
      "MultiIndex: 2717 entries, (1000, 5) to (1499, 12)\n",
      "Data columns (total 1 columns):\n",
      " #   Column         Non-Null Count  Dtype\n",
      "---  ------         --------------  -----\n",
      " 0   total_message  2717 non-null   int64\n",
      "dtypes: int64(1)\n",
      "memory usage: 32.7 KB\n"
     ]
    },
    {
     "data": {
      "text/plain": [
       "None"
      ]
     },
     "metadata": {},
     "output_type": "display_data"
    },
    {
     "data": {
      "text/html": [
       "<div>\n",
       "<style scoped>\n",
       "    .dataframe tbody tr th:only-of-type {\n",
       "        vertical-align: middle;\n",
       "    }\n",
       "\n",
       "    .dataframe tbody tr th {\n",
       "        vertical-align: top;\n",
       "    }\n",
       "\n",
       "    .dataframe thead th {\n",
       "        text-align: right;\n",
       "    }\n",
       "</style>\n",
       "<table border=\"1\" class=\"dataframe\">\n",
       "  <thead>\n",
       "    <tr style=\"text-align: right;\">\n",
       "      <th></th>\n",
       "      <th></th>\n",
       "      <th>total_message</th>\n",
       "    </tr>\n",
       "    <tr>\n",
       "      <th>user_id</th>\n",
       "      <th>month</th>\n",
       "      <th></th>\n",
       "    </tr>\n",
       "  </thead>\n",
       "  <tbody>\n",
       "    <tr>\n",
       "      <th rowspan=\"5\" valign=\"top\">1000</th>\n",
       "      <th>5</th>\n",
       "      <td>22</td>\n",
       "    </tr>\n",
       "    <tr>\n",
       "      <th>6</th>\n",
       "      <td>60</td>\n",
       "    </tr>\n",
       "    <tr>\n",
       "      <th>7</th>\n",
       "      <td>75</td>\n",
       "    </tr>\n",
       "    <tr>\n",
       "      <th>8</th>\n",
       "      <td>81</td>\n",
       "    </tr>\n",
       "    <tr>\n",
       "      <th>9</th>\n",
       "      <td>57</td>\n",
       "    </tr>\n",
       "  </tbody>\n",
       "</table>\n",
       "</div>"
      ],
      "text/plain": [
       "               total_message\n",
       "user_id month               \n",
       "1000    5                 22\n",
       "        6                 60\n",
       "        7                 75\n",
       "        8                 81\n",
       "        9                 57"
      ]
     },
     "execution_count": 14,
     "metadata": {},
     "output_type": "execute_result"
    }
   ],
   "source": [
    "messages['month'] = messages['message_date'].dt.month #добавляем колонку с месяцами\n",
    "messages_month = (\n",
    "    messages.groupby(['user_id', 'month']).agg({'message_date': 'count'})\n",
    "                 ) #группируем данные по user_id и month и сохраняем их переменную messages_month\n",
    "messages_month.columns = ['total_message'] #присваеваем колонке новое имя\n",
    "display(messages_month.info())\n",
    "messages_month.head()"
   ]
  },
  {
   "cell_type": "markdown",
   "metadata": {},
   "source": [
    "### Расчёт объема израсходованного интернет-трафика по месяцам"
   ]
  },
  {
   "cell_type": "markdown",
   "metadata": {},
   "source": [
    "Для расчёта израсходованного трафика сообщений создадим новую таблицу:"
   ]
  },
  {
   "cell_type": "code",
   "execution_count": 15,
   "metadata": {},
   "outputs": [
    {
     "name": "stdout",
     "output_type": "stream",
     "text": [
      "<class 'pandas.core.frame.DataFrame'>\n",
      "MultiIndex: 3203 entries, (1000, 5) to (1499, 12)\n",
      "Data columns (total 1 columns):\n",
      " #   Column         Non-Null Count  Dtype  \n",
      "---  ------         --------------  -----  \n",
      " 0   total_mb_used  3203 non-null   float64\n",
      "dtypes: float64(1)\n",
      "memory usage: 38.5 KB\n"
     ]
    },
    {
     "data": {
      "text/plain": [
       "None"
      ]
     },
     "metadata": {},
     "output_type": "display_data"
    },
    {
     "data": {
      "text/html": [
       "<div>\n",
       "<style scoped>\n",
       "    .dataframe tbody tr th:only-of-type {\n",
       "        vertical-align: middle;\n",
       "    }\n",
       "\n",
       "    .dataframe tbody tr th {\n",
       "        vertical-align: top;\n",
       "    }\n",
       "\n",
       "    .dataframe thead th {\n",
       "        text-align: right;\n",
       "    }\n",
       "</style>\n",
       "<table border=\"1\" class=\"dataframe\">\n",
       "  <thead>\n",
       "    <tr style=\"text-align: right;\">\n",
       "      <th></th>\n",
       "      <th></th>\n",
       "      <th>total_mb_used</th>\n",
       "    </tr>\n",
       "    <tr>\n",
       "      <th>user_id</th>\n",
       "      <th>month</th>\n",
       "      <th></th>\n",
       "    </tr>\n",
       "  </thead>\n",
       "  <tbody>\n",
       "    <tr>\n",
       "      <th rowspan=\"8\" valign=\"top\">1000</th>\n",
       "      <th>5</th>\n",
       "      <td>2253.49</td>\n",
       "    </tr>\n",
       "    <tr>\n",
       "      <th>6</th>\n",
       "      <td>23233.77</td>\n",
       "    </tr>\n",
       "    <tr>\n",
       "      <th>7</th>\n",
       "      <td>14003.64</td>\n",
       "    </tr>\n",
       "    <tr>\n",
       "      <th>8</th>\n",
       "      <td>14055.93</td>\n",
       "    </tr>\n",
       "    <tr>\n",
       "      <th>9</th>\n",
       "      <td>14568.91</td>\n",
       "    </tr>\n",
       "    <tr>\n",
       "      <th>10</th>\n",
       "      <td>14702.49</td>\n",
       "    </tr>\n",
       "    <tr>\n",
       "      <th>11</th>\n",
       "      <td>14756.47</td>\n",
       "    </tr>\n",
       "    <tr>\n",
       "      <th>12</th>\n",
       "      <td>9817.61</td>\n",
       "    </tr>\n",
       "    <tr>\n",
       "      <th rowspan=\"2\" valign=\"top\">1001</th>\n",
       "      <th>11</th>\n",
       "      <td>18429.34</td>\n",
       "    </tr>\n",
       "    <tr>\n",
       "      <th>12</th>\n",
       "      <td>14036.66</td>\n",
       "    </tr>\n",
       "  </tbody>\n",
       "</table>\n",
       "</div>"
      ],
      "text/plain": [
       "               total_mb_used\n",
       "user_id month               \n",
       "1000    5            2253.49\n",
       "        6           23233.77\n",
       "        7           14003.64\n",
       "        8           14055.93\n",
       "        9           14568.91\n",
       "        10          14702.49\n",
       "        11          14756.47\n",
       "        12           9817.61\n",
       "1001    11          18429.34\n",
       "        12          14036.66"
      ]
     },
     "execution_count": 15,
     "metadata": {},
     "output_type": "execute_result"
    }
   ],
   "source": [
    "internet['month'] = internet['session_date'].dt.month #добавляем колонку с месяцами\n",
    "internet_month = (\n",
    "    internet.groupby(['user_id', 'month']).agg({'mb_used': 'sum'})\n",
    "                 ) #сохраняем данные в переменную internet_month\n",
    "internet_month.columns = ['total_mb_used'] #присваиваем колонке новое имя\n",
    "display(internet_month.info())\n",
    "internet_month.head(10)"
   ]
  },
  {
   "cell_type": "markdown",
   "metadata": {},
   "source": [
    "### Объединение данных"
   ]
  },
  {
   "cell_type": "markdown",
   "metadata": {},
   "source": [
    "Для того, чтобы в дальнейшем было удобно работать, объединим вновь посчитанные в одну таблицу, и объединим её с таблицами `users` и `tariffs`:"
   ]
  },
  {
   "cell_type": "code",
   "execution_count": 16,
   "metadata": {},
   "outputs": [
    {
     "data": {
      "text/html": [
       "<div>\n",
       "<style scoped>\n",
       "    .dataframe tbody tr th:only-of-type {\n",
       "        vertical-align: middle;\n",
       "    }\n",
       "\n",
       "    .dataframe tbody tr th {\n",
       "        vertical-align: top;\n",
       "    }\n",
       "\n",
       "    .dataframe thead th {\n",
       "        text-align: right;\n",
       "    }\n",
       "</style>\n",
       "<table border=\"1\" class=\"dataframe\">\n",
       "  <thead>\n",
       "    <tr style=\"text-align: right;\">\n",
       "      <th></th>\n",
       "      <th>user_id</th>\n",
       "      <th>month</th>\n",
       "      <th>total_minutes</th>\n",
       "      <th>total_calls</th>\n",
       "      <th>total_message</th>\n",
       "      <th>total_mb_used</th>\n",
       "    </tr>\n",
       "  </thead>\n",
       "  <tbody>\n",
       "    <tr>\n",
       "      <th>0</th>\n",
       "      <td>1000</td>\n",
       "      <td>5</td>\n",
       "      <td>159.0</td>\n",
       "      <td>22.0</td>\n",
       "      <td>22.0</td>\n",
       "      <td>2253.49</td>\n",
       "    </tr>\n",
       "    <tr>\n",
       "      <th>1</th>\n",
       "      <td>1000</td>\n",
       "      <td>6</td>\n",
       "      <td>172.0</td>\n",
       "      <td>43.0</td>\n",
       "      <td>60.0</td>\n",
       "      <td>23233.77</td>\n",
       "    </tr>\n",
       "    <tr>\n",
       "      <th>2</th>\n",
       "      <td>1000</td>\n",
       "      <td>7</td>\n",
       "      <td>340.0</td>\n",
       "      <td>47.0</td>\n",
       "      <td>75.0</td>\n",
       "      <td>14003.64</td>\n",
       "    </tr>\n",
       "    <tr>\n",
       "      <th>3</th>\n",
       "      <td>1000</td>\n",
       "      <td>8</td>\n",
       "      <td>408.0</td>\n",
       "      <td>52.0</td>\n",
       "      <td>81.0</td>\n",
       "      <td>14055.93</td>\n",
       "    </tr>\n",
       "    <tr>\n",
       "      <th>4</th>\n",
       "      <td>1000</td>\n",
       "      <td>9</td>\n",
       "      <td>466.0</td>\n",
       "      <td>58.0</td>\n",
       "      <td>57.0</td>\n",
       "      <td>14568.91</td>\n",
       "    </tr>\n",
       "    <tr>\n",
       "      <th>5</th>\n",
       "      <td>1000</td>\n",
       "      <td>10</td>\n",
       "      <td>350.0</td>\n",
       "      <td>57.0</td>\n",
       "      <td>73.0</td>\n",
       "      <td>14702.49</td>\n",
       "    </tr>\n",
       "    <tr>\n",
       "      <th>6</th>\n",
       "      <td>1000</td>\n",
       "      <td>11</td>\n",
       "      <td>338.0</td>\n",
       "      <td>43.0</td>\n",
       "      <td>58.0</td>\n",
       "      <td>14756.47</td>\n",
       "    </tr>\n",
       "    <tr>\n",
       "      <th>7</th>\n",
       "      <td>1000</td>\n",
       "      <td>12</td>\n",
       "      <td>333.0</td>\n",
       "      <td>46.0</td>\n",
       "      <td>70.0</td>\n",
       "      <td>9817.61</td>\n",
       "    </tr>\n",
       "    <tr>\n",
       "      <th>8</th>\n",
       "      <td>1001</td>\n",
       "      <td>11</td>\n",
       "      <td>430.0</td>\n",
       "      <td>59.0</td>\n",
       "      <td>NaN</td>\n",
       "      <td>18429.34</td>\n",
       "    </tr>\n",
       "    <tr>\n",
       "      <th>9</th>\n",
       "      <td>1001</td>\n",
       "      <td>12</td>\n",
       "      <td>414.0</td>\n",
       "      <td>63.0</td>\n",
       "      <td>NaN</td>\n",
       "      <td>14036.66</td>\n",
       "    </tr>\n",
       "    <tr>\n",
       "      <th>10</th>\n",
       "      <td>1002</td>\n",
       "      <td>6</td>\n",
       "      <td>117.0</td>\n",
       "      <td>15.0</td>\n",
       "      <td>4.0</td>\n",
       "      <td>10856.82</td>\n",
       "    </tr>\n",
       "    <tr>\n",
       "      <th>11</th>\n",
       "      <td>1002</td>\n",
       "      <td>7</td>\n",
       "      <td>214.0</td>\n",
       "      <td>26.0</td>\n",
       "      <td>11.0</td>\n",
       "      <td>17580.10</td>\n",
       "    </tr>\n",
       "    <tr>\n",
       "      <th>12</th>\n",
       "      <td>1002</td>\n",
       "      <td>8</td>\n",
       "      <td>289.0</td>\n",
       "      <td>42.0</td>\n",
       "      <td>13.0</td>\n",
       "      <td>20319.26</td>\n",
       "    </tr>\n",
       "    <tr>\n",
       "      <th>13</th>\n",
       "      <td>1002</td>\n",
       "      <td>9</td>\n",
       "      <td>206.0</td>\n",
       "      <td>36.0</td>\n",
       "      <td>4.0</td>\n",
       "      <td>16691.08</td>\n",
       "    </tr>\n",
       "    <tr>\n",
       "      <th>14</th>\n",
       "      <td>1002</td>\n",
       "      <td>10</td>\n",
       "      <td>212.0</td>\n",
       "      <td>33.0</td>\n",
       "      <td>10.0</td>\n",
       "      <td>13888.25</td>\n",
       "    </tr>\n",
       "    <tr>\n",
       "      <th>15</th>\n",
       "      <td>1002</td>\n",
       "      <td>11</td>\n",
       "      <td>243.0</td>\n",
       "      <td>32.0</td>\n",
       "      <td>16.0</td>\n",
       "      <td>18587.28</td>\n",
       "    </tr>\n",
       "    <tr>\n",
       "      <th>16</th>\n",
       "      <td>1002</td>\n",
       "      <td>12</td>\n",
       "      <td>236.0</td>\n",
       "      <td>33.0</td>\n",
       "      <td>12.0</td>\n",
       "      <td>18113.73</td>\n",
       "    </tr>\n",
       "    <tr>\n",
       "      <th>17</th>\n",
       "      <td>1003</td>\n",
       "      <td>8</td>\n",
       "      <td>380.0</td>\n",
       "      <td>55.0</td>\n",
       "      <td>37.0</td>\n",
       "      <td>8565.21</td>\n",
       "    </tr>\n",
       "    <tr>\n",
       "      <th>18</th>\n",
       "      <td>1003</td>\n",
       "      <td>9</td>\n",
       "      <td>961.0</td>\n",
       "      <td>134.0</td>\n",
       "      <td>91.0</td>\n",
       "      <td>12468.87</td>\n",
       "    </tr>\n",
       "    <tr>\n",
       "      <th>19</th>\n",
       "      <td>1003</td>\n",
       "      <td>10</td>\n",
       "      <td>855.0</td>\n",
       "      <td>108.0</td>\n",
       "      <td>83.0</td>\n",
       "      <td>14768.14</td>\n",
       "    </tr>\n",
       "  </tbody>\n",
       "</table>\n",
       "</div>"
      ],
      "text/plain": [
       "    user_id  month  total_minutes  total_calls  total_message  total_mb_used\n",
       "0      1000      5          159.0         22.0           22.0        2253.49\n",
       "1      1000      6          172.0         43.0           60.0       23233.77\n",
       "2      1000      7          340.0         47.0           75.0       14003.64\n",
       "3      1000      8          408.0         52.0           81.0       14055.93\n",
       "4      1000      9          466.0         58.0           57.0       14568.91\n",
       "5      1000     10          350.0         57.0           73.0       14702.49\n",
       "6      1000     11          338.0         43.0           58.0       14756.47\n",
       "7      1000     12          333.0         46.0           70.0        9817.61\n",
       "8      1001     11          430.0         59.0            NaN       18429.34\n",
       "9      1001     12          414.0         63.0            NaN       14036.66\n",
       "10     1002      6          117.0         15.0            4.0       10856.82\n",
       "11     1002      7          214.0         26.0           11.0       17580.10\n",
       "12     1002      8          289.0         42.0           13.0       20319.26\n",
       "13     1002      9          206.0         36.0            4.0       16691.08\n",
       "14     1002     10          212.0         33.0           10.0       13888.25\n",
       "15     1002     11          243.0         32.0           16.0       18587.28\n",
       "16     1002     12          236.0         33.0           12.0       18113.73\n",
       "17     1003      8          380.0         55.0           37.0        8565.21\n",
       "18     1003      9          961.0        134.0           91.0       12468.87\n",
       "19     1003     10          855.0        108.0           83.0       14768.14"
      ]
     },
     "execution_count": 16,
     "metadata": {},
     "output_type": "execute_result"
    }
   ],
   "source": [
    "data = calls_month.join([messages_month, internet_month], how='outer').reset_index()\n",
    "data.head(20)"
   ]
  },
  {
   "cell_type": "markdown",
   "metadata": {},
   "source": [
    "Соединяем   `data` с таблицей `users`, по `user_id`:"
   ]
  },
  {
   "cell_type": "code",
   "execution_count": 17,
   "metadata": {},
   "outputs": [
    {
     "data": {
      "text/html": [
       "<div>\n",
       "<style scoped>\n",
       "    .dataframe tbody tr th:only-of-type {\n",
       "        vertical-align: middle;\n",
       "    }\n",
       "\n",
       "    .dataframe tbody tr th {\n",
       "        vertical-align: top;\n",
       "    }\n",
       "\n",
       "    .dataframe thead th {\n",
       "        text-align: right;\n",
       "    }\n",
       "</style>\n",
       "<table border=\"1\" class=\"dataframe\">\n",
       "  <thead>\n",
       "    <tr style=\"text-align: right;\">\n",
       "      <th></th>\n",
       "      <th>user_id</th>\n",
       "      <th>age</th>\n",
       "      <th>churn_date</th>\n",
       "      <th>city</th>\n",
       "      <th>first_name</th>\n",
       "      <th>last_name</th>\n",
       "      <th>reg_date</th>\n",
       "      <th>tariff</th>\n",
       "      <th>month</th>\n",
       "      <th>total_minutes</th>\n",
       "      <th>total_calls</th>\n",
       "      <th>total_message</th>\n",
       "      <th>total_mb_used</th>\n",
       "    </tr>\n",
       "  </thead>\n",
       "  <tbody>\n",
       "    <tr>\n",
       "      <th>0</th>\n",
       "      <td>1000</td>\n",
       "      <td>52</td>\n",
       "      <td>NaT</td>\n",
       "      <td>Краснодар</td>\n",
       "      <td>Рафаил</td>\n",
       "      <td>Верещагин</td>\n",
       "      <td>2018-05-25</td>\n",
       "      <td>ultra</td>\n",
       "      <td>5.0</td>\n",
       "      <td>159.0</td>\n",
       "      <td>22.0</td>\n",
       "      <td>22.0</td>\n",
       "      <td>2253.49</td>\n",
       "    </tr>\n",
       "    <tr>\n",
       "      <th>1</th>\n",
       "      <td>1000</td>\n",
       "      <td>52</td>\n",
       "      <td>NaT</td>\n",
       "      <td>Краснодар</td>\n",
       "      <td>Рафаил</td>\n",
       "      <td>Верещагин</td>\n",
       "      <td>2018-05-25</td>\n",
       "      <td>ultra</td>\n",
       "      <td>6.0</td>\n",
       "      <td>172.0</td>\n",
       "      <td>43.0</td>\n",
       "      <td>60.0</td>\n",
       "      <td>23233.77</td>\n",
       "    </tr>\n",
       "    <tr>\n",
       "      <th>2</th>\n",
       "      <td>1000</td>\n",
       "      <td>52</td>\n",
       "      <td>NaT</td>\n",
       "      <td>Краснодар</td>\n",
       "      <td>Рафаил</td>\n",
       "      <td>Верещагин</td>\n",
       "      <td>2018-05-25</td>\n",
       "      <td>ultra</td>\n",
       "      <td>7.0</td>\n",
       "      <td>340.0</td>\n",
       "      <td>47.0</td>\n",
       "      <td>75.0</td>\n",
       "      <td>14003.64</td>\n",
       "    </tr>\n",
       "    <tr>\n",
       "      <th>3</th>\n",
       "      <td>1000</td>\n",
       "      <td>52</td>\n",
       "      <td>NaT</td>\n",
       "      <td>Краснодар</td>\n",
       "      <td>Рафаил</td>\n",
       "      <td>Верещагин</td>\n",
       "      <td>2018-05-25</td>\n",
       "      <td>ultra</td>\n",
       "      <td>8.0</td>\n",
       "      <td>408.0</td>\n",
       "      <td>52.0</td>\n",
       "      <td>81.0</td>\n",
       "      <td>14055.93</td>\n",
       "    </tr>\n",
       "    <tr>\n",
       "      <th>4</th>\n",
       "      <td>1000</td>\n",
       "      <td>52</td>\n",
       "      <td>NaT</td>\n",
       "      <td>Краснодар</td>\n",
       "      <td>Рафаил</td>\n",
       "      <td>Верещагин</td>\n",
       "      <td>2018-05-25</td>\n",
       "      <td>ultra</td>\n",
       "      <td>9.0</td>\n",
       "      <td>466.0</td>\n",
       "      <td>58.0</td>\n",
       "      <td>57.0</td>\n",
       "      <td>14568.91</td>\n",
       "    </tr>\n",
       "  </tbody>\n",
       "</table>\n",
       "</div>"
      ],
      "text/plain": [
       "   user_id  age churn_date       city first_name  last_name   reg_date tariff  \\\n",
       "0     1000   52        NaT  Краснодар     Рафаил  Верещагин 2018-05-25  ultra   \n",
       "1     1000   52        NaT  Краснодар     Рафаил  Верещагин 2018-05-25  ultra   \n",
       "2     1000   52        NaT  Краснодар     Рафаил  Верещагин 2018-05-25  ultra   \n",
       "3     1000   52        NaT  Краснодар     Рафаил  Верещагин 2018-05-25  ultra   \n",
       "4     1000   52        NaT  Краснодар     Рафаил  Верещагин 2018-05-25  ultra   \n",
       "\n",
       "   month  total_minutes  total_calls  total_message  total_mb_used  \n",
       "0    5.0          159.0         22.0           22.0        2253.49  \n",
       "1    6.0          172.0         43.0           60.0       23233.77  \n",
       "2    7.0          340.0         47.0           75.0       14003.64  \n",
       "3    8.0          408.0         52.0           81.0       14055.93  \n",
       "4    9.0          466.0         58.0           57.0       14568.91  "
      ]
     },
     "metadata": {},
     "output_type": "display_data"
    }
   ],
   "source": [
    "all_data = users.merge(data, on='user_id', how='outer').reset_index(drop=True)\n",
    "display(all_data.head())"
   ]
  },
  {
   "cell_type": "markdown",
   "metadata": {},
   "source": [
    "Для того, чтобы `all_data` объеденить  с `tariffs` по `tariff`, необходимо переименовать `tariffs['tariff_name']` в `tariffs['tariff']`:"
   ]
  },
  {
   "cell_type": "code",
   "execution_count": 18,
   "metadata": {},
   "outputs": [
    {
     "data": {
      "text/html": [
       "<div>\n",
       "<style scoped>\n",
       "    .dataframe tbody tr th:only-of-type {\n",
       "        vertical-align: middle;\n",
       "    }\n",
       "\n",
       "    .dataframe tbody tr th {\n",
       "        vertical-align: top;\n",
       "    }\n",
       "\n",
       "    .dataframe thead th {\n",
       "        text-align: right;\n",
       "    }\n",
       "</style>\n",
       "<table border=\"1\" class=\"dataframe\">\n",
       "  <thead>\n",
       "    <tr style=\"text-align: right;\">\n",
       "      <th></th>\n",
       "      <th>messages_included</th>\n",
       "      <th>mb_per_month_included</th>\n",
       "      <th>minutes_included</th>\n",
       "      <th>rub_monthly_fee</th>\n",
       "      <th>rub_per_gb</th>\n",
       "      <th>rub_per_message</th>\n",
       "      <th>rub_per_minute</th>\n",
       "      <th>tariff</th>\n",
       "    </tr>\n",
       "  </thead>\n",
       "  <tbody>\n",
       "    <tr>\n",
       "      <th>0</th>\n",
       "      <td>50</td>\n",
       "      <td>15360</td>\n",
       "      <td>500</td>\n",
       "      <td>550</td>\n",
       "      <td>200</td>\n",
       "      <td>3</td>\n",
       "      <td>3</td>\n",
       "      <td>smart</td>\n",
       "    </tr>\n",
       "    <tr>\n",
       "      <th>1</th>\n",
       "      <td>1000</td>\n",
       "      <td>30720</td>\n",
       "      <td>3000</td>\n",
       "      <td>1950</td>\n",
       "      <td>150</td>\n",
       "      <td>1</td>\n",
       "      <td>1</td>\n",
       "      <td>ultra</td>\n",
       "    </tr>\n",
       "  </tbody>\n",
       "</table>\n",
       "</div>"
      ],
      "text/plain": [
       "   messages_included  mb_per_month_included  minutes_included  \\\n",
       "0                 50                  15360               500   \n",
       "1               1000                  30720              3000   \n",
       "\n",
       "   rub_monthly_fee  rub_per_gb  rub_per_message  rub_per_minute tariff  \n",
       "0              550         200                3               3  smart  \n",
       "1             1950         150                1               1  ultra  "
      ]
     },
     "execution_count": 18,
     "metadata": {},
     "output_type": "execute_result"
    }
   ],
   "source": [
    "tariffs.rename(columns={'tariff_name':'tariff'}, inplace = True)\n",
    "tariffs.head()"
   ]
  },
  {
   "cell_type": "markdown",
   "metadata": {},
   "source": [
    "Теперь ничто не мешает `all_data` объеденить  с `tariffs`:"
   ]
  },
  {
   "cell_type": "code",
   "execution_count": 19,
   "metadata": {},
   "outputs": [
    {
     "name": "stdout",
     "output_type": "stream",
     "text": [
      "<class 'pandas.core.frame.DataFrame'>\n",
      "Int64Index: 3216 entries, 0 to 3215\n",
      "Data columns (total 20 columns):\n",
      " #   Column                 Non-Null Count  Dtype         \n",
      "---  ------                 --------------  -----         \n",
      " 0   user_id                3216 non-null   int64         \n",
      " 1   age                    3216 non-null   int64         \n",
      " 2   churn_date             189 non-null    datetime64[ns]\n",
      " 3   city                   3216 non-null   object        \n",
      " 4   first_name             3216 non-null   object        \n",
      " 5   last_name              3216 non-null   object        \n",
      " 6   reg_date               3216 non-null   datetime64[ns]\n",
      " 7   tariff                 3216 non-null   object        \n",
      " 8   month                  3214 non-null   float64       \n",
      " 9   total_minutes          3174 non-null   float64       \n",
      " 10  total_calls            3174 non-null   float64       \n",
      " 11  total_message          2717 non-null   float64       \n",
      " 12  total_mb_used          3203 non-null   float64       \n",
      " 13  messages_included      3216 non-null   int64         \n",
      " 14  mb_per_month_included  3216 non-null   int64         \n",
      " 15  minutes_included       3216 non-null   int64         \n",
      " 16  rub_monthly_fee        3216 non-null   int64         \n",
      " 17  rub_per_gb             3216 non-null   int64         \n",
      " 18  rub_per_message        3216 non-null   int64         \n",
      " 19  rub_per_minute         3216 non-null   int64         \n",
      "dtypes: datetime64[ns](2), float64(5), int64(9), object(4)\n",
      "memory usage: 527.6+ KB\n"
     ]
    }
   ],
   "source": [
    "all_data = all_data.merge(tariffs, on='tariff', how='outer')\n",
    "all_data.info()"
   ]
  },
  {
   "cell_type": "markdown",
   "metadata": {},
   "source": [
    "Мы видим, что в 5 столбцах `all_data['total_minutes', 'total_calls', 'total_message', 'total_mb_used', 'month']` образовались пропуски и тип данных сменился на `float64`. Видимо, при склеивании таблиц занчение \"0\" сменилось на \"nan\". Для того, чтобы исправить эту досадную ошибку, заменим \"nan\" обратно на \"0\", а затем изменим тип данных на `int64`"
   ]
  },
  {
   "cell_type": "code",
   "execution_count": 20,
   "metadata": {},
   "outputs": [
    {
     "name": "stdout",
     "output_type": "stream",
     "text": [
      "<class 'pandas.core.frame.DataFrame'>\n",
      "Int64Index: 3216 entries, 0 to 3215\n",
      "Data columns (total 20 columns):\n",
      " #   Column                 Non-Null Count  Dtype         \n",
      "---  ------                 --------------  -----         \n",
      " 0   user_id                3216 non-null   int64         \n",
      " 1   age                    3216 non-null   int64         \n",
      " 2   churn_date             189 non-null    datetime64[ns]\n",
      " 3   city                   3216 non-null   object        \n",
      " 4   first_name             3216 non-null   object        \n",
      " 5   last_name              3216 non-null   object        \n",
      " 6   reg_date               3216 non-null   datetime64[ns]\n",
      " 7   tariff                 3216 non-null   object        \n",
      " 8   month                  3216 non-null   float64       \n",
      " 9   total_minutes          3216 non-null   float64       \n",
      " 10  total_calls            3216 non-null   float64       \n",
      " 11  total_message          3216 non-null   float64       \n",
      " 12  total_mb_used          3216 non-null   float64       \n",
      " 13  messages_included      3216 non-null   int64         \n",
      " 14  mb_per_month_included  3216 non-null   int64         \n",
      " 15  minutes_included       3216 non-null   int64         \n",
      " 16  rub_monthly_fee        3216 non-null   int64         \n",
      " 17  rub_per_gb             3216 non-null   int64         \n",
      " 18  rub_per_message        3216 non-null   int64         \n",
      " 19  rub_per_minute         3216 non-null   int64         \n",
      "dtypes: datetime64[ns](2), float64(5), int64(9), object(4)\n",
      "memory usage: 527.6+ KB\n"
     ]
    }
   ],
   "source": [
    "#all_data['total_minutes'] = all_data['total_minutes'].fillna(0)\n",
    "#all_data['total_calls'] = all_data['total_calls'].fillna(0)\n",
    "#all_data['total_message'] = all_data['total_message'].fillna(0)\n",
    "#all_data['total_mb_used'] = all_data['total_mb_used'].fillna(0)\n",
    "all_data[['total_mb_used', 'total_message', 'total_calls', 'total_minutes', 'month']]\\\n",
    "= all_data[['total_mb_used', 'total_message', 'total_calls', 'total_minutes', 'month']].fillna(0)\n",
    "all_data.info() #пропусков больше нет"
   ]
  },
  {
   "cell_type": "code",
   "execution_count": 21,
   "metadata": {},
   "outputs": [
    {
     "name": "stdout",
     "output_type": "stream",
     "text": [
      "<class 'pandas.core.frame.DataFrame'>\n",
      "Int64Index: 3216 entries, 0 to 3215\n",
      "Data columns (total 20 columns):\n",
      " #   Column                 Non-Null Count  Dtype         \n",
      "---  ------                 --------------  -----         \n",
      " 0   user_id                3216 non-null   int64         \n",
      " 1   age                    3216 non-null   int64         \n",
      " 2   churn_date             189 non-null    datetime64[ns]\n",
      " 3   city                   3216 non-null   object        \n",
      " 4   first_name             3216 non-null   object        \n",
      " 5   last_name              3216 non-null   object        \n",
      " 6   reg_date               3216 non-null   datetime64[ns]\n",
      " 7   tariff                 3216 non-null   object        \n",
      " 8   month                  3216 non-null   float64       \n",
      " 9   total_minutes          3216 non-null   int64         \n",
      " 10  total_calls            3216 non-null   int64         \n",
      " 11  total_message          3216 non-null   int64         \n",
      " 12  total_mb_used          3216 non-null   int64         \n",
      " 13  messages_included      3216 non-null   int64         \n",
      " 14  mb_per_month_included  3216 non-null   int64         \n",
      " 15  minutes_included       3216 non-null   int64         \n",
      " 16  rub_monthly_fee        3216 non-null   int64         \n",
      " 17  rub_per_gb             3216 non-null   int64         \n",
      " 18  rub_per_message        3216 non-null   int64         \n",
      " 19  rub_per_minute         3216 non-null   int64         \n",
      "dtypes: datetime64[ns](2), float64(1), int64(13), object(4)\n",
      "memory usage: 527.6+ KB\n"
     ]
    }
   ],
   "source": [
    "#all_data['total_minutes', 'total_calls', 'total_message', 'total_mb_used'] = all_data['total_minutes', 'total_calls', 'total_message', 'total_mb_used'].fillna(0)\n",
    "#all_data[['total_minutes', 'total_calls', 'total_message', 'total_mb_used']]\\\n",
    "#= data[['total_minutes', 'total_calls', 'total_message', 'total_mb_used']].astype('int64')\n",
    "#all_data['total_calls'] = data['total_calls'].astype('int64')\n",
    "#all_data['total_calls'].unique()\n",
    "all_data['total_minutes'] = (all_data['total_minutes'].apply(np.ceil)).astype('int64')\n",
    "all_data['total_calls'] = (all_data['total_calls'].apply(np.ceil)).astype('int64')\n",
    "all_data['total_mb_used'] = (all_data['total_mb_used'].apply(np.ceil)).astype('int64')\n",
    "all_data['total_message'] = (all_data['total_message'].apply(np.ceil)).astype('int64')\n",
    "all_data.info()"
   ]
  },
  {
   "cell_type": "markdown",
   "metadata": {},
   "source": [
    "Тип данных изменён"
   ]
  },
  {
   "cell_type": "markdown",
   "metadata": {},
   "source": [
    "Удалим лишние вновьобразованные нули из `all_data['month']`, а значения приведём к типу `int64`:"
   ]
  },
  {
   "cell_type": "code",
   "execution_count": 22,
   "metadata": {},
   "outputs": [
    {
     "name": "stdout",
     "output_type": "stream",
     "text": [
      "<class 'pandas.core.frame.DataFrame'>\n",
      "Int64Index: 3214 entries, 0 to 3215\n",
      "Data columns (total 20 columns):\n",
      " #   Column                 Non-Null Count  Dtype         \n",
      "---  ------                 --------------  -----         \n",
      " 0   user_id                3214 non-null   int64         \n",
      " 1   age                    3214 non-null   int64         \n",
      " 2   churn_date             187 non-null    datetime64[ns]\n",
      " 3   city                   3214 non-null   object        \n",
      " 4   first_name             3214 non-null   object        \n",
      " 5   last_name              3214 non-null   object        \n",
      " 6   reg_date               3214 non-null   datetime64[ns]\n",
      " 7   tariff                 3214 non-null   object        \n",
      " 8   month                  3214 non-null   int64         \n",
      " 9   total_minutes          3214 non-null   int64         \n",
      " 10  total_calls            3214 non-null   int64         \n",
      " 11  total_message          3214 non-null   int64         \n",
      " 12  total_mb_used          3214 non-null   int64         \n",
      " 13  messages_included      3214 non-null   int64         \n",
      " 14  mb_per_month_included  3214 non-null   int64         \n",
      " 15  minutes_included       3214 non-null   int64         \n",
      " 16  rub_monthly_fee        3214 non-null   int64         \n",
      " 17  rub_per_gb             3214 non-null   int64         \n",
      " 18  rub_per_message        3214 non-null   int64         \n",
      " 19  rub_per_minute         3214 non-null   int64         \n",
      "dtypes: datetime64[ns](2), int64(14), object(4)\n",
      "memory usage: 527.3+ KB\n"
     ]
    }
   ],
   "source": [
    "all_data = all_data.query('month != 0') #прощайте нолики, я буду скучать\n",
    "all_data['month'] = all_data['month'].astype('int64')\n",
    "all_data.info() # БИНГО! Замечание Дмитрия устранено"
   ]
  },
  {
   "cell_type": "markdown",
   "metadata": {},
   "source": [
    "### Расчёт помесячной выручки с каждого пользователя "
   ]
  },
  {
   "cell_type": "markdown",
   "metadata": {},
   "source": [
    "Для того, чтобы получить расчёт помесячной выручки с каждого пользователя вычтем бесплатный лимит из суммарного количества звонков, сообщений и интернет-трафика. Далее остаток умножим на значение из тарифного плана, а затем прибавим абонентскую плату, соответствующую тарифному плану. Для этого создадим функцию `revenue`. Она посчитает прибыль с учетом абонентской платы за тариф и перерасхода: по звонкам, сообщениям и интернет трафику. Сложим все это вместе и сохраним в новой колонке."
   ]
  },
  {
   "cell_type": "code",
   "execution_count": 23,
   "metadata": {},
   "outputs": [],
   "source": [
    "def revenue(row):\n",
    "   \n",
    "    revenue = 0\n",
    "    revenue_calls  = 0\n",
    "    revenue_message = 0\n",
    "    revenue_gb_used = 0\n",
    "   \n",
    "    if row['total_minutes'] > row['minutes_included']:\n",
    "        revenue_calls = (row['total_minutes'] - row['minutes_included']) * row['rub_per_minute']\n",
    "   \n",
    "    if row['total_message'] > row['messages_included']:\n",
    "        revenue_message = (row['total_message'] - row['messages_included']) * row['rub_per_message']\n",
    "    if row['total_mb_used'] > row['mb_per_month_included']:\n",
    "        revenue_gb_used = ((np.ceil((row['total_mb_used'] - row['mb_per_month_included'])\n",
    "                                    / 1024)).astype('int64')) * row['rub_per_gb']\n",
    "   \n",
    "   \n",
    "    revenue = row['rub_monthly_fee'] + (revenue_calls + revenue_message + revenue_gb_used)\n",
    "    return revenue\n",
    "all_data['total_revenue'] = all_data.apply(revenue, axis = 1) #создаем новую колонку с общей прибылью в общем датафрейме"
   ]
  },
  {
   "cell_type": "markdown",
   "metadata": {},
   "source": [
    "Для наглядности помесячную прибыль с каждого пользователя сгруппируем и сохраним в отдельную переменную:"
   ]
  },
  {
   "cell_type": "code",
   "execution_count": 24,
   "metadata": {},
   "outputs": [
    {
     "data": {
      "text/html": [
       "<div>\n",
       "<style scoped>\n",
       "    .dataframe tbody tr th:only-of-type {\n",
       "        vertical-align: middle;\n",
       "    }\n",
       "\n",
       "    .dataframe tbody tr th {\n",
       "        vertical-align: top;\n",
       "    }\n",
       "\n",
       "    .dataframe thead th {\n",
       "        text-align: right;\n",
       "    }\n",
       "</style>\n",
       "<table border=\"1\" class=\"dataframe\">\n",
       "  <thead>\n",
       "    <tr style=\"text-align: right;\">\n",
       "      <th></th>\n",
       "      <th></th>\n",
       "      <th>total_revenue</th>\n",
       "    </tr>\n",
       "    <tr>\n",
       "      <th>user_id</th>\n",
       "      <th>month</th>\n",
       "      <th></th>\n",
       "    </tr>\n",
       "  </thead>\n",
       "  <tbody>\n",
       "    <tr>\n",
       "      <th rowspan=\"8\" valign=\"top\">1000</th>\n",
       "      <th>5</th>\n",
       "      <td>1950</td>\n",
       "    </tr>\n",
       "    <tr>\n",
       "      <th>6</th>\n",
       "      <td>1950</td>\n",
       "    </tr>\n",
       "    <tr>\n",
       "      <th>7</th>\n",
       "      <td>1950</td>\n",
       "    </tr>\n",
       "    <tr>\n",
       "      <th>8</th>\n",
       "      <td>1950</td>\n",
       "    </tr>\n",
       "    <tr>\n",
       "      <th>9</th>\n",
       "      <td>1950</td>\n",
       "    </tr>\n",
       "    <tr>\n",
       "      <th>10</th>\n",
       "      <td>1950</td>\n",
       "    </tr>\n",
       "    <tr>\n",
       "      <th>11</th>\n",
       "      <td>1950</td>\n",
       "    </tr>\n",
       "    <tr>\n",
       "      <th>12</th>\n",
       "      <td>1950</td>\n",
       "    </tr>\n",
       "    <tr>\n",
       "      <th rowspan=\"2\" valign=\"top\">1001</th>\n",
       "      <th>11</th>\n",
       "      <td>1150</td>\n",
       "    </tr>\n",
       "    <tr>\n",
       "      <th>12</th>\n",
       "      <td>550</td>\n",
       "    </tr>\n",
       "  </tbody>\n",
       "</table>\n",
       "</div>"
      ],
      "text/plain": [
       "               total_revenue\n",
       "user_id month               \n",
       "1000    5               1950\n",
       "        6               1950\n",
       "        7               1950\n",
       "        8               1950\n",
       "        9               1950\n",
       "        10              1950\n",
       "        11              1950\n",
       "        12              1950\n",
       "1001    11              1150\n",
       "        12               550"
      ]
     },
     "execution_count": 24,
     "metadata": {},
     "output_type": "execute_result"
    }
   ],
   "source": [
    "revenue_month = all_data.groupby(['user_id', 'month']).agg({'total_revenue': 'sum'})\n",
    "revenue_month.head(10)"
   ]
  },
  {
   "cell_type": "markdown",
   "metadata": {},
   "source": [
    "## Анализ данных"
   ]
  },
  {
   "cell_type": "markdown",
   "metadata": {},
   "source": [
    "В текущем разделе мы опишем поведение клиентов оператора, исходя из выборки: сколько минут разговора, сколько сообщений и какой объём интернет-трафика требуется пользователям каждого тарифа в месяц. Посчитаем среднее количество, дисперсию и стандартное отклонение. Построим гистограммы. Опишем  распределения."
   ]
  },
  {
   "cell_type": "markdown",
   "metadata": {},
   "source": [
    "### Расчёт количества минут разговора, сообщений и какой объём интернет-трафика требуется пользователям каждого тарифа в месяц"
   ]
  },
  {
   "cell_type": "markdown",
   "metadata": {},
   "source": [
    "#### Расчёт количества минут разговора"
   ]
  },
  {
   "cell_type": "markdown",
   "metadata": {},
   "source": [
    "Cгруппируем общую таблицу по двум колонкам: `all_data['month']` и `all_data['tariff']`, и сохраняем в переменную `calls_month_tariff`:"
   ]
  },
  {
   "cell_type": "code",
   "execution_count": 25,
   "metadata": {},
   "outputs": [
    {
     "data": {
      "text/html": [
       "<div>\n",
       "<style scoped>\n",
       "    .dataframe tbody tr th:only-of-type {\n",
       "        vertical-align: middle;\n",
       "    }\n",
       "\n",
       "    .dataframe tbody tr th {\n",
       "        vertical-align: top;\n",
       "    }\n",
       "\n",
       "    .dataframe thead th {\n",
       "        text-align: right;\n",
       "    }\n",
       "</style>\n",
       "<table border=\"1\" class=\"dataframe\">\n",
       "  <thead>\n",
       "    <tr style=\"text-align: right;\">\n",
       "      <th></th>\n",
       "      <th></th>\n",
       "      <th>total_minutes</th>\n",
       "    </tr>\n",
       "    <tr>\n",
       "      <th>month</th>\n",
       "      <th>tariff</th>\n",
       "      <th></th>\n",
       "    </tr>\n",
       "  </thead>\n",
       "  <tbody>\n",
       "    <tr>\n",
       "      <th rowspan=\"2\" valign=\"top\">1</th>\n",
       "      <th>smart</th>\n",
       "      <td>6931</td>\n",
       "    </tr>\n",
       "    <tr>\n",
       "      <th>ultra</th>\n",
       "      <td>3853</td>\n",
       "    </tr>\n",
       "    <tr>\n",
       "      <th rowspan=\"2\" valign=\"top\">2</th>\n",
       "      <th>smart</th>\n",
       "      <td>17324</td>\n",
       "    </tr>\n",
       "    <tr>\n",
       "      <th>ultra</th>\n",
       "      <td>7131</td>\n",
       "    </tr>\n",
       "    <tr>\n",
       "      <th rowspan=\"2\" valign=\"top\">3</th>\n",
       "      <th>smart</th>\n",
       "      <td>30034</td>\n",
       "    </tr>\n",
       "    <tr>\n",
       "      <th>ultra</th>\n",
       "      <td>18117</td>\n",
       "    </tr>\n",
       "    <tr>\n",
       "      <th rowspan=\"2\" valign=\"top\">4</th>\n",
       "      <th>smart</th>\n",
       "      <td>41119</td>\n",
       "    </tr>\n",
       "    <tr>\n",
       "      <th>ultra</th>\n",
       "      <td>25191</td>\n",
       "    </tr>\n",
       "    <tr>\n",
       "      <th rowspan=\"2\" valign=\"top\">5</th>\n",
       "      <th>smart</th>\n",
       "      <td>54618</td>\n",
       "    </tr>\n",
       "    <tr>\n",
       "      <th>ultra</th>\n",
       "      <td>34192</td>\n",
       "    </tr>\n",
       "    <tr>\n",
       "      <th rowspan=\"2\" valign=\"top\">6</th>\n",
       "      <th>smart</th>\n",
       "      <td>64885</td>\n",
       "    </tr>\n",
       "    <tr>\n",
       "      <th>ultra</th>\n",
       "      <td>40295</td>\n",
       "    </tr>\n",
       "    <tr>\n",
       "      <th rowspan=\"2\" valign=\"top\">7</th>\n",
       "      <th>smart</th>\n",
       "      <td>82079</td>\n",
       "    </tr>\n",
       "    <tr>\n",
       "      <th>ultra</th>\n",
       "      <td>49667</td>\n",
       "    </tr>\n",
       "    <tr>\n",
       "      <th rowspan=\"2\" valign=\"top\">8</th>\n",
       "      <th>smart</th>\n",
       "      <td>99045</td>\n",
       "    </tr>\n",
       "    <tr>\n",
       "      <th>ultra</th>\n",
       "      <td>54653</td>\n",
       "    </tr>\n",
       "    <tr>\n",
       "      <th rowspan=\"2\" valign=\"top\">9</th>\n",
       "      <th>smart</th>\n",
       "      <td>111439</td>\n",
       "    </tr>\n",
       "    <tr>\n",
       "      <th>ultra</th>\n",
       "      <td>62036</td>\n",
       "    </tr>\n",
       "    <tr>\n",
       "      <th rowspan=\"2\" valign=\"top\">10</th>\n",
       "      <th>smart</th>\n",
       "      <td>125284</td>\n",
       "    </tr>\n",
       "    <tr>\n",
       "      <th>ultra</th>\n",
       "      <td>68644</td>\n",
       "    </tr>\n",
       "    <tr>\n",
       "      <th rowspan=\"2\" valign=\"top\">11</th>\n",
       "      <th>smart</th>\n",
       "      <td>137544</td>\n",
       "    </tr>\n",
       "    <tr>\n",
       "      <th>ultra</th>\n",
       "      <td>72545</td>\n",
       "    </tr>\n",
       "    <tr>\n",
       "      <th rowspan=\"2\" valign=\"top\">12</th>\n",
       "      <th>smart</th>\n",
       "      <td>161275</td>\n",
       "    </tr>\n",
       "    <tr>\n",
       "      <th>ultra</th>\n",
       "      <td>82400</td>\n",
       "    </tr>\n",
       "  </tbody>\n",
       "</table>\n",
       "</div>"
      ],
      "text/plain": [
       "              total_minutes\n",
       "month tariff               \n",
       "1     smart            6931\n",
       "      ultra            3853\n",
       "2     smart           17324\n",
       "      ultra            7131\n",
       "3     smart           30034\n",
       "      ultra           18117\n",
       "4     smart           41119\n",
       "      ultra           25191\n",
       "5     smart           54618\n",
       "      ultra           34192\n",
       "6     smart           64885\n",
       "      ultra           40295\n",
       "7     smart           82079\n",
       "      ultra           49667\n",
       "8     smart           99045\n",
       "      ultra           54653\n",
       "9     smart          111439\n",
       "      ultra           62036\n",
       "10    smart          125284\n",
       "      ultra           68644\n",
       "11    smart          137544\n",
       "      ultra           72545\n",
       "12    smart          161275\n",
       "      ultra           82400"
      ]
     },
     "execution_count": 25,
     "metadata": {},
     "output_type": "execute_result"
    }
   ],
   "source": [
    "calls_month_tariff = all_data.groupby(['month', 'tariff']).agg({'total_minutes': 'sum'})\n",
    "calls_month_tariff"
   ]
  },
  {
   "cell_type": "markdown",
   "metadata": {},
   "source": [
    "#### Расчёт количества сообщений"
   ]
  },
  {
   "cell_type": "markdown",
   "metadata": {},
   "source": [
    "Cгруппируем общую таблицу по двум колонкам: `all_data['month']` и `all_data['tariff']`, и сохраняем в переменную `messages_month_tariff`:"
   ]
  },
  {
   "cell_type": "code",
   "execution_count": 26,
   "metadata": {},
   "outputs": [
    {
     "data": {
      "text/html": [
       "<div>\n",
       "<style scoped>\n",
       "    .dataframe tbody tr th:only-of-type {\n",
       "        vertical-align: middle;\n",
       "    }\n",
       "\n",
       "    .dataframe tbody tr th {\n",
       "        vertical-align: top;\n",
       "    }\n",
       "\n",
       "    .dataframe thead th {\n",
       "        text-align: right;\n",
       "    }\n",
       "</style>\n",
       "<table border=\"1\" class=\"dataframe\">\n",
       "  <thead>\n",
       "    <tr style=\"text-align: right;\">\n",
       "      <th></th>\n",
       "      <th></th>\n",
       "      <th>total_message</th>\n",
       "    </tr>\n",
       "    <tr>\n",
       "      <th>month</th>\n",
       "      <th>tariff</th>\n",
       "      <th></th>\n",
       "    </tr>\n",
       "  </thead>\n",
       "  <tbody>\n",
       "    <tr>\n",
       "      <th rowspan=\"2\" valign=\"top\">1</th>\n",
       "      <th>smart</th>\n",
       "      <td>620</td>\n",
       "    </tr>\n",
       "    <tr>\n",
       "      <th>ultra</th>\n",
       "      <td>304</td>\n",
       "    </tr>\n",
       "    <tr>\n",
       "      <th rowspan=\"2\" valign=\"top\">2</th>\n",
       "      <th>smart</th>\n",
       "      <td>1397</td>\n",
       "    </tr>\n",
       "    <tr>\n",
       "      <th>ultra</th>\n",
       "      <td>527</td>\n",
       "    </tr>\n",
       "    <tr>\n",
       "      <th rowspan=\"2\" valign=\"top\">3</th>\n",
       "      <th>smart</th>\n",
       "      <td>2453</td>\n",
       "    </tr>\n",
       "    <tr>\n",
       "      <th>ultra</th>\n",
       "      <td>1195</td>\n",
       "    </tr>\n",
       "    <tr>\n",
       "      <th rowspan=\"2\" valign=\"top\">4</th>\n",
       "      <th>smart</th>\n",
       "      <td>3443</td>\n",
       "    </tr>\n",
       "    <tr>\n",
       "      <th>ultra</th>\n",
       "      <td>1736</td>\n",
       "    </tr>\n",
       "    <tr>\n",
       "      <th rowspan=\"2\" valign=\"top\">5</th>\n",
       "      <th>smart</th>\n",
       "      <td>4762</td>\n",
       "    </tr>\n",
       "    <tr>\n",
       "      <th>ultra</th>\n",
       "      <td>2536</td>\n",
       "    </tr>\n",
       "    <tr>\n",
       "      <th rowspan=\"2\" valign=\"top\">6</th>\n",
       "      <th>smart</th>\n",
       "      <td>5478</td>\n",
       "    </tr>\n",
       "    <tr>\n",
       "      <th>ultra</th>\n",
       "      <td>3505</td>\n",
       "    </tr>\n",
       "    <tr>\n",
       "      <th rowspan=\"2\" valign=\"top\">7</th>\n",
       "      <th>smart</th>\n",
       "      <td>6784</td>\n",
       "    </tr>\n",
       "    <tr>\n",
       "      <th>ultra</th>\n",
       "      <td>4536</td>\n",
       "    </tr>\n",
       "    <tr>\n",
       "      <th rowspan=\"2\" valign=\"top\">8</th>\n",
       "      <th>smart</th>\n",
       "      <td>7905</td>\n",
       "    </tr>\n",
       "    <tr>\n",
       "      <th>ultra</th>\n",
       "      <td>5183</td>\n",
       "    </tr>\n",
       "    <tr>\n",
       "      <th rowspan=\"2\" valign=\"top\">9</th>\n",
       "      <th>smart</th>\n",
       "      <td>8746</td>\n",
       "    </tr>\n",
       "    <tr>\n",
       "      <th>ultra</th>\n",
       "      <td>6013</td>\n",
       "    </tr>\n",
       "    <tr>\n",
       "      <th rowspan=\"2\" valign=\"top\">10</th>\n",
       "      <th>smart</th>\n",
       "      <td>9927</td>\n",
       "    </tr>\n",
       "    <tr>\n",
       "      <th>ultra</th>\n",
       "      <td>7187</td>\n",
       "    </tr>\n",
       "    <tr>\n",
       "      <th rowspan=\"2\" valign=\"top\">11</th>\n",
       "      <th>smart</th>\n",
       "      <td>10768</td>\n",
       "    </tr>\n",
       "    <tr>\n",
       "      <th>ultra</th>\n",
       "      <td>7476</td>\n",
       "    </tr>\n",
       "    <tr>\n",
       "      <th rowspan=\"2\" valign=\"top\">12</th>\n",
       "      <th>smart</th>\n",
       "      <td>12130</td>\n",
       "    </tr>\n",
       "    <tr>\n",
       "      <th>ultra</th>\n",
       "      <td>8425</td>\n",
       "    </tr>\n",
       "  </tbody>\n",
       "</table>\n",
       "</div>"
      ],
      "text/plain": [
       "              total_message\n",
       "month tariff               \n",
       "1     smart             620\n",
       "      ultra             304\n",
       "2     smart            1397\n",
       "      ultra             527\n",
       "3     smart            2453\n",
       "      ultra            1195\n",
       "4     smart            3443\n",
       "      ultra            1736\n",
       "5     smart            4762\n",
       "      ultra            2536\n",
       "6     smart            5478\n",
       "      ultra            3505\n",
       "7     smart            6784\n",
       "      ultra            4536\n",
       "8     smart            7905\n",
       "      ultra            5183\n",
       "9     smart            8746\n",
       "      ultra            6013\n",
       "10    smart            9927\n",
       "      ultra            7187\n",
       "11    smart           10768\n",
       "      ultra            7476\n",
       "12    smart           12130\n",
       "      ultra            8425"
      ]
     },
     "execution_count": 26,
     "metadata": {},
     "output_type": "execute_result"
    }
   ],
   "source": [
    "message_month_tariff = all_data.groupby(['month', 'tariff']).agg({'total_message': 'sum'})\n",
    "message_month_tariff"
   ]
  },
  {
   "cell_type": "markdown",
   "metadata": {},
   "source": [
    "#### Расчёт объёма интернет трафика"
   ]
  },
  {
   "cell_type": "markdown",
   "metadata": {},
   "source": [
    "Cгруппируем общую таблицу по двум колонкам: all_data['month'] и all_data['tariff'], и сохраняем в переменную internet_month_tariff:"
   ]
  },
  {
   "cell_type": "code",
   "execution_count": 27,
   "metadata": {},
   "outputs": [
    {
     "data": {
      "text/html": [
       "<div>\n",
       "<style scoped>\n",
       "    .dataframe tbody tr th:only-of-type {\n",
       "        vertical-align: middle;\n",
       "    }\n",
       "\n",
       "    .dataframe tbody tr th {\n",
       "        vertical-align: top;\n",
       "    }\n",
       "\n",
       "    .dataframe thead th {\n",
       "        text-align: right;\n",
       "    }\n",
       "</style>\n",
       "<table border=\"1\" class=\"dataframe\">\n",
       "  <thead>\n",
       "    <tr style=\"text-align: right;\">\n",
       "      <th></th>\n",
       "      <th></th>\n",
       "      <th>total_mb_used</th>\n",
       "    </tr>\n",
       "    <tr>\n",
       "      <th>month</th>\n",
       "      <th>tariff</th>\n",
       "      <th></th>\n",
       "    </tr>\n",
       "  </thead>\n",
       "  <tbody>\n",
       "    <tr>\n",
       "      <th rowspan=\"2\" valign=\"top\">1</th>\n",
       "      <th>smart</th>\n",
       "      <td>289482</td>\n",
       "    </tr>\n",
       "    <tr>\n",
       "      <th>ultra</th>\n",
       "      <td>118272</td>\n",
       "    </tr>\n",
       "    <tr>\n",
       "      <th rowspan=\"2\" valign=\"top\">2</th>\n",
       "      <th>smart</th>\n",
       "      <td>672656</td>\n",
       "    </tr>\n",
       "    <tr>\n",
       "      <th>ultra</th>\n",
       "      <td>282632</td>\n",
       "    </tr>\n",
       "    <tr>\n",
       "      <th rowspan=\"2\" valign=\"top\">3</th>\n",
       "      <th>smart</th>\n",
       "      <td>1163058</td>\n",
       "    </tr>\n",
       "    <tr>\n",
       "      <th>ultra</th>\n",
       "      <td>648835</td>\n",
       "    </tr>\n",
       "    <tr>\n",
       "      <th rowspan=\"2\" valign=\"top\">4</th>\n",
       "      <th>smart</th>\n",
       "      <td>1507817</td>\n",
       "    </tr>\n",
       "    <tr>\n",
       "      <th>ultra</th>\n",
       "      <td>925574</td>\n",
       "    </tr>\n",
       "    <tr>\n",
       "      <th rowspan=\"2\" valign=\"top\">5</th>\n",
       "      <th>smart</th>\n",
       "      <td>2228598</td>\n",
       "    </tr>\n",
       "    <tr>\n",
       "      <th>ultra</th>\n",
       "      <td>1297366</td>\n",
       "    </tr>\n",
       "    <tr>\n",
       "      <th rowspan=\"2\" valign=\"top\">6</th>\n",
       "      <th>smart</th>\n",
       "      <td>2590405</td>\n",
       "    </tr>\n",
       "    <tr>\n",
       "      <th>ultra</th>\n",
       "      <td>1589735</td>\n",
       "    </tr>\n",
       "    <tr>\n",
       "      <th rowspan=\"2\" valign=\"top\">7</th>\n",
       "      <th>smart</th>\n",
       "      <td>3164469</td>\n",
       "    </tr>\n",
       "    <tr>\n",
       "      <th>ultra</th>\n",
       "      <td>1865150</td>\n",
       "    </tr>\n",
       "    <tr>\n",
       "      <th rowspan=\"2\" valign=\"top\">8</th>\n",
       "      <th>smart</th>\n",
       "      <td>3903634</td>\n",
       "    </tr>\n",
       "    <tr>\n",
       "      <th>ultra</th>\n",
       "      <td>2094693</td>\n",
       "    </tr>\n",
       "    <tr>\n",
       "      <th rowspan=\"2\" valign=\"top\">9</th>\n",
       "      <th>smart</th>\n",
       "      <td>4239065</td>\n",
       "    </tr>\n",
       "    <tr>\n",
       "      <th>ultra</th>\n",
       "      <td>2208549</td>\n",
       "    </tr>\n",
       "    <tr>\n",
       "      <th rowspan=\"2\" valign=\"top\">10</th>\n",
       "      <th>smart</th>\n",
       "      <td>4926730</td>\n",
       "    </tr>\n",
       "    <tr>\n",
       "      <th>ultra</th>\n",
       "      <td>2465640</td>\n",
       "    </tr>\n",
       "    <tr>\n",
       "      <th rowspan=\"2\" valign=\"top\">11</th>\n",
       "      <th>smart</th>\n",
       "      <td>5339197</td>\n",
       "    </tr>\n",
       "    <tr>\n",
       "      <th>ultra</th>\n",
       "      <td>2651500</td>\n",
       "    </tr>\n",
       "    <tr>\n",
       "      <th rowspan=\"2\" valign=\"top\">12</th>\n",
       "      <th>smart</th>\n",
       "      <td>6104468</td>\n",
       "    </tr>\n",
       "    <tr>\n",
       "      <th>ultra</th>\n",
       "      <td>3029323</td>\n",
       "    </tr>\n",
       "  </tbody>\n",
       "</table>\n",
       "</div>"
      ],
      "text/plain": [
       "              total_mb_used\n",
       "month tariff               \n",
       "1     smart          289482\n",
       "      ultra          118272\n",
       "2     smart          672656\n",
       "      ultra          282632\n",
       "3     smart         1163058\n",
       "      ultra          648835\n",
       "4     smart         1507817\n",
       "      ultra          925574\n",
       "5     smart         2228598\n",
       "      ultra         1297366\n",
       "6     smart         2590405\n",
       "      ultra         1589735\n",
       "7     smart         3164469\n",
       "      ultra         1865150\n",
       "8     smart         3903634\n",
       "      ultra         2094693\n",
       "9     smart         4239065\n",
       "      ultra         2208549\n",
       "10    smart         4926730\n",
       "      ultra         2465640\n",
       "11    smart         5339197\n",
       "      ultra         2651500\n",
       "12    smart         6104468\n",
       "      ultra         3029323"
      ]
     },
     "execution_count": 27,
     "metadata": {},
     "output_type": "execute_result"
    }
   ],
   "source": [
    "internet_month_tariff = all_data.groupby(['month', 'tariff']).agg({'total_mb_used': 'sum'})\n",
    "internet_month_tariff"
   ]
  },
  {
   "cell_type": "markdown",
   "metadata": {},
   "source": [
    "#### Объединение данных"
   ]
  },
  {
   "cell_type": "markdown",
   "metadata": {},
   "source": [
    "Для наглядности объединяем 3 полученные таблица в одну `total_month_join`:"
   ]
  },
  {
   "cell_type": "code",
   "execution_count": 28,
   "metadata": {},
   "outputs": [
    {
     "data": {
      "text/html": [
       "<div>\n",
       "<style scoped>\n",
       "    .dataframe tbody tr th:only-of-type {\n",
       "        vertical-align: middle;\n",
       "    }\n",
       "\n",
       "    .dataframe tbody tr th {\n",
       "        vertical-align: top;\n",
       "    }\n",
       "\n",
       "    .dataframe thead th {\n",
       "        text-align: right;\n",
       "    }\n",
       "</style>\n",
       "<table border=\"1\" class=\"dataframe\">\n",
       "  <thead>\n",
       "    <tr style=\"text-align: right;\">\n",
       "      <th></th>\n",
       "      <th></th>\n",
       "      <th>total_minutes</th>\n",
       "      <th>total_message</th>\n",
       "      <th>total_mb_used</th>\n",
       "    </tr>\n",
       "    <tr>\n",
       "      <th>month</th>\n",
       "      <th>tariff</th>\n",
       "      <th></th>\n",
       "      <th></th>\n",
       "      <th></th>\n",
       "    </tr>\n",
       "  </thead>\n",
       "  <tbody>\n",
       "    <tr>\n",
       "      <th rowspan=\"2\" valign=\"top\">1</th>\n",
       "      <th>smart</th>\n",
       "      <td>6931</td>\n",
       "      <td>620</td>\n",
       "      <td>289482</td>\n",
       "    </tr>\n",
       "    <tr>\n",
       "      <th>ultra</th>\n",
       "      <td>3853</td>\n",
       "      <td>304</td>\n",
       "      <td>118272</td>\n",
       "    </tr>\n",
       "    <tr>\n",
       "      <th rowspan=\"2\" valign=\"top\">2</th>\n",
       "      <th>smart</th>\n",
       "      <td>17324</td>\n",
       "      <td>1397</td>\n",
       "      <td>672656</td>\n",
       "    </tr>\n",
       "    <tr>\n",
       "      <th>ultra</th>\n",
       "      <td>7131</td>\n",
       "      <td>527</td>\n",
       "      <td>282632</td>\n",
       "    </tr>\n",
       "    <tr>\n",
       "      <th rowspan=\"2\" valign=\"top\">3</th>\n",
       "      <th>smart</th>\n",
       "      <td>30034</td>\n",
       "      <td>2453</td>\n",
       "      <td>1163058</td>\n",
       "    </tr>\n",
       "    <tr>\n",
       "      <th>ultra</th>\n",
       "      <td>18117</td>\n",
       "      <td>1195</td>\n",
       "      <td>648835</td>\n",
       "    </tr>\n",
       "    <tr>\n",
       "      <th rowspan=\"2\" valign=\"top\">4</th>\n",
       "      <th>smart</th>\n",
       "      <td>41119</td>\n",
       "      <td>3443</td>\n",
       "      <td>1507817</td>\n",
       "    </tr>\n",
       "    <tr>\n",
       "      <th>ultra</th>\n",
       "      <td>25191</td>\n",
       "      <td>1736</td>\n",
       "      <td>925574</td>\n",
       "    </tr>\n",
       "    <tr>\n",
       "      <th rowspan=\"2\" valign=\"top\">5</th>\n",
       "      <th>smart</th>\n",
       "      <td>54618</td>\n",
       "      <td>4762</td>\n",
       "      <td>2228598</td>\n",
       "    </tr>\n",
       "    <tr>\n",
       "      <th>ultra</th>\n",
       "      <td>34192</td>\n",
       "      <td>2536</td>\n",
       "      <td>1297366</td>\n",
       "    </tr>\n",
       "    <tr>\n",
       "      <th rowspan=\"2\" valign=\"top\">6</th>\n",
       "      <th>smart</th>\n",
       "      <td>64885</td>\n",
       "      <td>5478</td>\n",
       "      <td>2590405</td>\n",
       "    </tr>\n",
       "    <tr>\n",
       "      <th>ultra</th>\n",
       "      <td>40295</td>\n",
       "      <td>3505</td>\n",
       "      <td>1589735</td>\n",
       "    </tr>\n",
       "    <tr>\n",
       "      <th rowspan=\"2\" valign=\"top\">7</th>\n",
       "      <th>smart</th>\n",
       "      <td>82079</td>\n",
       "      <td>6784</td>\n",
       "      <td>3164469</td>\n",
       "    </tr>\n",
       "    <tr>\n",
       "      <th>ultra</th>\n",
       "      <td>49667</td>\n",
       "      <td>4536</td>\n",
       "      <td>1865150</td>\n",
       "    </tr>\n",
       "    <tr>\n",
       "      <th rowspan=\"2\" valign=\"top\">8</th>\n",
       "      <th>smart</th>\n",
       "      <td>99045</td>\n",
       "      <td>7905</td>\n",
       "      <td>3903634</td>\n",
       "    </tr>\n",
       "    <tr>\n",
       "      <th>ultra</th>\n",
       "      <td>54653</td>\n",
       "      <td>5183</td>\n",
       "      <td>2094693</td>\n",
       "    </tr>\n",
       "    <tr>\n",
       "      <th rowspan=\"2\" valign=\"top\">9</th>\n",
       "      <th>smart</th>\n",
       "      <td>111439</td>\n",
       "      <td>8746</td>\n",
       "      <td>4239065</td>\n",
       "    </tr>\n",
       "    <tr>\n",
       "      <th>ultra</th>\n",
       "      <td>62036</td>\n",
       "      <td>6013</td>\n",
       "      <td>2208549</td>\n",
       "    </tr>\n",
       "    <tr>\n",
       "      <th rowspan=\"2\" valign=\"top\">10</th>\n",
       "      <th>smart</th>\n",
       "      <td>125284</td>\n",
       "      <td>9927</td>\n",
       "      <td>4926730</td>\n",
       "    </tr>\n",
       "    <tr>\n",
       "      <th>ultra</th>\n",
       "      <td>68644</td>\n",
       "      <td>7187</td>\n",
       "      <td>2465640</td>\n",
       "    </tr>\n",
       "    <tr>\n",
       "      <th rowspan=\"2\" valign=\"top\">11</th>\n",
       "      <th>smart</th>\n",
       "      <td>137544</td>\n",
       "      <td>10768</td>\n",
       "      <td>5339197</td>\n",
       "    </tr>\n",
       "    <tr>\n",
       "      <th>ultra</th>\n",
       "      <td>72545</td>\n",
       "      <td>7476</td>\n",
       "      <td>2651500</td>\n",
       "    </tr>\n",
       "    <tr>\n",
       "      <th rowspan=\"2\" valign=\"top\">12</th>\n",
       "      <th>smart</th>\n",
       "      <td>161275</td>\n",
       "      <td>12130</td>\n",
       "      <td>6104468</td>\n",
       "    </tr>\n",
       "    <tr>\n",
       "      <th>ultra</th>\n",
       "      <td>82400</td>\n",
       "      <td>8425</td>\n",
       "      <td>3029323</td>\n",
       "    </tr>\n",
       "  </tbody>\n",
       "</table>\n",
       "</div>"
      ],
      "text/plain": [
       "              total_minutes  total_message  total_mb_used\n",
       "month tariff                                             \n",
       "1     smart            6931            620         289482\n",
       "      ultra            3853            304         118272\n",
       "2     smart           17324           1397         672656\n",
       "      ultra            7131            527         282632\n",
       "3     smart           30034           2453        1163058\n",
       "      ultra           18117           1195         648835\n",
       "4     smart           41119           3443        1507817\n",
       "      ultra           25191           1736         925574\n",
       "5     smart           54618           4762        2228598\n",
       "      ultra           34192           2536        1297366\n",
       "6     smart           64885           5478        2590405\n",
       "      ultra           40295           3505        1589735\n",
       "7     smart           82079           6784        3164469\n",
       "      ultra           49667           4536        1865150\n",
       "8     smart           99045           7905        3903634\n",
       "      ultra           54653           5183        2094693\n",
       "9     smart          111439           8746        4239065\n",
       "      ultra           62036           6013        2208549\n",
       "10    smart          125284           9927        4926730\n",
       "      ultra           68644           7187        2465640\n",
       "11    smart          137544          10768        5339197\n",
       "      ultra           72545           7476        2651500\n",
       "12    smart          161275          12130        6104468\n",
       "      ultra           82400           8425        3029323"
      ]
     },
     "execution_count": 28,
     "metadata": {},
     "output_type": "execute_result"
    }
   ],
   "source": [
    "total_month_join = calls_month_tariff.merge(message_month_tariff, on=['month', 'tariff'], how='outer')\n",
    "total_month_join = total_month_join.merge(internet_month_tariff, on=['month', 'tariff'], how='outer')\n",
    "total_month_join"
   ]
  },
  {
   "cell_type": "markdown",
   "metadata": {},
   "source": [
    "### Рассчёт среднего, дисперсии и стандартного отклонения"
   ]
  },
  {
   "cell_type": "markdown",
   "metadata": {},
   "source": [
    "#### Расчёт параметров по количеству минут по каждому тарифу:"
   ]
  },
  {
   "cell_type": "code",
   "execution_count": 29,
   "metadata": {},
   "outputs": [
    {
     "name": "stdout",
     "output_type": "stream",
     "text": [
      "Среднее по количеству минут:\n"
     ]
    },
    {
     "data": {
      "text/plain": [
       "tariff\n",
       "smart    417.934948\n",
       "ultra    526.623350\n",
       "Name: total_minutes, dtype: float64"
      ]
     },
     "metadata": {},
     "output_type": "display_data"
    },
    {
     "name": "stdout",
     "output_type": "stream",
     "text": [
      "-----------------------------------\n",
      "\n",
      "Дисперсия:\n"
     ]
    },
    {
     "data": {
      "text/plain": [
       "tariff\n",
       "smart     36219.315784\n",
       "ultra    100873.633397\n",
       "Name: total_minutes, dtype: float64"
      ]
     },
     "metadata": {},
     "output_type": "display_data"
    },
    {
     "name": "stdout",
     "output_type": "stream",
     "text": [
      "-----------------------------------\n",
      "\n",
      "Стандартное отклонение:\n"
     ]
    },
    {
     "data": {
      "text/plain": [
       "tariff\n",
       "smart    190.313730\n",
       "ultra    317.606098\n",
       "Name: total_minutes, dtype: float64"
      ]
     },
     "metadata": {},
     "output_type": "display_data"
    }
   ],
   "source": [
    "print('Среднее по количеству минут:')\n",
    "display(all_data.groupby('tariff')['total_minutes'].mean())#.astype('int'))\n",
    "print('-' * 35)\n",
    "print ()\n",
    "print('Дисперсия:')\n",
    "display(all_data.groupby('tariff')['total_minutes'].var(ddof=1))#.astype('int'))\n",
    "print('-' * 35)\n",
    "print ()\n",
    "print('Стандартное отклонение:')\n",
    "display(all_data.groupby('tariff')['total_minutes'].std())#.astype('int'))"
   ]
  },
  {
   "cell_type": "markdown",
   "metadata": {},
   "source": [
    "#### Расчёт параметров по количеству сообщений по каждому тарифу:"
   ]
  },
  {
   "cell_type": "code",
   "execution_count": 30,
   "metadata": {},
   "outputs": [
    {
     "name": "stdout",
     "output_type": "stream",
     "text": [
      "Среднее по количеству сообщений:\n"
     ]
    },
    {
     "data": {
      "text/plain": [
       "tariff\n",
       "smart    33.384029\n",
       "ultra    49.363452\n",
       "Name: total_message, dtype: float64"
      ]
     },
     "metadata": {},
     "output_type": "display_data"
    },
    {
     "name": "stdout",
     "output_type": "stream",
     "text": [
      "-----------------------------------\n",
      "\n",
      "Дисперсия:\n"
     ]
    },
    {
     "data": {
      "text/plain": [
       "tariff\n",
       "smart     796.812958\n",
       "ultra    2285.266143\n",
       "Name: total_message, dtype: float64"
      ]
     },
     "metadata": {},
     "output_type": "display_data"
    },
    {
     "name": "stdout",
     "output_type": "stream",
     "text": [
      "-----------------------------------\n",
      "\n",
      "Стандартное отклонение:\n"
     ]
    },
    {
     "data": {
      "text/plain": [
       "tariff\n",
       "smart    28.227876\n",
       "ultra    47.804457\n",
       "Name: total_message, dtype: float64"
      ]
     },
     "metadata": {},
     "output_type": "display_data"
    }
   ],
   "source": [
    "print('Среднее по количеству сообщений:')\n",
    "display (all_data.groupby('tariff')['total_message'].mean())#.astype('int'))\n",
    "print('-' * 35)\n",
    "print ()\n",
    "print('Дисперсия:')\n",
    "display(all_data.groupby('tariff')['total_message'].var(ddof=1))#.astype('int'))\n",
    "print('-' * 35)\n",
    "print ()\n",
    "print('Стандартное отклонение:')\n",
    "display(all_data.groupby('tariff')['total_message'].std())#.astype('int')) #я оставил display, так как без него\n",
    "# табличка \"Стандартное отклонение \" съезжает, и получается некрасивый вывод"
   ]
  },
  {
   "cell_type": "markdown",
   "metadata": {},
   "source": [
    "#### Расчёт параметров по объёму трафика по каждому тарифу:"
   ]
  },
  {
   "cell_type": "code",
   "execution_count": 31,
   "metadata": {},
   "outputs": [
    {
     "name": "stdout",
     "output_type": "stream",
     "text": [
      "Среднее по объёму интернет трафика:\n"
     ]
    },
    {
     "data": {
      "text/plain": [
       "tariff\n",
       "smart    16208.873486\n",
       "ultra    19469.308629\n",
       "Name: total_mb_used, dtype: float64"
      ]
     },
     "metadata": {},
     "output_type": "display_data"
    },
    {
     "name": "stdout",
     "output_type": "stream",
     "text": [
      "-----------------------------------\n",
      "\n",
      "Дисперсия:\n"
     ]
    },
    {
     "data": {
      "text/plain": [
       "tariff\n",
       "smart    3.446256e+07\n",
       "ultra    1.017516e+08\n",
       "Name: total_mb_used, dtype: float64"
      ]
     },
     "metadata": {},
     "output_type": "display_data"
    },
    {
     "name": "stdout",
     "output_type": "stream",
     "text": [
      "-----------------------------------\n",
      "\n",
      "Стандартное отклонение:\n"
     ]
    },
    {
     "data": {
      "text/plain": [
       "tariff\n",
       "smart     5870.482332\n",
       "ultra    10087.197726\n",
       "Name: total_mb_used, dtype: float64"
      ]
     },
     "metadata": {},
     "output_type": "display_data"
    }
   ],
   "source": [
    "print('Среднее по объёму интернет трафика:')\n",
    "display(all_data.groupby('tariff')['total_mb_used'].mean())#.astype('int'))\n",
    "print('-' * 35)\n",
    "print ()\n",
    "print('Дисперсия:')\n",
    "display(all_data.groupby('tariff')['total_mb_used'].var(ddof=1))#.astype('int'))\n",
    "print('-' * 35)\n",
    "print ()\n",
    "print('Стандартное отклонение:')\n",
    "display(all_data.groupby('tariff')['total_mb_used'].std())#.astype('int'))"
   ]
  },
  {
   "cell_type": "markdown",
   "metadata": {},
   "source": [
    "### Поведение клиентов оператора, исходя из выборки"
   ]
  },
  {
   "cell_type": "markdown",
   "metadata": {},
   "source": [
    "#### Графики"
   ]
  },
  {
   "cell_type": "markdown",
   "metadata": {},
   "source": [
    "Для оценки поведения клиентов, воспользуемся графиками. Выводы по графикам можно найти в разделе ВЫВОД:"
   ]
  },
  {
   "cell_type": "markdown",
   "metadata": {},
   "source": [
    "Посмотрим на график средней длительности звонков в месяц"
   ]
  },
  {
   "cell_type": "code",
   "execution_count": 32,
   "metadata": {},
   "outputs": [
    {
     "data": {
      "text/plain": [
       "Text(0, 0.5, 'Минуты')"
      ]
     },
     "execution_count": 32,
     "metadata": {},
     "output_type": "execute_result"
    },
    {
     "data": {
      "image/png": "[encoded data removed]",
      "text/plain": [
       "<Figure size 1440x720 with 1 Axes>"
      ]
     },
     "metadata": {
      "needs_background": "light"
     },
     "output_type": "display_data"
    }
   ],
   "source": [
    "all_data.pivot_table(\n",
    "    index='tariff', columns='month',\n",
    "    values='total_minutes', aggfunc='mean').T.plot(kind='bar',\n",
    "    figsize=(20, 10), title='Средняя длительность звонков в месяц по тарифам')\n",
    "plt.xlabel('Месяц')\n",
    "plt.ylabel('Минуты')"
   ]
  },
  {
   "cell_type": "markdown",
   "metadata": {},
   "source": [
    "Построим график среднего количества звонков в месяц:"
   ]
  },
  {
   "cell_type": "code",
   "execution_count": 33,
   "metadata": {},
   "outputs": [
    {
     "data": {
      "text/plain": [
       "Text(0, 0.5, 'Звонки')"
      ]
     },
     "execution_count": 33,
     "metadata": {},
     "output_type": "execute_result"
    },
    {
     "data": {
      "image/png": "[encoded data removed]",
      "text/plain": [
       "<Figure size 1440x720 with 1 Axes>"
      ]
     },
     "metadata": {
      "needs_background": "light"
     },
     "output_type": "display_data"
    }
   ],
   "source": [
    "all_data.pivot_table(\n",
    "    index='tariff', columns='month', values='total_calls', aggfunc='mean').T.plot(kind='bar',\n",
    "    figsize=(20, 10), title='Среднее количество звонков в месяц по тарифам')\n",
    "plt.xlabel('Месяц')\n",
    "plt.ylabel('Звонки')"
   ]
  },
  {
   "cell_type": "markdown",
   "metadata": {},
   "source": [
    "Построим график среднего количества отправленных сообщений:"
   ]
  },
  {
   "cell_type": "code",
   "execution_count": 34,
   "metadata": {},
   "outputs": [
    {
     "data": {
      "text/plain": [
       "Text(0, 0.5, 'Сообщения')"
      ]
     },
     "execution_count": 34,
     "metadata": {},
     "output_type": "execute_result"
    },
    {
     "data": {
      "image/png": "[encoded data removed]",
      "text/plain": [
       "<Figure size 1440x720 with 1 Axes>"
      ]
     },
     "metadata": {
      "needs_background": "light"
     },
     "output_type": "display_data"
    }
   ],
   "source": [
    "all_data.pivot_table(\n",
    "    index='tariff', columns='month', values='total_message', aggfunc='mean').T.plot(kind='bar',\n",
    "    figsize=(20, 10), title='Среднее количество отправленных сообщений по тарифам')\n",
    "plt.xlabel('Месяц')\n",
    "plt.ylabel('Сообщения')"
   ]
  },
  {
   "cell_type": "markdown",
   "metadata": {},
   "source": [
    "Построим график среднего количества израсходованного трафика в месяц:"
   ]
  },
  {
   "cell_type": "code",
   "execution_count": 35,
   "metadata": {},
   "outputs": [
    {
     "data": {
      "text/plain": [
       "Text(0, 0.5, 'Мегабайт')"
      ]
     },
     "execution_count": 35,
     "metadata": {},
     "output_type": "execute_result"
    },
    {
     "data": {
      "image/png": "[encoded data removed]",
      "text/plain": [
       "<Figure size 1440x720 with 1 Axes>"
      ]
     },
     "metadata": {
      "needs_background": "light"
     },
     "output_type": "display_data"
    }
   ],
   "source": [
    "all_data.pivot_table(\n",
    "    index='tariff', columns='month', values='total_mb_used', aggfunc='mean').T.plot(kind='bar',\n",
    "    figsize=(20, 10), title='Среднее количество израсходованного интернет трафика по тарифам')\n",
    "plt.xlabel('Месяц')\n",
    "plt.ylabel('Мегабайт')"
   ]
  },
  {
   "cell_type": "markdown",
   "metadata": {},
   "source": [
    "Построим график общей выручки за месяц"
   ]
  },
  {
   "cell_type": "code",
   "execution_count": 36,
   "metadata": {},
   "outputs": [
    {
     "data": {
      "text/plain": [
       "Text(0, 0.5, 'Выручка')"
      ]
     },
     "execution_count": 36,
     "metadata": {},
     "output_type": "execute_result"
    },
    {
     "data": {
      "image/png": "[encoded data removed]",
      "text/plain": [
       "<Figure size 1440x720 with 1 Axes>"
      ]
     },
     "metadata": {
      "needs_background": "light"
     },
     "output_type": "display_data"
    }
   ],
   "source": [
    "all_data.pivot_table(\n",
    "    index='tariff', columns='month', values='total_revenue', aggfunc='sum').T.plot(kind='bar',\n",
    "    figsize=(20, 10), title='Общая выручка за месяц')\n",
    "plt.xlabel('Месяц')\n",
    "plt.ylabel('Выручка')"
   ]
  },
  {
   "cell_type": "markdown",
   "metadata": {},
   "source": [
    "Построим график средней выручки за месяц"
   ]
  },
  {
   "cell_type": "code",
   "execution_count": 37,
   "metadata": {},
   "outputs": [
    {
     "data": {
      "text/plain": [
       "Text(0, 0.5, 'Выручка')"
      ]
     },
     "execution_count": 37,
     "metadata": {},
     "output_type": "execute_result"
    },
    {
     "data": {
      "image/png": "[encoded data removed]",
      "text/plain": [
       "<Figure size 1440x720 with 1 Axes>"
      ]
     },
     "metadata": {
      "needs_background": "light"
     },
     "output_type": "display_data"
    }
   ],
   "source": [
    "all_data.pivot_table(\n",
    "    index='tariff', columns='month', values='total_revenue', aggfunc='mean').T.plot(kind='bar',\n",
    "    figsize=(20, 10), title='Средняя выручка за месяц')\n",
    "plt.xlabel('Месяц')\n",
    "plt.ylabel('Выручка')"
   ]
  },
  {
   "cell_type": "markdown",
   "metadata": {},
   "source": [
    "#### Гистограммы"
   ]
  },
  {
   "cell_type": "markdown",
   "metadata": {},
   "source": [
    "Строим гистограммы:"
   ]
  },
  {
   "cell_type": "markdown",
   "metadata": {},
   "source": [
    "Гистограмма по количеству минут:"
   ]
  },
  {
   "cell_type": "code",
   "execution_count": 38,
   "metadata": {},
   "outputs": [
    {
     "data": {
      "text/plain": [
       "Text(0.5, 1.0, 'Гистограмма количества минут разговора')"
      ]
     },
     "execution_count": 38,
     "metadata": {},
     "output_type": "execute_result"
    },
    {
     "data": {
      "image/png": "[encoded data removed]",
      "text/plain": [
       "<Figure size 1440x720 with 1 Axes>"
      ]
     },
     "metadata": {
      "needs_background": "light"
     },
     "output_type": "display_data"
    }
   ],
   "source": [
    "all_data.query('tariff == \"smart\"')['total_minutes'].hist(bins = 30, alpha = 0.5, figsize=(20,10)) #синяя \"Смарт\"\n",
    "all_data.query('tariff == \"ultra\"')['total_minutes'].hist(bins = 30, alpha = 0.5, figsize=(20,10)) # оранжевая \"Ультра\"\n",
    "plt.xlabel('Количество минут разговора')\n",
    "plt.ylabel('Количество пользователей')\n",
    "plt.title('Гистограмма количества минут разговора') "
   ]
  },
  {
   "cell_type": "markdown",
   "metadata": {},
   "source": [
    "Пользователи \"Ультра\" говорят больше, это и понятно, ведь в тариф включено в 6 раз больше минут разговора, чем \"Смарт\". Есть довольно большая группа пользователей \"Смарт\", которые превышают стандартный пакет, соответственно с таких пользователей берётся дополнительная плата за услугу."
   ]
  },
  {
   "cell_type": "markdown",
   "metadata": {},
   "source": [
    "Гистограмма количества звонков:"
   ]
  },
  {
   "cell_type": "code",
   "execution_count": 39,
   "metadata": {},
   "outputs": [
    {
     "data": {
      "text/plain": [
       "Text(0.5, 1.0, 'Гистограмма количества количества совершённых звонков')"
      ]
     },
     "execution_count": 39,
     "metadata": {},
     "output_type": "execute_result"
    },
    {
     "data": {
      "image/png": "[encoded data removed]",
      "text/plain": [
       "<Figure size 1440x720 with 1 Axes>"
      ]
     },
     "metadata": {
      "needs_background": "light"
     },
     "output_type": "display_data"
    }
   ],
   "source": [
    "all_data.query('tariff == \"smart\"')['total_calls'].hist(bins = 30, alpha = 0.5, figsize=(20,10)) #синяя \"Смарт\"\n",
    "all_data.query('tariff == \"ultra\"')['total_calls'].hist(bins = 30, alpha = 0.5, figsize=(20,10)) # оранжевая \"Ультра\"\n",
    "plt.xlabel('Количество совершённых звонков')\n",
    "plt.ylabel('Количество пользователей')\n",
    "plt.title('Гистограмма количества количества совершённых звонков') "
   ]
  },
  {
   "cell_type": "markdown",
   "metadata": {},
   "source": [
    "Гистограмма по количеству сообщений:"
   ]
  },
  {
   "cell_type": "code",
   "execution_count": 40,
   "metadata": {},
   "outputs": [
    {
     "data": {
      "text/plain": [
       "Text(0.5, 1.0, 'Гистограмма количества отправленных сообщений')"
      ]
     },
     "execution_count": 40,
     "metadata": {},
     "output_type": "execute_result"
    },
    {
     "data": {
      "image/png": "[encoded data removed]",
      "text/plain": [
       "<Figure size 1440x720 with 1 Axes>"
      ]
     },
     "metadata": {
      "needs_background": "light"
     },
     "output_type": "display_data"
    }
   ],
   "source": [
    "all_data.query('tariff == \"smart\"')['total_message'].hist(bins = 10, alpha = 0.5, figsize=(20,10)) #синяя \"Смарт\"\n",
    "all_data.query('tariff == \"ultra\"')['total_message'].hist(bins = 10, alpha = 0.5, figsize=(20,10)) # оранжевая \"Ультра\"\n",
    "plt.xlabel('Количество отправленных сообщений')\n",
    "plt.ylabel('Количество пользователей')\n",
    "plt.title('Гистограмма количества отправленных сообщений') "
   ]
  },
  {
   "cell_type": "markdown",
   "metadata": {},
   "source": [
    "Довольно большое количество пользователей обоих тарифов не пользуются этой услугой (зачем, ведь есть интернет и мессенджеры). Однако, существуют абоненты тарифа \"Смарт\", которые любят отправлять сообщения настолько, что выходят за лимит. Соответственно с них берётся дополнительная плата. Абоненты тарифа \"Ультра\" сообщений отправляют больше (не удивительно, 1000 штук в пакете), но не на столько, чтобы выйти за рамки пакета. "
   ]
  },
  {
   "cell_type": "markdown",
   "metadata": {},
   "source": [
    "Гистограмма по объёму израсходованного трафика: "
   ]
  },
  {
   "cell_type": "code",
   "execution_count": 41,
   "metadata": {},
   "outputs": [
    {
     "data": {
      "text/plain": [
       "Text(0.5, 1.0, 'Гистограмма объёма использованного трафика')"
      ]
     },
     "execution_count": 41,
     "metadata": {},
     "output_type": "execute_result"
    },
    {
     "data": {
      "image/png": "[encoded data removed]",
      "text/plain": [
       "<Figure size 1440x720 with 1 Axes>"
      ]
     },
     "metadata": {
      "needs_background": "light"
     },
     "output_type": "display_data"
    }
   ],
   "source": [
    "all_data.query('tariff == \"smart\"')['total_mb_used'].hist(bins = 50, alpha = 0.5, figsize=(20,10)) #синяя\n",
    "all_data.query('tariff == \"ultra\"')['total_mb_used'].hist(bins = 50, alpha = 0.5, figsize=(20,10)) # оранжевая\n",
    "plt.xlabel('Количество использованных мегабайт')\n",
    "plt.ylabel('Количество пользователей')\n",
    "plt.title('Гистограмма объёма использованного трафика') "
   ]
  },
  {
   "cell_type": "markdown",
   "metadata": {},
   "source": [
    "15 гигабайт интернет трафика в месяц даже в 2018 году было не много, и около половины абонентов тарифа \"Смарт\" нам это наглядно демонстрируют, не уложившись в тарифный план. Абоненты \"Ульта\" в своём большенстве в лимит укладываются.  Среди абонентов обоих тарифов есть и те, кто интернетом не пользуется вовсе, либо пользуется мало. Так же присутствуют те, кто переплачивает за интернет."
   ]
  },
  {
   "cell_type": "markdown",
   "metadata": {},
   "source": [
    "### Выводы"
   ]
  },
  {
   "cell_type": "markdown",
   "metadata": {},
   "source": [
    "При имеющемся количестве пользователей тарифов \"Смарт\" и \"Ультра\" можно сделать следующие выводы:\n",
    "1. В среднем пользователи тарифа \"Ультра\" разговаривают дольше.\n",
    "2. Абоненты тарифа \"Ультра\" совершают больше количество звонков.\n",
    "3. Абоненты тарифа \"Ультра\" отправляют больше сообщений.\n",
    "4. Абоненты тарифа \"Ультра\" пользуются интернетом больше.\n",
    "5. Абоненты обоих тарифов активно используют интернет-трафик: есть такие, кому тарифного плана не достаточно.\n",
    "6. Тариф \"Смарт\" приносит больше прибыли. "
   ]
  },
  {
   "cell_type": "markdown",
   "metadata": {},
   "source": [
    "## Проверка гипотез"
   ]
  },
  {
   "cell_type": "markdown",
   "metadata": {},
   "source": [
    "Поскольку мы проверяем двустороннюю гипотезу о равенстве средних генеральных совокупностей по взятым из них выборкам,  можем использовать `ttest`. Значение критического уровеня статистической значимости `alpha` принимаем равным 0.05"
   ]
  },
  {
   "cell_type": "markdown",
   "metadata": {},
   "source": [
    "### Средняя выручка пользователей тарифов «Ультра» и «Смарт» различаются"
   ]
  },
  {
   "cell_type": "markdown",
   "metadata": {},
   "source": [
    "Формируем нулевую и альтернативную гипотезы. \n",
    "Нулевая гипотеза: Средняя выручка пользователей тарифов Ультра и Смарт равны. \n",
    "Альтернативная гипотеза: средняя выручка тарифов Ультра и Смарт тарифам различаются."
   ]
  },
  {
   "cell_type": "markdown",
   "metadata": {},
   "source": [
    "Для удобства тестирования совершим срез `all_data` по тарифам \"Смарт\" и \"Ультра\":"
   ]
  },
  {
   "cell_type": "code",
   "execution_count": 42,
   "metadata": {},
   "outputs": [
    {
     "name": "stdout",
     "output_type": "stream",
     "text": [
      "Ttest_indResult(statistic=-28.611056741704818, pvalue=1.4229814360764067e-160)\n",
      "p-значение:  1.4229814360764067e-160\n",
      "Отвергаем нулевую гипотезу\n"
     ]
    }
   ],
   "source": [
    "data_smart = all_data.query('tariff == \"smart\"')\n",
    "data_ultra = all_data.query('tariff == \"ultra\"')\n",
    "\n",
    "alpha = .05\n",
    "smart_revenue = data_smart['total_revenue']\n",
    "ultra_revenue = data_ultra['total_revenue']\n",
    "results = st.ttest_ind(smart_revenue, ultra_revenue)\n",
    "\n",
    "print (results)\n",
    "print('p-значение: ', results.pvalue)\n",
    "\n",
    "if (results.pvalue < alpha):\n",
    "    print(\"Отвергаем нулевую гипотезу\")\n",
    "else:\n",
    "    print(\"Не получилось отвергнуть нулевую гипотезу\")"
   ]
  },
  {
   "cell_type": "markdown",
   "metadata": {},
   "source": [
    "### Средняя выручка пользователей из Москвы отличается от выручки пользователей из других регионов"
   ]
  },
  {
   "cell_type": "markdown",
   "metadata": {},
   "source": [
    "Формируем нулевую и альтернативную гипотезы. Нулевая гипотеза: Средняя выручка пользователей из Москвы равна выручке пользователей из других регионов. Альтернативная гипотеза: средняя выручка пользователей из Москвы отличается от выручки пользователей из других регионов."
   ]
  },
  {
   "cell_type": "code",
   "execution_count": 43,
   "metadata": {},
   "outputs": [
    {
     "name": "stdout",
     "output_type": "stream",
     "text": [
      "Ttest_indResult(statistic=0.606816942705698, pvalue=0.5440152911670224)\n",
      "p-значение:  0.5440152911670224\n",
      "Не получилось отвергнуть нулевую гипотезу\n"
     ]
    }
   ],
   "source": [
    "alpha = .05\n",
    "moscow_revenue = all_data.query('city == \"Москва\"')\n",
    "other_region_revenue = all_data.query('city != \"Москва\"')\n",
    "results_2 = st.ttest_ind(moscow_revenue['total_revenue'], other_region_revenue['total_revenue'])\n",
    "print(results_2)\n",
    "print('p-значение: ', results_2.pvalue)\n",
    "if (results_2.pvalue < alpha):\n",
    "    print(\"Отвергаем нулевую гипотезу\")\n",
    "else:\n",
    "    print(\"Не получилось отвергнуть нулевую гипотезу\")"
   ]
  },
  {
   "cell_type": "markdown",
   "metadata": {},
   "source": [
    "## Вывод"
   ]
  },
  {
   "cell_type": "markdown",
   "metadata": {},
   "source": [
    "На основании технического задания, а так же изучения и анализа представленных данных, можно сделать следующие выводы:\n",
    "\n",
    "1. Какой тариф лучше - некорректный вопрос. Каждый пользователь выбирает тариф под свои определённые задачи. \n",
    "2. Средняя выручка тарифов Ультра и Смарт тарифам различаются.\n",
    "3. Средняя выручка пользователей из Москвы равна выручке пользователей из других регионов.\n",
    "4. Абоненты тарифа \"Ультра\" разговаривают дольше.\n",
    "5. Абоненты тарифа \"Ультра\" совершают больше количество звонков.\n",
    "6. Абоненты тарифа \"Ультра\" отправляют больше сообщений.\n",
    "7. Абоненты тарифа \"Ультра\" пользуются интернетом больше.\n",
    "8. Абоненты обоих тарифов активно используют интернет-трафик: есть такие, кому тарифного плана не достаточно.\n",
    "9. Тариф \"Смарт\" приносит больше прибыли, соответственно нужно его развивать."
   ]
  }
 ],
 "metadata": {
  "ExecuteTimeLog": [
   {
    "duration": 1648,
    "start_time": "2022-04-11T14:26:16.883Z"
   },
   {
    "duration": 62,
    "start_time": "2022-04-11T14:26:50.176Z"
   },
   {
    "duration": 60,
    "start_time": "2022-04-11T14:28:58.425Z"
   },
   {
    "duration": 37,
    "start_time": "2022-04-11T14:30:57.576Z"
   },
   {
    "duration": 64,
    "start_time": "2022-04-11T14:31:25.032Z"
   },
   {
    "duration": 18,
    "start_time": "2022-04-11T14:32:05.859Z"
   },
   {
    "duration": 32,
    "start_time": "2022-04-11T14:32:21.351Z"
   },
   {
    "duration": 18,
    "start_time": "2022-04-11T14:34:30.641Z"
   },
   {
    "duration": 19,
    "start_time": "2022-04-11T14:34:35.922Z"
   },
   {
    "duration": 37,
    "start_time": "2022-04-11T14:45:23.028Z"
   },
   {
    "duration": 20,
    "start_time": "2022-04-11T14:45:25.908Z"
   },
   {
    "duration": 30,
    "start_time": "2022-04-11T14:46:01.933Z"
   },
   {
    "duration": 32,
    "start_time": "2022-04-11T14:46:23.184Z"
   },
   {
    "duration": 32,
    "start_time": "2022-04-11T14:46:27.345Z"
   },
   {
    "duration": 24,
    "start_time": "2022-04-11T14:47:59.559Z"
   },
   {
    "duration": 29,
    "start_time": "2022-04-11T14:48:30.769Z"
   },
   {
    "duration": 67,
    "start_time": "2022-04-11T14:49:35.638Z"
   },
   {
    "duration": 33,
    "start_time": "2022-04-11T14:50:02.165Z"
   },
   {
    "duration": 14,
    "start_time": "2022-04-11T14:51:15.781Z"
   },
   {
    "duration": 62,
    "start_time": "2022-04-11T14:52:42.839Z"
   },
   {
    "duration": 39,
    "start_time": "2022-04-11T14:53:45.562Z"
   },
   {
    "duration": 44,
    "start_time": "2022-04-11T14:55:09.671Z"
   },
   {
    "duration": 3,
    "start_time": "2022-04-11T14:55:44.573Z"
   },
   {
    "duration": 36,
    "start_time": "2022-04-11T14:56:37.990Z"
   },
   {
    "duration": 20,
    "start_time": "2022-04-11T14:57:40.575Z"
   },
   {
    "duration": 9,
    "start_time": "2022-04-11T14:58:58.055Z"
   },
   {
    "duration": 16,
    "start_time": "2022-04-11T14:59:33.000Z"
   },
   {
    "duration": 15,
    "start_time": "2022-04-11T15:00:20.344Z"
   },
   {
    "duration": 17,
    "start_time": "2022-04-11T15:00:41.553Z"
   },
   {
    "duration": 111,
    "start_time": "2022-04-11T15:02:59.491Z"
   },
   {
    "duration": 15,
    "start_time": "2022-04-11T15:03:22.460Z"
   },
   {
    "duration": 21,
    "start_time": "2022-04-11T15:07:12.457Z"
   },
   {
    "duration": 15,
    "start_time": "2022-04-11T15:08:57.171Z"
   },
   {
    "duration": 22,
    "start_time": "2022-04-11T15:09:39.395Z"
   },
   {
    "duration": 25,
    "start_time": "2022-04-11T15:10:38.634Z"
   },
   {
    "duration": 21,
    "start_time": "2022-04-11T15:11:49.210Z"
   },
   {
    "duration": 17,
    "start_time": "2022-04-11T15:12:19.322Z"
   },
   {
    "duration": 18,
    "start_time": "2022-04-11T15:13:07.205Z"
   },
   {
    "duration": 86,
    "start_time": "2022-04-11T15:26:54.710Z"
   },
   {
    "duration": 63,
    "start_time": "2022-04-11T15:27:12.854Z"
   },
   {
    "duration": 289,
    "start_time": "2022-04-11T15:27:25.649Z"
   },
   {
    "duration": 70,
    "start_time": "2022-04-11T15:28:22.066Z"
   },
   {
    "duration": 280,
    "start_time": "2022-04-11T15:28:37.219Z"
   },
   {
    "duration": 273,
    "start_time": "2022-04-11T15:29:08.719Z"
   },
   {
    "duration": 274,
    "start_time": "2022-04-11T15:29:43.937Z"
   },
   {
    "duration": 335,
    "start_time": "2022-04-11T15:30:52.879Z"
   },
   {
    "duration": 67,
    "start_time": "2022-04-11T15:31:27.910Z"
   },
   {
    "duration": 312,
    "start_time": "2022-04-11T15:31:44.907Z"
   },
   {
    "duration": 67,
    "start_time": "2022-04-11T15:34:02.117Z"
   },
   {
    "duration": 259,
    "start_time": "2022-04-11T15:34:20.515Z"
   },
   {
    "duration": 63,
    "start_time": "2022-04-11T15:34:47.756Z"
   },
   {
    "duration": 283,
    "start_time": "2022-04-11T15:35:04.054Z"
   },
   {
    "duration": 207,
    "start_time": "2022-04-11T15:36:08.196Z"
   },
   {
    "duration": 320,
    "start_time": "2022-04-11T15:37:08.034Z"
   },
   {
    "duration": 72,
    "start_time": "2022-04-11T15:43:11.409Z"
   },
   {
    "duration": 11,
    "start_time": "2022-04-11T15:44:03.020Z"
   },
   {
    "duration": 10,
    "start_time": "2022-04-11T15:45:26.824Z"
   },
   {
    "duration": 1668,
    "start_time": "2022-04-11T18:35:09.381Z"
   },
   {
    "duration": 68,
    "start_time": "2022-04-11T18:35:11.051Z"
   },
   {
    "duration": 60,
    "start_time": "2022-04-11T18:35:11.121Z"
   },
   {
    "duration": 53,
    "start_time": "2022-04-11T18:35:11.183Z"
   },
   {
    "duration": 16,
    "start_time": "2022-04-11T18:35:11.238Z"
   },
   {
    "duration": 19,
    "start_time": "2022-04-11T18:35:11.255Z"
   },
   {
    "duration": 67,
    "start_time": "2022-04-11T18:35:11.275Z"
   },
   {
    "duration": 30,
    "start_time": "2022-04-11T18:35:11.344Z"
   },
   {
    "duration": 50,
    "start_time": "2022-04-11T18:35:11.376Z"
   },
   {
    "duration": 29,
    "start_time": "2022-04-11T18:35:11.430Z"
   },
   {
    "duration": 68,
    "start_time": "2022-04-11T18:35:11.461Z"
   },
   {
    "duration": 15,
    "start_time": "2022-04-11T18:35:11.531Z"
   },
   {
    "duration": 70,
    "start_time": "2022-04-11T18:35:11.548Z"
   },
   {
    "duration": 42,
    "start_time": "2022-04-11T18:35:11.619Z"
   },
   {
    "duration": 70,
    "start_time": "2022-04-11T18:35:11.663Z"
   },
   {
    "duration": 38,
    "start_time": "2022-04-11T18:35:11.734Z"
   },
   {
    "duration": 41,
    "start_time": "2022-04-11T18:35:11.774Z"
   },
   {
    "duration": 8,
    "start_time": "2022-04-11T18:35:11.817Z"
   },
   {
    "duration": 18,
    "start_time": "2022-04-11T18:35:11.827Z"
   },
   {
    "duration": 16,
    "start_time": "2022-04-11T18:35:11.847Z"
   },
   {
    "duration": 47,
    "start_time": "2022-04-11T18:35:11.865Z"
   },
   {
    "duration": 126,
    "start_time": "2022-04-11T18:35:11.914Z"
   },
   {
    "duration": 13,
    "start_time": "2022-04-11T18:35:12.042Z"
   },
   {
    "duration": 14,
    "start_time": "2022-04-11T18:35:12.057Z"
   },
   {
    "duration": 39,
    "start_time": "2022-04-11T18:35:12.073Z"
   },
   {
    "duration": 16,
    "start_time": "2022-04-11T18:35:12.114Z"
   },
   {
    "duration": 22,
    "start_time": "2022-04-11T18:35:12.132Z"
   },
   {
    "duration": 53,
    "start_time": "2022-04-11T18:35:12.157Z"
   },
   {
    "duration": 19,
    "start_time": "2022-04-11T18:35:12.212Z"
   },
   {
    "duration": 16,
    "start_time": "2022-04-11T18:35:12.232Z"
   },
   {
    "duration": 334,
    "start_time": "2022-04-11T18:35:12.250Z"
   },
   {
    "duration": 297,
    "start_time": "2022-04-11T18:35:12.585Z"
   },
   {
    "duration": 287,
    "start_time": "2022-04-11T18:35:12.884Z"
   },
   {
    "duration": 289,
    "start_time": "2022-04-11T18:35:13.172Z"
   },
   {
    "duration": 292,
    "start_time": "2022-04-11T18:35:13.463Z"
   },
   {
    "duration": 378,
    "start_time": "2022-04-11T18:35:13.757Z"
   },
   {
    "duration": 291,
    "start_time": "2022-04-11T18:35:14.136Z"
   },
   {
    "duration": 264,
    "start_time": "2022-04-11T18:35:14.429Z"
   },
   {
    "duration": 213,
    "start_time": "2022-04-11T18:35:14.695Z"
   },
   {
    "duration": 321,
    "start_time": "2022-04-11T18:35:14.910Z"
   },
   {
    "duration": 11,
    "start_time": "2022-04-11T18:35:15.233Z"
   },
   {
    "duration": 15,
    "start_time": "2022-04-11T18:35:15.246Z"
   },
   {
    "duration": 162,
    "start_time": "2022-04-11T18:55:08.399Z"
   },
   {
    "duration": 155,
    "start_time": "2022-04-11T18:55:20.842Z"
   },
   {
    "duration": 389,
    "start_time": "2022-04-11T21:04:04.494Z"
   },
   {
    "duration": 62,
    "start_time": "2022-04-11T21:04:04.885Z"
   },
   {
    "duration": 80,
    "start_time": "2022-04-11T21:04:04.950Z"
   },
   {
    "duration": 38,
    "start_time": "2022-04-11T21:04:05.033Z"
   },
   {
    "duration": 45,
    "start_time": "2022-04-11T21:04:05.073Z"
   },
   {
    "duration": 26,
    "start_time": "2022-04-11T21:04:05.120Z"
   },
   {
    "duration": 63,
    "start_time": "2022-04-11T21:04:05.148Z"
   },
   {
    "duration": 30,
    "start_time": "2022-04-11T21:04:05.213Z"
   },
   {
    "duration": 26,
    "start_time": "2022-04-11T21:04:05.244Z"
   },
   {
    "duration": 65,
    "start_time": "2022-04-11T21:04:05.272Z"
   },
   {
    "duration": 33,
    "start_time": "2022-04-11T21:04:05.339Z"
   },
   {
    "duration": 39,
    "start_time": "2022-04-11T21:04:05.374Z"
   },
   {
    "duration": 62,
    "start_time": "2022-04-11T21:04:05.414Z"
   },
   {
    "duration": 50,
    "start_time": "2022-04-11T21:04:05.478Z"
   },
   {
    "duration": 44,
    "start_time": "2022-04-11T21:04:05.530Z"
   },
   {
    "duration": 131,
    "start_time": "2022-04-11T21:04:05.575Z"
   },
   {
    "duration": 23,
    "start_time": "2022-04-11T21:04:05.709Z"
   },
   {
    "duration": 9,
    "start_time": "2022-04-11T21:04:05.733Z"
   },
   {
    "duration": 17,
    "start_time": "2022-04-11T21:04:05.744Z"
   },
   {
    "duration": 14,
    "start_time": "2022-04-11T21:04:05.763Z"
   },
   {
    "duration": 17,
    "start_time": "2022-04-11T21:04:05.809Z"
   },
   {
    "duration": 130,
    "start_time": "2022-04-11T21:04:05.827Z"
   },
   {
    "duration": 13,
    "start_time": "2022-04-11T21:04:05.959Z"
   },
   {
    "duration": 14,
    "start_time": "2022-04-11T21:04:05.974Z"
   },
   {
    "duration": 14,
    "start_time": "2022-04-11T21:04:06.009Z"
   },
   {
    "duration": 14,
    "start_time": "2022-04-11T21:04:06.025Z"
   },
   {
    "duration": 23,
    "start_time": "2022-04-11T21:04:06.040Z"
   },
   {
    "duration": 51,
    "start_time": "2022-04-11T21:04:06.066Z"
   },
   {
    "duration": 16,
    "start_time": "2022-04-11T21:04:06.119Z"
   },
   {
    "duration": 18,
    "start_time": "2022-04-11T21:04:06.136Z"
   },
   {
    "duration": 342,
    "start_time": "2022-04-11T21:04:06.155Z"
   },
   {
    "duration": 306,
    "start_time": "2022-04-11T21:04:06.499Z"
   },
   {
    "duration": 295,
    "start_time": "2022-04-11T21:04:06.807Z"
   },
   {
    "duration": 289,
    "start_time": "2022-04-11T21:04:07.104Z"
   },
   {
    "duration": 292,
    "start_time": "2022-04-11T21:04:07.395Z"
   },
   {
    "duration": 290,
    "start_time": "2022-04-11T21:04:07.690Z"
   },
   {
    "duration": 265,
    "start_time": "2022-04-11T21:04:07.982Z"
   },
   {
    "duration": 267,
    "start_time": "2022-04-11T21:04:08.248Z"
   },
   {
    "duration": 302,
    "start_time": "2022-04-11T21:04:08.517Z"
   },
   {
    "duration": 316,
    "start_time": "2022-04-11T21:04:08.820Z"
   },
   {
    "duration": 12,
    "start_time": "2022-04-11T21:04:09.138Z"
   },
   {
    "duration": 14,
    "start_time": "2022-04-11T21:04:09.151Z"
   },
   {
    "duration": 392,
    "start_time": "2022-04-11T21:10:20.153Z"
   },
   {
    "duration": 58,
    "start_time": "2022-04-11T21:10:20.546Z"
   },
   {
    "duration": 55,
    "start_time": "2022-04-11T21:10:20.606Z"
   },
   {
    "duration": 55,
    "start_time": "2022-04-11T21:10:20.663Z"
   },
   {
    "duration": 16,
    "start_time": "2022-04-11T21:10:20.720Z"
   },
   {
    "duration": 17,
    "start_time": "2022-04-11T21:10:20.738Z"
   },
   {
    "duration": 60,
    "start_time": "2022-04-11T21:10:20.757Z"
   },
   {
    "duration": 32,
    "start_time": "2022-04-11T21:10:20.818Z"
   },
   {
    "duration": 26,
    "start_time": "2022-04-11T21:10:20.852Z"
   },
   {
    "duration": 55,
    "start_time": "2022-04-11T21:10:20.880Z"
   },
   {
    "duration": 33,
    "start_time": "2022-04-11T21:10:20.936Z"
   },
   {
    "duration": 13,
    "start_time": "2022-04-11T21:10:20.971Z"
   },
   {
    "duration": 72,
    "start_time": "2022-04-11T21:10:20.986Z"
   },
   {
    "duration": 57,
    "start_time": "2022-04-11T21:10:21.061Z"
   },
   {
    "duration": 39,
    "start_time": "2022-04-11T21:10:21.119Z"
   },
   {
    "duration": 55,
    "start_time": "2022-04-11T21:10:21.159Z"
   },
   {
    "duration": 21,
    "start_time": "2022-04-11T21:10:21.216Z"
   },
   {
    "duration": 9,
    "start_time": "2022-04-11T21:10:21.238Z"
   },
   {
    "duration": 18,
    "start_time": "2022-04-11T21:10:21.248Z"
   },
   {
    "duration": 2,
    "start_time": "2022-04-11T21:10:21.268Z"
   },
   {
    "duration": 142,
    "start_time": "2022-04-11T21:10:21.272Z"
   },
   {
    "duration": 0,
    "start_time": "2022-04-11T21:10:21.416Z"
   },
   {
    "duration": 0,
    "start_time": "2022-04-11T21:10:21.418Z"
   },
   {
    "duration": 0,
    "start_time": "2022-04-11T21:10:21.420Z"
   },
   {
    "duration": 0,
    "start_time": "2022-04-11T21:10:21.421Z"
   },
   {
    "duration": 0,
    "start_time": "2022-04-11T21:10:21.422Z"
   },
   {
    "duration": 0,
    "start_time": "2022-04-11T21:10:21.424Z"
   },
   {
    "duration": 0,
    "start_time": "2022-04-11T21:10:21.425Z"
   },
   {
    "duration": 0,
    "start_time": "2022-04-11T21:10:21.426Z"
   },
   {
    "duration": 0,
    "start_time": "2022-04-11T21:10:21.428Z"
   },
   {
    "duration": 0,
    "start_time": "2022-04-11T21:10:21.429Z"
   },
   {
    "duration": 0,
    "start_time": "2022-04-11T21:10:21.431Z"
   },
   {
    "duration": 0,
    "start_time": "2022-04-11T21:10:21.432Z"
   },
   {
    "duration": 0,
    "start_time": "2022-04-11T21:10:21.433Z"
   },
   {
    "duration": 0,
    "start_time": "2022-04-11T21:10:21.435Z"
   },
   {
    "duration": 0,
    "start_time": "2022-04-11T21:10:21.436Z"
   },
   {
    "duration": 0,
    "start_time": "2022-04-11T21:10:21.438Z"
   },
   {
    "duration": 0,
    "start_time": "2022-04-11T21:10:21.439Z"
   },
   {
    "duration": 0,
    "start_time": "2022-04-11T21:10:21.441Z"
   },
   {
    "duration": 0,
    "start_time": "2022-04-11T21:10:21.442Z"
   },
   {
    "duration": 0,
    "start_time": "2022-04-11T21:10:21.444Z"
   },
   {
    "duration": 0,
    "start_time": "2022-04-11T21:10:21.445Z"
   },
   {
    "duration": 12,
    "start_time": "2022-04-11T21:12:29.119Z"
   },
   {
    "duration": 9,
    "start_time": "2022-04-11T21:13:20.578Z"
   },
   {
    "duration": 8,
    "start_time": "2022-04-11T21:13:38.516Z"
   },
   {
    "duration": 9,
    "start_time": "2022-04-11T21:13:42.597Z"
   },
   {
    "duration": 9,
    "start_time": "2022-04-11T21:13:53.936Z"
   },
   {
    "duration": 8,
    "start_time": "2022-04-11T21:16:38.706Z"
   },
   {
    "duration": 7,
    "start_time": "2022-04-11T21:16:45.045Z"
   },
   {
    "duration": 12,
    "start_time": "2022-04-11T21:17:49.969Z"
   },
   {
    "duration": 14,
    "start_time": "2022-04-11T21:18:01.077Z"
   },
   {
    "duration": 13,
    "start_time": "2022-04-11T21:18:08.631Z"
   },
   {
    "duration": 13,
    "start_time": "2022-04-11T21:18:18.569Z"
   },
   {
    "duration": 356,
    "start_time": "2022-04-11T21:18:40.218Z"
   },
   {
    "duration": 54,
    "start_time": "2022-04-11T21:18:40.576Z"
   },
   {
    "duration": 51,
    "start_time": "2022-04-11T21:18:40.631Z"
   },
   {
    "duration": 55,
    "start_time": "2022-04-11T21:18:40.684Z"
   },
   {
    "duration": 16,
    "start_time": "2022-04-11T21:18:40.741Z"
   },
   {
    "duration": 51,
    "start_time": "2022-04-11T21:18:40.759Z"
   },
   {
    "duration": 32,
    "start_time": "2022-04-11T21:18:40.812Z"
   },
   {
    "duration": 29,
    "start_time": "2022-04-11T21:18:40.846Z"
   },
   {
    "duration": 50,
    "start_time": "2022-04-11T21:18:40.877Z"
   },
   {
    "duration": 26,
    "start_time": "2022-04-11T21:18:40.931Z"
   },
   {
    "duration": 54,
    "start_time": "2022-04-11T21:18:40.958Z"
   },
   {
    "duration": 12,
    "start_time": "2022-04-11T21:18:41.014Z"
   },
   {
    "duration": 53,
    "start_time": "2022-04-11T21:18:41.027Z"
   },
   {
    "duration": 51,
    "start_time": "2022-04-11T21:18:41.081Z"
   },
   {
    "duration": 40,
    "start_time": "2022-04-11T21:18:41.134Z"
   },
   {
    "duration": 53,
    "start_time": "2022-04-11T21:18:41.176Z"
   },
   {
    "duration": 20,
    "start_time": "2022-04-11T21:18:41.230Z"
   },
   {
    "duration": 8,
    "start_time": "2022-04-11T21:18:41.252Z"
   },
   {
    "duration": 17,
    "start_time": "2022-04-11T21:18:41.261Z"
   },
   {
    "duration": 29,
    "start_time": "2022-04-11T21:18:41.280Z"
   },
   {
    "duration": 17,
    "start_time": "2022-04-11T21:18:41.311Z"
   },
   {
    "duration": 0,
    "start_time": "2022-04-11T21:18:41.329Z"
   },
   {
    "duration": 0,
    "start_time": "2022-04-11T21:18:41.330Z"
   },
   {
    "duration": 0,
    "start_time": "2022-04-11T21:18:41.332Z"
   },
   {
    "duration": 0,
    "start_time": "2022-04-11T21:18:41.333Z"
   },
   {
    "duration": 0,
    "start_time": "2022-04-11T21:18:41.334Z"
   },
   {
    "duration": 0,
    "start_time": "2022-04-11T21:18:41.335Z"
   },
   {
    "duration": 0,
    "start_time": "2022-04-11T21:18:41.335Z"
   },
   {
    "duration": 0,
    "start_time": "2022-04-11T21:18:41.337Z"
   },
   {
    "duration": 0,
    "start_time": "2022-04-11T21:18:41.338Z"
   },
   {
    "duration": 0,
    "start_time": "2022-04-11T21:18:41.339Z"
   },
   {
    "duration": 0,
    "start_time": "2022-04-11T21:18:41.340Z"
   },
   {
    "duration": 0,
    "start_time": "2022-04-11T21:18:41.341Z"
   },
   {
    "duration": 0,
    "start_time": "2022-04-11T21:18:41.342Z"
   },
   {
    "duration": 0,
    "start_time": "2022-04-11T21:18:41.343Z"
   },
   {
    "duration": 0,
    "start_time": "2022-04-11T21:18:41.343Z"
   },
   {
    "duration": 0,
    "start_time": "2022-04-11T21:18:41.345Z"
   },
   {
    "duration": 0,
    "start_time": "2022-04-11T21:18:41.346Z"
   },
   {
    "duration": 0,
    "start_time": "2022-04-11T21:18:41.346Z"
   },
   {
    "duration": 0,
    "start_time": "2022-04-11T21:18:41.347Z"
   },
   {
    "duration": 0,
    "start_time": "2022-04-11T21:18:41.349Z"
   },
   {
    "duration": 0,
    "start_time": "2022-04-11T21:18:41.350Z"
   },
   {
    "duration": 13,
    "start_time": "2022-04-11T21:23:52.280Z"
   },
   {
    "duration": 17,
    "start_time": "2022-04-11T21:33:08.394Z"
   },
   {
    "duration": 17,
    "start_time": "2022-04-11T21:33:39.467Z"
   },
   {
    "duration": 15,
    "start_time": "2022-04-11T21:39:34.986Z"
   },
   {
    "duration": 20,
    "start_time": "2022-04-11T21:41:55.445Z"
   },
   {
    "duration": 20,
    "start_time": "2022-04-11T21:42:33.934Z"
   },
   {
    "duration": 5,
    "start_time": "2022-04-11T22:00:46.082Z"
   },
   {
    "duration": 375,
    "start_time": "2022-04-11T22:08:57.440Z"
   },
   {
    "duration": 53,
    "start_time": "2022-04-11T22:08:57.817Z"
   },
   {
    "duration": 96,
    "start_time": "2022-04-11T22:08:57.872Z"
   },
   {
    "duration": 50,
    "start_time": "2022-04-11T22:08:57.970Z"
   },
   {
    "duration": 18,
    "start_time": "2022-04-11T22:08:58.022Z"
   },
   {
    "duration": 16,
    "start_time": "2022-04-11T22:08:58.041Z"
   },
   {
    "duration": 65,
    "start_time": "2022-04-11T22:08:58.058Z"
   },
   {
    "duration": 28,
    "start_time": "2022-04-11T22:08:58.124Z"
   },
   {
    "duration": 22,
    "start_time": "2022-04-11T22:08:58.154Z"
   },
   {
    "duration": 27,
    "start_time": "2022-04-11T22:08:58.208Z"
   },
   {
    "duration": 30,
    "start_time": "2022-04-11T22:08:58.237Z"
   },
   {
    "duration": 40,
    "start_time": "2022-04-11T22:08:58.269Z"
   },
   {
    "duration": 52,
    "start_time": "2022-04-11T22:08:58.311Z"
   },
   {
    "duration": 55,
    "start_time": "2022-04-11T22:08:58.365Z"
   },
   {
    "duration": 39,
    "start_time": "2022-04-11T22:08:58.421Z"
   },
   {
    "duration": 64,
    "start_time": "2022-04-11T22:08:58.461Z"
   },
   {
    "duration": 18,
    "start_time": "2022-04-11T22:08:58.526Z"
   },
   {
    "duration": 7,
    "start_time": "2022-04-11T22:08:58.546Z"
   },
   {
    "duration": 19,
    "start_time": "2022-04-11T22:08:58.555Z"
   },
   {
    "duration": 43,
    "start_time": "2022-04-11T22:08:58.575Z"
   },
   {
    "duration": 16,
    "start_time": "2022-04-11T22:08:58.620Z"
   },
   {
    "duration": 0,
    "start_time": "2022-04-11T22:08:58.638Z"
   },
   {
    "duration": 0,
    "start_time": "2022-04-11T22:08:58.640Z"
   },
   {
    "duration": 0,
    "start_time": "2022-04-11T22:08:58.641Z"
   },
   {
    "duration": 0,
    "start_time": "2022-04-11T22:08:58.641Z"
   },
   {
    "duration": 0,
    "start_time": "2022-04-11T22:08:58.644Z"
   },
   {
    "duration": 0,
    "start_time": "2022-04-11T22:08:58.644Z"
   },
   {
    "duration": 0,
    "start_time": "2022-04-11T22:08:58.646Z"
   },
   {
    "duration": 0,
    "start_time": "2022-04-11T22:08:58.647Z"
   },
   {
    "duration": 0,
    "start_time": "2022-04-11T22:08:58.648Z"
   },
   {
    "duration": 0,
    "start_time": "2022-04-11T22:08:58.649Z"
   },
   {
    "duration": 0,
    "start_time": "2022-04-11T22:08:58.650Z"
   },
   {
    "duration": 0,
    "start_time": "2022-04-11T22:08:58.651Z"
   },
   {
    "duration": 0,
    "start_time": "2022-04-11T22:08:58.652Z"
   },
   {
    "duration": 0,
    "start_time": "2022-04-11T22:08:58.653Z"
   },
   {
    "duration": 0,
    "start_time": "2022-04-11T22:08:58.654Z"
   },
   {
    "duration": 0,
    "start_time": "2022-04-11T22:08:58.655Z"
   },
   {
    "duration": 0,
    "start_time": "2022-04-11T22:08:58.657Z"
   },
   {
    "duration": 0,
    "start_time": "2022-04-11T22:08:58.657Z"
   },
   {
    "duration": 0,
    "start_time": "2022-04-11T22:08:58.658Z"
   },
   {
    "duration": 0,
    "start_time": "2022-04-11T22:08:58.659Z"
   },
   {
    "duration": 0,
    "start_time": "2022-04-11T22:08:58.708Z"
   },
   {
    "duration": 0,
    "start_time": "2022-04-11T22:08:58.710Z"
   },
   {
    "duration": 7,
    "start_time": "2022-04-11T22:10:10.118Z"
   },
   {
    "duration": 31,
    "start_time": "2022-04-11T22:10:24.128Z"
   },
   {
    "duration": 29,
    "start_time": "2022-04-11T22:10:33.418Z"
   },
   {
    "duration": 14,
    "start_time": "2022-04-11T22:10:46.992Z"
   },
   {
    "duration": 13,
    "start_time": "2022-04-11T22:10:57.753Z"
   },
   {
    "duration": 13,
    "start_time": "2022-04-11T22:11:07.002Z"
   },
   {
    "duration": 13,
    "start_time": "2022-04-11T22:11:18.245Z"
   },
   {
    "duration": 408,
    "start_time": "2022-04-11T22:18:33.645Z"
   },
   {
    "duration": 60,
    "start_time": "2022-04-11T22:18:34.055Z"
   },
   {
    "duration": 55,
    "start_time": "2022-04-11T22:18:34.116Z"
   },
   {
    "duration": 56,
    "start_time": "2022-04-11T22:18:34.173Z"
   },
   {
    "duration": 14,
    "start_time": "2022-04-11T22:18:34.231Z"
   },
   {
    "duration": 16,
    "start_time": "2022-04-11T22:18:34.247Z"
   },
   {
    "duration": 70,
    "start_time": "2022-04-11T22:18:34.264Z"
   },
   {
    "duration": 30,
    "start_time": "2022-04-11T22:18:34.335Z"
   },
   {
    "duration": 42,
    "start_time": "2022-04-11T22:18:34.367Z"
   },
   {
    "duration": 32,
    "start_time": "2022-04-11T22:18:34.412Z"
   },
   {
    "duration": 31,
    "start_time": "2022-04-11T22:18:34.446Z"
   },
   {
    "duration": 36,
    "start_time": "2022-04-11T22:18:34.479Z"
   },
   {
    "duration": 57,
    "start_time": "2022-04-11T22:18:34.517Z"
   },
   {
    "duration": 56,
    "start_time": "2022-04-11T22:18:34.575Z"
   },
   {
    "duration": 41,
    "start_time": "2022-04-11T22:18:34.632Z"
   },
   {
    "duration": 52,
    "start_time": "2022-04-11T22:18:34.674Z"
   },
   {
    "duration": 18,
    "start_time": "2022-04-11T22:18:34.728Z"
   },
   {
    "duration": 8,
    "start_time": "2022-04-11T22:18:34.747Z"
   },
   {
    "duration": 16,
    "start_time": "2022-04-11T22:18:34.756Z"
   },
   {
    "duration": 45,
    "start_time": "2022-04-11T22:18:34.774Z"
   },
   {
    "duration": 17,
    "start_time": "2022-04-11T22:18:34.821Z"
   },
   {
    "duration": 13,
    "start_time": "2022-04-11T22:18:34.839Z"
   },
   {
    "duration": 8,
    "start_time": "2022-04-11T22:18:34.853Z"
   },
   {
    "duration": 135,
    "start_time": "2022-04-11T22:18:34.863Z"
   },
   {
    "duration": 23,
    "start_time": "2022-04-11T22:18:34.999Z"
   },
   {
    "duration": 13,
    "start_time": "2022-04-11T22:18:35.025Z"
   },
   {
    "duration": 13,
    "start_time": "2022-04-11T22:18:35.039Z"
   },
   {
    "duration": 13,
    "start_time": "2022-04-11T22:18:35.055Z"
   },
   {
    "duration": 58,
    "start_time": "2022-04-11T22:18:35.069Z"
   },
   {
    "duration": 16,
    "start_time": "2022-04-11T22:18:35.129Z"
   },
   {
    "duration": 16,
    "start_time": "2022-04-11T22:18:35.146Z"
   },
   {
    "duration": 55,
    "start_time": "2022-04-11T22:18:35.163Z"
   },
   {
    "duration": 282,
    "start_time": "2022-04-11T22:18:35.220Z"
   },
   {
    "duration": 276,
    "start_time": "2022-04-11T22:18:35.504Z"
   },
   {
    "duration": 375,
    "start_time": "2022-04-11T22:18:35.782Z"
   },
   {
    "duration": 271,
    "start_time": "2022-04-11T22:18:36.158Z"
   },
   {
    "duration": 269,
    "start_time": "2022-04-11T22:18:36.430Z"
   },
   {
    "duration": 283,
    "start_time": "2022-04-11T22:18:36.701Z"
   },
   {
    "duration": 264,
    "start_time": "2022-04-11T22:18:36.985Z"
   },
   {
    "duration": 271,
    "start_time": "2022-04-11T22:18:37.251Z"
   },
   {
    "duration": 211,
    "start_time": "2022-04-11T22:18:37.524Z"
   },
   {
    "duration": 307,
    "start_time": "2022-04-11T22:18:37.737Z"
   },
   {
    "duration": 11,
    "start_time": "2022-04-11T22:18:38.045Z"
   },
   {
    "duration": 14,
    "start_time": "2022-04-11T22:18:38.058Z"
   },
   {
    "duration": 1836,
    "start_time": "2022-04-13T22:07:24.483Z"
   },
   {
    "duration": 70,
    "start_time": "2022-04-13T22:07:26.322Z"
   },
   {
    "duration": 73,
    "start_time": "2022-04-13T22:07:26.393Z"
   },
   {
    "duration": 65,
    "start_time": "2022-04-13T22:07:26.468Z"
   },
   {
    "duration": 18,
    "start_time": "2022-04-13T22:07:26.534Z"
   },
   {
    "duration": 21,
    "start_time": "2022-04-13T22:07:26.554Z"
   },
   {
    "duration": 74,
    "start_time": "2022-04-13T22:07:26.577Z"
   },
   {
    "duration": 37,
    "start_time": "2022-04-13T22:07:26.653Z"
   },
   {
    "duration": 50,
    "start_time": "2022-04-13T22:07:26.693Z"
   },
   {
    "duration": 32,
    "start_time": "2022-04-13T22:07:26.747Z"
   },
   {
    "duration": 73,
    "start_time": "2022-04-13T22:07:26.781Z"
   },
   {
    "duration": 15,
    "start_time": "2022-04-13T22:07:26.856Z"
   },
   {
    "duration": 108,
    "start_time": "2022-04-13T22:07:26.874Z"
   },
   {
    "duration": 69,
    "start_time": "2022-04-13T22:07:26.985Z"
   },
   {
    "duration": 78,
    "start_time": "2022-04-13T22:07:27.057Z"
   },
   {
    "duration": 54,
    "start_time": "2022-04-13T22:07:27.137Z"
   },
   {
    "duration": 49,
    "start_time": "2022-04-13T22:07:27.194Z"
   },
   {
    "duration": 15,
    "start_time": "2022-04-13T22:07:27.246Z"
   },
   {
    "duration": 26,
    "start_time": "2022-04-13T22:07:27.263Z"
   },
   {
    "duration": 34,
    "start_time": "2022-04-13T22:07:27.291Z"
   },
   {
    "duration": 18,
    "start_time": "2022-04-13T22:07:27.327Z"
   },
   {
    "duration": 138,
    "start_time": "2022-04-13T22:07:27.347Z"
   },
   {
    "duration": 15,
    "start_time": "2022-04-13T22:07:27.487Z"
   },
   {
    "duration": 24,
    "start_time": "2022-04-13T22:07:27.504Z"
   },
   {
    "duration": 23,
    "start_time": "2022-04-13T22:07:27.530Z"
   },
   {
    "duration": 15,
    "start_time": "2022-04-13T22:07:27.555Z"
   },
   {
    "duration": 47,
    "start_time": "2022-04-13T22:07:27.572Z"
   },
   {
    "duration": 18,
    "start_time": "2022-04-13T22:07:27.623Z"
   },
   {
    "duration": 18,
    "start_time": "2022-04-13T22:07:27.643Z"
   },
   {
    "duration": 66,
    "start_time": "2022-04-13T22:07:27.663Z"
   },
   {
    "duration": 506,
    "start_time": "2022-04-13T22:07:27.731Z"
   },
   {
    "duration": 296,
    "start_time": "2022-04-13T22:07:28.239Z"
   },
   {
    "duration": 310,
    "start_time": "2022-04-13T22:07:28.536Z"
   },
   {
    "duration": 290,
    "start_time": "2022-04-13T22:07:28.848Z"
   },
   {
    "duration": 286,
    "start_time": "2022-04-13T22:07:29.140Z"
   },
   {
    "duration": 370,
    "start_time": "2022-04-13T22:07:29.428Z"
   },
   {
    "duration": 276,
    "start_time": "2022-04-13T22:07:29.799Z"
   },
   {
    "duration": 270,
    "start_time": "2022-04-13T22:07:30.077Z"
   },
   {
    "duration": 231,
    "start_time": "2022-04-13T22:07:30.348Z"
   },
   {
    "duration": 320,
    "start_time": "2022-04-13T22:07:30.580Z"
   },
   {
    "duration": 23,
    "start_time": "2022-04-13T22:07:30.902Z"
   },
   {
    "duration": 26,
    "start_time": "2022-04-13T22:07:30.928Z"
   },
   {
    "duration": 13,
    "start_time": "2022-04-13T22:08:08.513Z"
   },
   {
    "duration": 433,
    "start_time": "2022-04-13T22:11:34.217Z"
   },
   {
    "duration": 66,
    "start_time": "2022-04-13T22:11:39.518Z"
   },
   {
    "duration": 59,
    "start_time": "2022-04-13T22:11:43.732Z"
   },
   {
    "duration": 46,
    "start_time": "2022-04-13T22:11:48.033Z"
   },
   {
    "duration": 17,
    "start_time": "2022-04-13T22:11:59.088Z"
   },
   {
    "duration": 21,
    "start_time": "2022-04-13T22:12:03.912Z"
   },
   {
    "duration": 36,
    "start_time": "2022-04-13T22:12:14.662Z"
   },
   {
    "duration": 38,
    "start_time": "2022-04-13T22:12:45.005Z"
   },
   {
    "duration": 32,
    "start_time": "2022-04-13T22:12:57.816Z"
   },
   {
    "duration": 435,
    "start_time": "2022-04-13T22:14:22.335Z"
   },
   {
    "duration": 65,
    "start_time": "2022-04-13T22:14:27.606Z"
   },
   {
    "duration": 55,
    "start_time": "2022-04-13T22:14:36.159Z"
   },
   {
    "duration": 40,
    "start_time": "2022-04-13T22:16:31.778Z"
   },
   {
    "duration": 17,
    "start_time": "2022-04-13T22:16:35.590Z"
   },
   {
    "duration": 21,
    "start_time": "2022-04-13T22:16:39.552Z"
   },
   {
    "duration": 36,
    "start_time": "2022-04-13T22:16:49.287Z"
   },
   {
    "duration": 34,
    "start_time": "2022-04-13T22:16:51.952Z"
   },
   {
    "duration": 27,
    "start_time": "2022-04-13T22:17:04.803Z"
   },
   {
    "duration": 31,
    "start_time": "2022-04-13T22:17:08.882Z"
   },
   {
    "duration": 37,
    "start_time": "2022-04-13T22:18:17.239Z"
   },
   {
    "duration": 54,
    "start_time": "2022-04-13T22:18:22.230Z"
   },
   {
    "duration": 37,
    "start_time": "2022-04-13T22:18:38.568Z"
   },
   {
    "duration": 22,
    "start_time": "2022-04-13T22:18:48.138Z"
   },
   {
    "duration": 22,
    "start_time": "2022-04-13T22:19:13.962Z"
   },
   {
    "duration": 14,
    "start_time": "2022-04-13T22:21:12.953Z"
   },
   {
    "duration": 21,
    "start_time": "2022-04-13T22:21:23.538Z"
   },
   {
    "duration": 17,
    "start_time": "2022-04-13T22:22:20.623Z"
   },
   {
    "duration": 15,
    "start_time": "2022-04-13T22:28:14.212Z"
   },
   {
    "duration": 16,
    "start_time": "2022-04-13T22:28:32.848Z"
   },
   {
    "duration": 16,
    "start_time": "2022-04-13T22:29:26.124Z"
   },
   {
    "duration": 17,
    "start_time": "2022-04-13T22:30:34.127Z"
   },
   {
    "duration": 103,
    "start_time": "2022-04-13T22:36:04.166Z"
   },
   {
    "duration": 100,
    "start_time": "2022-04-13T22:38:17.536Z"
   },
   {
    "duration": 13,
    "start_time": "2022-04-13T22:40:22.207Z"
   },
   {
    "duration": 15,
    "start_time": "2022-04-13T22:41:42.764Z"
   },
   {
    "duration": 15,
    "start_time": "2022-04-13T22:41:49.896Z"
   },
   {
    "duration": 15,
    "start_time": "2022-04-13T22:41:54.361Z"
   },
   {
    "duration": 27,
    "start_time": "2022-04-13T22:42:01.311Z"
   },
   {
    "duration": 139,
    "start_time": "2022-04-13T22:42:32.866Z"
   },
   {
    "duration": 132,
    "start_time": "2022-04-13T22:42:55.345Z"
   },
   {
    "duration": 19,
    "start_time": "2022-04-13T22:43:07.593Z"
   },
   {
    "duration": 139,
    "start_time": "2022-04-13T22:43:20.958Z"
   },
   {
    "duration": 19,
    "start_time": "2022-04-13T22:43:51.118Z"
   },
   {
    "duration": 157,
    "start_time": "2022-04-13T22:44:01.314Z"
   },
   {
    "duration": 153,
    "start_time": "2022-04-13T22:44:17.758Z"
   },
   {
    "duration": 142,
    "start_time": "2022-04-13T22:44:29.085Z"
   },
   {
    "duration": 192,
    "start_time": "2022-04-13T22:44:58.171Z"
   },
   {
    "duration": 21,
    "start_time": "2022-04-13T22:45:20.910Z"
   },
   {
    "duration": 17,
    "start_time": "2022-04-13T22:45:35.790Z"
   },
   {
    "duration": 18,
    "start_time": "2022-04-13T22:45:47.890Z"
   },
   {
    "duration": 143,
    "start_time": "2022-04-13T22:46:03.285Z"
   },
   {
    "duration": 135,
    "start_time": "2022-04-13T22:46:07.448Z"
   },
   {
    "duration": 18,
    "start_time": "2022-04-13T22:46:19.015Z"
   },
   {
    "duration": 128,
    "start_time": "2022-04-13T22:46:26.862Z"
   },
   {
    "duration": 18,
    "start_time": "2022-04-13T22:46:43.505Z"
   },
   {
    "duration": 18,
    "start_time": "2022-04-13T22:46:53.508Z"
   },
   {
    "duration": 18,
    "start_time": "2022-04-13T22:47:08.030Z"
   },
   {
    "duration": 19,
    "start_time": "2022-04-13T22:47:15.946Z"
   },
   {
    "duration": 17,
    "start_time": "2022-04-13T22:47:27.140Z"
   },
   {
    "duration": 267,
    "start_time": "2022-04-13T22:47:59.722Z"
   },
   {
    "duration": 265,
    "start_time": "2022-04-13T22:48:03.905Z"
   },
   {
    "duration": 354,
    "start_time": "2022-04-13T22:48:06.886Z"
   },
   {
    "duration": 270,
    "start_time": "2022-04-13T22:48:11.910Z"
   },
   {
    "duration": 261,
    "start_time": "2022-04-13T22:48:37.450Z"
   },
   {
    "duration": 264,
    "start_time": "2022-04-13T22:49:00.200Z"
   },
   {
    "duration": 268,
    "start_time": "2022-04-13T22:49:08.200Z"
   },
   {
    "duration": 239,
    "start_time": "2022-04-13T22:49:15.355Z"
   },
   {
    "duration": 241,
    "start_time": "2022-04-13T22:49:18.344Z"
   },
   {
    "duration": 219,
    "start_time": "2022-04-13T22:49:21.657Z"
   },
   {
    "duration": 468,
    "start_time": "2022-04-13T22:49:27.460Z"
   },
   {
    "duration": 12,
    "start_time": "2022-04-13T22:50:47.644Z"
   },
   {
    "duration": 1967,
    "start_time": "2022-04-14T20:31:14.803Z"
   },
   {
    "duration": 75,
    "start_time": "2022-04-14T20:31:16.772Z"
   },
   {
    "duration": 50,
    "start_time": "2022-04-14T20:31:16.849Z"
   },
   {
    "duration": 75,
    "start_time": "2022-04-14T20:31:16.900Z"
   },
   {
    "duration": 45,
    "start_time": "2022-04-14T20:31:16.977Z"
   },
   {
    "duration": 26,
    "start_time": "2022-04-14T20:31:17.023Z"
   },
   {
    "duration": 73,
    "start_time": "2022-04-14T20:31:17.051Z"
   },
   {
    "duration": 44,
    "start_time": "2022-04-14T20:31:17.127Z"
   },
   {
    "duration": 29,
    "start_time": "2022-04-14T20:31:17.172Z"
   },
   {
    "duration": 51,
    "start_time": "2022-04-14T20:31:17.203Z"
   },
   {
    "duration": 35,
    "start_time": "2022-04-14T20:31:17.256Z"
   },
   {
    "duration": 44,
    "start_time": "2022-04-14T20:31:17.293Z"
   },
   {
    "duration": 61,
    "start_time": "2022-04-14T20:31:17.338Z"
   },
   {
    "duration": 57,
    "start_time": "2022-04-14T20:31:17.401Z"
   },
   {
    "duration": 74,
    "start_time": "2022-04-14T20:31:17.459Z"
   },
   {
    "duration": 32,
    "start_time": "2022-04-14T20:31:17.536Z"
   },
   {
    "duration": 19,
    "start_time": "2022-04-14T20:31:17.570Z"
   },
   {
    "duration": 41,
    "start_time": "2022-04-14T20:31:17.591Z"
   },
   {
    "duration": 31,
    "start_time": "2022-04-14T20:31:17.635Z"
   },
   {
    "duration": 22,
    "start_time": "2022-04-14T20:31:17.668Z"
   },
   {
    "duration": 46,
    "start_time": "2022-04-14T20:31:17.692Z"
   },
   {
    "duration": 21,
    "start_time": "2022-04-14T20:31:17.741Z"
   },
   {
    "duration": 140,
    "start_time": "2022-04-14T20:31:17.765Z"
   },
   {
    "duration": 28,
    "start_time": "2022-04-14T20:31:17.907Z"
   },
   {
    "duration": 17,
    "start_time": "2022-04-14T20:31:17.937Z"
   },
   {
    "duration": 19,
    "start_time": "2022-04-14T20:31:17.957Z"
   },
   {
    "duration": 49,
    "start_time": "2022-04-14T20:31:17.978Z"
   },
   {
    "duration": 27,
    "start_time": "2022-04-14T20:31:18.031Z"
   },
   {
    "duration": 21,
    "start_time": "2022-04-14T20:31:18.060Z"
   },
   {
    "duration": 53,
    "start_time": "2022-04-14T20:31:18.082Z"
   },
   {
    "duration": 22,
    "start_time": "2022-04-14T20:31:18.137Z"
   },
   {
    "duration": 326,
    "start_time": "2022-04-14T20:31:18.160Z"
   },
   {
    "duration": 337,
    "start_time": "2022-04-14T20:31:18.488Z"
   },
   {
    "duration": 291,
    "start_time": "2022-04-14T20:31:18.830Z"
   },
   {
    "duration": 308,
    "start_time": "2022-04-14T20:31:19.124Z"
   },
   {
    "duration": 447,
    "start_time": "2022-04-14T20:31:19.436Z"
   },
   {
    "duration": 564,
    "start_time": "2022-04-14T20:31:19.886Z"
   },
   {
    "duration": 438,
    "start_time": "2022-04-14T20:31:20.453Z"
   },
   {
    "duration": 286,
    "start_time": "2022-04-14T20:31:20.893Z"
   },
   {
    "duration": 233,
    "start_time": "2022-04-14T20:31:21.181Z"
   },
   {
    "duration": 510,
    "start_time": "2022-04-14T20:31:21.417Z"
   },
   {
    "duration": 15,
    "start_time": "2022-04-14T20:31:21.930Z"
   },
   {
    "duration": 15,
    "start_time": "2022-04-14T20:31:21.947Z"
   },
   {
    "duration": 337,
    "start_time": "2022-04-14T22:19:58.159Z"
   },
   {
    "duration": 288,
    "start_time": "2022-04-14T22:35:26.186Z"
   },
   {
    "duration": 386,
    "start_time": "2022-04-14T22:35:35.547Z"
   },
   {
    "duration": 14,
    "start_time": "2022-04-14T23:24:10.396Z"
   },
   {
    "duration": 15,
    "start_time": "2022-04-14T23:36:39.938Z"
   },
   {
    "duration": 8,
    "start_time": "2022-04-14T23:36:50.833Z"
   },
   {
    "duration": 8,
    "start_time": "2022-04-14T23:37:14.856Z"
   },
   {
    "duration": 7,
    "start_time": "2022-04-14T23:47:14.239Z"
   },
   {
    "duration": 12,
    "start_time": "2022-04-14T23:47:55.815Z"
   },
   {
    "duration": 1783,
    "start_time": "2022-04-15T08:08:40.435Z"
   },
   {
    "duration": 63,
    "start_time": "2022-04-15T08:08:42.221Z"
   },
   {
    "duration": 52,
    "start_time": "2022-04-15T08:08:42.286Z"
   },
   {
    "duration": 58,
    "start_time": "2022-04-15T08:08:42.341Z"
   },
   {
    "duration": 16,
    "start_time": "2022-04-15T08:08:42.401Z"
   },
   {
    "duration": 18,
    "start_time": "2022-04-15T08:08:42.419Z"
   },
   {
    "duration": 35,
    "start_time": "2022-04-15T08:08:42.474Z"
   },
   {
    "duration": 31,
    "start_time": "2022-04-15T08:08:42.511Z"
   },
   {
    "duration": 47,
    "start_time": "2022-04-15T08:08:42.543Z"
   },
   {
    "duration": 26,
    "start_time": "2022-04-15T08:08:42.592Z"
   },
   {
    "duration": 53,
    "start_time": "2022-04-15T08:08:42.620Z"
   },
   {
    "duration": 13,
    "start_time": "2022-04-15T08:08:42.675Z"
   },
   {
    "duration": 58,
    "start_time": "2022-04-15T08:08:42.690Z"
   },
   {
    "duration": 57,
    "start_time": "2022-04-15T08:08:42.749Z"
   },
   {
    "duration": 41,
    "start_time": "2022-04-15T08:08:42.808Z"
   },
   {
    "duration": 47,
    "start_time": "2022-04-15T08:08:42.851Z"
   },
   {
    "duration": 19,
    "start_time": "2022-04-15T08:08:42.899Z"
   },
   {
    "duration": 8,
    "start_time": "2022-04-15T08:08:42.920Z"
   },
   {
    "duration": 48,
    "start_time": "2022-04-15T08:08:42.930Z"
   },
   {
    "duration": 14,
    "start_time": "2022-04-15T08:08:42.980Z"
   },
   {
    "duration": 17,
    "start_time": "2022-04-15T08:08:42.996Z"
   },
   {
    "duration": 17,
    "start_time": "2022-04-15T08:08:43.014Z"
   },
   {
    "duration": 137,
    "start_time": "2022-04-15T08:08:43.033Z"
   },
   {
    "duration": 13,
    "start_time": "2022-04-15T08:08:43.173Z"
   },
   {
    "duration": 12,
    "start_time": "2022-04-15T08:08:43.187Z"
   },
   {
    "duration": 13,
    "start_time": "2022-04-15T08:08:43.201Z"
   },
   {
    "duration": 13,
    "start_time": "2022-04-15T08:08:43.215Z"
   },
   {
    "duration": 55,
    "start_time": "2022-04-15T08:08:43.232Z"
   },
   {
    "duration": 16,
    "start_time": "2022-04-15T08:08:43.288Z"
   },
   {
    "duration": 14,
    "start_time": "2022-04-15T08:08:43.306Z"
   },
   {
    "duration": 55,
    "start_time": "2022-04-15T08:08:43.322Z"
   },
   {
    "duration": 281,
    "start_time": "2022-04-15T08:08:43.379Z"
   },
   {
    "duration": 274,
    "start_time": "2022-04-15T08:08:43.662Z"
   },
   {
    "duration": 264,
    "start_time": "2022-04-15T08:08:43.938Z"
   },
   {
    "duration": 263,
    "start_time": "2022-04-15T08:08:44.204Z"
   },
   {
    "duration": 263,
    "start_time": "2022-04-15T08:08:44.469Z"
   },
   {
    "duration": 343,
    "start_time": "2022-04-15T08:08:44.734Z"
   },
   {
    "duration": 244,
    "start_time": "2022-04-15T08:08:45.079Z"
   },
   {
    "duration": 244,
    "start_time": "2022-04-15T08:08:45.324Z"
   },
   {
    "duration": 202,
    "start_time": "2022-04-15T08:08:45.573Z"
   },
   {
    "duration": 303,
    "start_time": "2022-04-15T08:08:45.777Z"
   },
   {
    "duration": 12,
    "start_time": "2022-04-15T08:08:46.082Z"
   },
   {
    "duration": 18,
    "start_time": "2022-04-15T08:08:46.096Z"
   },
   {
    "duration": 29,
    "start_time": "2022-04-15T08:26:39.574Z"
   },
   {
    "duration": 1524,
    "start_time": "2022-04-15T08:26:55.879Z"
   },
   {
    "duration": 63,
    "start_time": "2022-04-15T08:26:57.405Z"
   },
   {
    "duration": 51,
    "start_time": "2022-04-15T08:26:57.469Z"
   },
   {
    "duration": 58,
    "start_time": "2022-04-15T08:26:57.522Z"
   },
   {
    "duration": 15,
    "start_time": "2022-04-15T08:26:57.582Z"
   },
   {
    "duration": 17,
    "start_time": "2022-04-15T08:26:57.599Z"
   },
   {
    "duration": 64,
    "start_time": "2022-04-15T08:26:57.618Z"
   },
   {
    "duration": 32,
    "start_time": "2022-04-15T08:26:57.684Z"
   },
   {
    "duration": 27,
    "start_time": "2022-04-15T08:26:57.718Z"
   },
   {
    "duration": 50,
    "start_time": "2022-04-15T08:26:57.748Z"
   },
   {
    "duration": 34,
    "start_time": "2022-04-15T08:26:57.800Z"
   },
   {
    "duration": 41,
    "start_time": "2022-04-15T08:26:57.836Z"
   },
   {
    "duration": 56,
    "start_time": "2022-04-15T08:26:57.878Z"
   },
   {
    "duration": 59,
    "start_time": "2022-04-15T08:26:57.936Z"
   },
   {
    "duration": 43,
    "start_time": "2022-04-15T08:26:57.997Z"
   },
   {
    "duration": 52,
    "start_time": "2022-04-15T08:26:58.042Z"
   },
   {
    "duration": 20,
    "start_time": "2022-04-15T08:26:58.096Z"
   },
   {
    "duration": 10,
    "start_time": "2022-04-15T08:26:58.117Z"
   },
   {
    "duration": 45,
    "start_time": "2022-04-15T08:26:58.128Z"
   },
   {
    "duration": 14,
    "start_time": "2022-04-15T08:26:58.176Z"
   },
   {
    "duration": 16,
    "start_time": "2022-04-15T08:26:58.192Z"
   },
   {
    "duration": 15,
    "start_time": "2022-04-15T08:26:58.210Z"
   },
   {
    "duration": 130,
    "start_time": "2022-04-15T08:26:58.226Z"
   },
   {
    "duration": 17,
    "start_time": "2022-04-15T08:26:58.358Z"
   },
   {
    "duration": 13,
    "start_time": "2022-04-15T08:26:58.376Z"
   },
   {
    "duration": 12,
    "start_time": "2022-04-15T08:26:58.391Z"
   },
   {
    "duration": 12,
    "start_time": "2022-04-15T08:26:58.405Z"
   },
   {
    "duration": 54,
    "start_time": "2022-04-15T08:26:58.420Z"
   },
   {
    "duration": 15,
    "start_time": "2022-04-15T08:26:58.476Z"
   },
   {
    "duration": 15,
    "start_time": "2022-04-15T08:26:58.492Z"
   },
   {
    "duration": 15,
    "start_time": "2022-04-15T08:26:58.508Z"
   },
   {
    "duration": 314,
    "start_time": "2022-04-15T08:26:58.524Z"
   },
   {
    "duration": 280,
    "start_time": "2022-04-15T08:26:58.839Z"
   },
   {
    "duration": 262,
    "start_time": "2022-04-15T08:26:59.121Z"
   },
   {
    "duration": 265,
    "start_time": "2022-04-15T08:26:59.385Z"
   },
   {
    "duration": 263,
    "start_time": "2022-04-15T08:26:59.651Z"
   },
   {
    "duration": 363,
    "start_time": "2022-04-15T08:26:59.916Z"
   },
   {
    "duration": 261,
    "start_time": "2022-04-15T08:27:00.281Z"
   },
   {
    "duration": 243,
    "start_time": "2022-04-15T08:27:00.544Z"
   },
   {
    "duration": 213,
    "start_time": "2022-04-15T08:27:00.789Z"
   },
   {
    "duration": 315,
    "start_time": "2022-04-15T08:27:01.004Z"
   },
   {
    "duration": 12,
    "start_time": "2022-04-15T08:27:01.321Z"
   },
   {
    "duration": 33,
    "start_time": "2022-04-15T08:27:01.334Z"
   },
   {
    "duration": 419,
    "start_time": "2022-04-15T09:14:17.487Z"
   },
   {
    "duration": 59,
    "start_time": "2022-04-15T09:14:19.628Z"
   },
   {
    "duration": 53,
    "start_time": "2022-04-15T09:14:24.043Z"
   },
   {
    "duration": 36,
    "start_time": "2022-04-15T09:14:27.855Z"
   },
   {
    "duration": 21,
    "start_time": "2022-04-15T09:14:31.923Z"
   },
   {
    "duration": 29,
    "start_time": "2022-04-15T09:14:42.911Z"
   },
   {
    "duration": 32,
    "start_time": "2022-04-15T09:14:55.309Z"
   },
   {
    "duration": 30,
    "start_time": "2022-04-15T09:14:57.933Z"
   },
   {
    "duration": 25,
    "start_time": "2022-04-15T09:15:02.920Z"
   },
   {
    "duration": 29,
    "start_time": "2022-04-15T09:15:15.145Z"
   },
   {
    "duration": 34,
    "start_time": "2022-04-15T09:15:34.170Z"
   },
   {
    "duration": 16,
    "start_time": "2022-04-15T09:15:38.540Z"
   },
   {
    "duration": 54,
    "start_time": "2022-04-15T09:15:43.521Z"
   },
   {
    "duration": 36,
    "start_time": "2022-04-15T09:15:53.085Z"
   },
   {
    "duration": 41,
    "start_time": "2022-04-15T09:15:57.474Z"
   },
   {
    "duration": 136,
    "start_time": "2022-04-15T09:16:01.950Z"
   },
   {
    "duration": 21,
    "start_time": "2022-04-15T09:16:05.821Z"
   },
   {
    "duration": 14,
    "start_time": "2022-04-15T09:16:10.705Z"
   },
   {
    "duration": 18,
    "start_time": "2022-04-15T09:16:13.722Z"
   },
   {
    "duration": 16,
    "start_time": "2022-04-15T09:16:35.505Z"
   },
   {
    "duration": 23,
    "start_time": "2022-04-15T09:16:45.061Z"
   },
   {
    "duration": 15,
    "start_time": "2022-04-15T09:16:51.719Z"
   },
   {
    "duration": 103,
    "start_time": "2022-04-15T09:17:32.978Z"
   },
   {
    "duration": 98,
    "start_time": "2022-04-15T09:17:36.214Z"
   },
   {
    "duration": 4,
    "start_time": "2022-04-15T09:17:53.298Z"
   },
   {
    "duration": 119,
    "start_time": "2022-04-15T09:24:21.527Z"
   },
   {
    "duration": 13,
    "start_time": "2022-04-15T09:24:30.589Z"
   },
   {
    "duration": 118,
    "start_time": "2022-04-15T09:27:04.138Z"
   },
   {
    "duration": 14,
    "start_time": "2022-04-15T09:27:10.112Z"
   },
   {
    "duration": 13,
    "start_time": "2022-04-15T09:30:00.370Z"
   },
   {
    "duration": 14,
    "start_time": "2022-04-15T09:30:06.224Z"
   },
   {
    "duration": 14,
    "start_time": "2022-04-15T09:31:05.464Z"
   },
   {
    "duration": 21,
    "start_time": "2022-04-15T09:31:12.411Z"
   },
   {
    "duration": 13,
    "start_time": "2022-04-15T09:32:24.790Z"
   },
   {
    "duration": 13,
    "start_time": "2022-04-15T09:33:01.417Z"
   },
   {
    "duration": 18,
    "start_time": "2022-04-15T09:33:13.063Z"
   },
   {
    "duration": 17,
    "start_time": "2022-04-15T09:33:19.548Z"
   },
   {
    "duration": 16,
    "start_time": "2022-04-15T09:33:24.897Z"
   },
   {
    "duration": 18,
    "start_time": "2022-04-15T09:35:16.701Z"
   },
   {
    "duration": 250,
    "start_time": "2022-04-15T09:35:32.268Z"
   },
   {
    "duration": 253,
    "start_time": "2022-04-15T09:35:40.818Z"
   },
   {
    "duration": 247,
    "start_time": "2022-04-15T09:35:48.708Z"
   },
   {
    "duration": 257,
    "start_time": "2022-04-15T09:36:00.818Z"
   },
   {
    "duration": 240,
    "start_time": "2022-04-15T09:36:16.362Z"
   },
   {
    "duration": 260,
    "start_time": "2022-04-15T09:36:35.373Z"
   },
   {
    "duration": 230,
    "start_time": "2022-04-15T09:37:13.123Z"
   },
   {
    "duration": 186,
    "start_time": "2022-04-15T09:37:17.370Z"
   },
   {
    "duration": 406,
    "start_time": "2022-04-15T09:37:23.505Z"
   },
   {
    "duration": 239,
    "start_time": "2022-04-15T09:45:48.591Z"
   },
   {
    "duration": 11,
    "start_time": "2022-04-15T09:46:17.572Z"
   },
   {
    "duration": 12,
    "start_time": "2022-04-15T09:46:23.677Z"
   },
   {
    "duration": 304,
    "start_time": "2022-04-15T09:50:45.279Z"
   },
   {
    "duration": 301,
    "start_time": "2022-04-15T09:52:05.347Z"
   },
   {
    "duration": 316,
    "start_time": "2022-04-15T09:53:01.649Z"
   },
   {
    "duration": 206,
    "start_time": "2022-04-15T09:53:59.219Z"
   },
   {
    "duration": 251,
    "start_time": "2022-04-15T09:55:13.787Z"
   },
   {
    "duration": 417,
    "start_time": "2022-04-15T09:55:59.696Z"
   },
   {
    "duration": 1491,
    "start_time": "2022-04-15T10:17:52.530Z"
   },
   {
    "duration": 66,
    "start_time": "2022-04-15T10:17:54.024Z"
   },
   {
    "duration": 53,
    "start_time": "2022-04-15T10:17:54.092Z"
   },
   {
    "duration": 58,
    "start_time": "2022-04-15T10:17:54.148Z"
   },
   {
    "duration": 16,
    "start_time": "2022-04-15T10:17:54.208Z"
   },
   {
    "duration": 51,
    "start_time": "2022-04-15T10:17:54.225Z"
   },
   {
    "duration": 36,
    "start_time": "2022-04-15T10:17:54.278Z"
   },
   {
    "duration": 31,
    "start_time": "2022-04-15T10:17:54.315Z"
   },
   {
    "duration": 49,
    "start_time": "2022-04-15T10:17:54.347Z"
   },
   {
    "duration": 29,
    "start_time": "2022-04-15T10:17:54.399Z"
   },
   {
    "duration": 67,
    "start_time": "2022-04-15T10:17:54.430Z"
   },
   {
    "duration": 13,
    "start_time": "2022-04-15T10:17:54.499Z"
   },
   {
    "duration": 73,
    "start_time": "2022-04-15T10:17:54.514Z"
   },
   {
    "duration": 39,
    "start_time": "2022-04-15T10:17:54.590Z"
   },
   {
    "duration": 68,
    "start_time": "2022-04-15T10:17:54.631Z"
   },
   {
    "duration": 31,
    "start_time": "2022-04-15T10:17:54.701Z"
   },
   {
    "duration": 40,
    "start_time": "2022-04-15T10:17:54.733Z"
   },
   {
    "duration": 9,
    "start_time": "2022-04-15T10:17:54.775Z"
   },
   {
    "duration": 21,
    "start_time": "2022-04-15T10:17:54.786Z"
   },
   {
    "duration": 14,
    "start_time": "2022-04-15T10:17:54.809Z"
   },
   {
    "duration": 15,
    "start_time": "2022-04-15T10:17:54.825Z"
   },
   {
    "duration": 46,
    "start_time": "2022-04-15T10:17:54.842Z"
   },
   {
    "duration": 125,
    "start_time": "2022-04-15T10:17:54.890Z"
   },
   {
    "duration": 0,
    "start_time": "2022-04-15T10:17:55.018Z"
   },
   {
    "duration": 0,
    "start_time": "2022-04-15T10:17:55.019Z"
   },
   {
    "duration": 0,
    "start_time": "2022-04-15T10:17:55.021Z"
   },
   {
    "duration": 0,
    "start_time": "2022-04-15T10:17:55.022Z"
   },
   {
    "duration": 0,
    "start_time": "2022-04-15T10:17:55.023Z"
   },
   {
    "duration": 0,
    "start_time": "2022-04-15T10:17:55.025Z"
   },
   {
    "duration": 0,
    "start_time": "2022-04-15T10:17:55.025Z"
   },
   {
    "duration": 0,
    "start_time": "2022-04-15T10:17:55.026Z"
   },
   {
    "duration": 0,
    "start_time": "2022-04-15T10:17:55.027Z"
   },
   {
    "duration": 0,
    "start_time": "2022-04-15T10:17:55.028Z"
   },
   {
    "duration": 0,
    "start_time": "2022-04-15T10:17:55.029Z"
   },
   {
    "duration": 0,
    "start_time": "2022-04-15T10:17:55.030Z"
   },
   {
    "duration": 0,
    "start_time": "2022-04-15T10:17:55.031Z"
   },
   {
    "duration": 0,
    "start_time": "2022-04-15T10:17:55.032Z"
   },
   {
    "duration": 0,
    "start_time": "2022-04-15T10:17:55.033Z"
   },
   {
    "duration": 0,
    "start_time": "2022-04-15T10:17:55.034Z"
   },
   {
    "duration": 0,
    "start_time": "2022-04-15T10:17:55.036Z"
   },
   {
    "duration": 0,
    "start_time": "2022-04-15T10:17:55.037Z"
   },
   {
    "duration": 0,
    "start_time": "2022-04-15T10:17:55.038Z"
   },
   {
    "duration": 0,
    "start_time": "2022-04-15T10:17:55.074Z"
   },
   {
    "duration": 1512,
    "start_time": "2022-04-15T10:35:26.433Z"
   },
   {
    "duration": 63,
    "start_time": "2022-04-15T10:35:27.947Z"
   },
   {
    "duration": 66,
    "start_time": "2022-04-15T10:35:28.012Z"
   },
   {
    "duration": 35,
    "start_time": "2022-04-15T10:35:28.080Z"
   },
   {
    "duration": 17,
    "start_time": "2022-04-15T10:35:28.117Z"
   },
   {
    "duration": 49,
    "start_time": "2022-04-15T10:35:28.135Z"
   },
   {
    "duration": 35,
    "start_time": "2022-04-15T10:35:28.186Z"
   },
   {
    "duration": 56,
    "start_time": "2022-04-15T10:35:28.223Z"
   },
   {
    "duration": 27,
    "start_time": "2022-04-15T10:35:28.282Z"
   },
   {
    "duration": 28,
    "start_time": "2022-04-15T10:35:28.312Z"
   },
   {
    "duration": 34,
    "start_time": "2022-04-15T10:35:28.374Z"
   },
   {
    "duration": 15,
    "start_time": "2022-04-15T10:35:28.410Z"
   },
   {
    "duration": 81,
    "start_time": "2022-04-15T10:35:28.427Z"
   },
   {
    "duration": 39,
    "start_time": "2022-04-15T10:35:28.510Z"
   },
   {
    "duration": 59,
    "start_time": "2022-04-15T10:35:28.551Z"
   },
   {
    "duration": 30,
    "start_time": "2022-04-15T10:35:28.612Z"
   },
   {
    "duration": 46,
    "start_time": "2022-04-15T10:35:28.644Z"
   },
   {
    "duration": 9,
    "start_time": "2022-04-15T10:35:28.693Z"
   },
   {
    "duration": 17,
    "start_time": "2022-04-15T10:35:28.704Z"
   },
   {
    "duration": 15,
    "start_time": "2022-04-15T10:35:28.722Z"
   },
   {
    "duration": 48,
    "start_time": "2022-04-15T10:35:28.739Z"
   },
   {
    "duration": 16,
    "start_time": "2022-04-15T10:35:28.789Z"
   },
   {
    "duration": 143,
    "start_time": "2022-04-15T10:35:28.807Z"
   },
   {
    "duration": 13,
    "start_time": "2022-04-15T10:35:28.952Z"
   },
   {
    "duration": 12,
    "start_time": "2022-04-15T10:35:28.973Z"
   },
   {
    "duration": 12,
    "start_time": "2022-04-15T10:35:28.987Z"
   },
   {
    "duration": 12,
    "start_time": "2022-04-15T10:35:29.001Z"
   },
   {
    "duration": 19,
    "start_time": "2022-04-15T10:35:29.017Z"
   },
   {
    "duration": 19,
    "start_time": "2022-04-15T10:35:29.073Z"
   },
   {
    "duration": 15,
    "start_time": "2022-04-15T10:35:29.094Z"
   },
   {
    "duration": 14,
    "start_time": "2022-04-15T10:35:29.111Z"
   },
   {
    "duration": 314,
    "start_time": "2022-04-15T10:35:29.127Z"
   },
   {
    "duration": 278,
    "start_time": "2022-04-15T10:35:29.443Z"
   },
   {
    "duration": 286,
    "start_time": "2022-04-15T10:35:29.722Z"
   },
   {
    "duration": 290,
    "start_time": "2022-04-15T10:35:30.010Z"
   },
   {
    "duration": 273,
    "start_time": "2022-04-15T10:35:30.302Z"
   },
   {
    "duration": 364,
    "start_time": "2022-04-15T10:35:30.577Z"
   },
   {
    "duration": 281,
    "start_time": "2022-04-15T10:35:30.943Z"
   },
   {
    "duration": 298,
    "start_time": "2022-04-15T10:35:31.226Z"
   },
   {
    "duration": 242,
    "start_time": "2022-04-15T10:35:31.526Z"
   },
   {
    "duration": 425,
    "start_time": "2022-04-15T10:35:31.769Z"
   },
   {
    "duration": 13,
    "start_time": "2022-04-15T10:35:32.196Z"
   },
   {
    "duration": 70,
    "start_time": "2022-04-15T10:35:32.211Z"
   },
   {
    "duration": 28,
    "start_time": "2022-04-15T10:40:45.441Z"
   },
   {
    "duration": 1516,
    "start_time": "2022-04-15T10:41:40.404Z"
   },
   {
    "duration": 67,
    "start_time": "2022-04-15T10:41:41.922Z"
   },
   {
    "duration": 52,
    "start_time": "2022-04-15T10:41:41.990Z"
   },
   {
    "duration": 53,
    "start_time": "2022-04-15T10:41:42.044Z"
   },
   {
    "duration": 15,
    "start_time": "2022-04-15T10:41:42.099Z"
   },
   {
    "duration": 17,
    "start_time": "2022-04-15T10:41:42.115Z"
   },
   {
    "duration": 71,
    "start_time": "2022-04-15T10:41:42.133Z"
   },
   {
    "duration": 31,
    "start_time": "2022-04-15T10:41:42.205Z"
   },
   {
    "duration": 44,
    "start_time": "2022-04-15T10:41:42.238Z"
   },
   {
    "duration": 24,
    "start_time": "2022-04-15T10:41:42.285Z"
   },
   {
    "duration": 32,
    "start_time": "2022-04-15T10:41:42.311Z"
   },
   {
    "duration": 39,
    "start_time": "2022-04-15T10:41:42.345Z"
   },
   {
    "duration": 64,
    "start_time": "2022-04-15T10:41:42.385Z"
   },
   {
    "duration": 51,
    "start_time": "2022-04-15T10:41:42.451Z"
   },
   {
    "duration": 47,
    "start_time": "2022-04-15T10:41:42.504Z"
   },
   {
    "duration": 33,
    "start_time": "2022-04-15T10:41:42.574Z"
   },
   {
    "duration": 20,
    "start_time": "2022-04-15T10:41:42.609Z"
   },
   {
    "duration": 10,
    "start_time": "2022-04-15T10:41:42.632Z"
   },
   {
    "duration": 48,
    "start_time": "2022-04-15T10:41:42.644Z"
   },
   {
    "duration": 14,
    "start_time": "2022-04-15T10:41:42.694Z"
   },
   {
    "duration": 18,
    "start_time": "2022-04-15T10:41:42.709Z"
   },
   {
    "duration": 48,
    "start_time": "2022-04-15T10:41:42.729Z"
   },
   {
    "duration": 138,
    "start_time": "2022-04-15T10:41:42.779Z"
   },
   {
    "duration": 11,
    "start_time": "2022-04-15T10:41:42.919Z"
   },
   {
    "duration": 11,
    "start_time": "2022-04-15T10:41:42.932Z"
   },
   {
    "duration": 32,
    "start_time": "2022-04-15T10:41:42.945Z"
   },
   {
    "duration": 12,
    "start_time": "2022-04-15T10:41:42.979Z"
   },
   {
    "duration": 21,
    "start_time": "2022-04-15T10:41:42.995Z"
   },
   {
    "duration": 16,
    "start_time": "2022-04-15T10:41:43.017Z"
   },
   {
    "duration": 52,
    "start_time": "2022-04-15T10:41:43.035Z"
   },
   {
    "duration": 16,
    "start_time": "2022-04-15T10:41:43.088Z"
   },
   {
    "duration": 314,
    "start_time": "2022-04-15T10:41:43.106Z"
   },
   {
    "duration": 284,
    "start_time": "2022-04-15T10:41:43.421Z"
   },
   {
    "duration": 268,
    "start_time": "2022-04-15T10:41:43.707Z"
   },
   {
    "duration": 262,
    "start_time": "2022-04-15T10:41:43.977Z"
   },
   {
    "duration": 266,
    "start_time": "2022-04-15T10:41:44.240Z"
   },
   {
    "duration": 346,
    "start_time": "2022-04-15T10:41:44.508Z"
   },
   {
    "duration": 276,
    "start_time": "2022-04-15T10:41:44.856Z"
   },
   {
    "duration": 273,
    "start_time": "2022-04-15T10:41:45.133Z"
   },
   {
    "duration": 227,
    "start_time": "2022-04-15T10:41:45.407Z"
   },
   {
    "duration": 335,
    "start_time": "2022-04-15T10:41:45.636Z"
   },
   {
    "duration": 12,
    "start_time": "2022-04-15T10:41:45.972Z"
   },
   {
    "duration": 10,
    "start_time": "2022-04-15T10:41:45.985Z"
   },
   {
    "duration": 2801,
    "start_time": "2022-04-15T21:37:29.281Z"
   },
   {
    "duration": 160,
    "start_time": "2022-04-15T21:37:32.085Z"
   },
   {
    "duration": 96,
    "start_time": "2022-04-15T21:37:32.254Z"
   },
   {
    "duration": 116,
    "start_time": "2022-04-15T21:37:32.358Z"
   },
   {
    "duration": 49,
    "start_time": "2022-04-15T21:37:32.479Z"
   },
   {
    "duration": 86,
    "start_time": "2022-04-15T21:37:32.533Z"
   },
   {
    "duration": 118,
    "start_time": "2022-04-15T21:37:32.621Z"
   },
   {
    "duration": 58,
    "start_time": "2022-04-15T21:37:32.741Z"
   },
   {
    "duration": 116,
    "start_time": "2022-04-15T21:37:32.802Z"
   },
   {
    "duration": 48,
    "start_time": "2022-04-15T21:37:32.928Z"
   },
   {
    "duration": 69,
    "start_time": "2022-04-15T21:37:32.983Z"
   },
   {
    "duration": 42,
    "start_time": "2022-04-15T21:37:33.060Z"
   },
   {
    "duration": 142,
    "start_time": "2022-04-15T21:37:33.108Z"
   },
   {
    "duration": 57,
    "start_time": "2022-04-15T21:37:33.256Z"
   },
   {
    "duration": 66,
    "start_time": "2022-04-15T21:37:33.319Z"
   },
   {
    "duration": 84,
    "start_time": "2022-04-15T21:37:33.387Z"
   },
   {
    "duration": 43,
    "start_time": "2022-04-15T21:37:33.475Z"
   },
   {
    "duration": 55,
    "start_time": "2022-04-15T21:37:33.523Z"
   },
   {
    "duration": 27,
    "start_time": "2022-04-15T21:37:33.580Z"
   },
   {
    "duration": 59,
    "start_time": "2022-04-15T21:37:33.613Z"
   },
   {
    "duration": 34,
    "start_time": "2022-04-15T21:37:33.674Z"
   },
   {
    "duration": 71,
    "start_time": "2022-04-15T21:37:33.710Z"
   },
   {
    "duration": 231,
    "start_time": "2022-04-15T21:37:33.783Z"
   },
   {
    "duration": 19,
    "start_time": "2022-04-15T21:37:34.023Z"
   },
   {
    "duration": 30,
    "start_time": "2022-04-15T21:37:34.062Z"
   },
   {
    "duration": 49,
    "start_time": "2022-04-15T21:37:34.113Z"
   },
   {
    "duration": 26,
    "start_time": "2022-04-15T21:37:34.164Z"
   },
   {
    "duration": 64,
    "start_time": "2022-04-15T21:37:34.194Z"
   },
   {
    "duration": 42,
    "start_time": "2022-04-15T21:37:34.267Z"
   },
   {
    "duration": 47,
    "start_time": "2022-04-15T21:37:34.312Z"
   },
   {
    "duration": 46,
    "start_time": "2022-04-15T21:37:34.361Z"
   },
   {
    "duration": 415,
    "start_time": "2022-04-15T21:37:34.409Z"
   },
   {
    "duration": 401,
    "start_time": "2022-04-15T21:37:34.830Z"
   },
   {
    "duration": 390,
    "start_time": "2022-04-15T21:37:35.237Z"
   },
   {
    "duration": 373,
    "start_time": "2022-04-15T21:37:35.633Z"
   },
   {
    "duration": 435,
    "start_time": "2022-04-15T21:37:36.012Z"
   },
   {
    "duration": 560,
    "start_time": "2022-04-15T21:37:36.449Z"
   },
   {
    "duration": 466,
    "start_time": "2022-04-15T21:37:37.015Z"
   },
   {
    "duration": 453,
    "start_time": "2022-04-15T21:37:37.486Z"
   },
   {
    "duration": 380,
    "start_time": "2022-04-15T21:37:37.946Z"
   },
   {
    "duration": 556,
    "start_time": "2022-04-15T21:37:38.331Z"
   },
   {
    "duration": 22,
    "start_time": "2022-04-15T21:37:38.891Z"
   },
   {
    "duration": 27,
    "start_time": "2022-04-15T21:37:38.920Z"
   }
  ],
  "kernelspec": {
   "display_name": "Python 3",
   "language": "python",
   "name": "python3"
  },
  "language_info": {
   "codemirror_mode": {
    "name": "ipython",
    "version": 3
   },
   "file_extension": ".py",
   "mimetype": "text/x-python",
   "name": "python",
   "nbconvert_exporter": "python",
   "pygments_lexer": "ipython3",
   "version": "3.7.6"
  },
  "toc": {
   "base_numbering": 1,
   "nav_menu": {
    "height": "482.535px",
    "width": "443.524px"
   },
   "number_sections": true,
   "sideBar": true,
   "skip_h1_title": true,
   "title_cell": "Table of Contents",
   "title_sidebar": "Contents",
   "toc_cell": false,
   "toc_position": {
    "height": "calc(100% - 180px)",
    "left": "10px",
    "top": "150px",
    "width": "309.531px"
   },
   "toc_section_display": true,
   "toc_window_display": true
  }
 },
 "nbformat": 4,
 "nbformat_minor": 2
}
